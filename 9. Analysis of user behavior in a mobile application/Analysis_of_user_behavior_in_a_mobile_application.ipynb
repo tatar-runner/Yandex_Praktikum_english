{
 "cells": [
  {
   "cell_type": "markdown",
   "metadata": {},
   "source": [
    "# Analysis of user behavior in a mobile application\n",
    "\n",
    "Our startup sells food. We need to figure out how users of your mobile app behave. Let's study the sales funnel. Find out how users reach a purchase. Let's find out how many users reach the purchase, and how many get stuck on the previous steps and on which ones.\n",
    "\n",
    "After that, we examine the results of the A/A/B experiment. Designers wanted to change fonts throughout the application, and managers were afraid that users would be unusual. We agreed to make a decision based on the results of the A/A/B test. Users were divided into 3 groups: 2 control groups with old fonts and one experimental group with new ones. Let's find out which font is better.\n",
    "\n",
    "\n",
    "**Work Plan**\n",
    "\n",
    "- **Step 1. Let's open the data files and study the general information**\n",
    "\n",
    "    The path to the file:\n",
    "    - /datasets/logs_exp.csv\n",
    "        \n",
    "        \n",
    "- **Step 2. Prepare the data**\n",
    "     \n",
    "    - Replace the column names, if necessary;\n",
    "    - Check gaps and data types;\n",
    "    - Let's add a date and time column, as well as a separate date column.\n",
    "    \n",
    "    \n",
    "- **Step 3. Examine and validate the data**\n",
    "\n",
    "    - Find out how many events are in the log;\n",
    "    - Find out how many users are in the log;\n",
    "    - Find out how many events per user on average;\n",
    "    - Determine the data for which period we have. Find the maximum and minimum date. Let's build a histogram by date and time. Let's find out if we can be sure that we have equally complete data for the entire period. Technically, in the logs of new days for some users, events from the past can “reach” - this can “skew the data”. Let's determine from what moment the data is complete and discard the older ones. Let's determine the data for which period of time we actually have;\n",
    "    - Find out how many events and users we have lost by discarding the old data;\n",
    "    - Let's check that we have users from all three experimental groups.\n",
    "    \n",
    "    \n",
    "- **Step 4. Explore the funnel of events**\n",
    "\n",
    "    - Let's see what events are in the logs, how often they occur. Sort events by frequency;\n",
    "    - Let's count how many users made each of these events. Sort the events by the number of users. Let's calculate the share of users who have made an event at least once;\n",
    "    - Consider the order in which events occur. Let's find out if they all line up in a sequential chain;\n",
    "    - Based on the funnel of events, we calculate what proportion of users go to the next step of the funnel (from the number of users at the previous one). That is, for the sequence of events A → B → C, we calculate the ratio of the number of users with event B to the number of users with event A, as well as the ratio of the number of users with event C to the number of users with event B;\n",
    "    - Find out at which step the most users are lost;\n",
    "    - Determine what proportion of users reach the payment from the first event.\n",
    "         \n",
    "      \n",
    "- **Step 5. Examine the results of the experiment**\n",
    "\n",
    "    - Determine how many users are in each experimental group;\n",
    "    - There are 2 control groups for the A/A experiment to check the correctness of all mechanisms and calculations. Let's check if the statistical tests find a difference between samples 246 and 247;\n",
    "    - Choose the most popular event. Let's count the number of users who committed this event in each of the control groups. Let's calculate the share of users who made this event. Let's check whether the difference between the groups is statistically significant. Let's do the same for all other events (it's convenient to wrap the check in a separate function). Let's find out whether it is possible to say that the division into groups works correctly;\n",
    "    - Let's do the same with the group with the changed font. Let's compare the results with each of the control groups separately for each event. Compare the results with the combined control group. Let us find out what conclusions can be drawn from the experiment;\n",
    "    - Let's determine what level of significance we chose when testing the statistical hypotheses above. Let's count how many tests of statistical hypotheses we have done. At a significance level of 0.1, a false result can be obtained every tenth time. Determine what level of significance should be applied. Let's check the conclusions.\n",
    "    \n",
    "\n",
    "- **Step 6. Write a general conclusion**\n",
    "\n",
    "\n",
    "- **Description of data**\n",
    "\n",
    "   File `/datasets/logs_exp.csv` (user event log):\n",
    "\n",
    "    - `EventName` — event name\n",
    "    - `DeviceIDHash` - unique user ID\n",
    "    - `EventTimestamp` — event time;\n",
    "    - `ExpId` - the number of the experiment: 246 and 247 are the control groups, and 248 is the experimental group."
   ]
  },
  {
   "cell_type": "markdown",
   "metadata": {},
   "source": [
    "## Downloading data and exploring general information\n",
    "Let's load the data into a variable and examine the general information.\n",
    "\n",
    "The path to the file:\n",
    "  - /datasets/logs_exp.csv."
   ]
  },
  {
   "cell_type": "code",
   "execution_count": 1,
   "metadata": {},
   "outputs": [],
   "source": [
    "# import required libraries\n",
    "import pandas as pd \n",
    "import numpy as np\n",
    "import datetime as dt\n",
    "import os\n",
    "import matplotlib.pyplot as plt\n",
    "import scipy.stats as stats\n",
    "import math as mth"
   ]
  },
  {
   "cell_type": "code",
   "execution_count": 2,
   "metadata": {},
   "outputs": [
    {
     "data": {
      "text/html": [
       "<div>\n",
       "<style scoped>\n",
       "    .dataframe tbody tr th:only-of-type {\n",
       "        vertical-align: middle;\n",
       "    }\n",
       "\n",
       "    .dataframe tbody tr th {\n",
       "        vertical-align: top;\n",
       "    }\n",
       "\n",
       "    .dataframe thead th {\n",
       "        text-align: right;\n",
       "    }\n",
       "</style>\n",
       "<table border=\"1\" class=\"dataframe\">\n",
       "  <thead>\n",
       "    <tr style=\"text-align: right;\">\n",
       "      <th></th>\n",
       "      <th>EventName</th>\n",
       "      <th>DeviceIDHash</th>\n",
       "      <th>EventTimestamp</th>\n",
       "      <th>ExpId</th>\n",
       "    </tr>\n",
       "  </thead>\n",
       "  <tbody>\n",
       "    <tr>\n",
       "      <th>0</th>\n",
       "      <td>MainScreenAppear</td>\n",
       "      <td>4575588528974610257</td>\n",
       "      <td>1564029816</td>\n",
       "      <td>246</td>\n",
       "    </tr>\n",
       "    <tr>\n",
       "      <th>1</th>\n",
       "      <td>MainScreenAppear</td>\n",
       "      <td>7416695313311560658</td>\n",
       "      <td>1564053102</td>\n",
       "      <td>246</td>\n",
       "    </tr>\n",
       "    <tr>\n",
       "      <th>2</th>\n",
       "      <td>PaymentScreenSuccessful</td>\n",
       "      <td>3518123091307005509</td>\n",
       "      <td>1564054127</td>\n",
       "      <td>248</td>\n",
       "    </tr>\n",
       "    <tr>\n",
       "      <th>3</th>\n",
       "      <td>CartScreenAppear</td>\n",
       "      <td>3518123091307005509</td>\n",
       "      <td>1564054127</td>\n",
       "      <td>248</td>\n",
       "    </tr>\n",
       "    <tr>\n",
       "      <th>4</th>\n",
       "      <td>PaymentScreenSuccessful</td>\n",
       "      <td>6217807653094995999</td>\n",
       "      <td>1564055322</td>\n",
       "      <td>248</td>\n",
       "    </tr>\n",
       "  </tbody>\n",
       "</table>\n",
       "</div>"
      ],
      "text/plain": [
       "                 EventName         DeviceIDHash  EventTimestamp  ExpId\n",
       "0         MainScreenAppear  4575588528974610257      1564029816    246\n",
       "1         MainScreenAppear  7416695313311560658      1564053102    246\n",
       "2  PaymentScreenSuccessful  3518123091307005509      1564054127    248\n",
       "3         CartScreenAppear  3518123091307005509      1564054127    248\n",
       "4  PaymentScreenSuccessful  6217807653094995999      1564055322    248"
      ]
     },
     "metadata": {},
     "output_type": "display_data"
    }
   ],
   "source": [
    "# reading a data file and saving to a variable\n",
    "pth1 = '/datasets/logs_exp.csv'\n",
    "pth2 = 'C:/Users/tatar/downloads/logs_exp.csv'\n",
    "\n",
    "if os.path.exists(pth1):\n",
    "    df = pd.read_csv(pth1, sep='\\t')\n",
    "elif os.path.exists(pth2):\n",
    "    df = pd.read_csv(pth2, sep='\\t')\n",
    "else:\n",
    "    print('Something is wrong')\n",
    "    \n",
    "# print the first 5 rows of the table\n",
    "display(df.head())"
   ]
  },
  {
   "cell_type": "code",
   "execution_count": 3,
   "metadata": {},
   "outputs": [
    {
     "name": "stdout",
     "output_type": "stream",
     "text": [
      "<class 'pandas.core.frame.DataFrame'>\n",
      "RangeIndex: 244126 entries, 0 to 244125\n",
      "Data columns (total 4 columns):\n",
      " #   Column          Non-Null Count   Dtype \n",
      "---  ------          --------------   ----- \n",
      " 0   EventName       244126 non-null  object\n",
      " 1   DeviceIDHash    244126 non-null  int64 \n",
      " 2   EventTimestamp  244126 non-null  int64 \n",
      " 3   ExpId           244126 non-null  int64 \n",
      "dtypes: int64(3), object(1)\n",
      "memory usage: 7.5+ MB\n"
     ]
    }
   ],
   "source": [
    "# getting general information about the data\n",
    "df.info()"
   ]
  },
  {
   "cell_type": "code",
   "execution_count": 4,
   "metadata": {},
   "outputs": [
    {
     "data": {
      "text/plain": [
       "413"
      ]
     },
     "execution_count": 4,
     "metadata": {},
     "output_type": "execute_result"
    }
   ],
   "source": [
    "# counting duplicate rows in a table\n",
    "df.duplicated().sum()"
   ]
  },
  {
   "cell_type": "markdown",
   "metadata": {},
   "source": [
    "**Conclusions**\n",
    "\n",
    "* It is necessary to replace the column names, bring them to lower case and the correct style;\n",
    "* It is necessary to cast the data in the column containing information about the date and time to the correct type;\n",
    "* It is necessary to process duplicates;\n",
    "* There are no missing values."
   ]
  },
  {
   "cell_type": "markdown",
   "metadata": {},
   "source": [
    "## Data preparation\n",
    "Let's replace the column names, bring them to lowercase and the correct style."
   ]
  },
  {
   "cell_type": "code",
   "execution_count": 5,
   "metadata": {},
   "outputs": [
    {
     "data": {
      "text/plain": [
       "Index(['event_name', 'user_id', 'event_timestamp', 'exp_id'], dtype='object')"
      ]
     },
     "execution_count": 5,
     "metadata": {},
     "output_type": "execute_result"
    }
   ],
   "source": [
    "# renaming columns\n",
    "df = df.rename(columns={'EventName': 'event_name', 'DeviceIDHash': 'user_id', \n",
    "                        'EventTimestamp': 'event_timestamp', 'ExpId': 'exp_id'}) \n",
    "\n",
    "# check\n",
    "df.columns"
   ]
  },
  {
   "cell_type": "markdown",
   "metadata": {},
   "source": [
    "We will process duplicates."
   ]
  },
  {
   "cell_type": "code",
   "execution_count": 6,
   "metadata": {},
   "outputs": [
    {
     "name": "stdout",
     "output_type": "stream",
     "text": [
      "Percentage of duplicate rows in a dataframe: 0.002\n"
     ]
    }
   ],
   "source": [
    "print('Percentage of duplicate rows in a dataframe:', round(df.duplicated().sum()/len(df['event_name']), 3))"
   ]
  },
  {
   "cell_type": "markdown",
   "metadata": {},
   "source": [
    "Since the proportion of duplicate rows in a dataframe is negligible, you can simply remove them."
   ]
  },
  {
   "cell_type": "code",
   "execution_count": 7,
   "metadata": {},
   "outputs": [
    {
     "data": {
      "text/plain": [
       "0"
      ]
     },
     "execution_count": 7,
     "metadata": {},
     "output_type": "execute_result"
    }
   ],
   "source": [
    "# removing duplicates\n",
    "df = (\n",
    "    df\n",
    "    .drop_duplicates()\n",
    "    .reset_index(drop=True)\n",
    ")\n",
    "\n",
    "# check\n",
    "df.duplicated().sum()"
   ]
  },
  {
   "cell_type": "markdown",
   "metadata": {},
   "source": [
    "Let's deal with the dates. Let's add a column with the date and time of the event, the date of the event, and the month of the event."
   ]
  },
  {
   "cell_type": "code",
   "execution_count": 8,
   "metadata": {},
   "outputs": [
    {
     "data": {
      "text/html": [
       "<div>\n",
       "<style scoped>\n",
       "    .dataframe tbody tr th:only-of-type {\n",
       "        vertical-align: middle;\n",
       "    }\n",
       "\n",
       "    .dataframe tbody tr th {\n",
       "        vertical-align: top;\n",
       "    }\n",
       "\n",
       "    .dataframe thead th {\n",
       "        text-align: right;\n",
       "    }\n",
       "</style>\n",
       "<table border=\"1\" class=\"dataframe\">\n",
       "  <thead>\n",
       "    <tr style=\"text-align: right;\">\n",
       "      <th></th>\n",
       "      <th>event_name</th>\n",
       "      <th>user_id</th>\n",
       "      <th>event_timestamp</th>\n",
       "      <th>exp_id</th>\n",
       "      <th>event_datetime</th>\n",
       "      <th>event_date</th>\n",
       "      <th>event_month</th>\n",
       "    </tr>\n",
       "  </thead>\n",
       "  <tbody>\n",
       "    <tr>\n",
       "      <th>0</th>\n",
       "      <td>MainScreenAppear</td>\n",
       "      <td>4575588528974610257</td>\n",
       "      <td>1564029816</td>\n",
       "      <td>246</td>\n",
       "      <td>2019-07-25 04:43:36</td>\n",
       "      <td>2019-07-25</td>\n",
       "      <td>2019-07-01</td>\n",
       "    </tr>\n",
       "    <tr>\n",
       "      <th>1</th>\n",
       "      <td>MainScreenAppear</td>\n",
       "      <td>7416695313311560658</td>\n",
       "      <td>1564053102</td>\n",
       "      <td>246</td>\n",
       "      <td>2019-07-25 11:11:42</td>\n",
       "      <td>2019-07-25</td>\n",
       "      <td>2019-07-01</td>\n",
       "    </tr>\n",
       "    <tr>\n",
       "      <th>2</th>\n",
       "      <td>PaymentScreenSuccessful</td>\n",
       "      <td>3518123091307005509</td>\n",
       "      <td>1564054127</td>\n",
       "      <td>248</td>\n",
       "      <td>2019-07-25 11:28:47</td>\n",
       "      <td>2019-07-25</td>\n",
       "      <td>2019-07-01</td>\n",
       "    </tr>\n",
       "    <tr>\n",
       "      <th>3</th>\n",
       "      <td>CartScreenAppear</td>\n",
       "      <td>3518123091307005509</td>\n",
       "      <td>1564054127</td>\n",
       "      <td>248</td>\n",
       "      <td>2019-07-25 11:28:47</td>\n",
       "      <td>2019-07-25</td>\n",
       "      <td>2019-07-01</td>\n",
       "    </tr>\n",
       "    <tr>\n",
       "      <th>4</th>\n",
       "      <td>PaymentScreenSuccessful</td>\n",
       "      <td>6217807653094995999</td>\n",
       "      <td>1564055322</td>\n",
       "      <td>248</td>\n",
       "      <td>2019-07-25 11:48:42</td>\n",
       "      <td>2019-07-25</td>\n",
       "      <td>2019-07-01</td>\n",
       "    </tr>\n",
       "  </tbody>\n",
       "</table>\n",
       "</div>"
      ],
      "text/plain": [
       "                event_name              user_id  event_timestamp  exp_id  \\\n",
       "0         MainScreenAppear  4575588528974610257       1564029816     246   \n",
       "1         MainScreenAppear  7416695313311560658       1564053102     246   \n",
       "2  PaymentScreenSuccessful  3518123091307005509       1564054127     248   \n",
       "3         CartScreenAppear  3518123091307005509       1564054127     248   \n",
       "4  PaymentScreenSuccessful  6217807653094995999       1564055322     248   \n",
       "\n",
       "       event_datetime  event_date event_month  \n",
       "0 2019-07-25 04:43:36  2019-07-25  2019-07-01  \n",
       "1 2019-07-25 11:11:42  2019-07-25  2019-07-01  \n",
       "2 2019-07-25 11:28:47  2019-07-25  2019-07-01  \n",
       "3 2019-07-25 11:28:47  2019-07-25  2019-07-01  \n",
       "4 2019-07-25 11:48:42  2019-07-25  2019-07-01  "
      ]
     },
     "execution_count": 8,
     "metadata": {},
     "output_type": "execute_result"
    }
   ],
   "source": [
    "df['event_datetime'] = pd.to_datetime(df['event_timestamp'], unit='s')\n",
    "df['event_date'] = df['event_datetime'].astype('datetime64[D]')\n",
    "df['event_date'] = df['event_date'].dt.date\n",
    "df['event_month'] = df['event_date'].astype('datetime64[M]')\n",
    "df.head() "
   ]
  },
  {
   "cell_type": "markdown",
   "metadata": {},
   "source": [
    "**Conclusions**\n",
    "\n",
    "So we did the following:\n",
    "* Replaced the names of the columns, brought them to lower case and the correct type;\n",
    "* Processed duplicates;\n",
    "* Resulted in the correct type of data in columns containing date and time information. Added date and time columns, as well as a separate date column."
   ]
  },
  {
   "cell_type": "markdown",
   "metadata": {},
   "source": [
    "## Data validation\n",
    "First, let's find out how many events are in the log."
   ]
  },
  {
   "cell_type": "code",
   "execution_count": 9,
   "metadata": {},
   "outputs": [
    {
     "name": "stdout",
     "output_type": "stream",
     "text": [
      "Total events in the log: 243713\n"
     ]
    }
   ],
   "source": [
    "print('Total events in the log:', df.shape[0])"
   ]
  },
  {
   "cell_type": "markdown",
   "metadata": {},
   "source": [
    "Find out how many users are in the log."
   ]
  },
  {
   "cell_type": "code",
   "execution_count": 10,
   "metadata": {},
   "outputs": [
    {
     "name": "stdout",
     "output_type": "stream",
     "text": [
      "Total unique users in the log: 7551\n"
     ]
    }
   ],
   "source": [
    "print('Total unique users in the log:', df['user_id'].nunique())"
   ]
  },
  {
   "cell_type": "markdown",
   "metadata": {},
   "source": [
    "Find out how many events per user on average."
   ]
  },
  {
   "cell_type": "code",
   "execution_count": 11,
   "metadata": {},
   "outputs": [
    {
     "name": "stdout",
     "output_type": "stream",
     "text": [
      "Average number of events per user: 32\n"
     ]
    }
   ],
   "source": [
    "# we will form an auxiliary table with information\n",
    "# by number of events per user\n",
    "events_by_users = (\n",
    "    df\n",
    "    .groupby('user_id')\n",
    "    .agg({'event_name': 'count'})\n",
    "    .rename(columns={'event_name':'number_of_events'})\n",
    "    .reset_index()\n",
    ")\n",
    "print('Average number of events per user: {:.0f}'\n",
    "      .format(events_by_users['number_of_events'].mean()))"
   ]
  },
  {
   "cell_type": "markdown",
   "metadata": {},
   "source": [
    "Now let's calculate the median number of events per user."
   ]
  },
  {
   "cell_type": "code",
   "execution_count": 12,
   "metadata": {},
   "outputs": [
    {
     "name": "stdout",
     "output_type": "stream",
     "text": [
      "Median number of events per user: 20\n"
     ]
    }
   ],
   "source": [
    "print('Median number of events per user: {:.0f}'.\n",
    "      format(events_by_users['number_of_events'].median()))"
   ]
  },
  {
   "cell_type": "markdown",
   "metadata": {},
   "source": [
    "Let's look at the general information on the distribution of the number of events per user."
   ]
  },
  {
   "cell_type": "code",
   "execution_count": 13,
   "metadata": {},
   "outputs": [
    {
     "data": {
      "text/plain": [
       "count    7551.000000\n",
       "mean       32.275593\n",
       "std        65.154219\n",
       "min         1.000000\n",
       "25%         9.000000\n",
       "50%        20.000000\n",
       "75%        37.000000\n",
       "max      2307.000000\n",
       "Name: number_of_events, dtype: float64"
      ]
     },
     "execution_count": 13,
     "metadata": {},
     "output_type": "execute_result"
    }
   ],
   "source": [
    "# output of general information about the distribution\n",
    "# number of events per user\n",
    "events_by_users['number_of_events'].describe()"
   ]
  },
  {
   "cell_type": "markdown",
   "metadata": {},
   "source": [
    "The maximum number of events per user is 2307, the standard deviation is 65.15. This suggests that we have data that is not normally distributed, there are outliers (users who perform an abnormally large number of actions). Let's calculate the 90th, 95th and 99th percentiles of the number of events per user."
   ]
  },
  {
   "cell_type": "code",
   "execution_count": 14,
   "metadata": {},
   "outputs": [
    {
     "name": "stdout",
     "output_type": "stream",
     "text": [
      "90th, 95th and 99th percentile events per user: [ 64.   89.  200.5]\n"
     ]
    }
   ],
   "source": [
    "print('90th, 95th and 99th percentile events per user:', \n",
    "      np.percentile(events_by_users['number_of_events'], [90, 95, 99])) "
   ]
  },
  {
   "cell_type": "markdown",
   "metadata": {},
   "source": [
    "It is customary to filter out from 1% to 5% of observations with extreme values. Let's remove from the original dataframe users who have performed more than 90 actions (this is a little less than 5% of observations)."
   ]
  },
  {
   "cell_type": "code",
   "execution_count": 15,
   "metadata": {},
   "outputs": [
    {
     "data": {
      "text/html": [
       "<div>\n",
       "<style scoped>\n",
       "    .dataframe tbody tr th:only-of-type {\n",
       "        vertical-align: middle;\n",
       "    }\n",
       "\n",
       "    .dataframe tbody tr th {\n",
       "        vertical-align: top;\n",
       "    }\n",
       "\n",
       "    .dataframe thead th {\n",
       "        text-align: right;\n",
       "    }\n",
       "</style>\n",
       "<table border=\"1\" class=\"dataframe\">\n",
       "  <thead>\n",
       "    <tr style=\"text-align: right;\">\n",
       "      <th></th>\n",
       "      <th>event_name</th>\n",
       "      <th>user_id</th>\n",
       "      <th>event_timestamp</th>\n",
       "      <th>exp_id</th>\n",
       "      <th>event_datetime</th>\n",
       "      <th>event_date</th>\n",
       "      <th>event_month</th>\n",
       "    </tr>\n",
       "  </thead>\n",
       "  <tbody>\n",
       "    <tr>\n",
       "      <th>0</th>\n",
       "      <td>MainScreenAppear</td>\n",
       "      <td>4575588528974610257</td>\n",
       "      <td>1564029816</td>\n",
       "      <td>246</td>\n",
       "      <td>2019-07-25 04:43:36</td>\n",
       "      <td>2019-07-25</td>\n",
       "      <td>2019-07-01</td>\n",
       "    </tr>\n",
       "    <tr>\n",
       "      <th>1</th>\n",
       "      <td>MainScreenAppear</td>\n",
       "      <td>7416695313311560658</td>\n",
       "      <td>1564053102</td>\n",
       "      <td>246</td>\n",
       "      <td>2019-07-25 11:11:42</td>\n",
       "      <td>2019-07-25</td>\n",
       "      <td>2019-07-01</td>\n",
       "    </tr>\n",
       "    <tr>\n",
       "      <th>2</th>\n",
       "      <td>PaymentScreenSuccessful</td>\n",
       "      <td>3518123091307005509</td>\n",
       "      <td>1564054127</td>\n",
       "      <td>248</td>\n",
       "      <td>2019-07-25 11:28:47</td>\n",
       "      <td>2019-07-25</td>\n",
       "      <td>2019-07-01</td>\n",
       "    </tr>\n",
       "    <tr>\n",
       "      <th>3</th>\n",
       "      <td>CartScreenAppear</td>\n",
       "      <td>3518123091307005509</td>\n",
       "      <td>1564054127</td>\n",
       "      <td>248</td>\n",
       "      <td>2019-07-25 11:28:47</td>\n",
       "      <td>2019-07-25</td>\n",
       "      <td>2019-07-01</td>\n",
       "    </tr>\n",
       "    <tr>\n",
       "      <th>4</th>\n",
       "      <td>PaymentScreenSuccessful</td>\n",
       "      <td>6217807653094995999</td>\n",
       "      <td>1564055322</td>\n",
       "      <td>248</td>\n",
       "      <td>2019-07-25 11:48:42</td>\n",
       "      <td>2019-07-25</td>\n",
       "      <td>2019-07-01</td>\n",
       "    </tr>\n",
       "  </tbody>\n",
       "</table>\n",
       "</div>"
      ],
      "text/plain": [
       "                event_name              user_id  event_timestamp  exp_id  \\\n",
       "0         MainScreenAppear  4575588528974610257       1564029816     246   \n",
       "1         MainScreenAppear  7416695313311560658       1564053102     246   \n",
       "2  PaymentScreenSuccessful  3518123091307005509       1564054127     248   \n",
       "3         CartScreenAppear  3518123091307005509       1564054127     248   \n",
       "4  PaymentScreenSuccessful  6217807653094995999       1564055322     248   \n",
       "\n",
       "       event_datetime  event_date event_month  \n",
       "0 2019-07-25 04:43:36  2019-07-25  2019-07-01  \n",
       "1 2019-07-25 11:11:42  2019-07-25  2019-07-01  \n",
       "2 2019-07-25 11:28:47  2019-07-25  2019-07-01  \n",
       "3 2019-07-25 11:28:47  2019-07-25  2019-07-01  \n",
       "4 2019-07-25 11:48:42  2019-07-25  2019-07-01  "
      ]
     },
     "execution_count": 15,
     "metadata": {},
     "output_type": "execute_result"
    }
   ],
   "source": [
    "# cleaning the dataframe from anomalies\n",
    "df_clean = df.loc[~(df['user_id'].isin(\n",
    "    events_by_users.loc[events_by_users['number_of_events'] > 90,\n",
    "                        'user_id']))]\n",
    "df_clean.head()"
   ]
  },
  {
   "cell_type": "markdown",
   "metadata": {},
   "source": [
    "Let's determine the data for which period we have."
   ]
  },
  {
   "cell_type": "code",
   "execution_count": 16,
   "metadata": {},
   "outputs": [
    {
     "name": "stdout",
     "output_type": "stream",
     "text": [
      "Minimum date: 2019-07-25\n",
      "Maximum date: 2019-08-07\n"
     ]
    }
   ],
   "source": [
    "print ('Minimum date:', df_clean['event_date'].min())\n",
    "print ('Maximum date:', df_clean['event_date'].max())"
   ]
  },
  {
   "cell_type": "markdown",
   "metadata": {},
   "source": [
    "As a result, we have data for two weeks. Let's build a histogram by date and time."
   ]
  },
  {
   "cell_type": "code",
   "execution_count": 17,
   "metadata": {},
   "outputs": [
    {
     "data": {
      "image/png": "[encoded data removed]",
      "text/plain": [
       "<Figure size 1584x720 with 1 Axes>"
      ]
     },
     "metadata": {
      "needs_background": "light"
     },
     "output_type": "display_data"
    }
   ],
   "source": [
    "plt.figure(figsize=(22,10))\n",
    "df_clean['event_datetime'].hist(bins=50)\n",
    "plt.title('Histogram by date and time', fontsize=20)\n",
    "plt.ylabel('Frequency', fontsize=18)\n",
    "plt.tick_params(labelsize=16)\n",
    "plt.xlabel('Date', fontsize=18)\n",
    "plt.xticks(rotation=45)\n",
    "plt.show()"
   ]
  },
  {
   "cell_type": "markdown",
   "metadata": {},
   "source": [
    "According to the histogram, we have no data for the first week. In this regard, it would be more correct to \"cut off\" the data for July and use only the data for August only."
   ]
  },
  {
   "cell_type": "code",
   "execution_count": 18,
   "metadata": {},
   "outputs": [
    {
     "data": {
      "text/html": [
       "<div>\n",
       "<style scoped>\n",
       "    .dataframe tbody tr th:only-of-type {\n",
       "        vertical-align: middle;\n",
       "    }\n",
       "\n",
       "    .dataframe tbody tr th {\n",
       "        vertical-align: top;\n",
       "    }\n",
       "\n",
       "    .dataframe thead th {\n",
       "        text-align: right;\n",
       "    }\n",
       "</style>\n",
       "<table border=\"1\" class=\"dataframe\">\n",
       "  <thead>\n",
       "    <tr style=\"text-align: right;\">\n",
       "      <th></th>\n",
       "      <th>event_name</th>\n",
       "      <th>user_id</th>\n",
       "      <th>event_timestamp</th>\n",
       "      <th>exp_id</th>\n",
       "      <th>event_datetime</th>\n",
       "      <th>event_date</th>\n",
       "      <th>event_month</th>\n",
       "    </tr>\n",
       "  </thead>\n",
       "  <tbody>\n",
       "    <tr>\n",
       "      <th>2826</th>\n",
       "      <td>Tutorial</td>\n",
       "      <td>3737462046622621720</td>\n",
       "      <td>1564618048</td>\n",
       "      <td>246</td>\n",
       "      <td>2019-08-01 00:07:28</td>\n",
       "      <td>2019-08-01</td>\n",
       "      <td>2019-08-01</td>\n",
       "    </tr>\n",
       "    <tr>\n",
       "      <th>2827</th>\n",
       "      <td>MainScreenAppear</td>\n",
       "      <td>3737462046622621720</td>\n",
       "      <td>1564618080</td>\n",
       "      <td>246</td>\n",
       "      <td>2019-08-01 00:08:00</td>\n",
       "      <td>2019-08-01</td>\n",
       "      <td>2019-08-01</td>\n",
       "    </tr>\n",
       "    <tr>\n",
       "      <th>2828</th>\n",
       "      <td>MainScreenAppear</td>\n",
       "      <td>3737462046622621720</td>\n",
       "      <td>1564618135</td>\n",
       "      <td>246</td>\n",
       "      <td>2019-08-01 00:08:55</td>\n",
       "      <td>2019-08-01</td>\n",
       "      <td>2019-08-01</td>\n",
       "    </tr>\n",
       "    <tr>\n",
       "      <th>2829</th>\n",
       "      <td>OffersScreenAppear</td>\n",
       "      <td>3737462046622621720</td>\n",
       "      <td>1564618138</td>\n",
       "      <td>246</td>\n",
       "      <td>2019-08-01 00:08:58</td>\n",
       "      <td>2019-08-01</td>\n",
       "      <td>2019-08-01</td>\n",
       "    </tr>\n",
       "    <tr>\n",
       "      <th>2830</th>\n",
       "      <td>MainScreenAppear</td>\n",
       "      <td>1433840883824088890</td>\n",
       "      <td>1564618139</td>\n",
       "      <td>247</td>\n",
       "      <td>2019-08-01 00:08:59</td>\n",
       "      <td>2019-08-01</td>\n",
       "      <td>2019-08-01</td>\n",
       "    </tr>\n",
       "  </tbody>\n",
       "</table>\n",
       "</div>"
      ],
      "text/plain": [
       "              event_name              user_id  event_timestamp  exp_id  \\\n",
       "2826            Tutorial  3737462046622621720       1564618048     246   \n",
       "2827    MainScreenAppear  3737462046622621720       1564618080     246   \n",
       "2828    MainScreenAppear  3737462046622621720       1564618135     246   \n",
       "2829  OffersScreenAppear  3737462046622621720       1564618138     246   \n",
       "2830    MainScreenAppear  1433840883824088890       1564618139     247   \n",
       "\n",
       "          event_datetime  event_date event_month  \n",
       "2826 2019-08-01 00:07:28  2019-08-01  2019-08-01  \n",
       "2827 2019-08-01 00:08:00  2019-08-01  2019-08-01  \n",
       "2828 2019-08-01 00:08:55  2019-08-01  2019-08-01  \n",
       "2829 2019-08-01 00:08:58  2019-08-01  2019-08-01  \n",
       "2830 2019-08-01 00:08:59  2019-08-01  2019-08-01  "
      ]
     },
     "execution_count": 18,
     "metadata": {},
     "output_type": "execute_result"
    }
   ],
   "source": [
    "# formation of an auxiliary dataframe\n",
    "# with data for August\n",
    "df_filtered = df_clean.loc[df['event_month'] == '2019-08-01']\n",
    "\n",
    "df_filtered.head()"
   ]
  },
  {
   "cell_type": "markdown",
   "metadata": {},
   "source": [
    "We previously determined that we have 243713 events in the log and 7551 unique users. Let's find out how many events and users we have lost by discarding the old data."
   ]
  },
  {
   "cell_type": "code",
   "execution_count": 19,
   "metadata": {},
   "outputs": [
    {
     "name": "stdout",
     "output_type": "stream",
     "text": [
      "Total events in the log after \"cleaning\": 171321\n",
      "The number of unique users of the application after \"cleaning\": 7173\n"
     ]
    }
   ],
   "source": [
    "print('Total events in the log after \"cleaning\":', df_filtered.shape[0])\n",
    "print('The number of unique users of the application after \"cleaning\":', df_filtered['user_id'].nunique())"
   ]
  },
  {
   "cell_type": "code",
   "execution_count": 20,
   "metadata": {},
   "outputs": [
    {
     "name": "stdout",
     "output_type": "stream",
     "text": [
      "Losses in the number of events after \"cleaning\": 2410\n",
      "Losses in the number of unique users of the application after \"cleaning\": 17\n"
     ]
    }
   ],
   "source": [
    "print('Losses in the number of events after \"cleaning\":', df_clean.shape[0] - df_filtered.shape[0])\n",
    "print('Losses in the number of unique users of the application after \"cleaning\":', \n",
    "      df_clean['user_id'].nunique() - df_filtered['user_id'].nunique())"
   ]
  },
  {
   "cell_type": "markdown",
   "metadata": {},
   "source": [
    "Losses in the number of events and unique users in the dataframe after the \"cleaning\" are negligible, they can be considered insignificant.\n",
    "\n",
    "Let's check that we have users from all three experimental groups."
   ]
  },
  {
   "cell_type": "code",
   "execution_count": 21,
   "metadata": {},
   "outputs": [
    {
     "data": {
      "text/html": [
       "<div>\n",
       "<style scoped>\n",
       "    .dataframe tbody tr th:only-of-type {\n",
       "        vertical-align: middle;\n",
       "    }\n",
       "\n",
       "    .dataframe tbody tr th {\n",
       "        vertical-align: top;\n",
       "    }\n",
       "\n",
       "    .dataframe thead th {\n",
       "        text-align: right;\n",
       "    }\n",
       "</style>\n",
       "<table border=\"1\" class=\"dataframe\">\n",
       "  <thead>\n",
       "    <tr style=\"text-align: right;\">\n",
       "      <th></th>\n",
       "      <th>number_of_users</th>\n",
       "    </tr>\n",
       "    <tr>\n",
       "      <th>exp_id</th>\n",
       "      <th></th>\n",
       "    </tr>\n",
       "  </thead>\n",
       "  <tbody>\n",
       "    <tr>\n",
       "      <th>246</th>\n",
       "      <td>2370</td>\n",
       "    </tr>\n",
       "    <tr>\n",
       "      <th>247</th>\n",
       "      <td>2406</td>\n",
       "    </tr>\n",
       "    <tr>\n",
       "      <th>248</th>\n",
       "      <td>2414</td>\n",
       "    </tr>\n",
       "  </tbody>\n",
       "</table>\n",
       "</div>"
      ],
      "text/plain": [
       "        number_of_users\n",
       "exp_id                 \n",
       "246                2370\n",
       "247                2406\n",
       "248                2414"
      ]
     },
     "execution_count": 21,
     "metadata": {},
     "output_type": "execute_result"
    }
   ],
   "source": [
    "# displaying the number of users\n",
    "# by test groups\n",
    "(\n",
    "    df_clean\n",
    "    .groupby('exp_id')\n",
    "    .agg({'user_id': 'nunique'})\n",
    "    .rename(columns={'user_id':'number_of_users'})\n",
    ")"
   ]
  },
  {
   "cell_type": "markdown",
   "metadata": {},
   "source": [
    "**Conclusions**\n",
    "\n",
    "The sample was slightly shortened, leaving only the data for the first week of August 2019 for analysis. There are users from all three testing groups. The data has been studied, verified and cleaned of anomalies. Now we can start the analysis."
   ]
  },
  {
   "cell_type": "markdown",
   "metadata": {},
   "source": [
    "## Event funnel analysis\n",
    "Let's start studying the funnel of events and start by getting to know the events themselves. Let's see what events are in the logs, how often they occur. Sort events by frequency."
   ]
  },
  {
   "cell_type": "code",
   "execution_count": 22,
   "metadata": {},
   "outputs": [
    {
     "data": {
      "text/html": [
       "<div>\n",
       "<style scoped>\n",
       "    .dataframe tbody tr th:only-of-type {\n",
       "        vertical-align: middle;\n",
       "    }\n",
       "\n",
       "    .dataframe tbody tr th {\n",
       "        vertical-align: top;\n",
       "    }\n",
       "\n",
       "    .dataframe thead th {\n",
       "        text-align: right;\n",
       "    }\n",
       "</style>\n",
       "<table border=\"1\" class=\"dataframe\">\n",
       "  <thead>\n",
       "    <tr style=\"text-align: right;\">\n",
       "      <th></th>\n",
       "      <th>number_of_events</th>\n",
       "    </tr>\n",
       "    <tr>\n",
       "      <th>event_name</th>\n",
       "      <th></th>\n",
       "    </tr>\n",
       "  </thead>\n",
       "  <tbody>\n",
       "    <tr>\n",
       "      <th>MainScreenAppear</th>\n",
       "      <td>99416</td>\n",
       "    </tr>\n",
       "    <tr>\n",
       "      <th>OffersScreenAppear</th>\n",
       "      <td>32187</td>\n",
       "    </tr>\n",
       "    <tr>\n",
       "      <th>CartScreenAppear</th>\n",
       "      <td>22124</td>\n",
       "    </tr>\n",
       "    <tr>\n",
       "      <th>PaymentScreenSuccessful</th>\n",
       "      <td>16667</td>\n",
       "    </tr>\n",
       "    <tr>\n",
       "      <th>Tutorial</th>\n",
       "      <td>927</td>\n",
       "    </tr>\n",
       "  </tbody>\n",
       "</table>\n",
       "</div>"
      ],
      "text/plain": [
       "                         number_of_events\n",
       "event_name                               \n",
       "MainScreenAppear                    99416\n",
       "OffersScreenAppear                  32187\n",
       "CartScreenAppear                    22124\n",
       "PaymentScreenSuccessful             16667\n",
       "Tutorial                              927"
      ]
     },
     "execution_count": 22,
     "metadata": {},
     "output_type": "execute_result"
    }
   ],
   "source": [
    "# formation of a pivot table\n",
    "events_count = (\n",
    "    df_filtered\n",
    "    .pivot_table(index='event_name', values='user_id', aggfunc='count')\n",
    "    .sort_values(by='user_id', ascending=False)\n",
    "    .rename(columns={'user_id': 'number_of_events'})\n",
    ")\n",
    "events_count"
   ]
  },
  {
   "cell_type": "markdown",
   "metadata": {},
   "source": [
    "The log contains five different variants of events:\n",
    "\n",
    "    * `MainScreenAppear` - the appearance of the main screen;\n",
    "    * `OffersScreenAppear` - the appearance of a screen with products;\n",
    "    * `CartScreenAppear` - the appearance of the screen with the basket;\n",
    "    * `PaymentScreenSuccessful` - appearance of the payment confirmation screen;\n",
    "    * `Tutorial` - appearance of the tutorial screen.\n",
    "   \n",
    "Let's count how many users made each of these events."
   ]
  },
  {
   "cell_type": "code",
   "execution_count": 23,
   "metadata": {},
   "outputs": [
    {
     "name": "stdout",
     "output_type": "stream",
     "text": [
      "The number of users who completed each of the events: 406\n"
     ]
    }
   ],
   "source": [
    "# auxiliary table formation\n",
    "number_of_events_by_users = (\n",
    "    df_filtered\n",
    "    .groupby('user_id')['event_name']\n",
    "    .nunique()\n",
    "    .reset_index()\n",
    ")\n",
    "print('The number of users who completed each of the events:',\n",
    "      number_of_events_by_users[number_of_events_by_users['event_name'] > 4]['user_id']\n",
    "      .count())"
   ]
  },
  {
   "cell_type": "markdown",
   "metadata": {},
   "source": [
    "Sort events by number of users."
   ]
  },
  {
   "cell_type": "code",
   "execution_count": 24,
   "metadata": {},
   "outputs": [
    {
     "data": {
      "text/html": [
       "<div>\n",
       "<style scoped>\n",
       "    .dataframe tbody tr th:only-of-type {\n",
       "        vertical-align: middle;\n",
       "    }\n",
       "\n",
       "    .dataframe tbody tr th {\n",
       "        vertical-align: top;\n",
       "    }\n",
       "\n",
       "    .dataframe thead th {\n",
       "        text-align: right;\n",
       "    }\n",
       "</style>\n",
       "<table border=\"1\" class=\"dataframe\">\n",
       "  <thead>\n",
       "    <tr style=\"text-align: right;\">\n",
       "      <th></th>\n",
       "      <th>event_name</th>\n",
       "      <th>number_of_users</th>\n",
       "    </tr>\n",
       "  </thead>\n",
       "  <tbody>\n",
       "    <tr>\n",
       "      <th>0</th>\n",
       "      <td>MainScreenAppear</td>\n",
       "      <td>7063</td>\n",
       "    </tr>\n",
       "    <tr>\n",
       "      <th>1</th>\n",
       "      <td>OffersScreenAppear</td>\n",
       "      <td>4245</td>\n",
       "    </tr>\n",
       "    <tr>\n",
       "      <th>2</th>\n",
       "      <td>CartScreenAppear</td>\n",
       "      <td>3397</td>\n",
       "    </tr>\n",
       "    <tr>\n",
       "      <th>3</th>\n",
       "      <td>PaymentScreenSuccessful</td>\n",
       "      <td>3205</td>\n",
       "    </tr>\n",
       "    <tr>\n",
       "      <th>4</th>\n",
       "      <td>Tutorial</td>\n",
       "      <td>776</td>\n",
       "    </tr>\n",
       "  </tbody>\n",
       "</table>\n",
       "</div>"
      ],
      "text/plain": [
       "                event_name  number_of_users\n",
       "0         MainScreenAppear             7063\n",
       "1       OffersScreenAppear             4245\n",
       "2         CartScreenAppear             3397\n",
       "3  PaymentScreenSuccessful             3205\n",
       "4                 Tutorial              776"
      ]
     },
     "execution_count": 24,
     "metadata": {},
     "output_type": "execute_result"
    }
   ],
   "source": [
    "# auxiliary table formation\n",
    "funnel = (\n",
    "    df_filtered\n",
    "    .groupby('event_name')['user_id']\n",
    "    .nunique()\n",
    "    .sort_values(ascending=False)\n",
    "    .reset_index()\n",
    "    .rename(columns={'user_id': 'number_of_users'})\n",
    ")\n",
    "funnel"
   ]
  },
  {
   "cell_type": "markdown",
   "metadata": {},
   "source": [
    "Let's calculate the share of users who have made an event at least once."
   ]
  },
  {
   "cell_type": "code",
   "execution_count": 25,
   "metadata": {},
   "outputs": [
    {
     "name": "stdout",
     "output_type": "stream",
     "text": [
      "Percentage of users who completed only one event: 0.38\n"
     ]
    }
   ],
   "source": [
    "print('Percentage of users who completed only one event:', \n",
    "      round(number_of_events_by_users[number_of_events_by_users['event_name'] == 1]['user_id']\n",
    "      .count() / df_filtered['user_id'].nunique(), 2))"
   ]
  },
  {
   "cell_type": "markdown",
   "metadata": {},
   "source": [
    "Let's try to figure out in what order the events occur. Let's try to do this using the example of our users with one event. Let's see what the only event they had."
   ]
  },
  {
   "cell_type": "code",
   "execution_count": 26,
   "metadata": {},
   "outputs": [
    {
     "data": {
      "text/plain": [
       "array(['MainScreenAppear', 'OffersScreenAppear', 'Tutorial'], dtype=object)"
      ]
     },
     "execution_count": 26,
     "metadata": {},
     "output_type": "execute_result"
    }
   ],
   "source": [
    "# displaying a list of events for users,\n",
    "# who made one event\n",
    "df_filtered.loc[df_filtered['user_id'].\n",
    "                isin(number_of_events_by_users[number_of_events_by_users['event_name'] == 1]['user_id']),\n",
    "                'event_name'].unique()"
   ]
  },
  {
   "cell_type": "markdown",
   "metadata": {},
   "source": [
    "You can see that in addition to `MainScreenAppear`, the first events can be `OffersScreenAppear` and `Tutorial`. If with `Tutorial` it can be assumed that there is an opportunity to get trained at the very beginning of using the application, then with `OffersScreenAppear` everything is not so clear. Let's test the hypothesis that the appearance of the screen with products as the first event is due to the fact that we are logs from an earlier period (the ones that we \"cut off\" earlier)."
   ]
  },
  {
   "cell_type": "code",
   "execution_count": 27,
   "metadata": {},
   "outputs": [
    {
     "data": {
      "text/plain": [
       "31"
      ]
     },
     "execution_count": 27,
     "metadata": {},
     "output_type": "execute_result"
    }
   ],
   "source": [
    "# outputting the number of times 'OffersScreenAppear'\n",
    "# is the first event\n",
    "len(\n",
    "    df_filtered\n",
    "    .loc[(df_filtered['user_id']\n",
    "          .isin(number_of_events_by_users[number_of_events_by_users['event_name'] == 1]['user_id'])) \n",
    "         & (df_filtered['event_name'] == 'OffersScreenAppear')])"
   ]
  },
  {
   "cell_type": "markdown",
   "metadata": {},
   "source": [
    "There are 31 entries in the log, so they can be neglected. And this indirectly confirms the hypothesis about the connection with the logs from an earlier period (data for July). Events in most cases occur according to the following scenario:\n",
    "\n",
    "   * `MainScreenAppear` - the appearance of the main screen, the user enters the application;\n",
    "   * `OffersScreenAppear` - the appearance of a screen with products, the user gets acquainted with the products, makes a choice;\n",
    "   * `CartScreenAppear` - the appearance of the screen with the cart, the user adds products to the cart;\n",
    "   * `PaymentScreenSuccessful` - the appearance of a payment confirmation screen, the user pays for the purchase.\n",
    "   \n",
    "`Tutorial` - the appearance of the tutorial screen is most likely optional, depending on the user's desire. He can either just watch the training without performing additional actions, or go to training at any stage of using the application. Once again, we will build a funnel, without taking into account \"learning\" and calculate the proportion of those who have moved to the next step."
   ]
  },
  {
   "cell_type": "code",
   "execution_count": 28,
   "metadata": {},
   "outputs": [
    {
     "data": {
      "text/html": [
       "<div>\n",
       "<style scoped>\n",
       "    .dataframe tbody tr th:only-of-type {\n",
       "        vertical-align: middle;\n",
       "    }\n",
       "\n",
       "    .dataframe tbody tr th {\n",
       "        vertical-align: top;\n",
       "    }\n",
       "\n",
       "    .dataframe thead th {\n",
       "        text-align: right;\n",
       "    }\n",
       "</style>\n",
       "<table border=\"1\" class=\"dataframe\">\n",
       "  <thead>\n",
       "    <tr style=\"text-align: right;\">\n",
       "      <th></th>\n",
       "      <th>event_name</th>\n",
       "      <th>number_of_users</th>\n",
       "      <th>ratio</th>\n",
       "    </tr>\n",
       "  </thead>\n",
       "  <tbody>\n",
       "    <tr>\n",
       "      <th>0</th>\n",
       "      <td>MainScreenAppear</td>\n",
       "      <td>7063</td>\n",
       "      <td>1.00</td>\n",
       "    </tr>\n",
       "    <tr>\n",
       "      <th>1</th>\n",
       "      <td>OffersScreenAppear</td>\n",
       "      <td>4245</td>\n",
       "      <td>0.60</td>\n",
       "    </tr>\n",
       "    <tr>\n",
       "      <th>2</th>\n",
       "      <td>CartScreenAppear</td>\n",
       "      <td>3397</td>\n",
       "      <td>0.80</td>\n",
       "    </tr>\n",
       "    <tr>\n",
       "      <th>3</th>\n",
       "      <td>PaymentScreenSuccessful</td>\n",
       "      <td>3205</td>\n",
       "      <td>0.94</td>\n",
       "    </tr>\n",
       "  </tbody>\n",
       "</table>\n",
       "</div>"
      ],
      "text/plain": [
       "                event_name  number_of_users  ratio\n",
       "0         MainScreenAppear             7063   1.00\n",
       "1       OffersScreenAppear             4245   0.60\n",
       "2         CartScreenAppear             3397   0.80\n",
       "3  PaymentScreenSuccessful             3205   0.94"
      ]
     },
     "execution_count": 28,
     "metadata": {},
     "output_type": "execute_result"
    }
   ],
   "source": [
    "# auxiliary table formation\n",
    "funnel_w_o_tutorial = (\n",
    "    df_filtered\n",
    "    .groupby('event_name')['user_id']\n",
    "    .nunique()\n",
    "    .sort_values(ascending=False)\n",
    "    .reset_index()\n",
    "    .rename(columns={'user_id': 'number_of_users'})\n",
    "    .drop(4)\n",
    ")\n",
    "funnel_w_o_tutorial['ratio'] = round(funnel_w_o_tutorial['number_of_users'] / \n",
    "                                     funnel_w_o_tutorial['number_of_users']\n",
    "                                     .shift(periods=1, fill_value=1*7063), 2)\n",
    "funnel_w_o_tutorial"
   ]
  },
  {
   "cell_type": "markdown",
   "metadata": {},
   "source": [
    "The results show that about 40% of users did not go beyond the first step. Let's calculate the percentage of users who made it from the first step to a successful purchase."
   ]
  },
  {
   "cell_type": "code",
   "execution_count": 29,
   "metadata": {},
   "outputs": [
    {
     "name": "stdout",
     "output_type": "stream",
     "text": [
      "Percentage of users who made it from the first step to a successful purchase: 45.38 %\n"
     ]
    }
   ],
   "source": [
    "print('Percentage of users who made it from the first step to a successful purchase:',\n",
    "      round((funnel_w_o_tutorial.iloc[3,1] / funnel_w_o_tutorial.iloc[0,1]) * 100, 2), '%')"
   ]
  },
  {
   "cell_type": "markdown",
   "metadata": {},
   "source": [
    "**Conclusions**\n",
    "\n",
    "Thus, we found out the following:\n",
    "* A total of 406 users completed all five events.;\n",
    "* After compiling the funnel, we found that after the first step, about 40% of users “fall off”, after subsequent steps, the loss is much less;\n",
    "* Putting the product in the shopping cart, the user will almost certainly make a purchase."
   ]
  },
  {
   "cell_type": "markdown",
   "metadata": {},
   "source": [
    "## Analysis of the results of the experiment\n",
    "Let's start studying the results of the experiment. First, let's determine how many users are in each experimental group."
   ]
  },
  {
   "cell_type": "code",
   "execution_count": 30,
   "metadata": {},
   "outputs": [
    {
     "data": {
      "text/html": [
       "<div>\n",
       "<style scoped>\n",
       "    .dataframe tbody tr th:only-of-type {\n",
       "        vertical-align: middle;\n",
       "    }\n",
       "\n",
       "    .dataframe tbody tr th {\n",
       "        vertical-align: top;\n",
       "    }\n",
       "\n",
       "    .dataframe thead th {\n",
       "        text-align: right;\n",
       "    }\n",
       "</style>\n",
       "<table border=\"1\" class=\"dataframe\">\n",
       "  <thead>\n",
       "    <tr style=\"text-align: right;\">\n",
       "      <th></th>\n",
       "      <th>exp_id</th>\n",
       "      <th>number_of_users</th>\n",
       "    </tr>\n",
       "  </thead>\n",
       "  <tbody>\n",
       "    <tr>\n",
       "      <th>0</th>\n",
       "      <td>246</td>\n",
       "      <td>2365</td>\n",
       "    </tr>\n",
       "    <tr>\n",
       "      <th>1</th>\n",
       "      <td>247</td>\n",
       "      <td>2399</td>\n",
       "    </tr>\n",
       "    <tr>\n",
       "      <th>2</th>\n",
       "      <td>248</td>\n",
       "      <td>2409</td>\n",
       "    </tr>\n",
       "  </tbody>\n",
       "</table>\n",
       "</div>"
      ],
      "text/plain": [
       "   exp_id  number_of_users\n",
       "0     246             2365\n",
       "1     247             2399\n",
       "2     248             2409"
      ]
     },
     "execution_count": 30,
     "metadata": {},
     "output_type": "execute_result"
    }
   ],
   "source": [
    "# displaying the number of users\n",
    "# by test groups\n",
    "number_of_users_filtered = (\n",
    "    df_filtered\n",
    "    .groupby('exp_id')\n",
    "    .agg({'user_id': 'nunique'})\n",
    "    .reset_index()\n",
    "    .rename(columns={'user_id':'number_of_users'})\n",
    ")\n",
    "number_of_users_filtered"
   ]
  },
  {
   "cell_type": "markdown",
   "metadata": {},
   "source": [
    "Let's check if the statistical criteria find the difference between samples 246 and 247. To do this, we will form a table with information on events for each group."
   ]
  },
  {
   "cell_type": "code",
   "execution_count": 31,
   "metadata": {},
   "outputs": [
    {
     "data": {
      "text/html": [
       "<div>\n",
       "<style scoped>\n",
       "    .dataframe tbody tr th:only-of-type {\n",
       "        vertical-align: middle;\n",
       "    }\n",
       "\n",
       "    .dataframe tbody tr th {\n",
       "        vertical-align: top;\n",
       "    }\n",
       "\n",
       "    .dataframe thead th {\n",
       "        text-align: right;\n",
       "    }\n",
       "</style>\n",
       "<table border=\"1\" class=\"dataframe\">\n",
       "  <thead>\n",
       "    <tr style=\"text-align: right;\">\n",
       "      <th>event_name</th>\n",
       "      <th>exp_id</th>\n",
       "      <th>CartScreenAppear</th>\n",
       "      <th>MainScreenAppear</th>\n",
       "      <th>OffersScreenAppear</th>\n",
       "      <th>PaymentScreenSuccessful</th>\n",
       "      <th>Tutorial</th>\n",
       "      <th>number_of_users</th>\n",
       "    </tr>\n",
       "  </thead>\n",
       "  <tbody>\n",
       "    <tr>\n",
       "      <th>0</th>\n",
       "      <td>246</td>\n",
       "      <td>1154</td>\n",
       "      <td>2332</td>\n",
       "      <td>1427</td>\n",
       "      <td>1088</td>\n",
       "      <td>253</td>\n",
       "      <td>2365</td>\n",
       "    </tr>\n",
       "    <tr>\n",
       "      <th>1</th>\n",
       "      <td>247</td>\n",
       "      <td>1134</td>\n",
       "      <td>2365</td>\n",
       "      <td>1411</td>\n",
       "      <td>1055</td>\n",
       "      <td>268</td>\n",
       "      <td>2399</td>\n",
       "    </tr>\n",
       "    <tr>\n",
       "      <th>2</th>\n",
       "      <td>248</td>\n",
       "      <td>1109</td>\n",
       "      <td>2366</td>\n",
       "      <td>1407</td>\n",
       "      <td>1062</td>\n",
       "      <td>255</td>\n",
       "      <td>2409</td>\n",
       "    </tr>\n",
       "  </tbody>\n",
       "</table>\n",
       "</div>"
      ],
      "text/plain": [
       "event_name  exp_id  CartScreenAppear  MainScreenAppear  OffersScreenAppear  \\\n",
       "0              246              1154              2332                1427   \n",
       "1              247              1134              2365                1411   \n",
       "2              248              1109              2366                1407   \n",
       "\n",
       "event_name  PaymentScreenSuccessful  Tutorial  number_of_users  \n",
       "0                              1088       253             2365  \n",
       "1                              1055       268             2399  \n",
       "2                              1062       255             2409  "
      ]
     },
     "execution_count": 31,
     "metadata": {},
     "output_type": "execute_result"
    }
   ],
   "source": [
    "# auxiliary table formation\n",
    "users_by_events = (\n",
    "    df_filtered\n",
    "    .pivot_table(index = 'exp_id',\n",
    "                 columns = 'event_name',\n",
    "                 values = 'user_id',\n",
    "                 aggfunc = 'nunique')\n",
    "    .reset_index()\n",
    ")\n",
    "\n",
    "# add a column with quantity\n",
    "# users in groups\n",
    "users_by_events['number_of_users'] = number_of_users_filtered['number_of_users']\n",
    "\n",
    "users_by_events"
   ]
  },
  {
   "cell_type": "markdown",
   "metadata": {},
   "source": [
    "Let's compare the shares of customers of groups 246 and 247 who paid for the order. Out of 2365 users of the 246 group, 1088 people paid for the order; and out of 2399 users of the group 247 - 1055. Let's try to draw a conclusion about the difference in conversion for these groups. First, let's formulate hypotheses:\n",
    "\n",
    "    * H₀ - there are no differences in the shares of customers who paid for the order between groups;\n",
    "    * H₁ - there are differences in the shares of customers who paid for the order between groups.\n",
    "   \n",
    "Let's create a function."
   ]
  },
  {
   "cell_type": "code",
   "execution_count": 32,
   "metadata": {},
   "outputs": [],
   "source": [
    "# auxiliary function formation\n",
    "# to display test results\n",
    "def result(value_1, value_2):\n",
    "    if value_1 < value_2:\n",
    "        print('We reject the null hypothesis: there is a significant difference between the shares')\n",
    "    else:\n",
    "        print('It was not possible to reject the null hypothesis, there is no reason to consider the shares different')\n",
    "\n",
    "# function formation\n",
    "def hypo_test (trials_1, trials_2, successes_1, successes_2, alpha):\n",
    "    \n",
    "    # proportion of successes in the first group\n",
    "    p1 = successes_1/trials_1\n",
    "    \n",
    "    # proportion of successes in the second group\n",
    "    p2 = successes_2/trials_2\n",
    "\n",
    "    # proportion of successes in the combined dataset\n",
    "    p_combined = (successes_1 + \n",
    "                  successes_2) / (trials_1 + \n",
    "                                 trials_2)\n",
    "\n",
    "    # difference in proportions in datasets\n",
    "    difference = p1 - p2 \n",
    "\n",
    "    # we consider statistics in standard deviations of the standard normal distribution\n",
    "    z_value = difference / mth.sqrt(p_combined * \n",
    "                                    (1 - p_combined) * \n",
    "                                    (1 / trials_1 + 1 / trials_2))\n",
    "\n",
    "    # set the standard normal distribution (mean 0, standard deviation 1)\n",
    "    distr = stats.norm(0, 1)\n",
    "\n",
    "    p_value = (1 - distr.cdf(abs(z_value))) * 2\n",
    "    \n",
    "    pr_1 = print('p-value: ', p_value)\n",
    "    \n",
    "    pr_2 = result(p_value, alpha)\n",
    "    \n",
    "    return pr_1, pr_2"
   ]
  },
  {
   "cell_type": "markdown",
   "metadata": {},
   "source": [
    "Let's test the hypotheses by running the function for groups 246 and 247 and assigning a critical level of statistical significance equal to 0.05."
   ]
  },
  {
   "cell_type": "code",
   "execution_count": 33,
   "metadata": {},
   "outputs": [
    {
     "name": "stdout",
     "output_type": "stream",
     "text": [
      "**Hypothesis testing about differences in customer shares by event PaymentScreenSuccessful in groups 246 and 247**\n",
      "p-value:  0.15956763723683043\n",
      "It was not possible to reject the null hypothesis, there is no reason to consider the shares different\n"
     ]
    },
    {
     "data": {
      "text/plain": [
       "(None, None)"
      ]
     },
     "execution_count": 33,
     "metadata": {},
     "output_type": "execute_result"
    }
   ],
   "source": [
    "print('**Hypothesis testing about differences in customer shares by event', \n",
    "      users_by_events.columns[4], 'in groups 246 and 247**')\n",
    "hypo_test (users_by_events.iloc[0,6],\n",
    "           users_by_events.iloc[1,6],\n",
    "           users_by_events.iloc[0,4],\n",
    "           users_by_events.iloc[1,4], 0.05)"
   ]
  },
  {
   "cell_type": "markdown",
   "metadata": {},
   "source": [
    "The test was carried out correctly - no statistically significant differences were found between the two A-groups.\n",
    "\n",
    "Let's choose the most popular event. Judging by the `users_by_events` table, the most popular event is expected to be `MainScreenAppear` - the appearance of the main screen. We determined the number of users in the groups that committed this event, it remains to calculate the shares of the total number of users by groups. For convenience, we will form an auxiliary table and display it on the screen."
   ]
  },
  {
   "cell_type": "code",
   "execution_count": 34,
   "metadata": {},
   "outputs": [
    {
     "data": {
      "text/html": [
       "<div>\n",
       "<style scoped>\n",
       "    .dataframe tbody tr th:only-of-type {\n",
       "        vertical-align: middle;\n",
       "    }\n",
       "\n",
       "    .dataframe tbody tr th {\n",
       "        vertical-align: top;\n",
       "    }\n",
       "\n",
       "    .dataframe thead th {\n",
       "        text-align: right;\n",
       "    }\n",
       "</style>\n",
       "<table border=\"1\" class=\"dataframe\">\n",
       "  <thead>\n",
       "    <tr style=\"text-align: right;\">\n",
       "      <th>event_name</th>\n",
       "      <th>exp_id</th>\n",
       "      <th>MainScreenAppear</th>\n",
       "      <th>number_of_users</th>\n",
       "      <th>ratio</th>\n",
       "    </tr>\n",
       "  </thead>\n",
       "  <tbody>\n",
       "    <tr>\n",
       "      <th>0</th>\n",
       "      <td>246</td>\n",
       "      <td>2332</td>\n",
       "      <td>2365</td>\n",
       "      <td>0.986</td>\n",
       "    </tr>\n",
       "    <tr>\n",
       "      <th>1</th>\n",
       "      <td>247</td>\n",
       "      <td>2365</td>\n",
       "      <td>2399</td>\n",
       "      <td>0.986</td>\n",
       "    </tr>\n",
       "    <tr>\n",
       "      <th>2</th>\n",
       "      <td>248</td>\n",
       "      <td>2366</td>\n",
       "      <td>2409</td>\n",
       "      <td>0.982</td>\n",
       "    </tr>\n",
       "  </tbody>\n",
       "</table>\n",
       "</div>"
      ],
      "text/plain": [
       "event_name  exp_id  MainScreenAppear  number_of_users  ratio\n",
       "0              246              2332             2365  0.986\n",
       "1              247              2365             2399  0.986\n",
       "2              248              2366             2409  0.982"
      ]
     },
     "execution_count": 34,
     "metadata": {},
     "output_type": "execute_result"
    }
   ],
   "source": [
    "# auxiliary table formation\n",
    "top_event = users_by_events[['exp_id', 'MainScreenAppear', 'number_of_users']].copy()\n",
    "top_event['ratio'] = round(top_event['MainScreenAppear'] / top_event['number_of_users'], 3)\n",
    "top_event"
   ]
  },
  {
   "cell_type": "markdown",
   "metadata": {},
   "source": [
    "The vast majority of users in each of the groups (98-99%) went through the main screen of the application.\n",
    "\n",
    "Let's check whether the difference between groups 246 and 247 is statistically significant."
   ]
  },
  {
   "cell_type": "code",
   "execution_count": 35,
   "metadata": {},
   "outputs": [
    {
     "name": "stdout",
     "output_type": "stream",
     "text": [
      "**Hypothesis testing about differences in customer shares by event MainScreenAppear in groups 246 and 247**\n",
      "p-value:  0.9488058453077359\n",
      "It was not possible to reject the null hypothesis, there is no reason to consider the shares different\n"
     ]
    },
    {
     "data": {
      "text/plain": [
       "(None, None)"
      ]
     },
     "execution_count": 35,
     "metadata": {},
     "output_type": "execute_result"
    }
   ],
   "source": [
    "print('**Hypothesis testing about differences in customer shares by event', \n",
    "      users_by_events.columns[2], 'in groups 246 and 247**')\n",
    "hypo_test (users_by_events.iloc[0,6], \n",
    "           users_by_events.iloc[1,6], \n",
    "           users_by_events.iloc[0,2], \n",
    "           users_by_events.iloc[1,2], 0.05)"
   ]
  },
  {
   "cell_type": "markdown",
   "metadata": {},
   "source": [
    "There were no statistically significant differences between groups 246 and 247 in the results of checking differences in the proportion of customers interacting with the main screen.\n",
    "\n",
    "Let's check the rest of the events. Let's go in order: `OffersScreenAppear`, `CartScreenAppear` and `Tutorial`."
   ]
  },
  {
   "cell_type": "code",
   "execution_count": 36,
   "metadata": {},
   "outputs": [
    {
     "name": "stdout",
     "output_type": "stream",
     "text": [
      "**Hypothesis testing about differences in customer shares by event OffersScreenAppear in groups 246 and 247**\n",
      "p-value:  0.2844644518221826\n",
      "It was not possible to reject the null hypothesis, there is no reason to consider the shares different\n",
      "\n",
      "\n",
      "**Hypothesis testing about differences in customer shares by event CartScreenAppear in groups 246 and 247**\n",
      "p-value:  0.2920961972474885\n",
      "It was not possible to reject the null hypothesis, there is no reason to consider the shares different\n",
      "\n",
      "\n",
      "**Hypothesis testing about differences in customer shares by event Tutorial in groups 246 and 247**\n",
      "p-value:  0.6004592136258189\n",
      "It was not possible to reject the null hypothesis, there is no reason to consider the shares different\n",
      "\n",
      "\n"
     ]
    }
   ],
   "source": [
    "# use the cycle\n",
    "column_list = [3, 1, 5]\n",
    "for column_number in column_list:\n",
    "    print('**Hypothesis testing about differences in customer shares by event', \n",
    "      users_by_events.columns[column_number], 'in groups 246 and 247**')\n",
    "    hypo_test (users_by_events.iloc[0,6],\n",
    "               users_by_events.iloc[1,6],\n",
    "               users_by_events.iloc[0,column_number],\n",
    "               users_by_events.iloc[1,column_number], 0.05)\n",
    "    print('\\n')"
   ]
  },
  {
   "cell_type": "markdown",
   "metadata": {},
   "source": [
    "Based on the results of the checks, it can be concluded that there are no statistically significant differences between groups 246 and 247 and the groups are divided correctly.\n",
    "\n",
    "Let's compare the results of group 248 with each of groups 246 and 247 separately for each event."
   ]
  },
  {
   "cell_type": "code",
   "execution_count": 37,
   "metadata": {},
   "outputs": [
    {
     "name": "stdout",
     "output_type": "stream",
     "text": [
      "**Hypothesis testing about differences in customer shares by event MainScreenAppear in groups 246 and 248**\n",
      "p-value:  0.2822092595945087\n",
      "It was not possible to reject the null hypothesis, there is no reason to consider the shares different\n",
      "\n",
      "\n",
      "**Hypothesis testing about differences in customer shares by event MainScreenAppear in groups 247 and 248**\n",
      "p-value:  0.30983823318398684\n",
      "It was not possible to reject the null hypothesis, there is no reason to consider the shares different\n",
      "\n",
      "\n",
      "\n",
      "\n",
      "**Hypothesis testing about differences in customer shares by event OffersScreenAppear in groups 246 and 248**\n",
      "p-value:  0.17411984437962635\n",
      "It was not possible to reject the null hypothesis, there is no reason to consider the shares different\n",
      "\n",
      "\n",
      "**Hypothesis testing about differences in customer shares by event OffersScreenAppear in groups 247 and 248**\n",
      "p-value:  0.7727788233190573\n",
      "It was not possible to reject the null hypothesis, there is no reason to consider the shares different\n",
      "\n",
      "\n",
      "\n",
      "\n",
      "**Hypothesis testing about differences in customer shares by event CartScreenAppear in groups 246 and 248**\n",
      "p-value:  0.05626720797991558\n",
      "It was not possible to reject the null hypothesis, there is no reason to consider the shares different\n",
      "\n",
      "\n",
      "**Hypothesis testing about differences in customer shares by event CartScreenAppear in groups 247 and 248**\n",
      "p-value:  0.3911281023781876\n",
      "It was not possible to reject the null hypothesis, there is no reason to consider the shares different\n",
      "\n",
      "\n",
      "\n",
      "\n",
      "**Hypothesis testing about differences in customer shares by event PaymentScreenSuccessful in groups 246 and 248**\n",
      "p-value:  0.18258984074768403\n",
      "It was not possible to reject the null hypothesis, there is no reason to consider the shares different\n",
      "\n",
      "\n",
      "**Hypothesis testing about differences in customer shares by event PaymentScreenSuccessful in groups 247 and 248**\n",
      "p-value:  0.939861444239728\n",
      "It was not possible to reject the null hypothesis, there is no reason to consider the shares different\n",
      "\n",
      "\n",
      "\n",
      "\n",
      "**Hypothesis testing about differences in customer shares by event Tutorial in groups 246 and 248**\n",
      "p-value:  0.8998214332207524\n",
      "It was not possible to reject the null hypothesis, there is no reason to consider the shares different\n",
      "\n",
      "\n",
      "**Hypothesis testing about differences in customer shares by event Tutorial in groups 247 and 248**\n",
      "p-value:  0.514060593022434\n",
      "It was not possible to reject the null hypothesis, there is no reason to consider the shares different\n",
      "\n",
      "\n",
      "\n",
      "\n"
     ]
    }
   ],
   "source": [
    "# use the cycle\n",
    "column_list = [2, 3, 1, 4, 5]\n",
    "for column_number in column_list:\n",
    "    print('**Hypothesis testing about differences in customer shares by event', \n",
    "      users_by_events.columns[column_number], 'in groups 246 and 248**')\n",
    "    hypo_test (users_by_events.iloc[0,6],\n",
    "               users_by_events.iloc[2,6],\n",
    "               users_by_events.iloc[0,column_number],\n",
    "               users_by_events.iloc[2,column_number], 0.05)\n",
    "    print('\\n')\n",
    "    print('**Hypothesis testing about differences in customer shares by event', \n",
    "      users_by_events.columns[column_number], 'in groups 247 and 248**')\n",
    "    hypo_test (users_by_events.iloc[1,6],\n",
    "               users_by_events.iloc[2,6],\n",
    "               users_by_events.iloc[1,column_number],\n",
    "               users_by_events.iloc[2,column_number], 0.05)\n",
    "    print('\\n')\n",
    "    print('\\n')"
   ]
  },
  {
   "cell_type": "markdown",
   "metadata": {},
   "source": [
    "Based on the results of the checks, it can be generally concluded that there are no statistically significant differences between groups 246, 247 and 248. Preliminarily, we can conclude that the font replacement did not affect users.\n",
    "\n",
    "Next, add a row to the `users_by_events` table with data on the combined control group 246_247 to compare the results with group 248."
   ]
  },
  {
   "cell_type": "code",
   "execution_count": 38,
   "metadata": {},
   "outputs": [
    {
     "data": {
      "text/html": [
       "<div>\n",
       "<style scoped>\n",
       "    .dataframe tbody tr th:only-of-type {\n",
       "        vertical-align: middle;\n",
       "    }\n",
       "\n",
       "    .dataframe tbody tr th {\n",
       "        vertical-align: top;\n",
       "    }\n",
       "\n",
       "    .dataframe thead th {\n",
       "        text-align: right;\n",
       "    }\n",
       "</style>\n",
       "<table border=\"1\" class=\"dataframe\">\n",
       "  <thead>\n",
       "    <tr style=\"text-align: right;\">\n",
       "      <th>event_name</th>\n",
       "      <th>exp_id</th>\n",
       "      <th>CartScreenAppear</th>\n",
       "      <th>MainScreenAppear</th>\n",
       "      <th>OffersScreenAppear</th>\n",
       "      <th>PaymentScreenSuccessful</th>\n",
       "      <th>Tutorial</th>\n",
       "      <th>number_of_users</th>\n",
       "    </tr>\n",
       "  </thead>\n",
       "  <tbody>\n",
       "    <tr>\n",
       "      <th>0</th>\n",
       "      <td>246</td>\n",
       "      <td>1154</td>\n",
       "      <td>2332</td>\n",
       "      <td>1427</td>\n",
       "      <td>1088</td>\n",
       "      <td>253</td>\n",
       "      <td>2365</td>\n",
       "    </tr>\n",
       "    <tr>\n",
       "      <th>1</th>\n",
       "      <td>247</td>\n",
       "      <td>1134</td>\n",
       "      <td>2365</td>\n",
       "      <td>1411</td>\n",
       "      <td>1055</td>\n",
       "      <td>268</td>\n",
       "      <td>2399</td>\n",
       "    </tr>\n",
       "    <tr>\n",
       "      <th>2</th>\n",
       "      <td>248</td>\n",
       "      <td>1109</td>\n",
       "      <td>2366</td>\n",
       "      <td>1407</td>\n",
       "      <td>1062</td>\n",
       "      <td>255</td>\n",
       "      <td>2409</td>\n",
       "    </tr>\n",
       "    <tr>\n",
       "      <th>3</th>\n",
       "      <td>246_247</td>\n",
       "      <td>2288</td>\n",
       "      <td>4697</td>\n",
       "      <td>2838</td>\n",
       "      <td>2143</td>\n",
       "      <td>521</td>\n",
       "      <td>4764</td>\n",
       "    </tr>\n",
       "  </tbody>\n",
       "</table>\n",
       "</div>"
      ],
      "text/plain": [
       "event_name   exp_id  CartScreenAppear  MainScreenAppear  OffersScreenAppear  \\\n",
       "0               246              1154              2332                1427   \n",
       "1               247              1134              2365                1411   \n",
       "2               248              1109              2366                1407   \n",
       "3           246_247              2288              4697                2838   \n",
       "\n",
       "event_name  PaymentScreenSuccessful  Tutorial  number_of_users  \n",
       "0                              1088       253             2365  \n",
       "1                              1055       268             2399  \n",
       "2                              1062       255             2409  \n",
       "3                              2143       521             4764  "
      ]
     },
     "execution_count": 38,
     "metadata": {},
     "output_type": "execute_result"
    }
   ],
   "source": [
    "# supplementing the table with information on the combined control group\n",
    "new_row = users_by_events.loc[0] + users_by_events.loc[1]\n",
    "users_by_events_all = users_by_events.copy()\n",
    "users_by_events_all = users_by_events_all.append([new_row]).reset_index(drop=True)\n",
    "users_by_events_all.iloc[3,0] = '246_247'\n",
    "users_by_events_all"
   ]
  },
  {
   "cell_type": "markdown",
   "metadata": {},
   "source": [
    "Let's compare the results of group 248 with the combined control group 246_247 separately for each event."
   ]
  },
  {
   "cell_type": "code",
   "execution_count": 39,
   "metadata": {},
   "outputs": [
    {
     "name": "stdout",
     "output_type": "stream",
     "text": [
      "**Hypothesis testing about differences in customer shares by event MainScreenAppear in groups 246_247 and 248**\n",
      "p-value:  0.2178174063864624\n",
      "It was not possible to reject the null hypothesis, there is no reason to consider the shares different\n",
      "\n",
      "\n",
      "**Hypothesis testing about differences in customer shares by event OffersScreenAppear in groups 246_247 and 248**\n",
      "p-value:  0.342740437463807\n",
      "It was not possible to reject the null hypothesis, there is no reason to consider the shares different\n",
      "\n",
      "\n",
      "**Hypothesis testing about differences in customer shares by event CartScreenAppear in groups 246_247 and 248**\n",
      "p-value:  0.11068078406757342\n",
      "It was not possible to reject the null hypothesis, there is no reason to consider the shares different\n",
      "\n",
      "\n",
      "**Hypothesis testing about differences in customer shares by event PaymentScreenSuccessful in groups 246_247 and 248**\n",
      "p-value:  0.46973441160530083\n",
      "It was not possible to reject the null hypothesis, there is no reason to consider the shares different\n",
      "\n",
      "\n",
      "**Hypothesis testing about differences in customer shares by event Tutorial in groups 246_247 and 248**\n",
      "p-value:  0.651374302235515\n",
      "It was not possible to reject the null hypothesis, there is no reason to consider the shares different\n",
      "\n",
      "\n"
     ]
    }
   ],
   "source": [
    "# use the cycle\n",
    "column_list = [2, 3, 1, 4, 5]\n",
    "for column_number in column_list:\n",
    "    print('**Hypothesis testing about differences in customer shares by event', \n",
    "      users_by_events_all.columns[column_number], 'in groups 246_247 and 248**')\n",
    "    hypo_test (users_by_events_all.iloc[3,6],\n",
    "               users_by_events_all.iloc[2,6],\n",
    "               users_by_events_all.iloc[3,column_number],\n",
    "               users_by_events_all.iloc[2,column_number], 0.05)\n",
    "    print('\\n')"
   ]
  },
  {
   "cell_type": "markdown",
   "metadata": {},
   "source": [
    "Based on the results of the checks, it can be concluded that there are no statistically significant differences between groups 246_247 and 248 either.\n",
    "Let us confirm the conclusion that the font change did not affect users.\n",
    "\n",
    "When testing the statistical hypotheses above, we chose a significance level of 0.05. Let's count how many tests of statistical hypotheses we have done. We conducted a multiple test, i.e. multiple samples were taken from the same dataset. Its peculiarity is that with each new test of the hypothesis, the probability of a type I error increases. At a significance level of 0.1, a false result can be obtained every tenth time."
   ]
  },
  {
   "cell_type": "code",
   "execution_count": 40,
   "metadata": {},
   "outputs": [
    {
     "name": "stdout",
     "output_type": "stream",
     "text": [
      "Statistical hypotheses were tested: 20 times\n"
     ]
    }
   ],
   "source": [
    "number_of_test = len(users_by_events_all['exp_id'].unique()) * len(df['event_name'].unique())\n",
    "print('Statistical hypotheses were tested:', number_of_test, 'times')"
   ]
  },
  {
   "cell_type": "markdown",
   "metadata": {},
   "source": [
    "Determine what level of significance should be applied. We choose the Shidak method - it is the most accurate. Calculate the `p-value`."
   ]
  },
  {
   "cell_type": "code",
   "execution_count": 41,
   "metadata": {},
   "outputs": [
    {
     "name": "stdout",
     "output_type": "stream",
     "text": [
      "Refined p-value: 0.0025613787765302876\n"
     ]
    }
   ],
   "source": [
    "p_value = 1 - (1 - 0.05)**(1 / number_of_test)\n",
    "print('Refined p-value:', p_value)"
   ]
  },
  {
   "cell_type": "markdown",
   "metadata": {},
   "source": [
    "The results won't change, the adjusted p-value is even smaller. The changes we made did not affect the metrics and user behavior in any way. Therefore, there is no point in applying them to the entire resource - they will not bring any benefit to the business."
   ]
  },
  {
   "cell_type": "markdown",
   "metadata": {},
   "source": [
    "## General conclusion\n",
    "\n",
    "Ultimately, 20 statistical hypothesis tests were performed. The results showed that there were no statistically significant differences between groups 246, 247, and 248, and there were also no differences between groups 246_247 and 248. A significance level of 0.05 was used, which in our case does not make much sense, since the value refined by the Shidak method turned out to be still less.\n",
    "\n",
    "Based on the data obtained, it can be argued that the hypothesis that changing the font on the main page will somehow affect the conversion metrics was not confirmed. However, given that we only have 1 week of data, it is recommended to collect 1 more week of data (to have a 2 week picture) and recalculate. But it is not worth expecting that the situation will change dramatically and we will find statistically significant differences between the groups, given the p_values obtained."
   ]
  }
 ],
 "metadata": {
  "ExecuteTimeLog": [
   {
    "duration": 1216,
    "start_time": "2022-06-20T09:31:36.592Z"
   },
   {
    "duration": 3,
    "start_time": "2022-06-20T09:32:13.626Z"
   },
   {
    "duration": 615,
    "start_time": "2022-06-20T09:32:26.262Z"
   },
   {
    "duration": 160,
    "start_time": "2022-06-20T09:36:36.753Z"
   },
   {
    "duration": 19,
    "start_time": "2022-06-20T09:37:23.829Z"
   },
   {
    "duration": 52,
    "start_time": "2022-06-20T09:38:05.414Z"
   },
   {
    "duration": 57,
    "start_time": "2022-06-20T09:39:05.902Z"
   },
   {
    "duration": 59,
    "start_time": "2022-06-20T09:39:43.035Z"
   },
   {
    "duration": 7,
    "start_time": "2022-06-20T09:58:21.054Z"
   },
   {
    "duration": 53,
    "start_time": "2022-06-20T10:00:58.722Z"
   },
   {
    "duration": 51,
    "start_time": "2022-06-20T10:01:03.861Z"
   },
   {
    "duration": 3,
    "start_time": "2022-06-20T11:08:36.112Z"
   },
   {
    "duration": 153,
    "start_time": "2022-06-20T11:08:36.121Z"
   },
   {
    "duration": 18,
    "start_time": "2022-06-20T11:08:36.276Z"
   },
   {
    "duration": 63,
    "start_time": "2022-06-20T11:08:36.296Z"
   },
   {
    "duration": 8,
    "start_time": "2022-06-20T11:08:36.360Z"
   },
   {
    "duration": 59,
    "start_time": "2022-06-20T11:08:36.370Z"
   },
   {
    "duration": 140,
    "start_time": "2022-06-20T11:08:39.922Z"
   },
   {
    "duration": 62,
    "start_time": "2022-06-20T11:09:08.709Z"
   },
   {
    "duration": 45,
    "start_time": "2022-06-20T11:09:44.194Z"
   },
   {
    "duration": 70,
    "start_time": "2022-06-20T11:09:57.013Z"
   },
   {
    "duration": 103,
    "start_time": "2022-06-20T11:10:47.950Z"
   },
   {
    "duration": 138,
    "start_time": "2022-06-20T11:15:54.170Z"
   },
   {
    "duration": 3,
    "start_time": "2022-06-20T11:16:08.013Z"
   },
   {
    "duration": 150,
    "start_time": "2022-06-20T11:16:08.021Z"
   },
   {
    "duration": 16,
    "start_time": "2022-06-20T11:16:08.173Z"
   },
   {
    "duration": 68,
    "start_time": "2022-06-20T11:16:08.190Z"
   },
   {
    "duration": 6,
    "start_time": "2022-06-20T11:16:08.260Z"
   },
   {
    "duration": 79,
    "start_time": "2022-06-20T11:16:08.268Z"
   },
   {
    "duration": 107,
    "start_time": "2022-06-20T11:16:08.348Z"
   },
   {
    "duration": 38,
    "start_time": "2022-06-20T11:16:11.219Z"
   },
   {
    "duration": 3,
    "start_time": "2022-06-20T11:16:22.960Z"
   },
   {
    "duration": 155,
    "start_time": "2022-06-20T11:16:22.967Z"
   },
   {
    "duration": 16,
    "start_time": "2022-06-20T11:16:23.123Z"
   },
   {
    "duration": 63,
    "start_time": "2022-06-20T11:16:23.141Z"
   },
   {
    "duration": 7,
    "start_time": "2022-06-20T11:16:23.206Z"
   },
   {
    "duration": 67,
    "start_time": "2022-06-20T11:16:23.215Z"
   },
   {
    "duration": 124,
    "start_time": "2022-06-20T11:16:23.284Z"
   },
   {
    "duration": 43,
    "start_time": "2022-06-20T11:16:27.272Z"
   },
   {
    "duration": 43,
    "start_time": "2022-06-20T11:16:36.641Z"
   },
   {
    "duration": 3,
    "start_time": "2022-06-20T11:16:43.416Z"
   },
   {
    "duration": 150,
    "start_time": "2022-06-20T11:16:43.421Z"
   },
   {
    "duration": 17,
    "start_time": "2022-06-20T11:16:43.572Z"
   },
   {
    "duration": 73,
    "start_time": "2022-06-20T11:16:43.591Z"
   },
   {
    "duration": 7,
    "start_time": "2022-06-20T11:16:43.666Z"
   },
   {
    "duration": 53,
    "start_time": "2022-06-20T11:16:43.675Z"
   },
   {
    "duration": 129,
    "start_time": "2022-06-20T11:16:43.729Z"
   },
   {
    "duration": 46,
    "start_time": "2022-06-20T11:16:46.107Z"
   },
   {
    "duration": 3,
    "start_time": "2022-06-20T11:24:06.472Z"
   },
   {
    "duration": 28,
    "start_time": "2022-06-20T11:25:36.200Z"
   },
   {
    "duration": 27,
    "start_time": "2022-06-20T11:25:46.496Z"
   },
   {
    "duration": 25,
    "start_time": "2022-06-20T11:26:50.560Z"
   },
   {
    "duration": 848,
    "start_time": "2022-06-20T11:27:10.968Z"
   },
   {
    "duration": 7,
    "start_time": "2022-06-20T11:27:43.730Z"
   },
   {
    "duration": 7,
    "start_time": "2022-06-20T11:30:05.674Z"
   },
   {
    "duration": 758,
    "start_time": "2022-06-20T11:30:25.305Z"
   },
   {
    "duration": 3,
    "start_time": "2022-06-20T11:30:37.261Z"
   },
   {
    "duration": 178,
    "start_time": "2022-06-20T11:30:37.269Z"
   },
   {
    "duration": 18,
    "start_time": "2022-06-20T11:30:37.450Z"
   },
   {
    "duration": 67,
    "start_time": "2022-06-20T11:30:37.470Z"
   },
   {
    "duration": 14,
    "start_time": "2022-06-20T11:30:37.539Z"
   },
   {
    "duration": 69,
    "start_time": "2022-06-20T11:30:37.555Z"
   },
   {
    "duration": 122,
    "start_time": "2022-06-20T11:30:37.626Z"
   },
   {
    "duration": 44,
    "start_time": "2022-06-20T11:30:37.752Z"
   },
   {
    "duration": 28,
    "start_time": "2022-06-20T11:30:37.798Z"
   },
   {
    "duration": 7,
    "start_time": "2022-06-20T11:30:39.744Z"
   },
   {
    "duration": 8,
    "start_time": "2022-06-20T12:36:51.524Z"
   },
   {
    "duration": 12,
    "start_time": "2022-06-20T12:36:57.436Z"
   },
   {
    "duration": 13,
    "start_time": "2022-06-20T12:38:11.316Z"
   },
   {
    "duration": 17,
    "start_time": "2022-06-20T12:38:27.303Z"
   },
   {
    "duration": 6,
    "start_time": "2022-06-20T12:40:46.685Z"
   },
   {
    "duration": 141,
    "start_time": "2022-06-20T12:41:00.983Z"
   },
   {
    "duration": 25,
    "start_time": "2022-06-20T12:41:04.427Z"
   },
   {
    "duration": 9,
    "start_time": "2022-06-20T12:51:16.997Z"
   },
   {
    "duration": 54,
    "start_time": "2022-06-20T12:51:44.692Z"
   },
   {
    "duration": 0,
    "start_time": "2022-06-20T12:52:57.784Z"
   },
   {
    "duration": 0,
    "start_time": "2022-06-20T12:52:57.788Z"
   },
   {
    "duration": 379,
    "start_time": "2022-06-20T12:52:59.827Z"
   },
   {
    "duration": 332,
    "start_time": "2022-06-20T12:53:15.211Z"
   },
   {
    "duration": 371,
    "start_time": "2022-06-20T12:53:27.955Z"
   },
   {
    "duration": 367,
    "start_time": "2022-06-20T12:54:41.119Z"
   },
   {
    "duration": 223,
    "start_time": "2022-06-20T13:03:19.798Z"
   },
   {
    "duration": 36,
    "start_time": "2022-06-20T13:04:16.493Z"
   },
   {
    "duration": 5,
    "start_time": "2022-06-20T13:05:29.689Z"
   },
   {
    "duration": 9,
    "start_time": "2022-06-20T13:07:48.885Z"
   },
   {
    "duration": 11,
    "start_time": "2022-06-20T13:15:58.683Z"
   },
   {
    "duration": 10,
    "start_time": "2022-06-20T13:16:15.710Z"
   },
   {
    "duration": 11,
    "start_time": "2022-06-20T13:16:31.032Z"
   },
   {
    "duration": 9,
    "start_time": "2022-06-20T13:22:07.144Z"
   },
   {
    "duration": 3,
    "start_time": "2022-06-20T13:22:18.496Z"
   },
   {
    "duration": 7,
    "start_time": "2022-06-20T13:27:06.624Z"
   },
   {
    "duration": 35,
    "start_time": "2022-06-20T13:30:45.132Z"
   },
   {
    "duration": 25,
    "start_time": "2022-06-20T14:47:49.997Z"
   },
   {
    "duration": 35,
    "start_time": "2022-06-20T14:49:26.333Z"
   },
   {
    "duration": 48,
    "start_time": "2022-06-20T14:49:59.463Z"
   },
   {
    "duration": 36,
    "start_time": "2022-06-20T14:50:17.135Z"
   },
   {
    "duration": 36,
    "start_time": "2022-06-20T14:50:32.462Z"
   },
   {
    "duration": 1375,
    "start_time": "2022-06-21T07:28:55.965Z"
   },
   {
    "duration": 543,
    "start_time": "2022-06-21T07:28:57.342Z"
   },
   {
    "duration": 20,
    "start_time": "2022-06-21T07:28:57.887Z"
   },
   {
    "duration": 64,
    "start_time": "2022-06-21T07:28:57.909Z"
   },
   {
    "duration": 13,
    "start_time": "2022-06-21T07:28:57.975Z"
   },
   {
    "duration": 75,
    "start_time": "2022-06-21T07:28:57.989Z"
   },
   {
    "duration": 155,
    "start_time": "2022-06-21T07:28:58.066Z"
   },
   {
    "duration": 161,
    "start_time": "2022-06-21T07:28:58.223Z"
   },
   {
    "duration": 4,
    "start_time": "2022-06-21T07:28:58.385Z"
   },
   {
    "duration": 9,
    "start_time": "2022-06-21T07:28:58.391Z"
   },
   {
    "duration": 48,
    "start_time": "2022-06-21T07:28:58.402Z"
   },
   {
    "duration": 36,
    "start_time": "2022-06-21T07:28:58.452Z"
   },
   {
    "duration": 431,
    "start_time": "2022-06-21T07:28:58.490Z"
   },
   {
    "duration": 52,
    "start_time": "2022-06-21T07:28:58.922Z"
   },
   {
    "duration": 11,
    "start_time": "2022-06-21T07:28:58.975Z"
   },
   {
    "duration": 11,
    "start_time": "2022-06-21T07:28:58.987Z"
   },
   {
    "duration": 63,
    "start_time": "2022-06-21T07:28:59.000Z"
   },
   {
    "duration": 43,
    "start_time": "2022-06-21T07:28:59.065Z"
   },
   {
    "duration": 56,
    "start_time": "2022-06-21T07:29:49.006Z"
   },
   {
    "duration": 776,
    "start_time": "2022-06-21T07:42:13.999Z"
   },
   {
    "duration": 53,
    "start_time": "2022-06-21T07:42:31.993Z"
   },
   {
    "duration": 160,
    "start_time": "2022-06-21T07:51:59.401Z"
   },
   {
    "duration": 61,
    "start_time": "2022-06-21T07:53:10.886Z"
   },
   {
    "duration": 61,
    "start_time": "2022-06-21T07:53:46.850Z"
   },
   {
    "duration": 56,
    "start_time": "2022-06-21T07:54:22.605Z"
   },
   {
    "duration": 53,
    "start_time": "2022-06-21T07:54:33.568Z"
   },
   {
    "duration": 57,
    "start_time": "2022-06-21T07:54:39.638Z"
   },
   {
    "duration": 57,
    "start_time": "2022-06-21T07:54:44.925Z"
   },
   {
    "duration": 58,
    "start_time": "2022-06-21T07:58:07.472Z"
   },
   {
    "duration": 53,
    "start_time": "2022-06-21T07:58:59.502Z"
   },
   {
    "duration": 54,
    "start_time": "2022-06-21T07:59:24.838Z"
   },
   {
    "duration": 53,
    "start_time": "2022-06-21T07:59:35.491Z"
   },
   {
    "duration": 73,
    "start_time": "2022-06-21T07:59:59.813Z"
   },
   {
    "duration": 11,
    "start_time": "2022-06-21T08:18:19.086Z"
   },
   {
    "duration": 8,
    "start_time": "2022-06-21T08:18:46.801Z"
   },
   {
    "duration": 17,
    "start_time": "2022-06-21T09:33:21.054Z"
   },
   {
    "duration": 15,
    "start_time": "2022-06-21T09:41:51.012Z"
   },
   {
    "duration": 22,
    "start_time": "2022-06-21T09:42:03.200Z"
   },
   {
    "duration": 60,
    "start_time": "2022-06-21T10:40:39.945Z"
   },
   {
    "duration": 60,
    "start_time": "2022-06-21T10:42:20.313Z"
   },
   {
    "duration": 65,
    "start_time": "2022-06-21T10:42:47.045Z"
   },
   {
    "duration": 65,
    "start_time": "2022-06-21T10:43:00.844Z"
   },
   {
    "duration": 13,
    "start_time": "2022-06-21T10:52:19.453Z"
   },
   {
    "duration": 8,
    "start_time": "2022-06-21T10:52:28.129Z"
   },
   {
    "duration": 3,
    "start_time": "2022-06-21T10:52:32.338Z"
   },
   {
    "duration": 4,
    "start_time": "2022-06-21T10:53:02.329Z"
   },
   {
    "duration": 62,
    "start_time": "2022-06-21T10:55:49.204Z"
   },
   {
    "duration": 88,
    "start_time": "2022-06-21T11:56:23.044Z"
   },
   {
    "duration": 10,
    "start_time": "2022-06-21T11:56:38.574Z"
   },
   {
    "duration": 32,
    "start_time": "2022-06-21T11:58:58.102Z"
   },
   {
    "duration": 23,
    "start_time": "2022-06-21T12:35:32.321Z"
   },
   {
    "duration": 27,
    "start_time": "2022-06-21T12:37:58.486Z"
   },
   {
    "duration": 32,
    "start_time": "2022-06-21T12:38:13.892Z"
   },
   {
    "duration": 39,
    "start_time": "2022-06-21T12:38:42.103Z"
   },
   {
    "duration": 97,
    "start_time": "2022-06-21T12:40:30.223Z"
   },
   {
    "duration": 38,
    "start_time": "2022-06-21T12:40:36.878Z"
   },
   {
    "duration": 44,
    "start_time": "2022-06-21T12:40:48.242Z"
   },
   {
    "duration": 32,
    "start_time": "2022-06-21T12:42:36.190Z"
   },
   {
    "duration": 43,
    "start_time": "2022-06-21T12:42:43.248Z"
   },
   {
    "duration": 35,
    "start_time": "2022-06-21T12:43:47.680Z"
   },
   {
    "duration": 38,
    "start_time": "2022-06-21T12:44:21.479Z"
   },
   {
    "duration": 3,
    "start_time": "2022-06-21T12:56:40.225Z"
   },
   {
    "duration": 424,
    "start_time": "2022-06-21T12:56:40.239Z"
   },
   {
    "duration": 15,
    "start_time": "2022-06-21T12:56:40.665Z"
   },
   {
    "duration": 41,
    "start_time": "2022-06-21T12:56:40.681Z"
   },
   {
    "duration": 6,
    "start_time": "2022-06-21T12:56:40.724Z"
   },
   {
    "duration": 69,
    "start_time": "2022-06-21T12:56:40.732Z"
   },
   {
    "duration": 100,
    "start_time": "2022-06-21T12:56:40.803Z"
   },
   {
    "duration": 152,
    "start_time": "2022-06-21T12:56:40.904Z"
   },
   {
    "duration": 4,
    "start_time": "2022-06-21T12:56:41.062Z"
   },
   {
    "duration": 9,
    "start_time": "2022-06-21T12:56:41.068Z"
   },
   {
    "duration": 14,
    "start_time": "2022-06-21T12:56:41.078Z"
   },
   {
    "duration": 22,
    "start_time": "2022-06-21T12:56:41.093Z"
   },
   {
    "duration": 316,
    "start_time": "2022-06-21T12:56:41.116Z"
   },
   {
    "duration": 28,
    "start_time": "2022-06-21T12:56:41.434Z"
   },
   {
    "duration": 6,
    "start_time": "2022-06-21T12:56:41.465Z"
   },
   {
    "duration": 15,
    "start_time": "2022-06-21T12:56:41.472Z"
   },
   {
    "duration": 32,
    "start_time": "2022-06-21T12:56:41.489Z"
   },
   {
    "duration": 41,
    "start_time": "2022-06-21T12:56:41.523Z"
   },
   {
    "duration": 48,
    "start_time": "2022-06-21T12:56:41.566Z"
   },
   {
    "duration": 65,
    "start_time": "2022-06-21T12:56:41.615Z"
   },
   {
    "duration": 8,
    "start_time": "2022-06-21T12:56:41.681Z"
   },
   {
    "duration": 17,
    "start_time": "2022-06-21T12:56:41.690Z"
   },
   {
    "duration": 18,
    "start_time": "2022-06-21T12:56:41.708Z"
   },
   {
    "duration": 73,
    "start_time": "2022-06-21T12:56:41.727Z"
   },
   {
    "duration": 3,
    "start_time": "2022-06-21T12:56:41.801Z"
   },
   {
    "duration": 32,
    "start_time": "2022-06-21T12:56:41.805Z"
   },
   {
    "duration": 90,
    "start_time": "2022-06-21T12:57:22.366Z"
   },
   {
    "duration": 11,
    "start_time": "2022-06-21T13:07:14.586Z"
   },
   {
    "duration": 7,
    "start_time": "2022-06-21T13:08:09.286Z"
   },
   {
    "duration": 8,
    "start_time": "2022-06-21T13:08:45.229Z"
   },
   {
    "duration": 7,
    "start_time": "2022-06-21T13:08:59.613Z"
   },
   {
    "duration": 10,
    "start_time": "2022-06-21T13:09:19.247Z"
   },
   {
    "duration": 8,
    "start_time": "2022-06-21T13:09:25.399Z"
   },
   {
    "duration": 7,
    "start_time": "2022-06-21T13:50:16.397Z"
   },
   {
    "duration": 31,
    "start_time": "2022-06-21T14:57:02.505Z"
   },
   {
    "duration": 841,
    "start_time": "2022-06-21T14:57:45.743Z"
   },
   {
    "duration": 6,
    "start_time": "2022-06-21T14:58:47.078Z"
   },
   {
    "duration": 805,
    "start_time": "2022-06-21T14:59:16.869Z"
   },
   {
    "duration": 7,
    "start_time": "2022-06-21T14:59:34.370Z"
   },
   {
    "duration": 5,
    "start_time": "2022-06-21T15:01:08.511Z"
   },
   {
    "duration": 6,
    "start_time": "2022-06-21T15:01:25.156Z"
   },
   {
    "duration": 6,
    "start_time": "2022-06-21T15:08:20.362Z"
   },
   {
    "duration": 5,
    "start_time": "2022-06-21T15:09:46.156Z"
   },
   {
    "duration": 30,
    "start_time": "2022-06-21T15:09:54.185Z"
   },
   {
    "duration": 6,
    "start_time": "2022-06-21T15:10:02.913Z"
   },
   {
    "duration": 5,
    "start_time": "2022-06-21T15:10:09.698Z"
   },
   {
    "duration": 4,
    "start_time": "2022-06-21T15:10:38.389Z"
   },
   {
    "duration": 4,
    "start_time": "2022-06-21T15:10:47.436Z"
   },
   {
    "duration": 3,
    "start_time": "2022-06-21T15:11:16.737Z"
   },
   {
    "duration": 4,
    "start_time": "2022-06-21T15:11:37.992Z"
   },
   {
    "duration": 44,
    "start_time": "2022-06-21T20:34:38.045Z"
   },
   {
    "duration": 1257,
    "start_time": "2022-06-21T20:34:42.897Z"
   },
   {
    "duration": 888,
    "start_time": "2022-06-21T20:34:44.156Z"
   },
   {
    "duration": 21,
    "start_time": "2022-06-21T20:34:45.045Z"
   },
   {
    "duration": 59,
    "start_time": "2022-06-21T20:34:45.068Z"
   },
   {
    "duration": 24,
    "start_time": "2022-06-21T20:34:45.129Z"
   },
   {
    "duration": 57,
    "start_time": "2022-06-21T20:34:45.155Z"
   },
   {
    "duration": 123,
    "start_time": "2022-06-21T20:34:45.214Z"
   },
   {
    "duration": 144,
    "start_time": "2022-06-21T20:34:45.339Z"
   },
   {
    "duration": 3,
    "start_time": "2022-06-21T20:34:45.485Z"
   },
   {
    "duration": 9,
    "start_time": "2022-06-21T20:34:45.489Z"
   },
   {
    "duration": 16,
    "start_time": "2022-06-21T20:34:45.499Z"
   },
   {
    "duration": 45,
    "start_time": "2022-06-21T20:34:45.517Z"
   },
   {
    "duration": 374,
    "start_time": "2022-06-21T20:34:45.563Z"
   },
   {
    "duration": 39,
    "start_time": "2022-06-21T20:34:45.939Z"
   },
   {
    "duration": 7,
    "start_time": "2022-06-21T20:34:45.980Z"
   },
   {
    "duration": 9,
    "start_time": "2022-06-21T20:34:45.989Z"
   },
   {
    "duration": 55,
    "start_time": "2022-06-21T20:34:45.999Z"
   },
   {
    "duration": 33,
    "start_time": "2022-06-21T20:34:46.055Z"
   },
   {
    "duration": 66,
    "start_time": "2022-06-21T20:34:46.089Z"
   },
   {
    "duration": 50,
    "start_time": "2022-06-21T20:34:46.157Z"
   },
   {
    "duration": 10,
    "start_time": "2022-06-21T20:34:46.208Z"
   },
   {
    "duration": 35,
    "start_time": "2022-06-21T20:34:46.220Z"
   },
   {
    "duration": 21,
    "start_time": "2022-06-21T20:34:46.257Z"
   },
   {
    "duration": 54,
    "start_time": "2022-06-21T20:34:46.279Z"
   },
   {
    "duration": 6,
    "start_time": "2022-06-21T20:34:46.352Z"
   },
   {
    "duration": 36,
    "start_time": "2022-06-21T20:34:46.359Z"
   },
   {
    "duration": 4,
    "start_time": "2022-06-21T20:34:46.397Z"
   },
   {
    "duration": 46,
    "start_time": "2022-06-21T20:34:50.897Z"
   },
   {
    "duration": 42,
    "start_time": "2022-06-21T20:35:32.032Z"
   },
   {
    "duration": 42,
    "start_time": "2022-06-21T20:35:58.928Z"
   },
   {
    "duration": 191,
    "start_time": "2022-06-21T20:49:33.502Z"
   },
   {
    "duration": 205,
    "start_time": "2022-06-21T20:50:57.380Z"
   },
   {
    "duration": 195,
    "start_time": "2022-06-21T20:51:06.119Z"
   },
   {
    "duration": 27,
    "start_time": "2022-06-21T21:03:52.096Z"
   },
   {
    "duration": 212,
    "start_time": "2022-06-21T21:04:08.047Z"
   },
   {
    "duration": 31,
    "start_time": "2022-06-21T21:06:18.433Z"
   },
   {
    "duration": 201,
    "start_time": "2022-06-21T21:06:59.610Z"
   },
   {
    "duration": 248,
    "start_time": "2022-06-21T21:07:12.992Z"
   },
   {
    "duration": 189,
    "start_time": "2022-06-21T21:07:25.815Z"
   },
   {
    "duration": 193,
    "start_time": "2022-06-21T21:07:36.527Z"
   },
   {
    "duration": 166,
    "start_time": "2022-06-21T21:07:45.712Z"
   },
   {
    "duration": 4,
    "start_time": "2022-06-21T21:15:07.419Z"
   },
   {
    "duration": 4,
    "start_time": "2022-06-21T21:18:34.543Z"
   },
   {
    "duration": 5,
    "start_time": "2022-06-21T21:21:51.584Z"
   },
   {
    "duration": 6,
    "start_time": "2022-06-21T21:22:13.300Z"
   },
   {
    "duration": 13,
    "start_time": "2022-06-21T21:22:24.000Z"
   },
   {
    "duration": 1196,
    "start_time": "2022-06-22T06:13:31.602Z"
   },
   {
    "duration": 572,
    "start_time": "2022-06-22T06:13:32.800Z"
   },
   {
    "duration": 27,
    "start_time": "2022-06-22T06:13:33.374Z"
   },
   {
    "duration": 62,
    "start_time": "2022-06-22T06:13:33.404Z"
   },
   {
    "duration": 13,
    "start_time": "2022-06-22T06:13:33.468Z"
   },
   {
    "duration": 76,
    "start_time": "2022-06-22T06:13:33.483Z"
   },
   {
    "duration": 126,
    "start_time": "2022-06-22T06:13:33.561Z"
   },
   {
    "duration": 145,
    "start_time": "2022-06-22T06:13:33.689Z"
   },
   {
    "duration": 4,
    "start_time": "2022-06-22T06:13:33.835Z"
   },
   {
    "duration": 10,
    "start_time": "2022-06-22T06:13:33.850Z"
   },
   {
    "duration": 27,
    "start_time": "2022-06-22T06:13:33.862Z"
   },
   {
    "duration": 34,
    "start_time": "2022-06-22T06:13:33.891Z"
   },
   {
    "duration": 397,
    "start_time": "2022-06-22T06:13:33.927Z"
   },
   {
    "duration": 43,
    "start_time": "2022-06-22T06:13:34.325Z"
   },
   {
    "duration": 14,
    "start_time": "2022-06-22T06:13:34.369Z"
   },
   {
    "duration": 20,
    "start_time": "2022-06-22T06:13:34.385Z"
   },
   {
    "duration": 59,
    "start_time": "2022-06-22T06:13:34.407Z"
   },
   {
    "duration": 41,
    "start_time": "2022-06-22T06:13:34.469Z"
   },
   {
    "duration": 98,
    "start_time": "2022-06-22T06:13:34.512Z"
   },
   {
    "duration": 83,
    "start_time": "2022-06-22T06:13:34.612Z"
   },
   {
    "duration": 11,
    "start_time": "2022-06-22T06:13:34.696Z"
   },
   {
    "duration": 18,
    "start_time": "2022-06-22T06:13:34.708Z"
   },
   {
    "duration": 45,
    "start_time": "2022-06-22T06:13:34.728Z"
   },
   {
    "duration": 53,
    "start_time": "2022-06-22T06:13:34.774Z"
   },
   {
    "duration": 4,
    "start_time": "2022-06-22T06:13:34.829Z"
   },
   {
    "duration": 34,
    "start_time": "2022-06-22T06:13:34.851Z"
   },
   {
    "duration": 82,
    "start_time": "2022-06-22T06:19:04.317Z"
   },
   {
    "duration": 18,
    "start_time": "2022-06-22T06:19:44.471Z"
   },
   {
    "duration": 7,
    "start_time": "2022-06-22T06:44:28.396Z"
   },
   {
    "duration": 16,
    "start_time": "2022-06-22T06:47:02.177Z"
   },
   {
    "duration": 7,
    "start_time": "2022-06-22T06:48:05.794Z"
   },
   {
    "duration": 6,
    "start_time": "2022-06-22T06:52:45.150Z"
   },
   {
    "duration": 15,
    "start_time": "2022-06-22T06:52:52.450Z"
   },
   {
    "duration": 112,
    "start_time": "2022-06-22T06:54:40.810Z"
   },
   {
    "duration": 35,
    "start_time": "2022-06-22T06:54:48.793Z"
   },
   {
    "duration": 14,
    "start_time": "2022-06-22T06:54:59.112Z"
   },
   {
    "duration": 13,
    "start_time": "2022-06-22T06:55:19.969Z"
   },
   {
    "duration": 7,
    "start_time": "2022-06-22T07:59:29.373Z"
   },
   {
    "duration": 8,
    "start_time": "2022-06-22T08:05:33.693Z"
   },
   {
    "duration": 9,
    "start_time": "2022-06-22T08:06:30.300Z"
   },
   {
    "duration": 75,
    "start_time": "2022-06-22T08:07:43.348Z"
   },
   {
    "duration": 69,
    "start_time": "2022-06-22T08:09:39.011Z"
   },
   {
    "duration": 54,
    "start_time": "2022-06-22T08:09:57.874Z"
   },
   {
    "duration": 5,
    "start_time": "2022-06-22T08:15:46.842Z"
   },
   {
    "duration": 74,
    "start_time": "2022-06-22T08:17:14.043Z"
   },
   {
    "duration": 19,
    "start_time": "2022-06-22T08:20:46.168Z"
   },
   {
    "duration": 9,
    "start_time": "2022-06-22T08:21:20.434Z"
   },
   {
    "duration": 10,
    "start_time": "2022-06-22T08:21:23.120Z"
   },
   {
    "duration": 94,
    "start_time": "2022-06-22T08:23:29.241Z"
   },
   {
    "duration": 10,
    "start_time": "2022-06-22T08:31:18.785Z"
   },
   {
    "duration": 35,
    "start_time": "2022-06-22T08:32:15.665Z"
   },
   {
    "duration": 12,
    "start_time": "2022-06-22T08:46:40.420Z"
   },
   {
    "duration": 26,
    "start_time": "2022-06-22T08:52:07.651Z"
   },
   {
    "duration": 8,
    "start_time": "2022-06-22T08:52:32.687Z"
   },
   {
    "duration": 12,
    "start_time": "2022-06-22T08:53:15.780Z"
   },
   {
    "duration": 15,
    "start_time": "2022-06-22T08:53:26.181Z"
   },
   {
    "duration": 20,
    "start_time": "2022-06-22T08:55:00.796Z"
   },
   {
    "duration": 38,
    "start_time": "2022-06-22T08:55:23.349Z"
   },
   {
    "duration": 18,
    "start_time": "2022-06-22T09:05:33.463Z"
   },
   {
    "duration": 14,
    "start_time": "2022-06-22T09:51:41.233Z"
   },
   {
    "duration": 19,
    "start_time": "2022-06-22T09:53:18.685Z"
   },
   {
    "duration": 12,
    "start_time": "2022-06-22T09:58:17.680Z"
   },
   {
    "duration": 14,
    "start_time": "2022-06-22T10:01:54.005Z"
   },
   {
    "duration": 31,
    "start_time": "2022-06-22T10:16:10.611Z"
   },
   {
    "duration": 28,
    "start_time": "2022-06-22T10:23:52.277Z"
   },
   {
    "duration": 24,
    "start_time": "2022-06-22T10:25:37.718Z"
   },
   {
    "duration": 19,
    "start_time": "2022-06-22T10:26:17.205Z"
   },
   {
    "duration": 38,
    "start_time": "2022-06-22T10:33:41.289Z"
   },
   {
    "duration": 25,
    "start_time": "2022-06-22T10:35:08.197Z"
   },
   {
    "duration": 49,
    "start_time": "2022-06-22T10:45:03.141Z"
   },
   {
    "duration": 43,
    "start_time": "2022-06-22T10:45:49.067Z"
   },
   {
    "duration": 51,
    "start_time": "2022-06-22T10:45:55.939Z"
   },
   {
    "duration": 32,
    "start_time": "2022-06-22T10:46:52.948Z"
   },
   {
    "duration": 32,
    "start_time": "2022-06-22T10:48:40.602Z"
   },
   {
    "duration": 5,
    "start_time": "2022-06-22T11:08:20.833Z"
   },
   {
    "duration": 9,
    "start_time": "2022-06-22T11:11:04.152Z"
   },
   {
    "duration": 38,
    "start_time": "2022-06-22T11:11:40.943Z"
   },
   {
    "duration": 10,
    "start_time": "2022-06-22T11:11:52.175Z"
   },
   {
    "duration": 4,
    "start_time": "2022-06-22T11:12:22.792Z"
   },
   {
    "duration": 9,
    "start_time": "2022-06-22T11:15:56.514Z"
   },
   {
    "duration": 22,
    "start_time": "2022-06-22T11:25:47.783Z"
   },
   {
    "duration": 6,
    "start_time": "2022-06-22T11:25:50.277Z"
   },
   {
    "duration": 4,
    "start_time": "2022-06-22T11:31:32.903Z"
   },
   {
    "duration": 205,
    "start_time": "2022-06-22T11:31:32.910Z"
   },
   {
    "duration": 45,
    "start_time": "2022-06-22T11:31:33.117Z"
   },
   {
    "duration": 57,
    "start_time": "2022-06-22T11:31:33.170Z"
   },
   {
    "duration": 8,
    "start_time": "2022-06-22T11:31:33.229Z"
   },
   {
    "duration": 71,
    "start_time": "2022-06-22T11:31:33.260Z"
   },
   {
    "duration": 159,
    "start_time": "2022-06-22T11:31:33.334Z"
   },
   {
    "duration": 204,
    "start_time": "2022-06-22T11:31:33.495Z"
   },
   {
    "duration": 5,
    "start_time": "2022-06-22T11:31:33.701Z"
   },
   {
    "duration": 15,
    "start_time": "2022-06-22T11:31:33.710Z"
   },
   {
    "duration": 48,
    "start_time": "2022-06-22T11:31:33.728Z"
   },
   {
    "duration": 30,
    "start_time": "2022-06-22T11:31:33.778Z"
   },
   {
    "duration": 454,
    "start_time": "2022-06-22T11:31:33.810Z"
   },
   {
    "duration": 41,
    "start_time": "2022-06-22T11:31:34.270Z"
   },
   {
    "duration": 12,
    "start_time": "2022-06-22T11:31:34.313Z"
   },
   {
    "duration": 24,
    "start_time": "2022-06-22T11:31:34.330Z"
   },
   {
    "duration": 63,
    "start_time": "2022-06-22T11:31:34.356Z"
   },
   {
    "duration": 59,
    "start_time": "2022-06-22T11:31:34.422Z"
   },
   {
    "duration": 103,
    "start_time": "2022-06-22T11:31:34.484Z"
   },
   {
    "duration": 101,
    "start_time": "2022-06-22T11:31:34.590Z"
   },
   {
    "duration": 15,
    "start_time": "2022-06-22T11:31:34.693Z"
   },
   {
    "duration": 44,
    "start_time": "2022-06-22T11:31:34.711Z"
   },
   {
    "duration": 33,
    "start_time": "2022-06-22T11:31:34.759Z"
   },
   {
    "duration": 104,
    "start_time": "2022-06-22T11:31:34.794Z"
   },
   {
    "duration": 6,
    "start_time": "2022-06-22T11:31:34.901Z"
   },
   {
    "duration": 72,
    "start_time": "2022-06-22T11:31:34.909Z"
   },
   {
    "duration": 128,
    "start_time": "2022-06-22T11:31:34.983Z"
   },
   {
    "duration": 6,
    "start_time": "2022-06-22T11:31:35.115Z"
   },
   {
    "duration": 33,
    "start_time": "2022-06-22T11:31:35.124Z"
   },
   {
    "duration": 35,
    "start_time": "2022-06-22T11:31:35.159Z"
   },
   {
    "duration": 14,
    "start_time": "2022-06-22T11:31:35.196Z"
   },
   {
    "duration": 20,
    "start_time": "2022-06-22T11:31:35.212Z"
   },
   {
    "duration": 48,
    "start_time": "2022-06-22T11:31:35.234Z"
   },
   {
    "duration": 15,
    "start_time": "2022-06-22T11:31:35.283Z"
   },
   {
    "duration": 66,
    "start_time": "2022-06-22T11:31:35.300Z"
   },
   {
    "duration": 23,
    "start_time": "2022-06-22T11:31:35.368Z"
   },
   {
    "duration": 5,
    "start_time": "2022-06-22T11:31:35.394Z"
   },
   {
    "duration": 42,
    "start_time": "2022-06-22T11:37:27.971Z"
   },
   {
    "duration": 146,
    "start_time": "2022-06-22T11:38:44.777Z"
   },
   {
    "duration": 13,
    "start_time": "2022-06-22T11:39:37.113Z"
   },
   {
    "duration": 37,
    "start_time": "2022-06-22T11:39:46.137Z"
   },
   {
    "duration": 5734,
    "start_time": "2022-06-22T11:40:20.705Z"
   },
   {
    "duration": 685,
    "start_time": "2022-06-22T11:40:26.442Z"
   },
   {
    "duration": 166,
    "start_time": "2022-06-22T11:40:30.642Z"
   },
   {
    "duration": 178,
    "start_time": "2022-06-22T11:40:32.210Z"
   },
   {
    "duration": 246,
    "start_time": "2022-06-22T11:41:21.551Z"
   },
   {
    "duration": 9,
    "start_time": "2022-06-22T11:42:17.948Z"
   },
   {
    "duration": 202,
    "start_time": "2022-06-22T11:42:17.967Z"
   },
   {
    "duration": 30,
    "start_time": "2022-06-22T11:42:18.172Z"
   },
   {
    "duration": 77,
    "start_time": "2022-06-22T11:42:18.204Z"
   },
   {
    "duration": 11,
    "start_time": "2022-06-22T11:42:18.283Z"
   },
   {
    "duration": 88,
    "start_time": "2022-06-22T11:42:18.297Z"
   },
   {
    "duration": 140,
    "start_time": "2022-06-22T11:42:18.387Z"
   },
   {
    "duration": 200,
    "start_time": "2022-06-22T11:42:18.530Z"
   },
   {
    "duration": 4,
    "start_time": "2022-06-22T11:42:18.732Z"
   },
   {
    "duration": 24,
    "start_time": "2022-06-22T11:42:18.738Z"
   },
   {
    "duration": 28,
    "start_time": "2022-06-22T11:42:18.769Z"
   },
   {
    "duration": 43,
    "start_time": "2022-06-22T11:42:18.799Z"
   },
   {
    "duration": 410,
    "start_time": "2022-06-22T11:42:18.861Z"
   },
   {
    "duration": 37,
    "start_time": "2022-06-22T11:42:19.274Z"
   },
   {
    "duration": 11,
    "start_time": "2022-06-22T11:42:19.315Z"
   },
   {
    "duration": 27,
    "start_time": "2022-06-22T11:42:19.328Z"
   },
   {
    "duration": 46,
    "start_time": "2022-06-22T11:42:19.357Z"
   },
   {
    "duration": 69,
    "start_time": "2022-06-22T11:42:19.405Z"
   },
   {
    "duration": 97,
    "start_time": "2022-06-22T11:42:19.477Z"
   },
   {
    "duration": 62,
    "start_time": "2022-06-22T11:42:19.577Z"
   },
   {
    "duration": 12,
    "start_time": "2022-06-22T11:42:19.651Z"
   },
   {
    "duration": 133,
    "start_time": "2022-06-22T11:42:19.665Z"
   },
   {
    "duration": 35,
    "start_time": "2022-06-22T11:42:19.800Z"
   },
   {
    "duration": 82,
    "start_time": "2022-06-22T11:42:19.837Z"
   },
   {
    "duration": 5,
    "start_time": "2022-06-22T11:42:19.921Z"
   },
   {
    "duration": 107,
    "start_time": "2022-06-22T11:42:19.929Z"
   },
   {
    "duration": 90,
    "start_time": "2022-06-22T11:42:20.039Z"
   },
   {
    "duration": 10,
    "start_time": "2022-06-22T11:42:20.131Z"
   },
   {
    "duration": 36,
    "start_time": "2022-06-22T11:42:20.144Z"
   },
   {
    "duration": 25,
    "start_time": "2022-06-22T11:42:20.182Z"
   },
   {
    "duration": 11,
    "start_time": "2022-06-22T11:42:20.209Z"
   },
   {
    "duration": 20,
    "start_time": "2022-06-22T11:42:20.223Z"
   },
   {
    "duration": 79,
    "start_time": "2022-06-22T11:42:20.246Z"
   },
   {
    "duration": 18,
    "start_time": "2022-06-22T11:42:20.328Z"
   },
   {
    "duration": 38,
    "start_time": "2022-06-22T11:42:20.350Z"
   },
   {
    "duration": 36,
    "start_time": "2022-06-22T11:42:20.390Z"
   },
   {
    "duration": 5,
    "start_time": "2022-06-22T11:42:20.428Z"
   },
   {
    "duration": 1217,
    "start_time": "2022-06-23T06:45:33.402Z"
   },
   {
    "duration": 521,
    "start_time": "2022-06-23T06:45:34.621Z"
   },
   {
    "duration": 26,
    "start_time": "2022-06-23T06:45:35.144Z"
   },
   {
    "duration": 102,
    "start_time": "2022-06-23T06:45:35.173Z"
   },
   {
    "duration": 13,
    "start_time": "2022-06-23T06:45:35.277Z"
   },
   {
    "duration": 100,
    "start_time": "2022-06-23T06:45:35.292Z"
   },
   {
    "duration": 129,
    "start_time": "2022-06-23T06:45:35.394Z"
   },
   {
    "duration": 159,
    "start_time": "2022-06-23T06:45:35.524Z"
   },
   {
    "duration": 3,
    "start_time": "2022-06-23T06:45:35.685Z"
   },
   {
    "duration": 31,
    "start_time": "2022-06-23T06:45:35.690Z"
   },
   {
    "duration": 16,
    "start_time": "2022-06-23T06:45:39.482Z"
   },
   {
    "duration": 18,
    "start_time": "2022-06-23T06:46:54.515Z"
   },
   {
    "duration": 55,
    "start_time": "2022-06-23T06:47:46.699Z"
   },
   {
    "duration": 9097,
    "start_time": "2022-06-23T06:48:28.683Z"
   },
   {
    "duration": 20,
    "start_time": "2022-06-23T06:50:24.605Z"
   },
   {
    "duration": 29,
    "start_time": "2022-06-23T06:57:24.841Z"
   },
   {
    "duration": 27,
    "start_time": "2022-06-23T07:18:05.335Z"
   },
   {
    "duration": 7,
    "start_time": "2022-06-23T07:19:01.234Z"
   },
   {
    "duration": 981,
    "start_time": "2022-06-23T07:19:21.843Z"
   },
   {
    "duration": 22,
    "start_time": "2022-06-23T07:19:42.243Z"
   },
   {
    "duration": 5,
    "start_time": "2022-06-23T07:20:00.300Z"
   },
   {
    "duration": 11,
    "start_time": "2022-06-23T07:20:06.581Z"
   },
   {
    "duration": 20,
    "start_time": "2022-06-23T07:22:57.325Z"
   },
   {
    "duration": 11,
    "start_time": "2022-06-23T07:23:00.987Z"
   },
   {
    "duration": 4,
    "start_time": "2022-06-23T07:23:18.540Z"
   },
   {
    "duration": 9,
    "start_time": "2022-06-23T07:23:33.339Z"
   },
   {
    "duration": 5,
    "start_time": "2022-06-23T07:23:45.372Z"
   },
   {
    "duration": 10,
    "start_time": "2022-06-23T07:24:35.709Z"
   },
   {
    "duration": 10,
    "start_time": "2022-06-23T07:25:02.253Z"
   },
   {
    "duration": 8,
    "start_time": "2022-06-23T07:26:03.458Z"
   },
   {
    "duration": 8,
    "start_time": "2022-06-23T07:26:09.947Z"
   },
   {
    "duration": 8,
    "start_time": "2022-06-23T07:26:46.697Z"
   },
   {
    "duration": 41,
    "start_time": "2022-06-23T07:30:30.162Z"
   },
   {
    "duration": 15,
    "start_time": "2022-06-23T07:31:10.531Z"
   },
   {
    "duration": 16,
    "start_time": "2022-06-23T07:31:33.993Z"
   },
   {
    "duration": 15,
    "start_time": "2022-06-23T07:31:49.266Z"
   },
   {
    "duration": 27,
    "start_time": "2022-06-23T07:34:51.131Z"
   },
   {
    "duration": 392,
    "start_time": "2022-06-23T08:01:28.260Z"
   },
   {
    "duration": 21,
    "start_time": "2022-06-23T08:01:34.938Z"
   },
   {
    "duration": 9,
    "start_time": "2022-06-23T08:01:49.940Z"
   },
   {
    "duration": 10,
    "start_time": "2022-06-23T08:01:54.978Z"
   },
   {
    "duration": 32,
    "start_time": "2022-06-23T08:02:02.978Z"
   },
   {
    "duration": 40,
    "start_time": "2022-06-23T08:02:09.811Z"
   },
   {
    "duration": 41,
    "start_time": "2022-06-23T08:02:14.031Z"
   },
   {
    "duration": 41,
    "start_time": "2022-06-23T08:02:21.797Z"
   },
   {
    "duration": 9,
    "start_time": "2022-06-23T08:02:24.451Z"
   },
   {
    "duration": 14,
    "start_time": "2022-06-23T08:02:31.651Z"
   },
   {
    "duration": 17,
    "start_time": "2022-06-23T08:02:36.787Z"
   },
   {
    "duration": 40,
    "start_time": "2022-06-23T08:02:44.675Z"
   },
   {
    "duration": 62,
    "start_time": "2022-06-23T08:02:52.571Z"
   },
   {
    "duration": 43,
    "start_time": "2022-06-23T08:03:08.275Z"
   },
   {
    "duration": 43,
    "start_time": "2022-06-23T08:03:47.660Z"
   },
   {
    "duration": 46,
    "start_time": "2022-06-23T08:04:03.635Z"
   },
   {
    "duration": 44,
    "start_time": "2022-06-23T08:04:27.907Z"
   },
   {
    "duration": 44,
    "start_time": "2022-06-23T08:04:38.355Z"
   },
   {
    "duration": 50,
    "start_time": "2022-06-23T08:04:50.163Z"
   },
   {
    "duration": 49,
    "start_time": "2022-06-23T08:07:10.435Z"
   },
   {
    "duration": 42,
    "start_time": "2022-06-23T08:07:18.771Z"
   },
   {
    "duration": 43,
    "start_time": "2022-06-23T08:07:25.831Z"
   },
   {
    "duration": 41,
    "start_time": "2022-06-23T08:07:34.756Z"
   },
   {
    "duration": 43,
    "start_time": "2022-06-23T08:07:46.250Z"
   },
   {
    "duration": 42,
    "start_time": "2022-06-23T08:07:58.433Z"
   },
   {
    "duration": 60,
    "start_time": "2022-06-23T08:08:06.016Z"
   },
   {
    "duration": 45,
    "start_time": "2022-06-23T08:08:39.281Z"
   },
   {
    "duration": 67,
    "start_time": "2022-06-23T08:09:52.363Z"
   },
   {
    "duration": 4,
    "start_time": "2022-06-23T08:12:17.481Z"
   },
   {
    "duration": 29,
    "start_time": "2022-06-23T08:12:36.384Z"
   },
   {
    "duration": 57,
    "start_time": "2022-06-23T08:12:41.905Z"
   },
   {
    "duration": 6,
    "start_time": "2022-06-23T08:13:20.321Z"
   },
   {
    "duration": 8,
    "start_time": "2022-06-23T08:13:25.224Z"
   },
   {
    "duration": 12,
    "start_time": "2022-06-23T08:13:33.532Z"
   },
   {
    "duration": 7,
    "start_time": "2022-06-23T08:13:48.858Z"
   },
   {
    "duration": 13,
    "start_time": "2022-06-23T08:13:54.861Z"
   },
   {
    "duration": 31,
    "start_time": "2022-06-23T08:14:00.089Z"
   },
   {
    "duration": 12,
    "start_time": "2022-06-23T08:14:10.920Z"
   },
   {
    "duration": 17,
    "start_time": "2022-06-23T08:14:14.464Z"
   },
   {
    "duration": 10,
    "start_time": "2022-06-23T08:17:32.008Z"
   },
   {
    "duration": 9,
    "start_time": "2022-06-23T08:17:53.001Z"
   },
   {
    "duration": 17,
    "start_time": "2022-06-23T08:21:33.809Z"
   },
   {
    "duration": 22,
    "start_time": "2022-06-23T08:22:32.311Z"
   },
   {
    "duration": 22,
    "start_time": "2022-06-23T08:23:15.095Z"
   },
   {
    "duration": 8,
    "start_time": "2022-06-23T08:32:47.946Z"
   },
   {
    "duration": 4,
    "start_time": "2022-06-23T08:36:32.729Z"
   },
   {
    "duration": 8,
    "start_time": "2022-06-23T08:37:58.653Z"
   },
   {
    "duration": 7,
    "start_time": "2022-06-23T08:38:24.501Z"
   },
   {
    "duration": 8,
    "start_time": "2022-06-23T08:39:18.365Z"
   },
   {
    "duration": 10,
    "start_time": "2022-06-23T08:42:34.915Z"
   },
   {
    "duration": 9,
    "start_time": "2022-06-23T08:42:46.297Z"
   },
   {
    "duration": 11,
    "start_time": "2022-06-23T08:45:50.802Z"
   },
   {
    "duration": 29,
    "start_time": "2022-06-23T08:51:30.745Z"
   },
   {
    "duration": 18,
    "start_time": "2022-06-23T08:54:54.544Z"
   },
   {
    "duration": 20,
    "start_time": "2022-06-23T08:58:43.789Z"
   },
   {
    "duration": 5,
    "start_time": "2022-06-23T08:59:00.825Z"
   },
   {
    "duration": 9,
    "start_time": "2022-06-23T09:00:33.029Z"
   },
   {
    "duration": 21,
    "start_time": "2022-06-23T09:00:37.029Z"
   },
   {
    "duration": 23,
    "start_time": "2022-06-23T09:00:39.413Z"
   },
   {
    "duration": 320,
    "start_time": "2022-06-23T09:00:43.454Z"
   },
   {
    "duration": 20,
    "start_time": "2022-06-23T09:00:51.670Z"
   },
   {
    "duration": 33,
    "start_time": "2022-06-23T09:01:03.094Z"
   },
   {
    "duration": 12,
    "start_time": "2022-06-23T09:02:56.445Z"
   },
   {
    "duration": 1177,
    "start_time": "2022-06-23T09:19:31.347Z"
   },
   {
    "duration": 188,
    "start_time": "2022-06-23T09:19:32.530Z"
   },
   {
    "duration": 32,
    "start_time": "2022-06-23T09:19:32.720Z"
   },
   {
    "duration": 72,
    "start_time": "2022-06-23T09:19:32.755Z"
   },
   {
    "duration": 26,
    "start_time": "2022-06-23T09:19:32.830Z"
   },
   {
    "duration": 74,
    "start_time": "2022-06-23T09:19:32.858Z"
   },
   {
    "duration": 160,
    "start_time": "2022-06-23T09:19:32.934Z"
   },
   {
    "duration": 171,
    "start_time": "2022-06-23T09:19:33.096Z"
   },
   {
    "duration": 4,
    "start_time": "2022-06-23T09:19:33.269Z"
   },
   {
    "duration": 18,
    "start_time": "2022-06-23T09:19:33.274Z"
   },
   {
    "duration": 28,
    "start_time": "2022-06-23T09:19:33.294Z"
   },
   {
    "duration": 5,
    "start_time": "2022-06-23T09:19:33.324Z"
   },
   {
    "duration": 26,
    "start_time": "2022-06-23T09:19:33.333Z"
   },
   {
    "duration": 10,
    "start_time": "2022-06-23T09:19:33.361Z"
   },
   {
    "duration": 43,
    "start_time": "2022-06-23T09:19:33.373Z"
   },
   {
    "duration": 39,
    "start_time": "2022-06-23T09:19:33.418Z"
   },
   {
    "duration": 446,
    "start_time": "2022-06-23T09:19:33.459Z"
   },
   {
    "duration": 24,
    "start_time": "2022-06-23T09:19:33.907Z"
   },
   {
    "duration": 22,
    "start_time": "2022-06-23T09:19:33.932Z"
   },
   {
    "duration": 10,
    "start_time": "2022-06-23T09:19:33.956Z"
   },
   {
    "duration": 30,
    "start_time": "2022-06-23T09:19:33.967Z"
   },
   {
    "duration": 62,
    "start_time": "2022-06-23T09:19:33.999Z"
   },
   {
    "duration": 44,
    "start_time": "2022-06-23T09:19:34.063Z"
   },
   {
    "duration": 61,
    "start_time": "2022-06-23T09:19:34.109Z"
   },
   {
    "duration": 9,
    "start_time": "2022-06-23T09:19:34.173Z"
   },
   {
    "duration": 26,
    "start_time": "2022-06-23T09:19:34.184Z"
   },
   {
    "duration": 22,
    "start_time": "2022-06-23T09:19:34.213Z"
   },
   {
    "duration": 59,
    "start_time": "2022-06-23T09:19:34.237Z"
   },
   {
    "duration": 4,
    "start_time": "2022-06-23T09:19:34.298Z"
   },
   {
    "duration": 66,
    "start_time": "2022-06-23T09:19:34.304Z"
   },
   {
    "duration": 68,
    "start_time": "2022-06-23T09:19:34.372Z"
   },
   {
    "duration": 15,
    "start_time": "2022-06-23T09:19:34.442Z"
   },
   {
    "duration": 16,
    "start_time": "2022-06-23T09:19:34.458Z"
   },
   {
    "duration": 15,
    "start_time": "2022-06-23T09:19:34.476Z"
   },
   {
    "duration": 11,
    "start_time": "2022-06-23T09:19:34.493Z"
   },
   {
    "duration": 14,
    "start_time": "2022-06-23T09:19:34.506Z"
   },
   {
    "duration": 49,
    "start_time": "2022-06-23T09:19:34.522Z"
   },
   {
    "duration": 13,
    "start_time": "2022-06-23T09:19:34.572Z"
   },
   {
    "duration": 14,
    "start_time": "2022-06-23T09:19:34.587Z"
   },
   {
    "duration": 48,
    "start_time": "2022-06-23T09:19:34.605Z"
   },
   {
    "duration": 4,
    "start_time": "2022-06-23T09:19:34.656Z"
   }
  ],
  "kernelspec": {
   "display_name": "Python 3 (ipykernel)",
   "language": "python",
   "name": "python3"
  },
  "language_info": {
   "codemirror_mode": {
    "name": "ipython",
    "version": 3
   },
   "file_extension": ".py",
   "mimetype": "text/x-python",
   "name": "python",
   "nbconvert_exporter": "python",
   "pygments_lexer": "ipython3",
   "version": "3.9.7"
  },
  "toc": {
   "base_numbering": 1,
   "nav_menu": {},
   "number_sections": true,
   "sideBar": true,
   "skip_h1_title": true,
   "title_cell": "Содержание",
   "title_sidebar": "Contents",
   "toc_cell": false,
   "toc_position": {},
   "toc_section_display": true,
   "toc_window_display": true
  }
 },
 "nbformat": 4,
 "nbformat_minor": 2
}
