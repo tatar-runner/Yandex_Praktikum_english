{
 "cells": [
  {
   "cell_type": "markdown",
   "metadata": {},
   "source": [
    "# Testing hypotheses to increase revenue\n",
    "\n",
    "Together with the marketing department of a large online store, a list of hypotheses for increasing revenue was prepared.\n",
    "We need to prioritize hypotheses, run an A/B test, and analyze the results.\n",
    "\n",
    "**Work Plan**\n",
    "\n",
    "- **Step 1. Open data files, study general information and prepare data**\n",
    "\n",
    "    File path:\n",
    "    - /datasets/hypothesis.csv\n",
    "    - /datasets/orders.csv\n",
    "    - /datasets/visitors.csv\n",
    "     \n",
    "    \n",
    "- **Step 2. Prioritize hypotheses**\n",
    "\n",
    "    The file /datasets/hypothesis.csv contains 9 hypotheses for increasing the revenue of an online store with the specified parameters Reach, Impact, Confidence, Effort.\n",
    "    - Apply the ICE framework to prioritize hypotheses. Sort them in descending order of priority;\n",
    "    - Apply the RICE framework to prioritize hypotheses. Sort them in descending order of priority;\n",
    "    - We will indicate how the prioritization of hypotheses has changed when using RICE instead of ICE. Let's explain why this happened.\n",
    "    \n",
    "    \n",
    "- **Step 3. A/B test analysis**\n",
    "\n",
    "    We conducted an A/B test and got the results, which are described in the /datasets/orders.csv and /datasets/visitors.csv files.\n",
    "    Let's analyze the A/B test:\n",
    "    - Let's build a graph of cumulative revenue by groups. Let's draw conclusions and assumptions;\n",
    "    - Let's build a graph of the cumulative average check for groups. Let's draw conclusions and assumptions;\n",
    "    - Let's build a graph of the relative change in the cumulative average check of group B to group A. Let's draw conclusions and assumptions;\n",
    "    - Let's build a graph of cumulative conversion by groups. Let's draw conclusions and assumptions;\n",
    "    - Let's build a graph of the relative change in the cumulative conversion of group B to group A. Draw conclusions and assumptions;\n",
    "    - Let's build a point graph of the number of orders by users. Let's draw conclusions and assumptions;\n",
    "    - Let's calculate the 95th and 99th percentiles of the number of orders per user. Let's choose a border to identify anomalous users;\n",
    "    - Let's build a dot chart of order values. Let's draw conclusions and assumptions;\n",
    "    - Calculate the 95th and 99th percentiles of order value. Let's choose a border to detect anomalous orders;\n",
    "    - Calculate the statistical significance of differences in conversion between groups according to \"raw\" data. Let's draw conclusions and assumptions;\n",
    "    - Let's calculate the statistical significance of the differences in the average check of the order between the groups according to the \"raw\" data. Let's draw conclusions and assumptions;\n",
    "    - Calculate the statistical significance of differences in conversion between groups according to the \"cleaned\" data. Let's draw conclusions and assumptions;\n",
    "    - Let's calculate the statistical significance of the differences in the average check of the order between the groups according to the \"cleaned\" data. Let's draw conclusions and assumptions;\n",
    "    - We will make a decision based on the results of the test and explain it. Solutions: 1. Stop the test, record the victory of one of the groups. 2. Stop the test, record the absence of differences between groups. 3. Continue the test.\n",
    "      \n",
    "      \n",
    "- **Step 4. Write a general conclusion**\n",
    "\n",
    "\n",
    "- **Description of data**\n",
    "\n",
    "   File `/datasets/hypothesis.csv` (hypotheses to increase the revenue of an online store):\n",
    "\n",
    "    - `Hypothesis` - a brief description of the hypothesis\n",
    "    - `Reach` - user coverage on a 10-point scale\n",
    "    - `Impact` - impact on users on a 10-point scale\n",
    "    - `Confidence` - confidence in the hypothesis on a 10-point scale\n",
    "    - `Efforts` - the cost of resources to test the hypothesis on a 10-point scale. The larger the `Efforts` value, the more expensive the hypothesis test\n",
    "\n",
    "  File `/datasets/orders.csv` (A/B test results):\n",
    "\n",
    "    - `transactionId` — order identifier\n",
    "    - `visitorId` — identifier of the user who made the order\n",
    "    - `date` — date when the order was made\n",
    "    - `revenue` — order revenue\n",
    "    - `group` — the A/B test group the order is in\n",
    "\n",
    "  File `/datasets/visitors.csv` (A/B test results):\n",
    "\n",
    "    - `date` — date\n",
    "    - `group` — A/B test group\n",
    "    - `visitors` - the number of users on the specified date in the specified A/B test group"
   ]
  },
  {
   "cell_type": "markdown",
   "metadata": {},
   "source": [
    "## Loading data and preparing it for analysis\n",
    "Let's load the data into variables. Optimizing data for analysis. Make sure the data type in each column is correct. File path:\n",
    "\n",
    " -   /datasets/hypothesis.csv. \n",
    " -   /datasets/orders.csv. \n",
    " -   /datasets/visitors.csv."
   ]
  },
  {
   "cell_type": "markdown",
   "metadata": {},
   "source": [
    "### Data overview\n",
    "\n",
    "Let's open the tables and see general information about them."
   ]
  },
  {
   "cell_type": "code",
   "execution_count": 1,
   "metadata": {},
   "outputs": [],
   "source": [
    "# import required libraries\n",
    "import pandas as pd \n",
    "import numpy as np\n",
    "import datetime as dt\n",
    "import matplotlib.pyplot as plt\n",
    "from pandas.plotting import register_matplotlib_converters\n",
    "import warnings\n",
    "import scipy.stats as stats"
   ]
  },
  {
   "cell_type": "code",
   "execution_count": 2,
   "metadata": {},
   "outputs": [
    {
     "data": {
      "text/html": [
       "<div>\n",
       "<style scoped>\n",
       "    .dataframe tbody tr th:only-of-type {\n",
       "        vertical-align: middle;\n",
       "    }\n",
       "\n",
       "    .dataframe tbody tr th {\n",
       "        vertical-align: top;\n",
       "    }\n",
       "\n",
       "    .dataframe thead th {\n",
       "        text-align: right;\n",
       "    }\n",
       "</style>\n",
       "<table border=\"1\" class=\"dataframe\">\n",
       "  <thead>\n",
       "    <tr style=\"text-align: right;\">\n",
       "      <th></th>\n",
       "      <th>Hypothesis</th>\n",
       "      <th>Reach</th>\n",
       "      <th>Impact</th>\n",
       "      <th>Confidence</th>\n",
       "      <th>Efforts</th>\n",
       "    </tr>\n",
       "  </thead>\n",
       "  <tbody>\n",
       "    <tr>\n",
       "      <th>0</th>\n",
       "      <td>Добавить два новых канала привлечения трафика,...</td>\n",
       "      <td>3</td>\n",
       "      <td>10</td>\n",
       "      <td>8</td>\n",
       "      <td>6</td>\n",
       "    </tr>\n",
       "    <tr>\n",
       "      <th>1</th>\n",
       "      <td>Запустить собственную службу доставки, что сок...</td>\n",
       "      <td>2</td>\n",
       "      <td>5</td>\n",
       "      <td>4</td>\n",
       "      <td>10</td>\n",
       "    </tr>\n",
       "    <tr>\n",
       "      <th>2</th>\n",
       "      <td>Добавить блоки рекомендаций товаров на сайт ин...</td>\n",
       "      <td>8</td>\n",
       "      <td>3</td>\n",
       "      <td>7</td>\n",
       "      <td>3</td>\n",
       "    </tr>\n",
       "    <tr>\n",
       "      <th>3</th>\n",
       "      <td>Изменить структура категорий, что увеличит кон...</td>\n",
       "      <td>8</td>\n",
       "      <td>3</td>\n",
       "      <td>3</td>\n",
       "      <td>8</td>\n",
       "    </tr>\n",
       "    <tr>\n",
       "      <th>4</th>\n",
       "      <td>Изменить цвет фона главной страницы, чтобы уве...</td>\n",
       "      <td>3</td>\n",
       "      <td>1</td>\n",
       "      <td>1</td>\n",
       "      <td>1</td>\n",
       "    </tr>\n",
       "  </tbody>\n",
       "</table>\n",
       "</div>"
      ],
      "text/plain": [
       "                                          Hypothesis  Reach  Impact  \\\n",
       "0  Добавить два новых канала привлечения трафика,...      3      10   \n",
       "1  Запустить собственную службу доставки, что сок...      2       5   \n",
       "2  Добавить блоки рекомендаций товаров на сайт ин...      8       3   \n",
       "3  Изменить структура категорий, что увеличит кон...      8       3   \n",
       "4  Изменить цвет фона главной страницы, чтобы уве...      3       1   \n",
       "\n",
       "   Confidence  Efforts  \n",
       "0           8        6  \n",
       "1           4       10  \n",
       "2           7        3  \n",
       "3           3        8  \n",
       "4           1        1  "
      ]
     },
     "metadata": {},
     "output_type": "display_data"
    },
    {
     "data": {
      "text/html": [
       "<div>\n",
       "<style scoped>\n",
       "    .dataframe tbody tr th:only-of-type {\n",
       "        vertical-align: middle;\n",
       "    }\n",
       "\n",
       "    .dataframe tbody tr th {\n",
       "        vertical-align: top;\n",
       "    }\n",
       "\n",
       "    .dataframe thead th {\n",
       "        text-align: right;\n",
       "    }\n",
       "</style>\n",
       "<table border=\"1\" class=\"dataframe\">\n",
       "  <thead>\n",
       "    <tr style=\"text-align: right;\">\n",
       "      <th></th>\n",
       "      <th>transactionId</th>\n",
       "      <th>visitorId</th>\n",
       "      <th>date</th>\n",
       "      <th>revenue</th>\n",
       "      <th>group</th>\n",
       "    </tr>\n",
       "  </thead>\n",
       "  <tbody>\n",
       "    <tr>\n",
       "      <th>0</th>\n",
       "      <td>3667963787</td>\n",
       "      <td>3312258926</td>\n",
       "      <td>2019-08-15</td>\n",
       "      <td>1650</td>\n",
       "      <td>B</td>\n",
       "    </tr>\n",
       "    <tr>\n",
       "      <th>1</th>\n",
       "      <td>2804400009</td>\n",
       "      <td>3642806036</td>\n",
       "      <td>2019-08-15</td>\n",
       "      <td>730</td>\n",
       "      <td>B</td>\n",
       "    </tr>\n",
       "    <tr>\n",
       "      <th>2</th>\n",
       "      <td>2961555356</td>\n",
       "      <td>4069496402</td>\n",
       "      <td>2019-08-15</td>\n",
       "      <td>400</td>\n",
       "      <td>A</td>\n",
       "    </tr>\n",
       "    <tr>\n",
       "      <th>3</th>\n",
       "      <td>3797467345</td>\n",
       "      <td>1196621759</td>\n",
       "      <td>2019-08-15</td>\n",
       "      <td>9759</td>\n",
       "      <td>B</td>\n",
       "    </tr>\n",
       "    <tr>\n",
       "      <th>4</th>\n",
       "      <td>2282983706</td>\n",
       "      <td>2322279887</td>\n",
       "      <td>2019-08-15</td>\n",
       "      <td>2308</td>\n",
       "      <td>B</td>\n",
       "    </tr>\n",
       "  </tbody>\n",
       "</table>\n",
       "</div>"
      ],
      "text/plain": [
       "   transactionId   visitorId        date  revenue group\n",
       "0     3667963787  3312258926  2019-08-15     1650     B\n",
       "1     2804400009  3642806036  2019-08-15      730     B\n",
       "2     2961555356  4069496402  2019-08-15      400     A\n",
       "3     3797467345  1196621759  2019-08-15     9759     B\n",
       "4     2282983706  2322279887  2019-08-15     2308     B"
      ]
     },
     "metadata": {},
     "output_type": "display_data"
    },
    {
     "data": {
      "text/html": [
       "<div>\n",
       "<style scoped>\n",
       "    .dataframe tbody tr th:only-of-type {\n",
       "        vertical-align: middle;\n",
       "    }\n",
       "\n",
       "    .dataframe tbody tr th {\n",
       "        vertical-align: top;\n",
       "    }\n",
       "\n",
       "    .dataframe thead th {\n",
       "        text-align: right;\n",
       "    }\n",
       "</style>\n",
       "<table border=\"1\" class=\"dataframe\">\n",
       "  <thead>\n",
       "    <tr style=\"text-align: right;\">\n",
       "      <th></th>\n",
       "      <th>date</th>\n",
       "      <th>group</th>\n",
       "      <th>visitors</th>\n",
       "    </tr>\n",
       "  </thead>\n",
       "  <tbody>\n",
       "    <tr>\n",
       "      <th>0</th>\n",
       "      <td>2019-08-01</td>\n",
       "      <td>A</td>\n",
       "      <td>719</td>\n",
       "    </tr>\n",
       "    <tr>\n",
       "      <th>1</th>\n",
       "      <td>2019-08-02</td>\n",
       "      <td>A</td>\n",
       "      <td>619</td>\n",
       "    </tr>\n",
       "    <tr>\n",
       "      <th>2</th>\n",
       "      <td>2019-08-03</td>\n",
       "      <td>A</td>\n",
       "      <td>507</td>\n",
       "    </tr>\n",
       "    <tr>\n",
       "      <th>3</th>\n",
       "      <td>2019-08-04</td>\n",
       "      <td>A</td>\n",
       "      <td>717</td>\n",
       "    </tr>\n",
       "    <tr>\n",
       "      <th>4</th>\n",
       "      <td>2019-08-05</td>\n",
       "      <td>A</td>\n",
       "      <td>756</td>\n",
       "    </tr>\n",
       "  </tbody>\n",
       "</table>\n",
       "</div>"
      ],
      "text/plain": [
       "         date group  visitors\n",
       "0  2019-08-01     A       719\n",
       "1  2019-08-02     A       619\n",
       "2  2019-08-03     A       507\n",
       "3  2019-08-04     A       717\n",
       "4  2019-08-05     A       756"
      ]
     },
     "metadata": {},
     "output_type": "display_data"
    }
   ],
   "source": [
    "# reading data files and storing in variables\n",
    "try:\n",
    "    hypothesis = pd.read_csv('/datasets/hypothesis.csv')\n",
    "except:\n",
    "    hypothesis = pd.read_csv('C:/Users/tatar/downloads/hypothesis.csv')\n",
    "    \n",
    "try:\n",
    "    orders = pd.read_csv('/datasets/orders.csv')\n",
    "except:\n",
    "    orders = pd.read_csv('C:/Users/tatar/downloads/orders.csv')\n",
    "    \n",
    "try:\n",
    "    visitors = pd.read_csv('/datasets/visitors.csv')\n",
    "except:\n",
    "    visitors = pd.read_csv('C:/Users/tatar/downloads/visitors.csv')\n",
    "\n",
    "# displaying the first 5 rows of tables\n",
    "display(hypothesis.head())\n",
    "display(orders.head())\n",
    "display(visitors.head())"
   ]
  },
  {
   "cell_type": "markdown",
   "metadata": {},
   "source": [
    "<div class=\"alert alert-block alert-info\">\n",
    "<b>Note:</b>\n",
    "    \n",
    "    The 'Hypothesis' column in hypothesis dataset shows the hypothesis in Russian:\n",
    "    \n",
    "    * Добавить два новых канала привлечения трафика, что позволит привлекать на 30% больше пользователей - Add two new channels to attract traffic, which will attract 30% more users\n",
    "    * Запустить собственную службу доставки, что сократит срок доставки заказов - Launch your own delivery service, which will reduce the delivery time of orders\n",
    "    * Добавить блоки рекомендаций товаров на сайт интернет магазина, чтобы повысить конверсию и средний чек заказа - Add product recommendation blocks to the online store website to increase conversion and average check of the order\n",
    "    * Изменить структура категорий, что увеличит конверсию, т.к. пользователи быстрее найдут нужный товар - Change the structure of categories, which will increase the conversion, because. users will find the right product faster\n",
    "    * Изменить цвет фона главной страницы, чтобы увеличить вовлеченность пользователей - Change the background color of the main page to increase user engagement\n",
    "</div>"
   ]
  },
  {
   "cell_type": "code",
   "execution_count": 3,
   "metadata": {},
   "outputs": [
    {
     "name": "stdout",
     "output_type": "stream",
     "text": [
      "<class 'pandas.core.frame.DataFrame'>\n",
      "RangeIndex: 9 entries, 0 to 8\n",
      "Data columns (total 5 columns):\n",
      " #   Column      Non-Null Count  Dtype \n",
      "---  ------      --------------  ----- \n",
      " 0   Hypothesis  9 non-null      object\n",
      " 1   Reach       9 non-null      int64 \n",
      " 2   Impact      9 non-null      int64 \n",
      " 3   Confidence  9 non-null      int64 \n",
      " 4   Efforts     9 non-null      int64 \n",
      "dtypes: int64(4), object(1)\n",
      "memory usage: 488.0+ bytes\n",
      "\n",
      "\n",
      "<class 'pandas.core.frame.DataFrame'>\n",
      "RangeIndex: 1197 entries, 0 to 1196\n",
      "Data columns (total 5 columns):\n",
      " #   Column         Non-Null Count  Dtype \n",
      "---  ------         --------------  ----- \n",
      " 0   transactionId  1197 non-null   int64 \n",
      " 1   visitorId      1197 non-null   int64 \n",
      " 2   date           1197 non-null   object\n",
      " 3   revenue        1197 non-null   int64 \n",
      " 4   group          1197 non-null   object\n",
      "dtypes: int64(3), object(2)\n",
      "memory usage: 46.9+ KB\n",
      "\n",
      "\n",
      "<class 'pandas.core.frame.DataFrame'>\n",
      "RangeIndex: 62 entries, 0 to 61\n",
      "Data columns (total 3 columns):\n",
      " #   Column    Non-Null Count  Dtype \n",
      "---  ------    --------------  ----- \n",
      " 0   date      62 non-null     object\n",
      " 1   group     62 non-null     object\n",
      " 2   visitors  62 non-null     int64 \n",
      "dtypes: int64(1), object(2)\n",
      "memory usage: 1.6+ KB\n"
     ]
    }
   ],
   "source": [
    "# getting general information about the data\n",
    "hypothesis.info()\n",
    "print('\\n')\n",
    "orders.info()\n",
    "print('\\n')\n",
    "visitors.info()"
   ]
  },
  {
   "cell_type": "code",
   "execution_count": 4,
   "metadata": {},
   "outputs": [
    {
     "name": "stdout",
     "output_type": "stream",
     "text": [
      "0\n",
      "0\n",
      "0\n"
     ]
    }
   ],
   "source": [
    "# counting duplicates in tables\n",
    "print(hypothesis.duplicated().sum()) \n",
    "print(orders.duplicated().sum())\n",
    "print(visitors.duplicated().sum())"
   ]
  },
  {
   "cell_type": "markdown",
   "metadata": {},
   "source": [
    "**Conclusions**\n",
    "\n",
    "* It is necessary to replace the column names, bring them to lower case and the correct style;\n",
    "* It is necessary to cast data in columns containing date and time information to the correct type;\n",
    "* There are no missing values;\n",
    "* No duplicates."
   ]
  },
  {
   "cell_type": "markdown",
   "metadata": {},
   "source": [
    "### Data preprocessing\n",
    "\n",
    "Let's replace the column names, bring them to lowercase and the correct style."
   ]
  },
  {
   "cell_type": "code",
   "execution_count": 5,
   "metadata": {},
   "outputs": [
    {
     "name": "stdout",
     "output_type": "stream",
     "text": [
      "Index(['hypothesis', 'reach', 'impact', 'confidence', 'efforts'], dtype='object')\n",
      "Index(['transaction_id', 'visitor_id', 'date', 'revenue', 'group'], dtype='object')\n"
     ]
    }
   ],
   "source": [
    "# renaming columns\n",
    "hypothesis.rename(str.lower, axis='columns', inplace=True) \n",
    "orders = orders.rename(columns={'transactionId': 'transaction_id', 'visitorId': 'visitor_id'}) \n",
    "\n",
    "# check\n",
    "print(hypothesis.columns) \n",
    "print(orders.columns) "
   ]
  },
  {
   "cell_type": "markdown",
   "metadata": {},
   "source": [
    "Convert data containing date and time information to `datetime` format."
   ]
  },
  {
   "cell_type": "code",
   "execution_count": 6,
   "metadata": {},
   "outputs": [
    {
     "name": "stdout",
     "output_type": "stream",
     "text": [
      "datetime64[ns]\n",
      "datetime64[ns]\n"
     ]
    }
   ],
   "source": [
    "# changing the type of data containing date and time information\n",
    "orders['date'] = pd.to_datetime(orders['date'])\n",
    "visitors['date'] = pd.to_datetime(visitors['date'])\n",
    "\n",
    "# check\n",
    "print(orders['date'].dtypes)\n",
    "print(visitors['date'].dtypes) "
   ]
  },
  {
   "cell_type": "markdown",
   "metadata": {},
   "source": [
    "**Conclusions**\n",
    "\n",
    "So we did the following:\n",
    "* Replaced the names of the columns, brought them to lower case and the correct type;\n",
    "* Resulted in the correct type of data in columns containing date and time information."
   ]
  },
  {
   "cell_type": "markdown",
   "metadata": {},
   "source": [
    "## Prioritization of hypotheses\n",
    "\n",
    "We will prioritize hypotheses using the `ICE` and `RICE` frameworks.\n",
    "\n",
    "Let's use the ICE framework to prioritize hypotheses. Let's add a column with the results of the ICE calculation to the hypothesis table and sort the hypotheses in descending order of priority."
   ]
  },
  {
   "cell_type": "code",
   "execution_count": 7,
   "metadata": {},
   "outputs": [
    {
     "data": {
      "text/html": [
       "<div>\n",
       "<style scoped>\n",
       "    .dataframe tbody tr th:only-of-type {\n",
       "        vertical-align: middle;\n",
       "    }\n",
       "\n",
       "    .dataframe tbody tr th {\n",
       "        vertical-align: top;\n",
       "    }\n",
       "\n",
       "    .dataframe thead th {\n",
       "        text-align: right;\n",
       "    }\n",
       "</style>\n",
       "<table border=\"1\" class=\"dataframe\">\n",
       "  <thead>\n",
       "    <tr style=\"text-align: right;\">\n",
       "      <th></th>\n",
       "      <th>hypothesis</th>\n",
       "      <th>ice</th>\n",
       "    </tr>\n",
       "  </thead>\n",
       "  <tbody>\n",
       "    <tr>\n",
       "      <th>8</th>\n",
       "      <td>Запустить акцию, дающую скидку на товар в день рождения</td>\n",
       "      <td>16.200</td>\n",
       "    </tr>\n",
       "    <tr>\n",
       "      <th>0</th>\n",
       "      <td>Добавить два новых канала привлечения трафика, что позволит привлекать на 30% больше пользователей</td>\n",
       "      <td>13.333</td>\n",
       "    </tr>\n",
       "    <tr>\n",
       "      <th>7</th>\n",
       "      <td>Добавить форму подписки на все основные страницы, чтобы собрать базу клиентов для email-рассылок</td>\n",
       "      <td>11.200</td>\n",
       "    </tr>\n",
       "    <tr>\n",
       "      <th>6</th>\n",
       "      <td>Показать на главной странице баннеры с актуальными акциями и распродажами, чтобы увеличить конверсию</td>\n",
       "      <td>8.000</td>\n",
       "    </tr>\n",
       "    <tr>\n",
       "      <th>2</th>\n",
       "      <td>Добавить блоки рекомендаций товаров на сайт интернет магазина, чтобы повысить конверсию и средний чек заказа</td>\n",
       "      <td>7.000</td>\n",
       "    </tr>\n",
       "    <tr>\n",
       "      <th>1</th>\n",
       "      <td>Запустить собственную службу доставки, что сократит срок доставки заказов</td>\n",
       "      <td>2.000</td>\n",
       "    </tr>\n",
       "    <tr>\n",
       "      <th>5</th>\n",
       "      <td>Добавить страницу отзывов клиентов о магазине, что позволит увеличить количество заказов</td>\n",
       "      <td>1.333</td>\n",
       "    </tr>\n",
       "    <tr>\n",
       "      <th>3</th>\n",
       "      <td>Изменить структура категорий, что увеличит конверсию, т.к. пользователи быстрее найдут нужный товар</td>\n",
       "      <td>1.125</td>\n",
       "    </tr>\n",
       "    <tr>\n",
       "      <th>4</th>\n",
       "      <td>Изменить цвет фона главной страницы, чтобы увеличить вовлеченность пользователей</td>\n",
       "      <td>1.000</td>\n",
       "    </tr>\n",
       "  </tbody>\n",
       "</table>\n",
       "</div>"
      ],
      "text/plain": [
       "                                                                                                     hypothesis  \\\n",
       "8                                                       Запустить акцию, дающую скидку на товар в день рождения   \n",
       "0            Добавить два новых канала привлечения трафика, что позволит привлекать на 30% больше пользователей   \n",
       "7              Добавить форму подписки на все основные страницы, чтобы собрать базу клиентов для email-рассылок   \n",
       "6          Показать на главной странице баннеры с актуальными акциями и распродажами, чтобы увеличить конверсию   \n",
       "2  Добавить блоки рекомендаций товаров на сайт интернет магазина, чтобы повысить конверсию и средний чек заказа   \n",
       "1                                     Запустить собственную службу доставки, что сократит срок доставки заказов   \n",
       "5                      Добавить страницу отзывов клиентов о магазине, что позволит увеличить количество заказов   \n",
       "3           Изменить структура категорий, что увеличит конверсию, т.к. пользователи быстрее найдут нужный товар   \n",
       "4                              Изменить цвет фона главной страницы, чтобы увеличить вовлеченность пользователей   \n",
       "\n",
       "      ice  \n",
       "8  16.200  \n",
       "0  13.333  \n",
       "7  11.200  \n",
       "6   8.000  \n",
       "2   7.000  \n",
       "1   2.000  \n",
       "5   1.333  \n",
       "3   1.125  \n",
       "4   1.000  "
      ]
     },
     "metadata": {},
     "output_type": "display_data"
    }
   ],
   "source": [
    "pd.set_option('display.max_colwidth', None) # setting display column width by content\n",
    "\n",
    "hypothesis['ice'] = round((hypothesis['impact'] * hypothesis['confidence'])/hypothesis['efforts'], 3)\n",
    "display(hypothesis[['hypothesis', 'ice']].sort_values(by='ice', ascending=False))"
   ]
  },
  {
   "cell_type": "markdown",
   "metadata": {},
   "source": [
    "<div class=\"alert alert-block alert-info\">\n",
    "<b>Note:</b>\n",
    "    \n",
    "    The 'Hypothesis' column in hypothesis dataset shows the hypothesis in Russian:\n",
    "    \n",
    "    * Добавить два новых канала привлечения трафика, что позволит привлекать на 30% больше пользователей - Add two new channels to attract traffic, which will attract 30% more users\n",
    "    * Запустить собственную службу доставки, что сократит срок доставки заказов - Launch your own delivery service, which will reduce the delivery time of orders\n",
    "    * Добавить блоки рекомендаций товаров на сайт интернет магазина, чтобы повысить конверсию и средний чек заказа - Add product recommendation blocks to the online store website to increase conversion and average check of the order\n",
    "    * Изменить структура категорий, что увеличит конверсию, т.к. пользователи быстрее найдут нужный товар - Change the structure of categories, which will increase the conversion, because. users will find the right product faster\n",
    "    * Изменить цвет фона главной страницы, чтобы увеличить вовлеченность пользователей - Change the background color of the main page to increase user engagement\n",
    "    * Добавить страницу отзывов клиентов о магазине, что позволит увеличить количество заказов - Add a customer reviews page about the store, which will increase the number of orders\n",
    "    * Показать на главной странице баннеры с актуальными акциями и распродажами, чтобы увеличить конверсию - Display banners with current promotions and sales on the main page to increase conversion\n",
    "    * Добавить форму подписки на все основные страницы, чтобы собрать базу клиентов для email-рассылок - Add a subscription form to all main pages to build a customer base for email newsletters\n",
    "    * Запустить акцию, дающую скидку на товар в день рождения - Launch a promotion that gives a discount on goods on your birthday\n",
    "</div>"
   ]
  },
  {
   "cell_type": "markdown",
   "metadata": {},
   "source": [
    "**Most promising hypotheses for ICE:**\n",
    "\n",
    "* 8 - Launch a promotion that gives a discount on goods on your birthday;\n",
    "* 0 - Add two new channels to attract traffic, which will attract 30% more users;\n",
    "* 7 - Add a subscription form to all main pages to build a customer base for email newsletters\n",
    "* 6 - Display banners with current promotions and sales on the main page to increase conversion."
   ]
  },
  {
   "cell_type": "markdown",
   "metadata": {},
   "source": [
    "Let's use the RICE framework to prioritize hypotheses. Let's add a column with the results of the RICE calculation to the hypothesis table and sort the hypotheses in descending order of priority."
   ]
  },
  {
   "cell_type": "code",
   "execution_count": 8,
   "metadata": {},
   "outputs": [
    {
     "data": {
      "text/html": [
       "<div>\n",
       "<style scoped>\n",
       "    .dataframe tbody tr th:only-of-type {\n",
       "        vertical-align: middle;\n",
       "    }\n",
       "\n",
       "    .dataframe tbody tr th {\n",
       "        vertical-align: top;\n",
       "    }\n",
       "\n",
       "    .dataframe thead th {\n",
       "        text-align: right;\n",
       "    }\n",
       "</style>\n",
       "<table border=\"1\" class=\"dataframe\">\n",
       "  <thead>\n",
       "    <tr style=\"text-align: right;\">\n",
       "      <th></th>\n",
       "      <th>hypothesis</th>\n",
       "      <th>rice</th>\n",
       "    </tr>\n",
       "  </thead>\n",
       "  <tbody>\n",
       "    <tr>\n",
       "      <th>7</th>\n",
       "      <td>Добавить форму подписки на все основные страницы, чтобы собрать базу клиентов для email-рассылок</td>\n",
       "      <td>112.0</td>\n",
       "    </tr>\n",
       "    <tr>\n",
       "      <th>2</th>\n",
       "      <td>Добавить блоки рекомендаций товаров на сайт интернет магазина, чтобы повысить конверсию и средний чек заказа</td>\n",
       "      <td>56.0</td>\n",
       "    </tr>\n",
       "    <tr>\n",
       "      <th>0</th>\n",
       "      <td>Добавить два новых канала привлечения трафика, что позволит привлекать на 30% больше пользователей</td>\n",
       "      <td>40.0</td>\n",
       "    </tr>\n",
       "    <tr>\n",
       "      <th>6</th>\n",
       "      <td>Показать на главной странице баннеры с актуальными акциями и распродажами, чтобы увеличить конверсию</td>\n",
       "      <td>40.0</td>\n",
       "    </tr>\n",
       "    <tr>\n",
       "      <th>8</th>\n",
       "      <td>Запустить акцию, дающую скидку на товар в день рождения</td>\n",
       "      <td>16.2</td>\n",
       "    </tr>\n",
       "    <tr>\n",
       "      <th>3</th>\n",
       "      <td>Изменить структура категорий, что увеличит конверсию, т.к. пользователи быстрее найдут нужный товар</td>\n",
       "      <td>9.0</td>\n",
       "    </tr>\n",
       "    <tr>\n",
       "      <th>1</th>\n",
       "      <td>Запустить собственную службу доставки, что сократит срок доставки заказов</td>\n",
       "      <td>4.0</td>\n",
       "    </tr>\n",
       "    <tr>\n",
       "      <th>5</th>\n",
       "      <td>Добавить страницу отзывов клиентов о магазине, что позволит увеличить количество заказов</td>\n",
       "      <td>4.0</td>\n",
       "    </tr>\n",
       "    <tr>\n",
       "      <th>4</th>\n",
       "      <td>Изменить цвет фона главной страницы, чтобы увеличить вовлеченность пользователей</td>\n",
       "      <td>3.0</td>\n",
       "    </tr>\n",
       "  </tbody>\n",
       "</table>\n",
       "</div>"
      ],
      "text/plain": [
       "                                                                                                     hypothesis  \\\n",
       "7              Добавить форму подписки на все основные страницы, чтобы собрать базу клиентов для email-рассылок   \n",
       "2  Добавить блоки рекомендаций товаров на сайт интернет магазина, чтобы повысить конверсию и средний чек заказа   \n",
       "0            Добавить два новых канала привлечения трафика, что позволит привлекать на 30% больше пользователей   \n",
       "6          Показать на главной странице баннеры с актуальными акциями и распродажами, чтобы увеличить конверсию   \n",
       "8                                                       Запустить акцию, дающую скидку на товар в день рождения   \n",
       "3           Изменить структура категорий, что увеличит конверсию, т.к. пользователи быстрее найдут нужный товар   \n",
       "1                                     Запустить собственную службу доставки, что сократит срок доставки заказов   \n",
       "5                      Добавить страницу отзывов клиентов о магазине, что позволит увеличить количество заказов   \n",
       "4                              Изменить цвет фона главной страницы, чтобы увеличить вовлеченность пользователей   \n",
       "\n",
       "    rice  \n",
       "7  112.0  \n",
       "2   56.0  \n",
       "0   40.0  \n",
       "6   40.0  \n",
       "8   16.2  \n",
       "3    9.0  \n",
       "1    4.0  \n",
       "5    4.0  \n",
       "4    3.0  "
      ]
     },
     "metadata": {},
     "output_type": "display_data"
    }
   ],
   "source": [
    "hypothesis['rice'] = round((hypothesis['reach'] * hypothesis['impact'] * hypothesis['confidence'])/hypothesis['efforts'], 3)\n",
    "display(hypothesis[['hypothesis', 'rice']].sort_values(by='rice', ascending=False))"
   ]
  },
  {
   "cell_type": "markdown",
   "metadata": {},
   "source": [
    "<div class=\"alert alert-block alert-info\">\n",
    "<b>Note:</b>\n",
    "    \n",
    "    The 'Hypothesis' column in hypothesis dataset shows the hypothesis in Russian:\n",
    "    \n",
    "    * Добавить два новых канала привлечения трафика, что позволит привлекать на 30% больше пользователей - Add two new channels to attract traffic, which will attract 30% more users\n",
    "    * Запустить собственную службу доставки, что сократит срок доставки заказов - Launch your own delivery service, which will reduce the delivery time of orders\n",
    "    * Добавить блоки рекомендаций товаров на сайт интернет магазина, чтобы повысить конверсию и средний чек заказа - Add product recommendation blocks to the online store website to increase conversion and average check of the order\n",
    "    * Изменить структура категорий, что увеличит конверсию, т.к. пользователи быстрее найдут нужный товар - Change the structure of categories, which will increase the conversion, because. users will find the right product faster\n",
    "    * Изменить цвет фона главной страницы, чтобы увеличить вовлеченность пользователей - Change the background color of the main page to increase user engagement\n",
    "    * Добавить страницу отзывов клиентов о магазине, что позволит увеличить количество заказов - Add a customer reviews page about the store, which will increase the number of orders\n",
    "    * Показать на главной странице баннеры с актуальными акциями и распродажами, чтобы увеличить конверсию - Display banners with current promotions and sales on the main page to increase conversion\n",
    "    * Добавить форму подписки на все основные страницы, чтобы собрать базу клиентов для email-рассылок - Add a subscription form to all main pages to build a customer base for email newsletters\n",
    "    * Запустить акцию, дающую скидку на товар в день рождения - Launch a promotion that gives a discount on goods on your birthday\n",
    "</div>"
   ]
  },
  {
   "cell_type": "markdown",
   "metadata": {},
   "source": [
    "**The most promising hypotheses according to RICE:**\n",
    "\n",
    "* 7 - Add a subscription form to all main pages to build a customer base for email newsletters;\n",
    "* 2 - Add blocks of product recommendations to the website of the online store in order to increase the conversion and the average check of the order;\n",
    "* 0 - Add two new channels to attract traffic, which will attract 30% more users;\n",
    "* 6 - Display banners with current promotions and sales on the main page to increase conversion."
   ]
  },
  {
   "cell_type": "markdown",
   "metadata": {},
   "source": [
    "**Conclusions**\n",
    "\n",
    "- The most promising hypothesis for ICE at number 8 was in fifth place when calculating RICE. This can be explained by the value of the `reach` indicator - the number of users that will be affected by the change. This factor also influenced other hypotheses;\n",
    "- Nevertheless, taking into account the results of both prioritizations of hypotheses in a complex way, the most important of them can be distinguished:\n",
    "    * 7 - Add a subscription form to all main pages to build a customer base for email newsletters;\n",
    "    * 0 - Add two new channels to attract traffic, which will attract 30% more users;\n",
    "    * 6 - Display banners with current promotions and sales on the main page to increase conversion."
   ]
  },
  {
   "cell_type": "markdown",
   "metadata": {},
   "source": [
    "## A/B test analysis\n",
    "\n",
    "We ran an A/B test and got the results described in `/datasets/orders.csv` and `/datasets/visitors.csv`.\n",
    "\n",
    "Let's analyze the results of the A/B test.\n",
    "\n",
    "First, let's check how many groups we have in the A/B test."
   ]
  },
  {
   "cell_type": "code",
   "execution_count": 9,
   "metadata": {},
   "outputs": [
    {
     "name": "stdout",
     "output_type": "stream",
     "text": [
      "['B' 'A']\n",
      "['A' 'B']\n"
     ]
    }
   ],
   "source": [
    "print(orders['group'].unique())\n",
    "print(visitors['group'].unique())"
   ]
  },
  {
   "cell_type": "markdown",
   "metadata": {},
   "source": [
    "There are 2 groups in the results of the A/B test (A and B).\n",
    "\n",
    "Now let's define the start and end dates for the A/B test."
   ]
  },
  {
   "cell_type": "code",
   "execution_count": 10,
   "metadata": {},
   "outputs": [
    {
     "name": "stdout",
     "output_type": "stream",
     "text": [
      "A/B test start date for the orders table: 2019-08-01\n",
      "A/B test end date for the orders table: 2019-08-31\n",
      "\n",
      "\n",
      "A/B test start date for the visitors table: 2019-08-01\n",
      "A/B test end date for the visitors table: 2019-08-31\n"
     ]
    }
   ],
   "source": [
    "print('A/B test start date for the orders table:', min(orders['date'].dt.date))\n",
    "print('A/B test end date for the orders table:', max(orders['date'].dt.date))\n",
    "print('\\n')\n",
    "print('A/B test start date for the visitors table:', min(visitors['date'].dt.date))\n",
    "print('A/B test end date for the visitors table:', max(visitors['date'].dt.date))"
   ]
  },
  {
   "cell_type": "markdown",
   "metadata": {},
   "source": [
    "The testing period is the same for both tables.\n",
    "\n",
    "Determine the number of users in each group. To do this, we will form an auxiliary dataframe `orders_by_group` based on the `orders` table, in which there will be columns with the following columns: `unique_group_size` - the number of unique users in the group, `group_size` - the total number of users in the group, `both_groups_size` - the number of users, included in both groups."
   ]
  },
  {
   "cell_type": "code",
   "execution_count": 11,
   "metadata": {},
   "outputs": [
    {
     "data": {
      "text/html": [
       "<div>\n",
       "<style scoped>\n",
       "    .dataframe tbody tr th:only-of-type {\n",
       "        vertical-align: middle;\n",
       "    }\n",
       "\n",
       "    .dataframe tbody tr th {\n",
       "        vertical-align: top;\n",
       "    }\n",
       "\n",
       "    .dataframe thead th {\n",
       "        text-align: right;\n",
       "    }\n",
       "</style>\n",
       "<table border=\"1\" class=\"dataframe\">\n",
       "  <thead>\n",
       "    <tr style=\"text-align: right;\">\n",
       "      <th></th>\n",
       "      <th>unique_group_size</th>\n",
       "      <th>group_size</th>\n",
       "      <th>both_groups_size</th>\n",
       "    </tr>\n",
       "    <tr>\n",
       "      <th>group</th>\n",
       "      <th></th>\n",
       "      <th></th>\n",
       "      <th></th>\n",
       "    </tr>\n",
       "  </thead>\n",
       "  <tbody>\n",
       "    <tr>\n",
       "      <th>A</th>\n",
       "      <td>503</td>\n",
       "      <td>557</td>\n",
       "      <td>54</td>\n",
       "    </tr>\n",
       "    <tr>\n",
       "      <th>B</th>\n",
       "      <td>586</td>\n",
       "      <td>640</td>\n",
       "      <td>54</td>\n",
       "    </tr>\n",
       "  </tbody>\n",
       "</table>\n",
       "</div>"
      ],
      "text/plain": [
       "       unique_group_size  group_size  both_groups_size\n",
       "group                                                 \n",
       "A                    503         557                54\n",
       "B                    586         640                54"
      ]
     },
     "execution_count": 11,
     "metadata": {},
     "output_type": "execute_result"
    }
   ],
   "source": [
    "orders_by_group = (\n",
    "    orders.groupby('group')\n",
    "    .agg({'visitor_id': ['nunique', 'count']})\n",
    ")\n",
    "orders_by_group.columns = ['unique_group_size', 'group_size']\n",
    "orders_by_group['both_groups_size'] = orders_by_group['group_size'] - orders_by_group['unique_group_size']\n",
    "orders_by_group"
   ]
  },
  {
   "cell_type": "markdown",
   "metadata": {},
   "source": [
    "**Conclusions**\n",
    "\n",
    "According to the preliminary analysis of the results of the A/B test:\n",
    "- Checked that there are two testing groups, A and B;\n",
    "- Determined that the test took place in the interval from 08/01/2019 to 08/31/2019;\n",
    "- We determined the size of the groups, in group A - 503 users, in B - 586 users, 54 users are included in both groups."
   ]
  },
  {
   "cell_type": "markdown",
   "metadata": {},
   "source": [
    "### Graph of cumulative revenue by groups\n",
    "\n",
    "To build graphs, you need to collect cumulative data. Let's form a `cumulative_data` dataframe with columns:\n",
    "\n",
    "- `date` — date;\n",
    "- `group` — A/B test group (A or B);\n",
    "- `orders` - cumulative number of orders for the specified date in the specified group;\n",
    "- `buyers` - cumulative number of users who made at least one order on the specified date in the specified group;\n",
    "- `revenue` — cumulative revenue as of the specified date in the specified group (average bill);\n",
    "- `visitors` - the cumulative number of visitors to the online store on the specified date in a certain group."
   ]
  },
  {
   "cell_type": "code",
   "execution_count": 12,
   "metadata": {},
   "outputs": [
    {
     "data": {
      "text/html": [
       "<div>\n",
       "<style scoped>\n",
       "    .dataframe tbody tr th:only-of-type {\n",
       "        vertical-align: middle;\n",
       "    }\n",
       "\n",
       "    .dataframe tbody tr th {\n",
       "        vertical-align: top;\n",
       "    }\n",
       "\n",
       "    .dataframe thead th {\n",
       "        text-align: right;\n",
       "    }\n",
       "</style>\n",
       "<table border=\"1\" class=\"dataframe\">\n",
       "  <thead>\n",
       "    <tr style=\"text-align: right;\">\n",
       "      <th></th>\n",
       "      <th>date</th>\n",
       "      <th>group</th>\n",
       "      <th>orders</th>\n",
       "      <th>buyers</th>\n",
       "      <th>revenue</th>\n",
       "      <th>visitors</th>\n",
       "    </tr>\n",
       "  </thead>\n",
       "  <tbody>\n",
       "    <tr>\n",
       "      <th>0</th>\n",
       "      <td>2019-08-01</td>\n",
       "      <td>A</td>\n",
       "      <td>24</td>\n",
       "      <td>20</td>\n",
       "      <td>148579</td>\n",
       "      <td>719</td>\n",
       "    </tr>\n",
       "    <tr>\n",
       "      <th>1</th>\n",
       "      <td>2019-08-01</td>\n",
       "      <td>B</td>\n",
       "      <td>21</td>\n",
       "      <td>20</td>\n",
       "      <td>101217</td>\n",
       "      <td>713</td>\n",
       "    </tr>\n",
       "    <tr>\n",
       "      <th>2</th>\n",
       "      <td>2019-08-02</td>\n",
       "      <td>A</td>\n",
       "      <td>44</td>\n",
       "      <td>38</td>\n",
       "      <td>242401</td>\n",
       "      <td>1338</td>\n",
       "    </tr>\n",
       "    <tr>\n",
       "      <th>3</th>\n",
       "      <td>2019-08-02</td>\n",
       "      <td>B</td>\n",
       "      <td>45</td>\n",
       "      <td>43</td>\n",
       "      <td>266748</td>\n",
       "      <td>1294</td>\n",
       "    </tr>\n",
       "    <tr>\n",
       "      <th>4</th>\n",
       "      <td>2019-08-03</td>\n",
       "      <td>A</td>\n",
       "      <td>68</td>\n",
       "      <td>62</td>\n",
       "      <td>354874</td>\n",
       "      <td>1845</td>\n",
       "    </tr>\n",
       "  </tbody>\n",
       "</table>\n",
       "</div>"
      ],
      "text/plain": [
       "        date group  orders  buyers  revenue  visitors\n",
       "0 2019-08-01     A      24      20   148579       719\n",
       "1 2019-08-01     B      21      20   101217       713\n",
       "2 2019-08-02     A      44      38   242401      1338\n",
       "3 2019-08-02     B      45      43   266748      1294\n",
       "4 2019-08-03     A      68      62   354874      1845"
      ]
     },
     "metadata": {},
     "output_type": "display_data"
    }
   ],
   "source": [
    "# create an array of unique pairs of date values and test groups\n",
    "dates_groups = orders[['date','group']].drop_duplicates()\n",
    "\n",
    "# we get aggregated cumulative data on orders by day \n",
    "orders_aggregated = dates_groups.apply(lambda x:\n",
    "                                       orders[np.logical_and(\n",
    "                                           orders['date'] <= x['date'],\n",
    "                                           orders['group'] == x['group'])]\n",
    "                                       .agg({'date' : 'max',\n",
    "                                             'group' : 'max',\n",
    "                                             'transaction_id' : 'nunique',\n",
    "                                             'visitor_id' : 'nunique',\n",
    "                                             'revenue' : 'sum'}),\n",
    "                                       axis=1).sort_values(by=['date','group'])\n",
    "\n",
    "# we get aggregated cumulative by day data about online store visitors\n",
    "visitors_aggregated = dates_groups.apply(lambda x:\n",
    "                                         visitors[np.logical_and(\n",
    "                                             visitors['date'] <= x['date'],\n",
    "                                             visitors['group'] == x['group'])]\n",
    "                                         .agg({'date' : 'max',\n",
    "                                               'group' : 'max',\n",
    "                                               'visitors' : 'sum'}),\n",
    "                                         axis=1).sort_values(by=['date','group'])\n",
    "\n",
    "# we combine cumulative data in one table and assign understandable names to its columns\n",
    "cumulative_data = orders_aggregated.merge(visitors_aggregated, left_on=['date', 'group'], right_on=['date', 'group'])\n",
    "cumulative_data.columns = ['date', 'group', 'orders', 'buyers', 'revenue', 'visitors']\n",
    "\n",
    "display(cumulative_data.head())"
   ]
  },
  {
   "cell_type": "markdown",
   "metadata": {},
   "source": [
    "Let's build graphs of cumulative revenue by days and groups of A/B testing."
   ]
  },
  {
   "cell_type": "code",
   "execution_count": 13,
   "metadata": {},
   "outputs": [
    {
     "data": {
      "image/png": "[encoded data removed]",
      "text/plain": [
       "<Figure size 1080x720 with 1 Axes>"
      ]
     },
     "metadata": {
      "needs_background": "light"
     },
     "output_type": "display_data"
    }
   ],
   "source": [
    "# dataframe with cumulative number of orders and cumulative revenue by day in group A\n",
    "cumulative_revenue_a = cumulative_data[cumulative_data['group']=='A'][['date','revenue', 'orders']]\n",
    "\n",
    "# dataframe with cumulative number of orders and cumulative revenue by day in group B\n",
    "cumulative_revenue_b = cumulative_data[cumulative_data['group']=='B'][['date','revenue', 'orders']]\n",
    "\n",
    "# set the size for charts\n",
    "plt.figure(figsize=(15, 10))\n",
    "\n",
    "# build a revenue schedule for group A\n",
    "plt.plot(cumulative_revenue_a['date'], cumulative_revenue_a['revenue'], label='A')\n",
    "\n",
    "# build a revenue schedule for group B\n",
    "plt.plot(cumulative_revenue_b['date'], cumulative_revenue_b['revenue'], label='B')\n",
    "\n",
    "plt.grid(visible=True)\n",
    "plt.title('Graphs of cumulative revenue by days and groups of A/B testing', fontsize=14)\n",
    "plt.xlabel('Date', fontsize=12)\n",
    "plt.ylabel('Revenue, ₽', fontsize=12)\n",
    "plt.legend() \n",
    "plt.show()"
   ]
  },
  {
   "cell_type": "markdown",
   "metadata": {},
   "source": [
    "**According to the graphs, we can draw the following conclusions:**\n",
    "- Revenue increases almost evenly throughout the test in both groups.\n",
    "- However, Group B's revenue curve at one point rose sharply. This may signal a spike in orders, or very expensive orders in the sample during that particular period."
   ]
  },
  {
   "cell_type": "markdown",
   "metadata": {},
   "source": [
    "### Graph of the cumulative average check by groups\n",
    "\n",
    "Let's build graphs of the cumulative average check by days and groups of A/B testing.\n",
    "\n",
    "To do this, we divide the cumulative revenue by the cumulative number of orders."
   ]
  },
  {
   "cell_type": "code",
   "execution_count": 14,
   "metadata": {},
   "outputs": [
    {
     "data": {
      "image/png": "[encoded data removed]",
      "text/plain": [
       "<Figure size 1080x720 with 1 Axes>"
      ]
     },
     "metadata": {
      "needs_background": "light"
     },
     "output_type": "display_data"
    }
   ],
   "source": [
    "plt.figure(figsize=(15, 10))\n",
    "plt.plot(cumulative_revenue_a['date'], cumulative_revenue_a['revenue']/cumulative_revenue_a['orders'], label='A')\n",
    "plt.plot(cumulative_revenue_b['date'], cumulative_revenue_b['revenue']/cumulative_revenue_b['orders'], label='B')\n",
    "\n",
    "plt.grid(visible=True)\n",
    "plt.title('Graphs of the cumulative average check by days and groups of A/B testing', fontsize=14)\n",
    "plt.xlabel('Date', fontsize=12)\n",
    "plt.ylabel('Average check, ₽', fontsize=12)\n",
    "plt.legend() \n",
    "plt.show()"
   ]
  },
  {
   "cell_type": "markdown",
   "metadata": {},
   "source": [
    "**According to the graphs, we can draw the following conclusions:**\n",
    "- The average check in group A after a fall and a sharp increase has become more uniform with an upward trend.\n",
    "- The average check in group B at one point increased sharply, as did the revenue (assuming large orders). There is some trend towards a decrease in the average check in this group. The values of the average check of both groups are different."
   ]
  },
  {
   "cell_type": "markdown",
   "metadata": {},
   "source": [
    "### Graph of the relative change in the cumulative average check of group B to group A\n",
    "\n",
    "Let's build a graph of the relative difference for the average check."
   ]
  },
  {
   "cell_type": "code",
   "execution_count": 15,
   "metadata": {},
   "outputs": [
    {
     "data": {
      "image/png": "[encoded data removed]",
      "text/plain": [
       "<Figure size 1080x720 with 1 Axes>"
      ]
     },
     "metadata": {
      "needs_background": "light"
     },
     "output_type": "display_data"
    }
   ],
   "source": [
    "# collect data in one dataframe\n",
    "merged_cumulative_revenue = cumulative_revenue_a.merge(\n",
    "    cumulative_revenue_b,\n",
    "    left_on='date',\n",
    "    right_on='date',\n",
    "    how='left',\n",
    "    suffixes=['A', 'B'])\n",
    "\n",
    "# set the size for the chart\n",
    "plt.figure(figsize=(15, 10))\n",
    "\n",
    "# build the ratio of average bills\n",
    "plt.plot(merged_cumulative_revenue['date'],\n",
    "         (merged_cumulative_revenue['revenueB']/\n",
    "          merged_cumulative_revenue['ordersB'])/\n",
    "         (merged_cumulative_revenue['revenueA']/\n",
    "          merged_cumulative_revenue['ordersA'])-1)\n",
    "\n",
    "# add x axis\n",
    "plt.axhline(y=0, color='black', linestyle='--')\n",
    "\n",
    "plt.grid(visible=True)\n",
    "plt.title('Graph of the relative change in the cumulative average check of group B to group A', fontsize=14)\n",
    "plt.xlabel('Date', fontsize=12)\n",
    "plt.ylabel('The ratio of average checks', fontsize=12)\n",
    "plt.show()"
   ]
  },
  {
   "cell_type": "markdown",
   "metadata": {},
   "source": [
    "**According to the schedule, we can draw the following conclusions:**\n",
    "- At several points, the graph of the difference between the segments jumps sharply. This indicates the presence of large orders."
   ]
  },
  {
   "cell_type": "markdown",
   "metadata": {},
   "source": [
    "### Graph of cumulative conversion by groups\n",
    "\n",
    "Let's build a graph of cumulative conversion by groups."
   ]
  },
  {
   "cell_type": "code",
   "execution_count": 16,
   "metadata": {},
   "outputs": [
    {
     "data": {
      "image/png": "[encoded data removed]",
      "text/plain": [
       "<Figure size 1080x720 with 1 Axes>"
      ]
     },
     "metadata": {
      "needs_background": "light"
     },
     "output_type": "display_data"
    }
   ],
   "source": [
    "# converters that allow you to use pandas types in matplotlib \n",
    "register_matplotlib_converters()\n",
    "\n",
    "# calculate cumulative conversion\n",
    "cumulative_data['conversion'] = cumulative_data['orders']/cumulative_data['visitors']\n",
    "\n",
    "# separating data by group A\n",
    "cumulative_data_a = cumulative_data[cumulative_data['group']=='A']\n",
    "\n",
    "# separating data by group B\n",
    "cumulative_data_b = cumulative_data[cumulative_data['group']=='B']\n",
    "\n",
    "# set the size for charts\n",
    "plt.figure(figsize=(15, 10))\n",
    "\n",
    "# we build graphs\n",
    "plt.plot(cumulative_data_a['date'], cumulative_data_a['conversion'], label='A')\n",
    "plt.plot(cumulative_data_b['date'], cumulative_data_b['conversion'], label='B')\n",
    "\n",
    "# set the scale of the axes\n",
    "plt.axis([dt.datetime(2019, 8, 1), dt.datetime(2019, 8, 31), 0, 0.05]) \n",
    "\n",
    "plt.grid(visible=True)\n",
    "plt.title('Graph of cumulative conversion by groups', fontsize=14)\n",
    "plt.xlabel('Date', fontsize=12)\n",
    "plt.ylabel('Conversion', fontsize=12)\n",
    "plt.legend()\n",
    "plt.show()"
   ]
  },
  {
   "cell_type": "markdown",
   "metadata": {},
   "source": [
    "**According to the schedule, we can draw the following conclusions:**\n",
    "- Groups fluctuated around the same value, but then the conversion of group B took the lead and fixed, and the conversion of group A dipped and also fixed."
   ]
  },
  {
   "cell_type": "markdown",
   "metadata": {},
   "source": [
    "### Graph of the relative change in the cumulative conversion of group B to group A\n",
    "\n",
    "Let's plot the relative change in the cumulative conversion of group B to group A."
   ]
  },
  {
   "cell_type": "code",
   "execution_count": 17,
   "metadata": {},
   "outputs": [
    {
     "data": {
      "image/png": "[encoded data removed]",
      "text/plain": [
       "<Figure size 1080x720 with 1 Axes>"
      ]
     },
     "metadata": {
      "needs_background": "light"
     },
     "output_type": "display_data"
    }
   ],
   "source": [
    "# collect data in one dataframe\n",
    "merged_cumulative_conversions = cumulative_data_a[['date','conversion']].merge(\n",
    "    cumulative_data_b[['date','conversion']],\n",
    "    left_on='date',\n",
    "    right_on='date',\n",
    "    how='left',\n",
    "    suffixes=['A', 'B'])\n",
    "\n",
    "# set the size for the chart\n",
    "plt.figure(figsize=(15, 10))\n",
    "\n",
    "# building the ratio of conversions\n",
    "plt.plot(merged_cumulative_conversions['date'],\n",
    "         merged_cumulative_conversions['conversionB']/\n",
    "         merged_cumulative_conversions['conversionA']-1)\n",
    "\n",
    "# add x-axis\n",
    "plt.axhline(y=0, color='black', linestyle='--')\n",
    "plt.axhline(y=0.14, color='grey', linestyle='--')\n",
    "\n",
    "# set the scale of the axes\n",
    "plt.axis([dt.datetime(2019, 8, 1), dt.datetime(2019, 8, 31), -0.12, 0.22])\n",
    "\n",
    "plt.grid(visible=True)\n",
    "plt.title('Graph of the relative change in the cumulative conversion of group B to group A', fontsize=14)\n",
    "plt.xlabel('Date', fontsize=12)\n",
    "plt.ylabel('Conversion ratio', fontsize=12)\n",
    "plt.show()"
   ]
  },
  {
   "cell_type": "markdown",
   "metadata": {},
   "source": [
    "**According to the schedule, we can draw the following conclusions:**\n",
    "- At the beginning of the test, group B lost to group A, then pulled ahead and gradually grows.\n",
    "- In general, the ratio of conversion has not yet been established, and now it is impossible to draw any conclusions from the test. It is necessary to analyze the anomalies, perhaps they will change the picture."
   ]
  },
  {
   "cell_type": "markdown",
   "metadata": {},
   "source": [
    "### Scatter plot of the number of orders by users\n",
    "\n",
    "To begin with, let's form the `orders_by_users` dataframe in order to see the number of orders by users."
   ]
  },
  {
   "cell_type": "code",
   "execution_count": 18,
   "metadata": {},
   "outputs": [
    {
     "data": {
      "text/html": [
       "<div>\n",
       "<style scoped>\n",
       "    .dataframe tbody tr th:only-of-type {\n",
       "        vertical-align: middle;\n",
       "    }\n",
       "\n",
       "    .dataframe tbody tr th {\n",
       "        vertical-align: top;\n",
       "    }\n",
       "\n",
       "    .dataframe thead th {\n",
       "        text-align: right;\n",
       "    }\n",
       "</style>\n",
       "<table border=\"1\" class=\"dataframe\">\n",
       "  <thead>\n",
       "    <tr style=\"text-align: right;\">\n",
       "      <th></th>\n",
       "      <th>visitor_id</th>\n",
       "      <th>orders</th>\n",
       "    </tr>\n",
       "  </thead>\n",
       "  <tbody>\n",
       "    <tr>\n",
       "      <th>1023</th>\n",
       "      <td>4256040402</td>\n",
       "      <td>11</td>\n",
       "    </tr>\n",
       "    <tr>\n",
       "      <th>591</th>\n",
       "      <td>2458001652</td>\n",
       "      <td>11</td>\n",
       "    </tr>\n",
       "    <tr>\n",
       "      <th>569</th>\n",
       "      <td>2378935119</td>\n",
       "      <td>9</td>\n",
       "    </tr>\n",
       "    <tr>\n",
       "      <th>487</th>\n",
       "      <td>2038680547</td>\n",
       "      <td>8</td>\n",
       "    </tr>\n",
       "    <tr>\n",
       "      <th>44</th>\n",
       "      <td>199603092</td>\n",
       "      <td>5</td>\n",
       "    </tr>\n",
       "    <tr>\n",
       "      <th>744</th>\n",
       "      <td>3062433592</td>\n",
       "      <td>5</td>\n",
       "    </tr>\n",
       "    <tr>\n",
       "      <th>55</th>\n",
       "      <td>237748145</td>\n",
       "      <td>5</td>\n",
       "    </tr>\n",
       "    <tr>\n",
       "      <th>917</th>\n",
       "      <td>3803269165</td>\n",
       "      <td>5</td>\n",
       "    </tr>\n",
       "    <tr>\n",
       "      <th>299</th>\n",
       "      <td>1230306981</td>\n",
       "      <td>5</td>\n",
       "    </tr>\n",
       "    <tr>\n",
       "      <th>897</th>\n",
       "      <td>3717692402</td>\n",
       "      <td>5</td>\n",
       "    </tr>\n",
       "  </tbody>\n",
       "</table>\n",
       "</div>"
      ],
      "text/plain": [
       "      visitor_id  orders\n",
       "1023  4256040402      11\n",
       "591   2458001652      11\n",
       "569   2378935119       9\n",
       "487   2038680547       8\n",
       "44     199603092       5\n",
       "744   3062433592       5\n",
       "55     237748145       5\n",
       "917   3803269165       5\n",
       "299   1230306981       5\n",
       "897   3717692402       5"
      ]
     },
     "metadata": {},
     "output_type": "display_data"
    }
   ],
   "source": [
    "orders_by_users = (\n",
    "    orders.groupby('visitor_id', as_index=False)\n",
    "    .agg({'transaction_id': 'nunique'})\n",
    "    .sort_values(by='transaction_id', ascending=False)\n",
    "    .rename(columns={'transaction_id': 'orders'})\n",
    ")\n",
    "\n",
    "display(orders_by_users.head(10))"
   ]
  },
  {
   "cell_type": "markdown",
   "metadata": {},
   "source": [
    "We have determined that there are several users with a large number of orders.\n",
    "\n",
    "Let's build a histogram of the distribution of the number of orders per user."
   ]
  },
  {
   "cell_type": "code",
   "execution_count": 19,
   "metadata": {},
   "outputs": [
    {
     "data": {
      "image/png": "[encoded data removed]",
      "text/plain": [
       "<Figure size 720x360 with 1 Axes>"
      ]
     },
     "metadata": {
      "needs_background": "light"
     },
     "output_type": "display_data"
    }
   ],
   "source": [
    "plt.figure(figsize=(10, 5))\n",
    "plt.hist(orders_by_users['orders']) \n",
    "plt.title('Histogram of the distribution of the number of orders per user', fontsize=14)\n",
    "plt.ylabel('The number of orders', fontsize=12)\n",
    "plt.show()"
   ]
  },
  {
   "cell_type": "markdown",
   "metadata": {},
   "source": [
    "Most buyers ordered only once. However, there are users with 2-4 orders.\n",
    "\n",
    "Let's build a dot plot of the number of orders by users."
   ]
  },
  {
   "cell_type": "code",
   "execution_count": 20,
   "metadata": {},
   "outputs": [
    {
     "data": {
      "image/png": "[encoded data removed]",
      "text/plain": [
       "<Figure size 720x360 with 1 Axes>"
      ]
     },
     "metadata": {
      "needs_background": "light"
     },
     "output_type": "display_data"
    }
   ],
   "source": [
    "x_values = pd.Series(range(0,len(orders_by_users)))\n",
    "plt.figure(figsize=(10, 5))\n",
    "plt.scatter(x_values, orders_by_users['orders'], alpha=0.1)\n",
    "plt.title('Scatter plot of the number of orders by users', fontsize=14)\n",
    "plt.ylabel('The number of orders', fontsize=12)\n",
    "plt.show()"
   ]
  },
  {
   "cell_type": "markdown",
   "metadata": {},
   "source": [
    "**According to the graphs, we can draw the following conclusions:**\n",
    "- There are some users with 2-4 orders. Their exact proportion is not clear - it is not clear whether to consider them anomalies or not."
   ]
  },
  {
   "cell_type": "markdown",
   "metadata": {},
   "source": [
    "### Calculation of the 95th and 99th percentiles of orders per user. Choosing a boundary to detect abnormal users\n",
    "\n",
    "Calculate the 95th and 99th percentiles of orders per user."
   ]
  },
  {
   "cell_type": "code",
   "execution_count": 21,
   "metadata": {},
   "outputs": [
    {
     "name": "stdout",
     "output_type": "stream",
     "text": [
      "[2. 4.]\n"
     ]
    }
   ],
   "source": [
    "print(np.percentile(orders_by_users['orders'], [95, 99]))"
   ]
  },
  {
   "cell_type": "markdown",
   "metadata": {},
   "source": [
    "**Conclusions**\n",
    "* No more than 5% of users placed more than 2 orders;\n",
    "* 1% of users ordered more than 4 times;\n",
    "* It is reasonable to choose 4 orders per user for the lower limit of the number of orders, and weed out anomalous users according to it."
   ]
  },
  {
   "cell_type": "markdown",
   "metadata": {},
   "source": [
    "### Dot plot of order values\n",
    "\n",
    "First, let's look at the top 10 most expensive orders by value."
   ]
  },
  {
   "cell_type": "code",
   "execution_count": 22,
   "metadata": {},
   "outputs": [
    {
     "data": {
      "text/html": [
       "<div>\n",
       "<style scoped>\n",
       "    .dataframe tbody tr th:only-of-type {\n",
       "        vertical-align: middle;\n",
       "    }\n",
       "\n",
       "    .dataframe tbody tr th {\n",
       "        vertical-align: top;\n",
       "    }\n",
       "\n",
       "    .dataframe thead th {\n",
       "        text-align: right;\n",
       "    }\n",
       "</style>\n",
       "<table border=\"1\" class=\"dataframe\">\n",
       "  <thead>\n",
       "    <tr style=\"text-align: right;\">\n",
       "      <th></th>\n",
       "      <th>transaction_id</th>\n",
       "      <th>visitor_id</th>\n",
       "      <th>date</th>\n",
       "      <th>revenue</th>\n",
       "      <th>group</th>\n",
       "    </tr>\n",
       "  </thead>\n",
       "  <tbody>\n",
       "    <tr>\n",
       "      <th>425</th>\n",
       "      <td>590470918</td>\n",
       "      <td>1920142716</td>\n",
       "      <td>2019-08-19</td>\n",
       "      <td>1294500</td>\n",
       "      <td>B</td>\n",
       "    </tr>\n",
       "    <tr>\n",
       "      <th>1196</th>\n",
       "      <td>3936777065</td>\n",
       "      <td>2108080724</td>\n",
       "      <td>2019-08-15</td>\n",
       "      <td>202740</td>\n",
       "      <td>B</td>\n",
       "    </tr>\n",
       "    <tr>\n",
       "      <th>858</th>\n",
       "      <td>192721366</td>\n",
       "      <td>1316129916</td>\n",
       "      <td>2019-08-27</td>\n",
       "      <td>93940</td>\n",
       "      <td>A</td>\n",
       "    </tr>\n",
       "    <tr>\n",
       "      <th>1136</th>\n",
       "      <td>666610489</td>\n",
       "      <td>1307669133</td>\n",
       "      <td>2019-08-13</td>\n",
       "      <td>92550</td>\n",
       "      <td>A</td>\n",
       "    </tr>\n",
       "    <tr>\n",
       "      <th>744</th>\n",
       "      <td>3668308183</td>\n",
       "      <td>888512513</td>\n",
       "      <td>2019-08-27</td>\n",
       "      <td>86620</td>\n",
       "      <td>B</td>\n",
       "    </tr>\n",
       "    <tr>\n",
       "      <th>682</th>\n",
       "      <td>1216533772</td>\n",
       "      <td>4266935830</td>\n",
       "      <td>2019-08-29</td>\n",
       "      <td>78990</td>\n",
       "      <td>B</td>\n",
       "    </tr>\n",
       "    <tr>\n",
       "      <th>662</th>\n",
       "      <td>1811671147</td>\n",
       "      <td>4266935830</td>\n",
       "      <td>2019-08-29</td>\n",
       "      <td>78990</td>\n",
       "      <td>A</td>\n",
       "    </tr>\n",
       "    <tr>\n",
       "      <th>743</th>\n",
       "      <td>3603576309</td>\n",
       "      <td>4133034833</td>\n",
       "      <td>2019-08-09</td>\n",
       "      <td>67990</td>\n",
       "      <td>A</td>\n",
       "    </tr>\n",
       "    <tr>\n",
       "      <th>1103</th>\n",
       "      <td>1348774318</td>\n",
       "      <td>1164614297</td>\n",
       "      <td>2019-08-12</td>\n",
       "      <td>66350</td>\n",
       "      <td>A</td>\n",
       "    </tr>\n",
       "    <tr>\n",
       "      <th>1099</th>\n",
       "      <td>316924019</td>\n",
       "      <td>148427295</td>\n",
       "      <td>2019-08-12</td>\n",
       "      <td>65710</td>\n",
       "      <td>A</td>\n",
       "    </tr>\n",
       "  </tbody>\n",
       "</table>\n",
       "</div>"
      ],
      "text/plain": [
       "      transaction_id  visitor_id       date  revenue group\n",
       "425        590470918  1920142716 2019-08-19  1294500     B\n",
       "1196      3936777065  2108080724 2019-08-15   202740     B\n",
       "858        192721366  1316129916 2019-08-27    93940     A\n",
       "1136       666610489  1307669133 2019-08-13    92550     A\n",
       "744       3668308183   888512513 2019-08-27    86620     B\n",
       "682       1216533772  4266935830 2019-08-29    78990     B\n",
       "662       1811671147  4266935830 2019-08-29    78990     A\n",
       "743       3603576309  4133034833 2019-08-09    67990     A\n",
       "1103      1348774318  1164614297 2019-08-12    66350     A\n",
       "1099       316924019   148427295 2019-08-12    65710     A"
      ]
     },
     "metadata": {},
     "output_type": "display_data"
    }
   ],
   "source": [
    "display(orders.sort_values(by='revenue', ascending=False).head(10))"
   ]
  },
  {
   "cell_type": "markdown",
   "metadata": {},
   "source": [
    "We have determined that several users placed orders for large amounts.\n",
    "\n",
    "Let's build a histogram of the distribution of order costs."
   ]
  },
  {
   "cell_type": "code",
   "execution_count": 23,
   "metadata": {},
   "outputs": [
    {
     "data": {
      "image/png": "[encoded data removed]",
      "text/plain": [
       "<Figure size 720x360 with 1 Axes>"
      ]
     },
     "metadata": {
      "needs_background": "light"
     },
     "output_type": "display_data"
    }
   ],
   "source": [
    "plt.figure(figsize=(10, 5))\n",
    "plt.hist(orders['revenue'], bins=100) \n",
    "plt.title('Order cost distribution histogram', fontsize=14)\n",
    "plt.ylabel('The number of orders', fontsize=12)\n",
    "plt.show()"
   ]
  },
  {
   "cell_type": "markdown",
   "metadata": {},
   "source": [
    "It is impossible to draw conclusions from such a histogram, so we will build a dotted graph of the distribution of order costs."
   ]
  },
  {
   "cell_type": "code",
   "execution_count": 24,
   "metadata": {},
   "outputs": [
    {
     "data": {
      "image/png": "[encoded data removed]",
      "text/plain": [
       "<Figure size 720x360 with 1 Axes>"
      ]
     },
     "metadata": {
      "needs_background": "light"
     },
     "output_type": "display_data"
    }
   ],
   "source": [
    "x_values = pd.Series(range(0,len(orders['revenue'])))\n",
    "plt.figure(figsize=(10, 5))\n",
    "plt.scatter(x_values, orders['revenue'], alpha=0.3)\n",
    "plt.title('Scatter plot of order value distribution', fontsize=14)\n",
    "plt.ylabel('Order cost, ₽', fontsize=12)\n",
    "plt.show()"
   ]
  },
  {
   "cell_type": "markdown",
   "metadata": {},
   "source": [
    "For a more detailed analysis, let's build a scatter plot with a changed scale. "
   ]
  },
  {
   "cell_type": "code",
   "execution_count": 25,
   "metadata": {},
   "outputs": [
    {
     "data": {
      "image/png": "[encoded data removed]",
      "text/plain": [
       "<Figure size 720x360 with 1 Axes>"
      ]
     },
     "metadata": {
      "needs_background": "light"
     },
     "output_type": "display_data"
    }
   ],
   "source": [
    "plt.figure(figsize=(10, 5))\n",
    "plt.scatter(x_values, orders['revenue'], alpha=0.3)\n",
    "plt.ylim(0, 205000)\n",
    "plt.title('Scatter plot of order value distribution', fontsize=14)\n",
    "plt.ylabel('Order cost, ₽', fontsize=12)\n",
    "plt.show()"
   ]
  },
  {
   "cell_type": "markdown",
   "metadata": {},
   "source": [
    "**According to the graphs, we can draw the following conclusions:**\n",
    "- There are some expensive orders. According to the schedule, you can choose the border of abnormal orders between 25,000 and 60,000 rubles. Their exact proportion is not clear - it is not clear whether to consider them anomalies or not."
   ]
  },
  {
   "cell_type": "markdown",
   "metadata": {},
   "source": [
    "### Calculation of the 95th and 99th percentiles of the cost of orders. Choosing a boundary to detect abnormal users\n",
    "\n",
    "Calculate the 95th and 99th percentiles of order value."
   ]
  },
  {
   "cell_type": "code",
   "execution_count": 26,
   "metadata": {},
   "outputs": [
    {
     "name": "stdout",
     "output_type": "stream",
     "text": [
      "[28000.  58233.2]\n"
     ]
    }
   ],
   "source": [
    "print(np.percentile(orders['revenue'], [95, 99])) "
   ]
  },
  {
   "cell_type": "markdown",
   "metadata": {},
   "source": [
    "**Conclusions**\n",
    "* No more than 5% of orders cost more than 28,000 rubles;\n",
    "* 1% of orders cost more than 58,233.2 rubles;\n",
    "* It is reasonable to choose 28,000 rubles for the lower limit of the cost of orders, and weed out abnormal orders for it."
   ]
  },
  {
   "cell_type": "markdown",
   "metadata": {},
   "source": [
    "### Calculation of the statistical significance of differences in conversion between groups based on \"raw\" data\n",
    "\n",
    "Let's formulate hypotheses:\n",
    "   * H₀ - no differences in conversion between groups;\n",
    "   * H₁ - there are differences in conversion between groups.\n",
    "   \n",
    "To calculate the statistical significance of differences in conversion between groups, we need to prepare the available data. Let's create a new dataframe `data` with the following columns:\n",
    "\n",
    "- `date` - date;\n",
    "- `orders_per_date_a` - number of orders on the selected date in group A;\n",
    "- `revenue_per_date_a` - total revenue on the selected date in group A;\n",
    "- `orders_per_date_b` - number of orders on the selected date in group B;\n",
    "- `revenue_per_date_b` - total revenue on the selected date in group B;\n",
    "- `orders_cummulative_a` - total number of orders up to the selected date inclusive in group A;\n",
    "- `revenue_cummulative_a` - total revenue up to the selected date inclusive in group A;\n",
    "- `orders_cummulative_b` - total number of orders up to the selected date inclusive in group B;\n",
    "- `revenue_cummulative_b` - total revenue up to the selected date inclusive in group B;\n",
    "- `visitors_per_date_a` - the number of users on the selected date in group A;\n",
    "- `visitors_cummulative_a` - the number of users up to the selected date inclusive in group A;\n",
    "- `visitors_per_date_b` - the number of users on the selected date in group B;\n",
    "- `visitors_cummulative_b` - the number of users up to and including the selected date in group B."
   ]
  },
  {
   "cell_type": "code",
   "execution_count": 27,
   "metadata": {},
   "outputs": [
    {
     "data": {
      "text/html": [
       "<div>\n",
       "<style scoped>\n",
       "    .dataframe tbody tr th:only-of-type {\n",
       "        vertical-align: middle;\n",
       "    }\n",
       "\n",
       "    .dataframe tbody tr th {\n",
       "        vertical-align: top;\n",
       "    }\n",
       "\n",
       "    .dataframe thead th {\n",
       "        text-align: right;\n",
       "    }\n",
       "</style>\n",
       "<table border=\"1\" class=\"dataframe\">\n",
       "  <thead>\n",
       "    <tr style=\"text-align: right;\">\n",
       "      <th></th>\n",
       "      <th>date</th>\n",
       "      <th>orders_per_date_a</th>\n",
       "      <th>revenue_per_date_a</th>\n",
       "      <th>orders_per_date_b</th>\n",
       "      <th>revenue_per_date_b</th>\n",
       "      <th>orders_cummulative_a</th>\n",
       "      <th>revenue_cummulative_a</th>\n",
       "      <th>orders_cummulative_b</th>\n",
       "      <th>revenue_cummulative_b</th>\n",
       "      <th>visitors_per_date_a</th>\n",
       "      <th>visitors_per_date_b</th>\n",
       "      <th>visitors_cummulative_a</th>\n",
       "      <th>visitors_cummulative_b</th>\n",
       "    </tr>\n",
       "  </thead>\n",
       "  <tbody>\n",
       "    <tr>\n",
       "      <th>0</th>\n",
       "      <td>2019-08-01</td>\n",
       "      <td>24</td>\n",
       "      <td>148579</td>\n",
       "      <td>21</td>\n",
       "      <td>101217</td>\n",
       "      <td>24</td>\n",
       "      <td>148579</td>\n",
       "      <td>21</td>\n",
       "      <td>101217</td>\n",
       "      <td>719</td>\n",
       "      <td>713</td>\n",
       "      <td>719</td>\n",
       "      <td>713</td>\n",
       "    </tr>\n",
       "    <tr>\n",
       "      <th>1</th>\n",
       "      <td>2019-08-02</td>\n",
       "      <td>20</td>\n",
       "      <td>93822</td>\n",
       "      <td>24</td>\n",
       "      <td>165531</td>\n",
       "      <td>44</td>\n",
       "      <td>242401</td>\n",
       "      <td>45</td>\n",
       "      <td>266748</td>\n",
       "      <td>619</td>\n",
       "      <td>581</td>\n",
       "      <td>1338</td>\n",
       "      <td>1294</td>\n",
       "    </tr>\n",
       "    <tr>\n",
       "      <th>2</th>\n",
       "      <td>2019-08-03</td>\n",
       "      <td>24</td>\n",
       "      <td>112473</td>\n",
       "      <td>16</td>\n",
       "      <td>114248</td>\n",
       "      <td>68</td>\n",
       "      <td>354874</td>\n",
       "      <td>61</td>\n",
       "      <td>380996</td>\n",
       "      <td>507</td>\n",
       "      <td>509</td>\n",
       "      <td>1845</td>\n",
       "      <td>1803</td>\n",
       "    </tr>\n",
       "    <tr>\n",
       "      <th>3</th>\n",
       "      <td>2019-08-04</td>\n",
       "      <td>16</td>\n",
       "      <td>70825</td>\n",
       "      <td>17</td>\n",
       "      <td>108571</td>\n",
       "      <td>84</td>\n",
       "      <td>425699</td>\n",
       "      <td>78</td>\n",
       "      <td>489567</td>\n",
       "      <td>717</td>\n",
       "      <td>770</td>\n",
       "      <td>2562</td>\n",
       "      <td>2573</td>\n",
       "    </tr>\n",
       "    <tr>\n",
       "      <th>4</th>\n",
       "      <td>2019-08-05</td>\n",
       "      <td>25</td>\n",
       "      <td>124218</td>\n",
       "      <td>23</td>\n",
       "      <td>92428</td>\n",
       "      <td>109</td>\n",
       "      <td>549917</td>\n",
       "      <td>101</td>\n",
       "      <td>581995</td>\n",
       "      <td>756</td>\n",
       "      <td>707</td>\n",
       "      <td>3318</td>\n",
       "      <td>3280</td>\n",
       "    </tr>\n",
       "  </tbody>\n",
       "</table>\n",
       "</div>"
      ],
      "text/plain": [
       "        date  orders_per_date_a  revenue_per_date_a  orders_per_date_b  \\\n",
       "0 2019-08-01                 24              148579                 21   \n",
       "1 2019-08-02                 20               93822                 24   \n",
       "2 2019-08-03                 24              112473                 16   \n",
       "3 2019-08-04                 16               70825                 17   \n",
       "4 2019-08-05                 25              124218                 23   \n",
       "\n",
       "   revenue_per_date_b  orders_cummulative_a  revenue_cummulative_a  \\\n",
       "0              101217                    24                 148579   \n",
       "1              165531                    44                 242401   \n",
       "2              114248                    68                 354874   \n",
       "3              108571                    84                 425699   \n",
       "4               92428                   109                 549917   \n",
       "\n",
       "   orders_cummulative_b  revenue_cummulative_b  visitors_per_date_a  \\\n",
       "0                    21                 101217                  719   \n",
       "1                    45                 266748                  619   \n",
       "2                    61                 380996                  507   \n",
       "3                    78                 489567                  717   \n",
       "4                   101                 581995                  756   \n",
       "\n",
       "   visitors_per_date_b  visitors_cummulative_a  visitors_cummulative_b  \n",
       "0                  713                     719                     713  \n",
       "1                  581                    1338                    1294  \n",
       "2                  509                    1845                    1803  \n",
       "3                  770                    2562                    2573  \n",
       "4                  707                    3318                    3280  "
      ]
     },
     "metadata": {},
     "output_type": "display_data"
    }
   ],
   "source": [
    "# calculation of the number of users on the selected date in group A\n",
    "visitors_a_daily = visitors[visitors['group'] == 'A'][['date', 'visitors']]\n",
    "visitors_a_daily.columns = ['date', 'visitors_per_date_a']\n",
    "\n",
    "# calculation of the number of users up to the selected date inclusive in group A\n",
    "visitors_a_cummulative = visitors_a_daily.apply(\n",
    "    lambda x: visitors_a_daily[visitors_a_daily['date'] <= x['date']].agg(\n",
    "        {'date': 'max', 'visitors_per_date_a': 'sum'}\n",
    "    ),\n",
    "    axis=1,\n",
    ")\n",
    "visitors_a_cummulative.columns = ['date', 'visitors_cummulative_a']\n",
    "\n",
    "# calculation of the number of users on the selected date in group B\n",
    "visitors_b_daily = visitors[visitors['group'] == 'B'][['date', 'visitors']]\n",
    "visitors_b_daily.columns = ['date', 'visitors_per_date_b']\n",
    "\n",
    "# calculation of the number of users up to the selected date inclusive in group B\n",
    "visitors_b_cummulative = visitors_b_daily.apply(\n",
    "    lambda x: visitors_b_daily[visitors_b_daily['date'] <= x['date']].agg(\n",
    "        {'date': 'max', 'visitors_per_date_b': 'sum'}\n",
    "    ),\n",
    "    axis=1,\n",
    ")\n",
    "visitors_b_cummulative.columns = ['date', 'visitors_cummulative_b']\n",
    "\n",
    "# calculation of the number of orders and total revenue on the selected date in group A\n",
    "orders_a_daily = (\n",
    "    orders[orders['group'] == 'A'][['date', 'transaction_id', 'visitor_id', 'revenue']]\n",
    "    .groupby('date', as_index=False)\n",
    "    .agg({'transaction_id': pd.Series.nunique, 'revenue': 'sum'})\n",
    ")\n",
    "orders_a_daily.columns = ['date', 'orders_per_date_a', 'revenue_per_date_a']\n",
    "\n",
    "# calculation of the total number of orders up to and including the selected date in group A\n",
    "orders_a_cummulative = orders_a_daily.apply(\n",
    "    lambda x: orders_a_daily[orders_a_daily['date'] <= x['date']].agg(\n",
    "        {'date': 'max', 'orders_per_date_a': 'sum', 'revenue_per_date_a': 'sum'}\n",
    "    ),\n",
    "    axis=1,\n",
    ").sort_values(by=['date'])\n",
    "orders_a_cummulative.columns = [\n",
    "    'date',\n",
    "    'orders_cummulative_a',\n",
    "    'revenue_cummulative_a',\n",
    "]\n",
    "\n",
    "# calculation of the number of orders and total revenue on the selected date in group B\n",
    "orders_b_daily = (\n",
    "    orders[orders['group'] == 'B'][['date', 'transaction_id', 'visitor_id', 'revenue']]\n",
    "    .groupby('date', as_index=False)\n",
    "    .agg({'transaction_id': pd.Series.nunique, 'revenue': 'sum'})\n",
    ")\n",
    "orders_b_daily.columns = ['date', 'orders_per_date_b', 'revenue_per_date_b']\n",
    "\n",
    "# calculation of the total number of orders up to the selected date inclusive in group B\n",
    "orders_b_cummulative = orders_b_daily.apply(\n",
    "    lambda x: orders_b_daily[orders_b_daily['date'] <= x['date']].agg(\n",
    "        {'date': 'max', 'orders_per_date_b': 'sum', 'revenue_per_date_b': 'sum'}\n",
    "    ),\n",
    "    axis=1,\n",
    ").sort_values(by=['date'])\n",
    "orders_b_cummulative.columns = [\n",
    "    'date',\n",
    "    'orders_cummulative_b',\n",
    "    'revenue_cummulative_b',\n",
    "]\n",
    "\n",
    "# combining dataframes into one common\n",
    "data = (\n",
    "    orders_a_daily.merge(\n",
    "        orders_b_daily, left_on='date', right_on='date', how='left'\n",
    "    )\n",
    "    .merge(orders_a_cummulative, left_on='date', right_on='date', how='left')\n",
    "    .merge(orders_b_cummulative, left_on='date', right_on='date', how='left')\n",
    "    .merge(visitors_a_daily, left_on='date', right_on='date', how='left')\n",
    "    .merge(visitors_b_daily, left_on='date', right_on='date', how='left')\n",
    "    .merge(visitors_a_cummulative, left_on='date', right_on='date', how='left')\n",
    "    .merge(visitors_b_cummulative, left_on='date', right_on='date', how='left')\n",
    ")\n",
    "\n",
    "display(data.head())"
   ]
  },
  {
   "cell_type": "markdown",
   "metadata": {},
   "source": [
    "Let's create variables `orders_by_users_a` and `orders_by_users_b` with columns `['visitor_id', 'orders']`. In them, for users who ordered at least 1 time, we indicate the number of completed orders. Let's declare the variables `sample_a` and `sample_b`, in which users with orders will correspond to the number of user orders, and users without orders will be zero. Let's calculate the statistical significance of the conversion difference based on the results of the month of the test. Apply the Mann-Whitney test. Let's derive a p-value to compare conversion between groups. Calculate and display the relative difference in conversion between groups."
   ]
  },
  {
   "cell_type": "code",
   "execution_count": 28,
   "metadata": {},
   "outputs": [
    {
     "name": "stdout",
     "output_type": "stream",
     "text": [
      "p-value = 0.017\n",
      "Relative difference in average conversion between groups on raw data: 0.138\n"
     ]
    }
   ],
   "source": [
    "# formation of dataframes in which the number of completed orders is indicated\n",
    "# for users who ordered at least 1 time\n",
    "orders_by_users_a = (\n",
    "    orders[orders['group'] == 'A']\n",
    "    .groupby('visitor_id', as_index=False)\n",
    "    .agg({'transaction_id': pd.Series.nunique})\n",
    ")\n",
    "orders_by_users_a.columns = ['visitor_id', 'orders']\n",
    "\n",
    "orders_by_users_b = (\n",
    "    orders[orders['group'] == 'B']\n",
    "    .groupby('visitor_id', as_index=False)\n",
    "    .agg({'transaction_id': pd.Series.nunique})\n",
    ")\n",
    "orders_by_users_b.columns = ['visitor_id', 'orders']\n",
    "\n",
    "# formation of variables in which users with orders\n",
    "# will match the number of user orders,\n",
    "# and zeros for users without orders\n",
    "sample_a = pd.concat([orders_by_users_a['orders'],\n",
    "                      pd.Series(0, index=np.arange(\n",
    "                          data['visitors_per_date_a'].sum() -\n",
    "                          len(orders_by_users_a['orders'])), name='orders')], axis=0)\n",
    "\n",
    "sample_b = pd.concat([orders_by_users_b['orders'],\n",
    "                      pd.Series(0, index=np.arange(\n",
    "                          data['visitors_per_date_b'].sum() -\n",
    "                          len(orders_by_users_b['orders'])), name='orders')], axis=0)\n",
    "\n",
    "# calculation of the statistical significance of the conversion difference\n",
    "# based on the results of the Mann-Whitney test\n",
    "print('p-value =', '{0:.3f}'.format(stats.mannwhitneyu(sample_a, sample_b)[1]))\n",
    "\n",
    "# calculation of the relative difference in conversion between groups\n",
    "print('Relative difference in average conversion between groups on raw data:',\n",
    "      '{0:.3f}'.format(sample_b.mean() / sample_a.mean() - 1))"
   ]
  },
  {
   "cell_type": "markdown",
   "metadata": {},
   "source": [
    "**Conclusions**\n",
    "* p-value = 0.017, which is less than 0.05. This means that the null hypothesis of no differences in raw data in conversion between groups can be rejected.\n",
    "* The average conversion of group B is greater than the average conversion of group A."
   ]
  },
  {
   "cell_type": "markdown",
   "metadata": {},
   "source": [
    "### Calculation of the statistical significance of differences in the average order receipt between groups according to \"raw\" data\n",
    "\n",
    "Let's formulate hypotheses:\n",
    "\n",
    "    * H₀ - there are no differences in the average check between groups;\n",
    "    * H₁ - there are differences in the average check between groups.\n",
    "   \n",
    "To calculate the statistical significance of the differences in the average check, we pass data on revenue from orders to the `mannwhitneyu()` criterion. We will also find relative differences in the average check between groups."
   ]
  },
  {
   "cell_type": "code",
   "execution_count": 29,
   "metadata": {},
   "outputs": [
    {
     "name": "stdout",
     "output_type": "stream",
     "text": [
      "p-value = 0.729\n",
      "Relative difference in the average check between groups according to raw data: 0.259\n"
     ]
    }
   ],
   "source": [
    "# calculation of the statistical significance of the difference in the average\n",
    "# bill according to the results of the Mann-Whitney test\n",
    "print('p-value =', '{0:.3f}'.format(stats.mannwhitneyu(\n",
    "    orders[orders['group']=='A']['revenue'],\n",
    "    orders[orders['group']=='B']['revenue'])[1]))\n",
    "\n",
    "# calculation of the relative difference in the average check between groups\n",
    "print('Relative difference in the average check between groups according to raw data:',\n",
    "      '{0:.3f}'.format(\n",
    "          orders[orders['group']=='B']['revenue'].mean()/\n",
    "          orders[orders['group']=='A']['revenue'].mean()-1)) "
   ]
  },
  {
   "cell_type": "markdown",
   "metadata": {},
   "source": [
    "**Conclusions**\n",
    "* p-value = 0.729, which is much more than 0.05. This means that there is no reason to reject the null hypothesis and assume that there are differences in the average check.\n",
    "* The average check of group B is much higher than the average check of group A."
   ]
  },
  {
   "cell_type": "markdown",
   "metadata": {},
   "source": [
    "### Calculation of the statistical significance of differences in conversion between groups according to \"cleaned\" data\n",
    "\n",
    "Recall that the previously found 95th and 99th percentiles of average bills are 28,000 and 58,233.2 rubles. And the 95th and 99th percentiles of orders per user are 2 and 4 orders per user.\n",
    "\n",
    "Let's take as anomalous users those who made at least 2 orders or made an order more expensive than 28,000 rubles and write this in the variables `many_orders` and `expensive_orders`. So we will remove 5% of users with the largest number of orders and from 1% to 5% of users with expensive orders. Let's make cuts of users with more than 2 orders - `users_with_many_orders` and users who have made orders more than 28,000 - `users_with_expensive_orders`. Let's combine them in the `abnormal_users` table. We also find out how many anomalous users there are using the `shape()` method."
   ]
  },
  {
   "cell_type": "code",
   "execution_count": 30,
   "metadata": {},
   "outputs": [
    {
     "name": "stdout",
     "output_type": "stream",
     "text": [
      "1099    148427295\n",
      "18      199603092\n",
      "928     204675465\n",
      "23      237748145\n",
      "37      249864742\n",
      "Name: visitor_id, dtype: int64\n",
      "\n",
      "\n",
      "Number of anomalous users: 74\n"
     ]
    }
   ],
   "source": [
    "many_orders = np.percentile(orders_by_users['orders'], 95)\n",
    "expensive_orders = np.percentile(orders['revenue'], 95)\n",
    "users_with_many_orders = pd.concat([\n",
    "    orders_by_users_a[orders_by_users_a['orders'] > many_orders]['visitor_id'],\n",
    "    orders_by_users_b[orders_by_users_b['orders'] > many_orders]['visitor_id']], axis=0)\n",
    "users_with_expensive_orders = orders[orders['revenue'] > expensive_orders]['visitor_id']\n",
    "abnormal_users = (pd.concat([\n",
    "    users_with_many_orders,\n",
    "    users_with_expensive_orders], axis=0)\n",
    "                  .drop_duplicates()\n",
    "                  .sort_values())\n",
    "\n",
    "print(abnormal_users.head())\n",
    "print('\\n')\n",
    "print('Number of anomalous users:', abnormal_users.shape[0])"
   ]
  },
  {
   "cell_type": "markdown",
   "metadata": {},
   "source": [
    "Let's find out how the actions of 74 users influenced the results of the test. Let's calculate the statistical significance of the differences in conversion between test groups based on the cleaned data. Let's prepare samples of the number of orders by users by test groups and apply the Mann-Whitney statistical test to the resulting samples.\n",
    "\n",
    "Hypotheses:\n",
    "\n",
    "    * H₀ - no differences in conversion between groups;\n",
    "    * H₁ - there are differences in conversion between groups."
   ]
  },
  {
   "cell_type": "code",
   "execution_count": 31,
   "metadata": {},
   "outputs": [
    {
     "name": "stdout",
     "output_type": "stream",
     "text": [
      "p-value = 0.013\n",
      "Relative difference in average conversion between groups according to cleaned data: 0.173\n"
     ]
    }
   ],
   "source": [
    "sample_a_filtered = pd.concat([\n",
    "    orders_by_users_a[np.logical_not(\n",
    "        orders_by_users_a['visitor_id']\n",
    "        .isin(abnormal_users))]['orders'],\n",
    "    pd.Series(0, index=np.arange(data['visitors_per_date_a'].sum() -\n",
    "                                 len(orders_by_users_a['orders'])), name='orders')], axis=0)\n",
    "\n",
    "sample_b_filtered = pd.concat([\n",
    "    orders_by_users_b[np.logical_not(\n",
    "        orders_by_users_b['visitor_id']\n",
    "        .isin(abnormal_users))]['orders'],\n",
    "    pd.Series(0, index=np.arange(data['visitors_per_date_b'].sum() -\n",
    "                                 len(orders_by_users_b['orders'])), name='orders')], axis=0)\n",
    "\n",
    "# calculation of the statistical significance of the conversion \n",
    "# difference based on the results of the Mann-Whitney test\n",
    "print('p-value =', '{0:.3f}'.format(stats.mannwhitneyu(sample_a_filtered, sample_b_filtered)[1]))\n",
    "\n",
    "# calculation of the relative difference in conversion between groups\n",
    "print('Relative difference in average conversion between groups according to cleaned data:',\n",
    "      '{0:.3f}'.format(sample_b_filtered.mean()/sample_a_filtered.mean()-1))"
   ]
  },
  {
   "cell_type": "markdown",
   "metadata": {},
   "source": [
    "**Conclusions**\n",
    "* p-value = 0.013, which is less than 0.05. This means that the null hypothesis of no differences in the \"cleaned\" data in the conversion between groups can be rejected. According to the \"raw\" data, the p-value was 0.017.\n",
    "* The mean conversion of group B is greater than the mean conversion of group A. The relative difference in conversion between groups on raw data was 0.138.\n",
    "* The results for \"cleaned\" data differ slightly from the results for \"raw\" data."
   ]
  },
  {
   "cell_type": "markdown",
   "metadata": {},
   "source": [
    "### Calculation of the statistical significance of differences in the average order receipt between groups according to \"cleaned\" data\n",
    "\n",
    "Let's formulate hypotheses:\n",
    "\n",
    "    * H₀ - there are no differences in the average check between groups;\n",
    "    * H₁ - there are differences in the average check between groups.\n",
    "   \n",
    "Let's pass the `mannwhitneyu()` criterion with data on revenue from orders without taking into account anomalous users and also find the relative differences in the average check between groups."
   ]
  },
  {
   "cell_type": "code",
   "execution_count": 32,
   "metadata": {},
   "outputs": [
    {
     "name": "stdout",
     "output_type": "stream",
     "text": [
      "p-value = 0.738\n",
      "Relative difference in the average check between groups according to cleaned data: -0.020\n"
     ]
    }
   ],
   "source": [
    "print('p-value =',\n",
    "      '{0:.3f}'.format(stats.mannwhitneyu(\n",
    "    orders[np.logical_and(\n",
    "        orders['group'] == 'A',\n",
    "        np.logical_not(orders['visitor_id']\n",
    "                       .isin(abnormal_users)))]['revenue'], \n",
    "    orders[np.logical_and(\n",
    "        orders['group'] == 'B',\n",
    "        np.logical_not(orders['visitor_id']\n",
    "                       .isin(abnormal_users)))]['revenue'])[1]))\n",
    "\n",
    "print('Relative difference in the average check between groups according to cleaned data:',\n",
    "      '{0:.3f}'.format(\n",
    "    orders[np.logical_and(\n",
    "        orders['group'] == 'B',\n",
    "        np.logical_not(orders['visitor_id']\n",
    "                       .isin(abnormal_users)))]['revenue'].mean() /\n",
    "    orders[np.logical_and(\n",
    "        orders['group'] == 'A',\n",
    "        np.logical_not(orders['visitor_id']\n",
    "                       .isin(abnormal_users)))]['revenue'].mean() - 1))"
   ]
  },
  {
   "cell_type": "markdown",
   "metadata": {},
   "source": [
    "**Conclusions**\n",
    "* p-value = 0.738, which is much more than 0.05. This means that there is no reason to reject the null hypothesis and believe that there are differences in the average check for “cleaned” data. According to the \"raw\" data, the p-value was 0.729.\n",
    "* However, according to the “cleaned” data, the average check of group A is greater than the average check of group B. According to the “raw” data, it was the opposite, the relative difference in the average check between groups was 0.259."
   ]
  },
  {
   "cell_type": "markdown",
   "metadata": {},
   "source": [
    "## General conclusion\n",
    "\n",
    "The main task of the study was to prioritize hypotheses, run an A/B test, and analyze the results.\n",
    "\n",
    "To conduct a correct analysis, it was necessary to process the available data:\n",
    "\n",
    "* Replace column names, bring them to lower case and correct style;\n",
    "* Convert to the correct data type in columns containing date and time information.\n",
    "\n",
    "In the course of prioritizing the hypotheses for the ICE and RICE frameworks, it was possible to identify the most important of them:\n",
    "\n",
    "* Add a subscription form to all main pages to build a customer base for email newsletters (hypothesis #7);\n",
    "* Add two new channels for attracting traffic, which will attract 30% more users (hypothesis No. 0);\n",
    "* Show banners with current promotions and sales on the main page to increase conversion (hypothesis No. 6).\n",
    "\n",
    "Let's highlight the main theses of the analysis of the results of the A / B test:\n",
    "\n",
    "* The cumulative average check of group B is higher than the average check of group A by 25.9% by the end of the test;\n",
    "* The cumulative conversion of group B is higher than the conversion of group A by 13.8% by the end of the test;\n",
    "* No more than 5% of all users placed more than 2 orders, 1% of users ordered more than 4 times;\n",
    "* No more than 5% of all orders cost more than 28,000 rubles, 1% of orders cost more than 58,233.2 rubles;\n",
    "* A statistically significant difference in conversion between groups is present both in the raw data and in the data after filtering out anomalies. Relative difference in average conversion between groups (ratio of average conversion of group B to average conversion of group A): 0.138 for raw data and 0.173 for cleared data;\n",
    "* There is no statistically significant difference in the average check between the groups, neither according to the \"raw\" nor according to the data after filtering out anomalies. Relative difference in the average check between groups (the ratio of the average check of group B to the average check of group A): 0.259 according to the \"raw\" data and -0.020 according to the \"cleaned\" data;\n",
    "* The graph of the difference in conversion between groups shows that the results of group B are better than group A and there is a significant trend towards improvement.\n",
    "* The graph of the difference in the average check shows that the results of group B, despite attempts to grow, have a slight downward trend, including the influence of large orders. According to the \"cleaned\" data, the average check of group A turned out to be higher than the average check of group B.\n",
    "* Based on the facts found, the test should continue. Even though segment B conversion is better than segment A, there is reason to believe that there is a downward trend in the average check of segment B. It needs to be tracked, and this will take more time. Based on the emerging upward trend in the graph of the difference in conversion between groups approximately two weeks before the end of the test, you can assign a continuation period of testing to two weeks."
   ]
  }
 ],
 "metadata": {
  "ExecuteTimeLog": [
   {
    "duration": 1648,
    "start_time": "2022-05-25T08:15:44.087Z"
   },
   {
    "duration": 245,
    "start_time": "2022-05-25T08:15:46.889Z"
   },
   {
    "duration": 26,
    "start_time": "2022-05-25T08:16:06.053Z"
   },
   {
    "duration": 7,
    "start_time": "2022-05-25T08:27:55.531Z"
   },
   {
    "duration": 7,
    "start_time": "2022-05-25T08:33:35.882Z"
   },
   {
    "duration": 10,
    "start_time": "2022-05-25T08:36:15.814Z"
   },
   {
    "duration": 17,
    "start_time": "2022-05-25T08:36:29.161Z"
   },
   {
    "duration": 9,
    "start_time": "2022-05-25T08:36:45.886Z"
   },
   {
    "duration": 379,
    "start_time": "2022-05-25T08:47:52.828Z"
   },
   {
    "duration": 11,
    "start_time": "2022-05-25T08:51:16.815Z"
   },
   {
    "duration": 11,
    "start_time": "2022-05-25T08:53:30.488Z"
   },
   {
    "duration": 15,
    "start_time": "2022-05-25T08:53:48.465Z"
   },
   {
    "duration": 20,
    "start_time": "2022-05-25T08:59:25.662Z"
   },
   {
    "duration": 120,
    "start_time": "2022-05-25T09:46:29.262Z"
   },
   {
    "duration": 25,
    "start_time": "2022-05-25T09:46:53.621Z"
   },
   {
    "duration": 2,
    "start_time": "2022-05-25T09:48:30.021Z"
   },
   {
    "duration": 94,
    "start_time": "2022-05-25T09:48:30.025Z"
   },
   {
    "duration": 20,
    "start_time": "2022-05-25T09:48:30.120Z"
   },
   {
    "duration": 7,
    "start_time": "2022-05-25T09:48:30.142Z"
   },
   {
    "duration": 5,
    "start_time": "2022-05-25T09:48:30.151Z"
   },
   {
    "duration": 9,
    "start_time": "2022-05-25T09:48:30.157Z"
   },
   {
    "duration": 12,
    "start_time": "2022-05-25T09:48:30.167Z"
   },
   {
    "duration": 12,
    "start_time": "2022-05-25T09:48:30.181Z"
   },
   {
    "duration": 27,
    "start_time": "2022-05-25T09:48:33.206Z"
   },
   {
    "duration": 244,
    "start_time": "2022-05-25T09:50:06.441Z"
   },
   {
    "duration": 638,
    "start_time": "2022-05-25T09:51:59.021Z"
   },
   {
    "duration": 148,
    "start_time": "2022-05-25T09:52:13.269Z"
   },
   {
    "duration": 184,
    "start_time": "2022-05-25T09:55:40.916Z"
   },
   {
    "duration": 216,
    "start_time": "2022-05-25T09:55:54.660Z"
   },
   {
    "duration": 22,
    "start_time": "2022-05-25T09:56:26.671Z"
   },
   {
    "duration": 166,
    "start_time": "2022-05-25T09:56:52.230Z"
   },
   {
    "duration": 272,
    "start_time": "2022-05-25T09:57:27.729Z"
   },
   {
    "duration": 219,
    "start_time": "2022-05-25T09:59:21.740Z"
   },
   {
    "duration": 152,
    "start_time": "2022-05-25T11:06:04.111Z"
   },
   {
    "duration": 184,
    "start_time": "2022-05-25T11:06:51.658Z"
   },
   {
    "duration": 299,
    "start_time": "2022-05-25T11:07:04.163Z"
   },
   {
    "duration": 296,
    "start_time": "2022-05-25T11:07:18.141Z"
   },
   {
    "duration": 333,
    "start_time": "2022-05-25T11:07:28.820Z"
   },
   {
    "duration": 394,
    "start_time": "2022-05-25T11:17:55.237Z"
   },
   {
    "duration": 370,
    "start_time": "2022-05-25T11:19:03.541Z"
   },
   {
    "duration": 280,
    "start_time": "2022-05-25T11:26:52.921Z"
   },
   {
    "duration": 210,
    "start_time": "2022-05-25T11:27:22.716Z"
   },
   {
    "duration": 237,
    "start_time": "2022-05-25T11:27:34.922Z"
   },
   {
    "duration": 3,
    "start_time": "2022-05-25T11:28:50.407Z"
   },
   {
    "duration": 93,
    "start_time": "2022-05-25T11:28:50.416Z"
   },
   {
    "duration": 29,
    "start_time": "2022-05-25T11:28:50.511Z"
   },
   {
    "duration": 9,
    "start_time": "2022-05-25T11:28:50.542Z"
   },
   {
    "duration": 19,
    "start_time": "2022-05-25T11:28:50.553Z"
   },
   {
    "duration": 11,
    "start_time": "2022-05-25T11:28:50.574Z"
   },
   {
    "duration": 18,
    "start_time": "2022-05-25T11:28:50.587Z"
   },
   {
    "duration": 18,
    "start_time": "2022-05-25T11:28:50.606Z"
   },
   {
    "duration": 270,
    "start_time": "2022-05-25T11:28:50.626Z"
   },
   {
    "duration": 331,
    "start_time": "2022-05-25T11:28:50.898Z"
   },
   {
    "duration": 323,
    "start_time": "2022-05-25T11:28:51.230Z"
   },
   {
    "duration": 458,
    "start_time": "2022-05-25T11:28:51.555Z"
   },
   {
    "duration": 356,
    "start_time": "2022-05-25T11:28:52.014Z"
   },
   {
    "duration": 407,
    "start_time": "2022-05-25T11:29:39.928Z"
   },
   {
    "duration": 3,
    "start_time": "2022-05-25T11:30:17.415Z"
   },
   {
    "duration": 93,
    "start_time": "2022-05-25T11:30:17.420Z"
   },
   {
    "duration": 21,
    "start_time": "2022-05-25T11:30:17.514Z"
   },
   {
    "duration": 7,
    "start_time": "2022-05-25T11:30:17.537Z"
   },
   {
    "duration": 11,
    "start_time": "2022-05-25T11:30:17.545Z"
   },
   {
    "duration": 9,
    "start_time": "2022-05-25T11:30:17.558Z"
   },
   {
    "duration": 12,
    "start_time": "2022-05-25T11:30:17.569Z"
   },
   {
    "duration": 13,
    "start_time": "2022-05-25T11:30:17.582Z"
   },
   {
    "duration": 300,
    "start_time": "2022-05-25T11:30:17.597Z"
   },
   {
    "duration": 295,
    "start_time": "2022-05-25T11:30:17.899Z"
   },
   {
    "duration": 274,
    "start_time": "2022-05-25T11:30:18.196Z"
   },
   {
    "duration": 369,
    "start_time": "2022-05-25T11:30:18.471Z"
   },
   {
    "duration": 227,
    "start_time": "2022-05-25T11:30:18.842Z"
   },
   {
    "duration": 8,
    "start_time": "2022-05-25T11:31:20.191Z"
   },
   {
    "duration": 263,
    "start_time": "2022-05-25T11:31:28.305Z"
   },
   {
    "duration": 8,
    "start_time": "2022-05-25T11:31:47.473Z"
   },
   {
    "duration": 5,
    "start_time": "2022-05-25T11:32:12.086Z"
   },
   {
    "duration": 227,
    "start_time": "2022-05-25T11:32:33.561Z"
   },
   {
    "duration": 241,
    "start_time": "2022-05-25T11:33:22.562Z"
   },
   {
    "duration": 231,
    "start_time": "2022-05-25T11:40:14.691Z"
   },
   {
    "duration": 213,
    "start_time": "2022-05-25T11:40:30.048Z"
   },
   {
    "duration": 211,
    "start_time": "2022-05-25T11:40:55.316Z"
   },
   {
    "duration": 320,
    "start_time": "2022-05-25T11:41:25.493Z"
   },
   {
    "duration": 303,
    "start_time": "2022-05-25T11:41:57.894Z"
   },
   {
    "duration": 385,
    "start_time": "2022-05-25T11:42:19.933Z"
   },
   {
    "duration": 368,
    "start_time": "2022-05-25T11:42:33.116Z"
   },
   {
    "duration": 222,
    "start_time": "2022-05-25T11:42:48.269Z"
   },
   {
    "duration": 221,
    "start_time": "2022-05-25T11:43:23.126Z"
   },
   {
    "duration": 232,
    "start_time": "2022-05-25T11:44:04.117Z"
   },
   {
    "duration": 249,
    "start_time": "2022-05-25T11:44:30.981Z"
   },
   {
    "duration": 268,
    "start_time": "2022-05-25T11:51:25.905Z"
   },
   {
    "duration": 355,
    "start_time": "2022-05-25T11:52:22.268Z"
   },
   {
    "duration": 401,
    "start_time": "2022-05-25T11:54:24.109Z"
   },
   {
    "duration": 336,
    "start_time": "2022-05-25T11:56:17.362Z"
   },
   {
    "duration": 214,
    "start_time": "2022-05-25T11:57:45.459Z"
   },
   {
    "duration": 10,
    "start_time": "2022-05-25T11:58:24.929Z"
   },
   {
    "duration": 211,
    "start_time": "2022-05-25T11:58:43.394Z"
   },
   {
    "duration": 266,
    "start_time": "2022-05-25T12:00:47.878Z"
   },
   {
    "duration": 2,
    "start_time": "2022-05-25T12:00:54.148Z"
   },
   {
    "duration": 245,
    "start_time": "2022-05-25T12:01:01.460Z"
   },
   {
    "duration": 211,
    "start_time": "2022-05-25T12:01:19.098Z"
   },
   {
    "duration": 220,
    "start_time": "2022-05-25T12:01:33.785Z"
   },
   {
    "duration": 199,
    "start_time": "2022-05-25T12:01:39.195Z"
   },
   {
    "duration": 220,
    "start_time": "2022-05-25T12:02:09.545Z"
   },
   {
    "duration": 221,
    "start_time": "2022-05-25T12:02:13.610Z"
   },
   {
    "duration": 212,
    "start_time": "2022-05-25T12:02:20.096Z"
   },
   {
    "duration": 221,
    "start_time": "2022-05-25T12:02:29.451Z"
   },
   {
    "duration": 312,
    "start_time": "2022-05-25T12:02:37.225Z"
   },
   {
    "duration": 195,
    "start_time": "2022-05-25T12:02:42.968Z"
   },
   {
    "duration": 248,
    "start_time": "2022-05-25T12:03:11.569Z"
   },
   {
    "duration": 212,
    "start_time": "2022-05-25T12:03:57.290Z"
   },
   {
    "duration": 358,
    "start_time": "2022-05-25T12:06:31.815Z"
   },
   {
    "duration": 313,
    "start_time": "2022-05-25T12:06:56.074Z"
   },
   {
    "duration": 384,
    "start_time": "2022-05-25T12:07:07.833Z"
   },
   {
    "duration": 10,
    "start_time": "2022-05-25T12:39:40.408Z"
   },
   {
    "duration": 10,
    "start_time": "2022-05-25T12:40:32.613Z"
   },
   {
    "duration": 18,
    "start_time": "2022-05-25T12:42:47.189Z"
   },
   {
    "duration": 169,
    "start_time": "2022-05-25T12:44:28.166Z"
   },
   {
    "duration": 146,
    "start_time": "2022-05-25T12:45:40.288Z"
   },
   {
    "duration": 159,
    "start_time": "2022-05-25T12:47:08.733Z"
   },
   {
    "duration": 192,
    "start_time": "2022-05-25T12:47:32.285Z"
   },
   {
    "duration": 232,
    "start_time": "2022-05-25T12:50:58.167Z"
   },
   {
    "duration": 224,
    "start_time": "2022-05-25T12:51:58.590Z"
   },
   {
    "duration": 265,
    "start_time": "2022-05-25T12:57:00.012Z"
   },
   {
    "duration": 206,
    "start_time": "2022-05-25T12:57:08.372Z"
   },
   {
    "duration": 15,
    "start_time": "2022-05-25T13:09:17.793Z"
   },
   {
    "duration": 191,
    "start_time": "2022-05-25T13:12:43.681Z"
   },
   {
    "duration": 117,
    "start_time": "2022-05-25T13:13:26.725Z"
   },
   {
    "duration": 57,
    "start_time": "2022-05-25T13:15:04.910Z"
   },
   {
    "duration": 65,
    "start_time": "2022-05-25T13:15:26.447Z"
   },
   {
    "duration": 35,
    "start_time": "2022-05-25T13:16:08.610Z"
   },
   {
    "duration": 138,
    "start_time": "2022-05-25T13:16:16.572Z"
   },
   {
    "duration": 138,
    "start_time": "2022-05-25T13:16:35.281Z"
   },
   {
    "duration": 5,
    "start_time": "2022-05-25T13:22:44.825Z"
   },
   {
    "duration": 13,
    "start_time": "2022-05-25T13:29:11.796Z"
   },
   {
    "duration": 177,
    "start_time": "2022-05-25T13:30:53.581Z"
   },
   {
    "duration": 156,
    "start_time": "2022-05-25T13:32:27.049Z"
   },
   {
    "duration": 151,
    "start_time": "2022-05-25T13:33:14.436Z"
   },
   {
    "duration": 178,
    "start_time": "2022-05-25T13:36:11.252Z"
   },
   {
    "duration": 405,
    "start_time": "2022-05-25T13:39:32.892Z"
   },
   {
    "duration": 234,
    "start_time": "2022-05-25T13:41:15.554Z"
   },
   {
    "duration": 345,
    "start_time": "2022-05-25T13:41:20.872Z"
   },
   {
    "duration": 220,
    "start_time": "2022-05-25T13:41:37.079Z"
   },
   {
    "duration": 209,
    "start_time": "2022-05-25T13:41:39.296Z"
   },
   {
    "duration": 6,
    "start_time": "2022-05-25T13:46:08.815Z"
   },
   {
    "duration": 289,
    "start_time": "2022-05-25T14:46:26.463Z"
   },
   {
    "duration": 298,
    "start_time": "2022-05-25T14:47:03.333Z"
   },
   {
    "duration": 168,
    "start_time": "2022-05-25T14:50:39.488Z"
   },
   {
    "duration": 3,
    "start_time": "2022-05-25T14:51:15.717Z"
   },
   {
    "duration": 282,
    "start_time": "2022-05-25T14:51:19.757Z"
   },
   {
    "duration": 1611,
    "start_time": "2022-05-26T06:14:55.042Z"
   },
   {
    "duration": 195,
    "start_time": "2022-05-26T06:14:56.655Z"
   },
   {
    "duration": 24,
    "start_time": "2022-05-26T06:14:56.851Z"
   },
   {
    "duration": 8,
    "start_time": "2022-05-26T06:14:56.878Z"
   },
   {
    "duration": 6,
    "start_time": "2022-05-26T06:14:56.888Z"
   },
   {
    "duration": 8,
    "start_time": "2022-05-26T06:15:01.186Z"
   },
   {
    "duration": 3,
    "start_time": "2022-05-26T06:15:09.296Z"
   },
   {
    "duration": 90,
    "start_time": "2022-05-26T06:15:09.302Z"
   },
   {
    "duration": 33,
    "start_time": "2022-05-26T06:15:09.394Z"
   },
   {
    "duration": 7,
    "start_time": "2022-05-26T06:15:09.429Z"
   },
   {
    "duration": 12,
    "start_time": "2022-05-26T06:15:09.438Z"
   },
   {
    "duration": 16,
    "start_time": "2022-05-26T06:15:09.453Z"
   },
   {
    "duration": 19,
    "start_time": "2022-05-26T06:15:09.471Z"
   },
   {
    "duration": 13,
    "start_time": "2022-05-26T06:15:09.492Z"
   },
   {
    "duration": 280,
    "start_time": "2022-05-26T06:15:09.506Z"
   },
   {
    "duration": 351,
    "start_time": "2022-05-26T06:15:09.787Z"
   },
   {
    "duration": 293,
    "start_time": "2022-05-26T06:15:10.140Z"
   },
   {
    "duration": 411,
    "start_time": "2022-05-26T06:15:10.435Z"
   },
   {
    "duration": 219,
    "start_time": "2022-05-26T06:15:10.847Z"
   },
   {
    "duration": 326,
    "start_time": "2022-05-26T06:15:11.067Z"
   },
   {
    "duration": 11,
    "start_time": "2022-05-26T06:15:11.395Z"
   },
   {
    "duration": 133,
    "start_time": "2022-05-26T06:15:11.407Z"
   },
   {
    "duration": 134,
    "start_time": "2022-05-26T06:15:11.542Z"
   },
   {
    "duration": 4,
    "start_time": "2022-05-26T06:15:11.678Z"
   },
   {
    "duration": 13,
    "start_time": "2022-05-26T06:15:11.684Z"
   },
   {
    "duration": 247,
    "start_time": "2022-05-26T06:15:11.699Z"
   },
   {
    "duration": 147,
    "start_time": "2022-05-26T06:15:11.948Z"
   },
   {
    "duration": 155,
    "start_time": "2022-05-26T06:15:12.096Z"
   },
   {
    "duration": 7,
    "start_time": "2022-05-26T06:15:12.253Z"
   },
   {
    "duration": 221,
    "start_time": "2022-05-26T06:15:12.262Z"
   },
   {
    "duration": 161,
    "start_time": "2022-05-26T06:15:12.485Z"
   },
   {
    "duration": 17,
    "start_time": "2022-05-26T06:15:12.648Z"
   },
   {
    "duration": 235,
    "start_time": "2022-05-26T06:22:40.817Z"
   },
   {
    "duration": 317,
    "start_time": "2022-05-26T06:22:51.826Z"
   },
   {
    "duration": 147,
    "start_time": "2022-05-26T06:23:19.896Z"
   },
   {
    "duration": 142,
    "start_time": "2022-05-26T06:23:25.423Z"
   },
   {
    "duration": 476,
    "start_time": "2022-05-26T06:29:19.918Z"
   },
   {
    "duration": 157,
    "start_time": "2022-05-26T06:31:09.439Z"
   },
   {
    "duration": 11,
    "start_time": "2022-05-26T06:31:18.160Z"
   },
   {
    "duration": 8,
    "start_time": "2022-05-26T06:31:34.543Z"
   },
   {
    "duration": 33,
    "start_time": "2022-05-26T06:36:35.512Z"
   },
   {
    "duration": 266,
    "start_time": "2022-05-26T06:39:00.679Z"
   },
   {
    "duration": 177,
    "start_time": "2022-05-26T06:50:09.219Z"
   },
   {
    "duration": 176,
    "start_time": "2022-05-26T06:52:10.639Z"
   },
   {
    "duration": 170,
    "start_time": "2022-05-26T06:52:43.775Z"
   },
   {
    "duration": 165,
    "start_time": "2022-05-26T06:54:40.799Z"
   },
   {
    "duration": 145,
    "start_time": "2022-05-26T06:56:01.301Z"
   },
   {
    "duration": 9,
    "start_time": "2022-05-26T06:58:28.917Z"
   },
   {
    "duration": 29,
    "start_time": "2022-05-26T06:59:25.880Z"
   },
   {
    "duration": 13,
    "start_time": "2022-05-26T07:08:34.134Z"
   },
   {
    "duration": 149,
    "start_time": "2022-05-26T07:13:21.956Z"
   },
   {
    "duration": 9,
    "start_time": "2022-05-26T07:15:15.700Z"
   },
   {
    "duration": 38,
    "start_time": "2022-05-26T07:18:02.988Z"
   },
   {
    "duration": 13,
    "start_time": "2022-05-26T07:21:38.409Z"
   },
   {
    "duration": 188,
    "start_time": "2022-05-26T09:15:41.899Z"
   },
   {
    "duration": 246,
    "start_time": "2022-05-26T09:15:47.365Z"
   },
   {
    "duration": 205,
    "start_time": "2022-05-26T09:15:51.644Z"
   },
   {
    "duration": 169,
    "start_time": "2022-05-26T09:16:01.477Z"
   },
   {
    "duration": 156,
    "start_time": "2022-05-26T09:16:05.627Z"
   },
   {
    "duration": 246,
    "start_time": "2022-05-26T09:16:12.710Z"
   },
   {
    "duration": 149,
    "start_time": "2022-05-26T09:16:17.212Z"
   },
   {
    "duration": 136,
    "start_time": "2022-05-26T09:16:22.621Z"
   },
   {
    "duration": 131,
    "start_time": "2022-05-26T09:16:39.135Z"
   },
   {
    "duration": 3,
    "start_time": "2022-05-26T09:24:38.139Z"
   },
   {
    "duration": 93,
    "start_time": "2022-05-26T09:24:38.145Z"
   },
   {
    "duration": 28,
    "start_time": "2022-05-26T09:24:38.239Z"
   },
   {
    "duration": 11,
    "start_time": "2022-05-26T09:24:38.269Z"
   },
   {
    "duration": 5,
    "start_time": "2022-05-26T09:24:38.281Z"
   },
   {
    "duration": 11,
    "start_time": "2022-05-26T09:24:38.288Z"
   },
   {
    "duration": 16,
    "start_time": "2022-05-26T09:24:38.301Z"
   },
   {
    "duration": 12,
    "start_time": "2022-05-26T09:24:38.318Z"
   },
   {
    "duration": 308,
    "start_time": "2022-05-26T09:24:38.332Z"
   },
   {
    "duration": 272,
    "start_time": "2022-05-26T09:24:38.642Z"
   },
   {
    "duration": 265,
    "start_time": "2022-05-26T09:24:38.917Z"
   },
   {
    "duration": 347,
    "start_time": "2022-05-26T09:24:39.183Z"
   },
   {
    "duration": 234,
    "start_time": "2022-05-26T09:24:39.532Z"
   },
   {
    "duration": 368,
    "start_time": "2022-05-26T09:24:39.768Z"
   },
   {
    "duration": 11,
    "start_time": "2022-05-26T09:24:40.138Z"
   },
   {
    "duration": 150,
    "start_time": "2022-05-26T09:24:40.150Z"
   },
   {
    "duration": 128,
    "start_time": "2022-05-26T09:24:40.302Z"
   },
   {
    "duration": 4,
    "start_time": "2022-05-26T09:24:40.432Z"
   },
   {
    "duration": 32,
    "start_time": "2022-05-26T09:24:40.438Z"
   },
   {
    "duration": 334,
    "start_time": "2022-05-26T09:24:40.473Z"
   },
   {
    "duration": 157,
    "start_time": "2022-05-26T09:24:40.809Z"
   },
   {
    "duration": 157,
    "start_time": "2022-05-26T09:24:40.969Z"
   },
   {
    "duration": 5,
    "start_time": "2022-05-26T09:24:41.127Z"
   },
   {
    "duration": 240,
    "start_time": "2022-05-26T09:24:41.134Z"
   },
   {
    "duration": 176,
    "start_time": "2022-05-26T09:24:41.375Z"
   },
   {
    "duration": 19,
    "start_time": "2022-05-26T09:24:41.553Z"
   },
   {
    "duration": 12,
    "start_time": "2022-05-26T09:24:41.574Z"
   },
   {
    "duration": 31,
    "start_time": "2022-05-26T09:24:41.587Z"
   },
   {
    "duration": 13,
    "start_time": "2022-05-26T09:24:41.620Z"
   },
   {
    "duration": 1926,
    "start_time": "2022-05-26T09:50:58.525Z"
   },
   {
    "duration": 197,
    "start_time": "2022-05-26T09:51:00.453Z"
   },
   {
    "duration": 30,
    "start_time": "2022-05-26T09:51:00.652Z"
   },
   {
    "duration": 42,
    "start_time": "2022-05-26T09:51:00.684Z"
   },
   {
    "duration": 12,
    "start_time": "2022-05-26T09:51:00.728Z"
   },
   {
    "duration": 39,
    "start_time": "2022-05-26T09:51:00.742Z"
   },
   {
    "duration": 42,
    "start_time": "2022-05-26T09:51:00.783Z"
   },
   {
    "duration": 23,
    "start_time": "2022-05-26T09:51:00.827Z"
   },
   {
    "duration": 321,
    "start_time": "2022-05-26T09:51:00.852Z"
   },
   {
    "duration": 555,
    "start_time": "2022-05-26T09:51:01.176Z"
   },
   {
    "duration": 673,
    "start_time": "2022-05-26T09:51:01.733Z"
   },
   {
    "duration": 775,
    "start_time": "2022-05-26T09:51:02.408Z"
   },
   {
    "duration": 513,
    "start_time": "2022-05-26T09:51:03.185Z"
   },
   {
    "duration": 462,
    "start_time": "2022-05-26T09:51:03.701Z"
   },
   {
    "duration": 15,
    "start_time": "2022-05-26T09:51:04.165Z"
   },
   {
    "duration": 147,
    "start_time": "2022-05-26T09:51:04.181Z"
   },
   {
    "duration": 146,
    "start_time": "2022-05-26T09:51:04.329Z"
   },
   {
    "duration": 5,
    "start_time": "2022-05-26T09:51:04.476Z"
   },
   {
    "duration": 33,
    "start_time": "2022-05-26T09:51:04.482Z"
   },
   {
    "duration": 266,
    "start_time": "2022-05-26T09:51:04.516Z"
   },
   {
    "duration": 154,
    "start_time": "2022-05-26T09:51:04.784Z"
   },
   {
    "duration": 177,
    "start_time": "2022-05-26T09:51:04.940Z"
   },
   {
    "duration": 6,
    "start_time": "2022-05-26T09:51:05.118Z"
   },
   {
    "duration": 274,
    "start_time": "2022-05-26T09:51:05.125Z"
   },
   {
    "duration": 185,
    "start_time": "2022-05-26T09:51:05.400Z"
   },
   {
    "duration": 11,
    "start_time": "2022-05-26T09:51:05.587Z"
   },
   {
    "duration": 30,
    "start_time": "2022-05-26T09:51:05.599Z"
   },
   {
    "duration": 53,
    "start_time": "2022-05-26T09:51:05.633Z"
   },
   {
    "duration": 32,
    "start_time": "2022-05-26T09:51:05.688Z"
   },
   {
    "duration": 1437,
    "start_time": "2022-05-26T11:24:23.021Z"
   },
   {
    "duration": 194,
    "start_time": "2022-05-26T11:24:24.460Z"
   },
   {
    "duration": 22,
    "start_time": "2022-05-26T11:24:24.656Z"
   },
   {
    "duration": 8,
    "start_time": "2022-05-26T11:24:24.680Z"
   },
   {
    "duration": 5,
    "start_time": "2022-05-26T11:24:24.689Z"
   },
   {
    "duration": 9,
    "start_time": "2022-05-26T11:24:24.696Z"
   },
   {
    "duration": 15,
    "start_time": "2022-05-26T11:24:24.706Z"
   },
   {
    "duration": 40,
    "start_time": "2022-05-26T11:24:24.723Z"
   },
   {
    "duration": 105,
    "start_time": "2022-05-26T11:24:32.660Z"
   },
   {
    "duration": 4,
    "start_time": "2022-05-26T11:25:26.536Z"
   },
   {
    "duration": 3,
    "start_time": "2022-05-26T11:25:45.089Z"
   },
   {
    "duration": 7,
    "start_time": "2022-05-26T11:29:19.312Z"
   },
   {
    "duration": 7,
    "start_time": "2022-05-26T11:29:41.514Z"
   },
   {
    "duration": 8,
    "start_time": "2022-05-26T11:29:50.813Z"
   },
   {
    "duration": 9,
    "start_time": "2022-05-26T11:39:27.955Z"
   },
   {
    "duration": 10,
    "start_time": "2022-05-26T11:39:39.041Z"
   },
   {
    "duration": 6,
    "start_time": "2022-05-26T11:51:05.531Z"
   },
   {
    "duration": 8,
    "start_time": "2022-05-26T11:51:15.424Z"
   },
   {
    "duration": 9,
    "start_time": "2022-05-26T11:51:28.328Z"
   },
   {
    "duration": 8,
    "start_time": "2022-05-26T11:51:43.646Z"
   },
   {
    "duration": 10,
    "start_time": "2022-05-26T11:52:17.728Z"
   },
   {
    "duration": 52,
    "start_time": "2022-05-26T11:52:31.977Z"
   },
   {
    "duration": 8,
    "start_time": "2022-05-26T11:54:55.912Z"
   },
   {
    "duration": 9,
    "start_time": "2022-05-26T11:57:01.680Z"
   },
   {
    "duration": 9,
    "start_time": "2022-05-26T11:59:58.625Z"
   },
   {
    "duration": 8,
    "start_time": "2022-05-26T12:00:07.547Z"
   },
   {
    "duration": 10,
    "start_time": "2022-05-26T12:00:21.386Z"
   },
   {
    "duration": 11,
    "start_time": "2022-05-26T12:01:13.195Z"
   },
   {
    "duration": 11,
    "start_time": "2022-05-26T12:01:20.947Z"
   },
   {
    "duration": 239,
    "start_time": "2022-05-26T12:04:05.653Z"
   },
   {
    "duration": 11,
    "start_time": "2022-05-26T12:04:35.121Z"
   },
   {
    "duration": 3,
    "start_time": "2022-05-26T12:26:58.594Z"
   },
   {
    "duration": 94,
    "start_time": "2022-05-26T12:26:58.607Z"
   },
   {
    "duration": 22,
    "start_time": "2022-05-26T12:26:58.703Z"
   },
   {
    "duration": 38,
    "start_time": "2022-05-26T12:26:58.726Z"
   },
   {
    "duration": 20,
    "start_time": "2022-05-26T12:26:58.766Z"
   },
   {
    "duration": 35,
    "start_time": "2022-05-26T12:26:58.787Z"
   },
   {
    "duration": 24,
    "start_time": "2022-05-26T12:26:58.823Z"
   },
   {
    "duration": 23,
    "start_time": "2022-05-26T12:26:58.849Z"
   },
   {
    "duration": 21,
    "start_time": "2022-05-26T12:26:58.873Z"
   },
   {
    "duration": 23,
    "start_time": "2022-05-26T12:26:58.896Z"
   },
   {
    "duration": 21,
    "start_time": "2022-05-26T12:26:58.921Z"
   },
   {
    "duration": 279,
    "start_time": "2022-05-26T12:26:58.944Z"
   },
   {
    "duration": 627,
    "start_time": "2022-05-26T12:26:59.224Z"
   },
   {
    "duration": 310,
    "start_time": "2022-05-26T12:26:59.852Z"
   },
   {
    "duration": 385,
    "start_time": "2022-05-26T12:27:00.163Z"
   },
   {
    "duration": 226,
    "start_time": "2022-05-26T12:27:00.550Z"
   },
   {
    "duration": 337,
    "start_time": "2022-05-26T12:27:00.778Z"
   },
   {
    "duration": 11,
    "start_time": "2022-05-26T12:27:01.117Z"
   },
   {
    "duration": 161,
    "start_time": "2022-05-26T12:27:01.129Z"
   },
   {
    "duration": 129,
    "start_time": "2022-05-26T12:27:04.080Z"
   },
   {
    "duration": 134,
    "start_time": "2022-05-26T12:27:12.382Z"
   },
   {
    "duration": 131,
    "start_time": "2022-05-26T12:27:18.991Z"
   },
   {
    "duration": 125,
    "start_time": "2022-05-26T12:28:45.605Z"
   },
   {
    "duration": 160,
    "start_time": "2022-05-26T12:29:17.854Z"
   },
   {
    "duration": 153,
    "start_time": "2022-05-26T12:29:22.323Z"
   },
   {
    "duration": 135,
    "start_time": "2022-05-26T12:29:28.078Z"
   },
   {
    "duration": 243,
    "start_time": "2022-05-26T12:29:32.976Z"
   },
   {
    "duration": 128,
    "start_time": "2022-05-26T12:29:56.540Z"
   },
   {
    "duration": 113,
    "start_time": "2022-05-26T12:30:10.883Z"
   },
   {
    "duration": 3,
    "start_time": "2022-05-26T12:30:24.979Z"
   },
   {
    "duration": 99,
    "start_time": "2022-05-26T12:30:24.987Z"
   },
   {
    "duration": 27,
    "start_time": "2022-05-26T12:30:25.088Z"
   },
   {
    "duration": 36,
    "start_time": "2022-05-26T12:30:25.117Z"
   },
   {
    "duration": 18,
    "start_time": "2022-05-26T12:30:25.155Z"
   },
   {
    "duration": 14,
    "start_time": "2022-05-26T12:30:25.176Z"
   },
   {
    "duration": 29,
    "start_time": "2022-05-26T12:30:25.192Z"
   },
   {
    "duration": 19,
    "start_time": "2022-05-26T12:30:25.223Z"
   },
   {
    "duration": 6,
    "start_time": "2022-05-26T12:30:25.245Z"
   },
   {
    "duration": 21,
    "start_time": "2022-05-26T12:30:25.253Z"
   },
   {
    "duration": 21,
    "start_time": "2022-05-26T12:30:25.276Z"
   },
   {
    "duration": 304,
    "start_time": "2022-05-26T12:30:25.300Z"
   },
   {
    "duration": 285,
    "start_time": "2022-05-26T12:30:25.606Z"
   },
   {
    "duration": 253,
    "start_time": "2022-05-26T12:30:25.893Z"
   },
   {
    "duration": 386,
    "start_time": "2022-05-26T12:30:26.150Z"
   },
   {
    "duration": 270,
    "start_time": "2022-05-26T12:30:26.538Z"
   },
   {
    "duration": 358,
    "start_time": "2022-05-26T12:30:26.810Z"
   },
   {
    "duration": 16,
    "start_time": "2022-05-26T12:30:27.171Z"
   },
   {
    "duration": 208,
    "start_time": "2022-05-26T12:30:27.189Z"
   },
   {
    "duration": 169,
    "start_time": "2022-05-26T12:30:27.400Z"
   },
   {
    "duration": 5,
    "start_time": "2022-05-26T12:30:27.570Z"
   },
   {
    "duration": 17,
    "start_time": "2022-05-26T12:30:27.577Z"
   },
   {
    "duration": 359,
    "start_time": "2022-05-26T12:30:27.596Z"
   },
   {
    "duration": 169,
    "start_time": "2022-05-26T12:30:27.957Z"
   },
   {
    "duration": 195,
    "start_time": "2022-05-26T12:30:37.188Z"
   },
   {
    "duration": 4,
    "start_time": "2022-05-26T12:33:14.700Z"
   },
   {
    "duration": 93,
    "start_time": "2022-05-26T12:33:14.708Z"
   },
   {
    "duration": 22,
    "start_time": "2022-05-26T12:33:14.803Z"
   },
   {
    "duration": 14,
    "start_time": "2022-05-26T12:33:14.827Z"
   },
   {
    "duration": 6,
    "start_time": "2022-05-26T12:33:14.843Z"
   },
   {
    "duration": 11,
    "start_time": "2022-05-26T12:33:14.851Z"
   },
   {
    "duration": 13,
    "start_time": "2022-05-26T12:33:14.863Z"
   },
   {
    "duration": 12,
    "start_time": "2022-05-26T12:33:14.877Z"
   },
   {
    "duration": 8,
    "start_time": "2022-05-26T12:33:14.891Z"
   },
   {
    "duration": 8,
    "start_time": "2022-05-26T12:33:14.900Z"
   },
   {
    "duration": 12,
    "start_time": "2022-05-26T12:33:14.909Z"
   },
   {
    "duration": 299,
    "start_time": "2022-05-26T12:33:14.922Z"
   },
   {
    "duration": 247,
    "start_time": "2022-05-26T12:33:15.222Z"
   },
   {
    "duration": 236,
    "start_time": "2022-05-26T12:33:15.471Z"
   },
   {
    "duration": 324,
    "start_time": "2022-05-26T12:33:15.710Z"
   },
   {
    "duration": 219,
    "start_time": "2022-05-26T12:33:16.036Z"
   },
   {
    "duration": 330,
    "start_time": "2022-05-26T12:33:16.259Z"
   },
   {
    "duration": 10,
    "start_time": "2022-05-26T12:33:16.591Z"
   },
   {
    "duration": 138,
    "start_time": "2022-05-26T12:33:16.602Z"
   },
   {
    "duration": 134,
    "start_time": "2022-05-26T12:33:16.742Z"
   },
   {
    "duration": 4,
    "start_time": "2022-05-26T12:33:16.877Z"
   },
   {
    "duration": 38,
    "start_time": "2022-05-26T12:33:16.883Z"
   },
   {
    "duration": 400,
    "start_time": "2022-05-26T12:33:16.922Z"
   },
   {
    "duration": 171,
    "start_time": "2022-05-26T12:33:17.324Z"
   },
   {
    "duration": 165,
    "start_time": "2022-05-26T12:33:17.496Z"
   },
   {
    "duration": 4,
    "start_time": "2022-05-26T12:33:17.663Z"
   },
   {
    "duration": 232,
    "start_time": "2022-05-26T12:33:17.669Z"
   },
   {
    "duration": 173,
    "start_time": "2022-05-26T12:33:27.308Z"
   },
   {
    "duration": 155,
    "start_time": "2022-05-26T12:33:48.060Z"
   },
   {
    "duration": 10,
    "start_time": "2022-05-26T12:34:58.903Z"
   },
   {
    "duration": 12,
    "start_time": "2022-05-26T12:36:39.513Z"
   },
   {
    "duration": 3,
    "start_time": "2022-05-26T12:36:44.285Z"
   },
   {
    "duration": 92,
    "start_time": "2022-05-26T12:36:44.292Z"
   },
   {
    "duration": 21,
    "start_time": "2022-05-26T12:36:44.386Z"
   },
   {
    "duration": 10,
    "start_time": "2022-05-26T12:36:44.409Z"
   },
   {
    "duration": 7,
    "start_time": "2022-05-26T12:36:44.421Z"
   },
   {
    "duration": 8,
    "start_time": "2022-05-26T12:36:44.430Z"
   },
   {
    "duration": 28,
    "start_time": "2022-05-26T12:36:44.439Z"
   },
   {
    "duration": 19,
    "start_time": "2022-05-26T12:36:44.468Z"
   },
   {
    "duration": 9,
    "start_time": "2022-05-26T12:36:44.489Z"
   },
   {
    "duration": 13,
    "start_time": "2022-05-26T12:36:44.499Z"
   },
   {
    "duration": 17,
    "start_time": "2022-05-26T12:36:44.513Z"
   },
   {
    "duration": 297,
    "start_time": "2022-05-26T12:36:44.532Z"
   },
   {
    "duration": 243,
    "start_time": "2022-05-26T12:36:44.831Z"
   },
   {
    "duration": 253,
    "start_time": "2022-05-26T12:36:45.076Z"
   },
   {
    "duration": 361,
    "start_time": "2022-05-26T12:36:45.333Z"
   },
   {
    "duration": 232,
    "start_time": "2022-05-26T12:36:45.696Z"
   },
   {
    "duration": 362,
    "start_time": "2022-05-26T12:36:45.930Z"
   },
   {
    "duration": 13,
    "start_time": "2022-05-26T12:36:46.294Z"
   },
   {
    "duration": 141,
    "start_time": "2022-05-26T12:36:46.309Z"
   },
   {
    "duration": 134,
    "start_time": "2022-05-26T12:36:46.452Z"
   },
   {
    "duration": 5,
    "start_time": "2022-05-26T12:36:46.588Z"
   },
   {
    "duration": 28,
    "start_time": "2022-05-26T12:36:46.594Z"
   },
   {
    "duration": 366,
    "start_time": "2022-05-26T12:36:46.623Z"
   },
   {
    "duration": 166,
    "start_time": "2022-05-26T12:36:46.990Z"
   },
   {
    "duration": 214,
    "start_time": "2022-05-26T12:36:47.159Z"
   },
   {
    "duration": 6,
    "start_time": "2022-05-26T12:36:47.375Z"
   },
   {
    "duration": 234,
    "start_time": "2022-05-26T12:36:47.384Z"
   },
   {
    "duration": 153,
    "start_time": "2022-05-26T12:36:47.619Z"
   },
   {
    "duration": 12,
    "start_time": "2022-05-26T12:36:47.774Z"
   },
   {
    "duration": 13,
    "start_time": "2022-05-26T12:36:47.788Z"
   },
   {
    "duration": 36,
    "start_time": "2022-05-26T12:36:50.712Z"
   },
   {
    "duration": 13,
    "start_time": "2022-05-26T12:37:34.610Z"
   },
   {
    "duration": 9,
    "start_time": "2022-05-26T13:08:56.623Z"
   },
   {
    "duration": 12,
    "start_time": "2022-05-26T13:09:17.399Z"
   },
   {
    "duration": 20,
    "start_time": "2022-05-26T13:09:57.855Z"
   },
   {
    "duration": 10,
    "start_time": "2022-05-26T13:10:17.919Z"
   },
   {
    "duration": 10,
    "start_time": "2022-05-26T13:11:40.417Z"
   },
   {
    "duration": 4,
    "start_time": "2022-05-26T13:13:24.570Z"
   },
   {
    "duration": 87,
    "start_time": "2022-05-26T13:13:24.576Z"
   },
   {
    "duration": 22,
    "start_time": "2022-05-26T13:13:24.664Z"
   },
   {
    "duration": 10,
    "start_time": "2022-05-26T13:13:24.688Z"
   },
   {
    "duration": 11,
    "start_time": "2022-05-26T13:13:24.700Z"
   },
   {
    "duration": 8,
    "start_time": "2022-05-26T13:13:24.713Z"
   },
   {
    "duration": 37,
    "start_time": "2022-05-26T13:13:24.723Z"
   },
   {
    "duration": 14,
    "start_time": "2022-05-26T13:13:24.761Z"
   },
   {
    "duration": 22,
    "start_time": "2022-05-26T13:13:24.777Z"
   },
   {
    "duration": 9,
    "start_time": "2022-05-26T13:13:24.801Z"
   },
   {
    "duration": 13,
    "start_time": "2022-05-26T13:13:24.812Z"
   },
   {
    "duration": 288,
    "start_time": "2022-05-26T13:13:24.827Z"
   },
   {
    "duration": 263,
    "start_time": "2022-05-26T13:13:25.116Z"
   },
   {
    "duration": 240,
    "start_time": "2022-05-26T13:13:25.380Z"
   },
   {
    "duration": 372,
    "start_time": "2022-05-26T13:13:25.623Z"
   },
   {
    "duration": 229,
    "start_time": "2022-05-26T13:13:25.997Z"
   },
   {
    "duration": 385,
    "start_time": "2022-05-26T13:13:26.228Z"
   },
   {
    "duration": 11,
    "start_time": "2022-05-26T13:13:26.615Z"
   },
   {
    "duration": 159,
    "start_time": "2022-05-26T13:13:26.628Z"
   },
   {
    "duration": 133,
    "start_time": "2022-05-26T13:13:26.789Z"
   },
   {
    "duration": 4,
    "start_time": "2022-05-26T13:13:26.924Z"
   },
   {
    "duration": 15,
    "start_time": "2022-05-26T13:13:26.929Z"
   },
   {
    "duration": 424,
    "start_time": "2022-05-26T13:13:26.945Z"
   },
   {
    "duration": 149,
    "start_time": "2022-05-26T13:13:27.371Z"
   },
   {
    "duration": 168,
    "start_time": "2022-05-26T13:13:27.522Z"
   },
   {
    "duration": 5,
    "start_time": "2022-05-26T13:13:27.692Z"
   },
   {
    "duration": 227,
    "start_time": "2022-05-26T13:13:27.698Z"
   },
   {
    "duration": 175,
    "start_time": "2022-05-26T13:13:27.928Z"
   },
   {
    "duration": 12,
    "start_time": "2022-05-26T13:13:28.105Z"
   },
   {
    "duration": 13,
    "start_time": "2022-05-26T13:13:28.119Z"
   },
   {
    "duration": 49,
    "start_time": "2022-05-26T13:13:28.134Z"
   },
   {
    "duration": 13,
    "start_time": "2022-05-26T13:13:28.185Z"
   },
   {
    "duration": 177,
    "start_time": "2022-05-26T13:14:11.289Z"
   },
   {
    "duration": 10,
    "start_time": "2022-05-26T13:14:46.165Z"
   },
   {
    "duration": 31,
    "start_time": "2022-05-26T13:15:05.603Z"
   },
   {
    "duration": 13,
    "start_time": "2022-05-26T13:15:18.299Z"
   },
   {
    "duration": 1440,
    "start_time": "2022-05-26T14:14:37.883Z"
   },
   {
    "duration": 216,
    "start_time": "2022-05-26T14:14:39.325Z"
   },
   {
    "duration": 26,
    "start_time": "2022-05-26T14:14:39.543Z"
   },
   {
    "duration": 13,
    "start_time": "2022-05-26T14:14:39.572Z"
   },
   {
    "duration": 7,
    "start_time": "2022-05-26T14:14:39.586Z"
   },
   {
    "duration": 20,
    "start_time": "2022-05-26T14:14:39.597Z"
   },
   {
    "duration": 17,
    "start_time": "2022-05-26T14:14:39.620Z"
   },
   {
    "duration": 33,
    "start_time": "2022-05-26T14:14:39.639Z"
   },
   {
    "duration": 7,
    "start_time": "2022-05-26T14:14:39.676Z"
   },
   {
    "duration": 15,
    "start_time": "2022-05-26T14:14:39.687Z"
   },
   {
    "duration": 15,
    "start_time": "2022-05-26T14:14:39.703Z"
   },
   {
    "duration": 363,
    "start_time": "2022-05-26T14:14:39.720Z"
   },
   {
    "duration": 415,
    "start_time": "2022-05-26T14:14:40.086Z"
   },
   {
    "duration": 342,
    "start_time": "2022-05-26T14:14:40.503Z"
   },
   {
    "duration": 448,
    "start_time": "2022-05-26T14:14:40.847Z"
   },
   {
    "duration": 259,
    "start_time": "2022-05-26T14:14:41.297Z"
   },
   {
    "duration": 392,
    "start_time": "2022-05-26T14:14:41.557Z"
   },
   {
    "duration": 27,
    "start_time": "2022-05-26T14:14:41.951Z"
   },
   {
    "duration": 176,
    "start_time": "2022-05-26T14:14:41.981Z"
   },
   {
    "duration": 157,
    "start_time": "2022-05-26T14:14:42.158Z"
   },
   {
    "duration": 5,
    "start_time": "2022-05-26T14:14:42.317Z"
   },
   {
    "duration": 29,
    "start_time": "2022-05-26T14:14:42.323Z"
   },
   {
    "duration": 297,
    "start_time": "2022-05-26T14:14:42.354Z"
   },
   {
    "duration": 190,
    "start_time": "2022-05-26T14:14:42.652Z"
   },
   {
    "duration": 205,
    "start_time": "2022-05-26T14:14:42.844Z"
   },
   {
    "duration": 21,
    "start_time": "2022-05-26T14:14:43.051Z"
   },
   {
    "duration": 270,
    "start_time": "2022-05-26T14:14:43.074Z"
   },
   {
    "duration": 199,
    "start_time": "2022-05-26T14:14:43.348Z"
   },
   {
    "duration": 23,
    "start_time": "2022-05-26T14:14:43.549Z"
   },
   {
    "duration": 17,
    "start_time": "2022-05-26T14:14:43.575Z"
   },
   {
    "duration": 43,
    "start_time": "2022-05-26T14:14:43.594Z"
   },
   {
    "duration": 45,
    "start_time": "2022-05-26T14:14:43.639Z"
   }
  ],
  "kernelspec": {
   "display_name": "Python 3 (ipykernel)",
   "language": "python",
   "name": "python3"
  },
  "language_info": {
   "codemirror_mode": {
    "name": "ipython",
    "version": 3
   },
   "file_extension": ".py",
   "mimetype": "text/x-python",
   "name": "python",
   "nbconvert_exporter": "python",
   "pygments_lexer": "ipython3",
   "version": "3.9.7"
  },
  "toc": {
   "base_numbering": 1,
   "nav_menu": {},
   "number_sections": true,
   "sideBar": true,
   "skip_h1_title": true,
   "title_cell": "Table of Contents",
   "title_sidebar": "Contents",
   "toc_cell": false,
   "toc_position": {
    "height": "calc(100% - 180px)",
    "left": "10px",
    "top": "150px",
    "width": "244.387px"
   },
   "toc_section_display": true,
   "toc_window_display": true
  }
 },
 "nbformat": 4,
 "nbformat_minor": 2
}
