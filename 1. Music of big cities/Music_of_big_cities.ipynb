{
 "cells": [
  {
   "cell_type": "markdown",
   "metadata": {
    "id": "E0vqbgi9ay0H"
   },
   "source": [
    "# Music of big cities"
   ]
  },
  {
   "cell_type": "markdown",
   "metadata": {
    "id": "VUC88oWjTJw2"
   },
   "source": [
    "Based on Yandex.Music data, we will compare the behavior of users in the two capitals.\n",
    "\n",
    "**Purpose of the study** — test three hypotheses:\n",
    "1. User activity depends on the day of the week. Moreover, in Moscow and St. Petersburg, this manifests itself in different ways.\n",
    "2. On Monday morning, certain genres dominate in Moscow, while others dominate in St. Petersburg. Similarly, Friday nights are dominated by different genres, depending on the city. \n",
    "3. Moscow and St. Petersburg prefer different genres of music. In Moscow, they listen to pop music more often, in St. Petersburg - russian rap.\n",
    "\n",
    "**Research progress**\n",
    "\n",
    "We will get data on user behavior from a file `yandex_music_project.csv`. Nothing is known about the quality of the data."
   ]
  },
  {
   "cell_type": "markdown",
   "metadata": {
    "id": "Ml1hmfXC_Zcs"
   },
   "source": [
    "## Data overview\n",
    "\n",
    "Importing the required library."
   ]
  },
  {
   "cell_type": "code",
   "execution_count": 1,
   "metadata": {
    "id": "AXN7PHPN_Zcs"
   },
   "outputs": [],
   "source": [
    "import pandas as pd # pandas library import"
   ]
  },
  {
   "cell_type": "markdown",
   "metadata": {
    "id": "SG23P8tt_Zcs"
   },
   "source": [
    "Read the file `yandex_music_project.csv` and save it in a variable:"
   ]
  },
  {
   "cell_type": "code",
   "execution_count": 2,
   "metadata": {
    "id": "fFVu7vqh_Zct"
   },
   "outputs": [],
   "source": [
    "df = pd.read_csv('/datasets/yandex_music_project.csv') # reading data file and saving to df"
   ]
  },
  {
   "cell_type": "markdown",
   "metadata": {
    "id": "rDoOMd3uTqnZ"
   },
   "source": [
    "Display the first ten rows of the table:"
   ]
  },
  {
   "cell_type": "code",
   "execution_count": 3,
   "metadata": {
    "id": "oWTVX3gW_Zct"
   },
   "outputs": [
    {
     "data": {
      "text/html": [
       "<div>\n",
       "<style scoped>\n",
       "    .dataframe tbody tr th:only-of-type {\n",
       "        vertical-align: middle;\n",
       "    }\n",
       "\n",
       "    .dataframe tbody tr th {\n",
       "        vertical-align: top;\n",
       "    }\n",
       "\n",
       "    .dataframe thead th {\n",
       "        text-align: right;\n",
       "    }\n",
       "</style>\n",
       "<table border=\"1\" class=\"dataframe\">\n",
       "  <thead>\n",
       "    <tr style=\"text-align: right;\">\n",
       "      <th></th>\n",
       "      <th>userID</th>\n",
       "      <th>Track</th>\n",
       "      <th>artist</th>\n",
       "      <th>genre</th>\n",
       "      <th>City</th>\n",
       "      <th>time</th>\n",
       "      <th>Day</th>\n",
       "    </tr>\n",
       "  </thead>\n",
       "  <tbody>\n",
       "    <tr>\n",
       "      <td>0</td>\n",
       "      <td>FFB692EC</td>\n",
       "      <td>Kamigata To Boots</td>\n",
       "      <td>The Mass Missile</td>\n",
       "      <td>rock</td>\n",
       "      <td>Saint-Petersburg</td>\n",
       "      <td>20:28:33</td>\n",
       "      <td>Wednesday</td>\n",
       "    </tr>\n",
       "    <tr>\n",
       "      <td>1</td>\n",
       "      <td>55204538</td>\n",
       "      <td>Delayed Because of Accident</td>\n",
       "      <td>Andreas Rönnberg</td>\n",
       "      <td>rock</td>\n",
       "      <td>Moscow</td>\n",
       "      <td>14:07:09</td>\n",
       "      <td>Friday</td>\n",
       "    </tr>\n",
       "    <tr>\n",
       "      <td>2</td>\n",
       "      <td>20EC38</td>\n",
       "      <td>Funiculì funiculà</td>\n",
       "      <td>Mario Lanza</td>\n",
       "      <td>pop</td>\n",
       "      <td>Saint-Petersburg</td>\n",
       "      <td>20:58:07</td>\n",
       "      <td>Wednesday</td>\n",
       "    </tr>\n",
       "    <tr>\n",
       "      <td>3</td>\n",
       "      <td>A3DD03C9</td>\n",
       "      <td>Dragons in the Sunset</td>\n",
       "      <td>Fire + Ice</td>\n",
       "      <td>folk</td>\n",
       "      <td>Saint-Petersburg</td>\n",
       "      <td>08:37:09</td>\n",
       "      <td>Monday</td>\n",
       "    </tr>\n",
       "    <tr>\n",
       "      <td>4</td>\n",
       "      <td>E2DC1FAE</td>\n",
       "      <td>Soul People</td>\n",
       "      <td>Space Echo</td>\n",
       "      <td>dance</td>\n",
       "      <td>Moscow</td>\n",
       "      <td>08:34:34</td>\n",
       "      <td>Monday</td>\n",
       "    </tr>\n",
       "    <tr>\n",
       "      <td>5</td>\n",
       "      <td>842029A1</td>\n",
       "      <td>Преданная</td>\n",
       "      <td>IMPERVTOR</td>\n",
       "      <td>rusrap</td>\n",
       "      <td>Saint-Petersburg</td>\n",
       "      <td>13:09:41</td>\n",
       "      <td>Friday</td>\n",
       "    </tr>\n",
       "    <tr>\n",
       "      <td>6</td>\n",
       "      <td>4CB90AA5</td>\n",
       "      <td>True</td>\n",
       "      <td>Roman Messer</td>\n",
       "      <td>dance</td>\n",
       "      <td>Moscow</td>\n",
       "      <td>13:00:07</td>\n",
       "      <td>Wednesday</td>\n",
       "    </tr>\n",
       "    <tr>\n",
       "      <td>7</td>\n",
       "      <td>F03E1C1F</td>\n",
       "      <td>Feeling This Way</td>\n",
       "      <td>Polina Griffith</td>\n",
       "      <td>dance</td>\n",
       "      <td>Moscow</td>\n",
       "      <td>20:47:49</td>\n",
       "      <td>Wednesday</td>\n",
       "    </tr>\n",
       "    <tr>\n",
       "      <td>8</td>\n",
       "      <td>8FA1D3BE</td>\n",
       "      <td>И вновь продолжается бой</td>\n",
       "      <td>NaN</td>\n",
       "      <td>ruspop</td>\n",
       "      <td>Moscow</td>\n",
       "      <td>09:17:40</td>\n",
       "      <td>Friday</td>\n",
       "    </tr>\n",
       "    <tr>\n",
       "      <td>9</td>\n",
       "      <td>E772D5C0</td>\n",
       "      <td>Pessimist</td>\n",
       "      <td>NaN</td>\n",
       "      <td>dance</td>\n",
       "      <td>Saint-Petersburg</td>\n",
       "      <td>21:20:49</td>\n",
       "      <td>Wednesday</td>\n",
       "    </tr>\n",
       "  </tbody>\n",
       "</table>\n",
       "</div>"
      ],
      "text/plain": [
       "     userID                        Track            artist   genre  \\\n",
       "0  FFB692EC            Kamigata To Boots  The Mass Missile    rock   \n",
       "1  55204538  Delayed Because of Accident  Andreas Rönnberg    rock   \n",
       "2    20EC38            Funiculì funiculà       Mario Lanza     pop   \n",
       "3  A3DD03C9        Dragons in the Sunset        Fire + Ice    folk   \n",
       "4  E2DC1FAE                  Soul People        Space Echo   dance   \n",
       "5  842029A1                    Преданная         IMPERVTOR  rusrap   \n",
       "6  4CB90AA5                         True      Roman Messer   dance   \n",
       "7  F03E1C1F             Feeling This Way   Polina Griffith   dance   \n",
       "8  8FA1D3BE     И вновь продолжается бой               NaN  ruspop   \n",
       "9  E772D5C0                    Pessimist               NaN   dance   \n",
       "\n",
       "             City        time        Day  \n",
       "0  Saint-Petersburg  20:28:33  Wednesday  \n",
       "1            Moscow  14:07:09     Friday  \n",
       "2  Saint-Petersburg  20:58:07  Wednesday  \n",
       "3  Saint-Petersburg  08:37:09     Monday  \n",
       "4            Moscow  08:34:34     Monday  \n",
       "5  Saint-Petersburg  13:09:41     Friday  \n",
       "6            Moscow  13:00:07  Wednesday  \n",
       "7            Moscow  20:47:49  Wednesday  \n",
       "8            Moscow  09:17:40     Friday  \n",
       "9  Saint-Petersburg  21:20:49  Wednesday  "
      ]
     },
     "execution_count": 3,
     "metadata": {},
     "output_type": "execute_result"
    }
   ],
   "source": [
    "df.head(10) # getting first 10 rows of df table"
   ]
  },
  {
   "cell_type": "markdown",
   "metadata": {},
   "source": [
    "Display the last five rows of the table:"
   ]
  },
  {
   "cell_type": "code",
   "execution_count": 4,
   "metadata": {},
   "outputs": [
    {
     "data": {
      "text/html": [
       "<div>\n",
       "<style scoped>\n",
       "    .dataframe tbody tr th:only-of-type {\n",
       "        vertical-align: middle;\n",
       "    }\n",
       "\n",
       "    .dataframe tbody tr th {\n",
       "        vertical-align: top;\n",
       "    }\n",
       "\n",
       "    .dataframe thead th {\n",
       "        text-align: right;\n",
       "    }\n",
       "</style>\n",
       "<table border=\"1\" class=\"dataframe\">\n",
       "  <thead>\n",
       "    <tr style=\"text-align: right;\">\n",
       "      <th></th>\n",
       "      <th>userID</th>\n",
       "      <th>Track</th>\n",
       "      <th>artist</th>\n",
       "      <th>genre</th>\n",
       "      <th>City</th>\n",
       "      <th>time</th>\n",
       "      <th>Day</th>\n",
       "    </tr>\n",
       "  </thead>\n",
       "  <tbody>\n",
       "    <tr>\n",
       "      <td>65074</td>\n",
       "      <td>729CBB09</td>\n",
       "      <td>My Name</td>\n",
       "      <td>McLean</td>\n",
       "      <td>rnb</td>\n",
       "      <td>Moscow</td>\n",
       "      <td>13:32:28</td>\n",
       "      <td>Wednesday</td>\n",
       "    </tr>\n",
       "    <tr>\n",
       "      <td>65075</td>\n",
       "      <td>D08D4A55</td>\n",
       "      <td>Maybe One Day (feat. Black Spade)</td>\n",
       "      <td>Blu &amp; Exile</td>\n",
       "      <td>hip</td>\n",
       "      <td>Saint-Petersburg</td>\n",
       "      <td>10:00:00</td>\n",
       "      <td>Monday</td>\n",
       "    </tr>\n",
       "    <tr>\n",
       "      <td>65076</td>\n",
       "      <td>C5E3A0D5</td>\n",
       "      <td>Jalopiina</td>\n",
       "      <td>NaN</td>\n",
       "      <td>industrial</td>\n",
       "      <td>Moscow</td>\n",
       "      <td>20:09:26</td>\n",
       "      <td>Friday</td>\n",
       "    </tr>\n",
       "    <tr>\n",
       "      <td>65077</td>\n",
       "      <td>321D0506</td>\n",
       "      <td>Freight Train</td>\n",
       "      <td>Chas McDevitt</td>\n",
       "      <td>rock</td>\n",
       "      <td>Moscow</td>\n",
       "      <td>21:43:59</td>\n",
       "      <td>Friday</td>\n",
       "    </tr>\n",
       "    <tr>\n",
       "      <td>65078</td>\n",
       "      <td>3A64EF84</td>\n",
       "      <td>Tell Me Sweet Little Lies</td>\n",
       "      <td>Monica Lopez</td>\n",
       "      <td>country</td>\n",
       "      <td>Moscow</td>\n",
       "      <td>21:59:46</td>\n",
       "      <td>Friday</td>\n",
       "    </tr>\n",
       "  </tbody>\n",
       "</table>\n",
       "</div>"
      ],
      "text/plain": [
       "         userID                              Track         artist       genre  \\\n",
       "65074  729CBB09                            My Name         McLean         rnb   \n",
       "65075  D08D4A55  Maybe One Day (feat. Black Spade)    Blu & Exile         hip   \n",
       "65076  C5E3A0D5                          Jalopiina            NaN  industrial   \n",
       "65077  321D0506                      Freight Train  Chas McDevitt        rock   \n",
       "65078  3A64EF84          Tell Me Sweet Little Lies   Monica Lopez     country   \n",
       "\n",
       "                 City        time        Day  \n",
       "65074            Moscow  13:32:28  Wednesday  \n",
       "65075  Saint-Petersburg  10:00:00     Monday  \n",
       "65076            Moscow  20:09:26     Friday  \n",
       "65077            Moscow  21:43:59     Friday  \n",
       "65078            Moscow  21:59:46     Friday  "
      ]
     },
     "execution_count": 4,
     "metadata": {},
     "output_type": "execute_result"
    }
   ],
   "source": [
    "df.tail(5) # display last 5 rows of df table"
   ]
  },
  {
   "cell_type": "markdown",
   "metadata": {
    "id": "EO73Kwic_Zct"
   },
   "source": [
    "Get general information about the table with one command:"
   ]
  },
  {
   "cell_type": "code",
   "execution_count": 5,
   "metadata": {
    "id": "DSf2kIb-_Zct"
   },
   "outputs": [
    {
     "name": "stdout",
     "output_type": "stream",
     "text": [
      "<class 'pandas.core.frame.DataFrame'>\n",
      "RangeIndex: 65079 entries, 0 to 65078\n",
      "Data columns (total 7 columns):\n",
      "  userID    65079 non-null object\n",
      "Track       63848 non-null object\n",
      "artist      57876 non-null object\n",
      "genre       63881 non-null object\n",
      "  City      65079 non-null object\n",
      "time        65079 non-null object\n",
      "Day         65079 non-null object\n",
      "dtypes: object(7)\n",
      "memory usage: 3.5+ MB\n"
     ]
    }
   ],
   "source": [
    "df.info() # getting general information about data in df table"
   ]
  },
  {
   "cell_type": "markdown",
   "metadata": {
    "id": "TaQ2Iwbr_Zct"
   },
   "source": [
    "So the table has seven columns. The data type in all columns is `object`.\n",
    "\n",
    "According to the data documentation:\n",
    "* `userID` - user ID;\n",
    "* `Track` — track name;\n",
    "* `artist` — artist name;\n",
    "* `genre` — genre name;\n",
    "* `City` - user's city;\n",
    "* `time` - start time of listening;\n",
    "* `Day` is the day of the week.\n",
    "\n",
    "There are three style violations in the column headings:\n",
    "1. Lowercase letters are combined with uppercase.\n",
    "2. There are gaps.\n",
    "3. The words are written together, without using the \"snake register\".\n",
    "\n",
    "\n",
    "\n",
    "The number of values in the columns varies. This means there are missing values in the data."
   ]
  },
  {
   "cell_type": "markdown",
   "metadata": {
    "id": "MCB6-dXG_Zct"
   },
   "source": [
    "**Conclusions**\n",
    "\n",
    "Each line of the table contains data about the track you have listened to. Some of the columns describe the composition itself: title, artist and genre. The rest of the data tells about the user: what city he is from, when he listened to music.\n",
    "\n",
    "Preliminarily, it can be argued that there is enough data to test hypotheses. But there are gaps in the data, and discrepancies in the names of the columns with good style.\n",
    "\n",
    "To move forward, you need to fix problems in the data."
   ]
  },
  {
   "cell_type": "markdown",
   "metadata": {
    "id": "SjYF6Ub9_Zct"
   },
   "source": [
    "## Data preprocessing\n",
    "Let's fix the style in the column headings, eliminate gaps. Then we check the data for duplicates."
   ]
  },
  {
   "cell_type": "markdown",
   "metadata": {
    "id": "dIaKXr29_Zct"
   },
   "source": [
    "### Heading style\n",
    "Displaying the column names:"
   ]
  },
  {
   "cell_type": "code",
   "execution_count": 6,
   "metadata": {
    "id": "oKOTdF_Q_Zct"
   },
   "outputs": [
    {
     "data": {
      "text/plain": [
       "Index(['  userID', 'Track', 'artist', 'genre', '  City  ', 'time', 'Day'], dtype='object')"
      ]
     },
     "execution_count": 6,
     "metadata": {},
     "output_type": "execute_result"
    }
   ],
   "source": [
    "df.columns # list of column names of table df"
   ]
  },
  {
   "cell_type": "markdown",
   "metadata": {
    "id": "zj5534cv_Zct"
   },
   "source": [
    "Let's bring the names in line with good style:\n",
    "* write a few words in the title in the “snake_register”,\n",
    "* make all characters lowercase,\n",
    "* eliminate spaces."
   ]
  },
  {
   "cell_type": "code",
   "execution_count": 7,
   "metadata": {
    "id": "ISlFqs5y_Zct"
   },
   "outputs": [],
   "source": [
    "df = df.rename(columns={'  userID': 'user_id', 'Track': 'track', '  City  ': 'city', 'Day': 'day'}) # renaming columns"
   ]
  },
  {
   "cell_type": "markdown",
   "metadata": {
    "id": "1dqbh00J_Zct"
   },
   "source": [
    "Let's check the result."
   ]
  },
  {
   "cell_type": "code",
   "execution_count": 8,
   "metadata": {
    "id": "d4NOAmTW_Zct"
   },
   "outputs": [
    {
     "data": {
      "text/plain": [
       "Index(['user_id', 'track', 'artist', 'genre', 'city', 'time', 'day'], dtype='object')"
      ]
     },
     "execution_count": 8,
     "metadata": {},
     "output_type": "execute_result"
    }
   ],
   "source": [
    "df.columns # check results - list column names"
   ]
  },
  {
   "cell_type": "markdown",
   "metadata": {
    "id": "5ISfbcfY_Zct"
   },
   "source": [
    "### Missing values\n",
    "First, let's calculate how many missing values are in the table:"
   ]
  },
  {
   "cell_type": "code",
   "execution_count": 9,
   "metadata": {
    "id": "RskX29qr_Zct"
   },
   "outputs": [
    {
     "data": {
      "text/plain": [
       "user_id       0\n",
       "track      1231\n",
       "artist     7203\n",
       "genre      1198\n",
       "city          0\n",
       "time          0\n",
       "day           0\n",
       "dtype: int64"
      ]
     },
     "execution_count": 9,
     "metadata": {},
     "output_type": "execute_result"
    }
   ],
   "source": [
    "df.isna().sum() # skip count"
   ]
  },
  {
   "cell_type": "markdown",
   "metadata": {
    "id": "qubhgnlO_Zct"
   },
   "source": [
    "Not all missing values affect the study. So in `track` and `artist` the gaps are not important for your work. It suffices to replace them with explicit notation.\n",
    "\n",
    "But omissions in `genre` can interfere with the comparison of musical tastes in Moscow and St. Petersburg. In practice, it would be correct to determine the cause of the gaps and restore the data. This option is not available in the curriculum. Have to:\n",
    "* fill in these gaps with explicit notation,\n",
    "* estimate how much they will damage the calculations. "
   ]
  },
  {
   "cell_type": "markdown",
   "metadata": {
    "id": "fSv2laPA_Zct"
   },
   "source": [
    "Let's replace the missing values in the `track`, `artist` and `genre` columns with the string `'unknown'`. To do this, create a `columns_to_replace` list, loop through its elements with a `for` loop, and for each column, replace the missing values:"
   ]
  },
  {
   "cell_type": "code",
   "execution_count": 10,
   "metadata": {
    "id": "KplB5qWs_Zct"
   },
   "outputs": [],
   "source": [
    "columns_to_replace = ['track', 'artist', 'genre']\n",
    "for column in columns_to_replace:\n",
    "    df[column] = df[column].fillna('unknown') # loop through column names and replace missing values with 'unknown'"
   ]
  },
  {
   "cell_type": "markdown",
   "metadata": {
    "id": "Ilsm-MZo_Zct"
   },
   "source": [
    "Make sure there are no gaps in the table. To do this, once again calculate the missing values."
   ]
  },
  {
   "cell_type": "code",
   "execution_count": 11,
   "metadata": {
    "id": "Tq4nYRX4_Zct"
   },
   "outputs": [
    {
     "data": {
      "text/plain": [
       "user_id    0\n",
       "track      0\n",
       "artist     0\n",
       "genre      0\n",
       "city       0\n",
       "time       0\n",
       "day        0\n",
       "dtype: int64"
      ]
     },
     "execution_count": 11,
     "metadata": {},
     "output_type": "execute_result"
    }
   ],
   "source": [
    "df.isna().sum() # skip count"
   ]
  },
  {
   "cell_type": "markdown",
   "metadata": {
    "id": "BWKRtBJ3_Zct"
   },
   "source": [
    "### Duplicates\n",
    "Counting explicit duplicates in a table:"
   ]
  },
  {
   "cell_type": "code",
   "execution_count": 12,
   "metadata": {
    "id": "36eES_S0_Zct"
   },
   "outputs": [
    {
     "data": {
      "text/plain": [
       "3826"
      ]
     },
     "execution_count": 12,
     "metadata": {},
     "output_type": "execute_result"
    }
   ],
   "source": [
    "df.duplicated().sum() # counting of explicit duplicates"
   ]
  },
  {
   "cell_type": "markdown",
   "metadata": {
    "id": "Ot25h6XR_Zct"
   },
   "source": [
    "Remove of explicit duplicates:"
   ]
  },
  {
   "cell_type": "code",
   "execution_count": 13,
   "metadata": {
    "id": "exFHq6tt_Zct"
   },
   "outputs": [],
   "source": [
    "df = df.drop_duplicates().reset_index(drop=True) # removal of explicit duplicates \n",
    "# (with the removal of old indexes and the formation of new ones)"
   ]
  },
  {
   "cell_type": "markdown",
   "metadata": {
    "id": "Im2YwBEG_Zct"
   },
   "source": [
    "Once again, we will count the explicit duplicates in the table - make sure that we completely get rid of them:"
   ]
  },
  {
   "cell_type": "code",
   "execution_count": 14,
   "metadata": {
    "id": "-8PuNWQ0_Zct"
   },
   "outputs": [
    {
     "data": {
      "text/plain": [
       "0"
      ]
     },
     "execution_count": 14,
     "metadata": {},
     "output_type": "execute_result"
    }
   ],
   "source": [
    "df.duplicated().sum() # check for duplicates"
   ]
  },
  {
   "cell_type": "markdown",
   "metadata": {
    "id": "QlFBsxAr_Zct"
   },
   "source": [
    "Now let's get rid of the implicit duplicates in the `genre` column. For example, the name of the same genre can be spelled slightly differently. Such errors will also affect the result of the study."
   ]
  },
  {
   "cell_type": "markdown",
   "metadata": {
    "id": "eSjWwsOh_Zct"
   },
   "source": [
    "Let's display a list of unique genre names, sorted alphabetically. For this:\n",
    "* extract the desired dataframe column,\n",
    "* apply sorting method to it,\n",
    "* for a sorted column, call a method that will return unique values from the column."
   ]
  },
  {
   "cell_type": "code",
   "execution_count": 15,
   "metadata": {
    "id": "JIUcqzZN_Zct"
   },
   "outputs": [
    {
     "data": {
      "text/plain": [
       "array(['acid', 'acoustic', 'action', 'adult', 'africa', 'afrikaans',\n",
       "       'alternative', 'alternativepunk', 'ambient', 'americana',\n",
       "       'animated', 'anime', 'arabesk', 'arabic', 'arena',\n",
       "       'argentinetango', 'art', 'audiobook', 'author', 'avantgarde',\n",
       "       'axé', 'baile', 'balkan', 'beats', 'bigroom', 'black', 'bluegrass',\n",
       "       'blues', 'bollywood', 'bossa', 'brazilian', 'breakbeat', 'breaks',\n",
       "       'broadway', 'cantautori', 'cantopop', 'canzone', 'caribbean',\n",
       "       'caucasian', 'celtic', 'chamber', 'chanson', 'children', 'chill',\n",
       "       'chinese', 'choral', 'christian', 'christmas', 'classical',\n",
       "       'classicmetal', 'club', 'colombian', 'comedy', 'conjazz',\n",
       "       'contemporary', 'country', 'cuban', 'dance', 'dancehall',\n",
       "       'dancepop', 'dark', 'death', 'deep', 'deutschrock', 'deutschspr',\n",
       "       'dirty', 'disco', 'dnb', 'documentary', 'downbeat', 'downtempo',\n",
       "       'drum', 'dub', 'dubstep', 'eastern', 'easy', 'electronic',\n",
       "       'electropop', 'emo', 'entehno', 'epicmetal', 'estrada', 'ethnic',\n",
       "       'eurofolk', 'european', 'experimental', 'extrememetal', 'fado',\n",
       "       'fairytail', 'film', 'fitness', 'flamenco', 'folk', 'folklore',\n",
       "       'folkmetal', 'folkrock', 'folktronica', 'forró', 'frankreich',\n",
       "       'französisch', 'french', 'funk', 'future', 'gangsta', 'garage',\n",
       "       'german', 'ghazal', 'gitarre', 'glitch', 'gospel', 'gothic',\n",
       "       'grime', 'grunge', 'gypsy', 'handsup', \"hard'n'heavy\", 'hardcore',\n",
       "       'hardstyle', 'hardtechno', 'hip', 'hip-hop', 'hiphop',\n",
       "       'historisch', 'holiday', 'hop', 'horror', 'house', 'hymn', 'idm',\n",
       "       'independent', 'indian', 'indie', 'indipop', 'industrial',\n",
       "       'inspirational', 'instrumental', 'international', 'irish', 'jam',\n",
       "       'japanese', 'jazz', 'jewish', 'jpop', 'jungle', 'k-pop',\n",
       "       'karadeniz', 'karaoke', 'kayokyoku', 'korean', 'laiko', 'latin',\n",
       "       'latino', 'leftfield', 'local', 'lounge', 'loungeelectronic',\n",
       "       'lovers', 'malaysian', 'mandopop', 'marschmusik', 'meditative',\n",
       "       'mediterranean', 'melodic', 'metal', 'metalcore', 'mexican',\n",
       "       'middle', 'minimal', 'miscellaneous', 'modern', 'mood', 'mpb',\n",
       "       'muslim', 'native', 'neoklassik', 'neue', 'new', 'newage',\n",
       "       'newwave', 'nu', 'nujazz', 'numetal', 'oceania', 'old', 'opera',\n",
       "       'orchestral', 'other', 'piano', 'podcasts', 'pop', 'popdance',\n",
       "       'popelectronic', 'popeurodance', 'poprussian', 'post',\n",
       "       'posthardcore', 'postrock', 'power', 'progmetal', 'progressive',\n",
       "       'psychedelic', 'punjabi', 'punk', 'quebecois', 'ragga', 'ram',\n",
       "       'rancheras', 'rap', 'rave', 'reggae', 'reggaeton', 'regional',\n",
       "       'relax', 'religious', 'retro', 'rhythm', 'rnb', 'rnr', 'rock',\n",
       "       'rockabilly', 'rockalternative', 'rockindie', 'rockother',\n",
       "       'romance', 'roots', 'ruspop', 'rusrap', 'rusrock', 'russian',\n",
       "       'salsa', 'samba', 'scenic', 'schlager', 'self', 'sertanejo',\n",
       "       'shanson', 'shoegazing', 'showtunes', 'singer', 'ska', 'skarock',\n",
       "       'slow', 'smooth', 'soft', 'soul', 'soulful', 'sound', 'soundtrack',\n",
       "       'southern', 'specialty', 'speech', 'spiritual', 'sport',\n",
       "       'stonerrock', 'surf', 'swing', 'synthpop', 'synthrock',\n",
       "       'sängerportrait', 'tango', 'tanzorchester', 'taraftar', 'tatar',\n",
       "       'tech', 'techno', 'teen', 'thrash', 'top', 'traditional',\n",
       "       'tradjazz', 'trance', 'tribal', 'trip', 'triphop', 'tropical',\n",
       "       'türk', 'türkçe', 'ukrrock', 'unknown', 'urban', 'uzbek',\n",
       "       'variété', 'vi', 'videogame', 'vocal', 'western', 'world',\n",
       "       'worldbeat', 'ïîï', 'электроника'], dtype=object)"
      ]
     },
     "execution_count": 15,
     "metadata": {},
     "output_type": "execute_result"
    }
   ],
   "source": [
    "df['genre'].sort_values().unique() # view unique genre names"
   ]
  },
  {
   "cell_type": "markdown",
   "metadata": {
    "id": "qej-Qmuo_Zct"
   },
   "source": [
    "Let's go through the list and find the implicit duplicates of the name `hiphop`. These may be misspelled titles or alternative titles in the same genre.\n",
    "\n",
    "We saw the following implicit duplicates:\n",
    "**hip*,\n",
    "**hop*,\n",
    "**hip-hop*.\n",
    "\n",
    "To clear the table of them, write the `replace_wrong_genres()` function with two parameters:\n",
    "* `wrong_genres` - list of duplicates,\n",
    "* `correct_genre` is a string with the correct value.\n",
    "\n",
    "The function should correct the `genre` column in the `df` table: replace each value from the `wrong_genres` list with a value from `correct_genre`."
   ]
  },
  {
   "cell_type": "code",
   "execution_count": 16,
   "metadata": {
    "id": "ErNDkmns_Zct"
   },
   "outputs": [],
   "source": [
    "def replace_wrong_genres(wrong_genres, correct_genre):\n",
    "    for wrong_genre in wrong_genres:\n",
    "        df['genre'] = df['genre'].replace(wrong_genre, correct_genre) # function to replace implicit duplicates"
   ]
  },
  {
   "cell_type": "markdown",
   "metadata": {
    "id": "aDoBJxbA_Zct"
   },
   "source": [
    "Let's call `replace_wrong_genres()` and pass it arguments such that it eliminates implicit duplicates: instead of `hip`, `hop` and `hip-hop`, the value in the table should be `hiphop`:"
   ]
  },
  {
   "cell_type": "code",
   "execution_count": 17,
   "metadata": {
    "id": "YN5i2hpmSo09"
   },
   "outputs": [],
   "source": [
    "duplicates = ['hip', 'hop', 'hip-hop']\n",
    "genre = 'hiphop'\n",
    "replace_wrong_genres(duplicates, genre) # eliminate implicit duplicates"
   ]
  },
  {
   "cell_type": "markdown",
   "metadata": {
    "id": "zQKF16_RG15m"
   },
   "source": [
    "Let's check that we have replaced the wrong names:\n",
    "\n",
    "* hip\n",
    "* hop\n",
    "* hip-hop\n",
    "\n",
    "Output a sorted list of unique values in the `genre` column:"
   ]
  },
  {
   "cell_type": "code",
   "execution_count": 18,
   "metadata": {
    "id": "wvixALnFG15m"
   },
   "outputs": [
    {
     "data": {
      "text/plain": [
       "array(['acid', 'acoustic', 'action', 'adult', 'africa', 'afrikaans',\n",
       "       'alternative', 'alternativepunk', 'ambient', 'americana',\n",
       "       'animated', 'anime', 'arabesk', 'arabic', 'arena',\n",
       "       'argentinetango', 'art', 'audiobook', 'author', 'avantgarde',\n",
       "       'axé', 'baile', 'balkan', 'beats', 'bigroom', 'black', 'bluegrass',\n",
       "       'blues', 'bollywood', 'bossa', 'brazilian', 'breakbeat', 'breaks',\n",
       "       'broadway', 'cantautori', 'cantopop', 'canzone', 'caribbean',\n",
       "       'caucasian', 'celtic', 'chamber', 'chanson', 'children', 'chill',\n",
       "       'chinese', 'choral', 'christian', 'christmas', 'classical',\n",
       "       'classicmetal', 'club', 'colombian', 'comedy', 'conjazz',\n",
       "       'contemporary', 'country', 'cuban', 'dance', 'dancehall',\n",
       "       'dancepop', 'dark', 'death', 'deep', 'deutschrock', 'deutschspr',\n",
       "       'dirty', 'disco', 'dnb', 'documentary', 'downbeat', 'downtempo',\n",
       "       'drum', 'dub', 'dubstep', 'eastern', 'easy', 'electronic',\n",
       "       'electropop', 'emo', 'entehno', 'epicmetal', 'estrada', 'ethnic',\n",
       "       'eurofolk', 'european', 'experimental', 'extrememetal', 'fado',\n",
       "       'fairytail', 'film', 'fitness', 'flamenco', 'folk', 'folklore',\n",
       "       'folkmetal', 'folkrock', 'folktronica', 'forró', 'frankreich',\n",
       "       'französisch', 'french', 'funk', 'future', 'gangsta', 'garage',\n",
       "       'german', 'ghazal', 'gitarre', 'glitch', 'gospel', 'gothic',\n",
       "       'grime', 'grunge', 'gypsy', 'handsup', \"hard'n'heavy\", 'hardcore',\n",
       "       'hardstyle', 'hardtechno', 'hiphop', 'historisch', 'holiday',\n",
       "       'horror', 'house', 'hymn', 'idm', 'independent', 'indian', 'indie',\n",
       "       'indipop', 'industrial', 'inspirational', 'instrumental',\n",
       "       'international', 'irish', 'jam', 'japanese', 'jazz', 'jewish',\n",
       "       'jpop', 'jungle', 'k-pop', 'karadeniz', 'karaoke', 'kayokyoku',\n",
       "       'korean', 'laiko', 'latin', 'latino', 'leftfield', 'local',\n",
       "       'lounge', 'loungeelectronic', 'lovers', 'malaysian', 'mandopop',\n",
       "       'marschmusik', 'meditative', 'mediterranean', 'melodic', 'metal',\n",
       "       'metalcore', 'mexican', 'middle', 'minimal', 'miscellaneous',\n",
       "       'modern', 'mood', 'mpb', 'muslim', 'native', 'neoklassik', 'neue',\n",
       "       'new', 'newage', 'newwave', 'nu', 'nujazz', 'numetal', 'oceania',\n",
       "       'old', 'opera', 'orchestral', 'other', 'piano', 'podcasts', 'pop',\n",
       "       'popdance', 'popelectronic', 'popeurodance', 'poprussian', 'post',\n",
       "       'posthardcore', 'postrock', 'power', 'progmetal', 'progressive',\n",
       "       'psychedelic', 'punjabi', 'punk', 'quebecois', 'ragga', 'ram',\n",
       "       'rancheras', 'rap', 'rave', 'reggae', 'reggaeton', 'regional',\n",
       "       'relax', 'religious', 'retro', 'rhythm', 'rnb', 'rnr', 'rock',\n",
       "       'rockabilly', 'rockalternative', 'rockindie', 'rockother',\n",
       "       'romance', 'roots', 'ruspop', 'rusrap', 'rusrock', 'russian',\n",
       "       'salsa', 'samba', 'scenic', 'schlager', 'self', 'sertanejo',\n",
       "       'shanson', 'shoegazing', 'showtunes', 'singer', 'ska', 'skarock',\n",
       "       'slow', 'smooth', 'soft', 'soul', 'soulful', 'sound', 'soundtrack',\n",
       "       'southern', 'specialty', 'speech', 'spiritual', 'sport',\n",
       "       'stonerrock', 'surf', 'swing', 'synthpop', 'synthrock',\n",
       "       'sängerportrait', 'tango', 'tanzorchester', 'taraftar', 'tatar',\n",
       "       'tech', 'techno', 'teen', 'thrash', 'top', 'traditional',\n",
       "       'tradjazz', 'trance', 'tribal', 'trip', 'triphop', 'tropical',\n",
       "       'türk', 'türkçe', 'ukrrock', 'unknown', 'urban', 'uzbek',\n",
       "       'variété', 'vi', 'videogame', 'vocal', 'western', 'world',\n",
       "       'worldbeat', 'ïîï', 'электроника'], dtype=object)"
      ]
     },
     "execution_count": 18,
     "metadata": {},
     "output_type": "execute_result"
    }
   ],
   "source": [
    "df['genre'].sort_values().unique() # checking for implicit duplicates"
   ]
  },
  {
   "cell_type": "markdown",
   "metadata": {
    "id": "jz6a9-7HQUDd"
   },
   "source": [
    "**Conclusions**\n",
    "\n",
    "Preprocessing found three problems in the data:\n",
    "\n",
    "- headline style violations,\n",
    "- missing values,\n",
    "- duplicates - explicit and implicit.\n",
    "\n",
    "We've fixed the headers to make the table easier to work with. Without duplicates, the study will become more accurate.\n",
    "\n",
    "We have replaced missing values with `'unknown'`. It remains to be seen whether the gaps in the `genre` column will harm the study.\n",
    "\n",
    "Now we can move on to hypothesis testing."
   ]
  },
  {
   "cell_type": "markdown",
   "metadata": {
    "id": "WttZHXH0SqKk"
   },
   "source": [
    "## Hypothesis testing"
   ]
  },
  {
   "cell_type": "markdown",
   "metadata": {
    "id": "Im936VVi_Zcu"
   },
   "source": [
    "### Comparison of user behavior of two capitals"
   ]
  },
  {
   "cell_type": "markdown",
   "metadata": {
    "id": "nwt_MuaL_Zcu"
   },
   "source": [
    "The first hypothesis states that users listen to music differently in Moscow and St. Petersburg. Let's check this assumption on the data on three days of the week - Monday, Wednesday and Friday. For this:\n",
    "\n",
    "* Separate users of Moscow and St. Petersburg\n",
    "* Compare how many tracks each group of users listened to on Monday, Wednesday and Friday."
   ]
  },
  {
   "cell_type": "markdown",
   "metadata": {
    "id": "8Dw_YMmT_Zcu"
   },
   "source": [
    "For training, we first perform each of the calculations separately.\n",
    "\n",
    "Let's evaluate the activity of users in each city. Let's group the data by city and count the plays in each group."
   ]
  },
  {
   "cell_type": "code",
   "execution_count": 19,
   "metadata": {
    "id": "0_Qs96oh_Zcu"
   },
   "outputs": [
    {
     "name": "stdout",
     "output_type": "stream",
     "text": [
      "42741\n",
      "18512\n"
     ]
    }
   ],
   "source": [
    "moscow_time = df[df['city'] == 'Moscow']['time'].count()\n",
    "spb_time = df[df['city'] == 'Saint-Petersburg']['time'].count() \n",
    "print(moscow_time)\n",
    "print(spb_time) # counting plays in each city"
   ]
  },
  {
   "cell_type": "markdown",
   "metadata": {
    "id": "dzli3w8o_Zcu"
   },
   "source": [
    "There are more auditions in Moscow than in St. Petersburg. It does not follow from this that Moscow users listen to music more often. There are simply more users in Moscow.\n",
    "\n",
    "Now let's group the data by day of the week and count the plays on Monday, Wednesday, and Friday. Let's take into account that the data contains information only about listening only for these days."
   ]
  },
  {
   "cell_type": "code",
   "execution_count": 20,
   "metadata": {
    "id": "uZMKjiJz_Zcu"
   },
   "outputs": [
    {
     "data": {
      "text/plain": [
       "day\n",
       "Friday       21840\n",
       "Monday       21354\n",
       "Wednesday    18059\n",
       "Name: time, dtype: int64"
      ]
     },
     "execution_count": 20,
     "metadata": {},
     "output_type": "execute_result"
    }
   ],
   "source": [
    "day_grouping = df.groupby('day')['time'].count()\n",
    "day_grouping # play count for each of the three days"
   ]
  },
  {
   "cell_type": "markdown",
   "metadata": {
    "id": "cC2tNrlL_Zcu"
   },
   "source": [
    "В среднем пользователи из двух городов менее активны по средам. Но картина может измениться, если рассмотреть каждый город в отдельности."
   ]
  },
  {
   "cell_type": "markdown",
   "metadata": {
    "id": "POzs8bGa_Zcu"
   },
   "source": [
    "We saw how the grouping works by city and by day of the week. Now let's write a function that combines these two calculations.\n",
    "\n",
    "Let's create a `number_tracks()` function that will count the plays for a given day and city. She needs two parameters:\n",
    "* day of the week,\n",
    "* city name.\n",
    "\n",
    "In the function, we save the rows of the source table into a variable, which have the value:\n",
    "  * in the `day` column is equal to the `day` parameter,\n",
    "  * in the `city` column is equal to the `city` parameter.\n",
    "\n",
    "To do this, apply sequential filtering with logical indexing.\n",
    "\n",
    "Then we count the values in the `user_id` column of the resulting table. The result will be stored in a new variable. Let's return this variable from the function."
   ]
  },
  {
   "cell_type": "code",
   "execution_count": 21,
   "metadata": {
    "id": "Nz3GdQB1_Zcu"
   },
   "outputs": [],
   "source": [
    "def number_tracks(day, city):\n",
    "    track_list = df[df['day'] == day]\n",
    "    track_list = track_list[track_list['city'] == city]\n",
    "    track_list_count = track_list['user_id'].count()\n",
    "    return track_list_count\n",
    "# <create number_tracks() function>\n",
    "# a function is declared with two parameters: day, city.\n",
    "# the track_list variable stores those rows of the df table for which\n",
    "# the value in the 'day' column is equal to the day parameter and at the same time the value\n",
    "# in the 'city' column is equal to the city parameter (use sequential filtering\n",
    "# using logical indexing).\n",
    "# the track_list_count variable stores the number of values in the 'user_id' column,\n",
    "# calculated by the count() method for the track_list table.\n",
    "# the function returns a number - the value of track_list_count.\n",
    "\n",
    "# function for counting plays for a specific city and day.\n",
    "# using sequential filtering with logical indexing, it\n",
    "# first get the rows with the desired day from the source table,\n",
    "# then from the result it will filter the rows with the desired city,\n",
    "# the count() method will count the number of values in the user_id column.\n",
    "# this is the number the function will return as a result."
   ]
  },
  {
   "cell_type": "markdown",
   "metadata": {
    "id": "ytf7xFrFJQ2r"
   },
   "source": [
    "Let's call `number_tracks()` six times, changing the value of the parameters so that we get data for each city on each of the three days."
   ]
  },
  {
   "cell_type": "code",
   "execution_count": 22,
   "metadata": {
    "id": "rJcRATNQ_Zcu"
   },
   "outputs": [
    {
     "data": {
      "text/plain": [
       "15740"
      ]
     },
     "execution_count": 22,
     "metadata": {},
     "output_type": "execute_result"
    }
   ],
   "source": [
    "number_tracks('Monday', 'Moscow') # number of auditions in Moscow on Mondays"
   ]
  },
  {
   "cell_type": "code",
   "execution_count": 23,
   "metadata": {
    "id": "hq_ncZ5T_Zcu"
   },
   "outputs": [
    {
     "data": {
      "text/plain": [
       "5614"
      ]
     },
     "execution_count": 23,
     "metadata": {},
     "output_type": "execute_result"
    }
   ],
   "source": [
    "number_tracks('Monday', 'Saint-Petersburg') # number of auditions in St. Petersburg on Mondays"
   ]
  },
  {
   "cell_type": "code",
   "execution_count": 24,
   "metadata": {
    "id": "_NTy2VPU_Zcu"
   },
   "outputs": [
    {
     "data": {
      "text/plain": [
       "11056"
      ]
     },
     "execution_count": 24,
     "metadata": {},
     "output_type": "execute_result"
    }
   ],
   "source": [
    "number_tracks('Wednesday', 'Moscow') # number of auditions in Moscow on Wednesdays"
   ]
  },
  {
   "cell_type": "code",
   "execution_count": 25,
   "metadata": {
    "id": "j2y3TAwo_Zcu"
   },
   "outputs": [
    {
     "data": {
      "text/plain": [
       "7003"
      ]
     },
     "execution_count": 25,
     "metadata": {},
     "output_type": "execute_result"
    }
   ],
   "source": [
    "number_tracks('Wednesday', 'Saint-Petersburg') # number of auditions in St. Petersburg on Wednesdays"
   ]
  },
  {
   "cell_type": "code",
   "execution_count": 26,
   "metadata": {
    "id": "vYDw5u_K_Zcu"
   },
   "outputs": [
    {
     "data": {
      "text/plain": [
       "15945"
      ]
     },
     "execution_count": 26,
     "metadata": {},
     "output_type": "execute_result"
    }
   ],
   "source": [
    "number_tracks('Friday', 'Moscow') # number of auditions in Moscow on Fridays"
   ]
  },
  {
   "cell_type": "code",
   "execution_count": 27,
   "metadata": {
    "id": "8_yzFtW3_Zcu"
   },
   "outputs": [
    {
     "data": {
      "text/plain": [
       "5895"
      ]
     },
     "execution_count": 27,
     "metadata": {},
     "output_type": "execute_result"
    }
   ],
   "source": [
    "number_tracks('Friday', 'Saint-Petersburg') # number of auditions in St. Petersburg on Fridays"
   ]
  },
  {
   "cell_type": "markdown",
   "metadata": {
    "id": "7QXffbO-_Zcu"
   },
   "source": [
    "Let's create a table using the `pd.DataFrame` constructor, where\n",
    "* column names - `['city', 'monday', 'wednesday', 'friday']`;\n",
    "* data is the results you got with `number_tracks`."
   ]
  },
  {
   "cell_type": "code",
   "execution_count": 28,
   "metadata": {
    "id": "APAcLpOr_Zcu"
   },
   "outputs": [
    {
     "data": {
      "text/html": [
       "<div>\n",
       "<style scoped>\n",
       "    .dataframe tbody tr th:only-of-type {\n",
       "        vertical-align: middle;\n",
       "    }\n",
       "\n",
       "    .dataframe tbody tr th {\n",
       "        vertical-align: top;\n",
       "    }\n",
       "\n",
       "    .dataframe thead th {\n",
       "        text-align: right;\n",
       "    }\n",
       "</style>\n",
       "<table border=\"1\" class=\"dataframe\">\n",
       "  <thead>\n",
       "    <tr style=\"text-align: right;\">\n",
       "      <th></th>\n",
       "      <th>city</th>\n",
       "      <th>monday</th>\n",
       "      <th>wednesday</th>\n",
       "      <th>friday</th>\n",
       "    </tr>\n",
       "  </thead>\n",
       "  <tbody>\n",
       "    <tr>\n",
       "      <td>0</td>\n",
       "      <td>Moscow</td>\n",
       "      <td>15740</td>\n",
       "      <td>11056</td>\n",
       "      <td>15945</td>\n",
       "    </tr>\n",
       "    <tr>\n",
       "      <td>1</td>\n",
       "      <td>Saint-Petersburg</td>\n",
       "      <td>5614</td>\n",
       "      <td>7003</td>\n",
       "      <td>5895</td>\n",
       "    </tr>\n",
       "  </tbody>\n",
       "</table>\n",
       "</div>"
      ],
      "text/plain": [
       "               city  monday  wednesday  friday\n",
       "0            Moscow   15740      11056   15945\n",
       "1  Saint-Petersburg    5614       7003    5895"
      ]
     },
     "execution_count": 28,
     "metadata": {},
     "output_type": "execute_result"
    }
   ],
   "source": [
    "data = [['Moscow', number_tracks('Monday', 'Moscow'), number_tracks('Wednesday', 'Moscow'),\n",
    "         number_tracks('Friday', 'Moscow')],\n",
    "        ['Saint-Petersburg', number_tracks('Monday', 'Saint-Petersburg'), \n",
    "         number_tracks('Wednesday', 'Saint-Petersburg'), \n",
    "         number_tracks('Friday', 'Saint-Petersburg')]]\n",
    "columns = ['city', 'monday', 'wednesday', 'friday']\n",
    "research_result = pd.DataFrame(data=data, columns=columns)\n",
    "research_result # results table"
   ]
  },
  {
   "cell_type": "markdown",
   "metadata": {
    "id": "-EgPIHYu_Zcu"
   },
   "source": [
    "**Conclusions**\n",
    "\n",
    "The data shows the difference in user behavior:\n",
    "\n",
    "- In Moscow, the peak of listening falls on Monday and Friday, and on Wednesday there is a noticeable decline.\n",
    "- In St. Petersburg, on the contrary, they listen to music more on Wednesdays. Activity on Monday and Friday here is almost equally inferior to Wednesday.\n",
    "\n",
    "So the data support the first hypothesis."
   ]
  },
  {
   "cell_type": "markdown",
   "metadata": {
    "id": "atZAxtq4_Zcu"
   },
   "source": [
    "### Music at the beginning and end of the week"
   ]
  },
  {
   "cell_type": "markdown",
   "metadata": {
    "id": "eXrQqXFH_Zcu"
   },
   "source": [
    "According to the second hypothesis, on Monday morning certain genres predominate in Moscow, while others dominate in St. Petersburg. Similarly, Friday nights are dominated by different genres, depending on the city."
   ]
  },
  {
   "cell_type": "markdown",
   "metadata": {
    "id": "S8UcW6Hw_Zcu"
   },
   "source": [
    "Let's save tables with data in two variables:\n",
    "* in Moscow - in `moscow_general`;\n",
    "* for St. Petersburg - in `spb_general`."
   ]
  },
  {
   "cell_type": "code",
   "execution_count": 29,
   "metadata": {
    "id": "qeaFfM_P_Zcu"
   },
   "outputs": [],
   "source": [
    "moscow_general = df[df['city'] == 'Moscow'] # getting the moscow_general table from those rows of the df table,\n",
    "# for which the value in the 'city' column is 'Moscow'"
   ]
  },
  {
   "cell_type": "code",
   "execution_count": 30,
   "metadata": {
    "id": "ORaVRKto_Zcu"
   },
   "outputs": [],
   "source": [
    "spb_general = df[df['city'] == 'Saint-Petersburg'] # getting spb_general table from those rows of df table,\n",
    "# for which the value in the 'city' column is 'Saint-Petersburg'"
   ]
  },
  {
   "cell_type": "markdown",
   "metadata": {
    "id": "MEJV-CX2_Zcu"
   },
   "source": [
    "Let's create a `genre_weekday()` function with four parameters:\n",
    "* table (dataframe) with data,\n",
    "* day of the week,\n",
    "* start timestamp in 'hh:mm' format,\n",
    "* last timestamp in 'hh:mm' format.\n",
    "\n",
    "The function should return information about the top 10 genres of those tracks that were listened to on the specified day, in the interval between two timestamps."
   ]
  },
  {
   "cell_type": "code",
   "execution_count": 31,
   "metadata": {
    "id": "laJT9BYl_Zcu"
   },
   "outputs": [],
   "source": [
    "def genre_weekday(table, day, time1, time2):\n",
    "    genre_df = table[table['day'] == day]\n",
    "    genre_df = genre_df[genre_df['time'] > time1]\n",
    "    genre_df = genre_df[genre_df['time'] < time2]\n",
    "    genre_df_count = genre_df.groupby('genre')['time'].count()\n",
    "    genre_df_sorted = genre_df_count.sort_values(ascending=False) \n",
    "    return genre_df_sorted[:10] \n",
    "\n",
    "# Declaring the function genre_weekday() with parameters table, day, time1, time2,\n",
    "# which returns information about the most popular genres on the specified day in\n",
    "# given time:\n",
    "# 1) the genre_df variable saves those rows of the transmitted dataframe table, for\n",
    "# of which at the same time:\n",
    "# - the value in the day column is equal to the value of the day argument\n",
    "# - the value in the time column is greater than the value of the time1 argument\n",
    "# - the value in the time column is less than the value of the time2 argument\n",
    "# Use sequential filtering with boolean indexing.\n",
    "# 2) group dataframe genre_df by genre column, take one of its\n",
    "# columns and use the count() method to calculate the number of entries for each of\n",
    "# of present genres, the resulting Series will be written to a variable\n",
    "#genre_df_count\n",
    "# 3) sort genre_df_count in descending order of occurrence and save\n",
    "# into the genre_df_sorted variable\n",
    "# 4) return a Series of the first 10 genre_df_sorted values, these will be the top 10\n",
    "# popular genres (on the specified day, at the specified time)"
   ]
  },
  {
   "cell_type": "markdown",
   "metadata": {
    "id": "la2s2_PF_Zcu"
   },
   "source": [
    "Compare the results of the `genre_weekday()` function for Moscow and St. Petersburg on Monday morning (from 7:00 to 11:00) and Friday evening (from 17:00 to 23:00):"
   ]
  },
  {
   "cell_type": "code",
   "execution_count": 32,
   "metadata": {
    "id": "yz7itPUQ_Zcu"
   },
   "outputs": [
    {
     "data": {
      "text/plain": [
       "genre\n",
       "pop            781\n",
       "dance          549\n",
       "electronic     480\n",
       "rock           474\n",
       "hiphop         286\n",
       "ruspop         186\n",
       "world          181\n",
       "rusrap         175\n",
       "alternative    164\n",
       "unknown        161\n",
       "Name: time, dtype: int64"
      ]
     },
     "execution_count": 32,
     "metadata": {},
     "output_type": "execute_result"
    }
   ],
   "source": [
    "genre_weekday(moscow_general, 'Monday', '07:00', '11:00') # function call for Monday morning in Moscow\n",
    "# (instead of df - moscow_general table). Time objects are strings and are compared as strings\n",
    "# call example: genre_weekday(moscow_general, 'Monday', '07:00', '11:00')"
   ]
  },
  {
   "cell_type": "code",
   "execution_count": 33,
   "metadata": {
    "id": "kwUcHPdy_Zcu"
   },
   "outputs": [
    {
     "data": {
      "text/plain": [
       "genre\n",
       "pop            218\n",
       "dance          182\n",
       "rock           162\n",
       "electronic     147\n",
       "hiphop          80\n",
       "ruspop          64\n",
       "alternative     58\n",
       "rusrap          55\n",
       "jazz            44\n",
       "classical       40\n",
       "Name: time, dtype: int64"
      ]
     },
     "execution_count": 33,
     "metadata": {},
     "output_type": "execute_result"
    }
   ],
   "source": [
    "genre_weekday(spb_general, 'Monday', '07:00', '11:00') # function call for Monday morning\n",
    "# in St. Petersburg (instead of df - spb_general table)"
   ]
  },
  {
   "cell_type": "code",
   "execution_count": 34,
   "metadata": {
    "id": "EzXVRE1o_Zcu"
   },
   "outputs": [
    {
     "data": {
      "text/plain": [
       "genre\n",
       "pop            713\n",
       "rock           517\n",
       "dance          495\n",
       "electronic     482\n",
       "hiphop         273\n",
       "world          208\n",
       "ruspop         170\n",
       "alternative    163\n",
       "classical      163\n",
       "rusrap         142\n",
       "Name: time, dtype: int64"
      ]
     },
     "execution_count": 34,
     "metadata": {},
     "output_type": "execute_result"
    }
   ],
   "source": [
    "genre_weekday(moscow_general, 'Friday', '17:00', '23:00') # function call for Friday evening in Moscow"
   ]
  },
  {
   "cell_type": "code",
   "execution_count": 35,
   "metadata": {
    "id": "JZaEKu5v_Zcu"
   },
   "outputs": [
    {
     "data": {
      "text/plain": [
       "genre\n",
       "pop            256\n",
       "rock           216\n",
       "electronic     216\n",
       "dance          210\n",
       "hiphop          97\n",
       "alternative     63\n",
       "jazz            61\n",
       "classical       60\n",
       "rusrap          59\n",
       "world           54\n",
       "Name: time, dtype: int64"
      ]
     },
     "execution_count": 35,
     "metadata": {},
     "output_type": "execute_result"
    }
   ],
   "source": [
    "genre_weekday(spb_general, 'Friday', '17:00', '23:00') # function call for Friday evening in St. Petersburg"
   ]
  },
  {
   "cell_type": "markdown",
   "metadata": {
    "id": "wrCe4MNX_Zcu"
   },
   "source": [
    "**Conclusions**\n",
    "\n",
    "If we compare the top 10 genres on Monday morning, we can draw the following conclusions:\n",
    "\n",
    "1. In Moscow and St. Petersburg they listen to similar music. The only difference is that the Moscow rating includes the “world” genre, while the St. Petersburg rating includes jazz and classical.\n",
    "\n",
    "2. There were so many missing values in Moscow that the value `'unknown'` took tenth place among the most popular genres. This means that missing values occupy a significant share in the data and threaten the reliability of the study.\n",
    "\n",
    "Friday night does not change this picture. Some genres rise a little higher, others go down, but overall the top 10 stays the same.\n",
    "\n",
    "Thus, the second hypothesis was only partially confirmed:\n",
    "* Users listen to similar music at the beginning of the week and at the end.\n",
    "* The difference between Moscow and St. Petersburg is not very pronounced. In Moscow, they listen to Russian popular music more often, in St. Petersburg - jazz.\n",
    "\n",
    "However, gaps in the data cast doubt on this result. There are so many of them in Moscow that the top 10 ranking could look different if it were not for the lost genre data."
   ]
  },
  {
   "cell_type": "markdown",
   "metadata": {
    "id": "JolODAqr_Zcu"
   },
   "source": [
    "### Genre preferences in Moscow and St. Petersburg\n",
    "\n",
    "Hypothesis: St. Petersburg is the capital of rap, the music of this genre is listened to more often than in Moscow. And Moscow is a city of contrasts, which, nevertheless, is dominated by pop music."
   ]
  },
  {
   "cell_type": "markdown",
   "metadata": {
    "id": "DlegSvaT_Zcu"
   },
   "source": [
    "Let's group the `moscow_general` table by genre and count the listens of tracks of each genre using the `count()` method. Then we sort the result in descending order and store it in the `moscow_genres` table."
   ]
  },
  {
   "cell_type": "code",
   "execution_count": 36,
   "metadata": {
    "id": "r19lIPke_Zcu"
   },
   "outputs": [],
   "source": [
    "moscow_genres = moscow_general.groupby('genre')['time'].count().sort_values(ascending=False) # in one line:\n",
    "# grouping the moscow_general table by the 'genre' column,\n",
    "# counting the number of 'genre' values in this grouping using the count() method,\n",
    "# sort the resulting Series in descending order and save to moscow_genres"
   ]
  },
  {
   "cell_type": "markdown",
   "metadata": {
    "id": "6kMuomxTiIr8"
   },
   "source": [
    "Display the first ten lines of `moscow_genres`:"
   ]
  },
  {
   "cell_type": "code",
   "execution_count": 37,
   "metadata": {
    "id": "WhCSooF8_Zcv"
   },
   "outputs": [
    {
     "data": {
      "text/plain": [
       "genre\n",
       "pop            5892\n",
       "dance          4435\n",
       "rock           3965\n",
       "electronic     3786\n",
       "hiphop         2096\n",
       "classical      1616\n",
       "world          1432\n",
       "alternative    1379\n",
       "ruspop         1372\n",
       "rusrap         1161\n",
       "Name: time, dtype: int64"
      ]
     },
     "execution_count": 37,
     "metadata": {},
     "output_type": "execute_result"
    }
   ],
   "source": [
    "moscow_genres.head(10) # view the first 10 lines of moscow_genres"
   ]
  },
  {
   "cell_type": "markdown",
   "metadata": {
    "id": "cnPG2vnN_Zcv"
   },
   "source": [
    "Now let's repeat the same for St. Petersburg.\n",
    "\n",
    "Let's group the `spb_general` table by genre. Let's count listening to tracks of each genre. Sort the result in descending order and store it in the `spb_genres` table:"
   ]
  },
  {
   "cell_type": "code",
   "execution_count": 38,
   "metadata": {
    "id": "gluLIpE7_Zcv"
   },
   "outputs": [],
   "source": [
    "spb_genres = spb_general.groupby('genre')['time'].count().sort_values(ascending=False) # in one line:\n",
    "# group spb_general table by 'genre' column,\n",
    "# counting the number of 'genre' values in this grouping using the count() method,\n",
    "# sort the resulting Series in descending order and store it in spb_genres"
   ]
  },
  {
   "cell_type": "markdown",
   "metadata": {
    "id": "5Doha_ODgyQ8"
   },
   "source": [
    "Display the first ten lines of `spb_genres`:"
   ]
  },
  {
   "cell_type": "code",
   "execution_count": 39,
   "metadata": {
    "id": "uaGJHjVU_Zcv"
   },
   "outputs": [
    {
     "data": {
      "text/plain": [
       "genre\n",
       "pop            2431\n",
       "dance          1932\n",
       "rock           1879\n",
       "electronic     1736\n",
       "hiphop          960\n",
       "alternative     649\n",
       "classical       646\n",
       "rusrap          564\n",
       "ruspop          538\n",
       "world           515\n",
       "Name: time, dtype: int64"
      ]
     },
     "execution_count": 39,
     "metadata": {},
     "output_type": "execute_result"
    }
   ],
   "source": [
    "spb_genres.head(10) # view the first 10 lines of spb_genres"
   ]
  },
  {
   "cell_type": "markdown",
   "metadata": {
    "id": "RY51YJYu_Zcv"
   },
   "source": [
    "**Conclusions**"
   ]
  },
  {
   "cell_type": "markdown",
   "metadata": {
    "id": "nVhnJEm__Zcv"
   },
   "source": [
    "The hypothesis was partially confirmed:\n",
    "* Pop music is the most popular genre in Moscow, as the hypothesis suggested. Moreover, in the top 10 genres there is a close genre - Russian popular music.\n",
    "* Contrary to expectations, rap is equally popular in Moscow and St. Petersburg."
   ]
  },
  {
   "cell_type": "markdown",
   "metadata": {
    "id": "ykKQ0N65_Zcv"
   },
   "source": [
    "## Research results"
   ]
  },
  {
   "cell_type": "markdown",
   "metadata": {
    "id": "tjUwbHb3_Zcv"
   },
   "source": [
    "We tested three hypotheses and found:\n",
    "\n",
    "1. The day of the week has a different effect on the activity of users in Moscow and St. Petersburg.\n",
    "\n",
    "The first hypothesis was fully confirmed.\n",
    "\n",
    "2. Musical preferences do not change much during the week - be it Moscow or St. Petersburg. Small differences are noticeable at the beginning of the week, on Mondays:\n",
    "* in Moscow they listen to music of the “world” genre,\n",
    "* in St. Petersburg - jazz and classical music.\n",
    "\n",
    "Thus, the second hypothesis was only partly confirmed. This result could have been different were it not for gaps in the data.\n",
    "\n",
    "3. The tastes of users of Moscow and St. Petersburg have more in common than differences. Contrary to expectations, genre preferences in St. Petersburg resemble those in Moscow.\n",
    "\n",
    "The third hypothesis was not confirmed. If there are differences in preferences, they are invisible to the bulk of users."
   ]
  }
 ],
 "metadata": {
  "ExecuteTimeLog": [
   {
    "duration": 912,
    "start_time": "2022-02-20T10:00:14.886Z"
   },
   {
    "duration": 180,
    "start_time": "2022-02-20T10:04:41.891Z"
   },
   {
    "duration": 29,
    "start_time": "2022-02-20T10:05:24.826Z"
   },
   {
    "duration": 53,
    "start_time": "2022-02-20T10:05:47.069Z"
   },
   {
    "duration": 6,
    "start_time": "2022-02-20T10:10:23.047Z"
   },
   {
    "duration": 16,
    "start_time": "2022-02-20T10:10:42.750Z"
   },
   {
    "duration": 24,
    "start_time": "2022-02-20T10:12:57.390Z"
   },
   {
    "duration": 6,
    "start_time": "2022-02-20T10:13:12.249Z"
   },
   {
    "duration": 29,
    "start_time": "2022-02-20T10:14:34.182Z"
   },
   {
    "duration": 22,
    "start_time": "2022-02-20T10:19:00.612Z"
   },
   {
    "duration": 48,
    "start_time": "2022-02-20T10:19:19.393Z"
   },
   {
    "duration": 83,
    "start_time": "2022-02-20T10:20:08.718Z"
   },
   {
    "duration": 105,
    "start_time": "2022-02-20T10:20:51.754Z"
   },
   {
    "duration": 77,
    "start_time": "2022-02-20T10:21:03.872Z"
   },
   {
    "duration": 395,
    "start_time": "2022-02-20T10:28:12.631Z"
   },
   {
    "duration": 81,
    "start_time": "2022-02-20T10:28:41.616Z"
   },
   {
    "duration": 6427,
    "start_time": "2022-02-20T10:33:25.171Z"
   },
   {
    "duration": 15,
    "start_time": "2022-02-20T10:33:56.934Z"
   },
   {
    "duration": 4,
    "start_time": "2022-02-20T10:47:18.927Z"
   },
   {
    "duration": 5967,
    "start_time": "2022-02-20T10:48:39.693Z"
   },
   {
    "duration": 4,
    "start_time": "2022-02-20T10:52:43.830Z"
   },
   {
    "duration": 14,
    "start_time": "2022-02-20T10:52:46.436Z"
   },
   {
    "duration": 16,
    "start_time": "2022-02-20T10:53:10.523Z"
   },
   {
    "duration": 29,
    "start_time": "2022-02-20T11:09:04.158Z"
   },
   {
    "duration": 33,
    "start_time": "2022-02-20T11:09:48.431Z"
   },
   {
    "duration": 295,
    "start_time": "2022-02-20T11:21:35.934Z"
   },
   {
    "duration": 233,
    "start_time": "2022-02-20T11:22:41.509Z"
   },
   {
    "duration": 239,
    "start_time": "2022-02-20T11:25:35.927Z"
   },
   {
    "duration": 265,
    "start_time": "2022-02-20T11:26:34.311Z"
   },
   {
    "duration": 6851,
    "start_time": "2022-02-20T11:26:41.030Z"
   },
   {
    "duration": 13,
    "start_time": "2022-02-20T11:34:00.073Z"
   },
   {
    "duration": 252,
    "start_time": "2022-02-20T11:34:24.023Z"
   },
   {
    "duration": 16,
    "start_time": "2022-02-20T11:34:36.898Z"
   },
   {
    "duration": 6,
    "start_time": "2022-02-20T11:35:18.323Z"
   },
   {
    "duration": 7,
    "start_time": "2022-02-20T11:35:28.723Z"
   },
   {
    "duration": 210,
    "start_time": "2022-02-20T14:51:31.931Z"
   },
   {
    "duration": 579,
    "start_time": "2022-02-20T14:52:49.130Z"
   },
   {
    "duration": 149,
    "start_time": "2022-02-20T14:52:49.711Z"
   },
   {
    "duration": 19,
    "start_time": "2022-02-20T14:52:49.862Z"
   },
   {
    "duration": 24,
    "start_time": "2022-02-20T14:52:49.882Z"
   },
   {
    "duration": 23,
    "start_time": "2022-02-20T14:52:49.908Z"
   },
   {
    "duration": 21,
    "start_time": "2022-02-20T14:52:49.932Z"
   },
   {
    "duration": 7,
    "start_time": "2022-02-20T14:52:49.954Z"
   },
   {
    "duration": 24,
    "start_time": "2022-02-20T14:52:49.962Z"
   },
   {
    "duration": 16,
    "start_time": "2022-02-20T14:52:49.989Z"
   },
   {
    "duration": 24,
    "start_time": "2022-02-20T14:52:50.029Z"
   },
   {
    "duration": 61,
    "start_time": "2022-02-20T14:52:50.055Z"
   },
   {
    "duration": 74,
    "start_time": "2022-02-20T14:52:50.130Z"
   },
   {
    "duration": 64,
    "start_time": "2022-02-20T14:52:50.205Z"
   },
   {
    "duration": 9,
    "start_time": "2022-02-20T14:52:50.271Z"
   },
   {
    "duration": 3,
    "start_time": "2022-02-20T14:52:50.281Z"
   },
   {
    "duration": 228,
    "start_time": "2022-02-20T14:52:50.285Z"
   },
   {
    "duration": 634,
    "start_time": "2022-02-20T14:52:49.881Z"
   },
   {
    "duration": 630,
    "start_time": "2022-02-20T14:52:49.886Z"
   },
   {
    "duration": 618,
    "start_time": "2022-02-20T14:52:49.899Z"
   },
   {
    "duration": 616,
    "start_time": "2022-02-20T14:52:49.902Z"
   },
   {
    "duration": 615,
    "start_time": "2022-02-20T14:52:49.904Z"
   },
   {
    "duration": 612,
    "start_time": "2022-02-20T14:52:49.907Z"
   },
   {
    "duration": 611,
    "start_time": "2022-02-20T14:52:49.909Z"
   },
   {
    "duration": 606,
    "start_time": "2022-02-20T14:52:49.916Z"
   },
   {
    "duration": 603,
    "start_time": "2022-02-20T14:52:49.920Z"
   },
   {
    "duration": 601,
    "start_time": "2022-02-20T14:52:49.923Z"
   },
   {
    "duration": 600,
    "start_time": "2022-02-20T14:52:49.925Z"
   },
   {
    "duration": 599,
    "start_time": "2022-02-20T14:52:49.927Z"
   },
   {
    "duration": 598,
    "start_time": "2022-02-20T14:52:49.929Z"
   },
   {
    "duration": 592,
    "start_time": "2022-02-20T14:52:49.936Z"
   },
   {
    "duration": 590,
    "start_time": "2022-02-20T14:52:49.938Z"
   },
   {
    "duration": 589,
    "start_time": "2022-02-20T14:52:49.941Z"
   },
   {
    "duration": 588,
    "start_time": "2022-02-20T14:52:49.943Z"
   },
   {
    "duration": 587,
    "start_time": "2022-02-20T14:52:49.945Z"
   },
   {
    "duration": 585,
    "start_time": "2022-02-20T14:52:49.948Z"
   },
   {
    "duration": 583,
    "start_time": "2022-02-20T14:52:49.951Z"
   },
   {
    "duration": 583,
    "start_time": "2022-02-20T14:52:49.952Z"
   },
   {
    "duration": 582,
    "start_time": "2022-02-20T14:52:49.955Z"
   },
   {
    "duration": 10,
    "start_time": "2022-02-20T14:53:14.970Z"
   },
   {
    "duration": 25,
    "start_time": "2022-02-20T14:53:21.784Z"
   },
   {
    "duration": 13,
    "start_time": "2022-02-20T14:53:27.503Z"
   },
   {
    "duration": 10,
    "start_time": "2022-02-20T15:05:39.327Z"
   },
   {
    "duration": 10,
    "start_time": "2022-02-20T15:05:53.470Z"
   },
   {
    "duration": 4,
    "start_time": "2022-02-20T15:22:01.478Z"
   },
   {
    "duration": 194,
    "start_time": "2022-02-20T15:24:07.697Z"
   },
   {
    "duration": 4,
    "start_time": "2022-02-20T15:24:36.291Z"
   },
   {
    "duration": 177,
    "start_time": "2022-02-20T15:24:42.742Z"
   },
   {
    "duration": 3,
    "start_time": "2022-02-20T15:26:27.663Z"
   },
   {
    "duration": 211,
    "start_time": "2022-02-20T15:26:30.893Z"
   },
   {
    "duration": 4,
    "start_time": "2022-02-20T15:30:35.210Z"
   },
   {
    "duration": 172,
    "start_time": "2022-02-20T15:30:38.675Z"
   },
   {
    "duration": 4,
    "start_time": "2022-02-20T15:31:01.976Z"
   },
   {
    "duration": 171,
    "start_time": "2022-02-20T15:31:05.583Z"
   },
   {
    "duration": 4,
    "start_time": "2022-02-20T15:38:46.236Z"
   },
   {
    "duration": 160,
    "start_time": "2022-02-20T15:38:53.225Z"
   },
   {
    "duration": 3,
    "start_time": "2022-02-20T15:43:21.831Z"
   },
   {
    "duration": 173,
    "start_time": "2022-02-20T15:43:26.167Z"
   },
   {
    "duration": 4,
    "start_time": "2022-02-20T15:44:28.357Z"
   },
   {
    "duration": 248,
    "start_time": "2022-02-20T15:44:32.222Z"
   },
   {
    "duration": 621,
    "start_time": "2022-02-20T15:44:50.007Z"
   },
   {
    "duration": 4,
    "start_time": "2022-02-20T15:45:09.674Z"
   },
   {
    "duration": 366,
    "start_time": "2022-02-20T15:45:18.222Z"
   },
   {
    "duration": 3,
    "start_time": "2022-02-20T15:46:10.409Z"
   },
   {
    "duration": 18,
    "start_time": "2022-02-20T15:46:14.078Z"
   },
   {
    "duration": 17,
    "start_time": "2022-02-20T15:46:58.257Z"
   },
   {
    "duration": 3,
    "start_time": "2022-02-20T15:49:17.755Z"
   },
   {
    "duration": 17,
    "start_time": "2022-02-20T15:49:22.289Z"
   },
   {
    "duration": 16,
    "start_time": "2022-02-20T15:49:24.845Z"
   },
   {
    "duration": 15,
    "start_time": "2022-02-20T15:49:48.423Z"
   },
   {
    "duration": 16,
    "start_time": "2022-02-20T15:50:08.924Z"
   },
   {
    "duration": 19,
    "start_time": "2022-02-20T15:50:27.018Z"
   },
   {
    "duration": 15,
    "start_time": "2022-02-20T15:50:45.538Z"
   },
   {
    "duration": 172,
    "start_time": "2022-02-20T15:54:07.909Z"
   },
   {
    "duration": 234,
    "start_time": "2022-02-20T15:59:02.766Z"
   },
   {
    "duration": 72,
    "start_time": "2022-02-20T15:59:31.144Z"
   },
   {
    "duration": 10,
    "start_time": "2022-02-20T16:02:18.885Z"
   },
   {
    "duration": 10,
    "start_time": "2022-02-20T16:02:20.343Z"
   },
   {
    "duration": 3,
    "start_time": "2022-02-20T16:13:50.581Z"
   },
   {
    "duration": 4,
    "start_time": "2022-02-20T16:14:41.805Z"
   },
   {
    "duration": 23,
    "start_time": "2022-02-20T16:15:56.170Z"
   },
   {
    "duration": 5,
    "start_time": "2022-02-20T16:17:01.921Z"
   },
   {
    "duration": 363,
    "start_time": "2022-02-20T16:17:07.938Z"
   },
   {
    "duration": 4,
    "start_time": "2022-02-20T16:18:37.357Z"
   },
   {
    "duration": 21,
    "start_time": "2022-02-20T16:18:42.498Z"
   },
   {
    "duration": 14,
    "start_time": "2022-02-20T16:20:00.782Z"
   },
   {
    "duration": 17,
    "start_time": "2022-02-20T16:20:51.755Z"
   },
   {
    "duration": 14,
    "start_time": "2022-02-20T16:21:06.253Z"
   },
   {
    "duration": 189,
    "start_time": "2022-02-20T16:34:59.851Z"
   },
   {
    "duration": 26,
    "start_time": "2022-02-20T16:36:20.021Z"
   },
   {
    "duration": 9,
    "start_time": "2022-02-20T16:36:50.158Z"
   },
   {
    "duration": 191,
    "start_time": "2022-02-20T16:39:05.040Z"
   },
   {
    "duration": 8,
    "start_time": "2022-02-20T16:39:32.670Z"
   },
   {
    "duration": 5,
    "start_time": "2022-02-20T16:39:36.902Z"
   },
   {
    "duration": 7,
    "start_time": "2022-02-20T16:40:17.329Z"
   },
   {
    "duration": 5,
    "start_time": "2022-02-20T16:40:41.844Z"
   },
   {
    "duration": 4,
    "start_time": "2022-02-20T16:43:21.504Z"
   },
   {
    "duration": 3,
    "start_time": "2022-02-20T16:43:30.101Z"
   },
   {
    "duration": 156,
    "start_time": "2022-02-20T16:43:30.108Z"
   },
   {
    "duration": 11,
    "start_time": "2022-02-20T16:43:30.266Z"
   },
   {
    "duration": 26,
    "start_time": "2022-02-20T16:43:30.279Z"
   },
   {
    "duration": 23,
    "start_time": "2022-02-20T16:43:30.307Z"
   },
   {
    "duration": 15,
    "start_time": "2022-02-20T16:43:30.332Z"
   },
   {
    "duration": 4,
    "start_time": "2022-02-20T16:43:30.349Z"
   },
   {
    "duration": 32,
    "start_time": "2022-02-20T16:43:30.354Z"
   },
   {
    "duration": 17,
    "start_time": "2022-02-20T16:43:30.389Z"
   },
   {
    "duration": 41,
    "start_time": "2022-02-20T16:43:30.408Z"
   },
   {
    "duration": 55,
    "start_time": "2022-02-20T16:43:30.451Z"
   },
   {
    "duration": 74,
    "start_time": "2022-02-20T16:43:30.508Z"
   },
   {
    "duration": 62,
    "start_time": "2022-02-20T16:43:30.583Z"
   },
   {
    "duration": 8,
    "start_time": "2022-02-20T16:43:30.647Z"
   },
   {
    "duration": 4,
    "start_time": "2022-02-20T16:43:30.657Z"
   },
   {
    "duration": 21,
    "start_time": "2022-02-20T16:43:30.662Z"
   },
   {
    "duration": 17,
    "start_time": "2022-02-20T16:43:30.684Z"
   },
   {
    "duration": 34,
    "start_time": "2022-02-20T16:43:30.702Z"
   },
   {
    "duration": 10,
    "start_time": "2022-02-20T16:43:30.738Z"
   },
   {
    "duration": 5,
    "start_time": "2022-02-20T16:43:30.749Z"
   },
   {
    "duration": 28,
    "start_time": "2022-02-20T16:43:30.756Z"
   },
   {
    "duration": 15,
    "start_time": "2022-02-20T16:43:30.786Z"
   },
   {
    "duration": 32,
    "start_time": "2022-02-20T16:43:30.803Z"
   },
   {
    "duration": 14,
    "start_time": "2022-02-20T16:43:30.838Z"
   },
   {
    "duration": 15,
    "start_time": "2022-02-20T16:43:30.854Z"
   },
   {
    "duration": 14,
    "start_time": "2022-02-20T16:43:30.870Z"
   },
   {
    "duration": 97,
    "start_time": "2022-02-20T16:43:30.886Z"
   },
   {
    "duration": 13,
    "start_time": "2022-02-20T16:43:30.984Z"
   },
   {
    "duration": 11,
    "start_time": "2022-02-20T16:43:30.998Z"
   },
   {
    "duration": 21,
    "start_time": "2022-02-20T16:43:31.011Z"
   },
   {
    "duration": 33,
    "start_time": "2022-02-20T16:43:31.033Z"
   },
   {
    "duration": 23,
    "start_time": "2022-02-20T16:43:31.068Z"
   },
   {
    "duration": 17,
    "start_time": "2022-02-20T16:43:31.092Z"
   },
   {
    "duration": 19,
    "start_time": "2022-02-20T16:43:31.111Z"
   },
   {
    "duration": 9,
    "start_time": "2022-02-20T16:43:31.132Z"
   },
   {
    "duration": 8,
    "start_time": "2022-02-20T16:43:31.143Z"
   },
   {
    "duration": 12,
    "start_time": "2022-02-20T16:43:31.153Z"
   },
   {
    "duration": 26,
    "start_time": "2022-02-20T16:43:31.167Z"
   },
   {
    "duration": 4,
    "start_time": "2022-02-20T16:45:36.352Z"
   },
   {
    "duration": 131,
    "start_time": "2022-02-20T16:45:36.358Z"
   },
   {
    "duration": 12,
    "start_time": "2022-02-20T16:45:36.491Z"
   },
   {
    "duration": 37,
    "start_time": "2022-02-20T16:45:36.504Z"
   },
   {
    "duration": 3,
    "start_time": "2022-02-20T16:45:36.543Z"
   },
   {
    "duration": 20,
    "start_time": "2022-02-20T16:45:36.547Z"
   },
   {
    "duration": 4,
    "start_time": "2022-02-20T16:45:36.570Z"
   },
   {
    "duration": 59,
    "start_time": "2022-02-20T16:45:36.576Z"
   },
   {
    "duration": 15,
    "start_time": "2022-02-20T16:45:36.638Z"
   },
   {
    "duration": 21,
    "start_time": "2022-02-20T16:45:36.655Z"
   },
   {
    "duration": 81,
    "start_time": "2022-02-20T16:45:36.678Z"
   },
   {
    "duration": 80,
    "start_time": "2022-02-20T16:45:36.761Z"
   },
   {
    "duration": 51,
    "start_time": "2022-02-20T16:45:36.843Z"
   },
   {
    "duration": 10,
    "start_time": "2022-02-20T16:45:36.896Z"
   },
   {
    "duration": 24,
    "start_time": "2022-02-20T16:45:36.908Z"
   },
   {
    "duration": 12,
    "start_time": "2022-02-20T16:45:36.934Z"
   },
   {
    "duration": 10,
    "start_time": "2022-02-20T16:45:36.947Z"
   },
   {
    "duration": 26,
    "start_time": "2022-02-20T16:45:36.959Z"
   },
   {
    "duration": 41,
    "start_time": "2022-02-20T16:45:36.989Z"
   },
   {
    "duration": 4,
    "start_time": "2022-02-20T16:45:37.032Z"
   },
   {
    "duration": 33,
    "start_time": "2022-02-20T16:45:37.038Z"
   },
   {
    "duration": 22,
    "start_time": "2022-02-20T16:45:37.073Z"
   },
   {
    "duration": 39,
    "start_time": "2022-02-20T16:45:37.097Z"
   },
   {
    "duration": 21,
    "start_time": "2022-02-20T16:45:37.138Z"
   },
   {
    "duration": 22,
    "start_time": "2022-02-20T16:45:37.161Z"
   },
   {
    "duration": 46,
    "start_time": "2022-02-20T16:45:37.185Z"
   },
   {
    "duration": 66,
    "start_time": "2022-02-20T16:45:37.234Z"
   },
   {
    "duration": 28,
    "start_time": "2022-02-20T16:45:37.302Z"
   },
   {
    "duration": 10,
    "start_time": "2022-02-20T16:45:37.332Z"
   },
   {
    "duration": 6,
    "start_time": "2022-02-20T16:45:37.344Z"
   },
   {
    "duration": 28,
    "start_time": "2022-02-20T16:45:37.352Z"
   },
   {
    "duration": 14,
    "start_time": "2022-02-20T16:45:37.382Z"
   },
   {
    "duration": 39,
    "start_time": "2022-02-20T16:45:37.398Z"
   },
   {
    "duration": 13,
    "start_time": "2022-02-20T16:45:37.439Z"
   },
   {
    "duration": 16,
    "start_time": "2022-02-20T16:45:37.454Z"
   },
   {
    "duration": 4,
    "start_time": "2022-02-20T16:45:37.472Z"
   },
   {
    "duration": 7,
    "start_time": "2022-02-20T16:45:37.478Z"
   },
   {
    "duration": 7,
    "start_time": "2022-02-20T16:45:37.488Z"
   },
   {
    "duration": 536,
    "start_time": "2022-03-02T10:52:15.073Z"
   },
   {
    "duration": 197,
    "start_time": "2022-03-02T10:52:15.612Z"
   },
   {
    "duration": 33,
    "start_time": "2022-03-02T10:52:15.811Z"
   },
   {
    "duration": 28,
    "start_time": "2022-03-02T10:52:15.849Z"
   },
   {
    "duration": 4,
    "start_time": "2022-03-02T10:52:15.879Z"
   },
   {
    "duration": 22,
    "start_time": "2022-03-02T10:52:15.885Z"
   },
   {
    "duration": 4,
    "start_time": "2022-03-02T10:52:15.909Z"
   },
   {
    "duration": 49,
    "start_time": "2022-03-02T10:52:15.915Z"
   },
   {
    "duration": 16,
    "start_time": "2022-03-02T10:52:15.967Z"
   },
   {
    "duration": 23,
    "start_time": "2022-03-02T10:52:15.985Z"
   },
   {
    "duration": 105,
    "start_time": "2022-03-02T10:52:16.010Z"
   },
   {
    "duration": 106,
    "start_time": "2022-03-02T10:52:16.117Z"
   },
   {
    "duration": 72,
    "start_time": "2022-03-02T10:52:16.232Z"
   },
   {
    "duration": 32,
    "start_time": "2022-03-02T10:52:16.306Z"
   },
   {
    "duration": 4,
    "start_time": "2022-03-02T10:52:16.340Z"
   },
   {
    "duration": 20,
    "start_time": "2022-03-02T10:52:16.345Z"
   },
   {
    "duration": 9,
    "start_time": "2022-03-02T10:52:16.367Z"
   },
   {
    "duration": 22,
    "start_time": "2022-03-02T10:52:16.378Z"
   },
   {
    "duration": 39,
    "start_time": "2022-03-02T10:52:16.402Z"
   },
   {
    "duration": 4,
    "start_time": "2022-03-02T10:52:16.443Z"
   },
   {
    "duration": 25,
    "start_time": "2022-03-02T10:52:16.448Z"
   },
   {
    "duration": 13,
    "start_time": "2022-03-02T10:52:16.475Z"
   },
   {
    "duration": 14,
    "start_time": "2022-03-02T10:52:16.491Z"
   },
   {
    "duration": 44,
    "start_time": "2022-03-02T10:52:16.506Z"
   },
   {
    "duration": 18,
    "start_time": "2022-03-02T10:52:16.551Z"
   },
   {
    "duration": 14,
    "start_time": "2022-03-02T10:52:16.571Z"
   },
   {
    "duration": 122,
    "start_time": "2022-03-02T10:52:16.586Z"
   },
   {
    "duration": 10,
    "start_time": "2022-03-02T10:52:16.710Z"
   },
   {
    "duration": 22,
    "start_time": "2022-03-02T10:52:16.722Z"
   },
   {
    "duration": 8,
    "start_time": "2022-03-02T10:52:16.749Z"
   },
   {
    "duration": 29,
    "start_time": "2022-03-02T10:52:16.759Z"
   },
   {
    "duration": 17,
    "start_time": "2022-03-02T10:52:16.790Z"
   },
   {
    "duration": 45,
    "start_time": "2022-03-02T10:52:16.808Z"
   },
   {
    "duration": 17,
    "start_time": "2022-03-02T10:52:16.855Z"
   },
   {
    "duration": 12,
    "start_time": "2022-03-02T10:52:16.874Z"
   },
   {
    "duration": 5,
    "start_time": "2022-03-02T10:52:16.888Z"
   },
   {
    "duration": 9,
    "start_time": "2022-03-02T10:52:16.895Z"
   },
   {
    "duration": 27,
    "start_time": "2022-03-02T10:52:16.906Z"
   },
   {
    "duration": 8,
    "start_time": "2022-03-02T10:54:58.098Z"
   },
   {
    "duration": 468,
    "start_time": "2022-03-02T20:00:29.962Z"
   },
   {
    "duration": 775,
    "start_time": "2022-03-02T20:00:57.980Z"
   },
   {
    "duration": 175,
    "start_time": "2022-03-02T20:00:58.758Z"
   },
   {
    "duration": 24,
    "start_time": "2022-03-02T20:00:58.937Z"
   },
   {
    "duration": 16,
    "start_time": "2022-03-02T20:00:58.964Z"
   },
   {
    "duration": 58,
    "start_time": "2022-03-02T20:00:58.982Z"
   },
   {
    "duration": 5,
    "start_time": "2022-03-02T20:00:59.042Z"
   },
   {
    "duration": 24,
    "start_time": "2022-03-02T20:00:59.049Z"
   },
   {
    "duration": 6,
    "start_time": "2022-03-02T20:00:59.077Z"
   },
   {
    "duration": 67,
    "start_time": "2022-03-02T20:00:59.086Z"
   },
   {
    "duration": 22,
    "start_time": "2022-03-02T20:00:59.155Z"
   },
   {
    "duration": 29,
    "start_time": "2022-03-02T20:00:59.180Z"
   },
   {
    "duration": 81,
    "start_time": "2022-03-02T20:00:59.232Z"
   },
   {
    "duration": 118,
    "start_time": "2022-03-02T20:00:59.315Z"
   },
   {
    "duration": 80,
    "start_time": "2022-03-02T20:00:59.436Z"
   },
   {
    "duration": 71,
    "start_time": "2022-03-02T20:00:59.519Z"
   },
   {
    "duration": 5,
    "start_time": "2022-03-02T20:00:59.593Z"
   },
   {
    "duration": 44,
    "start_time": "2022-03-02T20:00:59.601Z"
   },
   {
    "duration": 21,
    "start_time": "2022-03-02T20:00:59.648Z"
   },
   {
    "duration": 65,
    "start_time": "2022-03-02T20:00:59.672Z"
   },
   {
    "duration": 22,
    "start_time": "2022-03-02T20:00:59.740Z"
   },
   {
    "duration": 4,
    "start_time": "2022-03-02T20:00:59.765Z"
   },
   {
    "duration": 25,
    "start_time": "2022-03-02T20:00:59.772Z"
   },
   {
    "duration": 47,
    "start_time": "2022-03-02T20:00:59.802Z"
   },
   {
    "duration": 17,
    "start_time": "2022-03-02T20:00:59.852Z"
   },
   {
    "duration": 19,
    "start_time": "2022-03-02T20:00:59.872Z"
   },
   {
    "duration": 58,
    "start_time": "2022-03-02T20:00:59.894Z"
   },
   {
    "duration": 20,
    "start_time": "2022-03-02T20:00:59.955Z"
   },
   {
    "duration": 127,
    "start_time": "2022-03-02T20:00:59.978Z"
   },
   {
    "duration": 29,
    "start_time": "2022-03-02T20:01:00.108Z"
   },
   {
    "duration": 13,
    "start_time": "2022-03-02T20:01:00.139Z"
   },
   {
    "duration": 8,
    "start_time": "2022-03-02T20:01:00.155Z"
   },
   {
    "duration": 66,
    "start_time": "2022-03-02T20:01:00.166Z"
   },
   {
    "duration": 24,
    "start_time": "2022-03-02T20:01:00.236Z"
   },
   {
    "duration": 22,
    "start_time": "2022-03-02T20:01:00.262Z"
   },
   {
    "duration": 55,
    "start_time": "2022-03-02T20:01:00.286Z"
   },
   {
    "duration": 17,
    "start_time": "2022-03-02T20:01:00.344Z"
   },
   {
    "duration": 8,
    "start_time": "2022-03-02T20:01:00.364Z"
   },
   {
    "duration": 10,
    "start_time": "2022-03-02T20:01:00.375Z"
   },
   {
    "duration": 45,
    "start_time": "2022-03-02T20:01:00.387Z"
   },
   {
    "duration": 62,
    "start_time": "2022-03-02T20:12:36.280Z"
   },
   {
    "duration": 14,
    "start_time": "2022-03-02T20:13:59.751Z"
   },
   {
    "duration": 88,
    "start_time": "2022-03-02T20:16:35.513Z"
   },
   {
    "duration": 6,
    "start_time": "2022-03-02T20:20:47.609Z"
   },
   {
    "duration": 23,
    "start_time": "2022-03-02T20:20:56.688Z"
   },
   {
    "duration": 5,
    "start_time": "2022-03-02T20:21:16.611Z"
   },
   {
    "duration": 24,
    "start_time": "2022-03-02T20:21:21.140Z"
   },
   {
    "duration": 18,
    "start_time": "2022-03-02T20:22:42.504Z"
   },
   {
    "duration": 22,
    "start_time": "2022-03-02T20:22:45.328Z"
   },
   {
    "duration": 16,
    "start_time": "2022-03-02T20:22:47.440Z"
   },
   {
    "duration": 4,
    "start_time": "2022-03-02T20:23:58.860Z"
   },
   {
    "duration": 218,
    "start_time": "2022-03-02T20:23:58.866Z"
   },
   {
    "duration": 17,
    "start_time": "2022-03-02T20:23:59.087Z"
   },
   {
    "duration": 33,
    "start_time": "2022-03-02T20:23:59.106Z"
   },
   {
    "duration": 34,
    "start_time": "2022-03-02T20:23:59.141Z"
   },
   {
    "duration": 5,
    "start_time": "2022-03-02T20:23:59.177Z"
   },
   {
    "duration": 59,
    "start_time": "2022-03-02T20:23:59.184Z"
   },
   {
    "duration": 5,
    "start_time": "2022-03-02T20:23:59.247Z"
   },
   {
    "duration": 33,
    "start_time": "2022-03-02T20:23:59.255Z"
   },
   {
    "duration": 46,
    "start_time": "2022-03-02T20:23:59.291Z"
   },
   {
    "duration": 30,
    "start_time": "2022-03-02T20:23:59.339Z"
   },
   {
    "duration": 107,
    "start_time": "2022-03-02T20:23:59.371Z"
   },
   {
    "duration": 116,
    "start_time": "2022-03-02T20:23:59.481Z"
   },
   {
    "duration": 89,
    "start_time": "2022-03-02T20:23:59.599Z"
   },
   {
    "duration": 68,
    "start_time": "2022-03-02T20:23:59.690Z"
   },
   {
    "duration": 4,
    "start_time": "2022-03-02T20:23:59.761Z"
   },
   {
    "duration": 16,
    "start_time": "2022-03-02T20:23:59.768Z"
   },
   {
    "duration": 94,
    "start_time": "2022-03-02T20:23:59.786Z"
   },
   {
    "duration": 55,
    "start_time": "2022-03-02T20:23:59.883Z"
   },
   {
    "duration": 15,
    "start_time": "2022-03-02T20:23:59.941Z"
   },
   {
    "duration": 5,
    "start_time": "2022-03-02T20:23:59.959Z"
   },
   {
    "duration": 30,
    "start_time": "2022-03-02T20:23:59.966Z"
   },
   {
    "duration": 49,
    "start_time": "2022-03-02T20:24:00.001Z"
   },
   {
    "duration": 35,
    "start_time": "2022-03-02T20:24:00.053Z"
   },
   {
    "duration": 19,
    "start_time": "2022-03-02T20:24:00.090Z"
   },
   {
    "duration": 42,
    "start_time": "2022-03-02T20:24:00.111Z"
   },
   {
    "duration": 20,
    "start_time": "2022-03-02T20:24:00.155Z"
   },
   {
    "duration": 124,
    "start_time": "2022-03-02T20:24:00.177Z"
   },
   {
    "duration": 29,
    "start_time": "2022-03-02T20:24:00.303Z"
   },
   {
    "duration": 13,
    "start_time": "2022-03-02T20:24:00.335Z"
   },
   {
    "duration": 5,
    "start_time": "2022-03-02T20:24:00.351Z"
   },
   {
    "duration": 42,
    "start_time": "2022-03-02T20:24:00.358Z"
   },
   {
    "duration": 40,
    "start_time": "2022-03-02T20:24:00.402Z"
   },
   {
    "duration": 24,
    "start_time": "2022-03-02T20:24:00.445Z"
   },
   {
    "duration": 17,
    "start_time": "2022-03-02T20:24:00.472Z"
   },
   {
    "duration": 45,
    "start_time": "2022-03-02T20:24:00.492Z"
   },
   {
    "duration": 7,
    "start_time": "2022-03-02T20:24:00.540Z"
   },
   {
    "duration": 24,
    "start_time": "2022-03-02T20:24:00.549Z"
   },
   {
    "duration": 12,
    "start_time": "2022-03-02T20:24:00.575Z"
   },
   {
    "duration": 547,
    "start_time": "2022-03-02T20:35:28.350Z"
   },
   {
    "duration": 141,
    "start_time": "2022-03-02T20:35:28.899Z"
   },
   {
    "duration": 19,
    "start_time": "2022-03-02T20:35:29.043Z"
   },
   {
    "duration": 9,
    "start_time": "2022-03-02T20:35:29.063Z"
   },
   {
    "duration": 27,
    "start_time": "2022-03-02T20:35:29.073Z"
   },
   {
    "duration": 3,
    "start_time": "2022-03-02T20:35:29.102Z"
   },
   {
    "duration": 22,
    "start_time": "2022-03-02T20:35:29.137Z"
   },
   {
    "duration": 4,
    "start_time": "2022-03-02T20:35:29.160Z"
   },
   {
    "duration": 22,
    "start_time": "2022-03-02T20:35:29.166Z"
   },
   {
    "duration": 15,
    "start_time": "2022-03-02T20:35:29.191Z"
   },
   {
    "duration": 52,
    "start_time": "2022-03-02T20:35:29.208Z"
   },
   {
    "duration": 76,
    "start_time": "2022-03-02T20:35:29.261Z"
   },
   {
    "duration": 70,
    "start_time": "2022-03-02T20:35:29.339Z"
   },
   {
    "duration": 57,
    "start_time": "2022-03-02T20:35:29.411Z"
   },
   {
    "duration": 38,
    "start_time": "2022-03-02T20:35:29.469Z"
   },
   {
    "duration": 2,
    "start_time": "2022-03-02T20:35:29.509Z"
   },
   {
    "duration": 27,
    "start_time": "2022-03-02T20:35:29.513Z"
   },
   {
    "duration": 39,
    "start_time": "2022-03-02T20:35:29.542Z"
   },
   {
    "duration": 23,
    "start_time": "2022-03-02T20:35:29.583Z"
   },
   {
    "duration": 37,
    "start_time": "2022-03-02T20:35:29.608Z"
   },
   {
    "duration": 12,
    "start_time": "2022-03-02T20:35:29.647Z"
   },
   {
    "duration": 24,
    "start_time": "2022-03-02T20:35:29.661Z"
   },
   {
    "duration": 14,
    "start_time": "2022-03-02T20:35:29.686Z"
   },
   {
    "duration": 14,
    "start_time": "2022-03-02T20:35:29.701Z"
   },
   {
    "duration": 28,
    "start_time": "2022-03-02T20:35:29.716Z"
   },
   {
    "duration": 22,
    "start_time": "2022-03-02T20:35:29.746Z"
   },
   {
    "duration": 14,
    "start_time": "2022-03-02T20:35:29.771Z"
   },
   {
    "duration": 93,
    "start_time": "2022-03-02T20:35:29.787Z"
   },
   {
    "duration": 10,
    "start_time": "2022-03-02T20:35:29.882Z"
   },
   {
    "duration": 9,
    "start_time": "2022-03-02T20:35:29.894Z"
   },
   {
    "duration": 4,
    "start_time": "2022-03-02T20:35:29.904Z"
   },
   {
    "duration": 49,
    "start_time": "2022-03-02T20:35:29.910Z"
   },
   {
    "duration": 17,
    "start_time": "2022-03-02T20:35:29.963Z"
   },
   {
    "duration": 23,
    "start_time": "2022-03-02T20:35:29.982Z"
   },
   {
    "duration": 35,
    "start_time": "2022-03-02T20:35:30.007Z"
   },
   {
    "duration": 11,
    "start_time": "2022-03-02T20:35:30.044Z"
   },
   {
    "duration": 6,
    "start_time": "2022-03-02T20:35:30.056Z"
   },
   {
    "duration": 11,
    "start_time": "2022-03-02T20:35:30.063Z"
   },
   {
    "duration": 8,
    "start_time": "2022-03-02T20:35:30.075Z"
   }
  ],
  "colab": {
   "collapsed_sections": [
    "E0vqbgi9ay0H",
    "VUC88oWjTJw2"
   ],
   "name": "yandex_music_project_2021.2.ipynb",
   "provenance": []
  },
  "kernelspec": {
   "display_name": "Python 3 (ipykernel)",
   "language": "python",
   "name": "python3"
  },
  "language_info": {
   "codemirror_mode": {
    "name": "ipython",
    "version": 3
   },
   "file_extension": ".py",
   "mimetype": "text/x-python",
   "name": "python",
   "nbconvert_exporter": "python",
   "pygments_lexer": "ipython3",
   "version": "3.9.7"
  },
  "toc": {
   "base_numbering": 1,
   "nav_menu": {},
   "number_sections": true,
   "sideBar": true,
   "skip_h1_title": true,
   "title_cell": "Table of Contents",
   "title_sidebar": "Contents",
   "toc_cell": false,
   "toc_position": {
    "height": "calc(100% - 180px)",
    "left": "10px",
    "top": "150px",
    "width": "248.573px"
   },
   "toc_section_display": true,
   "toc_window_display": true
  }
 },
 "nbformat": 4,
 "nbformat_minor": 1
}
