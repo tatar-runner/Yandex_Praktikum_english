{
 "cells": [
  {
   "cell_type": "markdown",
   "metadata": {},
   "source": [
    "# Анализ тарифов сотовой связи"
   ]
  },
  {
   "cell_type": "markdown",
   "metadata": {},
   "source": [
    "Компания «Мегалайн» — федеральный оператор сотовой связи. Клиентам предлагают два тарифных плана: «Смарт» и «Ультра». Чтобы скорректировать рекламный бюджет, коммерческий департамент хочет понять, какой тариф приносит больше денег. Необходимо проанализировать поведение клиентов и сделать вывод — какой тариф лучше.\n",
    "\n",
    "\n",
    "**Описание тарифов**\n",
    "\n",
    "**Тариф «Смарт»**\n",
    "1. Ежемесячная плата: 550 рублей.\n",
    "2. Включено 500 минут разговора, 50 сообщений и 15 Гб интернет-трафика. \n",
    "3. Стоимость услуг сверх тарифного пакета:\n",
    "    * минута разговора: 3 рубля\n",
    "    * сообщение: 3 рубля\n",
    "    * 1 Гб интернет-трафика: 200 рублей\n",
    "\n",
    "**Тариф «Ультра»**\n",
    "1. Ежемесячная плата: 1950 рублей.\n",
    "2. Включено 3000 минут разговора, 1000 сообщений и 30 Гб интернет-трафика. \n",
    "3. Стоимость услуг сверх тарифного пакета:\n",
    "    * минута разговора: 1 рубль\n",
    "    * сообщение: 1 рубль\n",
    "    * 1 Гб интернет-трафика: 150 рублей\n",
    "\n",
    "\n",
    "**Ход исследования**\n",
    "\n",
    "Исследование пройдёт в шесть этапов:\n",
    " 1. Обзор данных.\n",
    " 2. Предобработка данных.\n",
    " 3. Расчеты и добавление данных в таблицу.\n",
    " 4. Анализ данных.\n",
    " 5. Проверка гипотез.\n",
    " 6. Выводы."
   ]
  },
  {
   "cell_type": "markdown",
   "metadata": {},
   "source": [
    "## Обзор данных"
   ]
  },
  {
   "cell_type": "markdown",
   "metadata": {},
   "source": [
    "Откроем таблицы и посмотрим общую информацию о них."
   ]
  },
  {
   "cell_type": "code",
   "execution_count": 1,
   "metadata": {},
   "outputs": [],
   "source": [
    "import pandas as pd # импорт библиотеки pandas\n",
    "import math # импорт библиотеки math\n",
    "import matplotlib.pyplot as plt # импорт библиотеки matplotlib.pyplot\n",
    "import numpy as np # импорт библиотеки numpy\n",
    "from scipy import stats as st # импорт библиотеки scipy stats"
   ]
  },
  {
   "cell_type": "code",
   "execution_count": 2,
   "metadata": {},
   "outputs": [
    {
     "data": {
      "text/html": [
       "<div>\n",
       "<style scoped>\n",
       "    .dataframe tbody tr th:only-of-type {\n",
       "        vertical-align: middle;\n",
       "    }\n",
       "\n",
       "    .dataframe tbody tr th {\n",
       "        vertical-align: top;\n",
       "    }\n",
       "\n",
       "    .dataframe thead th {\n",
       "        text-align: right;\n",
       "    }\n",
       "</style>\n",
       "<table border=\"1\" class=\"dataframe\">\n",
       "  <thead>\n",
       "    <tr style=\"text-align: right;\">\n",
       "      <th></th>\n",
       "      <th>id</th>\n",
       "      <th>call_date</th>\n",
       "      <th>duration</th>\n",
       "      <th>user_id</th>\n",
       "    </tr>\n",
       "  </thead>\n",
       "  <tbody>\n",
       "    <tr>\n",
       "      <th>0</th>\n",
       "      <td>1000_0</td>\n",
       "      <td>2018-07-25</td>\n",
       "      <td>0.00</td>\n",
       "      <td>1000</td>\n",
       "    </tr>\n",
       "    <tr>\n",
       "      <th>1</th>\n",
       "      <td>1000_1</td>\n",
       "      <td>2018-08-17</td>\n",
       "      <td>0.00</td>\n",
       "      <td>1000</td>\n",
       "    </tr>\n",
       "    <tr>\n",
       "      <th>2</th>\n",
       "      <td>1000_2</td>\n",
       "      <td>2018-06-11</td>\n",
       "      <td>2.85</td>\n",
       "      <td>1000</td>\n",
       "    </tr>\n",
       "    <tr>\n",
       "      <th>3</th>\n",
       "      <td>1000_3</td>\n",
       "      <td>2018-09-21</td>\n",
       "      <td>13.80</td>\n",
       "      <td>1000</td>\n",
       "    </tr>\n",
       "    <tr>\n",
       "      <th>4</th>\n",
       "      <td>1000_4</td>\n",
       "      <td>2018-12-15</td>\n",
       "      <td>5.18</td>\n",
       "      <td>1000</td>\n",
       "    </tr>\n",
       "  </tbody>\n",
       "</table>\n",
       "</div>"
      ],
      "text/plain": [
       "       id   call_date  duration  user_id\n",
       "0  1000_0  2018-07-25      0.00     1000\n",
       "1  1000_1  2018-08-17      0.00     1000\n",
       "2  1000_2  2018-06-11      2.85     1000\n",
       "3  1000_3  2018-09-21     13.80     1000\n",
       "4  1000_4  2018-12-15      5.18     1000"
      ]
     },
     "metadata": {},
     "output_type": "display_data"
    },
    {
     "name": "stdout",
     "output_type": "stream",
     "text": [
      "<class 'pandas.core.frame.DataFrame'>\n",
      "RangeIndex: 202607 entries, 0 to 202606\n",
      "Data columns (total 4 columns):\n",
      " #   Column     Non-Null Count   Dtype  \n",
      "---  ------     --------------   -----  \n",
      " 0   id         202607 non-null  object \n",
      " 1   call_date  202607 non-null  object \n",
      " 2   duration   202607 non-null  float64\n",
      " 3   user_id    202607 non-null  int64  \n",
      "dtypes: float64(1), int64(1), object(2)\n",
      "memory usage: 6.2+ MB\n"
     ]
    }
   ],
   "source": [
    "calls = pd.read_csv('/datasets/calls.csv') # чтение файла с данными и сохранение в calls\n",
    "display(calls.head()) # получение первых 5 строк таблицы calls\n",
    "calls.info() # получение общей информации о данных в таблице calls"
   ]
  },
  {
   "cell_type": "markdown",
   "metadata": {},
   "source": [
    "В таблице `calls` (информация о звонках) четыре столбца. Типы данных в столбцах разные — float64, int64, object.\n",
    "\n",
    "Согласно документации к данным:\n",
    "\n",
    "* `id` — уникальный номер звонка;\n",
    "* `call_date` — дата звонка;\n",
    "* `duration` — длительность звонка в минутах;\n",
    "* `user_id` — идентификатор пользователя, сделавшего звонок."
   ]
  },
  {
   "cell_type": "code",
   "execution_count": 3,
   "metadata": {},
   "outputs": [
    {
     "data": {
      "text/html": [
       "<div>\n",
       "<style scoped>\n",
       "    .dataframe tbody tr th:only-of-type {\n",
       "        vertical-align: middle;\n",
       "    }\n",
       "\n",
       "    .dataframe tbody tr th {\n",
       "        vertical-align: top;\n",
       "    }\n",
       "\n",
       "    .dataframe thead th {\n",
       "        text-align: right;\n",
       "    }\n",
       "</style>\n",
       "<table border=\"1\" class=\"dataframe\">\n",
       "  <thead>\n",
       "    <tr style=\"text-align: right;\">\n",
       "      <th></th>\n",
       "      <th>Unnamed: 0</th>\n",
       "      <th>id</th>\n",
       "      <th>mb_used</th>\n",
       "      <th>session_date</th>\n",
       "      <th>user_id</th>\n",
       "    </tr>\n",
       "  </thead>\n",
       "  <tbody>\n",
       "    <tr>\n",
       "      <th>0</th>\n",
       "      <td>0</td>\n",
       "      <td>1000_0</td>\n",
       "      <td>112.95</td>\n",
       "      <td>2018-11-25</td>\n",
       "      <td>1000</td>\n",
       "    </tr>\n",
       "    <tr>\n",
       "      <th>1</th>\n",
       "      <td>1</td>\n",
       "      <td>1000_1</td>\n",
       "      <td>1052.81</td>\n",
       "      <td>2018-09-07</td>\n",
       "      <td>1000</td>\n",
       "    </tr>\n",
       "    <tr>\n",
       "      <th>2</th>\n",
       "      <td>2</td>\n",
       "      <td>1000_2</td>\n",
       "      <td>1197.26</td>\n",
       "      <td>2018-06-25</td>\n",
       "      <td>1000</td>\n",
       "    </tr>\n",
       "    <tr>\n",
       "      <th>3</th>\n",
       "      <td>3</td>\n",
       "      <td>1000_3</td>\n",
       "      <td>550.27</td>\n",
       "      <td>2018-08-22</td>\n",
       "      <td>1000</td>\n",
       "    </tr>\n",
       "    <tr>\n",
       "      <th>4</th>\n",
       "      <td>4</td>\n",
       "      <td>1000_4</td>\n",
       "      <td>302.56</td>\n",
       "      <td>2018-09-24</td>\n",
       "      <td>1000</td>\n",
       "    </tr>\n",
       "  </tbody>\n",
       "</table>\n",
       "</div>"
      ],
      "text/plain": [
       "   Unnamed: 0      id  mb_used session_date  user_id\n",
       "0           0  1000_0   112.95   2018-11-25     1000\n",
       "1           1  1000_1  1052.81   2018-09-07     1000\n",
       "2           2  1000_2  1197.26   2018-06-25     1000\n",
       "3           3  1000_3   550.27   2018-08-22     1000\n",
       "4           4  1000_4   302.56   2018-09-24     1000"
      ]
     },
     "metadata": {},
     "output_type": "display_data"
    },
    {
     "name": "stdout",
     "output_type": "stream",
     "text": [
      "<class 'pandas.core.frame.DataFrame'>\n",
      "RangeIndex: 149396 entries, 0 to 149395\n",
      "Data columns (total 5 columns):\n",
      " #   Column        Non-Null Count   Dtype  \n",
      "---  ------        --------------   -----  \n",
      " 0   Unnamed: 0    149396 non-null  int64  \n",
      " 1   id            149396 non-null  object \n",
      " 2   mb_used       149396 non-null  float64\n",
      " 3   session_date  149396 non-null  object \n",
      " 4   user_id       149396 non-null  int64  \n",
      "dtypes: float64(1), int64(2), object(2)\n",
      "memory usage: 5.7+ MB\n"
     ]
    }
   ],
   "source": [
    "internet = pd.read_csv('/datasets/internet.csv') # чтение файла с данными и сохранение в internet\n",
    "display(internet.head()) # получение первых 5 строк таблицы internet\n",
    "internet.info() # получение общей информации о данных в таблице internet"
   ]
  },
  {
   "cell_type": "markdown",
   "metadata": {},
   "source": [
    "В таблице `internet` (информация об интернет-сессиях) пять столбцов. Типы данных в столбцах разные — float64, int64, object.\n",
    "\n",
    "Согласно документации к данным:\n",
    "\n",
    "* `id` — уникальный номер сессии;\n",
    "* `mb_used` — объём потраченного за сессию интернет-трафика (в мегабайтах);\n",
    "* `session_date` — дата интернет-сессии;\n",
    "* `user_id` — идентификатор пользователя.\n",
    "\n",
    "... и какой-то неопознанный столбец `Unnamed: 0`."
   ]
  },
  {
   "cell_type": "code",
   "execution_count": 4,
   "metadata": {},
   "outputs": [
    {
     "data": {
      "text/html": [
       "<div>\n",
       "<style scoped>\n",
       "    .dataframe tbody tr th:only-of-type {\n",
       "        vertical-align: middle;\n",
       "    }\n",
       "\n",
       "    .dataframe tbody tr th {\n",
       "        vertical-align: top;\n",
       "    }\n",
       "\n",
       "    .dataframe thead th {\n",
       "        text-align: right;\n",
       "    }\n",
       "</style>\n",
       "<table border=\"1\" class=\"dataframe\">\n",
       "  <thead>\n",
       "    <tr style=\"text-align: right;\">\n",
       "      <th></th>\n",
       "      <th>id</th>\n",
       "      <th>message_date</th>\n",
       "      <th>user_id</th>\n",
       "    </tr>\n",
       "  </thead>\n",
       "  <tbody>\n",
       "    <tr>\n",
       "      <th>0</th>\n",
       "      <td>1000_0</td>\n",
       "      <td>2018-06-27</td>\n",
       "      <td>1000</td>\n",
       "    </tr>\n",
       "    <tr>\n",
       "      <th>1</th>\n",
       "      <td>1000_1</td>\n",
       "      <td>2018-10-08</td>\n",
       "      <td>1000</td>\n",
       "    </tr>\n",
       "    <tr>\n",
       "      <th>2</th>\n",
       "      <td>1000_2</td>\n",
       "      <td>2018-08-04</td>\n",
       "      <td>1000</td>\n",
       "    </tr>\n",
       "    <tr>\n",
       "      <th>3</th>\n",
       "      <td>1000_3</td>\n",
       "      <td>2018-06-16</td>\n",
       "      <td>1000</td>\n",
       "    </tr>\n",
       "    <tr>\n",
       "      <th>4</th>\n",
       "      <td>1000_4</td>\n",
       "      <td>2018-12-05</td>\n",
       "      <td>1000</td>\n",
       "    </tr>\n",
       "  </tbody>\n",
       "</table>\n",
       "</div>"
      ],
      "text/plain": [
       "       id message_date  user_id\n",
       "0  1000_0   2018-06-27     1000\n",
       "1  1000_1   2018-10-08     1000\n",
       "2  1000_2   2018-08-04     1000\n",
       "3  1000_3   2018-06-16     1000\n",
       "4  1000_4   2018-12-05     1000"
      ]
     },
     "metadata": {},
     "output_type": "display_data"
    },
    {
     "name": "stdout",
     "output_type": "stream",
     "text": [
      "<class 'pandas.core.frame.DataFrame'>\n",
      "RangeIndex: 123036 entries, 0 to 123035\n",
      "Data columns (total 3 columns):\n",
      " #   Column        Non-Null Count   Dtype \n",
      "---  ------        --------------   ----- \n",
      " 0   id            123036 non-null  object\n",
      " 1   message_date  123036 non-null  object\n",
      " 2   user_id       123036 non-null  int64 \n",
      "dtypes: int64(1), object(2)\n",
      "memory usage: 2.8+ MB\n"
     ]
    }
   ],
   "source": [
    "messages = pd.read_csv('/datasets/messages.csv') # чтение файла с данными и сохранение в messages\n",
    "display(messages.head()) # получение первых 5 строк таблицы messages\n",
    "messages.info() # получение общей информации о данных в таблице messages"
   ]
  },
  {
   "cell_type": "markdown",
   "metadata": {},
   "source": [
    "В таблице `messages` (информация о сообщениях) три столбца. Типы данных в столбцах разные — int64, object.\n",
    "\n",
    "Согласно документации к данным:\n",
    "\n",
    "* `id` — уникальный номер сообщения;\n",
    "* `message_date` — дата сообщения;\n",
    "* `user_id` — идентификатор пользователя, отправившего сообщение."
   ]
  },
  {
   "cell_type": "code",
   "execution_count": 5,
   "metadata": {},
   "outputs": [
    {
     "data": {
      "text/html": [
       "<div>\n",
       "<style scoped>\n",
       "    .dataframe tbody tr th:only-of-type {\n",
       "        vertical-align: middle;\n",
       "    }\n",
       "\n",
       "    .dataframe tbody tr th {\n",
       "        vertical-align: top;\n",
       "    }\n",
       "\n",
       "    .dataframe thead th {\n",
       "        text-align: right;\n",
       "    }\n",
       "</style>\n",
       "<table border=\"1\" class=\"dataframe\">\n",
       "  <thead>\n",
       "    <tr style=\"text-align: right;\">\n",
       "      <th></th>\n",
       "      <th>messages_included</th>\n",
       "      <th>mb_per_month_included</th>\n",
       "      <th>minutes_included</th>\n",
       "      <th>rub_monthly_fee</th>\n",
       "      <th>rub_per_gb</th>\n",
       "      <th>rub_per_message</th>\n",
       "      <th>rub_per_minute</th>\n",
       "      <th>tariff_name</th>\n",
       "    </tr>\n",
       "  </thead>\n",
       "  <tbody>\n",
       "    <tr>\n",
       "      <th>0</th>\n",
       "      <td>50</td>\n",
       "      <td>15360</td>\n",
       "      <td>500</td>\n",
       "      <td>550</td>\n",
       "      <td>200</td>\n",
       "      <td>3</td>\n",
       "      <td>3</td>\n",
       "      <td>smart</td>\n",
       "    </tr>\n",
       "    <tr>\n",
       "      <th>1</th>\n",
       "      <td>1000</td>\n",
       "      <td>30720</td>\n",
       "      <td>3000</td>\n",
       "      <td>1950</td>\n",
       "      <td>150</td>\n",
       "      <td>1</td>\n",
       "      <td>1</td>\n",
       "      <td>ultra</td>\n",
       "    </tr>\n",
       "  </tbody>\n",
       "</table>\n",
       "</div>"
      ],
      "text/plain": [
       "   messages_included  mb_per_month_included  minutes_included  \\\n",
       "0                 50                  15360               500   \n",
       "1               1000                  30720              3000   \n",
       "\n",
       "   rub_monthly_fee  rub_per_gb  rub_per_message  rub_per_minute tariff_name  \n",
       "0              550         200                3               3       smart  \n",
       "1             1950         150                1               1       ultra  "
      ]
     },
     "metadata": {},
     "output_type": "display_data"
    },
    {
     "name": "stdout",
     "output_type": "stream",
     "text": [
      "<class 'pandas.core.frame.DataFrame'>\n",
      "RangeIndex: 2 entries, 0 to 1\n",
      "Data columns (total 8 columns):\n",
      " #   Column                 Non-Null Count  Dtype \n",
      "---  ------                 --------------  ----- \n",
      " 0   messages_included      2 non-null      int64 \n",
      " 1   mb_per_month_included  2 non-null      int64 \n",
      " 2   minutes_included       2 non-null      int64 \n",
      " 3   rub_monthly_fee        2 non-null      int64 \n",
      " 4   rub_per_gb             2 non-null      int64 \n",
      " 5   rub_per_message        2 non-null      int64 \n",
      " 6   rub_per_minute         2 non-null      int64 \n",
      " 7   tariff_name            2 non-null      object\n",
      "dtypes: int64(7), object(1)\n",
      "memory usage: 256.0+ bytes\n"
     ]
    }
   ],
   "source": [
    "tariffs = pd.read_csv('/datasets/tariffs.csv') # чтение файла с данными и сохранение в tariffs\n",
    "display(tariffs.head()) # получение первых 5 строк таблицы tariffs\n",
    "tariffs.info() # получение общей информации о данных в таблице tariffs"
   ]
  },
  {
   "cell_type": "markdown",
   "metadata": {},
   "source": [
    "В таблице `tariffs` (информация о тарифах) восемь столбцов. Типы данных в столбцах разные — int64, object.\n",
    "\n",
    "Согласно документации к данным:\n",
    "\n",
    "* `tariff_name` — название тарифа;\n",
    "* `rub_monthly_fee` — ежемесячная абонентская плата в рублях;\n",
    "* `minutes_included` — количество минут разговора в месяц, включённых в абонентскую плату;\n",
    "* `messages_included` — количество сообщений в месяц, включённых в абонентскую плату;\n",
    "* `mb_per_month_included` — объём интернет-трафика, включённого в абонентскую плату (в мегабайтах);\n",
    "* `rub_per_minute` — стоимость минуты разговора сверх тарифного пакета (например, если в тарифе 100 минут разговора в месяц, то со 101 минуты будет взиматься плата);\n",
    "* `rub_per_message` — стоимость отправки сообщения сверх тарифного пакета;\n",
    "* `rub_per_gb` — стоимость дополнительного гигабайта интернет-трафика сверх тарифного пакета (1 гигабайт = 1024 мегабайта)."
   ]
  },
  {
   "cell_type": "code",
   "execution_count": 6,
   "metadata": {},
   "outputs": [
    {
     "data": {
      "text/html": [
       "<div>\n",
       "<style scoped>\n",
       "    .dataframe tbody tr th:only-of-type {\n",
       "        vertical-align: middle;\n",
       "    }\n",
       "\n",
       "    .dataframe tbody tr th {\n",
       "        vertical-align: top;\n",
       "    }\n",
       "\n",
       "    .dataframe thead th {\n",
       "        text-align: right;\n",
       "    }\n",
       "</style>\n",
       "<table border=\"1\" class=\"dataframe\">\n",
       "  <thead>\n",
       "    <tr style=\"text-align: right;\">\n",
       "      <th></th>\n",
       "      <th>user_id</th>\n",
       "      <th>age</th>\n",
       "      <th>churn_date</th>\n",
       "      <th>city</th>\n",
       "      <th>first_name</th>\n",
       "      <th>last_name</th>\n",
       "      <th>reg_date</th>\n",
       "      <th>tariff</th>\n",
       "    </tr>\n",
       "  </thead>\n",
       "  <tbody>\n",
       "    <tr>\n",
       "      <th>0</th>\n",
       "      <td>1000</td>\n",
       "      <td>52</td>\n",
       "      <td>NaN</td>\n",
       "      <td>Краснодар</td>\n",
       "      <td>Рафаил</td>\n",
       "      <td>Верещагин</td>\n",
       "      <td>2018-05-25</td>\n",
       "      <td>ultra</td>\n",
       "    </tr>\n",
       "    <tr>\n",
       "      <th>1</th>\n",
       "      <td>1001</td>\n",
       "      <td>41</td>\n",
       "      <td>NaN</td>\n",
       "      <td>Москва</td>\n",
       "      <td>Иван</td>\n",
       "      <td>Ежов</td>\n",
       "      <td>2018-11-01</td>\n",
       "      <td>smart</td>\n",
       "    </tr>\n",
       "    <tr>\n",
       "      <th>2</th>\n",
       "      <td>1002</td>\n",
       "      <td>59</td>\n",
       "      <td>NaN</td>\n",
       "      <td>Стерлитамак</td>\n",
       "      <td>Евгений</td>\n",
       "      <td>Абрамович</td>\n",
       "      <td>2018-06-17</td>\n",
       "      <td>smart</td>\n",
       "    </tr>\n",
       "    <tr>\n",
       "      <th>3</th>\n",
       "      <td>1003</td>\n",
       "      <td>23</td>\n",
       "      <td>NaN</td>\n",
       "      <td>Москва</td>\n",
       "      <td>Белла</td>\n",
       "      <td>Белякова</td>\n",
       "      <td>2018-08-17</td>\n",
       "      <td>ultra</td>\n",
       "    </tr>\n",
       "    <tr>\n",
       "      <th>4</th>\n",
       "      <td>1004</td>\n",
       "      <td>68</td>\n",
       "      <td>NaN</td>\n",
       "      <td>Новокузнецк</td>\n",
       "      <td>Татьяна</td>\n",
       "      <td>Авдеенко</td>\n",
       "      <td>2018-05-14</td>\n",
       "      <td>ultra</td>\n",
       "    </tr>\n",
       "  </tbody>\n",
       "</table>\n",
       "</div>"
      ],
      "text/plain": [
       "   user_id  age churn_date         city first_name  last_name    reg_date  \\\n",
       "0     1000   52        NaN    Краснодар     Рафаил  Верещагин  2018-05-25   \n",
       "1     1001   41        NaN       Москва       Иван       Ежов  2018-11-01   \n",
       "2     1002   59        NaN  Стерлитамак    Евгений  Абрамович  2018-06-17   \n",
       "3     1003   23        NaN       Москва      Белла   Белякова  2018-08-17   \n",
       "4     1004   68        NaN  Новокузнецк    Татьяна   Авдеенко  2018-05-14   \n",
       "\n",
       "  tariff  \n",
       "0  ultra  \n",
       "1  smart  \n",
       "2  smart  \n",
       "3  ultra  \n",
       "4  ultra  "
      ]
     },
     "metadata": {},
     "output_type": "display_data"
    },
    {
     "name": "stdout",
     "output_type": "stream",
     "text": [
      "<class 'pandas.core.frame.DataFrame'>\n",
      "RangeIndex: 500 entries, 0 to 499\n",
      "Data columns (total 8 columns):\n",
      " #   Column      Non-Null Count  Dtype \n",
      "---  ------      --------------  ----- \n",
      " 0   user_id     500 non-null    int64 \n",
      " 1   age         500 non-null    int64 \n",
      " 2   churn_date  38 non-null     object\n",
      " 3   city        500 non-null    object\n",
      " 4   first_name  500 non-null    object\n",
      " 5   last_name   500 non-null    object\n",
      " 6   reg_date    500 non-null    object\n",
      " 7   tariff      500 non-null    object\n",
      "dtypes: int64(2), object(6)\n",
      "memory usage: 31.4+ KB\n"
     ]
    }
   ],
   "source": [
    "users = pd.read_csv('/datasets/users.csv') # чтение файла с данными и сохранение в users\n",
    "display(users.head()) # получение первых 5 строк таблицы users\n",
    "users.info() # получение общей информации о данных в таблице users"
   ]
  },
  {
   "cell_type": "markdown",
   "metadata": {},
   "source": [
    "В таблице `users` (информация о пользователях) восемь столбцов. Типы данных в столбцах разные — int64, object.\n",
    "\n",
    "Согласно документации к данным:\n",
    "\n",
    "* `user_id` — уникальный идентификатор пользователя;\n",
    "* `first_name` — имя пользователя;\n",
    "* `last_name` — фамилия пользователя;\n",
    "* `age` — возраст пользователя (годы);\n",
    "* `reg_date` — дата подключения тарифа (день, месяц, год);\n",
    "* `churn_date` — дата прекращения пользования тарифом (если значение пропущено, то тариф ещё действовал на момент выгрузки данных);\n",
    "* `city` — город проживания пользователя;\n",
    "* `tariff` — название тарифного плана."
   ]
  },
  {
   "cell_type": "markdown",
   "metadata": {},
   "source": [
    "**Выводы**\n",
    "\n",
    "По результатам первичного обзора таблиц можно утверждать, что в некоторых таблицах имеются небольшие проблемы со столбцами и типами данных. Займемся предобработкой данных."
   ]
  },
  {
   "cell_type": "markdown",
   "metadata": {},
   "source": [
    "## Предобработка данных"
   ]
  },
  {
   "cell_type": "markdown",
   "metadata": {},
   "source": [
    "Приведём типы данных в столбцах таблиц к корректному типу. Во всех таблицах данные о времени имеют тип `object`, изменим тип на `datetime`."
   ]
  },
  {
   "cell_type": "code",
   "execution_count": 7,
   "metadata": {},
   "outputs": [],
   "source": [
    "calls['call_date'] = pd.to_datetime(calls['call_date']) # изменение типа данных в столбце 'call_date' таблицы 'calls'\n",
    "internet['session_date'] = pd.to_datetime(internet['session_date']) # изменение типа данных в столбце 'session_date' таблицы 'internet'\n",
    "messages['message_date'] = pd.to_datetime(messages['message_date']) # изменение типа данных в столбце 'message_date' таблицы 'messages'\n",
    "users['churn_date'] = pd.to_datetime(users['churn_date']) # изменение типа данных в столбце 'churn_date' таблицы 'users'\n",
    "users['reg_date'] = pd.to_datetime(users['reg_date']) # изменение типа данных в столбце 'reg_date' таблицы 'users'"
   ]
  },
  {
   "cell_type": "code",
   "execution_count": 8,
   "metadata": {},
   "outputs": [
    {
     "name": "stdout",
     "output_type": "stream",
     "text": [
      "<class 'pandas.core.frame.DataFrame'>\n",
      "RangeIndex: 202607 entries, 0 to 202606\n",
      "Data columns (total 4 columns):\n",
      " #   Column     Non-Null Count   Dtype         \n",
      "---  ------     --------------   -----         \n",
      " 0   id         202607 non-null  object        \n",
      " 1   call_date  202607 non-null  datetime64[ns]\n",
      " 2   duration   202607 non-null  float64       \n",
      " 3   user_id    202607 non-null  int64         \n",
      "dtypes: datetime64[ns](1), float64(1), int64(1), object(1)\n",
      "memory usage: 6.2+ MB\n",
      "<class 'pandas.core.frame.DataFrame'>\n",
      "RangeIndex: 149396 entries, 0 to 149395\n",
      "Data columns (total 5 columns):\n",
      " #   Column        Non-Null Count   Dtype         \n",
      "---  ------        --------------   -----         \n",
      " 0   Unnamed: 0    149396 non-null  int64         \n",
      " 1   id            149396 non-null  object        \n",
      " 2   mb_used       149396 non-null  float64       \n",
      " 3   session_date  149396 non-null  datetime64[ns]\n",
      " 4   user_id       149396 non-null  int64         \n",
      "dtypes: datetime64[ns](1), float64(1), int64(2), object(1)\n",
      "memory usage: 5.7+ MB\n",
      "<class 'pandas.core.frame.DataFrame'>\n",
      "RangeIndex: 123036 entries, 0 to 123035\n",
      "Data columns (total 3 columns):\n",
      " #   Column        Non-Null Count   Dtype         \n",
      "---  ------        --------------   -----         \n",
      " 0   id            123036 non-null  object        \n",
      " 1   message_date  123036 non-null  datetime64[ns]\n",
      " 2   user_id       123036 non-null  int64         \n",
      "dtypes: datetime64[ns](1), int64(1), object(1)\n",
      "memory usage: 2.8+ MB\n",
      "<class 'pandas.core.frame.DataFrame'>\n",
      "RangeIndex: 500 entries, 0 to 499\n",
      "Data columns (total 8 columns):\n",
      " #   Column      Non-Null Count  Dtype         \n",
      "---  ------      --------------  -----         \n",
      " 0   user_id     500 non-null    int64         \n",
      " 1   age         500 non-null    int64         \n",
      " 2   churn_date  38 non-null     datetime64[ns]\n",
      " 3   city        500 non-null    object        \n",
      " 4   first_name  500 non-null    object        \n",
      " 5   last_name   500 non-null    object        \n",
      " 6   reg_date    500 non-null    datetime64[ns]\n",
      " 7   tariff      500 non-null    object        \n",
      "dtypes: datetime64[ns](2), int64(2), object(4)\n",
      "memory usage: 31.4+ KB\n"
     ]
    }
   ],
   "source": [
    "calls.info() # проверка\n",
    "internet.info()\n",
    "messages.info()\n",
    "users.info()"
   ]
  },
  {
   "cell_type": "markdown",
   "metadata": {},
   "source": [
    "В таблице `internet` присутствует лишний столбец `Unnamed: 0`, избавимся от него."
   ]
  },
  {
   "cell_type": "code",
   "execution_count": 9,
   "metadata": {},
   "outputs": [
    {
     "data": {
      "text/html": [
       "<div>\n",
       "<style scoped>\n",
       "    .dataframe tbody tr th:only-of-type {\n",
       "        vertical-align: middle;\n",
       "    }\n",
       "\n",
       "    .dataframe tbody tr th {\n",
       "        vertical-align: top;\n",
       "    }\n",
       "\n",
       "    .dataframe thead th {\n",
       "        text-align: right;\n",
       "    }\n",
       "</style>\n",
       "<table border=\"1\" class=\"dataframe\">\n",
       "  <thead>\n",
       "    <tr style=\"text-align: right;\">\n",
       "      <th></th>\n",
       "      <th>id</th>\n",
       "      <th>mb_used</th>\n",
       "      <th>session_date</th>\n",
       "      <th>user_id</th>\n",
       "    </tr>\n",
       "  </thead>\n",
       "  <tbody>\n",
       "    <tr>\n",
       "      <th>0</th>\n",
       "      <td>1000_0</td>\n",
       "      <td>112.95</td>\n",
       "      <td>2018-11-25</td>\n",
       "      <td>1000</td>\n",
       "    </tr>\n",
       "    <tr>\n",
       "      <th>1</th>\n",
       "      <td>1000_1</td>\n",
       "      <td>1052.81</td>\n",
       "      <td>2018-09-07</td>\n",
       "      <td>1000</td>\n",
       "    </tr>\n",
       "    <tr>\n",
       "      <th>2</th>\n",
       "      <td>1000_2</td>\n",
       "      <td>1197.26</td>\n",
       "      <td>2018-06-25</td>\n",
       "      <td>1000</td>\n",
       "    </tr>\n",
       "    <tr>\n",
       "      <th>3</th>\n",
       "      <td>1000_3</td>\n",
       "      <td>550.27</td>\n",
       "      <td>2018-08-22</td>\n",
       "      <td>1000</td>\n",
       "    </tr>\n",
       "    <tr>\n",
       "      <th>4</th>\n",
       "      <td>1000_4</td>\n",
       "      <td>302.56</td>\n",
       "      <td>2018-09-24</td>\n",
       "      <td>1000</td>\n",
       "    </tr>\n",
       "  </tbody>\n",
       "</table>\n",
       "</div>"
      ],
      "text/plain": [
       "       id  mb_used session_date  user_id\n",
       "0  1000_0   112.95   2018-11-25     1000\n",
       "1  1000_1  1052.81   2018-09-07     1000\n",
       "2  1000_2  1197.26   2018-06-25     1000\n",
       "3  1000_3   550.27   2018-08-22     1000\n",
       "4  1000_4   302.56   2018-09-24     1000"
      ]
     },
     "execution_count": 9,
     "metadata": {},
     "output_type": "execute_result"
    }
   ],
   "source": [
    "internet = internet.drop(columns=['Unnamed: 0']) # удаление столбца 'Unnamed: 0'\n",
    "internet.head() # проверка"
   ]
  },
  {
   "cell_type": "markdown",
   "metadata": {},
   "source": [
    "Мы знаем, что «Мегалайн» всегда округляет секунды до минут для каждого звонка. Округлим соответствующие значения в столбце `duration` в таблице `calls` до большего целого значения."
   ]
  },
  {
   "cell_type": "code",
   "execution_count": 10,
   "metadata": {},
   "outputs": [
    {
     "data": {
      "text/html": [
       "<div>\n",
       "<style scoped>\n",
       "    .dataframe tbody tr th:only-of-type {\n",
       "        vertical-align: middle;\n",
       "    }\n",
       "\n",
       "    .dataframe tbody tr th {\n",
       "        vertical-align: top;\n",
       "    }\n",
       "\n",
       "    .dataframe thead th {\n",
       "        text-align: right;\n",
       "    }\n",
       "</style>\n",
       "<table border=\"1\" class=\"dataframe\">\n",
       "  <thead>\n",
       "    <tr style=\"text-align: right;\">\n",
       "      <th></th>\n",
       "      <th>id</th>\n",
       "      <th>call_date</th>\n",
       "      <th>duration</th>\n",
       "      <th>user_id</th>\n",
       "    </tr>\n",
       "  </thead>\n",
       "  <tbody>\n",
       "    <tr>\n",
       "      <th>0</th>\n",
       "      <td>1000_0</td>\n",
       "      <td>2018-07-25</td>\n",
       "      <td>0</td>\n",
       "      <td>1000</td>\n",
       "    </tr>\n",
       "    <tr>\n",
       "      <th>1</th>\n",
       "      <td>1000_1</td>\n",
       "      <td>2018-08-17</td>\n",
       "      <td>0</td>\n",
       "      <td>1000</td>\n",
       "    </tr>\n",
       "    <tr>\n",
       "      <th>2</th>\n",
       "      <td>1000_2</td>\n",
       "      <td>2018-06-11</td>\n",
       "      <td>3</td>\n",
       "      <td>1000</td>\n",
       "    </tr>\n",
       "    <tr>\n",
       "      <th>3</th>\n",
       "      <td>1000_3</td>\n",
       "      <td>2018-09-21</td>\n",
       "      <td>14</td>\n",
       "      <td>1000</td>\n",
       "    </tr>\n",
       "    <tr>\n",
       "      <th>4</th>\n",
       "      <td>1000_4</td>\n",
       "      <td>2018-12-15</td>\n",
       "      <td>6</td>\n",
       "      <td>1000</td>\n",
       "    </tr>\n",
       "  </tbody>\n",
       "</table>\n",
       "</div>"
      ],
      "text/plain": [
       "       id  call_date  duration  user_id\n",
       "0  1000_0 2018-07-25         0     1000\n",
       "1  1000_1 2018-08-17         0     1000\n",
       "2  1000_2 2018-06-11         3     1000\n",
       "3  1000_3 2018-09-21        14     1000\n",
       "4  1000_4 2018-12-15         6     1000"
      ]
     },
     "execution_count": 10,
     "metadata": {},
     "output_type": "execute_result"
    }
   ],
   "source": [
    "calls['duration'] = calls['duration'].apply(math.ceil) # округление значений в столбце 'duration' \n",
    "calls.head() # проверка "
   ]
  },
  {
   "cell_type": "markdown",
   "metadata": {},
   "source": [
    "## Расчеты и добавление данных в таблицу"
   ]
  },
  {
   "cell_type": "markdown",
   "metadata": {},
   "source": [
    "Посчитаем для каждого пользователя количество сделанных звонков и израсходованных минут разговора по месяцам. Для начала сформируем вспомогательный датафрейм `users_tariff` из столбцов 'user_id', 'tariff' и 'city' таблицы `users`, он нам понадобится для составления нужных нам таблиц."
   ]
  },
  {
   "cell_type": "code",
   "execution_count": 11,
   "metadata": {},
   "outputs": [
    {
     "data": {
      "text/html": [
       "<div>\n",
       "<style scoped>\n",
       "    .dataframe tbody tr th:only-of-type {\n",
       "        vertical-align: middle;\n",
       "    }\n",
       "\n",
       "    .dataframe tbody tr th {\n",
       "        vertical-align: top;\n",
       "    }\n",
       "\n",
       "    .dataframe thead th {\n",
       "        text-align: right;\n",
       "    }\n",
       "</style>\n",
       "<table border=\"1\" class=\"dataframe\">\n",
       "  <thead>\n",
       "    <tr style=\"text-align: right;\">\n",
       "      <th></th>\n",
       "      <th>user_id</th>\n",
       "      <th>tariff</th>\n",
       "      <th>city</th>\n",
       "    </tr>\n",
       "  </thead>\n",
       "  <tbody>\n",
       "    <tr>\n",
       "      <th>0</th>\n",
       "      <td>1000</td>\n",
       "      <td>ultra</td>\n",
       "      <td>Краснодар</td>\n",
       "    </tr>\n",
       "    <tr>\n",
       "      <th>1</th>\n",
       "      <td>1001</td>\n",
       "      <td>smart</td>\n",
       "      <td>Москва</td>\n",
       "    </tr>\n",
       "    <tr>\n",
       "      <th>2</th>\n",
       "      <td>1002</td>\n",
       "      <td>smart</td>\n",
       "      <td>Стерлитамак</td>\n",
       "    </tr>\n",
       "    <tr>\n",
       "      <th>3</th>\n",
       "      <td>1003</td>\n",
       "      <td>ultra</td>\n",
       "      <td>Москва</td>\n",
       "    </tr>\n",
       "    <tr>\n",
       "      <th>4</th>\n",
       "      <td>1004</td>\n",
       "      <td>ultra</td>\n",
       "      <td>Новокузнецк</td>\n",
       "    </tr>\n",
       "  </tbody>\n",
       "</table>\n",
       "</div>"
      ],
      "text/plain": [
       "   user_id tariff         city\n",
       "0     1000  ultra    Краснодар\n",
       "1     1001  smart       Москва\n",
       "2     1002  smart  Стерлитамак\n",
       "3     1003  ultra       Москва\n",
       "4     1004  ultra  Новокузнецк"
      ]
     },
     "execution_count": 11,
     "metadata": {},
     "output_type": "execute_result"
    }
   ],
   "source": [
    "users_tariff = users[['user_id', 'tariff', 'city']] # формирование вспомогательного датафрейма\n",
    "users_tariff.head() # проверка"
   ]
  },
  {
   "cell_type": "markdown",
   "metadata": {},
   "source": [
    "Теперь можно проверить за какой диапазон времени представлены данные в таблице `calls`. "
   ]
  },
  {
   "cell_type": "code",
   "execution_count": 12,
   "metadata": {},
   "outputs": [
    {
     "name": "stdout",
     "output_type": "stream",
     "text": [
      "Данные в таблице 'calls' представлены в диапазоне от 2018-01-01 00:00:00 до 2018-12-31 00:00:00\n"
     ]
    }
   ],
   "source": [
    "print('Данные в таблице \\'calls\\' представлены в диапазоне от', min(calls['call_date']), 'до', max(calls['call_date']))"
   ]
  },
  {
   "cell_type": "markdown",
   "metadata": {},
   "source": [
    "Добавим в таблицу `calls` столбец `call_month`, где будет указан месяц звонка."
   ]
  },
  {
   "cell_type": "code",
   "execution_count": 13,
   "metadata": {},
   "outputs": [
    {
     "data": {
      "text/html": [
       "<div>\n",
       "<style scoped>\n",
       "    .dataframe tbody tr th:only-of-type {\n",
       "        vertical-align: middle;\n",
       "    }\n",
       "\n",
       "    .dataframe tbody tr th {\n",
       "        vertical-align: top;\n",
       "    }\n",
       "\n",
       "    .dataframe thead th {\n",
       "        text-align: right;\n",
       "    }\n",
       "</style>\n",
       "<table border=\"1\" class=\"dataframe\">\n",
       "  <thead>\n",
       "    <tr style=\"text-align: right;\">\n",
       "      <th></th>\n",
       "      <th>id</th>\n",
       "      <th>call_date</th>\n",
       "      <th>duration</th>\n",
       "      <th>user_id</th>\n",
       "      <th>month</th>\n",
       "    </tr>\n",
       "  </thead>\n",
       "  <tbody>\n",
       "    <tr>\n",
       "      <th>0</th>\n",
       "      <td>1000_0</td>\n",
       "      <td>2018-07-25</td>\n",
       "      <td>0</td>\n",
       "      <td>1000</td>\n",
       "      <td>7</td>\n",
       "    </tr>\n",
       "    <tr>\n",
       "      <th>1</th>\n",
       "      <td>1000_1</td>\n",
       "      <td>2018-08-17</td>\n",
       "      <td>0</td>\n",
       "      <td>1000</td>\n",
       "      <td>8</td>\n",
       "    </tr>\n",
       "    <tr>\n",
       "      <th>2</th>\n",
       "      <td>1000_2</td>\n",
       "      <td>2018-06-11</td>\n",
       "      <td>3</td>\n",
       "      <td>1000</td>\n",
       "      <td>6</td>\n",
       "    </tr>\n",
       "    <tr>\n",
       "      <th>3</th>\n",
       "      <td>1000_3</td>\n",
       "      <td>2018-09-21</td>\n",
       "      <td>14</td>\n",
       "      <td>1000</td>\n",
       "      <td>9</td>\n",
       "    </tr>\n",
       "    <tr>\n",
       "      <th>4</th>\n",
       "      <td>1000_4</td>\n",
       "      <td>2018-12-15</td>\n",
       "      <td>6</td>\n",
       "      <td>1000</td>\n",
       "      <td>12</td>\n",
       "    </tr>\n",
       "  </tbody>\n",
       "</table>\n",
       "</div>"
      ],
      "text/plain": [
       "       id  call_date  duration  user_id  month\n",
       "0  1000_0 2018-07-25         0     1000      7\n",
       "1  1000_1 2018-08-17         0     1000      8\n",
       "2  1000_2 2018-06-11         3     1000      6\n",
       "3  1000_3 2018-09-21        14     1000      9\n",
       "4  1000_4 2018-12-15         6     1000     12"
      ]
     },
     "execution_count": 13,
     "metadata": {},
     "output_type": "execute_result"
    }
   ],
   "source": [
    "calls['month'] = calls['call_date'].dt.month # создание вспомогательного столбца\n",
    "calls.head() # проверка"
   ]
  },
  {
   "cell_type": "markdown",
   "metadata": {},
   "source": [
    "Создадим вспомогательный датафрейм `calls_by_month`, где посчитаем для каждого пользователя количество сделанных звонков по месяцам и их длительность."
   ]
  },
  {
   "cell_type": "code",
   "execution_count": 14,
   "metadata": {},
   "outputs": [
    {
     "data": {
      "text/html": [
       "<div>\n",
       "<style scoped>\n",
       "    .dataframe tbody tr th:only-of-type {\n",
       "        vertical-align: middle;\n",
       "    }\n",
       "\n",
       "    .dataframe tbody tr th {\n",
       "        vertical-align: top;\n",
       "    }\n",
       "\n",
       "    .dataframe thead th {\n",
       "        text-align: right;\n",
       "    }\n",
       "</style>\n",
       "<table border=\"1\" class=\"dataframe\">\n",
       "  <thead>\n",
       "    <tr style=\"text-align: right;\">\n",
       "      <th></th>\n",
       "      <th>user_id</th>\n",
       "      <th>month</th>\n",
       "      <th>calls_count</th>\n",
       "      <th>calls_sum</th>\n",
       "    </tr>\n",
       "  </thead>\n",
       "  <tbody>\n",
       "    <tr>\n",
       "      <th>0</th>\n",
       "      <td>1000</td>\n",
       "      <td>5</td>\n",
       "      <td>22</td>\n",
       "      <td>159</td>\n",
       "    </tr>\n",
       "    <tr>\n",
       "      <th>1</th>\n",
       "      <td>1000</td>\n",
       "      <td>6</td>\n",
       "      <td>43</td>\n",
       "      <td>172</td>\n",
       "    </tr>\n",
       "    <tr>\n",
       "      <th>2</th>\n",
       "      <td>1000</td>\n",
       "      <td>7</td>\n",
       "      <td>47</td>\n",
       "      <td>340</td>\n",
       "    </tr>\n",
       "    <tr>\n",
       "      <th>3</th>\n",
       "      <td>1000</td>\n",
       "      <td>8</td>\n",
       "      <td>52</td>\n",
       "      <td>408</td>\n",
       "    </tr>\n",
       "    <tr>\n",
       "      <th>4</th>\n",
       "      <td>1000</td>\n",
       "      <td>9</td>\n",
       "      <td>58</td>\n",
       "      <td>466</td>\n",
       "    </tr>\n",
       "  </tbody>\n",
       "</table>\n",
       "</div>"
      ],
      "text/plain": [
       "   user_id  month  calls_count  calls_sum\n",
       "0     1000      5           22        159\n",
       "1     1000      6           43        172\n",
       "2     1000      7           47        340\n",
       "3     1000      8           52        408\n",
       "4     1000      9           58        466"
      ]
     },
     "execution_count": 14,
     "metadata": {},
     "output_type": "execute_result"
    }
   ],
   "source": [
    "calls_by_month = (\n",
    "    calls\n",
    "    .pivot_table(index=['user_id', 'month'], values='duration', aggfunc=['count', 'sum']) # составление сводной таблицы\n",
    "    .reset_index() # сброс индексов\n",
    ")\n",
    "calls_by_month.columns = ['user_id', 'month', 'calls_count', 'calls_sum'] # переименование столбцов\n",
    "calls_by_month.head() # проверка"
   ]
  },
  {
   "cell_type": "markdown",
   "metadata": {},
   "source": [
    "Посчитаем для каждого пользователя количество отправленных сообщений по месяцам. Для начала проверим за какой диапазон времени представлены данные в таблице `messages`. "
   ]
  },
  {
   "cell_type": "code",
   "execution_count": 15,
   "metadata": {},
   "outputs": [
    {
     "name": "stdout",
     "output_type": "stream",
     "text": [
      "Данные в таблице 'messages' представлены в диапазоне от 2018-01-02 00:00:00 до 2018-12-31 00:00:00\n"
     ]
    }
   ],
   "source": [
    "print('Данные в таблице \\'messages\\' представлены в диапазоне от', min(messages['message_date']), 'до', max(messages['message_date']))"
   ]
  },
  {
   "cell_type": "markdown",
   "metadata": {},
   "source": [
    "Добавим в таблицу `messages` столбец `message_month`, где будет указан месяц сообщения."
   ]
  },
  {
   "cell_type": "code",
   "execution_count": 16,
   "metadata": {},
   "outputs": [
    {
     "data": {
      "text/html": [
       "<div>\n",
       "<style scoped>\n",
       "    .dataframe tbody tr th:only-of-type {\n",
       "        vertical-align: middle;\n",
       "    }\n",
       "\n",
       "    .dataframe tbody tr th {\n",
       "        vertical-align: top;\n",
       "    }\n",
       "\n",
       "    .dataframe thead th {\n",
       "        text-align: right;\n",
       "    }\n",
       "</style>\n",
       "<table border=\"1\" class=\"dataframe\">\n",
       "  <thead>\n",
       "    <tr style=\"text-align: right;\">\n",
       "      <th></th>\n",
       "      <th>id</th>\n",
       "      <th>message_date</th>\n",
       "      <th>user_id</th>\n",
       "      <th>month</th>\n",
       "    </tr>\n",
       "  </thead>\n",
       "  <tbody>\n",
       "    <tr>\n",
       "      <th>0</th>\n",
       "      <td>1000_0</td>\n",
       "      <td>2018-06-27</td>\n",
       "      <td>1000</td>\n",
       "      <td>6</td>\n",
       "    </tr>\n",
       "    <tr>\n",
       "      <th>1</th>\n",
       "      <td>1000_1</td>\n",
       "      <td>2018-10-08</td>\n",
       "      <td>1000</td>\n",
       "      <td>10</td>\n",
       "    </tr>\n",
       "    <tr>\n",
       "      <th>2</th>\n",
       "      <td>1000_2</td>\n",
       "      <td>2018-08-04</td>\n",
       "      <td>1000</td>\n",
       "      <td>8</td>\n",
       "    </tr>\n",
       "    <tr>\n",
       "      <th>3</th>\n",
       "      <td>1000_3</td>\n",
       "      <td>2018-06-16</td>\n",
       "      <td>1000</td>\n",
       "      <td>6</td>\n",
       "    </tr>\n",
       "    <tr>\n",
       "      <th>4</th>\n",
       "      <td>1000_4</td>\n",
       "      <td>2018-12-05</td>\n",
       "      <td>1000</td>\n",
       "      <td>12</td>\n",
       "    </tr>\n",
       "  </tbody>\n",
       "</table>\n",
       "</div>"
      ],
      "text/plain": [
       "       id message_date  user_id  month\n",
       "0  1000_0   2018-06-27     1000      6\n",
       "1  1000_1   2018-10-08     1000     10\n",
       "2  1000_2   2018-08-04     1000      8\n",
       "3  1000_3   2018-06-16     1000      6\n",
       "4  1000_4   2018-12-05     1000     12"
      ]
     },
     "execution_count": 16,
     "metadata": {},
     "output_type": "execute_result"
    }
   ],
   "source": [
    "messages['month'] = messages['message_date'].dt.month # создание вспомогательного столбца\n",
    "messages.head() # проверка"
   ]
  },
  {
   "cell_type": "markdown",
   "metadata": {},
   "source": [
    "Создадим вспомогательный датафрейм `messages_by_month`, где посчитаем для каждого пользователя количество отправленных сообщений по месяцам."
   ]
  },
  {
   "cell_type": "code",
   "execution_count": 17,
   "metadata": {},
   "outputs": [
    {
     "data": {
      "text/html": [
       "<div>\n",
       "<style scoped>\n",
       "    .dataframe tbody tr th:only-of-type {\n",
       "        vertical-align: middle;\n",
       "    }\n",
       "\n",
       "    .dataframe tbody tr th {\n",
       "        vertical-align: top;\n",
       "    }\n",
       "\n",
       "    .dataframe thead th {\n",
       "        text-align: right;\n",
       "    }\n",
       "</style>\n",
       "<table border=\"1\" class=\"dataframe\">\n",
       "  <thead>\n",
       "    <tr style=\"text-align: right;\">\n",
       "      <th></th>\n",
       "      <th>user_id</th>\n",
       "      <th>month</th>\n",
       "      <th>messages_count</th>\n",
       "    </tr>\n",
       "  </thead>\n",
       "  <tbody>\n",
       "    <tr>\n",
       "      <th>0</th>\n",
       "      <td>1000</td>\n",
       "      <td>5</td>\n",
       "      <td>22</td>\n",
       "    </tr>\n",
       "    <tr>\n",
       "      <th>1</th>\n",
       "      <td>1000</td>\n",
       "      <td>6</td>\n",
       "      <td>60</td>\n",
       "    </tr>\n",
       "    <tr>\n",
       "      <th>2</th>\n",
       "      <td>1000</td>\n",
       "      <td>7</td>\n",
       "      <td>75</td>\n",
       "    </tr>\n",
       "    <tr>\n",
       "      <th>3</th>\n",
       "      <td>1000</td>\n",
       "      <td>8</td>\n",
       "      <td>81</td>\n",
       "    </tr>\n",
       "    <tr>\n",
       "      <th>4</th>\n",
       "      <td>1000</td>\n",
       "      <td>9</td>\n",
       "      <td>57</td>\n",
       "    </tr>\n",
       "  </tbody>\n",
       "</table>\n",
       "</div>"
      ],
      "text/plain": [
       "   user_id  month  messages_count\n",
       "0     1000      5              22\n",
       "1     1000      6              60\n",
       "2     1000      7              75\n",
       "3     1000      8              81\n",
       "4     1000      9              57"
      ]
     },
     "execution_count": 17,
     "metadata": {},
     "output_type": "execute_result"
    }
   ],
   "source": [
    "messages_by_month = (\n",
    "    messages\n",
    "    .pivot_table(index=['user_id', 'month'], values='id', aggfunc='count') # составление сводной таблицы\n",
    "    .reset_index() # сброс индексов\n",
    ")\n",
    "messages_by_month.columns = ['user_id', 'month', 'messages_count'] # переименование столбцов\n",
    "messages_by_month.head() # проверка"
   ]
  },
  {
   "cell_type": "markdown",
   "metadata": {},
   "source": [
    "Посчитаем для каждого пользователя объем израсходованного интернет-трафика по месяцам. Для начала проверим за какой диапазон времени представлены данные в таблице `internet`. "
   ]
  },
  {
   "cell_type": "code",
   "execution_count": 18,
   "metadata": {},
   "outputs": [
    {
     "name": "stdout",
     "output_type": "stream",
     "text": [
      "Данные в таблице 'internet' представлены в диапазоне от 2018-01-01 00:00:00 до 2018-12-31 00:00:00\n"
     ]
    }
   ],
   "source": [
    "print('Данные в таблице \\'internet\\' представлены в диапазоне от', min(internet['session_date']), 'до', max(internet['session_date']))"
   ]
  },
  {
   "cell_type": "markdown",
   "metadata": {},
   "source": [
    "Добавим в таблицу `internet` вспомогательный столбец `session_month`, где будет указан месяц интернет-сессии."
   ]
  },
  {
   "cell_type": "code",
   "execution_count": 19,
   "metadata": {},
   "outputs": [
    {
     "data": {
      "text/html": [
       "<div>\n",
       "<style scoped>\n",
       "    .dataframe tbody tr th:only-of-type {\n",
       "        vertical-align: middle;\n",
       "    }\n",
       "\n",
       "    .dataframe tbody tr th {\n",
       "        vertical-align: top;\n",
       "    }\n",
       "\n",
       "    .dataframe thead th {\n",
       "        text-align: right;\n",
       "    }\n",
       "</style>\n",
       "<table border=\"1\" class=\"dataframe\">\n",
       "  <thead>\n",
       "    <tr style=\"text-align: right;\">\n",
       "      <th></th>\n",
       "      <th>id</th>\n",
       "      <th>mb_used</th>\n",
       "      <th>session_date</th>\n",
       "      <th>user_id</th>\n",
       "      <th>month</th>\n",
       "    </tr>\n",
       "  </thead>\n",
       "  <tbody>\n",
       "    <tr>\n",
       "      <th>0</th>\n",
       "      <td>1000_0</td>\n",
       "      <td>112.95</td>\n",
       "      <td>2018-11-25</td>\n",
       "      <td>1000</td>\n",
       "      <td>11</td>\n",
       "    </tr>\n",
       "    <tr>\n",
       "      <th>1</th>\n",
       "      <td>1000_1</td>\n",
       "      <td>1052.81</td>\n",
       "      <td>2018-09-07</td>\n",
       "      <td>1000</td>\n",
       "      <td>9</td>\n",
       "    </tr>\n",
       "    <tr>\n",
       "      <th>2</th>\n",
       "      <td>1000_2</td>\n",
       "      <td>1197.26</td>\n",
       "      <td>2018-06-25</td>\n",
       "      <td>1000</td>\n",
       "      <td>6</td>\n",
       "    </tr>\n",
       "    <tr>\n",
       "      <th>3</th>\n",
       "      <td>1000_3</td>\n",
       "      <td>550.27</td>\n",
       "      <td>2018-08-22</td>\n",
       "      <td>1000</td>\n",
       "      <td>8</td>\n",
       "    </tr>\n",
       "    <tr>\n",
       "      <th>4</th>\n",
       "      <td>1000_4</td>\n",
       "      <td>302.56</td>\n",
       "      <td>2018-09-24</td>\n",
       "      <td>1000</td>\n",
       "      <td>9</td>\n",
       "    </tr>\n",
       "  </tbody>\n",
       "</table>\n",
       "</div>"
      ],
      "text/plain": [
       "       id  mb_used session_date  user_id  month\n",
       "0  1000_0   112.95   2018-11-25     1000     11\n",
       "1  1000_1  1052.81   2018-09-07     1000      9\n",
       "2  1000_2  1197.26   2018-06-25     1000      6\n",
       "3  1000_3   550.27   2018-08-22     1000      8\n",
       "4  1000_4   302.56   2018-09-24     1000      9"
      ]
     },
     "execution_count": 19,
     "metadata": {},
     "output_type": "execute_result"
    }
   ],
   "source": [
    "internet['month'] = internet['session_date'].dt.month # создание вспомогательного столбца\n",
    "internet.head() # проверка"
   ]
  },
  {
   "cell_type": "markdown",
   "metadata": {},
   "source": [
    "Создадим вспомогательный датафрейм `internet_by_month`, где посчитаем для каждого пользователя объем израсходованного интернет-трафика по месяцам."
   ]
  },
  {
   "cell_type": "code",
   "execution_count": 20,
   "metadata": {},
   "outputs": [
    {
     "data": {
      "text/html": [
       "<div>\n",
       "<style scoped>\n",
       "    .dataframe tbody tr th:only-of-type {\n",
       "        vertical-align: middle;\n",
       "    }\n",
       "\n",
       "    .dataframe tbody tr th {\n",
       "        vertical-align: top;\n",
       "    }\n",
       "\n",
       "    .dataframe thead th {\n",
       "        text-align: right;\n",
       "    }\n",
       "</style>\n",
       "<table border=\"1\" class=\"dataframe\">\n",
       "  <thead>\n",
       "    <tr style=\"text-align: right;\">\n",
       "      <th></th>\n",
       "      <th>user_id</th>\n",
       "      <th>month</th>\n",
       "      <th>mb_used</th>\n",
       "    </tr>\n",
       "  </thead>\n",
       "  <tbody>\n",
       "    <tr>\n",
       "      <th>0</th>\n",
       "      <td>1000</td>\n",
       "      <td>5</td>\n",
       "      <td>2253.49</td>\n",
       "    </tr>\n",
       "    <tr>\n",
       "      <th>1</th>\n",
       "      <td>1000</td>\n",
       "      <td>6</td>\n",
       "      <td>23233.77</td>\n",
       "    </tr>\n",
       "    <tr>\n",
       "      <th>2</th>\n",
       "      <td>1000</td>\n",
       "      <td>7</td>\n",
       "      <td>14003.64</td>\n",
       "    </tr>\n",
       "    <tr>\n",
       "      <th>3</th>\n",
       "      <td>1000</td>\n",
       "      <td>8</td>\n",
       "      <td>14055.93</td>\n",
       "    </tr>\n",
       "    <tr>\n",
       "      <th>4</th>\n",
       "      <td>1000</td>\n",
       "      <td>9</td>\n",
       "      <td>14568.91</td>\n",
       "    </tr>\n",
       "  </tbody>\n",
       "</table>\n",
       "</div>"
      ],
      "text/plain": [
       "   user_id  month   mb_used\n",
       "0     1000      5   2253.49\n",
       "1     1000      6  23233.77\n",
       "2     1000      7  14003.64\n",
       "3     1000      8  14055.93\n",
       "4     1000      9  14568.91"
      ]
     },
     "execution_count": 20,
     "metadata": {},
     "output_type": "execute_result"
    }
   ],
   "source": [
    "internet_by_month = (\n",
    "    internet\n",
    "    .pivot_table(index=['user_id', 'month'], values='mb_used', aggfunc='sum') # составление сводной таблицы\n",
    "    .reset_index() # сброс индексов\n",
    ")\n",
    "internet_by_month.columns = ['user_id', 'month', 'mb_used'] # переименование столбцов\n",
    "internet_by_month.head() # проверка"
   ]
  },
  {
   "cell_type": "markdown",
   "metadata": {},
   "source": [
    "Посчитаем для каждого пользователя помесячную выручку с каждого пользователя. Создадим основной датафрейм `df`, который и будем использовать для дальнейшей работы. Для этого соединим вспомогательные таблицы `calls_by_month`, `messages_by_month`, `internet_by_month` и `users_tariff`."
   ]
  },
  {
   "cell_type": "code",
   "execution_count": 21,
   "metadata": {},
   "outputs": [
    {
     "data": {
      "text/html": [
       "<div>\n",
       "<style scoped>\n",
       "    .dataframe tbody tr th:only-of-type {\n",
       "        vertical-align: middle;\n",
       "    }\n",
       "\n",
       "    .dataframe tbody tr th {\n",
       "        vertical-align: top;\n",
       "    }\n",
       "\n",
       "    .dataframe thead th {\n",
       "        text-align: right;\n",
       "    }\n",
       "</style>\n",
       "<table border=\"1\" class=\"dataframe\">\n",
       "  <thead>\n",
       "    <tr style=\"text-align: right;\">\n",
       "      <th></th>\n",
       "      <th>user_id</th>\n",
       "      <th>month</th>\n",
       "      <th>calls_count</th>\n",
       "      <th>calls_sum</th>\n",
       "      <th>messages_count</th>\n",
       "      <th>mb_used</th>\n",
       "      <th>tariff</th>\n",
       "      <th>city</th>\n",
       "    </tr>\n",
       "  </thead>\n",
       "  <tbody>\n",
       "    <tr>\n",
       "      <th>0</th>\n",
       "      <td>1000</td>\n",
       "      <td>5.0</td>\n",
       "      <td>22.0</td>\n",
       "      <td>159.0</td>\n",
       "      <td>22.0</td>\n",
       "      <td>2253.49</td>\n",
       "      <td>ultra</td>\n",
       "      <td>Краснодар</td>\n",
       "    </tr>\n",
       "    <tr>\n",
       "      <th>1</th>\n",
       "      <td>1000</td>\n",
       "      <td>6.0</td>\n",
       "      <td>43.0</td>\n",
       "      <td>172.0</td>\n",
       "      <td>60.0</td>\n",
       "      <td>23233.77</td>\n",
       "      <td>ultra</td>\n",
       "      <td>Краснодар</td>\n",
       "    </tr>\n",
       "    <tr>\n",
       "      <th>2</th>\n",
       "      <td>1000</td>\n",
       "      <td>7.0</td>\n",
       "      <td>47.0</td>\n",
       "      <td>340.0</td>\n",
       "      <td>75.0</td>\n",
       "      <td>14003.64</td>\n",
       "      <td>ultra</td>\n",
       "      <td>Краснодар</td>\n",
       "    </tr>\n",
       "    <tr>\n",
       "      <th>3</th>\n",
       "      <td>1000</td>\n",
       "      <td>8.0</td>\n",
       "      <td>52.0</td>\n",
       "      <td>408.0</td>\n",
       "      <td>81.0</td>\n",
       "      <td>14055.93</td>\n",
       "      <td>ultra</td>\n",
       "      <td>Краснодар</td>\n",
       "    </tr>\n",
       "    <tr>\n",
       "      <th>4</th>\n",
       "      <td>1000</td>\n",
       "      <td>9.0</td>\n",
       "      <td>58.0</td>\n",
       "      <td>466.0</td>\n",
       "      <td>57.0</td>\n",
       "      <td>14568.91</td>\n",
       "      <td>ultra</td>\n",
       "      <td>Краснодар</td>\n",
       "    </tr>\n",
       "  </tbody>\n",
       "</table>\n",
       "</div>"
      ],
      "text/plain": [
       "   user_id  month  calls_count  calls_sum  messages_count   mb_used tariff  \\\n",
       "0     1000    5.0         22.0      159.0            22.0   2253.49  ultra   \n",
       "1     1000    6.0         43.0      172.0            60.0  23233.77  ultra   \n",
       "2     1000    7.0         47.0      340.0            75.0  14003.64  ultra   \n",
       "3     1000    8.0         52.0      408.0            81.0  14055.93  ultra   \n",
       "4     1000    9.0         58.0      466.0            57.0  14568.91  ultra   \n",
       "\n",
       "        city  \n",
       "0  Краснодар  \n",
       "1  Краснодар  \n",
       "2  Краснодар  \n",
       "3  Краснодар  \n",
       "4  Краснодар  "
      ]
     },
     "execution_count": 21,
     "metadata": {},
     "output_type": "execute_result"
    }
   ],
   "source": [
    "df = (\n",
    "    calls_by_month\n",
    "    .merge(messages_by_month, how='outer') # объединение вспомогательных таблиц\n",
    "    .merge(internet_by_month, how='outer') # объединение вспомогательных таблиц\n",
    "    .merge(users_tariff, how='outer') # объединение вспомогательных таблиц\n",
    ")\n",
    "df.head() # проверка"
   ]
  },
  {
   "cell_type": "markdown",
   "metadata": {},
   "source": [
    "Проверим получившийся датафрейм на пропуски."
   ]
  },
  {
   "cell_type": "code",
   "execution_count": 22,
   "metadata": {},
   "outputs": [
    {
     "data": {
      "text/plain": [
       "user_id             0\n",
       "month               2\n",
       "calls_count        42\n",
       "calls_sum          42\n",
       "messages_count    499\n",
       "mb_used            13\n",
       "tariff              0\n",
       "city                0\n",
       "dtype: int64"
      ]
     },
     "execution_count": 22,
     "metadata": {},
     "output_type": "execute_result"
    }
   ],
   "source": [
    "df.isna().sum() # подсчёт пропусков"
   ]
  },
  {
   "cell_type": "markdown",
   "metadata": {},
   "source": [
    "Пропуски в датафрейме можно объяснить тем, что не все клиенты постоянно используют те или иные виды услуг, также некоторые клиенты могут прекратить пользоваться определенными услугами. Логичнее всего заменить такие пропуски на 0, заодно поменяем тип данных во всех ячейках на `int` так как «Мегалайн» округляет время звонка, количество трафика до целых значений. Но для начала выведем строки с данными, где есть пропуски в столбце `month`."
   ]
  },
  {
   "cell_type": "code",
   "execution_count": 23,
   "metadata": {},
   "outputs": [
    {
     "data": {
      "text/html": [
       "<div>\n",
       "<style scoped>\n",
       "    .dataframe tbody tr th:only-of-type {\n",
       "        vertical-align: middle;\n",
       "    }\n",
       "\n",
       "    .dataframe tbody tr th {\n",
       "        vertical-align: top;\n",
       "    }\n",
       "\n",
       "    .dataframe thead th {\n",
       "        text-align: right;\n",
       "    }\n",
       "</style>\n",
       "<table border=\"1\" class=\"dataframe\">\n",
       "  <thead>\n",
       "    <tr style=\"text-align: right;\">\n",
       "      <th></th>\n",
       "      <th>user_id</th>\n",
       "      <th>month</th>\n",
       "      <th>calls_count</th>\n",
       "      <th>calls_sum</th>\n",
       "      <th>messages_count</th>\n",
       "      <th>mb_used</th>\n",
       "      <th>tariff</th>\n",
       "      <th>city</th>\n",
       "    </tr>\n",
       "  </thead>\n",
       "  <tbody>\n",
       "    <tr>\n",
       "      <th>3214</th>\n",
       "      <td>1128</td>\n",
       "      <td>NaN</td>\n",
       "      <td>NaN</td>\n",
       "      <td>NaN</td>\n",
       "      <td>NaN</td>\n",
       "      <td>NaN</td>\n",
       "      <td>ultra</td>\n",
       "      <td>Волжский</td>\n",
       "    </tr>\n",
       "    <tr>\n",
       "      <th>3215</th>\n",
       "      <td>1371</td>\n",
       "      <td>NaN</td>\n",
       "      <td>NaN</td>\n",
       "      <td>NaN</td>\n",
       "      <td>NaN</td>\n",
       "      <td>NaN</td>\n",
       "      <td>smart</td>\n",
       "      <td>Омск</td>\n",
       "    </tr>\n",
       "  </tbody>\n",
       "</table>\n",
       "</div>"
      ],
      "text/plain": [
       "      user_id  month  calls_count  calls_sum  messages_count  mb_used tariff  \\\n",
       "3214     1128    NaN          NaN        NaN             NaN      NaN  ultra   \n",
       "3215     1371    NaN          NaN        NaN             NaN      NaN  smart   \n",
       "\n",
       "          city  \n",
       "3214  Волжский  \n",
       "3215      Омск  "
      ]
     },
     "execution_count": 23,
     "metadata": {},
     "output_type": "execute_result"
    }
   ],
   "source": [
    "df.loc[df['month'].isna()] # вывод строк с пропущенными значениями в столбце 'month'"
   ]
  },
  {
   "cell_type": "markdown",
   "metadata": {},
   "source": [
    "Можно удалить эти строки и сделать замены в оставшихся строках с пропусками."
   ]
  },
  {
   "cell_type": "code",
   "execution_count": 24,
   "metadata": {},
   "outputs": [
    {
     "data": {
      "text/plain": [
       "user_id             0\n",
       "month               0\n",
       "calls_count        40\n",
       "calls_sum          40\n",
       "messages_count    497\n",
       "mb_used            11\n",
       "tariff              0\n",
       "city                0\n",
       "dtype: int64"
      ]
     },
     "execution_count": 24,
     "metadata": {},
     "output_type": "execute_result"
    }
   ],
   "source": [
    "df = df.dropna(subset=['month']).reset_index(drop=True) # удаление пропущенных значений в столбце 'month' со сбросом индекса\n",
    "df.isna().sum() # проверка"
   ]
  },
  {
   "cell_type": "code",
   "execution_count": 25,
   "metadata": {},
   "outputs": [
    {
     "name": "stdout",
     "output_type": "stream",
     "text": [
      "user_id           0\n",
      "month             0\n",
      "calls_count       0\n",
      "calls_sum         0\n",
      "messages_count    0\n",
      "mb_used           0\n",
      "tariff            0\n",
      "city              0\n",
      "dtype: int64\n"
     ]
    },
    {
     "data": {
      "text/html": [
       "<div>\n",
       "<style scoped>\n",
       "    .dataframe tbody tr th:only-of-type {\n",
       "        vertical-align: middle;\n",
       "    }\n",
       "\n",
       "    .dataframe tbody tr th {\n",
       "        vertical-align: top;\n",
       "    }\n",
       "\n",
       "    .dataframe thead th {\n",
       "        text-align: right;\n",
       "    }\n",
       "</style>\n",
       "<table border=\"1\" class=\"dataframe\">\n",
       "  <thead>\n",
       "    <tr style=\"text-align: right;\">\n",
       "      <th></th>\n",
       "      <th>user_id</th>\n",
       "      <th>month</th>\n",
       "      <th>calls_count</th>\n",
       "      <th>calls_sum</th>\n",
       "      <th>messages_count</th>\n",
       "      <th>mb_used</th>\n",
       "      <th>tariff</th>\n",
       "      <th>city</th>\n",
       "    </tr>\n",
       "  </thead>\n",
       "  <tbody>\n",
       "    <tr>\n",
       "      <th>0</th>\n",
       "      <td>1000</td>\n",
       "      <td>5</td>\n",
       "      <td>22</td>\n",
       "      <td>159</td>\n",
       "      <td>22</td>\n",
       "      <td>2253</td>\n",
       "      <td>ultra</td>\n",
       "      <td>Краснодар</td>\n",
       "    </tr>\n",
       "    <tr>\n",
       "      <th>1</th>\n",
       "      <td>1000</td>\n",
       "      <td>6</td>\n",
       "      <td>43</td>\n",
       "      <td>172</td>\n",
       "      <td>60</td>\n",
       "      <td>23233</td>\n",
       "      <td>ultra</td>\n",
       "      <td>Краснодар</td>\n",
       "    </tr>\n",
       "    <tr>\n",
       "      <th>2</th>\n",
       "      <td>1000</td>\n",
       "      <td>7</td>\n",
       "      <td>47</td>\n",
       "      <td>340</td>\n",
       "      <td>75</td>\n",
       "      <td>14003</td>\n",
       "      <td>ultra</td>\n",
       "      <td>Краснодар</td>\n",
       "    </tr>\n",
       "    <tr>\n",
       "      <th>3</th>\n",
       "      <td>1000</td>\n",
       "      <td>8</td>\n",
       "      <td>52</td>\n",
       "      <td>408</td>\n",
       "      <td>81</td>\n",
       "      <td>14055</td>\n",
       "      <td>ultra</td>\n",
       "      <td>Краснодар</td>\n",
       "    </tr>\n",
       "    <tr>\n",
       "      <th>4</th>\n",
       "      <td>1000</td>\n",
       "      <td>9</td>\n",
       "      <td>58</td>\n",
       "      <td>466</td>\n",
       "      <td>57</td>\n",
       "      <td>14568</td>\n",
       "      <td>ultra</td>\n",
       "      <td>Краснодар</td>\n",
       "    </tr>\n",
       "  </tbody>\n",
       "</table>\n",
       "</div>"
      ],
      "text/plain": [
       "   user_id  month  calls_count  calls_sum  messages_count  mb_used tariff  \\\n",
       "0     1000      5           22        159              22     2253  ultra   \n",
       "1     1000      6           43        172              60    23233  ultra   \n",
       "2     1000      7           47        340              75    14003  ultra   \n",
       "3     1000      8           52        408              81    14055  ultra   \n",
       "4     1000      9           58        466              57    14568  ultra   \n",
       "\n",
       "        city  \n",
       "0  Краснодар  \n",
       "1  Краснодар  \n",
       "2  Краснодар  \n",
       "3  Краснодар  \n",
       "4  Краснодар  "
      ]
     },
     "execution_count": 25,
     "metadata": {},
     "output_type": "execute_result"
    }
   ],
   "source": [
    "df = df.fillna(0) # замена пропусков на 0\n",
    "list_columns = ['month', 'calls_count', 'calls_sum', 'messages_count', 'mb_used'] # составление списка нужных столбцов\n",
    "for i in list_columns: # формирование цикла в списке нужных столбцов\n",
    "    df[i] = df[i].astype('int') # замена типа чисел с вещественного на целочисленный в нужных столбцах\n",
    "print(df.isna().sum()) # проверка\n",
    "df.head() # проверка"
   ]
  },
  {
   "cell_type": "markdown",
   "metadata": {},
   "source": [
    "Для расчета помесячной выручки сформируем функцию `billing` внутри которой присвоим переменным значения необходимых столбцов основного датафрейма (минут звонка, сообщений, мегабайт интернет-трафика) и таблицы `tariffs` (размер абонентской платы, количество услуг, входящих в абоненсткую плату, стоимость услуг сверх лимита)."
   ]
  },
  {
   "cell_type": "code",
   "execution_count": 26,
   "metadata": {},
   "outputs": [],
   "source": [
    "def billing(data):\n",
    "    \n",
    "# присвоение переменным значений основного датафрейма 'df'\n",
    "    calls = data['calls_sum']\n",
    "    messages = data['messages_count']\n",
    "    traffic = data['mb_used']\n",
    "    tariff = data['tariff']\n",
    "    \n",
    "# присвоение переменным значений таблицы 'tariffs'    \n",
    "    calls_cost = int(tariffs.loc[tariffs['tariff_name'] == tariff, 'rub_per_minute'])\n",
    "    messages_cost = int(tariffs.loc[tariffs['tariff_name'] == tariff, 'rub_per_message'])\n",
    "    internet_cost = int(tariffs.loc[tariffs['tariff_name'] == tariff, 'rub_per_gb'])\n",
    "    tariff_cost = int(tariffs.loc[tariffs['tariff_name'] == tariff, 'rub_monthly_fee'])\n",
    "    messages_incl = int(tariffs.loc[tariffs['tariff_name'] == tariff, 'messages_included'])\n",
    "    calls_incl = int(tariffs.loc[tariffs['tariff_name'] == tariff, 'minutes_included'])\n",
    "    traffic_incl = int(tariffs.loc[tariffs['tariff_name'] == tariff, 'mb_per_month_included'])\n",
    "    \n",
    "# расчет месячной выручки для каждого пользователя    \n",
    "    bill = (\n",
    "        math.ceil(max(calls - calls_incl, 0)) * int(tariffs.loc[tariffs['tariff_name'] == tariff, 'rub_per_minute']) +\n",
    "        max(messages - messages_incl, 0) * int(tariffs.loc[tariffs['tariff_name'] == tariff, 'rub_per_message']) +\n",
    "        math.ceil(max(traffic - traffic_incl, 0) / 1024) * int(tariffs.loc[tariffs['tariff_name'] == tariff, 'rub_per_gb']) +\n",
    "        int(tariffs.loc[tariffs['tariff_name'] == tariff, 'rub_monthly_fee'])\n",
    "    )\n",
    "    \n",
    "    return bill"
   ]
  },
  {
   "cell_type": "markdown",
   "metadata": {},
   "source": [
    "Добавим столбец 'bill' с расчетом помесячной выручки при помощи функции 'billing'."
   ]
  },
  {
   "cell_type": "code",
   "execution_count": 27,
   "metadata": {},
   "outputs": [
    {
     "data": {
      "text/html": [
       "<div>\n",
       "<style scoped>\n",
       "    .dataframe tbody tr th:only-of-type {\n",
       "        vertical-align: middle;\n",
       "    }\n",
       "\n",
       "    .dataframe tbody tr th {\n",
       "        vertical-align: top;\n",
       "    }\n",
       "\n",
       "    .dataframe thead th {\n",
       "        text-align: right;\n",
       "    }\n",
       "</style>\n",
       "<table border=\"1\" class=\"dataframe\">\n",
       "  <thead>\n",
       "    <tr style=\"text-align: right;\">\n",
       "      <th></th>\n",
       "      <th>user_id</th>\n",
       "      <th>month</th>\n",
       "      <th>calls_count</th>\n",
       "      <th>calls_sum</th>\n",
       "      <th>messages_count</th>\n",
       "      <th>mb_used</th>\n",
       "      <th>tariff</th>\n",
       "      <th>city</th>\n",
       "      <th>bill</th>\n",
       "    </tr>\n",
       "  </thead>\n",
       "  <tbody>\n",
       "    <tr>\n",
       "      <th>0</th>\n",
       "      <td>1000</td>\n",
       "      <td>5</td>\n",
       "      <td>22</td>\n",
       "      <td>159</td>\n",
       "      <td>22</td>\n",
       "      <td>2253</td>\n",
       "      <td>ultra</td>\n",
       "      <td>Краснодар</td>\n",
       "      <td>1950</td>\n",
       "    </tr>\n",
       "    <tr>\n",
       "      <th>1</th>\n",
       "      <td>1000</td>\n",
       "      <td>6</td>\n",
       "      <td>43</td>\n",
       "      <td>172</td>\n",
       "      <td>60</td>\n",
       "      <td>23233</td>\n",
       "      <td>ultra</td>\n",
       "      <td>Краснодар</td>\n",
       "      <td>1950</td>\n",
       "    </tr>\n",
       "    <tr>\n",
       "      <th>2</th>\n",
       "      <td>1000</td>\n",
       "      <td>7</td>\n",
       "      <td>47</td>\n",
       "      <td>340</td>\n",
       "      <td>75</td>\n",
       "      <td>14003</td>\n",
       "      <td>ultra</td>\n",
       "      <td>Краснодар</td>\n",
       "      <td>1950</td>\n",
       "    </tr>\n",
       "    <tr>\n",
       "      <th>3</th>\n",
       "      <td>1000</td>\n",
       "      <td>8</td>\n",
       "      <td>52</td>\n",
       "      <td>408</td>\n",
       "      <td>81</td>\n",
       "      <td>14055</td>\n",
       "      <td>ultra</td>\n",
       "      <td>Краснодар</td>\n",
       "      <td>1950</td>\n",
       "    </tr>\n",
       "    <tr>\n",
       "      <th>4</th>\n",
       "      <td>1000</td>\n",
       "      <td>9</td>\n",
       "      <td>58</td>\n",
       "      <td>466</td>\n",
       "      <td>57</td>\n",
       "      <td>14568</td>\n",
       "      <td>ultra</td>\n",
       "      <td>Краснодар</td>\n",
       "      <td>1950</td>\n",
       "    </tr>\n",
       "  </tbody>\n",
       "</table>\n",
       "</div>"
      ],
      "text/plain": [
       "   user_id  month  calls_count  calls_sum  messages_count  mb_used tariff  \\\n",
       "0     1000      5           22        159              22     2253  ultra   \n",
       "1     1000      6           43        172              60    23233  ultra   \n",
       "2     1000      7           47        340              75    14003  ultra   \n",
       "3     1000      8           52        408              81    14055  ultra   \n",
       "4     1000      9           58        466              57    14568  ultra   \n",
       "\n",
       "        city  bill  \n",
       "0  Краснодар  1950  \n",
       "1  Краснодар  1950  \n",
       "2  Краснодар  1950  \n",
       "3  Краснодар  1950  \n",
       "4  Краснодар  1950  "
      ]
     },
     "execution_count": 27,
     "metadata": {},
     "output_type": "execute_result"
    }
   ],
   "source": [
    "df['bill'] = df.apply(billing, axis=1) # добавление столбца 'bill' \n",
    "df.head() # проверка"
   ]
  },
  {
   "cell_type": "code",
   "execution_count": 29,
   "metadata": {},
   "outputs": [
    {
     "data": {
      "text/html": [
       "<div>\n",
       "<style scoped>\n",
       "    .dataframe tbody tr th:only-of-type {\n",
       "        vertical-align: middle;\n",
       "    }\n",
       "\n",
       "    .dataframe tbody tr th {\n",
       "        vertical-align: top;\n",
       "    }\n",
       "\n",
       "    .dataframe thead th {\n",
       "        text-align: right;\n",
       "    }\n",
       "</style>\n",
       "<table border=\"1\" class=\"dataframe\">\n",
       "  <thead>\n",
       "    <tr style=\"text-align: right;\">\n",
       "      <th></th>\n",
       "      <th>user_id</th>\n",
       "      <th>month</th>\n",
       "      <th>calls_count</th>\n",
       "      <th>calls_sum</th>\n",
       "      <th>messages_count</th>\n",
       "      <th>mb_used</th>\n",
       "      <th>tariff</th>\n",
       "      <th>city</th>\n",
       "      <th>bill</th>\n",
       "    </tr>\n",
       "  </thead>\n",
       "  <tbody>\n",
       "    <tr>\n",
       "      <th>32</th>\n",
       "      <td>1005</td>\n",
       "      <td>3</td>\n",
       "      <td>77</td>\n",
       "      <td>606</td>\n",
       "      <td>56</td>\n",
       "      <td>11104</td>\n",
       "      <td>smart</td>\n",
       "      <td>Набережные Челны</td>\n",
       "      <td>886</td>\n",
       "    </tr>\n",
       "  </tbody>\n",
       "</table>\n",
       "</div>"
      ],
      "text/plain": [
       "    user_id  month  calls_count  calls_sum  messages_count  mb_used tariff  \\\n",
       "32     1005      3           77        606              56    11104  smart   \n",
       "\n",
       "                city  bill  \n",
       "32  Набережные Челны   886  "
      ]
     },
     "execution_count": 29,
     "metadata": {},
     "output_type": "execute_result"
    }
   ],
   "source": [
    "## КОД РЕВЬЮЕРА\n",
    "df.query('user_id == 1005 & month==3')"
   ]
  },
  {
   "cell_type": "markdown",
   "metadata": {},
   "source": [
    "Для анализа данных по каждому тарифу создадим на базе основного датафрейма создадим таблицы `df_smart` и `df_ultra` с данными всех пользователей по тарифам."
   ]
  },
  {
   "cell_type": "code",
   "execution_count": 30,
   "metadata": {},
   "outputs": [
    {
     "data": {
      "text/html": [
       "<div>\n",
       "<style scoped>\n",
       "    .dataframe tbody tr th:only-of-type {\n",
       "        vertical-align: middle;\n",
       "    }\n",
       "\n",
       "    .dataframe tbody tr th {\n",
       "        vertical-align: top;\n",
       "    }\n",
       "\n",
       "    .dataframe thead th {\n",
       "        text-align: right;\n",
       "    }\n",
       "</style>\n",
       "<table border=\"1\" class=\"dataframe\">\n",
       "  <thead>\n",
       "    <tr style=\"text-align: right;\">\n",
       "      <th></th>\n",
       "      <th>user_id</th>\n",
       "      <th>month</th>\n",
       "      <th>calls_count</th>\n",
       "      <th>calls_sum</th>\n",
       "      <th>messages_count</th>\n",
       "      <th>mb_used</th>\n",
       "      <th>tariff</th>\n",
       "      <th>city</th>\n",
       "      <th>bill</th>\n",
       "    </tr>\n",
       "  </thead>\n",
       "  <tbody>\n",
       "    <tr>\n",
       "      <th>0</th>\n",
       "      <td>1001</td>\n",
       "      <td>11</td>\n",
       "      <td>59</td>\n",
       "      <td>430</td>\n",
       "      <td>0</td>\n",
       "      <td>18429</td>\n",
       "      <td>smart</td>\n",
       "      <td>Москва</td>\n",
       "      <td>1150</td>\n",
       "    </tr>\n",
       "    <tr>\n",
       "      <th>1</th>\n",
       "      <td>1001</td>\n",
       "      <td>12</td>\n",
       "      <td>63</td>\n",
       "      <td>414</td>\n",
       "      <td>0</td>\n",
       "      <td>14036</td>\n",
       "      <td>smart</td>\n",
       "      <td>Москва</td>\n",
       "      <td>550</td>\n",
       "    </tr>\n",
       "    <tr>\n",
       "      <th>2</th>\n",
       "      <td>1002</td>\n",
       "      <td>6</td>\n",
       "      <td>15</td>\n",
       "      <td>117</td>\n",
       "      <td>4</td>\n",
       "      <td>10856</td>\n",
       "      <td>smart</td>\n",
       "      <td>Стерлитамак</td>\n",
       "      <td>550</td>\n",
       "    </tr>\n",
       "    <tr>\n",
       "      <th>3</th>\n",
       "      <td>1002</td>\n",
       "      <td>7</td>\n",
       "      <td>26</td>\n",
       "      <td>214</td>\n",
       "      <td>11</td>\n",
       "      <td>17580</td>\n",
       "      <td>smart</td>\n",
       "      <td>Стерлитамак</td>\n",
       "      <td>1150</td>\n",
       "    </tr>\n",
       "    <tr>\n",
       "      <th>4</th>\n",
       "      <td>1002</td>\n",
       "      <td>8</td>\n",
       "      <td>42</td>\n",
       "      <td>289</td>\n",
       "      <td>13</td>\n",
       "      <td>20319</td>\n",
       "      <td>smart</td>\n",
       "      <td>Стерлитамак</td>\n",
       "      <td>1550</td>\n",
       "    </tr>\n",
       "  </tbody>\n",
       "</table>\n",
       "</div>"
      ],
      "text/plain": [
       "   user_id  month  calls_count  calls_sum  messages_count  mb_used tariff  \\\n",
       "0     1001     11           59        430               0    18429  smart   \n",
       "1     1001     12           63        414               0    14036  smart   \n",
       "2     1002      6           15        117               4    10856  smart   \n",
       "3     1002      7           26        214              11    17580  smart   \n",
       "4     1002      8           42        289              13    20319  smart   \n",
       "\n",
       "          city  bill  \n",
       "0       Москва  1150  \n",
       "1       Москва   550  \n",
       "2  Стерлитамак   550  \n",
       "3  Стерлитамак  1150  \n",
       "4  Стерлитамак  1550  "
      ]
     },
     "metadata": {},
     "output_type": "display_data"
    },
    {
     "data": {
      "text/html": [
       "<div>\n",
       "<style scoped>\n",
       "    .dataframe tbody tr th:only-of-type {\n",
       "        vertical-align: middle;\n",
       "    }\n",
       "\n",
       "    .dataframe tbody tr th {\n",
       "        vertical-align: top;\n",
       "    }\n",
       "\n",
       "    .dataframe thead th {\n",
       "        text-align: right;\n",
       "    }\n",
       "</style>\n",
       "<table border=\"1\" class=\"dataframe\">\n",
       "  <thead>\n",
       "    <tr style=\"text-align: right;\">\n",
       "      <th></th>\n",
       "      <th>user_id</th>\n",
       "      <th>month</th>\n",
       "      <th>calls_count</th>\n",
       "      <th>calls_sum</th>\n",
       "      <th>messages_count</th>\n",
       "      <th>mb_used</th>\n",
       "      <th>tariff</th>\n",
       "      <th>city</th>\n",
       "      <th>bill</th>\n",
       "    </tr>\n",
       "  </thead>\n",
       "  <tbody>\n",
       "    <tr>\n",
       "      <th>0</th>\n",
       "      <td>1000</td>\n",
       "      <td>5</td>\n",
       "      <td>22</td>\n",
       "      <td>159</td>\n",
       "      <td>22</td>\n",
       "      <td>2253</td>\n",
       "      <td>ultra</td>\n",
       "      <td>Краснодар</td>\n",
       "      <td>1950</td>\n",
       "    </tr>\n",
       "    <tr>\n",
       "      <th>1</th>\n",
       "      <td>1000</td>\n",
       "      <td>6</td>\n",
       "      <td>43</td>\n",
       "      <td>172</td>\n",
       "      <td>60</td>\n",
       "      <td>23233</td>\n",
       "      <td>ultra</td>\n",
       "      <td>Краснодар</td>\n",
       "      <td>1950</td>\n",
       "    </tr>\n",
       "    <tr>\n",
       "      <th>2</th>\n",
       "      <td>1000</td>\n",
       "      <td>7</td>\n",
       "      <td>47</td>\n",
       "      <td>340</td>\n",
       "      <td>75</td>\n",
       "      <td>14003</td>\n",
       "      <td>ultra</td>\n",
       "      <td>Краснодар</td>\n",
       "      <td>1950</td>\n",
       "    </tr>\n",
       "    <tr>\n",
       "      <th>3</th>\n",
       "      <td>1000</td>\n",
       "      <td>8</td>\n",
       "      <td>52</td>\n",
       "      <td>408</td>\n",
       "      <td>81</td>\n",
       "      <td>14055</td>\n",
       "      <td>ultra</td>\n",
       "      <td>Краснодар</td>\n",
       "      <td>1950</td>\n",
       "    </tr>\n",
       "    <tr>\n",
       "      <th>4</th>\n",
       "      <td>1000</td>\n",
       "      <td>9</td>\n",
       "      <td>58</td>\n",
       "      <td>466</td>\n",
       "      <td>57</td>\n",
       "      <td>14568</td>\n",
       "      <td>ultra</td>\n",
       "      <td>Краснодар</td>\n",
       "      <td>1950</td>\n",
       "    </tr>\n",
       "  </tbody>\n",
       "</table>\n",
       "</div>"
      ],
      "text/plain": [
       "   user_id  month  calls_count  calls_sum  messages_count  mb_used tariff  \\\n",
       "0     1000      5           22        159              22     2253  ultra   \n",
       "1     1000      6           43        172              60    23233  ultra   \n",
       "2     1000      7           47        340              75    14003  ultra   \n",
       "3     1000      8           52        408              81    14055  ultra   \n",
       "4     1000      9           58        466              57    14568  ultra   \n",
       "\n",
       "        city  bill  \n",
       "0  Краснодар  1950  \n",
       "1  Краснодар  1950  \n",
       "2  Краснодар  1950  \n",
       "3  Краснодар  1950  \n",
       "4  Краснодар  1950  "
      ]
     },
     "execution_count": 30,
     "metadata": {},
     "output_type": "execute_result"
    }
   ],
   "source": [
    "df_smart = df.loc[df['tariff'] == 'smart'].reset_index(drop=True) # формирование датафрейма с информацией по пользователям тарифа 'smart'\n",
    "df_ultra = df.loc[df['tariff'] == 'ultra'].reset_index(drop=True) # формирование датафрейма с информацией по пользователям тарифа 'ultra'\n",
    "display(df_smart.head()) # проверка\n",
    "df_ultra.head() # проверка"
   ]
  },
  {
   "cell_type": "markdown",
   "metadata": {},
   "source": [
    "## Анализ данных"
   ]
  },
  {
   "cell_type": "markdown",
   "metadata": {},
   "source": [
    "Изучим подробнее ключевые параметры каждого тарифа. Построим гистограммы, диаграммы размаха и выведем характерные значения каждого параметра по каждому тарифу."
   ]
  },
  {
   "cell_type": "code",
   "execution_count": 31,
   "metadata": {},
   "outputs": [
    {
     "data": {
      "image/png": "[encoded data removed]",
      "text/plain": [
       "<Figure size 720x432 with 1 Axes>"
      ]
     },
     "metadata": {
      "needs_background": "light"
     },
     "output_type": "display_data"
    },
    {
     "name": "stdout",
     "output_type": "stream",
     "text": [
      "Среднее значение помесячной продолжительности звонков тарифа 'Смарт': 418 минут\n",
      "Среднее значение помесячной продолжительности звонков тарифа 'Ультра': 527 минут\n",
      "\n",
      "\n",
      "Медианное значение помесячной продолжительности звонков тарифа 'Смарт': 422 минут\n",
      "Медианное значение помесячной продолжительности звонков тарифа 'Ультра': 518 минут\n",
      "\n",
      "\n",
      "Дисперсия помесячной продолжительности звонков тарифа 'Смарт': 36203.07\n",
      "Дисперсия помесячной продолжительности звонков тарифа 'Ультра': 100771.22\n",
      "\n",
      "\n",
      "Стандартное отклонение помесячной продолжительности звонков тарифа 'Смарт': 190 минут\n",
      "Стандартное отклонение помесячной продолжительности звонков тарифа 'Ультра': 317 минут\n"
     ]
    }
   ],
   "source": [
    "# построение гистограмм\n",
    "plt.figure(figsize=(10, 6)) # установление размера поля графика\n",
    "plt.hist([df_smart['calls_sum'], df_ultra['calls_sum']], label=['smart', 'ultra'],\n",
    "         bins=60, stacked=True, alpha=0.5, edgecolor='black') # построение гистограмм\n",
    "plt.legend() # вывод легенды\n",
    "plt.title('Помесячная продолжительность звонков') # вывод названия гистограмм\n",
    "plt.xlabel('Количество минут звонков') # вывод подписи оси x\n",
    "plt.ylabel('Частота наблюдений') # вывод подписи оси y\n",
    "plt.show()\n",
    "\n",
    "print('Среднее значение помесячной продолжительности звонков тарифа \\'Смарт\\':', \n",
    "      round(df_smart['calls_sum'].mean()), 'минут')\n",
    "print('Среднее значение помесячной продолжительности звонков тарифа \\'Ультра\\':', \n",
    "      round(df_ultra['calls_sum'].mean()), 'минут')\n",
    "print('\\n')\n",
    "print('Медианное значение помесячной продолжительности звонков тарифа \\'Смарт\\':', \n",
    "      round(df_smart['calls_sum'].median()), 'минут')\n",
    "print('Медианное значение помесячной продолжительности звонков тарифа \\'Ультра\\':', \n",
    "      round(df_ultra['calls_sum'].median()), 'минут')\n",
    "print('\\n')\n",
    "print('Дисперсия помесячной продолжительности звонков тарифа \\'Смарт\\':', \n",
    "      round(np.var(df_smart['calls_sum']), 2))\n",
    "print('Дисперсия помесячной продолжительности звонков тарифа \\'Ультра\\':', \n",
    "      round(np.var(df_ultra['calls_sum']), 2))\n",
    "print('\\n')\n",
    "print('Стандартное отклонение помесячной продолжительности звонков тарифа \\'Смарт\\':', \n",
    "      round(np.std(df_smart['calls_sum'])), 'минут')\n",
    "print('Стандартное отклонение помесячной продолжительности звонков тарифа \\'Ультра\\':', \n",
    "      round(np.std(df_ultra['calls_sum'])), 'минут')"
   ]
  },
  {
   "cell_type": "code",
   "execution_count": 32,
   "metadata": {},
   "outputs": [
    {
     "data": {
      "image/png": "[encoded data removed]",
      "text/plain": [
       "<Figure size 720x432 with 1 Axes>"
      ]
     },
     "metadata": {
      "needs_background": "light"
     },
     "output_type": "display_data"
    }
   ],
   "source": [
    "# построение диаграмм размаха\n",
    "plt.figure(figsize=(10, 6)) # установление размера поля графика\n",
    "plt.boxplot(x=[df_smart['calls_sum'], df_ultra['calls_sum']], \n",
    "            labels=['smart', 'ultra']) # построение диаграмм размаха\n",
    "plt.title('Помесячная продолжительность звонков') # вывод названия гистаграмм\n",
    "plt.xlabel('Тарифы') # вывод подписи оси x\n",
    "plt.ylabel('Количество минут звонков') # вывод подписи оси y\n",
    "plt.show()"
   ]
  },
  {
   "cell_type": "markdown",
   "metadata": {},
   "source": [
    "Можно сделать вывод, что пользователям тарифа \"Ультра\" требуется большее количество минут звонков в месяц. Среднее значение, дисперсия и стандартное отклонение больше, распределение данных скошенно вправо. Распределение данных на тарифе \"Смарт\" близко к нормальному, значения среднего и медианы практически совпадают, присутствуют выбросы в большую сторону. Также присутствуют месяцы в которые не совершали звонков, это можно объяснить тем, что часть пользователей стали клиентами в течении года либо не совершали звонки в течении месяца либо перешли на другой тариф. Среднее значение помесячной продолжительности звонков пользователей тарифа \"Смарт\" близко количеству минут звонка, включенных в абонентскую плату. Это говорит о том, что этим пользователем характерно превышать лимиты."
   ]
  },
  {
   "cell_type": "code",
   "execution_count": 33,
   "metadata": {},
   "outputs": [
    {
     "data": {
      "image/png": "[encoded data removed]",
      "text/plain": [
       "<Figure size 720x432 with 1 Axes>"
      ]
     },
     "metadata": {
      "needs_background": "light"
     },
     "output_type": "display_data"
    },
    {
     "name": "stdout",
     "output_type": "stream",
     "text": [
      "Среднее значение помесячного количества сообщений тарифа 'Смарт': 33\n",
      "Среднее значение помесячного количества сообщений тарифа 'Ультра': 49\n",
      "\n",
      "\n",
      "Медианное значение помесячного количества сообщений тарифа 'Смарт': 28\n",
      "Медианное значение помесячного количества сообщений тарифа 'Ультра': 38\n",
      "\n",
      "\n",
      "Дисперсия помесячного количества сообщений тарифа 'Смарт': 796.46\n",
      "Дисперсия помесячного количества сообщений тарифа 'Ультра': 2282.95\n",
      "\n",
      "\n",
      "Стандартное отклонение помесячного количества сообщений тарифа 'Смарт': 28\n",
      "Стандартное отклонение помесячного количества сообщений тарифа 'Ультра': 48\n"
     ]
    }
   ],
   "source": [
    "plt.figure(figsize=(10, 6)) # установление размера поля графика\n",
    "plt.hist([df_smart['messages_count'], df_ultra['messages_count']], label=['smart', 'ultra'],\n",
    "         bins=50, stacked=True, alpha=0.5, edgecolor='black') # построение гистограмм\n",
    "plt.legend() # вывод легенды\n",
    "plt.title('Помесячное количество сообщений') # вывод названия гистограмм\n",
    "plt.xlabel('Количество сообщений') # вывод подписи оси x\n",
    "plt.ylabel('Частота наблюдений') # вывод подписи оси y\n",
    "plt.show()\n",
    "\n",
    "print('Среднее значение помесячного количества сообщений тарифа \\'Смарт\\':', \n",
    "      round(df_smart['messages_count'].mean()))\n",
    "print('Среднее значение помесячного количества сообщений тарифа \\'Ультра\\':', \n",
    "      round(df_ultra['messages_count'].mean()))\n",
    "print('\\n')\n",
    "print('Медианное значение помесячного количества сообщений тарифа \\'Смарт\\':', \n",
    "      round(df_smart['messages_count'].median()))\n",
    "print('Медианное значение помесячного количества сообщений тарифа \\'Ультра\\':', \n",
    "      round(df_ultra['messages_count'].median()))\n",
    "print('\\n')\n",
    "print('Дисперсия помесячного количества сообщений тарифа \\'Смарт\\':', \n",
    "      round(np.var(df_smart['messages_count']), 2))\n",
    "print('Дисперсия помесячного количества сообщений тарифа \\'Ультра\\':', \n",
    "      round(np.var(df_ultra['messages_count']), 2))\n",
    "print('\\n')\n",
    "print('Стандартное отклонение помесячного количества сообщений тарифа \\'Смарт\\':', \n",
    "      round(np.std(df_smart['messages_count'])))\n",
    "print('Стандартное отклонение помесячного количества сообщений тарифа \\'Ультра\\':', \n",
    "      round(np.std(df_ultra['messages_count'])))"
   ]
  },
  {
   "cell_type": "code",
   "execution_count": 34,
   "metadata": {},
   "outputs": [
    {
     "data": {
      "image/png": "[encoded data removed]",
      "text/plain": [
       "<Figure size 720x432 with 1 Axes>"
      ]
     },
     "metadata": {
      "needs_background": "light"
     },
     "output_type": "display_data"
    }
   ],
   "source": [
    "# построение диаграмм размаха\n",
    "plt.figure(figsize=(10, 6)) # установление размера поля графика\n",
    "plt.boxplot(x=[df_smart['messages_count'], df_ultra['messages_count']], \n",
    "            labels=['smart', 'ultra']) # построение диаграмм размаха\n",
    "plt.title('Помесячное количество сообщений') # вывод названия диаграмм размаха\n",
    "plt.xlabel('Тарифы') # вывод подписи оси x\n",
    "plt.ylabel('Количество сообщений') # вывод подписи оси y\n",
    "plt.show()"
   ]
  },
  {
   "cell_type": "markdown",
   "metadata": {},
   "source": [
    "Можно сделать вывод, что пользователи тарифа \"Ультра\" отправляют большее количество сообщений в месяц. Среднее значение, дисперсия и стандартное отклонение больше. Есть большое количество месяцев в которые не отправляли сообщений, это можно объяснить тем, что в принципе услуга отправки сообщений не настолько популярна. Распределение данных на обоих тарифах сильно скошенно вправо, присутствуют выбросы в большую сторону. Среднее значение помесячного количества отправленных сообщений пользователей тарифа \"Смарт\" близко к количеству сообщений, включенных в абонентскую плату. Это говорит о том, что этим пользователем характерно превышать лимиты."
   ]
  },
  {
   "cell_type": "code",
   "execution_count": 35,
   "metadata": {
    "scrolled": false
   },
   "outputs": [
    {
     "data": {
      "image/png": "[encoded data removed]",
      "text/plain": [
       "<Figure size 720x432 with 1 Axes>"
      ]
     },
     "metadata": {
      "needs_background": "light"
     },
     "output_type": "display_data"
    },
    {
     "name": "stdout",
     "output_type": "stream",
     "text": [
      "Среднее значение помесячного количества интернет-трафика тарифа 'Смарт': 16208 Мб\n",
      "Среднее значение помесячного количества интернет-трафика тарифа 'Ультра': 19468 Мб\n",
      "\n",
      "\n",
      "Медианное значение помесячного количества интернет-трафика тарифа 'Смарт': 16506 Мб\n",
      "Медианное значение помесячного количества интернет-трафика тарифа 'Ультра': 19308 Мб\n",
      "\n",
      "\n",
      "Дисперсия помесячного количества интернет-трафика тарифа 'Смарт': 34447076.5\n",
      "Дисперсия помесячного количества интернет-трафика тарифа 'Ультра': 101647774.44\n",
      "\n",
      "\n",
      "Стандартное отклонение помесячного количества интернет-трафика тарифа 'Смарт': 5869 Мб\n",
      "Стандартное отклонение помесячного количества интернет-трафика тарифа 'Ультра': 10082 Мб\n"
     ]
    }
   ],
   "source": [
    "# построение гистограмм\n",
    "plt.figure(figsize=(10, 6)) # установление размера поля графика\n",
    "plt.hist([df_smart['mb_used'], df_ultra['mb_used']], label=['smart', 'ultra'],\n",
    "         bins=50, stacked=True, alpha=0.5, edgecolor='black') # построение гистограмм\n",
    "plt.legend() # вывод легенды\n",
    "plt.title('Помесячное количество интернет-трафика') # вывод названия гистограмм\n",
    "plt.xlabel('Количество интернет-трафика, Мб') # вывод подписи оси x\n",
    "plt.ylabel('Частота наблюдений') # вывод подписи оси y\n",
    "plt.show()\n",
    "\n",
    "print('Среднее значение помесячного количества интернет-трафика тарифа \\'Смарт\\':', \n",
    "      round(df_smart['mb_used'].mean()), 'Мб')\n",
    "print('Среднее значение помесячного количества интернет-трафика тарифа \\'Ультра\\':', \n",
    "      round(df_ultra['mb_used'].mean()), 'Мб')\n",
    "print('\\n')\n",
    "print('Медианное значение помесячного количества интернет-трафика тарифа \\'Смарт\\':', \n",
    "      round(df_smart['mb_used'].median()), 'Мб')\n",
    "print('Медианное значение помесячного количества интернет-трафика тарифа \\'Ультра\\':', \n",
    "      round(df_ultra['mb_used'].median()), 'Мб')\n",
    "print('\\n')\n",
    "print('Дисперсия помесячного количества интернет-трафика тарифа \\'Смарт\\':', \n",
    "      round(np.var(df_smart['mb_used']), 2))\n",
    "print('Дисперсия помесячного количества интернет-трафика тарифа \\'Ультра\\':', \n",
    "      round(np.var(df_ultra['mb_used']), 2))\n",
    "print('\\n')\n",
    "print('Стандартное отклонение помесячного количества интернет-трафика тарифа \\'Смарт\\':', \n",
    "      round(np.std(df_smart['mb_used'])), 'Мб')\n",
    "print('Стандартное отклонение помесячного количества интернет-трафика тарифа \\'Ультра\\':', \n",
    "      round(np.std(df_ultra['mb_used'])), 'Мб')"
   ]
  },
  {
   "cell_type": "code",
   "execution_count": 36,
   "metadata": {},
   "outputs": [
    {
     "data": {
      "image/png": "[encoded data removed]",
      "text/plain": [
       "<Figure size 720x432 with 1 Axes>"
      ]
     },
     "metadata": {
      "needs_background": "light"
     },
     "output_type": "display_data"
    }
   ],
   "source": [
    "# построение диаграмм размаха\n",
    "plt.figure(figsize=(10, 6)) # установление размера поля графика\n",
    "plt.boxplot(x=[df_smart['mb_used'], df_ultra['mb_used']], \n",
    "            labels=['smart', 'ultra']) # построение диаграмм размаха\n",
    "plt.title('Помесячное количество интернет-трафика') # вывод названия диаграмм размаха\n",
    "plt.xlabel('Тарифы') # вывод подписи оси x\n",
    "plt.ylabel('Количество интернет-трафика, Мб') # вывод подписи оси y\n",
    "plt.show()"
   ]
  },
  {
   "cell_type": "markdown",
   "metadata": {},
   "source": [
    "Можно сделать вывод, что пользователи тарифа \"Ультра\" тратят большее количество интернет-трафика в месяц. Среднее значение, дисперсия и стандартное отклонение больше, распределение данных скошенно вправо. Распределение данных на тарифе \"Смарт\" близко к нормальному, значения среднего и медианы практически совпадают, присутствуют выбросы как в большую сторону, так и в меньшую сторону. Среднее значение потраченного интернет-трафика пользователей тарифа \"Смарт\" больше количества интернет-трафика, включенного в абонентскую плату. Это говорит о том, что много пользователей этого тарифа превышает лимиты."
   ]
  },
  {
   "cell_type": "markdown",
   "metadata": {},
   "source": [
    "## Проверка гипотез"
   ]
  },
  {
   "cell_type": "markdown",
   "metadata": {},
   "source": [
    "Нам необходимо проверить гипотезы:\n",
    "\n",
    "    * средняя выручка пользователей тарифов «Ультра» и «Смарт» различаются;\n",
    "    * средняя выручка пользователей из Москвы отличается от выручки пользователей из других регионов.\n",
    "    \n",
    "Для начала нам необходимо сформулировать нулевую и альтернативную гипотезы для каждой из гипотез для их проверки."
   ]
  },
  {
   "cell_type": "markdown",
   "metadata": {},
   "source": [
    "### Cредняя выручка пользователей тарифов «Ультра» и «Смарт» различаются"
   ]
  },
  {
   "cell_type": "markdown",
   "metadata": {},
   "source": [
    "В данном конкретном случае нам необходимо сравнить среднее двух совокупностей между собой. Можно сформулировать гипотезы следующим образом:\n",
    "\n",
    "    * H₀ - средняя выручка пользователей тарифов «Ультра» равна средней выручки пользователей тарифов «Смарт»;\n",
    "    * H₁ - средняя выручка пользователей тарифов «Ультра» не равна средней выручки пользователей тарифов «Смарт».\n",
    "    \n",
    "Используем проверку гипотезы о равенстве средних двух генеральных совокупностей. Пороговое значение alpha установим равным 0.05. Для начала нам необходимо проверить равны ли совокупности по размеру, чтобы установить параметр \"равной дисперсии\"."
   ]
  },
  {
   "cell_type": "code",
   "execution_count": 37,
   "metadata": {},
   "outputs": [
    {
     "name": "stdout",
     "output_type": "stream",
     "text": [
      "Совокупность данных пользователей тарифа 'Смарт' больше совокупности данных пользователей тарифа 'Ультра' в: 2.26 раз\n"
     ]
    }
   ],
   "source": [
    "print('Совокупность данных пользователей тарифа \\'Смарт\\' больше совокупности данных пользователей тарифа \\'Ультра\\' в:',\n",
    "      round((len(df_smart) / len(df_ultra)), 2), 'раз') # сравнение размеров совокупностей данных"
   ]
  },
  {
   "cell_type": "markdown",
   "metadata": {},
   "source": [
    "Так как размеры совокупностей разные, установим параметр `equal_var = False`."
   ]
  },
  {
   "cell_type": "code",
   "execution_count": 38,
   "metadata": {},
   "outputs": [
    {
     "name": "stdout",
     "output_type": "stream",
     "text": [
      "p-значение: 4.2606313931076085e-250\n",
      "Отвергаем нулевую гипотезу\n"
     ]
    }
   ],
   "source": [
    "alpha = .05 # критический уровень статистической значимости\n",
    "\n",
    "results = st.ttest_ind(df_ultra['bill'], df_smart['bill'], equal_var=False)\n",
    "\n",
    "print('p-значение:', results.pvalue)\n",
    "\n",
    "if results.pvalue < alpha:\n",
    "    print(\"Отвергаем нулевую гипотезу\")\n",
    "else:\n",
    "    print(\"Не получилось отвергнуть нулевую гипотезу\") "
   ]
  },
  {
   "cell_type": "markdown",
   "metadata": {},
   "source": [
    "Дополнительно построим диаграммы размаха, чтобы проверить результаты Т-теста."
   ]
  },
  {
   "cell_type": "code",
   "execution_count": 39,
   "metadata": {},
   "outputs": [
    {
     "data": {
      "image/png": "[encoded data removed]",
      "text/plain": [
       "<Figure size 720x432 with 1 Axes>"
      ]
     },
     "metadata": {
      "needs_background": "light"
     },
     "output_type": "display_data"
    },
    {
     "name": "stdout",
     "output_type": "stream",
     "text": [
      "Медианное значение выручки тарифа 'Смарт': 1023.0\n",
      "Медианное значение выручки тарифа 'Ультра': 1950.0\n"
     ]
    }
   ],
   "source": [
    "# построение диаграмм размаха\n",
    "plt.figure(figsize=(10, 6)) # установление размера поля графика\n",
    "plt.boxplot(x=[df_smart['bill'], df_ultra['bill']], \n",
    "            labels=['smart', 'ultra']) # построение диаграмм размаха\n",
    "plt.title('Выручка тарифов') # вывод названия диаграмм размаха\n",
    "plt.xlabel('Тарифы') # вывод подписи оси x\n",
    "plt.ylabel('Выручка') # вывод подписи оси y\n",
    "plt.show()\n",
    "print('Медианное значение выручки тарифа \\'Смарт\\':', df_smart['bill'].median())\n",
    "print('Медианное значение выручки тарифа \\'Ультра\\':', df_ultra['bill'].median())"
   ]
  },
  {
   "cell_type": "markdown",
   "metadata": {},
   "source": [
    "По результатам теста видно, что полученное значение p-value говорит о том, что вероятность получить такое или большее различие случайно слишком мало, несмотря на различное количество потраченных денег за различные услуги. Следовательно, с вероятностью 99,9 % средняя выручка пользователей тарифов «Ультра» не равна средней выручки пользователей тарифов «Смарт». Медианные значения выручки по тарифам различаются почти в 2 раза. Если у пользователя подключен тариф «Смарт» с абонентской платой в 550 рублей, то он скорее всего по итогам месяца заплатит гораздо больше из-за нехватки услуг в рамках тарифного пакета."
   ]
  },
  {
   "cell_type": "markdown",
   "metadata": {},
   "source": [
    "### Cредняя выручка пользователей из Москвы отличается от выручки пользователей из других регионов"
   ]
  },
  {
   "cell_type": "markdown",
   "metadata": {},
   "source": [
    "В данном конкретном случае нам необходимо сравнить среднее двух совокупностей между собой. Можно сформулировать гипотезы следующим образом:\n",
    "\n",
    "    * H₀ - средняя выручка пользователей из Москвы равна средней выручки пользователей из других регионов;\n",
    "    * H₁ - средняя выручка пользователей из Москвы не равна средней выручки пользователей из других регионов.\n",
    "    \n",
    "Используем проверку гипотезы о равенстве средних двух генеральных совокупностей. Пороговое значение alpha установим равным 0.05. Для начала проверим значения дисперсий, чтобы установить параметр \"равной дисперсии\"."
   ]
  },
  {
   "cell_type": "code",
   "execution_count": 40,
   "metadata": {},
   "outputs": [
    {
     "name": "stdout",
     "output_type": "stream",
     "text": [
      "Дисперсия выручки пользователей из Москвы: 564710.71\n",
      "Дисперсия выручки пользователей из других регионов: 653886.33\n"
     ]
    }
   ],
   "source": [
    "print('Дисперсия выручки пользователей из Москвы:', \n",
    "      round(np.var(df.loc[df['city'] == 'Москва', 'bill']), 2))\n",
    "print('Дисперсия выручки пользователей из других регионов:', \n",
    "      round(np.var(df.loc[df['city'] != 'Москва', 'bill']), 2))"
   ]
  },
  {
   "cell_type": "markdown",
   "metadata": {},
   "source": [
    "Так как дисперсии разные, установим параметр `equal_var = False`."
   ]
  },
  {
   "cell_type": "code",
   "execution_count": 41,
   "metadata": {},
   "outputs": [
    {
     "name": "stdout",
     "output_type": "stream",
     "text": [
      "p-значение: 0.5257376663729298\n",
      "Не получилось отвергнуть нулевую гипотезу\n"
     ]
    }
   ],
   "source": [
    "alpha = .05 # критический уровень статистической значимости\n",
    "\n",
    "results = st.ttest_ind(df.loc[df['city'] == 'Москва', 'bill'], df.loc[df['city'] != 'Москва', 'bill'], equal_var=False)\n",
    "\n",
    "print('p-значение:', results.pvalue)\n",
    "\n",
    "if results.pvalue < alpha:\n",
    "    print(\"Отвергаем нулевую гипотезу\")\n",
    "else:\n",
    "    print(\"Не получилось отвергнуть нулевую гипотезу\") "
   ]
  },
  {
   "cell_type": "markdown",
   "metadata": {},
   "source": [
    "Дополнительно построим диаграммы размаха, чтобы проверить результаты Т-теста."
   ]
  },
  {
   "cell_type": "code",
   "execution_count": 42,
   "metadata": {},
   "outputs": [
    {
     "data": {
      "image/png": "[encoded data removed]",
      "text/plain": [
       "<Figure size 720x432 with 1 Axes>"
      ]
     },
     "metadata": {
      "needs_background": "light"
     },
     "output_type": "display_data"
    },
    {
     "name": "stdout",
     "output_type": "stream",
     "text": [
      "Медианное значение выручки пользователей из Москвы: 1750.0\n",
      "Медианное значение выручки пользователей из других регионов: 1583.0\n"
     ]
    }
   ],
   "source": [
    "# построение диаграмм размаха\n",
    "plt.figure(figsize=(10, 6)) # установление размера поля графика\n",
    "plt.boxplot(x=[df.loc[df['city'] == 'Москва', 'bill'], df.loc[df['city'] != 'Москва', 'bill']], \n",
    "            labels=['Москва', 'Другие регионы']) # построение диаграмм размаха\n",
    "plt.title('Выручка в Москве и других регионах') # вывод названия диаграмм размаха\n",
    "plt.xlabel('Регионы') # вывод подписи оси x\n",
    "plt.ylabel('Выручка') # вывод подписи оси y\n",
    "plt.show()\n",
    "print('Медианное значение выручки пользователей из Москвы:',\n",
    "      df.loc[df['city'] == 'Москва', 'bill'].median())\n",
    "print('Медианное значение выручки пользователей из других регионов:', \n",
    "      df.loc[df['city'] != 'Москва', 'bill'].median())"
   ]
  },
  {
   "cell_type": "markdown",
   "metadata": {},
   "source": [
    "По результатам теста видно, что полученное значение p-value говорит о том, что вероятность получить такое или большее различие случайно велико, следовательно средняя выручка пользователей пользователей из Москвы, с вероятностью 37,2 % не отличается от средней выручки пользователей из других регионов."
   ]
  },
  {
   "cell_type": "markdown",
   "metadata": {},
   "source": [
    "## Выводы"
   ]
  },
  {
   "cell_type": "markdown",
   "metadata": {},
   "source": [
    "Основной задачей исследования являлось исследование поведения пользователей двух тарифов «Смарт» и «Ультра» с целью выяснить какой из тарифов лучше. В результате анализа данных мы определили, что:\n",
    "\n",
    "* пользователи тарифа «Ультра» совершают большее количество звонков, отправляют большее количество сообщений и используют большее количество интернет-трафика, чем пользователи тарифа «Смарт». Но пользователи тарифа «Ультра» редко превышают лимиты услуг, включенные в абонентсткую плату;\n",
    "* для пользователей тарифа «Смарт» характерно превышение лимита услуг, включенных в абонетскую плату, соответственно им приходится доплачивать за услуги сверх лимита. В среднем абоненты доплачивают 473 рубля в месяц (+ 86 %);\n",
    "* пользователи из Москвы трятят практически такое же количество денег (1750 рублей) на услуги связи, что и пользователи из других регионов (1583 рубля). Разница в 167 рублей статистически не значима;\n",
    "* Средняя выручка пользователей тарифов «Ультра» (1950 рублей) больше средней выручки пользователей тарифов «Смарт» (1023 рубля), следовательно для компании более выгоден тариф «Ультра»."
   ]
  }
 ],
 "metadata": {
  "ExecuteTimeLog": [
   {
    "duration": 482,
    "start_time": "2022-04-06T20:29:54.113Z"
   },
   {
    "duration": 250,
    "start_time": "2022-04-06T20:29:54.598Z"
   },
   {
    "duration": 3,
    "start_time": "2022-04-06T20:34:42.343Z"
   },
   {
    "duration": 258,
    "start_time": "2022-04-06T20:34:42.368Z"
   },
   {
    "duration": 216,
    "start_time": "2022-04-06T20:34:42.629Z"
   },
   {
    "duration": 161,
    "start_time": "2022-04-06T20:34:42.847Z"
   },
   {
    "duration": 31,
    "start_time": "2022-04-06T20:34:43.010Z"
   },
   {
    "duration": 49,
    "start_time": "2022-04-06T20:34:43.043Z"
   },
   {
    "duration": 4,
    "start_time": "2022-04-06T20:37:28.085Z"
   },
   {
    "duration": 252,
    "start_time": "2022-04-06T20:37:28.092Z"
   },
   {
    "duration": 210,
    "start_time": "2022-04-06T20:37:28.348Z"
   },
   {
    "duration": 157,
    "start_time": "2022-04-06T20:37:28.561Z"
   },
   {
    "duration": 32,
    "start_time": "2022-04-06T20:37:28.722Z"
   },
   {
    "duration": 54,
    "start_time": "2022-04-06T20:37:28.756Z"
   },
   {
    "duration": 22,
    "start_time": "2022-04-06T20:37:28.812Z"
   },
   {
    "duration": 134,
    "start_time": "2022-04-06T20:37:28.836Z"
   },
   {
    "duration": 81,
    "start_time": "2022-04-06T20:37:28.972Z"
   },
   {
    "duration": 40,
    "start_time": "2022-04-06T20:37:29.055Z"
   },
   {
    "duration": 4,
    "start_time": "2022-04-06T20:41:16.198Z"
   },
   {
    "duration": 248,
    "start_time": "2022-04-06T20:41:16.207Z"
   },
   {
    "duration": 212,
    "start_time": "2022-04-06T20:41:16.457Z"
   },
   {
    "duration": 156,
    "start_time": "2022-04-06T20:41:16.671Z"
   },
   {
    "duration": 31,
    "start_time": "2022-04-06T20:41:16.830Z"
   },
   {
    "duration": 47,
    "start_time": "2022-04-06T20:41:16.863Z"
   },
   {
    "duration": 22,
    "start_time": "2022-04-06T20:41:16.912Z"
   },
   {
    "duration": 131,
    "start_time": "2022-04-06T20:41:16.936Z"
   },
   {
    "duration": 79,
    "start_time": "2022-04-06T20:41:17.069Z"
   },
   {
    "duration": 41,
    "start_time": "2022-04-06T20:41:17.150Z"
   },
   {
    "duration": 21,
    "start_time": "2022-04-06T20:41:17.194Z"
   },
   {
    "duration": 797,
    "start_time": "2022-04-06T20:41:17.217Z"
   },
   {
    "duration": 39,
    "start_time": "2022-04-06T20:41:18.016Z"
   },
   {
    "duration": 107,
    "start_time": "2022-04-06T20:41:18.057Z"
   },
   {
    "duration": 377,
    "start_time": "2022-04-06T20:41:18.166Z"
   },
   {
    "duration": 4,
    "start_time": "2022-04-06T20:46:48.532Z"
   },
   {
    "duration": 263,
    "start_time": "2022-04-06T20:46:48.539Z"
   },
   {
    "duration": 207,
    "start_time": "2022-04-06T20:46:48.804Z"
   },
   {
    "duration": 160,
    "start_time": "2022-04-06T20:46:49.014Z"
   },
   {
    "duration": 35,
    "start_time": "2022-04-06T20:46:49.177Z"
   },
   {
    "duration": 39,
    "start_time": "2022-04-06T20:46:49.214Z"
   },
   {
    "duration": 34,
    "start_time": "2022-04-06T20:46:49.256Z"
   },
   {
    "duration": 131,
    "start_time": "2022-04-06T20:46:49.292Z"
   },
   {
    "duration": 86,
    "start_time": "2022-04-06T20:46:49.425Z"
   },
   {
    "duration": 20,
    "start_time": "2022-04-06T20:46:49.513Z"
   },
   {
    "duration": 18,
    "start_time": "2022-04-06T20:46:49.536Z"
   },
   {
    "duration": 684,
    "start_time": "2022-04-06T20:46:49.556Z"
   },
   {
    "duration": 52,
    "start_time": "2022-04-06T20:46:50.242Z"
   },
   {
    "duration": 93,
    "start_time": "2022-04-06T20:46:50.296Z"
   },
   {
    "duration": 367,
    "start_time": "2022-04-06T20:46:50.392Z"
   },
   {
    "duration": 41,
    "start_time": "2022-04-06T20:46:50.761Z"
   },
   {
    "duration": 81,
    "start_time": "2022-04-06T20:46:50.804Z"
   },
   {
    "duration": 465,
    "start_time": "2022-04-06T20:46:50.887Z"
   },
   {
    "duration": 49,
    "start_time": "2022-04-06T20:46:51.354Z"
   },
   {
    "duration": 42,
    "start_time": "2022-04-06T20:46:51.405Z"
   },
   {
    "duration": 5,
    "start_time": "2022-04-06T20:51:00.236Z"
   },
   {
    "duration": 402,
    "start_time": "2022-04-06T20:51:00.244Z"
   },
   {
    "duration": 213,
    "start_time": "2022-04-06T20:51:00.648Z"
   },
   {
    "duration": 154,
    "start_time": "2022-04-06T20:51:00.863Z"
   },
   {
    "duration": 31,
    "start_time": "2022-04-06T20:51:01.021Z"
   },
   {
    "duration": 53,
    "start_time": "2022-04-06T20:51:01.054Z"
   },
   {
    "duration": 22,
    "start_time": "2022-04-06T20:51:01.110Z"
   },
   {
    "duration": 139,
    "start_time": "2022-04-06T20:51:01.135Z"
   },
   {
    "duration": 78,
    "start_time": "2022-04-06T20:51:01.276Z"
   },
   {
    "duration": 45,
    "start_time": "2022-04-06T20:51:01.356Z"
   },
   {
    "duration": 23,
    "start_time": "2022-04-06T20:51:01.403Z"
   },
   {
    "duration": 687,
    "start_time": "2022-04-06T20:51:01.428Z"
   },
   {
    "duration": 38,
    "start_time": "2022-04-06T20:51:02.117Z"
   },
   {
    "duration": 104,
    "start_time": "2022-04-06T20:51:02.159Z"
   },
   {
    "duration": 413,
    "start_time": "2022-04-06T20:51:02.265Z"
   },
   {
    "duration": 29,
    "start_time": "2022-04-06T20:51:02.684Z"
   },
   {
    "duration": 97,
    "start_time": "2022-04-06T20:51:02.716Z"
   },
   {
    "duration": 500,
    "start_time": "2022-04-06T20:51:02.816Z"
   },
   {
    "duration": 35,
    "start_time": "2022-04-06T20:51:03.320Z"
   },
   {
    "duration": 61,
    "start_time": "2022-04-06T20:51:03.358Z"
   },
   {
    "duration": 16,
    "start_time": "2022-04-06T20:51:03.421Z"
   },
   {
    "duration": 128,
    "start_time": "2022-04-06T20:51:03.439Z"
   },
   {
    "duration": 38,
    "start_time": "2022-04-06T20:51:03.569Z"
   },
   {
    "duration": 9,
    "start_time": "2022-04-06T20:51:03.610Z"
   },
   {
    "duration": 32,
    "start_time": "2022-04-06T20:51:03.622Z"
   },
   {
    "duration": 52,
    "start_time": "2022-04-06T20:51:03.686Z"
   },
   {
    "duration": 11,
    "start_time": "2022-04-06T20:51:03.740Z"
   },
   {
    "duration": 8,
    "start_time": "2022-04-06T20:51:03.785Z"
   },
   {
    "duration": 14,
    "start_time": "2022-04-06T20:51:03.796Z"
   },
   {
    "duration": 16,
    "start_time": "2022-04-06T20:51:03.812Z"
   },
   {
    "duration": 12,
    "start_time": "2022-04-06T20:51:03.830Z"
   },
   {
    "duration": 42,
    "start_time": "2022-04-06T20:51:03.845Z"
   },
   {
    "duration": 12,
    "start_time": "2022-04-06T20:51:03.889Z"
   },
   {
    "duration": 72,
    "start_time": "2022-04-07T07:54:58.539Z"
   },
   {
    "duration": 544,
    "start_time": "2022-04-07T07:55:05.473Z"
   },
   {
    "duration": 264,
    "start_time": "2022-04-07T07:55:06.020Z"
   },
   {
    "duration": 213,
    "start_time": "2022-04-07T07:55:06.286Z"
   },
   {
    "duration": 146,
    "start_time": "2022-04-07T07:55:06.501Z"
   },
   {
    "duration": 44,
    "start_time": "2022-04-07T07:55:06.649Z"
   },
   {
    "duration": 51,
    "start_time": "2022-04-07T07:55:06.695Z"
   },
   {
    "duration": 39,
    "start_time": "2022-04-07T07:55:06.748Z"
   },
   {
    "duration": 128,
    "start_time": "2022-04-07T07:55:06.789Z"
   },
   {
    "duration": 86,
    "start_time": "2022-04-07T07:55:06.920Z"
   },
   {
    "duration": 20,
    "start_time": "2022-04-07T07:55:07.009Z"
   },
   {
    "duration": 19,
    "start_time": "2022-04-07T07:55:07.031Z"
   },
   {
    "duration": 653,
    "start_time": "2022-04-07T07:55:07.083Z"
   },
   {
    "duration": 52,
    "start_time": "2022-04-07T07:55:07.738Z"
   },
   {
    "duration": 106,
    "start_time": "2022-04-07T07:55:07.792Z"
   },
   {
    "duration": 371,
    "start_time": "2022-04-07T07:55:07.900Z"
   },
   {
    "duration": 33,
    "start_time": "2022-04-07T07:55:08.273Z"
   },
   {
    "duration": 91,
    "start_time": "2022-04-07T07:55:08.309Z"
   },
   {
    "duration": 466,
    "start_time": "2022-04-07T07:55:08.402Z"
   },
   {
    "duration": 36,
    "start_time": "2022-04-07T07:55:08.870Z"
   },
   {
    "duration": 38,
    "start_time": "2022-04-07T07:55:08.909Z"
   },
   {
    "duration": 71,
    "start_time": "2022-04-07T07:55:11.502Z"
   },
   {
    "duration": 46,
    "start_time": "2022-04-07T08:30:04.685Z"
   },
   {
    "duration": 10,
    "start_time": "2022-04-07T08:39:51.693Z"
   },
   {
    "duration": 18,
    "start_time": "2022-04-07T08:45:42.362Z"
   },
   {
    "duration": 23,
    "start_time": "2022-04-07T08:46:21.267Z"
   },
   {
    "duration": 5,
    "start_time": "2022-04-07T09:02:41.801Z"
   },
   {
    "duration": 48,
    "start_time": "2022-04-07T09:03:21.908Z"
   },
   {
    "duration": 18,
    "start_time": "2022-04-07T09:04:37.189Z"
   },
   {
    "duration": 9,
    "start_time": "2022-04-07T09:05:06.886Z"
   },
   {
    "duration": 41,
    "start_time": "2022-04-07T09:31:33.503Z"
   },
   {
    "duration": 4,
    "start_time": "2022-04-07T09:31:47.054Z"
   },
   {
    "duration": 4,
    "start_time": "2022-04-07T09:31:49.156Z"
   },
   {
    "duration": 9,
    "start_time": "2022-04-07T09:49:55.808Z"
   },
   {
    "duration": 14,
    "start_time": "2022-04-07T09:50:12.209Z"
   },
   {
    "duration": 27,
    "start_time": "2022-04-07T09:53:14.058Z"
   },
   {
    "duration": 477,
    "start_time": "2022-04-07T09:55:27.784Z"
   },
   {
    "duration": 15,
    "start_time": "2022-04-07T09:56:21.296Z"
   },
   {
    "duration": 25,
    "start_time": "2022-04-07T11:04:08.957Z"
   },
   {
    "duration": 9,
    "start_time": "2022-04-07T11:21:03.261Z"
   },
   {
    "duration": 21,
    "start_time": "2022-04-07T11:21:11.509Z"
   },
   {
    "duration": 6,
    "start_time": "2022-04-07T11:22:37.507Z"
   },
   {
    "duration": 22,
    "start_time": "2022-04-07T11:23:53.159Z"
   },
   {
    "duration": 3,
    "start_time": "2022-04-07T11:24:46.982Z"
   },
   {
    "duration": 284,
    "start_time": "2022-04-07T11:24:46.988Z"
   },
   {
    "duration": 209,
    "start_time": "2022-04-07T11:24:47.274Z"
   },
   {
    "duration": 159,
    "start_time": "2022-04-07T11:24:47.486Z"
   },
   {
    "duration": 39,
    "start_time": "2022-04-07T11:24:47.648Z"
   },
   {
    "duration": 51,
    "start_time": "2022-04-07T11:24:47.690Z"
   },
   {
    "duration": 43,
    "start_time": "2022-04-07T11:24:47.744Z"
   },
   {
    "duration": 131,
    "start_time": "2022-04-07T11:24:47.790Z"
   },
   {
    "duration": 90,
    "start_time": "2022-04-07T11:24:47.925Z"
   },
   {
    "duration": 21,
    "start_time": "2022-04-07T11:24:48.018Z"
   },
   {
    "duration": 45,
    "start_time": "2022-04-07T11:24:48.042Z"
   },
   {
    "duration": 738,
    "start_time": "2022-04-07T11:24:48.090Z"
   },
   {
    "duration": 39,
    "start_time": "2022-04-07T11:24:48.831Z"
   },
   {
    "duration": 79,
    "start_time": "2022-04-07T11:24:48.885Z"
   },
   {
    "duration": 442,
    "start_time": "2022-04-07T11:24:48.967Z"
   },
   {
    "duration": 28,
    "start_time": "2022-04-07T11:24:49.412Z"
   },
   {
    "duration": 120,
    "start_time": "2022-04-07T11:24:49.442Z"
   },
   {
    "duration": 537,
    "start_time": "2022-04-07T11:24:49.565Z"
   },
   {
    "duration": 34,
    "start_time": "2022-04-07T11:24:50.104Z"
   },
   {
    "duration": 59,
    "start_time": "2022-04-07T11:24:50.140Z"
   },
   {
    "duration": 46,
    "start_time": "2022-04-07T11:24:50.201Z"
   },
   {
    "duration": 8,
    "start_time": "2022-04-07T11:24:50.249Z"
   },
   {
    "duration": 47,
    "start_time": "2022-04-07T11:24:50.259Z"
   },
   {
    "duration": 43,
    "start_time": "2022-04-07T11:24:50.310Z"
   },
   {
    "duration": 30,
    "start_time": "2022-04-07T11:24:50.355Z"
   },
   {
    "duration": 8,
    "start_time": "2022-04-07T11:24:50.387Z"
   },
   {
    "duration": 11,
    "start_time": "2022-04-07T11:24:50.398Z"
   },
   {
    "duration": 23,
    "start_time": "2022-04-07T11:24:55.009Z"
   },
   {
    "duration": 832,
    "start_time": "2022-04-07T11:27:51.937Z"
   },
   {
    "duration": 5,
    "start_time": "2022-04-07T11:33:48.998Z"
   },
   {
    "duration": 112,
    "start_time": "2022-04-07T11:33:50.492Z"
   },
   {
    "duration": 15,
    "start_time": "2022-04-07T11:34:04.781Z"
   },
   {
    "duration": 22,
    "start_time": "2022-04-07T11:34:42.981Z"
   },
   {
    "duration": 7,
    "start_time": "2022-04-07T11:35:01.349Z"
   },
   {
    "duration": 4,
    "start_time": "2022-04-07T11:35:10.329Z"
   },
   {
    "duration": 252,
    "start_time": "2022-04-07T11:35:10.340Z"
   },
   {
    "duration": 204,
    "start_time": "2022-04-07T11:35:10.594Z"
   },
   {
    "duration": 144,
    "start_time": "2022-04-07T11:35:10.800Z"
   },
   {
    "duration": 50,
    "start_time": "2022-04-07T11:35:10.946Z"
   },
   {
    "duration": 40,
    "start_time": "2022-04-07T11:35:11.001Z"
   },
   {
    "duration": 44,
    "start_time": "2022-04-07T11:35:11.045Z"
   },
   {
    "duration": 128,
    "start_time": "2022-04-07T11:35:11.092Z"
   },
   {
    "duration": 80,
    "start_time": "2022-04-07T11:35:11.223Z"
   },
   {
    "duration": 21,
    "start_time": "2022-04-07T11:35:11.305Z"
   },
   {
    "duration": 29,
    "start_time": "2022-04-07T11:35:11.328Z"
   },
   {
    "duration": 689,
    "start_time": "2022-04-07T11:35:11.359Z"
   },
   {
    "duration": 46,
    "start_time": "2022-04-07T11:35:12.050Z"
   },
   {
    "duration": 92,
    "start_time": "2022-04-07T11:35:12.098Z"
   },
   {
    "duration": 365,
    "start_time": "2022-04-07T11:35:12.193Z"
   },
   {
    "duration": 41,
    "start_time": "2022-04-07T11:35:12.560Z"
   },
   {
    "duration": 81,
    "start_time": "2022-04-07T11:35:12.603Z"
   },
   {
    "duration": 454,
    "start_time": "2022-04-07T11:35:12.686Z"
   },
   {
    "duration": 43,
    "start_time": "2022-04-07T11:35:13.142Z"
   },
   {
    "duration": 34,
    "start_time": "2022-04-07T11:35:13.187Z"
   },
   {
    "duration": 100,
    "start_time": "2022-04-07T11:35:13.222Z"
   },
   {
    "duration": 9,
    "start_time": "2022-04-07T11:35:13.324Z"
   },
   {
    "duration": 49,
    "start_time": "2022-04-07T11:35:13.336Z"
   },
   {
    "duration": 44,
    "start_time": "2022-04-07T11:35:13.388Z"
   },
   {
    "duration": 6,
    "start_time": "2022-04-07T11:35:16.020Z"
   },
   {
    "duration": 6,
    "start_time": "2022-04-07T11:35:17.939Z"
   },
   {
    "duration": 26,
    "start_time": "2022-04-07T11:35:22.893Z"
   },
   {
    "duration": 41,
    "start_time": "2022-04-07T11:36:30.383Z"
   },
   {
    "duration": 8,
    "start_time": "2022-04-07T11:39:08.547Z"
   },
   {
    "duration": 4,
    "start_time": "2022-04-07T11:40:18.311Z"
   },
   {
    "duration": 251,
    "start_time": "2022-04-07T11:40:18.318Z"
   },
   {
    "duration": 316,
    "start_time": "2022-04-07T11:40:18.572Z"
   },
   {
    "duration": 154,
    "start_time": "2022-04-07T11:40:18.891Z"
   },
   {
    "duration": 42,
    "start_time": "2022-04-07T11:40:19.048Z"
   },
   {
    "duration": 46,
    "start_time": "2022-04-07T11:40:19.092Z"
   },
   {
    "duration": 22,
    "start_time": "2022-04-07T11:40:19.140Z"
   },
   {
    "duration": 141,
    "start_time": "2022-04-07T11:40:19.165Z"
   },
   {
    "duration": 84,
    "start_time": "2022-04-07T11:40:19.310Z"
   },
   {
    "duration": 21,
    "start_time": "2022-04-07T11:40:19.396Z"
   },
   {
    "duration": 15,
    "start_time": "2022-04-07T11:40:19.420Z"
   },
   {
    "duration": 648,
    "start_time": "2022-04-07T11:40:19.437Z"
   },
   {
    "duration": 40,
    "start_time": "2022-04-07T11:40:20.087Z"
   },
   {
    "duration": 104,
    "start_time": "2022-04-07T11:40:20.129Z"
   },
   {
    "duration": 365,
    "start_time": "2022-04-07T11:40:20.235Z"
   },
   {
    "duration": 27,
    "start_time": "2022-04-07T11:40:20.603Z"
   },
   {
    "duration": 87,
    "start_time": "2022-04-07T11:40:20.632Z"
   },
   {
    "duration": 515,
    "start_time": "2022-04-07T11:40:20.721Z"
   },
   {
    "duration": 32,
    "start_time": "2022-04-07T11:40:21.238Z"
   },
   {
    "duration": 33,
    "start_time": "2022-04-07T11:40:21.285Z"
   },
   {
    "duration": 65,
    "start_time": "2022-04-07T11:40:21.320Z"
   },
   {
    "duration": 9,
    "start_time": "2022-04-07T11:40:21.387Z"
   },
   {
    "duration": 24,
    "start_time": "2022-04-07T11:40:21.398Z"
   },
   {
    "duration": 77,
    "start_time": "2022-04-07T11:40:21.426Z"
   },
   {
    "duration": 3,
    "start_time": "2022-04-07T11:40:21.505Z"
   },
   {
    "duration": 8,
    "start_time": "2022-04-07T11:40:21.511Z"
   },
   {
    "duration": 8,
    "start_time": "2022-04-07T11:40:21.521Z"
   },
   {
    "duration": 10,
    "start_time": "2022-04-07T11:40:21.531Z"
   },
   {
    "duration": 9,
    "start_time": "2022-04-07T11:40:54.051Z"
   },
   {
    "duration": 25,
    "start_time": "2022-04-07T11:41:40.395Z"
   },
   {
    "duration": 25,
    "start_time": "2022-04-07T11:41:42.947Z"
   },
   {
    "duration": 44,
    "start_time": "2022-04-07T11:46:19.506Z"
   },
   {
    "duration": 1978,
    "start_time": "2022-04-07T11:49:29.664Z"
   },
   {
    "duration": 16,
    "start_time": "2022-04-07T11:50:17.313Z"
   },
   {
    "duration": 23,
    "start_time": "2022-04-07T11:54:17.097Z"
   },
   {
    "duration": 8,
    "start_time": "2022-04-07T11:54:28.777Z"
   },
   {
    "duration": 43,
    "start_time": "2022-04-07T11:56:44.697Z"
   },
   {
    "duration": 4,
    "start_time": "2022-04-07T11:57:21.342Z"
   },
   {
    "duration": 263,
    "start_time": "2022-04-07T11:57:21.348Z"
   },
   {
    "duration": 207,
    "start_time": "2022-04-07T11:57:21.613Z"
   },
   {
    "duration": 150,
    "start_time": "2022-04-07T11:57:21.823Z"
   },
   {
    "duration": 35,
    "start_time": "2022-04-07T11:57:21.976Z"
   },
   {
    "duration": 42,
    "start_time": "2022-04-07T11:57:22.014Z"
   },
   {
    "duration": 46,
    "start_time": "2022-04-07T11:57:22.059Z"
   },
   {
    "duration": 135,
    "start_time": "2022-04-07T11:57:22.108Z"
   },
   {
    "duration": 84,
    "start_time": "2022-04-07T11:57:22.248Z"
   },
   {
    "duration": 20,
    "start_time": "2022-04-07T11:57:22.335Z"
   },
   {
    "duration": 33,
    "start_time": "2022-04-07T11:57:22.358Z"
   },
   {
    "duration": 650,
    "start_time": "2022-04-07T11:57:22.394Z"
   },
   {
    "duration": 51,
    "start_time": "2022-04-07T11:57:23.046Z"
   },
   {
    "duration": 92,
    "start_time": "2022-04-07T11:57:23.099Z"
   },
   {
    "duration": 413,
    "start_time": "2022-04-07T11:57:23.193Z"
   },
   {
    "duration": 28,
    "start_time": "2022-04-07T11:57:23.609Z"
   },
   {
    "duration": 86,
    "start_time": "2022-04-07T11:57:23.639Z"
   },
   {
    "duration": 472,
    "start_time": "2022-04-07T11:57:23.728Z"
   },
   {
    "duration": 32,
    "start_time": "2022-04-07T11:57:24.202Z"
   },
   {
    "duration": 52,
    "start_time": "2022-04-07T11:57:24.236Z"
   },
   {
    "duration": 44,
    "start_time": "2022-04-07T11:57:28.205Z"
   },
   {
    "duration": 3,
    "start_time": "2022-04-07T11:58:30.427Z"
   },
   {
    "duration": 267,
    "start_time": "2022-04-07T11:58:30.436Z"
   },
   {
    "duration": 204,
    "start_time": "2022-04-07T11:58:30.706Z"
   },
   {
    "duration": 155,
    "start_time": "2022-04-07T11:58:30.912Z"
   },
   {
    "duration": 38,
    "start_time": "2022-04-07T11:58:31.070Z"
   },
   {
    "duration": 41,
    "start_time": "2022-04-07T11:58:31.110Z"
   },
   {
    "duration": 38,
    "start_time": "2022-04-07T11:58:31.154Z"
   },
   {
    "duration": 135,
    "start_time": "2022-04-07T11:58:31.194Z"
   },
   {
    "duration": 81,
    "start_time": "2022-04-07T11:58:31.332Z"
   },
   {
    "duration": 21,
    "start_time": "2022-04-07T11:58:31.416Z"
   },
   {
    "duration": 44,
    "start_time": "2022-04-07T11:58:31.441Z"
   },
   {
    "duration": 684,
    "start_time": "2022-04-07T11:58:31.488Z"
   },
   {
    "duration": 40,
    "start_time": "2022-04-07T11:58:32.175Z"
   },
   {
    "duration": 100,
    "start_time": "2022-04-07T11:58:32.217Z"
   },
   {
    "duration": 384,
    "start_time": "2022-04-07T11:58:32.319Z"
   },
   {
    "duration": 28,
    "start_time": "2022-04-07T11:58:32.705Z"
   },
   {
    "duration": 89,
    "start_time": "2022-04-07T11:58:32.735Z"
   },
   {
    "duration": 474,
    "start_time": "2022-04-07T11:58:32.826Z"
   },
   {
    "duration": 33,
    "start_time": "2022-04-07T11:58:33.303Z"
   },
   {
    "duration": 53,
    "start_time": "2022-04-07T11:58:33.338Z"
   },
   {
    "duration": 102,
    "start_time": "2022-04-07T11:58:33.394Z"
   },
   {
    "duration": 10,
    "start_time": "2022-04-07T11:58:33.498Z"
   },
   {
    "duration": 43,
    "start_time": "2022-04-07T11:58:33.510Z"
   },
   {
    "duration": 57,
    "start_time": "2022-04-07T11:58:33.555Z"
   },
   {
    "duration": 4,
    "start_time": "2022-04-07T11:58:33.614Z"
   },
   {
    "duration": 16,
    "start_time": "2022-04-07T11:58:33.620Z"
   },
   {
    "duration": 16,
    "start_time": "2022-04-07T11:58:33.639Z"
   },
   {
    "duration": 16,
    "start_time": "2022-04-07T11:58:33.657Z"
   },
   {
    "duration": 23,
    "start_time": "2022-04-07T12:01:40.285Z"
   },
   {
    "duration": 22,
    "start_time": "2022-04-07T12:02:07.399Z"
   },
   {
    "duration": 1722,
    "start_time": "2022-04-07T12:06:19.781Z"
   },
   {
    "duration": 1889,
    "start_time": "2022-04-07T12:06:44.391Z"
   },
   {
    "duration": 20,
    "start_time": "2022-04-07T12:16:30.582Z"
   },
   {
    "duration": 18,
    "start_time": "2022-04-07T12:23:36.036Z"
   },
   {
    "duration": 4,
    "start_time": "2022-04-07T12:23:45.772Z"
   },
   {
    "duration": 246,
    "start_time": "2022-04-07T12:23:45.782Z"
   },
   {
    "duration": 207,
    "start_time": "2022-04-07T12:23:46.031Z"
   },
   {
    "duration": 158,
    "start_time": "2022-04-07T12:23:46.241Z"
   },
   {
    "duration": 31,
    "start_time": "2022-04-07T12:23:46.402Z"
   },
   {
    "duration": 54,
    "start_time": "2022-04-07T12:23:46.438Z"
   },
   {
    "duration": 25,
    "start_time": "2022-04-07T12:23:46.494Z"
   },
   {
    "duration": 146,
    "start_time": "2022-04-07T12:23:46.522Z"
   },
   {
    "duration": 71,
    "start_time": "2022-04-07T12:23:46.671Z"
   },
   {
    "duration": 19,
    "start_time": "2022-04-07T12:23:46.744Z"
   },
   {
    "duration": 14,
    "start_time": "2022-04-07T12:23:46.785Z"
   },
   {
    "duration": 618,
    "start_time": "2022-04-07T12:23:46.801Z"
   },
   {
    "duration": 43,
    "start_time": "2022-04-07T12:23:47.422Z"
   },
   {
    "duration": 82,
    "start_time": "2022-04-07T12:23:47.484Z"
   },
   {
    "duration": 384,
    "start_time": "2022-04-07T12:23:47.585Z"
   },
   {
    "duration": 32,
    "start_time": "2022-04-07T12:23:47.972Z"
   },
   {
    "duration": 83,
    "start_time": "2022-04-07T12:23:48.006Z"
   },
   {
    "duration": 502,
    "start_time": "2022-04-07T12:23:48.091Z"
   },
   {
    "duration": 35,
    "start_time": "2022-04-07T12:23:48.596Z"
   },
   {
    "duration": 67,
    "start_time": "2022-04-07T12:23:48.633Z"
   },
   {
    "duration": 47,
    "start_time": "2022-04-07T12:23:48.703Z"
   },
   {
    "duration": 32,
    "start_time": "2022-04-07T12:23:48.753Z"
   },
   {
    "duration": 24,
    "start_time": "2022-04-07T12:23:48.788Z"
   },
   {
    "duration": 42,
    "start_time": "2022-04-07T12:23:48.814Z"
   },
   {
    "duration": 3,
    "start_time": "2022-04-07T12:23:48.885Z"
   },
   {
    "duration": 7,
    "start_time": "2022-04-07T12:23:48.890Z"
   },
   {
    "duration": 5,
    "start_time": "2022-04-07T12:23:48.900Z"
   },
   {
    "duration": 9,
    "start_time": "2022-04-07T12:23:48.907Z"
   },
   {
    "duration": 21,
    "start_time": "2022-04-07T12:23:59.802Z"
   },
   {
    "duration": 9,
    "start_time": "2022-04-07T12:24:51.316Z"
   },
   {
    "duration": 26,
    "start_time": "2022-04-07T12:25:09.553Z"
   },
   {
    "duration": 9,
    "start_time": "2022-04-07T12:25:32.506Z"
   },
   {
    "duration": 14,
    "start_time": "2022-04-07T12:34:26.920Z"
   },
   {
    "duration": 12,
    "start_time": "2022-04-07T12:35:41.450Z"
   },
   {
    "duration": 18,
    "start_time": "2022-04-07T12:36:40.160Z"
   },
   {
    "duration": 16,
    "start_time": "2022-04-07T12:37:01.577Z"
   },
   {
    "duration": 16,
    "start_time": "2022-04-07T12:37:15.696Z"
   },
   {
    "duration": 433,
    "start_time": "2022-04-07T14:48:32.795Z"
   },
   {
    "duration": 200,
    "start_time": "2022-04-07T14:48:33.230Z"
   },
   {
    "duration": 174,
    "start_time": "2022-04-07T14:48:33.431Z"
   },
   {
    "duration": 109,
    "start_time": "2022-04-07T14:48:33.608Z"
   },
   {
    "duration": 22,
    "start_time": "2022-04-07T14:48:33.719Z"
   },
   {
    "duration": 31,
    "start_time": "2022-04-07T14:48:33.743Z"
   },
   {
    "duration": 31,
    "start_time": "2022-04-07T14:48:33.776Z"
   },
   {
    "duration": 92,
    "start_time": "2022-04-07T14:48:33.809Z"
   },
   {
    "duration": 51,
    "start_time": "2022-04-07T14:48:33.904Z"
   },
   {
    "duration": 16,
    "start_time": "2022-04-07T14:48:33.958Z"
   },
   {
    "duration": 32,
    "start_time": "2022-04-07T14:48:33.975Z"
   },
   {
    "duration": 487,
    "start_time": "2022-04-07T14:48:34.008Z"
   },
   {
    "duration": 29,
    "start_time": "2022-04-07T14:48:34.502Z"
   },
   {
    "duration": 78,
    "start_time": "2022-04-07T14:48:34.533Z"
   },
   {
    "duration": 271,
    "start_time": "2022-04-07T14:48:34.613Z"
   },
   {
    "duration": 26,
    "start_time": "2022-04-07T14:48:34.886Z"
   },
   {
    "duration": 45,
    "start_time": "2022-04-07T14:48:34.913Z"
   },
   {
    "duration": 343,
    "start_time": "2022-04-07T14:48:34.960Z"
   },
   {
    "duration": 25,
    "start_time": "2022-04-07T14:48:35.305Z"
   },
   {
    "duration": 26,
    "start_time": "2022-04-07T14:48:35.332Z"
   },
   {
    "duration": 96,
    "start_time": "2022-04-07T14:48:35.360Z"
   },
   {
    "duration": 7,
    "start_time": "2022-04-07T14:48:35.458Z"
   },
   {
    "duration": 35,
    "start_time": "2022-04-07T14:48:35.467Z"
   },
   {
    "duration": 32,
    "start_time": "2022-04-07T14:48:35.503Z"
   },
   {
    "duration": 2,
    "start_time": "2022-04-07T14:48:35.537Z"
   },
   {
    "duration": 10,
    "start_time": "2022-04-07T14:48:35.541Z"
   },
   {
    "duration": 7,
    "start_time": "2022-04-07T14:48:35.554Z"
   },
   {
    "duration": 11,
    "start_time": "2022-04-07T14:48:35.564Z"
   },
   {
    "duration": 4,
    "start_time": "2022-04-07T14:49:25.256Z"
   },
   {
    "duration": 19,
    "start_time": "2022-04-07T14:49:33.720Z"
   },
   {
    "duration": 20,
    "start_time": "2022-04-07T14:49:57.790Z"
   },
   {
    "duration": 19,
    "start_time": "2022-04-07T14:50:11.039Z"
   },
   {
    "duration": 20,
    "start_time": "2022-04-07T14:55:37.124Z"
   },
   {
    "duration": 188,
    "start_time": "2022-04-07T17:27:29.511Z"
   },
   {
    "duration": 368,
    "start_time": "2022-04-07T17:27:42.760Z"
   },
   {
    "duration": 184,
    "start_time": "2022-04-07T17:27:43.130Z"
   },
   {
    "duration": 153,
    "start_time": "2022-04-07T17:27:43.315Z"
   },
   {
    "duration": 106,
    "start_time": "2022-04-07T17:27:43.470Z"
   },
   {
    "duration": 29,
    "start_time": "2022-04-07T17:27:43.578Z"
   },
   {
    "duration": 43,
    "start_time": "2022-04-07T17:27:43.609Z"
   },
   {
    "duration": 17,
    "start_time": "2022-04-07T17:27:43.654Z"
   },
   {
    "duration": 75,
    "start_time": "2022-04-07T17:27:43.673Z"
   },
   {
    "duration": 44,
    "start_time": "2022-04-07T17:27:43.749Z"
   },
   {
    "duration": 14,
    "start_time": "2022-04-07T17:27:43.803Z"
   },
   {
    "duration": 13,
    "start_time": "2022-04-07T17:27:43.819Z"
   },
   {
    "duration": 445,
    "start_time": "2022-04-07T17:27:43.834Z"
   },
   {
    "duration": 37,
    "start_time": "2022-04-07T17:27:44.280Z"
   },
   {
    "duration": 55,
    "start_time": "2022-04-07T17:27:44.319Z"
   },
   {
    "duration": 256,
    "start_time": "2022-04-07T17:27:44.375Z"
   },
   {
    "duration": 21,
    "start_time": "2022-04-07T17:27:44.633Z"
   },
   {
    "duration": 60,
    "start_time": "2022-04-07T17:27:44.655Z"
   },
   {
    "duration": 299,
    "start_time": "2022-04-07T17:27:44.716Z"
   },
   {
    "duration": 23,
    "start_time": "2022-04-07T17:27:45.017Z"
   },
   {
    "duration": 24,
    "start_time": "2022-04-07T17:27:45.042Z"
   },
   {
    "duration": 5,
    "start_time": "2022-04-07T17:27:49.407Z"
   },
   {
    "duration": 18,
    "start_time": "2022-04-07T17:32:27.808Z"
   },
   {
    "duration": 22,
    "start_time": "2022-04-07T17:37:21.514Z"
   },
   {
    "duration": 49,
    "start_time": "2022-04-07T17:38:27.161Z"
   },
   {
    "duration": 53,
    "start_time": "2022-04-07T17:39:18.925Z"
   },
   {
    "duration": 13,
    "start_time": "2022-04-07T17:46:25.341Z"
   },
   {
    "duration": 13,
    "start_time": "2022-04-07T17:50:31.520Z"
   },
   {
    "duration": 65,
    "start_time": "2022-04-07T17:51:27.369Z"
   },
   {
    "duration": 31,
    "start_time": "2022-04-07T17:51:55.841Z"
   },
   {
    "duration": 3167,
    "start_time": "2022-04-07T17:53:02.412Z"
   },
   {
    "duration": 3209,
    "start_time": "2022-04-07T17:54:52.333Z"
   },
   {
    "duration": 3259,
    "start_time": "2022-04-07T17:54:59.073Z"
   },
   {
    "duration": 61,
    "start_time": "2022-04-07T17:55:04.422Z"
   },
   {
    "duration": 34,
    "start_time": "2022-04-07T17:55:09.698Z"
   },
   {
    "duration": 38,
    "start_time": "2022-04-07T17:56:54.458Z"
   },
   {
    "duration": 34,
    "start_time": "2022-04-07T17:58:41.134Z"
   },
   {
    "duration": 34,
    "start_time": "2022-04-07T18:02:08.207Z"
   },
   {
    "duration": 15,
    "start_time": "2022-04-07T18:03:57.788Z"
   },
   {
    "duration": 19,
    "start_time": "2022-04-07T18:05:24.129Z"
   },
   {
    "duration": 17,
    "start_time": "2022-04-07T18:05:36.449Z"
   },
   {
    "duration": 12,
    "start_time": "2022-04-07T18:05:43.326Z"
   },
   {
    "duration": 26,
    "start_time": "2022-04-07T18:06:49.320Z"
   },
   {
    "duration": 12,
    "start_time": "2022-04-07T18:07:49.644Z"
   },
   {
    "duration": 27,
    "start_time": "2022-04-07T18:07:55.264Z"
   },
   {
    "duration": 15,
    "start_time": "2022-04-07T18:09:15.052Z"
   },
   {
    "duration": 9,
    "start_time": "2022-04-07T18:11:31.245Z"
   },
   {
    "duration": 21,
    "start_time": "2022-04-07T18:15:48.101Z"
   },
   {
    "duration": 17,
    "start_time": "2022-04-07T19:01:31.862Z"
   },
   {
    "duration": 2,
    "start_time": "2022-04-07T19:09:59.819Z"
   },
   {
    "duration": 186,
    "start_time": "2022-04-07T19:09:59.825Z"
   },
   {
    "duration": 152,
    "start_time": "2022-04-07T19:10:00.013Z"
   },
   {
    "duration": 107,
    "start_time": "2022-04-07T19:10:00.167Z"
   },
   {
    "duration": 28,
    "start_time": "2022-04-07T19:10:00.276Z"
   },
   {
    "duration": 54,
    "start_time": "2022-04-07T19:10:00.306Z"
   },
   {
    "duration": 17,
    "start_time": "2022-04-07T19:10:00.362Z"
   },
   {
    "duration": 99,
    "start_time": "2022-04-07T19:10:00.381Z"
   },
   {
    "duration": 49,
    "start_time": "2022-04-07T19:10:00.482Z"
   },
   {
    "duration": 15,
    "start_time": "2022-04-07T19:10:00.533Z"
   },
   {
    "duration": 27,
    "start_time": "2022-04-07T19:10:00.551Z"
   },
   {
    "duration": 445,
    "start_time": "2022-04-07T19:10:00.580Z"
   },
   {
    "duration": 29,
    "start_time": "2022-04-07T19:10:01.027Z"
   },
   {
    "duration": 67,
    "start_time": "2022-04-07T19:10:01.058Z"
   },
   {
    "duration": 259,
    "start_time": "2022-04-07T19:10:01.127Z"
   },
   {
    "duration": 23,
    "start_time": "2022-04-07T19:10:01.388Z"
   },
   {
    "duration": 41,
    "start_time": "2022-04-07T19:10:01.413Z"
   },
   {
    "duration": 336,
    "start_time": "2022-04-07T19:10:01.456Z"
   },
   {
    "duration": 28,
    "start_time": "2022-04-07T19:10:01.793Z"
   },
   {
    "duration": 21,
    "start_time": "2022-04-07T19:10:01.822Z"
   },
   {
    "duration": 71,
    "start_time": "2022-04-07T19:10:18.481Z"
   },
   {
    "duration": 7,
    "start_time": "2022-04-07T19:10:33.736Z"
   },
   {
    "duration": 15,
    "start_time": "2022-04-07T19:10:38.982Z"
   },
   {
    "duration": 25,
    "start_time": "2022-04-07T19:10:47.492Z"
   },
   {
    "duration": 11,
    "start_time": "2022-04-07T19:23:16.413Z"
   },
   {
    "duration": 14,
    "start_time": "2022-04-07T19:30:35.663Z"
   },
   {
    "duration": 15,
    "start_time": "2022-04-07T19:35:00.090Z"
   },
   {
    "duration": 579,
    "start_time": "2022-04-07T19:41:00.602Z"
   },
   {
    "duration": 9,
    "start_time": "2022-04-07T19:41:35.798Z"
   },
   {
    "duration": 10,
    "start_time": "2022-04-07T19:42:10.274Z"
   },
   {
    "duration": 12,
    "start_time": "2022-04-07T19:45:39.097Z"
   },
   {
    "duration": 65,
    "start_time": "2022-04-07T19:48:54.539Z"
   },
   {
    "duration": 118,
    "start_time": "2022-04-07T19:51:21.852Z"
   },
   {
    "duration": 8,
    "start_time": "2022-04-07T19:52:41.045Z"
   },
   {
    "duration": 22,
    "start_time": "2022-04-07T19:59:09.107Z"
   },
   {
    "duration": 17,
    "start_time": "2022-04-07T20:09:54.277Z"
   },
   {
    "duration": 5,
    "start_time": "2022-04-07T20:14:59.573Z"
   },
   {
    "duration": 12,
    "start_time": "2022-04-07T20:22:36.955Z"
   },
   {
    "duration": 11,
    "start_time": "2022-04-07T20:22:51.730Z"
   },
   {
    "duration": 12,
    "start_time": "2022-04-07T20:23:12.052Z"
   },
   {
    "duration": 17,
    "start_time": "2022-04-07T20:26:09.294Z"
   },
   {
    "duration": 22,
    "start_time": "2022-04-07T20:26:46.762Z"
   },
   {
    "duration": 10,
    "start_time": "2022-04-07T20:28:47.641Z"
   },
   {
    "duration": 18,
    "start_time": "2022-04-07T20:29:37.710Z"
   },
   {
    "duration": 32,
    "start_time": "2022-04-07T20:32:48.496Z"
   },
   {
    "duration": 9,
    "start_time": "2022-04-07T20:48:38.429Z"
   },
   {
    "duration": 5,
    "start_time": "2022-04-07T20:49:33.506Z"
   },
   {
    "duration": 12,
    "start_time": "2022-04-07T20:56:34.915Z"
   },
   {
    "duration": 12,
    "start_time": "2022-04-07T20:57:03.058Z"
   },
   {
    "duration": 7,
    "start_time": "2022-04-07T20:58:06.866Z"
   },
   {
    "duration": 15,
    "start_time": "2022-04-07T20:59:55.538Z"
   },
   {
    "duration": 3124,
    "start_time": "2022-04-07T21:04:02.429Z"
   },
   {
    "duration": 9,
    "start_time": "2022-04-07T21:04:26.485Z"
   },
   {
    "duration": 9,
    "start_time": "2022-04-07T21:04:43.734Z"
   },
   {
    "duration": 8,
    "start_time": "2022-04-07T21:05:25.571Z"
   },
   {
    "duration": 9,
    "start_time": "2022-04-07T21:06:13.540Z"
   },
   {
    "duration": 7,
    "start_time": "2022-04-07T21:06:36.431Z"
   },
   {
    "duration": 16,
    "start_time": "2022-04-07T21:06:55.183Z"
   },
   {
    "duration": 16,
    "start_time": "2022-04-07T21:07:59.785Z"
   },
   {
    "duration": 14,
    "start_time": "2022-04-07T21:08:09.421Z"
   },
   {
    "duration": 370,
    "start_time": "2022-04-08T06:21:30.593Z"
   },
   {
    "duration": 189,
    "start_time": "2022-04-08T06:21:30.965Z"
   },
   {
    "duration": 155,
    "start_time": "2022-04-08T06:21:31.156Z"
   },
   {
    "duration": 105,
    "start_time": "2022-04-08T06:21:31.314Z"
   },
   {
    "duration": 26,
    "start_time": "2022-04-08T06:21:31.422Z"
   },
   {
    "duration": 31,
    "start_time": "2022-04-08T06:21:31.450Z"
   },
   {
    "duration": 17,
    "start_time": "2022-04-08T06:21:31.483Z"
   },
   {
    "duration": 94,
    "start_time": "2022-04-08T06:21:31.501Z"
   },
   {
    "duration": 54,
    "start_time": "2022-04-08T06:21:31.597Z"
   },
   {
    "duration": 15,
    "start_time": "2022-04-08T06:21:31.654Z"
   },
   {
    "duration": 16,
    "start_time": "2022-04-08T06:21:31.670Z"
   },
   {
    "duration": 469,
    "start_time": "2022-04-08T06:21:31.688Z"
   },
   {
    "duration": 26,
    "start_time": "2022-04-08T06:21:32.159Z"
   },
   {
    "duration": 73,
    "start_time": "2022-04-08T06:21:32.186Z"
   },
   {
    "duration": 245,
    "start_time": "2022-04-08T06:21:32.260Z"
   },
   {
    "duration": 27,
    "start_time": "2022-04-08T06:21:32.507Z"
   },
   {
    "duration": 42,
    "start_time": "2022-04-08T06:21:32.535Z"
   },
   {
    "duration": 323,
    "start_time": "2022-04-08T06:21:32.579Z"
   },
   {
    "duration": 30,
    "start_time": "2022-04-08T06:21:32.903Z"
   },
   {
    "duration": 23,
    "start_time": "2022-04-08T06:21:32.935Z"
   },
   {
    "duration": 82,
    "start_time": "2022-04-08T06:21:32.960Z"
   },
   {
    "duration": 5,
    "start_time": "2022-04-08T06:21:33.044Z"
   },
   {
    "duration": 23,
    "start_time": "2022-04-08T06:21:33.050Z"
   },
   {
    "duration": 26,
    "start_time": "2022-04-08T06:21:33.075Z"
   },
   {
    "duration": 5,
    "start_time": "2022-04-08T06:21:33.103Z"
   },
   {
    "duration": 25,
    "start_time": "2022-04-08T06:21:40.636Z"
   },
   {
    "duration": 27,
    "start_time": "2022-04-08T06:22:25.625Z"
   },
   {
    "duration": 26,
    "start_time": "2022-04-08T06:29:26.935Z"
   },
   {
    "duration": 25,
    "start_time": "2022-04-08T06:29:30.302Z"
   },
   {
    "duration": 32,
    "start_time": "2022-04-08T06:31:26.616Z"
   },
   {
    "duration": 27,
    "start_time": "2022-04-08T06:31:36.918Z"
   },
   {
    "duration": 71,
    "start_time": "2022-04-08T07:01:22.675Z"
   },
   {
    "duration": 10,
    "start_time": "2022-04-08T07:01:36.065Z"
   },
   {
    "duration": 116,
    "start_time": "2022-04-08T07:03:44.923Z"
   },
   {
    "duration": 12,
    "start_time": "2022-04-08T07:04:21.934Z"
   },
   {
    "duration": 10,
    "start_time": "2022-04-08T07:23:33.787Z"
   },
   {
    "duration": 1768,
    "start_time": "2022-04-08T07:23:47.163Z"
   },
   {
    "duration": 12,
    "start_time": "2022-04-08T07:24:50.644Z"
   },
   {
    "duration": 372,
    "start_time": "2022-04-08T07:25:31.364Z"
   },
   {
    "duration": 14,
    "start_time": "2022-04-08T07:25:54.181Z"
   },
   {
    "duration": 107,
    "start_time": "2022-04-08T07:26:22.819Z"
   },
   {
    "duration": 48,
    "start_time": "2022-04-08T07:26:28.353Z"
   },
   {
    "duration": 529,
    "start_time": "2022-04-08T07:26:39.436Z"
   },
   {
    "duration": 5,
    "start_time": "2022-04-08T07:26:58.028Z"
   },
   {
    "duration": 8,
    "start_time": "2022-04-08T07:42:59.647Z"
   },
   {
    "duration": 1322,
    "start_time": "2022-04-08T07:43:21.160Z"
   },
   {
    "duration": 17,
    "start_time": "2022-04-08T07:43:49.568Z"
   },
   {
    "duration": 3,
    "start_time": "2022-04-08T07:44:23.291Z"
   },
   {
    "duration": 186,
    "start_time": "2022-04-08T07:44:23.301Z"
   },
   {
    "duration": 153,
    "start_time": "2022-04-08T07:44:23.489Z"
   },
   {
    "duration": 108,
    "start_time": "2022-04-08T07:44:23.644Z"
   },
   {
    "duration": 22,
    "start_time": "2022-04-08T07:44:23.754Z"
   },
   {
    "duration": 34,
    "start_time": "2022-04-08T07:44:23.778Z"
   },
   {
    "duration": 23,
    "start_time": "2022-04-08T07:44:23.814Z"
   },
   {
    "duration": 69,
    "start_time": "2022-04-08T07:44:23.839Z"
   },
   {
    "duration": 63,
    "start_time": "2022-04-08T07:44:23.910Z"
   },
   {
    "duration": 13,
    "start_time": "2022-04-08T07:44:23.975Z"
   },
   {
    "duration": 15,
    "start_time": "2022-04-08T07:44:23.989Z"
   },
   {
    "duration": 448,
    "start_time": "2022-04-08T07:44:24.006Z"
   },
   {
    "duration": 26,
    "start_time": "2022-04-08T07:44:24.456Z"
   },
   {
    "duration": 68,
    "start_time": "2022-04-08T07:44:24.484Z"
   },
   {
    "duration": 292,
    "start_time": "2022-04-08T07:44:24.555Z"
   },
   {
    "duration": 19,
    "start_time": "2022-04-08T07:44:24.849Z"
   },
   {
    "duration": 40,
    "start_time": "2022-04-08T07:44:24.870Z"
   },
   {
    "duration": 328,
    "start_time": "2022-04-08T07:44:24.932Z"
   },
   {
    "duration": 23,
    "start_time": "2022-04-08T07:44:25.262Z"
   },
   {
    "duration": 21,
    "start_time": "2022-04-08T07:44:25.286Z"
   },
   {
    "duration": 46,
    "start_time": "2022-04-08T07:44:25.309Z"
   },
   {
    "duration": 8,
    "start_time": "2022-04-08T07:44:25.357Z"
   },
   {
    "duration": 24,
    "start_time": "2022-04-08T07:44:25.366Z"
   },
   {
    "duration": 14,
    "start_time": "2022-04-08T07:44:30.279Z"
   },
   {
    "duration": 2149,
    "start_time": "2022-04-08T07:44:39.121Z"
   },
   {
    "duration": 1867,
    "start_time": "2022-04-08T07:45:18.081Z"
   },
   {
    "duration": 20,
    "start_time": "2022-04-08T07:46:39.480Z"
   },
   {
    "duration": 18,
    "start_time": "2022-04-08T07:47:31.065Z"
   },
   {
    "duration": 1272,
    "start_time": "2022-04-08T07:48:47.682Z"
   },
   {
    "duration": 19,
    "start_time": "2022-04-08T07:49:04.457Z"
   },
   {
    "duration": 50,
    "start_time": "2022-04-08T08:12:53.849Z"
   },
   {
    "duration": 53,
    "start_time": "2022-04-08T08:13:08.974Z"
   },
   {
    "duration": 54,
    "start_time": "2022-04-08T08:13:29.030Z"
   },
   {
    "duration": 55,
    "start_time": "2022-04-08T08:13:49.345Z"
   },
   {
    "duration": 13,
    "start_time": "2022-04-08T08:16:35.173Z"
   },
   {
    "duration": 10,
    "start_time": "2022-04-08T08:16:55.616Z"
   },
   {
    "duration": 110,
    "start_time": "2022-04-08T08:17:39.085Z"
   },
   {
    "duration": 55,
    "start_time": "2022-04-08T08:19:11.551Z"
   },
   {
    "duration": 57,
    "start_time": "2022-04-08T08:19:24.261Z"
   },
   {
    "duration": 16,
    "start_time": "2022-04-08T08:30:46.420Z"
   },
   {
    "duration": 7,
    "start_time": "2022-04-08T08:31:04.314Z"
   },
   {
    "duration": 16,
    "start_time": "2022-04-08T08:32:15.881Z"
   },
   {
    "duration": 8,
    "start_time": "2022-04-08T08:38:35.991Z"
   },
   {
    "duration": 10,
    "start_time": "2022-04-08T08:38:43.128Z"
   },
   {
    "duration": 16,
    "start_time": "2022-04-08T08:38:54.072Z"
   },
   {
    "duration": 9,
    "start_time": "2022-04-08T08:46:53.728Z"
   },
   {
    "duration": 13,
    "start_time": "2022-04-08T08:49:10.470Z"
   },
   {
    "duration": 22,
    "start_time": "2022-04-08T08:49:45.471Z"
   },
   {
    "duration": 42,
    "start_time": "2022-04-08T08:52:20.373Z"
   },
   {
    "duration": 20,
    "start_time": "2022-04-08T08:55:19.735Z"
   },
   {
    "duration": 23,
    "start_time": "2022-04-08T08:59:57.698Z"
   },
   {
    "duration": 24,
    "start_time": "2022-04-08T09:06:28.950Z"
   },
   {
    "duration": 15,
    "start_time": "2022-04-08T09:07:41.792Z"
   },
   {
    "duration": 20,
    "start_time": "2022-04-08T09:08:39.618Z"
   },
   {
    "duration": 20,
    "start_time": "2022-04-08T09:09:48.306Z"
   },
   {
    "duration": 22,
    "start_time": "2022-04-08T09:09:53.625Z"
   },
   {
    "duration": 20,
    "start_time": "2022-04-08T09:10:00.795Z"
   },
   {
    "duration": 19,
    "start_time": "2022-04-08T09:10:42.202Z"
   },
   {
    "duration": 23,
    "start_time": "2022-04-08T09:11:09.020Z"
   },
   {
    "duration": 26,
    "start_time": "2022-04-08T09:11:16.958Z"
   },
   {
    "duration": 74,
    "start_time": "2022-04-08T09:11:48.588Z"
   },
   {
    "duration": 6,
    "start_time": "2022-04-08T09:12:13.650Z"
   },
   {
    "duration": 17,
    "start_time": "2022-04-08T09:12:31.697Z"
   },
   {
    "duration": 36,
    "start_time": "2022-04-08T09:17:14.936Z"
   },
   {
    "duration": 3,
    "start_time": "2022-04-08T09:31:22.941Z"
   },
   {
    "duration": 165,
    "start_time": "2022-04-08T09:31:22.947Z"
   },
   {
    "duration": 151,
    "start_time": "2022-04-08T09:31:23.114Z"
   },
   {
    "duration": 114,
    "start_time": "2022-04-08T09:31:23.267Z"
   },
   {
    "duration": 22,
    "start_time": "2022-04-08T09:31:23.383Z"
   },
   {
    "duration": 33,
    "start_time": "2022-04-08T09:31:23.406Z"
   },
   {
    "duration": 17,
    "start_time": "2022-04-08T09:31:23.441Z"
   },
   {
    "duration": 87,
    "start_time": "2022-04-08T09:31:23.459Z"
   },
   {
    "duration": 47,
    "start_time": "2022-04-08T09:31:23.548Z"
   },
   {
    "duration": 13,
    "start_time": "2022-04-08T09:31:23.596Z"
   },
   {
    "duration": 28,
    "start_time": "2022-04-08T09:31:23.612Z"
   },
   {
    "duration": 9,
    "start_time": "2022-04-08T09:31:23.641Z"
   },
   {
    "duration": 440,
    "start_time": "2022-04-08T09:31:23.651Z"
   },
   {
    "duration": 25,
    "start_time": "2022-04-08T09:31:24.093Z"
   },
   {
    "duration": 56,
    "start_time": "2022-04-08T09:31:24.132Z"
   },
   {
    "duration": 20,
    "start_time": "2022-04-08T09:31:24.190Z"
   },
   {
    "duration": 315,
    "start_time": "2022-04-08T09:31:24.212Z"
   },
   {
    "duration": 19,
    "start_time": "2022-04-08T09:31:24.529Z"
   },
   {
    "duration": 42,
    "start_time": "2022-04-08T09:31:24.549Z"
   },
   {
    "duration": 41,
    "start_time": "2022-04-08T09:31:24.593Z"
   },
   {
    "duration": 336,
    "start_time": "2022-04-08T09:31:24.636Z"
   },
   {
    "duration": 23,
    "start_time": "2022-04-08T09:31:24.974Z"
   },
   {
    "duration": 41,
    "start_time": "2022-04-08T09:31:24.999Z"
   },
   {
    "duration": 22,
    "start_time": "2022-04-08T09:31:25.042Z"
   },
   {
    "duration": 35,
    "start_time": "2022-04-08T09:31:25.065Z"
   },
   {
    "duration": 6,
    "start_time": "2022-04-08T09:31:25.102Z"
   },
   {
    "duration": 18,
    "start_time": "2022-04-08T09:31:25.133Z"
   },
   {
    "duration": 32,
    "start_time": "2022-04-08T09:31:28.483Z"
   },
   {
    "duration": 440,
    "start_time": "2022-04-08T09:33:16.208Z"
   },
   {
    "duration": 26,
    "start_time": "2022-04-08T09:33:33.590Z"
   },
   {
    "duration": 1840,
    "start_time": "2022-04-08T09:35:47.292Z"
   },
   {
    "duration": 3,
    "start_time": "2022-04-08T09:36:05.175Z"
   },
   {
    "duration": 170,
    "start_time": "2022-04-08T09:36:05.183Z"
   },
   {
    "duration": 153,
    "start_time": "2022-04-08T09:36:05.355Z"
   },
   {
    "duration": 112,
    "start_time": "2022-04-08T09:36:05.509Z"
   },
   {
    "duration": 23,
    "start_time": "2022-04-08T09:36:05.623Z"
   },
   {
    "duration": 30,
    "start_time": "2022-04-08T09:36:05.648Z"
   },
   {
    "duration": 17,
    "start_time": "2022-04-08T09:36:05.679Z"
   },
   {
    "duration": 89,
    "start_time": "2022-04-08T09:36:05.698Z"
   },
   {
    "duration": 60,
    "start_time": "2022-04-08T09:36:05.790Z"
   },
   {
    "duration": 13,
    "start_time": "2022-04-08T09:36:05.852Z"
   },
   {
    "duration": 22,
    "start_time": "2022-04-08T09:36:05.867Z"
   },
   {
    "duration": 10,
    "start_time": "2022-04-08T09:36:05.891Z"
   },
   {
    "duration": 488,
    "start_time": "2022-04-08T09:36:05.903Z"
   },
   {
    "duration": 26,
    "start_time": "2022-04-08T09:36:06.393Z"
   },
   {
    "duration": 58,
    "start_time": "2022-04-08T09:36:06.432Z"
   },
   {
    "duration": 20,
    "start_time": "2022-04-08T09:36:06.492Z"
   },
   {
    "duration": 262,
    "start_time": "2022-04-08T09:36:06.533Z"
   },
   {
    "duration": 21,
    "start_time": "2022-04-08T09:36:06.796Z"
   },
   {
    "duration": 55,
    "start_time": "2022-04-08T09:36:06.818Z"
   },
   {
    "duration": 19,
    "start_time": "2022-04-08T09:36:06.875Z"
   },
   {
    "duration": 358,
    "start_time": "2022-04-08T09:36:06.896Z"
   },
   {
    "duration": 23,
    "start_time": "2022-04-08T09:36:07.256Z"
   },
   {
    "duration": 25,
    "start_time": "2022-04-08T09:36:07.281Z"
   },
   {
    "duration": 47,
    "start_time": "2022-04-08T09:36:07.307Z"
   },
   {
    "duration": 88,
    "start_time": "2022-04-08T09:36:07.355Z"
   },
   {
    "duration": 6,
    "start_time": "2022-04-08T09:36:07.445Z"
   },
   {
    "duration": 20,
    "start_time": "2022-04-08T09:36:07.453Z"
   },
   {
    "duration": 27,
    "start_time": "2022-04-08T09:36:09.402Z"
   },
   {
    "duration": 2,
    "start_time": "2022-04-08T09:36:44.168Z"
   },
   {
    "duration": 172,
    "start_time": "2022-04-08T09:36:44.172Z"
   },
   {
    "duration": 147,
    "start_time": "2022-04-08T09:36:44.346Z"
   },
   {
    "duration": 112,
    "start_time": "2022-04-08T09:36:44.495Z"
   },
   {
    "duration": 29,
    "start_time": "2022-04-08T09:36:44.609Z"
   },
   {
    "duration": 30,
    "start_time": "2022-04-08T09:36:44.641Z"
   },
   {
    "duration": 16,
    "start_time": "2022-04-08T09:36:44.673Z"
   },
   {
    "duration": 85,
    "start_time": "2022-04-08T09:36:44.691Z"
   },
   {
    "duration": 55,
    "start_time": "2022-04-08T09:36:44.778Z"
   },
   {
    "duration": 14,
    "start_time": "2022-04-08T09:36:44.835Z"
   },
   {
    "duration": 16,
    "start_time": "2022-04-08T09:36:44.851Z"
   },
   {
    "duration": 10,
    "start_time": "2022-04-08T09:36:44.869Z"
   },
   {
    "duration": 461,
    "start_time": "2022-04-08T09:36:44.881Z"
   },
   {
    "duration": 26,
    "start_time": "2022-04-08T09:36:45.344Z"
   },
   {
    "duration": 69,
    "start_time": "2022-04-08T09:36:45.373Z"
   },
   {
    "duration": 22,
    "start_time": "2022-04-08T09:36:45.443Z"
   },
   {
    "duration": 313,
    "start_time": "2022-04-08T09:36:45.466Z"
   },
   {
    "duration": 20,
    "start_time": "2022-04-08T09:36:45.780Z"
   },
   {
    "duration": 57,
    "start_time": "2022-04-08T09:36:45.802Z"
   },
   {
    "duration": 27,
    "start_time": "2022-04-08T09:36:45.861Z"
   },
   {
    "duration": 365,
    "start_time": "2022-04-08T09:36:45.890Z"
   },
   {
    "duration": 23,
    "start_time": "2022-04-08T09:36:46.257Z"
   },
   {
    "duration": 24,
    "start_time": "2022-04-08T09:36:46.282Z"
   },
   {
    "duration": 24,
    "start_time": "2022-04-08T09:36:46.332Z"
   },
   {
    "duration": 36,
    "start_time": "2022-04-08T09:36:46.357Z"
   },
   {
    "duration": 6,
    "start_time": "2022-04-08T09:36:46.395Z"
   },
   {
    "duration": 42,
    "start_time": "2022-04-08T09:36:46.402Z"
   },
   {
    "duration": 27,
    "start_time": "2022-04-08T09:36:55.909Z"
   },
   {
    "duration": 1684,
    "start_time": "2022-04-08T09:41:40.765Z"
   },
   {
    "duration": 3,
    "start_time": "2022-04-08T09:41:48.782Z"
   },
   {
    "duration": 200,
    "start_time": "2022-04-08T09:41:48.789Z"
   },
   {
    "duration": 151,
    "start_time": "2022-04-08T09:41:48.992Z"
   },
   {
    "duration": 111,
    "start_time": "2022-04-08T09:41:49.145Z"
   },
   {
    "duration": 22,
    "start_time": "2022-04-08T09:41:49.258Z"
   },
   {
    "duration": 42,
    "start_time": "2022-04-08T09:41:49.284Z"
   },
   {
    "duration": 18,
    "start_time": "2022-04-08T09:41:49.332Z"
   },
   {
    "duration": 83,
    "start_time": "2022-04-08T09:41:49.352Z"
   },
   {
    "duration": 50,
    "start_time": "2022-04-08T09:41:49.437Z"
   },
   {
    "duration": 14,
    "start_time": "2022-04-08T09:41:49.489Z"
   },
   {
    "duration": 37,
    "start_time": "2022-04-08T09:41:49.505Z"
   },
   {
    "duration": 9,
    "start_time": "2022-04-08T09:41:49.544Z"
   },
   {
    "duration": 461,
    "start_time": "2022-04-08T09:41:49.555Z"
   },
   {
    "duration": 37,
    "start_time": "2022-04-08T09:41:50.018Z"
   },
   {
    "duration": 57,
    "start_time": "2022-04-08T09:41:50.059Z"
   },
   {
    "duration": 23,
    "start_time": "2022-04-08T09:41:50.132Z"
   },
   {
    "duration": 311,
    "start_time": "2022-04-08T09:41:50.157Z"
   },
   {
    "duration": 21,
    "start_time": "2022-04-08T09:41:50.470Z"
   },
   {
    "duration": 60,
    "start_time": "2022-04-08T09:41:50.493Z"
   },
   {
    "duration": 22,
    "start_time": "2022-04-08T09:41:50.554Z"
   },
   {
    "duration": 348,
    "start_time": "2022-04-08T09:41:50.578Z"
   },
   {
    "duration": 24,
    "start_time": "2022-04-08T09:41:50.927Z"
   },
   {
    "duration": 27,
    "start_time": "2022-04-08T09:41:50.953Z"
   },
   {
    "duration": 53,
    "start_time": "2022-04-08T09:41:50.982Z"
   },
   {
    "duration": 80,
    "start_time": "2022-04-08T09:41:51.037Z"
   },
   {
    "duration": 9,
    "start_time": "2022-04-08T09:41:51.132Z"
   },
   {
    "duration": 19,
    "start_time": "2022-04-08T09:41:51.144Z"
   },
   {
    "duration": 28,
    "start_time": "2022-04-08T09:41:51.165Z"
   },
   {
    "duration": 3,
    "start_time": "2022-04-08T09:41:51.195Z"
   },
   {
    "duration": 9,
    "start_time": "2022-04-08T09:41:51.233Z"
   },
   {
    "duration": 12,
    "start_time": "2022-04-08T09:41:51.244Z"
   },
   {
    "duration": 0,
    "start_time": "2022-04-08T09:41:51.258Z"
   },
   {
    "duration": 0,
    "start_time": "2022-04-08T09:41:51.259Z"
   },
   {
    "duration": 0,
    "start_time": "2022-04-08T09:41:51.261Z"
   },
   {
    "duration": 0,
    "start_time": "2022-04-08T09:41:51.262Z"
   },
   {
    "duration": 0,
    "start_time": "2022-04-08T09:41:51.264Z"
   },
   {
    "duration": 0,
    "start_time": "2022-04-08T09:41:51.265Z"
   },
   {
    "duration": 0,
    "start_time": "2022-04-08T09:41:51.267Z"
   },
   {
    "duration": 0,
    "start_time": "2022-04-08T09:41:51.268Z"
   },
   {
    "duration": 0,
    "start_time": "2022-04-08T09:41:51.269Z"
   },
   {
    "duration": 0,
    "start_time": "2022-04-08T09:41:51.271Z"
   },
   {
    "duration": 0,
    "start_time": "2022-04-08T09:41:51.272Z"
   },
   {
    "duration": 0,
    "start_time": "2022-04-08T09:41:51.273Z"
   },
   {
    "duration": 12,
    "start_time": "2022-04-08T09:42:26.401Z"
   },
   {
    "duration": 20,
    "start_time": "2022-04-08T09:46:55.035Z"
   },
   {
    "duration": 16,
    "start_time": "2022-04-08T09:47:17.898Z"
   },
   {
    "duration": 34,
    "start_time": "2022-04-08T09:50:17.263Z"
   },
   {
    "duration": 54,
    "start_time": "2022-04-08T09:54:15.823Z"
   },
   {
    "duration": 19,
    "start_time": "2022-04-08T09:58:25.166Z"
   },
   {
    "duration": 1681,
    "start_time": "2022-04-08T11:32:15.740Z"
   },
   {
    "duration": 3,
    "start_time": "2022-04-08T11:32:48.694Z"
   },
   {
    "duration": 200,
    "start_time": "2022-04-08T11:32:48.699Z"
   },
   {
    "duration": 195,
    "start_time": "2022-04-08T11:32:48.900Z"
   },
   {
    "duration": 131,
    "start_time": "2022-04-08T11:32:49.097Z"
   },
   {
    "duration": 30,
    "start_time": "2022-04-08T11:32:49.230Z"
   },
   {
    "duration": 35,
    "start_time": "2022-04-08T11:32:49.262Z"
   },
   {
    "duration": 21,
    "start_time": "2022-04-08T11:32:49.303Z"
   },
   {
    "duration": 91,
    "start_time": "2022-04-08T11:32:49.326Z"
   },
   {
    "duration": 59,
    "start_time": "2022-04-08T11:32:49.420Z"
   },
   {
    "duration": 16,
    "start_time": "2022-04-08T11:32:49.481Z"
   },
   {
    "duration": 13,
    "start_time": "2022-04-08T11:32:49.499Z"
   },
   {
    "duration": 9,
    "start_time": "2022-04-08T11:32:49.514Z"
   },
   {
    "duration": 488,
    "start_time": "2022-04-08T11:32:49.525Z"
   },
   {
    "duration": 29,
    "start_time": "2022-04-08T11:32:50.015Z"
   },
   {
    "duration": 77,
    "start_time": "2022-04-08T11:32:50.046Z"
   },
   {
    "duration": 18,
    "start_time": "2022-04-08T11:32:50.124Z"
   },
   {
    "duration": 269,
    "start_time": "2022-04-08T11:32:50.144Z"
   },
   {
    "duration": 20,
    "start_time": "2022-04-08T11:32:50.415Z"
   },
   {
    "duration": 57,
    "start_time": "2022-04-08T11:32:50.436Z"
   },
   {
    "duration": 17,
    "start_time": "2022-04-08T11:32:52.779Z"
   },
   {
    "duration": 2,
    "start_time": "2022-04-08T11:45:33.454Z"
   },
   {
    "duration": 190,
    "start_time": "2022-04-08T11:45:33.458Z"
   },
   {
    "duration": 155,
    "start_time": "2022-04-08T11:45:33.650Z"
   },
   {
    "duration": 117,
    "start_time": "2022-04-08T11:45:33.808Z"
   },
   {
    "duration": 23,
    "start_time": "2022-04-08T11:45:33.927Z"
   },
   {
    "duration": 35,
    "start_time": "2022-04-08T11:45:33.951Z"
   },
   {
    "duration": 16,
    "start_time": "2022-04-08T11:45:33.988Z"
   },
   {
    "duration": 84,
    "start_time": "2022-04-08T11:45:34.005Z"
   },
   {
    "duration": 49,
    "start_time": "2022-04-08T11:45:34.092Z"
   },
   {
    "duration": 14,
    "start_time": "2022-04-08T11:45:34.142Z"
   },
   {
    "duration": 30,
    "start_time": "2022-04-08T11:45:34.158Z"
   },
   {
    "duration": 9,
    "start_time": "2022-04-08T11:45:34.190Z"
   },
   {
    "duration": 505,
    "start_time": "2022-04-08T11:45:34.200Z"
   },
   {
    "duration": 28,
    "start_time": "2022-04-08T11:45:34.707Z"
   },
   {
    "duration": 76,
    "start_time": "2022-04-08T11:45:34.736Z"
   },
   {
    "duration": 17,
    "start_time": "2022-04-08T11:45:34.814Z"
   },
   {
    "duration": 275,
    "start_time": "2022-04-08T11:45:34.833Z"
   },
   {
    "duration": 20,
    "start_time": "2022-04-08T11:45:35.110Z"
   },
   {
    "duration": 59,
    "start_time": "2022-04-08T11:45:35.132Z"
   },
   {
    "duration": 17,
    "start_time": "2022-04-08T11:45:35.193Z"
   },
   {
    "duration": 383,
    "start_time": "2022-04-08T11:45:35.211Z"
   },
   {
    "duration": 23,
    "start_time": "2022-04-08T11:45:35.596Z"
   },
   {
    "duration": 26,
    "start_time": "2022-04-08T11:45:35.620Z"
   },
   {
    "duration": 44,
    "start_time": "2022-04-08T11:45:35.649Z"
   },
   {
    "duration": 29,
    "start_time": "2022-04-08T11:45:35.695Z"
   },
   {
    "duration": 7,
    "start_time": "2022-04-08T11:45:35.726Z"
   },
   {
    "duration": 46,
    "start_time": "2022-04-08T11:45:35.734Z"
   },
   {
    "duration": 23,
    "start_time": "2022-04-08T11:45:42.730Z"
   },
   {
    "duration": 30,
    "start_time": "2022-04-08T11:49:19.155Z"
   },
   {
    "duration": 11,
    "start_time": "2022-04-08T12:04:00.478Z"
   },
   {
    "duration": 19,
    "start_time": "2022-04-08T12:06:01.901Z"
   },
   {
    "duration": 24,
    "start_time": "2022-04-08T12:07:46.697Z"
   },
   {
    "duration": 595,
    "start_time": "2022-04-08T12:22:31.171Z"
   },
   {
    "duration": 18,
    "start_time": "2022-04-08T12:23:20.418Z"
   },
   {
    "duration": 117,
    "start_time": "2022-04-08T12:23:23.656Z"
   },
   {
    "duration": 120,
    "start_time": "2022-04-08T12:24:01.650Z"
   },
   {
    "duration": 3236,
    "start_time": "2022-04-08T12:30:49.925Z"
   },
   {
    "duration": 25,
    "start_time": "2022-04-08T12:32:25.135Z"
   },
   {
    "duration": 201,
    "start_time": "2022-04-08T12:33:15.677Z"
   },
   {
    "duration": 162,
    "start_time": "2022-04-08T12:43:11.484Z"
   },
   {
    "duration": 127,
    "start_time": "2022-04-08T12:43:22.594Z"
   },
   {
    "duration": 259,
    "start_time": "2022-04-08T12:48:53.394Z"
   },
   {
    "duration": 19,
    "start_time": "2022-04-08T12:54:52.857Z"
   },
   {
    "duration": 14,
    "start_time": "2022-04-08T13:00:17.705Z"
   },
   {
    "duration": 1314,
    "start_time": "2022-04-08T13:01:00.872Z"
   },
   {
    "duration": 3368,
    "start_time": "2022-04-08T13:01:14.096Z"
   },
   {
    "duration": 1731,
    "start_time": "2022-04-08T13:01:29.470Z"
   },
   {
    "duration": 26,
    "start_time": "2022-04-08T13:01:50.272Z"
   },
   {
    "duration": 283,
    "start_time": "2022-04-08T13:02:05.831Z"
   },
   {
    "duration": 1818,
    "start_time": "2022-04-08T13:02:37.951Z"
   },
   {
    "duration": 283,
    "start_time": "2022-04-08T13:02:52.047Z"
   },
   {
    "duration": 259,
    "start_time": "2022-04-08T13:03:16.390Z"
   },
   {
    "duration": 199,
    "start_time": "2022-04-08T13:08:48.337Z"
   },
   {
    "duration": 102,
    "start_time": "2022-04-08T13:09:20.877Z"
   },
   {
    "duration": 99,
    "start_time": "2022-04-08T13:11:30.604Z"
   },
   {
    "duration": 147,
    "start_time": "2022-04-08T13:11:48.716Z"
   },
   {
    "duration": 151,
    "start_time": "2022-04-08T13:12:00.684Z"
   },
   {
    "duration": 117,
    "start_time": "2022-04-08T13:17:03.188Z"
   },
   {
    "duration": 105,
    "start_time": "2022-04-08T13:17:16.955Z"
   },
   {
    "duration": 141,
    "start_time": "2022-04-08T13:18:25.301Z"
   },
   {
    "duration": 146,
    "start_time": "2022-04-08T13:19:01.093Z"
   },
   {
    "duration": 162,
    "start_time": "2022-04-08T13:19:09.978Z"
   },
   {
    "duration": 186,
    "start_time": "2022-04-08T13:19:22.194Z"
   },
   {
    "duration": 144,
    "start_time": "2022-04-08T13:19:33.219Z"
   },
   {
    "duration": 150,
    "start_time": "2022-04-08T13:19:40.330Z"
   },
   {
    "duration": 260,
    "start_time": "2022-04-08T13:19:58.585Z"
   },
   {
    "duration": 146,
    "start_time": "2022-04-08T13:28:37.193Z"
   },
   {
    "duration": 158,
    "start_time": "2022-04-08T13:29:02.055Z"
   },
   {
    "duration": 152,
    "start_time": "2022-04-08T13:29:10.544Z"
   },
   {
    "duration": 173,
    "start_time": "2022-04-08T13:29:46.337Z"
   },
   {
    "duration": 186,
    "start_time": "2022-04-08T13:30:14.401Z"
   },
   {
    "duration": 9,
    "start_time": "2022-04-08T13:30:58.089Z"
   },
   {
    "duration": 183,
    "start_time": "2022-04-08T13:32:15.865Z"
   },
   {
    "duration": 186,
    "start_time": "2022-04-08T13:32:27.265Z"
   },
   {
    "duration": 151,
    "start_time": "2022-04-08T13:32:57.511Z"
   },
   {
    "duration": 144,
    "start_time": "2022-04-08T13:34:23.496Z"
   },
   {
    "duration": 148,
    "start_time": "2022-04-08T13:34:35.416Z"
   },
   {
    "duration": 151,
    "start_time": "2022-04-08T13:34:47.179Z"
   },
   {
    "duration": 303,
    "start_time": "2022-04-08T13:35:48.416Z"
   },
   {
    "duration": 149,
    "start_time": "2022-04-08T13:35:59.039Z"
   },
   {
    "duration": 148,
    "start_time": "2022-04-08T13:36:19.725Z"
   },
   {
    "duration": 152,
    "start_time": "2022-04-08T13:36:29.957Z"
   },
   {
    "duration": 177,
    "start_time": "2022-04-08T13:37:12.208Z"
   },
   {
    "duration": 166,
    "start_time": "2022-04-08T13:40:11.726Z"
   },
   {
    "duration": 170,
    "start_time": "2022-04-08T13:40:24.805Z"
   },
   {
    "duration": 176,
    "start_time": "2022-04-08T13:40:56.813Z"
   },
   {
    "duration": 172,
    "start_time": "2022-04-08T13:41:07.085Z"
   },
   {
    "duration": 176,
    "start_time": "2022-04-08T13:42:26.155Z"
   },
   {
    "duration": 188,
    "start_time": "2022-04-08T13:42:50.574Z"
   },
   {
    "duration": 118,
    "start_time": "2022-04-08T13:44:20.120Z"
   },
   {
    "duration": 127,
    "start_time": "2022-04-08T13:44:47.479Z"
   },
   {
    "duration": 174,
    "start_time": "2022-04-08T13:48:06.819Z"
   },
   {
    "duration": 176,
    "start_time": "2022-04-08T13:49:06.460Z"
   },
   {
    "duration": 38,
    "start_time": "2022-04-08T13:49:20.172Z"
   },
   {
    "duration": 370,
    "start_time": "2022-04-08T13:49:23.236Z"
   },
   {
    "duration": 1859,
    "start_time": "2022-04-08T13:49:30.532Z"
   },
   {
    "duration": 184,
    "start_time": "2022-04-08T13:49:40.148Z"
   },
   {
    "duration": 174,
    "start_time": "2022-04-08T13:49:46.557Z"
   },
   {
    "duration": 187,
    "start_time": "2022-04-08T13:50:09.716Z"
   },
   {
    "duration": 131,
    "start_time": "2022-04-08T14:08:24.170Z"
   },
   {
    "duration": 172,
    "start_time": "2022-04-08T14:10:40.552Z"
   },
   {
    "duration": 182,
    "start_time": "2022-04-08T14:13:36.389Z"
   },
   {
    "duration": 184,
    "start_time": "2022-04-08T14:14:08.501Z"
   },
   {
    "duration": 184,
    "start_time": "2022-04-08T14:14:47.823Z"
   },
   {
    "duration": 184,
    "start_time": "2022-04-08T14:15:46.550Z"
   },
   {
    "duration": 8,
    "start_time": "2022-04-08T14:16:07.270Z"
   },
   {
    "duration": 71,
    "start_time": "2022-04-08T16:48:56.047Z"
   },
   {
    "duration": 475,
    "start_time": "2022-04-08T16:48:59.624Z"
   },
   {
    "duration": 247,
    "start_time": "2022-04-08T16:49:00.102Z"
   },
   {
    "duration": 210,
    "start_time": "2022-04-08T16:49:00.351Z"
   },
   {
    "duration": 129,
    "start_time": "2022-04-08T16:49:00.567Z"
   },
   {
    "duration": 30,
    "start_time": "2022-04-08T16:49:00.700Z"
   },
   {
    "duration": 56,
    "start_time": "2022-04-08T16:49:00.732Z"
   },
   {
    "duration": 25,
    "start_time": "2022-04-08T16:49:00.791Z"
   },
   {
    "duration": 137,
    "start_time": "2022-04-08T16:49:00.819Z"
   },
   {
    "duration": 73,
    "start_time": "2022-04-08T16:49:00.958Z"
   },
   {
    "duration": 46,
    "start_time": "2022-04-08T16:49:01.034Z"
   },
   {
    "duration": 39,
    "start_time": "2022-04-08T16:49:01.083Z"
   },
   {
    "duration": 17,
    "start_time": "2022-04-08T16:49:01.124Z"
   },
   {
    "duration": 614,
    "start_time": "2022-04-08T16:49:01.144Z"
   },
   {
    "duration": 37,
    "start_time": "2022-04-08T16:49:01.762Z"
   },
   {
    "duration": 90,
    "start_time": "2022-04-08T16:49:04.780Z"
   },
   {
    "duration": 48,
    "start_time": "2022-04-08T16:51:58.527Z"
   },
   {
    "duration": 3,
    "start_time": "2022-04-08T16:52:05.896Z"
   },
   {
    "duration": 245,
    "start_time": "2022-04-08T16:52:05.902Z"
   },
   {
    "duration": 197,
    "start_time": "2022-04-08T16:52:06.150Z"
   },
   {
    "duration": 206,
    "start_time": "2022-04-08T16:52:06.349Z"
   },
   {
    "duration": 31,
    "start_time": "2022-04-08T16:52:06.567Z"
   },
   {
    "duration": 38,
    "start_time": "2022-04-08T16:52:06.600Z"
   },
   {
    "duration": 38,
    "start_time": "2022-04-08T16:52:06.640Z"
   },
   {
    "duration": 126,
    "start_time": "2022-04-08T16:52:06.681Z"
   },
   {
    "duration": 74,
    "start_time": "2022-04-08T16:52:06.809Z"
   },
   {
    "duration": 18,
    "start_time": "2022-04-08T16:52:06.886Z"
   },
   {
    "duration": 13,
    "start_time": "2022-04-08T16:52:06.906Z"
   },
   {
    "duration": 12,
    "start_time": "2022-04-08T16:52:06.921Z"
   },
   {
    "duration": 585,
    "start_time": "2022-04-08T16:52:06.935Z"
   },
   {
    "duration": 49,
    "start_time": "2022-04-08T16:52:07.524Z"
   },
   {
    "duration": 80,
    "start_time": "2022-04-08T16:52:07.575Z"
   },
   {
    "duration": 4,
    "start_time": "2022-04-08T16:52:07.668Z"
   },
   {
    "duration": 370,
    "start_time": "2022-04-08T16:52:07.675Z"
   },
   {
    "duration": 42,
    "start_time": "2022-04-08T16:52:08.047Z"
   },
   {
    "duration": 63,
    "start_time": "2022-04-08T16:54:14.261Z"
   },
   {
    "duration": 80,
    "start_time": "2022-04-08T16:55:13.371Z"
   },
   {
    "duration": 81,
    "start_time": "2022-04-08T16:55:18.232Z"
   },
   {
    "duration": 77,
    "start_time": "2022-04-08T16:55:49.761Z"
   },
   {
    "duration": 70,
    "start_time": "2022-04-08T16:58:08.589Z"
   },
   {
    "duration": 110,
    "start_time": "2022-04-08T16:58:19.342Z"
   },
   {
    "duration": 78,
    "start_time": "2022-04-08T16:59:08.042Z"
   },
   {
    "duration": 10,
    "start_time": "2022-04-08T17:01:46.423Z"
   },
   {
    "duration": 9,
    "start_time": "2022-04-08T17:02:06.761Z"
   },
   {
    "duration": 74,
    "start_time": "2022-04-08T17:02:11.288Z"
   },
   {
    "duration": 73,
    "start_time": "2022-04-08T17:02:47.162Z"
   },
   {
    "duration": 76,
    "start_time": "2022-04-08T17:02:53.977Z"
   },
   {
    "duration": 70,
    "start_time": "2022-04-08T17:04:34.358Z"
   },
   {
    "duration": 48,
    "start_time": "2022-04-08T17:06:53.964Z"
   },
   {
    "duration": 24,
    "start_time": "2022-04-08T17:09:08.550Z"
   },
   {
    "duration": 3,
    "start_time": "2022-04-08T17:09:20.909Z"
   },
   {
    "duration": 234,
    "start_time": "2022-04-08T17:09:20.915Z"
   },
   {
    "duration": 198,
    "start_time": "2022-04-08T17:09:21.152Z"
   },
   {
    "duration": 138,
    "start_time": "2022-04-08T17:09:21.352Z"
   },
   {
    "duration": 31,
    "start_time": "2022-04-08T17:09:21.493Z"
   },
   {
    "duration": 58,
    "start_time": "2022-04-08T17:09:21.527Z"
   },
   {
    "duration": 22,
    "start_time": "2022-04-08T17:09:21.587Z"
   },
   {
    "duration": 131,
    "start_time": "2022-04-08T17:09:21.611Z"
   },
   {
    "duration": 77,
    "start_time": "2022-04-08T17:09:21.744Z"
   },
   {
    "duration": 20,
    "start_time": "2022-04-08T17:09:21.824Z"
   },
   {
    "duration": 16,
    "start_time": "2022-04-08T17:09:21.868Z"
   },
   {
    "duration": 14,
    "start_time": "2022-04-08T17:09:21.887Z"
   },
   {
    "duration": 843,
    "start_time": "2022-04-08T17:09:21.903Z"
   },
   {
    "duration": 57,
    "start_time": "2022-04-08T17:09:22.751Z"
   },
   {
    "duration": 5,
    "start_time": "2022-04-08T17:09:22.810Z"
   },
   {
    "duration": 81,
    "start_time": "2022-04-08T17:09:22.817Z"
   },
   {
    "duration": 3,
    "start_time": "2022-04-08T17:09:22.901Z"
   },
   {
    "duration": 358,
    "start_time": "2022-04-08T17:09:22.906Z"
   },
   {
    "duration": 28,
    "start_time": "2022-04-08T17:09:23.268Z"
   },
   {
    "duration": 3,
    "start_time": "2022-04-08T17:09:23.299Z"
   },
   {
    "duration": 69,
    "start_time": "2022-04-08T17:09:23.305Z"
   },
   {
    "duration": 4,
    "start_time": "2022-04-08T17:09:23.377Z"
   },
   {
    "duration": 448,
    "start_time": "2022-04-08T17:09:23.383Z"
   },
   {
    "duration": 44,
    "start_time": "2022-04-08T17:09:23.833Z"
   },
   {
    "duration": 4,
    "start_time": "2022-04-08T17:09:23.879Z"
   },
   {
    "duration": 41,
    "start_time": "2022-04-08T17:09:26.845Z"
   },
   {
    "duration": 24,
    "start_time": "2022-04-08T17:10:49.439Z"
   },
   {
    "duration": 12,
    "start_time": "2022-04-08T17:11:43.341Z"
   },
   {
    "duration": 17,
    "start_time": "2022-04-08T17:12:56.911Z"
   },
   {
    "duration": 4,
    "start_time": "2022-04-08T17:13:41.008Z"
   },
   {
    "duration": 223,
    "start_time": "2022-04-08T17:13:41.016Z"
   },
   {
    "duration": 193,
    "start_time": "2022-04-08T17:13:41.241Z"
   },
   {
    "duration": 139,
    "start_time": "2022-04-08T17:13:41.437Z"
   },
   {
    "duration": 31,
    "start_time": "2022-04-08T17:13:41.579Z"
   },
   {
    "duration": 38,
    "start_time": "2022-04-08T17:13:41.613Z"
   },
   {
    "duration": 21,
    "start_time": "2022-04-08T17:13:41.668Z"
   },
   {
    "duration": 124,
    "start_time": "2022-04-08T17:13:41.692Z"
   },
   {
    "duration": 78,
    "start_time": "2022-04-08T17:13:41.818Z"
   },
   {
    "duration": 18,
    "start_time": "2022-04-08T17:13:41.899Z"
   },
   {
    "duration": 17,
    "start_time": "2022-04-08T17:13:41.919Z"
   },
   {
    "duration": 39,
    "start_time": "2022-04-08T17:13:41.938Z"
   },
   {
    "duration": 577,
    "start_time": "2022-04-08T17:13:41.981Z"
   },
   {
    "duration": 39,
    "start_time": "2022-04-08T17:13:42.568Z"
   },
   {
    "duration": 4,
    "start_time": "2022-04-08T17:13:42.609Z"
   },
   {
    "duration": 88,
    "start_time": "2022-04-08T17:13:42.615Z"
   },
   {
    "duration": 4,
    "start_time": "2022-04-08T17:13:42.705Z"
   },
   {
    "duration": 341,
    "start_time": "2022-04-08T17:13:42.711Z"
   },
   {
    "duration": 35,
    "start_time": "2022-04-08T17:13:43.055Z"
   },
   {
    "duration": 3,
    "start_time": "2022-04-08T17:13:43.093Z"
   },
   {
    "duration": 40,
    "start_time": "2022-04-08T17:13:43.098Z"
   },
   {
    "duration": 29,
    "start_time": "2022-04-08T17:13:43.141Z"
   },
   {
    "duration": 465,
    "start_time": "2022-04-08T17:13:43.172Z"
   },
   {
    "duration": 38,
    "start_time": "2022-04-08T17:13:43.639Z"
   },
   {
    "duration": 4,
    "start_time": "2022-04-08T17:13:43.679Z"
   },
   {
    "duration": 36,
    "start_time": "2022-04-08T17:13:43.685Z"
   },
   {
    "duration": 4,
    "start_time": "2022-04-08T17:13:43.723Z"
   },
   {
    "duration": 17,
    "start_time": "2022-04-08T17:15:11.872Z"
   },
   {
    "duration": 26,
    "start_time": "2022-04-08T17:15:39.386Z"
   },
   {
    "duration": 34,
    "start_time": "2022-04-08T17:16:33.400Z"
   },
   {
    "duration": 28,
    "start_time": "2022-04-08T17:17:28.062Z"
   },
   {
    "duration": 9,
    "start_time": "2022-04-08T17:17:50.092Z"
   },
   {
    "duration": 20,
    "start_time": "2022-04-08T17:21:21.761Z"
   },
   {
    "duration": 11,
    "start_time": "2022-04-08T17:31:57.908Z"
   },
   {
    "duration": 3,
    "start_time": "2022-04-08T17:32:41.667Z"
   },
   {
    "duration": 264,
    "start_time": "2022-04-08T17:32:41.677Z"
   },
   {
    "duration": 275,
    "start_time": "2022-04-08T17:32:41.944Z"
   },
   {
    "duration": 207,
    "start_time": "2022-04-08T17:32:42.222Z"
   },
   {
    "duration": 55,
    "start_time": "2022-04-08T17:32:42.431Z"
   },
   {
    "duration": 38,
    "start_time": "2022-04-08T17:32:42.490Z"
   },
   {
    "duration": 39,
    "start_time": "2022-04-08T17:32:42.530Z"
   },
   {
    "duration": 187,
    "start_time": "2022-04-08T17:32:42.572Z"
   },
   {
    "duration": 119,
    "start_time": "2022-04-08T17:32:42.762Z"
   },
   {
    "duration": 24,
    "start_time": "2022-04-08T17:32:42.884Z"
   },
   {
    "duration": 19,
    "start_time": "2022-04-08T17:32:42.911Z"
   },
   {
    "duration": 46,
    "start_time": "2022-04-08T17:32:42.933Z"
   },
   {
    "duration": 604,
    "start_time": "2022-04-08T17:32:42.982Z"
   },
   {
    "duration": 38,
    "start_time": "2022-04-08T17:32:43.588Z"
   },
   {
    "duration": 4,
    "start_time": "2022-04-08T17:32:43.630Z"
   },
   {
    "duration": 89,
    "start_time": "2022-04-08T17:32:43.636Z"
   },
   {
    "duration": 4,
    "start_time": "2022-04-08T17:32:43.727Z"
   },
   {
    "duration": 347,
    "start_time": "2022-04-08T17:32:43.733Z"
   },
   {
    "duration": 27,
    "start_time": "2022-04-08T17:32:44.083Z"
   },
   {
    "duration": 4,
    "start_time": "2022-04-08T17:32:44.112Z"
   },
   {
    "duration": 68,
    "start_time": "2022-04-08T17:32:44.118Z"
   },
   {
    "duration": 4,
    "start_time": "2022-04-08T17:32:44.188Z"
   },
   {
    "duration": 473,
    "start_time": "2022-04-08T17:32:44.194Z"
   },
   {
    "duration": 32,
    "start_time": "2022-04-08T17:32:44.670Z"
   },
   {
    "duration": 4,
    "start_time": "2022-04-08T17:32:44.704Z"
   },
   {
    "duration": 63,
    "start_time": "2022-04-08T17:32:44.710Z"
   },
   {
    "duration": 4,
    "start_time": "2022-04-08T17:32:44.776Z"
   },
   {
    "duration": 6,
    "start_time": "2022-04-08T17:32:44.783Z"
   },
   {
    "duration": 38,
    "start_time": "2022-04-08T17:32:49.036Z"
   },
   {
    "duration": 36,
    "start_time": "2022-04-08T17:33:07.683Z"
   },
   {
    "duration": 23,
    "start_time": "2022-04-08T17:33:16.565Z"
   },
   {
    "duration": 12,
    "start_time": "2022-04-08T17:39:16.051Z"
   },
   {
    "duration": 9,
    "start_time": "2022-04-08T17:57:44.684Z"
   },
   {
    "duration": 24,
    "start_time": "2022-04-08T17:58:26.742Z"
   },
   {
    "duration": 22,
    "start_time": "2022-04-08T18:00:03.978Z"
   },
   {
    "duration": 7,
    "start_time": "2022-04-08T18:03:54.487Z"
   },
   {
    "duration": 22,
    "start_time": "2022-04-08T18:03:56.853Z"
   },
   {
    "duration": 8,
    "start_time": "2022-04-08T18:06:45.219Z"
   },
   {
    "duration": 22,
    "start_time": "2022-04-08T18:06:47.616Z"
   },
   {
    "duration": 7,
    "start_time": "2022-04-08T18:08:03.043Z"
   },
   {
    "duration": 23,
    "start_time": "2022-04-08T18:08:04.871Z"
   },
   {
    "duration": 12,
    "start_time": "2022-04-08T18:08:46.632Z"
   },
   {
    "duration": 22,
    "start_time": "2022-04-08T18:14:52.659Z"
   },
   {
    "duration": 8,
    "start_time": "2022-04-08T18:15:02.934Z"
   },
   {
    "duration": 24,
    "start_time": "2022-04-08T18:15:05.263Z"
   },
   {
    "duration": 4,
    "start_time": "2022-04-08T18:15:30.400Z"
   },
   {
    "duration": 236,
    "start_time": "2022-04-08T18:15:30.408Z"
   },
   {
    "duration": 200,
    "start_time": "2022-04-08T18:15:30.646Z"
   },
   {
    "duration": 142,
    "start_time": "2022-04-08T18:15:30.849Z"
   },
   {
    "duration": 29,
    "start_time": "2022-04-08T18:15:30.994Z"
   },
   {
    "duration": 54,
    "start_time": "2022-04-08T18:15:31.026Z"
   },
   {
    "duration": 21,
    "start_time": "2022-04-08T18:15:31.083Z"
   },
   {
    "duration": 134,
    "start_time": "2022-04-08T18:15:31.107Z"
   },
   {
    "duration": 76,
    "start_time": "2022-04-08T18:15:31.246Z"
   },
   {
    "duration": 19,
    "start_time": "2022-04-08T18:15:31.324Z"
   },
   {
    "duration": 16,
    "start_time": "2022-04-08T18:15:31.368Z"
   },
   {
    "duration": 11,
    "start_time": "2022-04-08T18:15:31.387Z"
   },
   {
    "duration": 595,
    "start_time": "2022-04-08T18:15:31.401Z"
   },
   {
    "duration": 39,
    "start_time": "2022-04-08T18:15:31.999Z"
   },
   {
    "duration": 4,
    "start_time": "2022-04-08T18:15:32.041Z"
   },
   {
    "duration": 67,
    "start_time": "2022-04-08T18:15:32.067Z"
   },
   {
    "duration": 4,
    "start_time": "2022-04-08T18:15:32.137Z"
   },
   {
    "duration": 345,
    "start_time": "2022-04-08T18:15:32.168Z"
   },
   {
    "duration": 28,
    "start_time": "2022-04-08T18:15:32.515Z"
   },
   {
    "duration": 21,
    "start_time": "2022-04-08T18:15:32.546Z"
   },
   {
    "duration": 36,
    "start_time": "2022-04-08T18:15:32.570Z"
   },
   {
    "duration": 4,
    "start_time": "2022-04-08T18:15:32.609Z"
   },
   {
    "duration": 467,
    "start_time": "2022-04-08T18:15:32.615Z"
   },
   {
    "duration": 33,
    "start_time": "2022-04-08T18:15:33.086Z"
   },
   {
    "duration": 3,
    "start_time": "2022-04-08T18:15:33.122Z"
   },
   {
    "duration": 60,
    "start_time": "2022-04-08T18:15:33.127Z"
   },
   {
    "duration": 3,
    "start_time": "2022-04-08T18:15:33.189Z"
   },
   {
    "duration": 6,
    "start_time": "2022-04-08T18:15:33.194Z"
   },
   {
    "duration": 35,
    "start_time": "2022-04-08T18:15:33.202Z"
   },
   {
    "duration": 36,
    "start_time": "2022-04-08T18:15:33.239Z"
   },
   {
    "duration": 31,
    "start_time": "2022-04-08T18:15:36.359Z"
   },
   {
    "duration": 4,
    "start_time": "2022-04-08T18:26:36.969Z"
   },
   {
    "duration": 262,
    "start_time": "2022-04-08T18:26:36.975Z"
   },
   {
    "duration": 200,
    "start_time": "2022-04-08T18:26:37.239Z"
   },
   {
    "duration": 142,
    "start_time": "2022-04-08T18:26:37.441Z"
   },
   {
    "duration": 29,
    "start_time": "2022-04-08T18:26:37.587Z"
   },
   {
    "duration": 50,
    "start_time": "2022-04-08T18:26:37.618Z"
   },
   {
    "duration": 21,
    "start_time": "2022-04-08T18:26:37.670Z"
   },
   {
    "duration": 124,
    "start_time": "2022-04-08T18:26:37.693Z"
   },
   {
    "duration": 73,
    "start_time": "2022-04-08T18:26:37.820Z"
   },
   {
    "duration": 18,
    "start_time": "2022-04-08T18:26:37.896Z"
   },
   {
    "duration": 15,
    "start_time": "2022-04-08T18:26:37.917Z"
   },
   {
    "duration": 40,
    "start_time": "2022-04-08T18:26:37.934Z"
   },
   {
    "duration": 574,
    "start_time": "2022-04-08T18:26:37.978Z"
   },
   {
    "duration": 46,
    "start_time": "2022-04-08T18:26:38.555Z"
   },
   {
    "duration": 3,
    "start_time": "2022-04-08T18:26:38.603Z"
   },
   {
    "duration": 102,
    "start_time": "2022-04-08T18:26:38.609Z"
   },
   {
    "duration": 4,
    "start_time": "2022-04-08T18:26:38.713Z"
   },
   {
    "duration": 362,
    "start_time": "2022-04-08T18:26:38.719Z"
   },
   {
    "duration": 27,
    "start_time": "2022-04-08T18:26:39.083Z"
   },
   {
    "duration": 3,
    "start_time": "2022-04-08T18:26:39.112Z"
   },
   {
    "duration": 68,
    "start_time": "2022-04-08T18:26:39.117Z"
   },
   {
    "duration": 4,
    "start_time": "2022-04-08T18:26:39.187Z"
   },
   {
    "duration": 438,
    "start_time": "2022-04-08T18:26:39.194Z"
   },
   {
    "duration": 47,
    "start_time": "2022-04-08T18:26:39.634Z"
   },
   {
    "duration": 3,
    "start_time": "2022-04-08T18:26:39.683Z"
   },
   {
    "duration": 41,
    "start_time": "2022-04-08T18:26:39.689Z"
   },
   {
    "duration": 3,
    "start_time": "2022-04-08T18:26:39.733Z"
   },
   {
    "duration": 35,
    "start_time": "2022-04-08T18:26:39.739Z"
   },
   {
    "duration": 40,
    "start_time": "2022-04-08T18:26:39.776Z"
   },
   {
    "duration": 8,
    "start_time": "2022-04-08T18:26:39.819Z"
   },
   {
    "duration": 42,
    "start_time": "2022-04-08T18:28:07.416Z"
   },
   {
    "duration": 4,
    "start_time": "2022-04-08T18:28:13.009Z"
   },
   {
    "duration": 237,
    "start_time": "2022-04-08T18:28:13.015Z"
   },
   {
    "duration": 196,
    "start_time": "2022-04-08T18:28:13.255Z"
   },
   {
    "duration": 140,
    "start_time": "2022-04-08T18:28:13.453Z"
   },
   {
    "duration": 30,
    "start_time": "2022-04-08T18:28:13.596Z"
   },
   {
    "duration": 50,
    "start_time": "2022-04-08T18:28:13.628Z"
   },
   {
    "duration": 22,
    "start_time": "2022-04-08T18:28:13.680Z"
   },
   {
    "duration": 124,
    "start_time": "2022-04-08T18:28:13.704Z"
   },
   {
    "duration": 79,
    "start_time": "2022-04-08T18:28:13.830Z"
   },
   {
    "duration": 19,
    "start_time": "2022-04-08T18:28:13.911Z"
   },
   {
    "duration": 33,
    "start_time": "2022-04-08T18:28:13.935Z"
   },
   {
    "duration": 11,
    "start_time": "2022-04-08T18:28:13.971Z"
   },
   {
    "duration": 566,
    "start_time": "2022-04-08T18:28:13.984Z"
   },
   {
    "duration": 44,
    "start_time": "2022-04-08T18:28:14.553Z"
   },
   {
    "duration": 3,
    "start_time": "2022-04-08T18:28:14.600Z"
   },
   {
    "duration": 93,
    "start_time": "2022-04-08T18:28:14.605Z"
   },
   {
    "duration": 3,
    "start_time": "2022-04-08T18:28:14.701Z"
   },
   {
    "duration": 383,
    "start_time": "2022-04-08T18:28:14.706Z"
   },
   {
    "duration": 27,
    "start_time": "2022-04-08T18:28:15.092Z"
   },
   {
    "duration": 4,
    "start_time": "2022-04-08T18:28:15.121Z"
   },
   {
    "duration": 66,
    "start_time": "2022-04-08T18:28:15.127Z"
   },
   {
    "duration": 4,
    "start_time": "2022-04-08T18:28:15.195Z"
   },
   {
    "duration": 433,
    "start_time": "2022-04-08T18:28:15.201Z"
   },
   {
    "duration": 45,
    "start_time": "2022-04-08T18:28:15.637Z"
   },
   {
    "duration": 5,
    "start_time": "2022-04-08T18:28:15.685Z"
   },
   {
    "duration": 42,
    "start_time": "2022-04-08T18:28:15.692Z"
   },
   {
    "duration": 4,
    "start_time": "2022-04-08T18:28:15.737Z"
   },
   {
    "duration": 3,
    "start_time": "2022-04-08T18:28:15.769Z"
   },
   {
    "duration": 42,
    "start_time": "2022-04-08T18:28:18.213Z"
   },
   {
    "duration": 4,
    "start_time": "2022-04-08T18:30:21.628Z"
   },
   {
    "duration": 256,
    "start_time": "2022-04-08T18:30:21.635Z"
   },
   {
    "duration": 187,
    "start_time": "2022-04-08T18:30:21.894Z"
   },
   {
    "duration": 132,
    "start_time": "2022-04-08T18:30:22.084Z"
   },
   {
    "duration": 30,
    "start_time": "2022-04-08T18:30:22.219Z"
   },
   {
    "duration": 42,
    "start_time": "2022-04-08T18:30:22.251Z"
   },
   {
    "duration": 23,
    "start_time": "2022-04-08T18:30:22.295Z"
   },
   {
    "duration": 127,
    "start_time": "2022-04-08T18:30:22.320Z"
   },
   {
    "duration": 75,
    "start_time": "2022-04-08T18:30:22.450Z"
   },
   {
    "duration": 19,
    "start_time": "2022-04-08T18:30:22.527Z"
   },
   {
    "duration": 13,
    "start_time": "2022-04-08T18:30:22.570Z"
   },
   {
    "duration": 14,
    "start_time": "2022-04-08T18:30:22.585Z"
   },
   {
    "duration": 559,
    "start_time": "2022-04-08T18:30:22.601Z"
   },
   {
    "duration": 38,
    "start_time": "2022-04-08T18:30:23.167Z"
   },
   {
    "duration": 4,
    "start_time": "2022-04-08T18:30:23.207Z"
   },
   {
    "duration": 83,
    "start_time": "2022-04-08T18:30:23.213Z"
   },
   {
    "duration": 3,
    "start_time": "2022-04-08T18:30:23.299Z"
   },
   {
    "duration": 388,
    "start_time": "2022-04-08T18:30:23.304Z"
   },
   {
    "duration": 26,
    "start_time": "2022-04-08T18:30:23.694Z"
   },
   {
    "duration": 4,
    "start_time": "2022-04-08T18:30:23.722Z"
   },
   {
    "duration": 69,
    "start_time": "2022-04-08T18:30:23.728Z"
   },
   {
    "duration": 3,
    "start_time": "2022-04-08T18:30:23.800Z"
   },
   {
    "duration": 447,
    "start_time": "2022-04-08T18:30:23.805Z"
   },
   {
    "duration": 45,
    "start_time": "2022-04-08T18:30:24.254Z"
   },
   {
    "duration": 3,
    "start_time": "2022-04-08T18:30:24.302Z"
   },
   {
    "duration": 66,
    "start_time": "2022-04-08T18:30:24.307Z"
   },
   {
    "duration": 4,
    "start_time": "2022-04-08T18:30:24.376Z"
   },
   {
    "duration": 7,
    "start_time": "2022-04-08T18:30:24.383Z"
   },
   {
    "duration": 42,
    "start_time": "2022-04-08T18:30:27.835Z"
   },
   {
    "duration": 36,
    "start_time": "2022-04-08T18:30:36.913Z"
   },
   {
    "duration": 4,
    "start_time": "2022-04-08T18:31:07.753Z"
   },
   {
    "duration": 244,
    "start_time": "2022-04-08T18:31:07.759Z"
   },
   {
    "duration": 196,
    "start_time": "2022-04-08T18:31:08.005Z"
   },
   {
    "duration": 138,
    "start_time": "2022-04-08T18:31:08.204Z"
   },
   {
    "duration": 37,
    "start_time": "2022-04-08T18:31:08.344Z"
   },
   {
    "duration": 38,
    "start_time": "2022-04-08T18:31:08.384Z"
   },
   {
    "duration": 21,
    "start_time": "2022-04-08T18:31:08.424Z"
   },
   {
    "duration": 132,
    "start_time": "2022-04-08T18:31:08.448Z"
   },
   {
    "duration": 68,
    "start_time": "2022-04-08T18:31:08.584Z"
   },
   {
    "duration": 20,
    "start_time": "2022-04-08T18:31:08.668Z"
   },
   {
    "duration": 16,
    "start_time": "2022-04-08T18:31:08.691Z"
   },
   {
    "duration": 14,
    "start_time": "2022-04-08T18:31:08.709Z"
   },
   {
    "duration": 582,
    "start_time": "2022-04-08T18:31:08.725Z"
   },
   {
    "duration": 39,
    "start_time": "2022-04-08T18:31:09.309Z"
   },
   {
    "duration": 20,
    "start_time": "2022-04-08T18:31:09.350Z"
   },
   {
    "duration": 76,
    "start_time": "2022-04-08T18:31:09.372Z"
   },
   {
    "duration": 20,
    "start_time": "2022-04-08T18:31:09.450Z"
   },
   {
    "duration": 588,
    "start_time": "2022-04-08T18:31:09.473Z"
   },
   {
    "duration": 38,
    "start_time": "2022-04-08T18:31:10.068Z"
   },
   {
    "duration": 3,
    "start_time": "2022-04-08T18:31:10.109Z"
   },
   {
    "duration": 64,
    "start_time": "2022-04-08T18:31:10.114Z"
   },
   {
    "duration": 4,
    "start_time": "2022-04-08T18:31:10.180Z"
   },
   {
    "duration": 426,
    "start_time": "2022-04-08T18:31:10.186Z"
   },
   {
    "duration": 32,
    "start_time": "2022-04-08T18:31:10.616Z"
   },
   {
    "duration": 19,
    "start_time": "2022-04-08T18:31:10.650Z"
   },
   {
    "duration": 43,
    "start_time": "2022-04-08T18:31:10.670Z"
   },
   {
    "duration": 4,
    "start_time": "2022-04-08T18:31:10.715Z"
   },
   {
    "duration": 6,
    "start_time": "2022-04-08T18:31:10.721Z"
   },
   {
    "duration": 40,
    "start_time": "2022-04-08T18:31:12.362Z"
   },
   {
    "duration": 4,
    "start_time": "2022-04-08T18:31:33.965Z"
   },
   {
    "duration": 254,
    "start_time": "2022-04-08T18:31:33.971Z"
   },
   {
    "duration": 195,
    "start_time": "2022-04-08T18:31:34.229Z"
   },
   {
    "duration": 146,
    "start_time": "2022-04-08T18:31:34.428Z"
   },
   {
    "duration": 41,
    "start_time": "2022-04-08T18:31:34.577Z"
   },
   {
    "duration": 66,
    "start_time": "2022-04-08T18:31:34.621Z"
   },
   {
    "duration": 40,
    "start_time": "2022-04-08T18:31:34.690Z"
   },
   {
    "duration": 145,
    "start_time": "2022-04-08T18:31:34.733Z"
   },
   {
    "duration": 66,
    "start_time": "2022-04-08T18:31:34.881Z"
   },
   {
    "duration": 32,
    "start_time": "2022-04-08T18:31:34.951Z"
   },
   {
    "duration": 14,
    "start_time": "2022-04-08T18:31:34.985Z"
   },
   {
    "duration": 11,
    "start_time": "2022-04-08T18:31:35.002Z"
   },
   {
    "duration": 622,
    "start_time": "2022-04-08T18:31:35.015Z"
   },
   {
    "duration": 52,
    "start_time": "2022-04-08T18:31:35.639Z"
   },
   {
    "duration": 4,
    "start_time": "2022-04-08T18:31:35.693Z"
   },
   {
    "duration": 101,
    "start_time": "2022-04-08T18:31:35.698Z"
   },
   {
    "duration": 4,
    "start_time": "2022-04-08T18:31:35.802Z"
   },
   {
    "duration": 493,
    "start_time": "2022-04-08T18:31:35.808Z"
   },
   {
    "duration": 29,
    "start_time": "2022-04-08T18:31:36.303Z"
   },
   {
    "duration": 3,
    "start_time": "2022-04-08T18:31:36.334Z"
   },
   {
    "duration": 40,
    "start_time": "2022-04-08T18:31:36.368Z"
   },
   {
    "duration": 3,
    "start_time": "2022-04-08T18:31:36.410Z"
   },
   {
    "duration": 462,
    "start_time": "2022-04-08T18:31:36.415Z"
   },
   {
    "duration": 33,
    "start_time": "2022-04-08T18:31:36.880Z"
   },
   {
    "duration": 4,
    "start_time": "2022-04-08T18:31:36.915Z"
   },
   {
    "duration": 75,
    "start_time": "2022-04-08T18:31:36.921Z"
   },
   {
    "duration": 3,
    "start_time": "2022-04-08T18:31:36.999Z"
   },
   {
    "duration": 3,
    "start_time": "2022-04-08T18:31:37.007Z"
   },
   {
    "duration": 44,
    "start_time": "2022-04-08T18:31:38.789Z"
   },
   {
    "duration": 4,
    "start_time": "2022-04-08T18:31:53.663Z"
   },
   {
    "duration": 254,
    "start_time": "2022-04-08T18:31:53.670Z"
   },
   {
    "duration": 205,
    "start_time": "2022-04-08T18:31:53.926Z"
   },
   {
    "duration": 148,
    "start_time": "2022-04-08T18:31:54.135Z"
   },
   {
    "duration": 32,
    "start_time": "2022-04-08T18:31:54.286Z"
   },
   {
    "duration": 55,
    "start_time": "2022-04-08T18:31:54.320Z"
   },
   {
    "duration": 22,
    "start_time": "2022-04-08T18:31:54.378Z"
   },
   {
    "duration": 122,
    "start_time": "2022-04-08T18:31:54.402Z"
   },
   {
    "duration": 80,
    "start_time": "2022-04-08T18:31:54.527Z"
   },
   {
    "duration": 19,
    "start_time": "2022-04-08T18:31:54.611Z"
   },
   {
    "duration": 45,
    "start_time": "2022-04-08T18:31:54.633Z"
   },
   {
    "duration": 16,
    "start_time": "2022-04-08T18:31:54.681Z"
   },
   {
    "duration": 580,
    "start_time": "2022-04-08T18:31:54.699Z"
   },
   {
    "duration": 41,
    "start_time": "2022-04-08T18:31:55.282Z"
   },
   {
    "duration": 4,
    "start_time": "2022-04-08T18:31:55.326Z"
   },
   {
    "duration": 108,
    "start_time": "2022-04-08T18:31:55.332Z"
   },
   {
    "duration": 3,
    "start_time": "2022-04-08T18:31:55.443Z"
   },
   {
    "duration": 403,
    "start_time": "2022-04-08T18:31:55.449Z"
   },
   {
    "duration": 37,
    "start_time": "2022-04-08T18:31:55.854Z"
   },
   {
    "duration": 4,
    "start_time": "2022-04-08T18:31:55.893Z"
   },
   {
    "duration": 72,
    "start_time": "2022-04-08T18:31:55.900Z"
   },
   {
    "duration": 4,
    "start_time": "2022-04-08T18:31:55.974Z"
   },
   {
    "duration": 441,
    "start_time": "2022-04-08T18:31:55.981Z"
   },
   {
    "duration": 55,
    "start_time": "2022-04-08T18:31:56.425Z"
   },
   {
    "duration": 4,
    "start_time": "2022-04-08T18:31:56.483Z"
   },
   {
    "duration": 56,
    "start_time": "2022-04-08T18:31:56.490Z"
   },
   {
    "duration": 4,
    "start_time": "2022-04-08T18:31:56.569Z"
   },
   {
    "duration": 4,
    "start_time": "2022-04-08T18:31:56.580Z"
   },
   {
    "duration": 41,
    "start_time": "2022-04-08T18:32:01.732Z"
   },
   {
    "duration": 3,
    "start_time": "2022-04-08T18:35:08.439Z"
   },
   {
    "duration": 246,
    "start_time": "2022-04-08T18:35:08.445Z"
   },
   {
    "duration": 192,
    "start_time": "2022-04-08T18:35:08.693Z"
   },
   {
    "duration": 135,
    "start_time": "2022-04-08T18:35:08.887Z"
   },
   {
    "duration": 30,
    "start_time": "2022-04-08T18:35:09.025Z"
   },
   {
    "duration": 39,
    "start_time": "2022-04-08T18:35:09.067Z"
   },
   {
    "duration": 22,
    "start_time": "2022-04-08T18:35:09.108Z"
   },
   {
    "duration": 126,
    "start_time": "2022-04-08T18:35:09.132Z"
   },
   {
    "duration": 73,
    "start_time": "2022-04-08T18:35:09.260Z"
   },
   {
    "duration": 34,
    "start_time": "2022-04-08T18:35:09.336Z"
   },
   {
    "duration": 13,
    "start_time": "2022-04-08T18:35:09.374Z"
   },
   {
    "duration": 11,
    "start_time": "2022-04-08T18:35:09.389Z"
   },
   {
    "duration": 570,
    "start_time": "2022-04-08T18:35:09.402Z"
   },
   {
    "duration": 39,
    "start_time": "2022-04-08T18:35:09.974Z"
   },
   {
    "duration": 3,
    "start_time": "2022-04-08T18:35:10.015Z"
   },
   {
    "duration": 91,
    "start_time": "2022-04-08T18:35:10.020Z"
   },
   {
    "duration": 4,
    "start_time": "2022-04-08T18:35:10.113Z"
   },
   {
    "duration": 372,
    "start_time": "2022-04-08T18:35:10.119Z"
   },
   {
    "duration": 28,
    "start_time": "2022-04-08T18:35:10.493Z"
   },
   {
    "duration": 3,
    "start_time": "2022-04-08T18:35:10.523Z"
   },
   {
    "duration": 65,
    "start_time": "2022-04-08T18:35:10.528Z"
   },
   {
    "duration": 3,
    "start_time": "2022-04-08T18:35:10.595Z"
   },
   {
    "duration": 426,
    "start_time": "2022-04-08T18:35:10.601Z"
   },
   {
    "duration": 49,
    "start_time": "2022-04-08T18:35:11.029Z"
   },
   {
    "duration": 4,
    "start_time": "2022-04-08T18:35:11.080Z"
   },
   {
    "duration": 45,
    "start_time": "2022-04-08T18:35:11.086Z"
   },
   {
    "duration": 3,
    "start_time": "2022-04-08T18:35:11.133Z"
   },
   {
    "duration": 6,
    "start_time": "2022-04-08T18:35:11.139Z"
   },
   {
    "duration": 39,
    "start_time": "2022-04-08T18:35:14.053Z"
   },
   {
    "duration": 9,
    "start_time": "2022-04-08T18:35:18.646Z"
   },
   {
    "duration": 29,
    "start_time": "2022-04-08T18:35:23.149Z"
   },
   {
    "duration": 773,
    "start_time": "2022-04-09T14:12:11.106Z"
   },
   {
    "duration": 180,
    "start_time": "2022-04-09T14:12:11.881Z"
   },
   {
    "duration": 156,
    "start_time": "2022-04-09T14:12:12.062Z"
   },
   {
    "duration": 112,
    "start_time": "2022-04-09T14:12:12.220Z"
   },
   {
    "duration": 23,
    "start_time": "2022-04-09T14:12:12.335Z"
   },
   {
    "duration": 33,
    "start_time": "2022-04-09T14:12:12.360Z"
   },
   {
    "duration": 93,
    "start_time": "2022-04-09T14:12:12.395Z"
   },
   {
    "duration": 50,
    "start_time": "2022-04-09T14:12:12.490Z"
   },
   {
    "duration": 14,
    "start_time": "2022-04-09T14:12:12.542Z"
   },
   {
    "duration": 30,
    "start_time": "2022-04-09T14:12:12.557Z"
   },
   {
    "duration": 8,
    "start_time": "2022-04-09T14:12:12.589Z"
   },
   {
    "duration": 452,
    "start_time": "2022-04-09T14:12:12.598Z"
   },
   {
    "duration": 34,
    "start_time": "2022-04-09T14:12:13.052Z"
   },
   {
    "duration": 56,
    "start_time": "2022-04-09T14:12:13.089Z"
   },
   {
    "duration": 305,
    "start_time": "2022-04-09T14:12:13.147Z"
   },
   {
    "duration": 27,
    "start_time": "2022-04-09T14:12:13.453Z"
   },
   {
    "duration": 30,
    "start_time": "2022-04-09T14:12:13.482Z"
   },
   {
    "duration": 343,
    "start_time": "2022-04-09T14:12:13.514Z"
   },
   {
    "duration": 30,
    "start_time": "2022-04-09T14:12:13.858Z"
   },
   {
    "duration": 25,
    "start_time": "2022-04-09T14:12:13.890Z"
   },
   {
    "duration": 24,
    "start_time": "2022-04-09T14:12:13.917Z"
   },
   {
    "duration": 6,
    "start_time": "2022-04-09T14:12:13.942Z"
   },
   {
    "duration": 41,
    "start_time": "2022-04-09T14:12:13.949Z"
   },
   {
    "duration": 5,
    "start_time": "2022-04-09T14:12:13.992Z"
   },
   {
    "duration": 6061,
    "start_time": "2022-04-09T14:12:13.999Z"
   },
   {
    "duration": 6175,
    "start_time": "2022-04-09T14:12:42.435Z"
   },
   {
    "duration": 66,
    "start_time": "2022-04-09T14:16:52.714Z"
   },
   {
    "duration": 6,
    "start_time": "2022-04-09T14:17:45.972Z"
   },
   {
    "duration": 8,
    "start_time": "2022-04-09T14:18:10.487Z"
   },
   {
    "duration": 16,
    "start_time": "2022-04-09T14:18:18.261Z"
   },
   {
    "duration": 135,
    "start_time": "2022-04-09T14:18:29.217Z"
   },
   {
    "duration": 18,
    "start_time": "2022-04-09T14:19:41.826Z"
   },
   {
    "duration": 117,
    "start_time": "2022-04-09T14:19:47.416Z"
   },
   {
    "duration": 16,
    "start_time": "2022-04-09T14:23:56.268Z"
   },
   {
    "duration": 190,
    "start_time": "2022-04-09T14:24:35.396Z"
   },
   {
    "duration": 254,
    "start_time": "2022-04-09T14:24:52.071Z"
   },
   {
    "duration": 221,
    "start_time": "2022-04-09T14:25:00.045Z"
   },
   {
    "duration": 131,
    "start_time": "2022-04-09T14:25:07.695Z"
   },
   {
    "duration": 157,
    "start_time": "2022-04-09T14:25:16.829Z"
   },
   {
    "duration": 171,
    "start_time": "2022-04-09T14:25:23.940Z"
   },
   {
    "duration": 152,
    "start_time": "2022-04-09T14:25:31.937Z"
   },
   {
    "duration": 433,
    "start_time": "2022-04-09T14:25:41.583Z"
   },
   {
    "duration": 201,
    "start_time": "2022-04-09T14:25:57.723Z"
   },
   {
    "duration": 225,
    "start_time": "2022-04-09T14:26:06.376Z"
   },
   {
    "duration": 236,
    "start_time": "2022-04-09T14:26:18.165Z"
   },
   {
    "duration": 239,
    "start_time": "2022-04-09T14:31:19.105Z"
   },
   {
    "duration": 240,
    "start_time": "2022-04-09T14:36:26.774Z"
   },
   {
    "duration": 345,
    "start_time": "2022-04-09T14:37:33.844Z"
   },
   {
    "duration": 240,
    "start_time": "2022-04-09T14:39:16.580Z"
   },
   {
    "duration": 233,
    "start_time": "2022-04-09T14:40:33.203Z"
   },
   {
    "duration": 288,
    "start_time": "2022-04-09T14:40:45.971Z"
   },
   {
    "duration": 244,
    "start_time": "2022-04-09T14:41:11.375Z"
   },
   {
    "duration": 374,
    "start_time": "2022-04-09T14:41:20.228Z"
   },
   {
    "duration": 248,
    "start_time": "2022-04-09T14:41:28.858Z"
   },
   {
    "duration": 245,
    "start_time": "2022-04-09T14:41:34.945Z"
   },
   {
    "duration": 251,
    "start_time": "2022-04-09T14:41:58.107Z"
   },
   {
    "duration": 250,
    "start_time": "2022-04-09T14:42:09.178Z"
   },
   {
    "duration": 256,
    "start_time": "2022-04-09T14:42:49.588Z"
   },
   {
    "duration": 414,
    "start_time": "2022-04-09T14:44:39.771Z"
   },
   {
    "duration": 297,
    "start_time": "2022-04-09T14:44:52.473Z"
   },
   {
    "duration": 3,
    "start_time": "2022-04-09T14:46:06.769Z"
   },
   {
    "duration": 119,
    "start_time": "2022-04-09T14:46:22.796Z"
   },
   {
    "duration": 127,
    "start_time": "2022-04-09T14:46:41.767Z"
   },
   {
    "duration": 19,
    "start_time": "2022-04-09T14:47:47.785Z"
   },
   {
    "duration": 5,
    "start_time": "2022-04-09T14:49:05.024Z"
   },
   {
    "duration": 6,
    "start_time": "2022-04-09T14:50:59.603Z"
   },
   {
    "duration": 5,
    "start_time": "2022-04-09T14:51:30.542Z"
   },
   {
    "duration": 5,
    "start_time": "2022-04-09T14:52:01.679Z"
   },
   {
    "duration": 3,
    "start_time": "2022-04-09T14:52:15.560Z"
   },
   {
    "duration": 189,
    "start_time": "2022-04-09T14:52:15.568Z"
   },
   {
    "duration": 154,
    "start_time": "2022-04-09T14:52:15.759Z"
   },
   {
    "duration": 123,
    "start_time": "2022-04-09T14:52:15.915Z"
   },
   {
    "duration": 22,
    "start_time": "2022-04-09T14:52:16.040Z"
   },
   {
    "duration": 46,
    "start_time": "2022-04-09T14:52:16.064Z"
   },
   {
    "duration": 74,
    "start_time": "2022-04-09T14:52:16.113Z"
   },
   {
    "duration": 49,
    "start_time": "2022-04-09T14:52:16.188Z"
   },
   {
    "duration": 14,
    "start_time": "2022-04-09T14:52:16.239Z"
   },
   {
    "duration": 12,
    "start_time": "2022-04-09T14:52:16.279Z"
   },
   {
    "duration": 9,
    "start_time": "2022-04-09T14:52:16.294Z"
   },
   {
    "duration": 1013,
    "start_time": "2022-04-09T14:52:16.305Z"
   },
   {
    "duration": 28,
    "start_time": "2022-04-09T14:52:17.320Z"
   },
   {
    "duration": 5,
    "start_time": "2022-04-09T14:52:17.350Z"
   },
   {
    "duration": 58,
    "start_time": "2022-04-09T14:52:17.378Z"
   },
   {
    "duration": 502,
    "start_time": "2022-04-09T14:52:17.438Z"
   },
   {
    "duration": 20,
    "start_time": "2022-04-09T14:52:17.942Z"
   },
   {
    "duration": 17,
    "start_time": "2022-04-09T14:52:17.964Z"
   },
   {
    "duration": 33,
    "start_time": "2022-04-09T14:52:17.983Z"
   },
   {
    "duration": 553,
    "start_time": "2022-04-09T14:52:18.018Z"
   },
   {
    "duration": 28,
    "start_time": "2022-04-09T14:52:18.573Z"
   },
   {
    "duration": 5,
    "start_time": "2022-04-09T14:52:18.602Z"
   },
   {
    "duration": 30,
    "start_time": "2022-04-09T14:52:18.609Z"
   },
   {
    "duration": 7,
    "start_time": "2022-04-09T14:52:30.870Z"
   },
   {
    "duration": 7,
    "start_time": "2022-04-09T14:52:38.872Z"
   },
   {
    "duration": 3,
    "start_time": "2022-04-09T14:52:56.666Z"
   },
   {
    "duration": 190,
    "start_time": "2022-04-09T14:52:56.672Z"
   },
   {
    "duration": 159,
    "start_time": "2022-04-09T14:52:56.864Z"
   },
   {
    "duration": 113,
    "start_time": "2022-04-09T14:52:57.025Z"
   },
   {
    "duration": 22,
    "start_time": "2022-04-09T14:52:57.141Z"
   },
   {
    "duration": 35,
    "start_time": "2022-04-09T14:52:57.165Z"
   },
   {
    "duration": 90,
    "start_time": "2022-04-09T14:52:57.202Z"
   },
   {
    "duration": 48,
    "start_time": "2022-04-09T14:52:57.294Z"
   },
   {
    "duration": 13,
    "start_time": "2022-04-09T14:52:57.344Z"
   },
   {
    "duration": 11,
    "start_time": "2022-04-09T14:52:57.378Z"
   },
   {
    "duration": 10,
    "start_time": "2022-04-09T14:52:57.392Z"
   },
   {
    "duration": 981,
    "start_time": "2022-04-09T14:52:57.404Z"
   },
   {
    "duration": 29,
    "start_time": "2022-04-09T14:52:58.388Z"
   },
   {
    "duration": 5,
    "start_time": "2022-04-09T14:52:58.419Z"
   },
   {
    "duration": 79,
    "start_time": "2022-04-09T14:52:58.426Z"
   },
   {
    "duration": 520,
    "start_time": "2022-04-09T14:52:58.507Z"
   },
   {
    "duration": 20,
    "start_time": "2022-04-09T14:52:59.028Z"
   },
   {
    "duration": 5,
    "start_time": "2022-04-09T14:52:59.050Z"
   },
   {
    "duration": 51,
    "start_time": "2022-04-09T14:52:59.057Z"
   },
   {
    "duration": 535,
    "start_time": "2022-04-09T14:52:59.109Z"
   },
   {
    "duration": 34,
    "start_time": "2022-04-09T14:52:59.646Z"
   },
   {
    "duration": 4,
    "start_time": "2022-04-09T14:52:59.682Z"
   },
   {
    "duration": 33,
    "start_time": "2022-04-09T14:52:59.688Z"
   },
   {
    "duration": 37,
    "start_time": "2022-04-09T14:53:11.465Z"
   },
   {
    "duration": 6,
    "start_time": "2022-04-09T14:53:15.682Z"
   },
   {
    "duration": 8,
    "start_time": "2022-04-09T14:54:35.478Z"
   },
   {
    "duration": 9,
    "start_time": "2022-04-09T14:55:08.823Z"
   },
   {
    "duration": 17,
    "start_time": "2022-04-09T15:01:01.634Z"
   },
   {
    "duration": 12,
    "start_time": "2022-04-09T15:01:20.409Z"
   },
   {
    "duration": 11,
    "start_time": "2022-04-09T15:02:11.395Z"
   },
   {
    "duration": 10,
    "start_time": "2022-04-09T15:02:29.440Z"
   },
   {
    "duration": 9,
    "start_time": "2022-04-09T15:07:28.411Z"
   },
   {
    "duration": 11,
    "start_time": "2022-04-09T15:07:42.762Z"
   },
   {
    "duration": 6,
    "start_time": "2022-04-09T15:08:08.166Z"
   },
   {
    "duration": 5,
    "start_time": "2022-04-09T15:08:19.640Z"
   },
   {
    "duration": 3,
    "start_time": "2022-04-09T15:09:46.847Z"
   },
   {
    "duration": 188,
    "start_time": "2022-04-09T15:09:46.852Z"
   },
   {
    "duration": 146,
    "start_time": "2022-04-09T15:09:47.043Z"
   },
   {
    "duration": 104,
    "start_time": "2022-04-09T15:09:47.191Z"
   },
   {
    "duration": 21,
    "start_time": "2022-04-09T15:09:47.297Z"
   },
   {
    "duration": 32,
    "start_time": "2022-04-09T15:09:47.319Z"
   },
   {
    "duration": 82,
    "start_time": "2022-04-09T15:09:47.352Z"
   },
   {
    "duration": 55,
    "start_time": "2022-04-09T15:09:47.435Z"
   },
   {
    "duration": 13,
    "start_time": "2022-04-09T15:09:47.492Z"
   },
   {
    "duration": 10,
    "start_time": "2022-04-09T15:09:47.507Z"
   },
   {
    "duration": 8,
    "start_time": "2022-04-09T15:09:47.520Z"
   },
   {
    "duration": 694,
    "start_time": "2022-04-09T15:09:47.529Z"
   },
   {
    "duration": 26,
    "start_time": "2022-04-09T15:09:48.225Z"
   },
   {
    "duration": 4,
    "start_time": "2022-04-09T15:09:48.253Z"
   },
   {
    "duration": 63,
    "start_time": "2022-04-09T15:09:48.258Z"
   },
   {
    "duration": 477,
    "start_time": "2022-04-09T15:09:48.323Z"
   },
   {
    "duration": 20,
    "start_time": "2022-04-09T15:09:48.802Z"
   },
   {
    "duration": 5,
    "start_time": "2022-04-09T15:09:48.823Z"
   },
   {
    "duration": 50,
    "start_time": "2022-04-09T15:09:48.830Z"
   },
   {
    "duration": 521,
    "start_time": "2022-04-09T15:09:48.882Z"
   },
   {
    "duration": 23,
    "start_time": "2022-04-09T15:09:49.405Z"
   },
   {
    "duration": 4,
    "start_time": "2022-04-09T15:09:49.430Z"
   },
   {
    "duration": 49,
    "start_time": "2022-04-09T15:09:49.436Z"
   },
   {
    "duration": 25,
    "start_time": "2022-04-09T15:09:49.487Z"
   },
   {
    "duration": 6,
    "start_time": "2022-04-09T15:09:49.513Z"
   },
   {
    "duration": 10,
    "start_time": "2022-04-09T15:09:49.521Z"
   },
   {
    "duration": 101,
    "start_time": "2022-04-09T15:09:49.533Z"
   },
   {
    "duration": 9,
    "start_time": "2022-04-09T15:10:23.626Z"
   },
   {
    "duration": 11,
    "start_time": "2022-04-09T15:12:53.387Z"
   },
   {
    "duration": 15,
    "start_time": "2022-04-09T15:12:54.793Z"
   },
   {
    "duration": 15,
    "start_time": "2022-04-09T15:13:29.938Z"
   },
   {
    "duration": 7,
    "start_time": "2022-04-09T15:13:36.894Z"
   },
   {
    "duration": 6456,
    "start_time": "2022-04-09T15:13:41.312Z"
   },
   {
    "duration": 26,
    "start_time": "2022-04-09T15:14:03.791Z"
   },
   {
    "duration": 295,
    "start_time": "2022-04-09T15:14:17.447Z"
   },
   {
    "duration": 19,
    "start_time": "2022-04-09T15:14:39.381Z"
   },
   {
    "duration": 111,
    "start_time": "2022-04-09T15:18:44.185Z"
   },
   {
    "duration": 9172,
    "start_time": "2022-04-09T15:18:52.297Z"
   },
   {
    "duration": 204,
    "start_time": "2022-04-09T15:24:59.511Z"
   },
   {
    "duration": 8,
    "start_time": "2022-04-09T15:25:09.028Z"
   },
   {
    "duration": 728,
    "start_time": "2022-04-09T15:25:11.480Z"
   },
   {
    "duration": 193,
    "start_time": "2022-04-09T15:25:39.697Z"
   },
   {
    "duration": 189,
    "start_time": "2022-04-09T15:26:02.727Z"
   },
   {
    "duration": 265,
    "start_time": "2022-04-09T15:26:17.343Z"
   },
   {
    "duration": 223,
    "start_time": "2022-04-09T15:30:51.391Z"
   },
   {
    "duration": 189,
    "start_time": "2022-04-09T15:32:00.141Z"
   },
   {
    "duration": 312,
    "start_time": "2022-04-09T15:33:59.920Z"
   },
   {
    "duration": 306,
    "start_time": "2022-04-09T15:52:32.179Z"
   },
   {
    "duration": 3,
    "start_time": "2022-04-09T15:54:09.369Z"
   },
   {
    "duration": 115,
    "start_time": "2022-04-09T15:57:55.369Z"
   },
   {
    "duration": 309,
    "start_time": "2022-04-09T16:01:14.093Z"
   },
   {
    "duration": 474,
    "start_time": "2022-04-09T16:01:45.955Z"
   },
   {
    "duration": 317,
    "start_time": "2022-04-09T16:02:13.863Z"
   },
   {
    "duration": 311,
    "start_time": "2022-04-09T16:32:25.898Z"
   },
   {
    "duration": 317,
    "start_time": "2022-04-09T16:33:04.881Z"
   },
   {
    "duration": 305,
    "start_time": "2022-04-09T16:33:27.063Z"
   },
   {
    "duration": 444,
    "start_time": "2022-04-09T16:35:43.502Z"
   },
   {
    "duration": 326,
    "start_time": "2022-04-09T16:37:33.464Z"
   },
   {
    "duration": 314,
    "start_time": "2022-04-09T16:37:51.609Z"
   },
   {
    "duration": 309,
    "start_time": "2022-04-09T16:38:07.604Z"
   },
   {
    "duration": 317,
    "start_time": "2022-04-09T16:38:14.823Z"
   },
   {
    "duration": 291,
    "start_time": "2022-04-09T16:56:22.588Z"
   },
   {
    "duration": 415,
    "start_time": "2022-04-09T16:56:59.250Z"
   },
   {
    "duration": 296,
    "start_time": "2022-04-09T16:57:07.924Z"
   },
   {
    "duration": 314,
    "start_time": "2022-04-09T16:57:35.971Z"
   },
   {
    "duration": 318,
    "start_time": "2022-04-09T16:57:48.774Z"
   },
   {
    "duration": 282,
    "start_time": "2022-04-09T16:58:01.718Z"
   },
   {
    "duration": 419,
    "start_time": "2022-04-09T17:03:27.965Z"
   },
   {
    "duration": 298,
    "start_time": "2022-04-09T17:10:10.737Z"
   },
   {
    "duration": 299,
    "start_time": "2022-04-09T17:10:56.550Z"
   },
   {
    "duration": 3,
    "start_time": "2022-04-09T17:13:55.970Z"
   },
   {
    "duration": 236,
    "start_time": "2022-04-09T17:13:55.975Z"
   },
   {
    "duration": 553,
    "start_time": "2022-04-09T17:13:56.213Z"
   },
   {
    "duration": 150,
    "start_time": "2022-04-09T17:13:56.767Z"
   },
   {
    "duration": 35,
    "start_time": "2022-04-09T17:13:56.919Z"
   },
   {
    "duration": 53,
    "start_time": "2022-04-09T17:13:56.956Z"
   },
   {
    "duration": 79,
    "start_time": "2022-04-09T17:13:57.011Z"
   },
   {
    "duration": 49,
    "start_time": "2022-04-09T17:13:57.092Z"
   },
   {
    "duration": 14,
    "start_time": "2022-04-09T17:13:57.143Z"
   },
   {
    "duration": 32,
    "start_time": "2022-04-09T17:13:57.159Z"
   },
   {
    "duration": 8,
    "start_time": "2022-04-09T17:13:57.196Z"
   },
   {
    "duration": 715,
    "start_time": "2022-04-09T17:13:57.206Z"
   },
   {
    "duration": 27,
    "start_time": "2022-04-09T17:13:57.923Z"
   },
   {
    "duration": 5,
    "start_time": "2022-04-09T17:13:57.952Z"
   },
   {
    "duration": 50,
    "start_time": "2022-04-09T17:13:57.986Z"
   },
   {
    "duration": 490,
    "start_time": "2022-04-09T17:13:58.038Z"
   },
   {
    "duration": 21,
    "start_time": "2022-04-09T17:13:58.530Z"
   },
   {
    "duration": 34,
    "start_time": "2022-04-09T17:13:58.553Z"
   },
   {
    "duration": 29,
    "start_time": "2022-04-09T17:13:58.589Z"
   },
   {
    "duration": 521,
    "start_time": "2022-04-09T17:13:58.620Z"
   },
   {
    "duration": 23,
    "start_time": "2022-04-09T17:13:59.143Z"
   },
   {
    "duration": 5,
    "start_time": "2022-04-09T17:13:59.178Z"
   },
   {
    "duration": 34,
    "start_time": "2022-04-09T17:13:59.185Z"
   },
   {
    "duration": 27,
    "start_time": "2022-04-09T17:14:05.429Z"
   },
   {
    "duration": 6,
    "start_time": "2022-04-09T17:14:08.292Z"
   },
   {
    "duration": 11,
    "start_time": "2022-04-09T17:14:13.029Z"
   },
   {
    "duration": 9,
    "start_time": "2022-04-09T17:14:15.446Z"
   },
   {
    "duration": 17,
    "start_time": "2022-04-09T17:14:20.015Z"
   },
   {
    "duration": 10,
    "start_time": "2022-04-09T17:14:22.624Z"
   },
   {
    "duration": 8219,
    "start_time": "2022-04-09T17:14:25.223Z"
   },
   {
    "duration": 19,
    "start_time": "2022-04-09T17:14:37.847Z"
   },
   {
    "duration": 330,
    "start_time": "2022-04-09T17:14:48.990Z"
   },
   {
    "duration": 275,
    "start_time": "2022-04-09T17:14:54.298Z"
   },
   {
    "duration": 428,
    "start_time": "2022-04-09T17:42:43.368Z"
   },
   {
    "duration": 267,
    "start_time": "2022-04-09T17:42:59.092Z"
   },
   {
    "duration": 298,
    "start_time": "2022-04-09T17:43:07.044Z"
   },
   {
    "duration": 3,
    "start_time": "2022-04-09T17:55:15.357Z"
   },
   {
    "duration": 404,
    "start_time": "2022-04-09T17:59:07.169Z"
   },
   {
    "duration": 5,
    "start_time": "2022-04-09T18:00:45.992Z"
   },
   {
    "duration": 6,
    "start_time": "2022-04-09T18:01:04.509Z"
   },
   {
    "duration": 4,
    "start_time": "2022-04-09T18:02:03.052Z"
   },
   {
    "duration": 6,
    "start_time": "2022-04-09T18:09:03.509Z"
   },
   {
    "duration": 328,
    "start_time": "2022-04-09T18:29:10.919Z"
   },
   {
    "duration": 294,
    "start_time": "2022-04-09T18:32:14.800Z"
   },
   {
    "duration": 13,
    "start_time": "2022-04-09T18:32:43.391Z"
   },
   {
    "duration": 487,
    "start_time": "2022-04-09T18:36:49.903Z"
   },
   {
    "duration": 4,
    "start_time": "2022-04-09T18:45:40.954Z"
   },
   {
    "duration": 5,
    "start_time": "2022-04-09T18:49:20.857Z"
   },
   {
    "duration": 8,
    "start_time": "2022-04-09T18:59:03.633Z"
   },
   {
    "duration": 9,
    "start_time": "2022-04-09T18:59:20.415Z"
   },
   {
    "duration": 8,
    "start_time": "2022-04-09T18:59:57.263Z"
   },
   {
    "duration": 6,
    "start_time": "2022-04-09T19:01:04.401Z"
   },
   {
    "duration": 8,
    "start_time": "2022-04-09T19:02:54.787Z"
   },
   {
    "duration": 108,
    "start_time": "2022-04-09T19:11:59.269Z"
   },
   {
    "duration": 4,
    "start_time": "2022-04-09T19:12:17.098Z"
   },
   {
    "duration": 3,
    "start_time": "2022-04-09T20:14:46.477Z"
   },
   {
    "duration": 213,
    "start_time": "2022-04-09T20:14:46.484Z"
   },
   {
    "duration": 143,
    "start_time": "2022-04-09T20:14:46.699Z"
   },
   {
    "duration": 107,
    "start_time": "2022-04-09T20:14:46.843Z"
   },
   {
    "duration": 30,
    "start_time": "2022-04-09T20:14:46.953Z"
   },
   {
    "duration": 28,
    "start_time": "2022-04-09T20:14:46.985Z"
   },
   {
    "duration": 84,
    "start_time": "2022-04-09T20:14:47.015Z"
   },
   {
    "duration": 49,
    "start_time": "2022-04-09T20:14:47.100Z"
   },
   {
    "duration": 28,
    "start_time": "2022-04-09T20:14:47.151Z"
   },
   {
    "duration": 10,
    "start_time": "2022-04-09T20:14:47.181Z"
   },
   {
    "duration": 8,
    "start_time": "2022-04-09T20:14:47.195Z"
   },
   {
    "duration": 753,
    "start_time": "2022-04-09T20:14:47.206Z"
   },
   {
    "duration": 37,
    "start_time": "2022-04-09T20:14:47.962Z"
   },
   {
    "duration": 6,
    "start_time": "2022-04-09T20:14:48.001Z"
   },
   {
    "duration": 71,
    "start_time": "2022-04-09T20:14:48.008Z"
   },
   {
    "duration": 498,
    "start_time": "2022-04-09T20:14:48.082Z"
   },
   {
    "duration": 20,
    "start_time": "2022-04-09T20:14:48.583Z"
   },
   {
    "duration": 6,
    "start_time": "2022-04-09T20:14:48.605Z"
   },
   {
    "duration": 31,
    "start_time": "2022-04-09T20:14:48.613Z"
   },
   {
    "duration": 533,
    "start_time": "2022-04-09T20:14:48.679Z"
   },
   {
    "duration": 24,
    "start_time": "2022-04-09T20:14:49.214Z"
   },
   {
    "duration": 5,
    "start_time": "2022-04-09T20:14:49.241Z"
   },
   {
    "duration": 49,
    "start_time": "2022-04-09T20:14:49.248Z"
   },
   {
    "duration": 33,
    "start_time": "2022-04-09T20:14:49.299Z"
   },
   {
    "duration": 8,
    "start_time": "2022-04-09T20:14:49.333Z"
   },
   {
    "duration": 36,
    "start_time": "2022-04-09T20:14:49.343Z"
   },
   {
    "duration": 11,
    "start_time": "2022-04-09T20:14:49.381Z"
   },
   {
    "duration": 20,
    "start_time": "2022-04-09T20:14:49.394Z"
   },
   {
    "duration": 8,
    "start_time": "2022-04-09T20:14:49.418Z"
   },
   {
    "duration": 6474,
    "start_time": "2022-04-09T20:14:49.428Z"
   },
   {
    "duration": 17,
    "start_time": "2022-04-09T20:14:55.904Z"
   },
   {
    "duration": 339,
    "start_time": "2022-04-09T20:14:55.923Z"
   },
   {
    "duration": 283,
    "start_time": "2022-04-09T20:14:56.263Z"
   },
   {
    "duration": 438,
    "start_time": "2022-04-09T20:14:56.548Z"
   },
   {
    "duration": 4,
    "start_time": "2022-04-09T20:14:56.987Z"
   },
   {
    "duration": 10,
    "start_time": "2022-04-09T20:14:56.993Z"
   },
   {
    "duration": 8,
    "start_time": "2022-04-09T20:14:57.004Z"
   },
   {
    "duration": 6,
    "start_time": "2022-04-09T20:14:57.014Z"
   },
   {
    "duration": 4,
    "start_time": "2022-04-09T20:21:02.940Z"
   },
   {
    "duration": 183,
    "start_time": "2022-04-09T20:21:02.947Z"
   },
   {
    "duration": 164,
    "start_time": "2022-04-09T20:21:03.132Z"
   },
   {
    "duration": 115,
    "start_time": "2022-04-09T20:21:03.298Z"
   },
   {
    "duration": 22,
    "start_time": "2022-04-09T20:21:03.415Z"
   },
   {
    "duration": 29,
    "start_time": "2022-04-09T20:21:03.439Z"
   },
   {
    "duration": 126,
    "start_time": "2022-04-09T20:21:03.480Z"
   },
   {
    "duration": 74,
    "start_time": "2022-04-09T20:21:03.609Z"
   },
   {
    "duration": 16,
    "start_time": "2022-04-09T20:21:03.684Z"
   },
   {
    "duration": 34,
    "start_time": "2022-04-09T20:21:09.030Z"
   },
   {
    "duration": 14,
    "start_time": "2022-04-09T20:21:31.153Z"
   },
   {
    "duration": 3,
    "start_time": "2022-04-09T20:23:24.169Z"
   },
   {
    "duration": 179,
    "start_time": "2022-04-09T20:23:24.174Z"
   },
   {
    "duration": 146,
    "start_time": "2022-04-09T20:23:24.355Z"
   },
   {
    "duration": 112,
    "start_time": "2022-04-09T20:23:24.503Z"
   },
   {
    "duration": 21,
    "start_time": "2022-04-09T20:23:24.617Z"
   },
   {
    "duration": 28,
    "start_time": "2022-04-09T20:23:24.640Z"
   },
   {
    "duration": 73,
    "start_time": "2022-04-09T20:23:24.678Z"
   },
   {
    "duration": 60,
    "start_time": "2022-04-09T20:23:24.753Z"
   },
   {
    "duration": 14,
    "start_time": "2022-04-09T20:23:24.815Z"
   },
   {
    "duration": 13,
    "start_time": "2022-04-09T20:23:24.830Z"
   },
   {
    "duration": 9,
    "start_time": "2022-04-09T20:23:24.846Z"
   },
   {
    "duration": 732,
    "start_time": "2022-04-09T20:23:24.879Z"
   },
   {
    "duration": 28,
    "start_time": "2022-04-09T20:23:25.612Z"
   },
   {
    "duration": 78,
    "start_time": "2022-04-09T20:23:25.642Z"
   },
   {
    "duration": 410,
    "start_time": "2022-04-09T20:23:25.722Z"
   },
   {
    "duration": 20,
    "start_time": "2022-04-09T20:23:26.134Z"
   },
   {
    "duration": 44,
    "start_time": "2022-04-09T20:23:26.156Z"
   },
   {
    "duration": 684,
    "start_time": "2022-04-09T20:23:26.202Z"
   },
   {
    "duration": 24,
    "start_time": "2022-04-09T20:23:26.888Z"
   },
   {
    "duration": 28,
    "start_time": "2022-04-09T20:23:26.913Z"
   },
   {
    "duration": 54,
    "start_time": "2022-04-09T20:23:26.943Z"
   },
   {
    "duration": 7,
    "start_time": "2022-04-09T20:23:26.999Z"
   },
   {
    "duration": 12,
    "start_time": "2022-04-09T20:23:27.007Z"
   },
   {
    "duration": 9,
    "start_time": "2022-04-09T20:23:27.021Z"
   },
   {
    "duration": 47,
    "start_time": "2022-04-09T20:23:27.032Z"
   },
   {
    "duration": 6,
    "start_time": "2022-04-09T20:23:27.081Z"
   },
   {
    "duration": 6522,
    "start_time": "2022-04-09T20:23:27.089Z"
   },
   {
    "duration": 21,
    "start_time": "2022-04-09T20:23:33.612Z"
   },
   {
    "duration": 358,
    "start_time": "2022-04-09T20:23:33.638Z"
   },
   {
    "duration": 302,
    "start_time": "2022-04-09T20:23:33.998Z"
   },
   {
    "duration": 305,
    "start_time": "2022-04-09T20:23:34.302Z"
   },
   {
    "duration": 5,
    "start_time": "2022-04-09T20:23:34.609Z"
   },
   {
    "duration": 9,
    "start_time": "2022-04-09T20:23:34.615Z"
   },
   {
    "duration": 11,
    "start_time": "2022-04-09T20:23:34.626Z"
   },
   {
    "duration": 6,
    "start_time": "2022-04-09T20:23:34.639Z"
   },
   {
    "duration": 1051,
    "start_time": "2022-04-19T20:36:17.846Z"
   },
   {
    "duration": 161,
    "start_time": "2022-04-19T20:36:18.899Z"
   },
   {
    "duration": 131,
    "start_time": "2022-04-19T20:36:19.062Z"
   },
   {
    "duration": 96,
    "start_time": "2022-04-19T20:36:19.195Z"
   },
   {
    "duration": 21,
    "start_time": "2022-04-19T20:36:19.292Z"
   },
   {
    "duration": 30,
    "start_time": "2022-04-19T20:36:19.324Z"
   },
   {
    "duration": 72,
    "start_time": "2022-04-19T20:36:19.356Z"
   },
   {
    "duration": 41,
    "start_time": "2022-04-19T20:36:19.430Z"
   },
   {
    "duration": 13,
    "start_time": "2022-04-19T20:36:19.473Z"
   },
   {
    "duration": 12,
    "start_time": "2022-04-19T20:36:19.489Z"
   },
   {
    "duration": 27,
    "start_time": "2022-04-19T20:36:19.503Z"
   },
   {
    "duration": 591,
    "start_time": "2022-04-19T20:36:19.532Z"
   },
   {
    "duration": 28,
    "start_time": "2022-04-19T20:36:20.125Z"
   },
   {
    "duration": 75,
    "start_time": "2022-04-19T20:36:20.155Z"
   },
   {
    "duration": 272,
    "start_time": "2022-04-19T20:36:20.232Z"
   },
   {
    "duration": 28,
    "start_time": "2022-04-19T20:36:20.506Z"
   },
   {
    "duration": 28,
    "start_time": "2022-04-19T20:36:20.536Z"
   },
   {
    "duration": 408,
    "start_time": "2022-04-19T20:36:20.566Z"
   },
   {
    "duration": 21,
    "start_time": "2022-04-19T20:36:20.976Z"
   },
   {
    "duration": 51,
    "start_time": "2022-04-19T20:36:20.999Z"
   },
   {
    "duration": 33,
    "start_time": "2022-04-19T20:36:21.052Z"
   },
   {
    "duration": 6,
    "start_time": "2022-04-19T20:36:21.087Z"
   },
   {
    "duration": 11,
    "start_time": "2022-04-19T20:36:21.095Z"
   },
   {
    "duration": 9,
    "start_time": "2022-04-19T20:36:21.123Z"
   },
   {
    "duration": 14,
    "start_time": "2022-04-19T20:36:21.134Z"
   },
   {
    "duration": 6,
    "start_time": "2022-04-19T20:36:21.149Z"
   },
   {
    "duration": 6106,
    "start_time": "2022-04-19T20:36:21.156Z"
   },
   {
    "duration": 17,
    "start_time": "2022-04-19T20:36:27.265Z"
   },
   {
    "duration": 321,
    "start_time": "2022-04-19T20:36:27.284Z"
   },
   {
    "duration": 267,
    "start_time": "2022-04-19T20:36:27.606Z"
   },
   {
    "duration": 287,
    "start_time": "2022-04-19T20:36:27.875Z"
   },
   {
    "duration": 4,
    "start_time": "2022-04-19T20:36:28.163Z"
   },
   {
    "duration": 12,
    "start_time": "2022-04-19T20:36:28.168Z"
   },
   {
    "duration": 6,
    "start_time": "2022-04-19T20:36:28.181Z"
   },
   {
    "duration": 5,
    "start_time": "2022-04-19T20:36:28.188Z"
   },
   {
    "duration": 4,
    "start_time": "2022-04-19T20:37:00.782Z"
   },
   {
    "duration": 124,
    "start_time": "2022-04-19T20:41:50.876Z"
   },
   {
    "duration": 6,
    "start_time": "2022-04-19T20:58:08.238Z"
   },
   {
    "duration": 130,
    "start_time": "2022-04-19T21:03:39.726Z"
   },
   {
    "duration": 17,
    "start_time": "2022-04-19T21:08:18.826Z"
   },
   {
    "duration": 148,
    "start_time": "2022-04-19T21:12:36.483Z"
   },
   {
    "duration": 5,
    "start_time": "2022-04-19T21:13:53.454Z"
   },
   {
    "duration": 12,
    "start_time": "2022-04-19T21:14:29.852Z"
   },
   {
    "duration": 1162,
    "start_time": "2022-04-19T21:14:37.438Z"
   },
   {
    "duration": 169,
    "start_time": "2022-04-19T21:14:38.603Z"
   },
   {
    "duration": 150,
    "start_time": "2022-04-19T21:14:38.773Z"
   },
   {
    "duration": 97,
    "start_time": "2022-04-19T21:14:38.926Z"
   },
   {
    "duration": 26,
    "start_time": "2022-04-19T21:14:39.026Z"
   },
   {
    "duration": 27,
    "start_time": "2022-04-19T21:14:39.054Z"
   },
   {
    "duration": 72,
    "start_time": "2022-04-19T21:14:39.083Z"
   },
   {
    "duration": 40,
    "start_time": "2022-04-19T21:14:39.157Z"
   },
   {
    "duration": 27,
    "start_time": "2022-04-19T21:14:39.199Z"
   },
   {
    "duration": 10,
    "start_time": "2022-04-19T21:14:39.228Z"
   },
   {
    "duration": 9,
    "start_time": "2022-04-19T21:14:39.239Z"
   },
   {
    "duration": 491,
    "start_time": "2022-04-19T21:14:39.250Z"
   },
   {
    "duration": 25,
    "start_time": "2022-04-19T21:14:39.743Z"
   },
   {
    "duration": 73,
    "start_time": "2022-04-19T21:14:39.771Z"
   },
   {
    "duration": 292,
    "start_time": "2022-04-19T21:14:39.846Z"
   },
   {
    "duration": 18,
    "start_time": "2022-04-19T21:14:40.139Z"
   },
   {
    "duration": 29,
    "start_time": "2022-04-19T21:14:40.159Z"
   },
   {
    "duration": 481,
    "start_time": "2022-04-19T21:14:40.189Z"
   },
   {
    "duration": 22,
    "start_time": "2022-04-19T21:14:40.672Z"
   },
   {
    "duration": 39,
    "start_time": "2022-04-19T21:14:40.696Z"
   },
   {
    "duration": 28,
    "start_time": "2022-04-19T21:14:40.737Z"
   },
   {
    "duration": 7,
    "start_time": "2022-04-19T21:14:40.767Z"
   },
   {
    "duration": 17,
    "start_time": "2022-04-19T21:14:40.775Z"
   },
   {
    "duration": 10,
    "start_time": "2022-04-19T21:14:40.794Z"
   },
   {
    "duration": 14,
    "start_time": "2022-04-19T21:14:40.806Z"
   },
   {
    "duration": 5,
    "start_time": "2022-04-19T21:14:40.822Z"
   },
   {
    "duration": 6718,
    "start_time": "2022-04-19T21:14:40.829Z"
   },
   {
    "duration": 5,
    "start_time": "2022-04-19T21:14:47.549Z"
   },
   {
    "duration": 19,
    "start_time": "2022-04-19T21:14:47.555Z"
   },
   {
    "duration": 331,
    "start_time": "2022-04-19T21:14:47.576Z"
   },
   {
    "duration": 267,
    "start_time": "2022-04-19T21:14:47.908Z"
   },
   {
    "duration": 292,
    "start_time": "2022-04-19T21:14:48.177Z"
   },
   {
    "duration": 4,
    "start_time": "2022-04-19T21:14:48.470Z"
   },
   {
    "duration": 8,
    "start_time": "2022-04-19T21:14:48.476Z"
   },
   {
    "duration": 9,
    "start_time": "2022-04-19T21:14:48.485Z"
   },
   {
    "duration": 33,
    "start_time": "2022-04-19T21:14:48.496Z"
   },
   {
    "duration": 11,
    "start_time": "2022-04-19T21:15:10.300Z"
   },
   {
    "duration": 1136,
    "start_time": "2022-04-19T21:15:14.506Z"
   },
   {
    "duration": 155,
    "start_time": "2022-04-19T21:15:15.644Z"
   },
   {
    "duration": 132,
    "start_time": "2022-04-19T21:15:15.801Z"
   },
   {
    "duration": 91,
    "start_time": "2022-04-19T21:15:15.935Z"
   },
   {
    "duration": 21,
    "start_time": "2022-04-19T21:15:16.028Z"
   },
   {
    "duration": 29,
    "start_time": "2022-04-19T21:15:16.050Z"
   },
   {
    "duration": 75,
    "start_time": "2022-04-19T21:15:16.081Z"
   },
   {
    "duration": 40,
    "start_time": "2022-04-19T21:15:16.158Z"
   },
   {
    "duration": 30,
    "start_time": "2022-04-19T21:15:16.200Z"
   },
   {
    "duration": 12,
    "start_time": "2022-04-19T21:15:16.231Z"
   },
   {
    "duration": 8,
    "start_time": "2022-04-19T21:15:16.245Z"
   },
   {
    "duration": 464,
    "start_time": "2022-04-19T21:15:16.254Z"
   },
   {
    "duration": 26,
    "start_time": "2022-04-19T21:15:16.719Z"
   },
   {
    "duration": 54,
    "start_time": "2022-04-19T21:15:16.748Z"
   },
   {
    "duration": 276,
    "start_time": "2022-04-19T21:15:16.804Z"
   },
   {
    "duration": 18,
    "start_time": "2022-04-19T21:15:17.082Z"
   },
   {
    "duration": 44,
    "start_time": "2022-04-19T21:15:17.102Z"
   },
   {
    "duration": 394,
    "start_time": "2022-04-19T21:15:17.148Z"
   },
   {
    "duration": 22,
    "start_time": "2022-04-19T21:15:17.544Z"
   },
   {
    "duration": 25,
    "start_time": "2022-04-19T21:15:17.568Z"
   },
   {
    "duration": 49,
    "start_time": "2022-04-19T21:15:17.596Z"
   },
   {
    "duration": 7,
    "start_time": "2022-04-19T21:15:17.647Z"
   },
   {
    "duration": 11,
    "start_time": "2022-04-19T21:15:17.656Z"
   },
   {
    "duration": 9,
    "start_time": "2022-04-19T21:15:17.669Z"
   },
   {
    "duration": 14,
    "start_time": "2022-04-19T21:15:17.680Z"
   },
   {
    "duration": 6,
    "start_time": "2022-04-19T21:15:17.723Z"
   },
   {
    "duration": 5896,
    "start_time": "2022-04-19T21:15:17.731Z"
   },
   {
    "duration": 4,
    "start_time": "2022-04-19T21:15:23.629Z"
   },
   {
    "duration": 17,
    "start_time": "2022-04-19T21:15:23.634Z"
   },
   {
    "duration": 333,
    "start_time": "2022-04-19T21:15:23.652Z"
   },
   {
    "duration": 269,
    "start_time": "2022-04-19T21:15:23.986Z"
   },
   {
    "duration": 276,
    "start_time": "2022-04-19T21:15:24.257Z"
   },
   {
    "duration": 3,
    "start_time": "2022-04-19T21:15:24.535Z"
   },
   {
    "duration": 11,
    "start_time": "2022-04-19T21:15:24.539Z"
   },
   {
    "duration": 8,
    "start_time": "2022-04-19T21:15:24.551Z"
   },
   {
    "duration": 7,
    "start_time": "2022-04-19T21:15:24.560Z"
   },
   {
    "duration": 46,
    "start_time": "2022-04-20T07:33:16.685Z"
   },
   {
    "duration": 1220,
    "start_time": "2022-04-20T07:33:21.304Z"
   },
   {
    "duration": 182,
    "start_time": "2022-04-20T07:33:22.526Z"
   },
   {
    "duration": 155,
    "start_time": "2022-04-20T07:33:22.711Z"
   },
   {
    "duration": 106,
    "start_time": "2022-04-20T07:33:22.874Z"
   },
   {
    "duration": 23,
    "start_time": "2022-04-20T07:33:22.983Z"
   },
   {
    "duration": 34,
    "start_time": "2022-04-20T07:33:23.008Z"
   },
   {
    "duration": 103,
    "start_time": "2022-04-20T07:33:23.044Z"
   },
   {
    "duration": 60,
    "start_time": "2022-04-20T07:33:23.149Z"
   },
   {
    "duration": 17,
    "start_time": "2022-04-20T07:33:23.210Z"
   },
   {
    "duration": 17,
    "start_time": "2022-04-20T07:33:23.229Z"
   },
   {
    "duration": 32,
    "start_time": "2022-04-20T07:33:23.248Z"
   },
   {
    "duration": 524,
    "start_time": "2022-04-20T07:33:23.282Z"
   },
   {
    "duration": 28,
    "start_time": "2022-04-20T07:33:23.808Z"
   },
   {
    "duration": 77,
    "start_time": "2022-04-20T07:33:23.839Z"
   },
   {
    "duration": 305,
    "start_time": "2022-04-20T07:33:23.918Z"
   },
   {
    "duration": 20,
    "start_time": "2022-04-20T07:33:24.225Z"
   },
   {
    "duration": 46,
    "start_time": "2022-04-20T07:33:24.247Z"
   },
   {
    "duration": 448,
    "start_time": "2022-04-20T07:33:24.294Z"
   },
   {
    "duration": 33,
    "start_time": "2022-04-20T07:33:24.743Z"
   },
   {
    "duration": 29,
    "start_time": "2022-04-20T07:33:24.777Z"
   },
   {
    "duration": 28,
    "start_time": "2022-04-20T07:33:24.808Z"
   },
   {
    "duration": 7,
    "start_time": "2022-04-20T07:33:24.837Z"
   },
   {
    "duration": 12,
    "start_time": "2022-04-20T07:33:24.874Z"
   },
   {
    "duration": 15,
    "start_time": "2022-04-20T07:33:24.888Z"
   },
   {
    "duration": 18,
    "start_time": "2022-04-20T07:33:24.905Z"
   },
   {
    "duration": 6,
    "start_time": "2022-04-20T07:33:24.924Z"
   },
   {
    "duration": 6158,
    "start_time": "2022-04-20T07:33:24.932Z"
   },
   {
    "duration": 5,
    "start_time": "2022-04-20T07:33:31.092Z"
   },
   {
    "duration": 28,
    "start_time": "2022-04-20T07:33:31.099Z"
   },
   {
    "duration": 371,
    "start_time": "2022-04-20T07:33:31.129Z"
   },
   {
    "duration": 311,
    "start_time": "2022-04-20T07:33:31.502Z"
   },
   {
    "duration": 321,
    "start_time": "2022-04-20T07:33:31.815Z"
   },
   {
    "duration": 3,
    "start_time": "2022-04-20T07:33:32.138Z"
   },
   {
    "duration": 52,
    "start_time": "2022-04-20T07:33:32.142Z"
   },
   {
    "duration": 15,
    "start_time": "2022-04-20T07:33:32.196Z"
   },
   {
    "duration": 16,
    "start_time": "2022-04-20T07:33:32.213Z"
   },
   {
    "duration": 4,
    "start_time": "2022-04-20T07:33:56.874Z"
   },
   {
    "duration": 5,
    "start_time": "2022-04-20T07:34:19.688Z"
   },
   {
    "duration": 4,
    "start_time": "2022-04-20T07:34:27.277Z"
   },
   {
    "duration": 4,
    "start_time": "2022-04-20T07:34:35.149Z"
   },
   {
    "duration": 100,
    "start_time": "2022-04-20T07:38:32.968Z"
   },
   {
    "duration": 102,
    "start_time": "2022-04-20T07:38:47.087Z"
   },
   {
    "duration": 15,
    "start_time": "2022-04-20T07:38:55.223Z"
   },
   {
    "duration": 13,
    "start_time": "2022-04-20T07:39:10.115Z"
   },
   {
    "duration": 13,
    "start_time": "2022-04-20T07:39:54.278Z"
   },
   {
    "duration": 8,
    "start_time": "2022-04-20T07:40:52.668Z"
   },
   {
    "duration": 7,
    "start_time": "2022-04-20T07:46:40.495Z"
   },
   {
    "duration": 5,
    "start_time": "2022-04-20T07:47:14.439Z"
   },
   {
    "duration": 18,
    "start_time": "2022-04-20T07:47:33.389Z"
   },
   {
    "duration": 6,
    "start_time": "2022-04-20T07:48:15.929Z"
   },
   {
    "duration": 16,
    "start_time": "2022-04-20T07:48:18.131Z"
   },
   {
    "duration": 5,
    "start_time": "2022-04-20T07:48:45.952Z"
   },
   {
    "duration": 182,
    "start_time": "2022-04-20T07:48:47.875Z"
   },
   {
    "duration": 186,
    "start_time": "2022-04-20T07:48:52.737Z"
   },
   {
    "duration": 193,
    "start_time": "2022-04-20T07:49:13.107Z"
   },
   {
    "duration": 5,
    "start_time": "2022-04-20T07:51:25.928Z"
   },
   {
    "duration": 185,
    "start_time": "2022-04-20T07:51:26.545Z"
   },
   {
    "duration": 110,
    "start_time": "2022-04-20T07:52:23.491Z"
   },
   {
    "duration": 103,
    "start_time": "2022-04-20T07:52:49.041Z"
   },
   {
    "duration": 4,
    "start_time": "2022-04-20T07:53:16.961Z"
   },
   {
    "duration": 219,
    "start_time": "2022-04-20T07:53:18.912Z"
   },
   {
    "duration": 5,
    "start_time": "2022-04-20T07:53:38.336Z"
   },
   {
    "duration": 20,
    "start_time": "2022-04-20T07:54:24.381Z"
   },
   {
    "duration": 1192,
    "start_time": "2022-04-20T07:54:48.642Z"
   },
   {
    "duration": 186,
    "start_time": "2022-04-20T07:54:49.836Z"
   },
   {
    "duration": 164,
    "start_time": "2022-04-20T07:54:50.024Z"
   },
   {
    "duration": 113,
    "start_time": "2022-04-20T07:54:50.189Z"
   },
   {
    "duration": 22,
    "start_time": "2022-04-20T07:54:50.305Z"
   },
   {
    "duration": 31,
    "start_time": "2022-04-20T07:54:50.329Z"
   },
   {
    "duration": 126,
    "start_time": "2022-04-20T07:54:50.362Z"
   },
   {
    "duration": 56,
    "start_time": "2022-04-20T07:54:50.490Z"
   },
   {
    "duration": 35,
    "start_time": "2022-04-20T07:54:50.549Z"
   },
   {
    "duration": 26,
    "start_time": "2022-04-20T07:54:50.586Z"
   },
   {
    "duration": 9,
    "start_time": "2022-04-20T07:54:50.613Z"
   },
   {
    "duration": 556,
    "start_time": "2022-04-20T07:54:50.624Z"
   },
   {
    "duration": 29,
    "start_time": "2022-04-20T07:54:51.182Z"
   },
   {
    "duration": 76,
    "start_time": "2022-04-20T07:54:51.214Z"
   },
   {
    "duration": 310,
    "start_time": "2022-04-20T07:54:51.292Z"
   },
   {
    "duration": 21,
    "start_time": "2022-04-20T07:54:51.603Z"
   },
   {
    "duration": 48,
    "start_time": "2022-04-20T07:54:51.626Z"
   },
   {
    "duration": 480,
    "start_time": "2022-04-20T07:54:51.676Z"
   },
   {
    "duration": 27,
    "start_time": "2022-04-20T07:54:52.158Z"
   },
   {
    "duration": 28,
    "start_time": "2022-04-20T07:54:52.187Z"
   },
   {
    "duration": 27,
    "start_time": "2022-04-20T07:54:52.217Z"
   },
   {
    "duration": 32,
    "start_time": "2022-04-20T07:54:52.245Z"
   },
   {
    "duration": 20,
    "start_time": "2022-04-20T07:54:52.279Z"
   },
   {
    "duration": 15,
    "start_time": "2022-04-20T07:54:52.301Z"
   },
   {
    "duration": 21,
    "start_time": "2022-04-20T07:54:52.318Z"
   },
   {
    "duration": 12,
    "start_time": "2022-04-20T07:54:52.341Z"
   },
   {
    "duration": 19,
    "start_time": "2022-04-20T07:54:52.355Z"
   },
   {
    "duration": 10,
    "start_time": "2022-04-20T07:54:52.376Z"
   },
   {
    "duration": 5,
    "start_time": "2022-04-20T07:54:52.387Z"
   },
   {
    "duration": 202,
    "start_time": "2022-04-20T07:54:52.393Z"
   },
   {
    "duration": 6120,
    "start_time": "2022-04-20T07:54:52.597Z"
   },
   {
    "duration": 19,
    "start_time": "2022-04-20T07:54:58.719Z"
   },
   {
    "duration": 42,
    "start_time": "2022-04-20T07:54:58.740Z"
   },
   {
    "duration": 371,
    "start_time": "2022-04-20T07:54:58.784Z"
   },
   {
    "duration": 320,
    "start_time": "2022-04-20T07:54:59.157Z"
   },
   {
    "duration": 326,
    "start_time": "2022-04-20T07:54:59.478Z"
   },
   {
    "duration": 4,
    "start_time": "2022-04-20T07:54:59.805Z"
   },
   {
    "duration": 26,
    "start_time": "2022-04-20T07:54:59.810Z"
   },
   {
    "duration": 29,
    "start_time": "2022-04-20T07:54:59.838Z"
   },
   {
    "duration": 12,
    "start_time": "2022-04-20T07:54:59.869Z"
   },
   {
    "duration": 23,
    "start_time": "2022-04-20T08:01:16.000Z"
   },
   {
    "duration": 100,
    "start_time": "2022-04-20T08:02:00.876Z"
   },
   {
    "duration": 14,
    "start_time": "2022-04-20T08:02:11.798Z"
   },
   {
    "duration": 17,
    "start_time": "2022-04-20T08:02:24.387Z"
   },
   {
    "duration": 846,
    "start_time": "2022-04-20T08:09:42.128Z"
   },
   {
    "duration": 811,
    "start_time": "2022-04-20T08:09:54.224Z"
   },
   {
    "duration": 8,
    "start_time": "2022-04-20T08:10:36.399Z"
   },
   {
    "duration": 9,
    "start_time": "2022-04-20T08:10:44.986Z"
   },
   {
    "duration": 16,
    "start_time": "2022-04-20T08:10:56.022Z"
   },
   {
    "duration": 13,
    "start_time": "2022-04-20T08:11:15.551Z"
   },
   {
    "duration": 960,
    "start_time": "2022-04-20T09:42:27.373Z"
   },
   {
    "duration": 115,
    "start_time": "2022-04-20T09:42:56.710Z"
   },
   {
    "duration": 106,
    "start_time": "2022-04-20T09:51:18.436Z"
   },
   {
    "duration": 115,
    "start_time": "2022-04-20T09:52:11.798Z"
   },
   {
    "duration": 102,
    "start_time": "2022-04-20T09:54:53.805Z"
   },
   {
    "duration": 1110,
    "start_time": "2022-04-20T09:55:27.818Z"
   },
   {
    "duration": 178,
    "start_time": "2022-04-20T09:55:28.930Z"
   },
   {
    "duration": 163,
    "start_time": "2022-04-20T09:55:29.110Z"
   },
   {
    "duration": 102,
    "start_time": "2022-04-20T09:55:29.275Z"
   },
   {
    "duration": 22,
    "start_time": "2022-04-20T09:55:29.379Z"
   },
   {
    "duration": 33,
    "start_time": "2022-04-20T09:55:29.403Z"
   },
   {
    "duration": 85,
    "start_time": "2022-04-20T09:55:29.438Z"
   },
   {
    "duration": 57,
    "start_time": "2022-04-20T09:55:29.524Z"
   },
   {
    "duration": 18,
    "start_time": "2022-04-20T09:55:29.583Z"
   },
   {
    "duration": 12,
    "start_time": "2022-04-20T09:55:29.602Z"
   },
   {
    "duration": 8,
    "start_time": "2022-04-20T09:55:29.615Z"
   },
   {
    "duration": 548,
    "start_time": "2022-04-20T09:55:29.625Z"
   },
   {
    "duration": 29,
    "start_time": "2022-04-20T09:55:30.174Z"
   },
   {
    "duration": 83,
    "start_time": "2022-04-20T09:55:30.206Z"
   },
   {
    "duration": 304,
    "start_time": "2022-04-20T09:55:30.291Z"
   },
   {
    "duration": 20,
    "start_time": "2022-04-20T09:55:30.597Z"
   },
   {
    "duration": 33,
    "start_time": "2022-04-20T09:55:30.618Z"
   },
   {
    "duration": 479,
    "start_time": "2022-04-20T09:55:30.652Z"
   },
   {
    "duration": 23,
    "start_time": "2022-04-20T09:55:31.133Z"
   },
   {
    "duration": 45,
    "start_time": "2022-04-20T09:55:31.158Z"
   },
   {
    "duration": 27,
    "start_time": "2022-04-20T09:55:31.205Z"
   },
   {
    "duration": 7,
    "start_time": "2022-04-20T09:55:31.233Z"
   },
   {
    "duration": 36,
    "start_time": "2022-04-20T09:55:31.242Z"
   },
   {
    "duration": 12,
    "start_time": "2022-04-20T09:55:31.280Z"
   },
   {
    "duration": 15,
    "start_time": "2022-04-20T09:55:31.294Z"
   },
   {
    "duration": 5,
    "start_time": "2022-04-20T09:55:31.311Z"
   },
   {
    "duration": 6132,
    "start_time": "2022-04-20T09:55:31.318Z"
   },
   {
    "duration": 11,
    "start_time": "2022-04-20T09:55:37.452Z"
   },
   {
    "duration": 19,
    "start_time": "2022-04-20T09:55:37.474Z"
   },
   {
    "duration": 381,
    "start_time": "2022-04-20T09:55:37.495Z"
   },
   {
    "duration": 305,
    "start_time": "2022-04-20T09:55:37.878Z"
   },
   {
    "duration": 316,
    "start_time": "2022-04-20T09:55:38.185Z"
   },
   {
    "duration": 3,
    "start_time": "2022-04-20T09:55:38.503Z"
   },
   {
    "duration": 11,
    "start_time": "2022-04-20T09:55:38.507Z"
   },
   {
    "duration": 8,
    "start_time": "2022-04-20T09:55:38.519Z"
   },
   {
    "duration": 8,
    "start_time": "2022-04-20T09:55:38.528Z"
   },
   {
    "duration": 1392,
    "start_time": "2022-04-20T09:56:06.546Z"
   },
   {
    "duration": 205,
    "start_time": "2022-04-20T09:56:07.941Z"
   },
   {
    "duration": 171,
    "start_time": "2022-04-20T09:56:08.148Z"
   },
   {
    "duration": 122,
    "start_time": "2022-04-20T09:56:08.321Z"
   },
   {
    "duration": 17,
    "start_time": "2022-04-20T09:56:08.445Z"
   },
   {
    "duration": 42,
    "start_time": "2022-04-20T09:56:08.463Z"
   },
   {
    "duration": 88,
    "start_time": "2022-04-20T09:56:08.506Z"
   },
   {
    "duration": 53,
    "start_time": "2022-04-20T09:56:08.596Z"
   },
   {
    "duration": 29,
    "start_time": "2022-04-20T09:56:08.651Z"
   },
   {
    "duration": 19,
    "start_time": "2022-04-20T09:56:08.683Z"
   },
   {
    "duration": 8,
    "start_time": "2022-04-20T09:56:08.703Z"
   },
   {
    "duration": 577,
    "start_time": "2022-04-20T09:56:08.713Z"
   },
   {
    "duration": 29,
    "start_time": "2022-04-20T09:56:09.292Z"
   },
   {
    "duration": 81,
    "start_time": "2022-04-20T09:56:09.322Z"
   },
   {
    "duration": 315,
    "start_time": "2022-04-20T09:56:09.405Z"
   },
   {
    "duration": 20,
    "start_time": "2022-04-20T09:56:09.722Z"
   },
   {
    "duration": 44,
    "start_time": "2022-04-20T09:56:09.744Z"
   },
   {
    "duration": 485,
    "start_time": "2022-04-20T09:56:09.790Z"
   },
   {
    "duration": 23,
    "start_time": "2022-04-20T09:56:10.277Z"
   },
   {
    "duration": 30,
    "start_time": "2022-04-20T09:56:10.302Z"
   },
   {
    "duration": 48,
    "start_time": "2022-04-20T09:56:10.333Z"
   },
   {
    "duration": 7,
    "start_time": "2022-04-20T09:56:10.383Z"
   },
   {
    "duration": 16,
    "start_time": "2022-04-20T09:56:10.391Z"
   },
   {
    "duration": 15,
    "start_time": "2022-04-20T09:56:10.409Z"
   },
   {
    "duration": 16,
    "start_time": "2022-04-20T09:56:10.426Z"
   },
   {
    "duration": 29,
    "start_time": "2022-04-20T09:56:10.444Z"
   },
   {
    "duration": 6040,
    "start_time": "2022-04-20T09:56:10.475Z"
   },
   {
    "duration": 12,
    "start_time": "2022-04-20T09:56:16.520Z"
   },
   {
    "duration": 20,
    "start_time": "2022-04-20T09:56:16.534Z"
   },
   {
    "duration": 375,
    "start_time": "2022-04-20T09:56:16.574Z"
   },
   {
    "duration": 329,
    "start_time": "2022-04-20T09:56:16.951Z"
   },
   {
    "duration": 329,
    "start_time": "2022-04-20T09:56:17.282Z"
   },
   {
    "duration": 3,
    "start_time": "2022-04-20T09:56:17.614Z"
   },
   {
    "duration": 19,
    "start_time": "2022-04-20T09:56:17.619Z"
   },
   {
    "duration": 10,
    "start_time": "2022-04-20T09:56:17.640Z"
   },
   {
    "duration": 7,
    "start_time": "2022-04-20T09:56:17.652Z"
   },
   {
    "duration": 1641,
    "start_time": "2022-04-20T10:58:07.392Z"
   },
   {
    "duration": 233,
    "start_time": "2022-04-20T10:58:09.035Z"
   },
   {
    "duration": 206,
    "start_time": "2022-04-20T10:58:09.270Z"
   },
   {
    "duration": 147,
    "start_time": "2022-04-20T10:58:09.479Z"
   },
   {
    "duration": 35,
    "start_time": "2022-04-20T10:58:09.629Z"
   },
   {
    "duration": 64,
    "start_time": "2022-04-20T10:58:09.666Z"
   },
   {
    "duration": 110,
    "start_time": "2022-04-20T10:58:09.732Z"
   },
   {
    "duration": 74,
    "start_time": "2022-04-20T10:58:09.844Z"
   },
   {
    "duration": 21,
    "start_time": "2022-04-20T10:58:09.920Z"
   },
   {
    "duration": 133,
    "start_time": "2022-04-20T10:58:24.661Z"
   },
   {
    "duration": 13,
    "start_time": "2022-04-20T11:00:03.829Z"
   },
   {
    "duration": 57757,
    "start_time": "2022-04-20T11:01:52.428Z"
   },
   {
    "duration": 16,
    "start_time": "2022-04-20T11:03:10.300Z"
   },
   {
    "duration": 82,
    "start_time": "2022-04-20T11:03:41.396Z"
   },
   {
    "duration": 5,
    "start_time": "2022-04-20T11:03:47.409Z"
   },
   {
    "duration": 254,
    "start_time": "2022-04-20T11:03:47.416Z"
   },
   {
    "duration": 199,
    "start_time": "2022-04-20T11:03:47.672Z"
   },
   {
    "duration": 141,
    "start_time": "2022-04-20T11:03:47.874Z"
   },
   {
    "duration": 36,
    "start_time": "2022-04-20T11:03:48.018Z"
   },
   {
    "duration": 53,
    "start_time": "2022-04-20T11:03:48.056Z"
   },
   {
    "duration": 120,
    "start_time": "2022-04-20T11:03:48.111Z"
   },
   {
    "duration": 79,
    "start_time": "2022-04-20T11:03:48.234Z"
   },
   {
    "duration": 20,
    "start_time": "2022-04-20T11:03:48.317Z"
   },
   {
    "duration": 81,
    "start_time": "2022-04-20T11:03:50.875Z"
   },
   {
    "duration": 4,
    "start_time": "2022-04-20T11:07:40.217Z"
   },
   {
    "duration": 220,
    "start_time": "2022-04-20T11:07:40.224Z"
   },
   {
    "duration": 193,
    "start_time": "2022-04-20T11:07:40.446Z"
   },
   {
    "duration": 141,
    "start_time": "2022-04-20T11:07:40.641Z"
   },
   {
    "duration": 42,
    "start_time": "2022-04-20T11:07:40.784Z"
   },
   {
    "duration": 59,
    "start_time": "2022-04-20T11:07:40.828Z"
   },
   {
    "duration": 112,
    "start_time": "2022-04-20T11:07:40.889Z"
   },
   {
    "duration": 70,
    "start_time": "2022-04-20T11:07:41.003Z"
   },
   {
    "duration": 20,
    "start_time": "2022-04-20T11:07:41.092Z"
   },
   {
    "duration": 102,
    "start_time": "2022-04-20T11:07:41.115Z"
   },
   {
    "duration": 14,
    "start_time": "2022-04-20T11:07:41.220Z"
   },
   {
    "duration": 637,
    "start_time": "2022-04-20T11:07:41.236Z"
   },
   {
    "duration": 45,
    "start_time": "2022-04-20T11:07:41.875Z"
   },
   {
    "duration": 92,
    "start_time": "2022-04-20T11:07:41.923Z"
   },
   {
    "duration": 376,
    "start_time": "2022-04-20T11:07:42.018Z"
   },
   {
    "duration": 27,
    "start_time": "2022-04-20T11:07:42.397Z"
   },
   {
    "duration": 41,
    "start_time": "2022-04-20T11:07:42.426Z"
   },
   {
    "duration": 517,
    "start_time": "2022-04-20T11:07:42.494Z"
   },
   {
    "duration": 32,
    "start_time": "2022-04-20T11:07:43.013Z"
   },
   {
    "duration": 64,
    "start_time": "2022-04-20T11:07:43.047Z"
   },
   {
    "duration": 42,
    "start_time": "2022-04-20T11:07:43.113Z"
   },
   {
    "duration": 9,
    "start_time": "2022-04-20T11:07:43.157Z"
   },
   {
    "duration": 39,
    "start_time": "2022-04-20T11:07:43.168Z"
   },
   {
    "duration": 16,
    "start_time": "2022-04-20T11:07:43.209Z"
   },
   {
    "duration": 34,
    "start_time": "2022-04-20T11:07:43.227Z"
   },
   {
    "duration": 14,
    "start_time": "2022-04-20T11:07:43.293Z"
   },
   {
    "duration": 13213,
    "start_time": "2022-04-20T11:07:43.310Z"
   },
   {
    "duration": 16,
    "start_time": "2022-04-20T11:09:04.546Z"
   },
   {
    "duration": 15,
    "start_time": "2022-04-20T11:09:27.474Z"
   },
   {
    "duration": 16,
    "start_time": "2022-04-20T11:09:33.410Z"
   },
   {
    "duration": 10,
    "start_time": "2022-04-20T11:14:03.441Z"
   },
   {
    "duration": 13398,
    "start_time": "2022-04-20T11:14:06.498Z"
   },
   {
    "duration": 22,
    "start_time": "2022-04-20T11:41:27.998Z"
   },
   {
    "duration": 5,
    "start_time": "2022-04-20T11:41:33.499Z"
   },
   {
    "duration": 250,
    "start_time": "2022-04-20T11:41:33.507Z"
   },
   {
    "duration": 196,
    "start_time": "2022-04-20T11:41:33.759Z"
   },
   {
    "duration": 143,
    "start_time": "2022-04-20T11:41:33.958Z"
   },
   {
    "duration": 34,
    "start_time": "2022-04-20T11:41:34.103Z"
   },
   {
    "duration": 49,
    "start_time": "2022-04-20T11:41:34.139Z"
   },
   {
    "duration": 109,
    "start_time": "2022-04-20T11:41:34.190Z"
   },
   {
    "duration": 70,
    "start_time": "2022-04-20T11:41:34.301Z"
   },
   {
    "duration": 36,
    "start_time": "2022-04-20T11:41:34.375Z"
   },
   {
    "duration": 106,
    "start_time": "2022-04-20T11:41:34.414Z"
   },
   {
    "duration": 13,
    "start_time": "2022-04-20T11:41:34.523Z"
   },
   {
    "duration": 654,
    "start_time": "2022-04-20T11:41:34.539Z"
   },
   {
    "duration": 37,
    "start_time": "2022-04-20T11:41:35.195Z"
   },
   {
    "duration": 83,
    "start_time": "2022-04-20T11:41:35.234Z"
   },
   {
    "duration": 448,
    "start_time": "2022-04-20T11:41:35.319Z"
   },
   {
    "duration": 40,
    "start_time": "2022-04-20T11:41:35.770Z"
   },
   {
    "duration": 39,
    "start_time": "2022-04-20T11:41:35.813Z"
   },
   {
    "duration": 472,
    "start_time": "2022-04-20T11:41:35.854Z"
   },
   {
    "duration": 33,
    "start_time": "2022-04-20T11:41:36.329Z"
   },
   {
    "duration": 60,
    "start_time": "2022-04-20T11:41:36.365Z"
   },
   {
    "duration": 39,
    "start_time": "2022-04-20T11:41:36.428Z"
   },
   {
    "duration": 13,
    "start_time": "2022-04-20T11:41:36.493Z"
   },
   {
    "duration": 17,
    "start_time": "2022-04-20T11:41:36.509Z"
   },
   {
    "duration": 14,
    "start_time": "2022-04-20T11:41:36.532Z"
   },
   {
    "duration": 64,
    "start_time": "2022-04-20T11:41:36.549Z"
   },
   {
    "duration": 11,
    "start_time": "2022-04-20T11:41:36.615Z"
   },
   {
    "duration": 13427,
    "start_time": "2022-04-20T11:41:36.629Z"
   },
   {
    "duration": 34,
    "start_time": "2022-04-20T11:41:50.059Z"
   },
   {
    "duration": 30,
    "start_time": "2022-04-20T11:41:50.096Z"
   },
   {
    "duration": 566,
    "start_time": "2022-04-20T11:41:57.388Z"
   },
   {
    "duration": 551,
    "start_time": "2022-04-20T11:42:13.374Z"
   },
   {
    "duration": 166,
    "start_time": "2022-04-20T11:42:21.276Z"
   },
   {
    "duration": 14,
    "start_time": "2022-04-20T11:42:41.964Z"
   },
   {
    "duration": 172,
    "start_time": "2022-04-20T11:42:58.588Z"
   },
   {
    "duration": 155,
    "start_time": "2022-04-20T11:43:09.221Z"
   },
   {
    "duration": 178,
    "start_time": "2022-04-20T11:47:51.875Z"
   },
   {
    "duration": 153,
    "start_time": "2022-04-20T11:48:48.571Z"
   },
   {
    "duration": 29,
    "start_time": "2022-04-20T11:50:02.260Z"
   },
   {
    "duration": 292,
    "start_time": "2022-04-20T11:50:53.628Z"
   },
   {
    "duration": 163,
    "start_time": "2022-04-20T11:51:41.243Z"
   },
   {
    "duration": 187,
    "start_time": "2022-04-20T11:54:09.843Z"
   },
   {
    "duration": 13,
    "start_time": "2022-04-20T11:57:10.747Z"
   },
   {
    "duration": 177,
    "start_time": "2022-04-20T11:57:16.418Z"
   },
   {
    "duration": 206,
    "start_time": "2022-04-20T12:03:23.906Z"
   },
   {
    "duration": 211,
    "start_time": "2022-04-20T12:03:42.377Z"
   },
   {
    "duration": 217,
    "start_time": "2022-04-20T12:05:16.289Z"
   },
   {
    "duration": 206,
    "start_time": "2022-04-20T12:05:20.840Z"
   },
   {
    "duration": 208,
    "start_time": "2022-04-20T12:05:25.537Z"
   },
   {
    "duration": 221,
    "start_time": "2022-04-20T12:05:37.300Z"
   },
   {
    "duration": 327,
    "start_time": "2022-04-20T12:06:11.738Z"
   },
   {
    "duration": 545,
    "start_time": "2022-04-20T12:10:23.104Z"
   },
   {
    "duration": 528,
    "start_time": "2022-04-20T12:10:31.608Z"
   },
   {
    "duration": 222,
    "start_time": "2022-04-20T12:11:06.528Z"
   },
   {
    "duration": 470,
    "start_time": "2022-04-20T12:18:54.640Z"
   },
   {
    "duration": 200,
    "start_time": "2022-04-20T12:19:04.207Z"
   },
   {
    "duration": 493,
    "start_time": "2022-04-20T12:23:39.975Z"
   },
   {
    "duration": 623,
    "start_time": "2022-04-20T12:23:56.647Z"
   },
   {
    "duration": 207,
    "start_time": "2022-04-20T12:24:47.798Z"
   },
   {
    "duration": 201,
    "start_time": "2022-04-20T12:41:42.260Z"
   },
   {
    "duration": 205,
    "start_time": "2022-04-20T12:47:35.858Z"
   },
   {
    "duration": 197,
    "start_time": "2022-04-20T12:50:40.019Z"
   },
   {
    "duration": 220,
    "start_time": "2022-04-20T12:50:55.585Z"
   },
   {
    "duration": 207,
    "start_time": "2022-04-20T12:51:33.818Z"
   },
   {
    "duration": 203,
    "start_time": "2022-04-20T12:51:44.026Z"
   },
   {
    "duration": 230,
    "start_time": "2022-04-20T12:53:37.194Z"
   },
   {
    "duration": 5,
    "start_time": "2022-04-20T13:15:16.478Z"
   },
   {
    "duration": 281,
    "start_time": "2022-04-20T13:15:16.485Z"
   },
   {
    "duration": 210,
    "start_time": "2022-04-20T13:15:16.768Z"
   },
   {
    "duration": 151,
    "start_time": "2022-04-20T13:15:16.981Z"
   },
   {
    "duration": 36,
    "start_time": "2022-04-20T13:15:17.135Z"
   },
   {
    "duration": 51,
    "start_time": "2022-04-20T13:15:17.173Z"
   },
   {
    "duration": 126,
    "start_time": "2022-04-20T13:15:17.226Z"
   },
   {
    "duration": 94,
    "start_time": "2022-04-20T13:15:17.355Z"
   },
   {
    "duration": 44,
    "start_time": "2022-04-20T13:15:17.453Z"
   },
   {
    "duration": 103,
    "start_time": "2022-04-20T13:15:17.500Z"
   },
   {
    "duration": 12,
    "start_time": "2022-04-20T13:15:17.606Z"
   },
   {
    "duration": 1237,
    "start_time": "2022-04-20T13:15:17.622Z"
   },
   {
    "duration": 62,
    "start_time": "2022-04-20T13:15:18.866Z"
   },
   {
    "duration": 77,
    "start_time": "2022-04-20T13:15:18.930Z"
   },
   {
    "duration": 446,
    "start_time": "2022-04-20T13:15:19.009Z"
   },
   {
    "duration": 44,
    "start_time": "2022-04-20T13:15:19.457Z"
   },
   {
    "duration": 42,
    "start_time": "2022-04-20T13:15:19.505Z"
   },
   {
    "duration": 598,
    "start_time": "2022-04-20T13:15:19.550Z"
   },
   {
    "duration": 45,
    "start_time": "2022-04-20T13:15:20.150Z"
   },
   {
    "duration": 49,
    "start_time": "2022-04-20T13:15:20.199Z"
   },
   {
    "duration": 76,
    "start_time": "2022-04-20T13:15:20.250Z"
   },
   {
    "duration": 9,
    "start_time": "2022-04-20T13:15:20.329Z"
   },
   {
    "duration": 27,
    "start_time": "2022-04-20T13:15:20.340Z"
   },
   {
    "duration": 32,
    "start_time": "2022-04-20T13:15:20.369Z"
   },
   {
    "duration": 27,
    "start_time": "2022-04-20T13:15:20.403Z"
   },
   {
    "duration": 14,
    "start_time": "2022-04-20T13:15:20.433Z"
   },
   {
    "duration": 14607,
    "start_time": "2022-04-20T13:15:20.450Z"
   },
   {
    "duration": 34,
    "start_time": "2022-04-20T13:15:35.060Z"
   },
   {
    "duration": 49,
    "start_time": "2022-04-20T13:15:35.098Z"
   },
   {
    "duration": 664,
    "start_time": "2022-04-20T13:15:35.150Z"
   },
   {
    "duration": 241,
    "start_time": "2022-04-20T13:15:35.816Z"
   },
   {
    "duration": 507,
    "start_time": "2022-04-20T13:15:36.059Z"
   },
   {
    "duration": 306,
    "start_time": "2022-04-20T13:15:36.569Z"
   },
   {
    "duration": 958,
    "start_time": "2022-04-20T13:15:36.878Z"
   },
   {
    "duration": 227,
    "start_time": "2022-04-20T13:15:37.838Z"
   },
   {
    "duration": 6,
    "start_time": "2022-04-20T13:15:38.067Z"
   },
   {
    "duration": 7,
    "start_time": "2022-04-20T13:15:38.095Z"
   },
   {
    "duration": 377,
    "start_time": "2022-04-20T13:15:38.106Z"
   },
   {
    "duration": 13,
    "start_time": "2022-04-20T13:15:38.494Z"
   },
   {
    "duration": 10,
    "start_time": "2022-04-20T13:15:38.510Z"
   },
   {
    "duration": 250,
    "start_time": "2022-04-20T13:15:38.523Z"
   },
   {
    "duration": 50,
    "start_time": "2022-04-21T08:07:11.654Z"
   },
   {
    "duration": 1431,
    "start_time": "2022-04-21T08:07:18.359Z"
   },
   {
    "duration": 202,
    "start_time": "2022-04-21T08:07:19.792Z"
   },
   {
    "duration": 166,
    "start_time": "2022-04-21T08:07:19.996Z"
   },
   {
    "duration": 112,
    "start_time": "2022-04-21T08:07:20.163Z"
   },
   {
    "duration": 29,
    "start_time": "2022-04-21T08:07:20.278Z"
   },
   {
    "duration": 43,
    "start_time": "2022-04-21T08:07:20.309Z"
   },
   {
    "duration": 82,
    "start_time": "2022-04-21T08:07:20.353Z"
   },
   {
    "duration": 53,
    "start_time": "2022-04-21T08:07:20.436Z"
   },
   {
    "duration": 32,
    "start_time": "2022-04-21T08:07:20.490Z"
   },
   {
    "duration": 63,
    "start_time": "2022-04-21T08:07:20.524Z"
   },
   {
    "duration": 8,
    "start_time": "2022-04-21T08:07:20.589Z"
   },
   {
    "duration": 564,
    "start_time": "2022-04-21T08:07:20.599Z"
   },
   {
    "duration": 31,
    "start_time": "2022-04-21T08:07:21.164Z"
   },
   {
    "duration": 77,
    "start_time": "2022-04-21T08:07:21.199Z"
   },
   {
    "duration": 325,
    "start_time": "2022-04-21T08:07:21.278Z"
   },
   {
    "duration": 30,
    "start_time": "2022-04-21T08:07:21.605Z"
   },
   {
    "duration": 36,
    "start_time": "2022-04-21T08:07:21.637Z"
   },
   {
    "duration": 499,
    "start_time": "2022-04-21T08:07:21.675Z"
   },
   {
    "duration": 25,
    "start_time": "2022-04-21T08:07:22.176Z"
   },
   {
    "duration": 42,
    "start_time": "2022-04-21T08:07:22.202Z"
   },
   {
    "duration": 28,
    "start_time": "2022-04-21T08:07:22.246Z"
   },
   {
    "duration": 7,
    "start_time": "2022-04-21T08:07:22.276Z"
   },
   {
    "duration": 39,
    "start_time": "2022-04-21T08:07:22.285Z"
   },
   {
    "duration": 11,
    "start_time": "2022-04-21T08:07:22.326Z"
   },
   {
    "duration": 19,
    "start_time": "2022-04-21T08:07:22.339Z"
   },
   {
    "duration": 7,
    "start_time": "2022-04-21T08:07:22.361Z"
   },
   {
    "duration": 6728,
    "start_time": "2022-04-21T08:07:22.370Z"
   },
   {
    "duration": 4,
    "start_time": "2022-04-21T08:07:29.100Z"
   },
   {
    "duration": 29,
    "start_time": "2022-04-21T08:07:29.106Z"
   },
   {
    "duration": 27,
    "start_time": "2022-04-21T08:07:29.137Z"
   },
   {
    "duration": 355,
    "start_time": "2022-04-21T08:07:29.167Z"
   },
   {
    "duration": 128,
    "start_time": "2022-04-21T08:07:29.524Z"
   },
   {
    "duration": 302,
    "start_time": "2022-04-21T08:07:29.654Z"
   },
   {
    "duration": 137,
    "start_time": "2022-04-21T08:07:29.957Z"
   },
   {
    "duration": 330,
    "start_time": "2022-04-21T08:07:30.095Z"
   },
   {
    "duration": 140,
    "start_time": "2022-04-21T08:07:30.426Z"
   },
   {
    "duration": 4,
    "start_time": "2022-04-21T08:07:30.567Z"
   },
   {
    "duration": 28,
    "start_time": "2022-04-21T08:07:30.573Z"
   },
   {
    "duration": 230,
    "start_time": "2022-04-21T08:07:30.603Z"
   },
   {
    "duration": 7,
    "start_time": "2022-04-21T08:07:30.835Z"
   },
   {
    "duration": 52,
    "start_time": "2022-04-21T08:07:30.848Z"
   },
   {
    "duration": 171,
    "start_time": "2022-04-21T08:07:30.902Z"
   },
   {
    "duration": 213,
    "start_time": "2022-04-21T08:08:40.533Z"
   },
   {
    "duration": 202,
    "start_time": "2022-04-21T08:10:52.277Z"
   }
  ],
  "kernelspec": {
   "display_name": "Python 3 (ipykernel)",
   "language": "python",
   "name": "python3"
  },
  "language_info": {
   "codemirror_mode": {
    "name": "ipython",
    "version": 3
   },
   "file_extension": ".py",
   "mimetype": "text/x-python",
   "name": "python",
   "nbconvert_exporter": "python",
   "pygments_lexer": "ipython3",
   "version": "3.9.7"
  },
  "toc": {
   "base_numbering": 1,
   "nav_menu": {},
   "number_sections": true,
   "sideBar": true,
   "skip_h1_title": true,
   "title_cell": "Table of Contents",
   "title_sidebar": "Contents",
   "toc_cell": false,
   "toc_position": {},
   "toc_section_display": true,
   "toc_window_display": true
  }
 },
 "nbformat": 4,
 "nbformat_minor": 2
}
