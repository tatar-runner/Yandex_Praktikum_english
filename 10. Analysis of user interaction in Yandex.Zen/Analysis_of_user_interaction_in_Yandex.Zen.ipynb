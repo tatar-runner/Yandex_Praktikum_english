{
 "cells": [
  {
   "cell_type": "markdown",
   "id": "20600dfb",
   "metadata": {},
   "source": [
    "# Analysis of user interaction in Yandex.Zen\n",
    "\n",
    "Users in Yandex.Zen interact with article cards. Each card is defined by its theme and source (it also has a theme). Examples of topics: \"Beauty and health\", \"Russia\", \"Travel\". The users of the system are characterized by the age category.\n",
    "\n",
    "There are three ways for users to interact with the system:\n",
    "- The card is displayed for the user (`show`);\n",
    "- The user clicked on the card (`click`);\n",
    "- The user has viewed the card article (`view`).\n",
    "\n",
    "It is necessary to create a dashboard that can answer the following questions:\n",
    "- How many user interactions with cards occur in the system, broken down by card topics?\n",
    "- How many cards do sources with different topics generate?\n",
    "- How do the themes of the cards and the themes of the sources relate?\n",
    "\n",
    "The dashboard will be based on a pipeline that will take data from a table that stores raw data, transform the data and put it in an aggregate table.\n",
    "\n",
    "**Dashboard**\n",
    "Link to dashboard: https://public.tableau.com/app/profile/artur2305/viz/ZenDashboardenglish/ZenDashboard\n",
    "\n",
    "**Presentation**\n",
    "Link to presentation: https://drive.google.com/file/d/1tg8j2_i4M5npXwUHtu49ZKyI68Uxi0QX/view?usp=sharing"
   ]
  }
 ],
 "metadata": {
  "kernelspec": {
   "display_name": "Python 3 (ipykernel)",
   "language": "python",
   "name": "python3"
  },
  "language_info": {
   "codemirror_mode": {
    "name": "ipython",
    "version": 3
   },
   "file_extension": ".py",
   "mimetype": "text/x-python",
   "name": "python",
   "nbconvert_exporter": "python",
   "pygments_lexer": "ipython3",
   "version": "3.9.7"
  },
  "toc": {
   "base_numbering": 1,
   "nav_menu": {},
   "number_sections": true,
   "sideBar": true,
   "skip_h1_title": true,
   "title_cell": "Table of Contents",
   "title_sidebar": "Contents",
   "toc_cell": false,
   "toc_position": {},
   "toc_section_display": true,
   "toc_window_display": true
  }
 },
 "nbformat": 4,
 "nbformat_minor": 5
}
