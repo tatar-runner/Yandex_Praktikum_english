{
 "cells": [
  {
   "cell_type": "markdown",
   "id": "a1fb3501",
   "metadata": {},
   "source": [
    "# Borrower reliability analysis"
   ]
  },
  {
   "cell_type": "markdown",
   "id": "70f42808",
   "metadata": {},
   "source": [
    "The customer is the credit department of the bank. It is necessary to find out whether the marital status and the number of children of the client affect the fact of repaying the loan on time. Input data from the bank - statistics on the solvency of customers.\n",
    "The results of the study will be taken into account when building a credit scoring model - a special system that assesses the ability of a potential borrower to return a loan to a bank.\n",
    "\n",
    "**The purpose of the study** is to test four hypotheses:\n",
    "1. Repayment of the loan on time depends on the number of children.\n",
    "2. Repayment of the loan on time depends on marital status.\n",
    "3. Repayment of the loan on time depends on the level of income.\n",
    "4. Different purposes of the loan affect its repayment on time.\n",
    "\n",
    "**Research Progress**\n",
    "\n",
    "The study will take place in three stages:\n",
    " 1. Data review.\n",
    " 2. Data preprocessing.\n",
    " 3. Hypothesis testing."
   ]
  },
  {
   "cell_type": "markdown",
   "id": "90bb6fec",
   "metadata": {},
   "source": [
    "## Data overview"
   ]
  },
  {
   "cell_type": "markdown",
   "id": "27b596b1",
   "metadata": {},
   "source": [
    "Display the first fifteen rows of the table:"
   ]
  },
  {
   "cell_type": "code",
   "execution_count": 37,
   "id": "a505776d",
   "metadata": {},
   "outputs": [],
   "source": [
    "import pandas as pd # pandas library import /datasets/data.csv"
   ]
  },
  {
   "cell_type": "code",
   "execution_count": 38,
   "id": "0439169b",
   "metadata": {
    "scrolled": true
   },
   "outputs": [
    {
     "data": {
      "text/html": [
       "<div>\n",
       "<style scoped>\n",
       "    .dataframe tbody tr th:only-of-type {\n",
       "        vertical-align: middle;\n",
       "    }\n",
       "\n",
       "    .dataframe tbody tr th {\n",
       "        vertical-align: top;\n",
       "    }\n",
       "\n",
       "    .dataframe thead th {\n",
       "        text-align: right;\n",
       "    }\n",
       "</style>\n",
       "<table border=\"1\" class=\"dataframe\">\n",
       "  <thead>\n",
       "    <tr style=\"text-align: right;\">\n",
       "      <th></th>\n",
       "      <th>children</th>\n",
       "      <th>days_employed</th>\n",
       "      <th>dob_years</th>\n",
       "      <th>education</th>\n",
       "      <th>education_id</th>\n",
       "      <th>family_status</th>\n",
       "      <th>family_status_id</th>\n",
       "      <th>gender</th>\n",
       "      <th>income_type</th>\n",
       "      <th>debt</th>\n",
       "      <th>total_income</th>\n",
       "      <th>purpose</th>\n",
       "    </tr>\n",
       "  </thead>\n",
       "  <tbody>\n",
       "    <tr>\n",
       "      <th>0</th>\n",
       "      <td>1</td>\n",
       "      <td>-8437.673028</td>\n",
       "      <td>42</td>\n",
       "      <td>высшее</td>\n",
       "      <td>0</td>\n",
       "      <td>женат / замужем</td>\n",
       "      <td>0</td>\n",
       "      <td>F</td>\n",
       "      <td>сотрудник</td>\n",
       "      <td>0</td>\n",
       "      <td>253875.639453</td>\n",
       "      <td>покупка жилья</td>\n",
       "    </tr>\n",
       "    <tr>\n",
       "      <th>1</th>\n",
       "      <td>1</td>\n",
       "      <td>-4024.803754</td>\n",
       "      <td>36</td>\n",
       "      <td>среднее</td>\n",
       "      <td>1</td>\n",
       "      <td>женат / замужем</td>\n",
       "      <td>0</td>\n",
       "      <td>F</td>\n",
       "      <td>сотрудник</td>\n",
       "      <td>0</td>\n",
       "      <td>112080.014102</td>\n",
       "      <td>приобретение автомобиля</td>\n",
       "    </tr>\n",
       "    <tr>\n",
       "      <th>2</th>\n",
       "      <td>0</td>\n",
       "      <td>-5623.422610</td>\n",
       "      <td>33</td>\n",
       "      <td>Среднее</td>\n",
       "      <td>1</td>\n",
       "      <td>женат / замужем</td>\n",
       "      <td>0</td>\n",
       "      <td>M</td>\n",
       "      <td>сотрудник</td>\n",
       "      <td>0</td>\n",
       "      <td>145885.952297</td>\n",
       "      <td>покупка жилья</td>\n",
       "    </tr>\n",
       "    <tr>\n",
       "      <th>3</th>\n",
       "      <td>3</td>\n",
       "      <td>-4124.747207</td>\n",
       "      <td>32</td>\n",
       "      <td>среднее</td>\n",
       "      <td>1</td>\n",
       "      <td>женат / замужем</td>\n",
       "      <td>0</td>\n",
       "      <td>M</td>\n",
       "      <td>сотрудник</td>\n",
       "      <td>0</td>\n",
       "      <td>267628.550329</td>\n",
       "      <td>дополнительное образование</td>\n",
       "    </tr>\n",
       "    <tr>\n",
       "      <th>4</th>\n",
       "      <td>0</td>\n",
       "      <td>340266.072047</td>\n",
       "      <td>53</td>\n",
       "      <td>среднее</td>\n",
       "      <td>1</td>\n",
       "      <td>гражданский брак</td>\n",
       "      <td>1</td>\n",
       "      <td>F</td>\n",
       "      <td>пенсионер</td>\n",
       "      <td>0</td>\n",
       "      <td>158616.077870</td>\n",
       "      <td>сыграть свадьбу</td>\n",
       "    </tr>\n",
       "    <tr>\n",
       "      <th>5</th>\n",
       "      <td>0</td>\n",
       "      <td>-926.185831</td>\n",
       "      <td>27</td>\n",
       "      <td>высшее</td>\n",
       "      <td>0</td>\n",
       "      <td>гражданский брак</td>\n",
       "      <td>1</td>\n",
       "      <td>M</td>\n",
       "      <td>компаньон</td>\n",
       "      <td>0</td>\n",
       "      <td>255763.565419</td>\n",
       "      <td>покупка жилья</td>\n",
       "    </tr>\n",
       "    <tr>\n",
       "      <th>6</th>\n",
       "      <td>0</td>\n",
       "      <td>-2879.202052</td>\n",
       "      <td>43</td>\n",
       "      <td>высшее</td>\n",
       "      <td>0</td>\n",
       "      <td>женат / замужем</td>\n",
       "      <td>0</td>\n",
       "      <td>F</td>\n",
       "      <td>компаньон</td>\n",
       "      <td>0</td>\n",
       "      <td>240525.971920</td>\n",
       "      <td>операции с жильем</td>\n",
       "    </tr>\n",
       "    <tr>\n",
       "      <th>7</th>\n",
       "      <td>0</td>\n",
       "      <td>-152.779569</td>\n",
       "      <td>50</td>\n",
       "      <td>СРЕДНЕЕ</td>\n",
       "      <td>1</td>\n",
       "      <td>женат / замужем</td>\n",
       "      <td>0</td>\n",
       "      <td>M</td>\n",
       "      <td>сотрудник</td>\n",
       "      <td>0</td>\n",
       "      <td>135823.934197</td>\n",
       "      <td>образование</td>\n",
       "    </tr>\n",
       "    <tr>\n",
       "      <th>8</th>\n",
       "      <td>2</td>\n",
       "      <td>-6929.865299</td>\n",
       "      <td>35</td>\n",
       "      <td>ВЫСШЕЕ</td>\n",
       "      <td>0</td>\n",
       "      <td>гражданский брак</td>\n",
       "      <td>1</td>\n",
       "      <td>F</td>\n",
       "      <td>сотрудник</td>\n",
       "      <td>0</td>\n",
       "      <td>95856.832424</td>\n",
       "      <td>на проведение свадьбы</td>\n",
       "    </tr>\n",
       "    <tr>\n",
       "      <th>9</th>\n",
       "      <td>0</td>\n",
       "      <td>-2188.756445</td>\n",
       "      <td>41</td>\n",
       "      <td>среднее</td>\n",
       "      <td>1</td>\n",
       "      <td>женат / замужем</td>\n",
       "      <td>0</td>\n",
       "      <td>M</td>\n",
       "      <td>сотрудник</td>\n",
       "      <td>0</td>\n",
       "      <td>144425.938277</td>\n",
       "      <td>покупка жилья для семьи</td>\n",
       "    </tr>\n",
       "    <tr>\n",
       "      <th>10</th>\n",
       "      <td>2</td>\n",
       "      <td>-4171.483647</td>\n",
       "      <td>36</td>\n",
       "      <td>высшее</td>\n",
       "      <td>0</td>\n",
       "      <td>женат / замужем</td>\n",
       "      <td>0</td>\n",
       "      <td>M</td>\n",
       "      <td>компаньон</td>\n",
       "      <td>0</td>\n",
       "      <td>113943.491460</td>\n",
       "      <td>покупка недвижимости</td>\n",
       "    </tr>\n",
       "    <tr>\n",
       "      <th>11</th>\n",
       "      <td>0</td>\n",
       "      <td>-792.701887</td>\n",
       "      <td>40</td>\n",
       "      <td>среднее</td>\n",
       "      <td>1</td>\n",
       "      <td>женат / замужем</td>\n",
       "      <td>0</td>\n",
       "      <td>F</td>\n",
       "      <td>сотрудник</td>\n",
       "      <td>0</td>\n",
       "      <td>77069.234271</td>\n",
       "      <td>покупка коммерческой недвижимости</td>\n",
       "    </tr>\n",
       "    <tr>\n",
       "      <th>12</th>\n",
       "      <td>0</td>\n",
       "      <td>NaN</td>\n",
       "      <td>65</td>\n",
       "      <td>среднее</td>\n",
       "      <td>1</td>\n",
       "      <td>гражданский брак</td>\n",
       "      <td>1</td>\n",
       "      <td>M</td>\n",
       "      <td>пенсионер</td>\n",
       "      <td>0</td>\n",
       "      <td>NaN</td>\n",
       "      <td>сыграть свадьбу</td>\n",
       "    </tr>\n",
       "    <tr>\n",
       "      <th>13</th>\n",
       "      <td>0</td>\n",
       "      <td>-1846.641941</td>\n",
       "      <td>54</td>\n",
       "      <td>неоконченное высшее</td>\n",
       "      <td>2</td>\n",
       "      <td>женат / замужем</td>\n",
       "      <td>0</td>\n",
       "      <td>F</td>\n",
       "      <td>сотрудник</td>\n",
       "      <td>0</td>\n",
       "      <td>130458.228857</td>\n",
       "      <td>приобретение автомобиля</td>\n",
       "    </tr>\n",
       "    <tr>\n",
       "      <th>14</th>\n",
       "      <td>0</td>\n",
       "      <td>-1844.956182</td>\n",
       "      <td>56</td>\n",
       "      <td>высшее</td>\n",
       "      <td>0</td>\n",
       "      <td>гражданский брак</td>\n",
       "      <td>1</td>\n",
       "      <td>F</td>\n",
       "      <td>компаньон</td>\n",
       "      <td>1</td>\n",
       "      <td>165127.911772</td>\n",
       "      <td>покупка жилой недвижимости</td>\n",
       "    </tr>\n",
       "  </tbody>\n",
       "</table>\n",
       "</div>"
      ],
      "text/plain": [
       "    children  days_employed  dob_years            education  education_id  \\\n",
       "0          1   -8437.673028         42               высшее             0   \n",
       "1          1   -4024.803754         36              среднее             1   \n",
       "2          0   -5623.422610         33              Среднее             1   \n",
       "3          3   -4124.747207         32              среднее             1   \n",
       "4          0  340266.072047         53              среднее             1   \n",
       "5          0    -926.185831         27               высшее             0   \n",
       "6          0   -2879.202052         43               высшее             0   \n",
       "7          0    -152.779569         50              СРЕДНЕЕ             1   \n",
       "8          2   -6929.865299         35               ВЫСШЕЕ             0   \n",
       "9          0   -2188.756445         41              среднее             1   \n",
       "10         2   -4171.483647         36               высшее             0   \n",
       "11         0    -792.701887         40              среднее             1   \n",
       "12         0            NaN         65              среднее             1   \n",
       "13         0   -1846.641941         54  неоконченное высшее             2   \n",
       "14         0   -1844.956182         56               высшее             0   \n",
       "\n",
       "       family_status  family_status_id gender income_type  debt  \\\n",
       "0    женат / замужем                 0      F   сотрудник     0   \n",
       "1    женат / замужем                 0      F   сотрудник     0   \n",
       "2    женат / замужем                 0      M   сотрудник     0   \n",
       "3    женат / замужем                 0      M   сотрудник     0   \n",
       "4   гражданский брак                 1      F   пенсионер     0   \n",
       "5   гражданский брак                 1      M   компаньон     0   \n",
       "6    женат / замужем                 0      F   компаньон     0   \n",
       "7    женат / замужем                 0      M   сотрудник     0   \n",
       "8   гражданский брак                 1      F   сотрудник     0   \n",
       "9    женат / замужем                 0      M   сотрудник     0   \n",
       "10   женат / замужем                 0      M   компаньон     0   \n",
       "11   женат / замужем                 0      F   сотрудник     0   \n",
       "12  гражданский брак                 1      M   пенсионер     0   \n",
       "13   женат / замужем                 0      F   сотрудник     0   \n",
       "14  гражданский брак                 1      F   компаньон     1   \n",
       "\n",
       "     total_income                            purpose  \n",
       "0   253875.639453                      покупка жилья  \n",
       "1   112080.014102            приобретение автомобиля  \n",
       "2   145885.952297                      покупка жилья  \n",
       "3   267628.550329         дополнительное образование  \n",
       "4   158616.077870                    сыграть свадьбу  \n",
       "5   255763.565419                      покупка жилья  \n",
       "6   240525.971920                  операции с жильем  \n",
       "7   135823.934197                        образование  \n",
       "8    95856.832424              на проведение свадьбы  \n",
       "9   144425.938277            покупка жилья для семьи  \n",
       "10  113943.491460               покупка недвижимости  \n",
       "11   77069.234271  покупка коммерческой недвижимости  \n",
       "12            NaN                    сыграть свадьбу  \n",
       "13  130458.228857            приобретение автомобиля  \n",
       "14  165127.911772         покупка жилой недвижимости  "
      ]
     },
     "execution_count": 38,
     "metadata": {},
     "output_type": "execute_result"
    }
   ],
   "source": [
    "df = pd.read_csv('C:/Users/tatar/downloads/data.csv') # reading data file and saving to df\n",
    "df.head(15) # getting the first 15 rows of a df table"
   ]
  },
  {
   "cell_type": "markdown",
   "id": "a25b824d",
   "metadata": {},
   "source": [
    "Get general information about the table."
   ]
  },
  {
   "cell_type": "code",
   "execution_count": 39,
   "id": "750fb0bb",
   "metadata": {},
   "outputs": [
    {
     "name": "stdout",
     "output_type": "stream",
     "text": [
      "<class 'pandas.core.frame.DataFrame'>\n",
      "RangeIndex: 21525 entries, 0 to 21524\n",
      "Data columns (total 12 columns):\n",
      " #   Column            Non-Null Count  Dtype  \n",
      "---  ------            --------------  -----  \n",
      " 0   children          21525 non-null  int64  \n",
      " 1   days_employed     19351 non-null  float64\n",
      " 2   dob_years         21525 non-null  int64  \n",
      " 3   education         21525 non-null  object \n",
      " 4   education_id      21525 non-null  int64  \n",
      " 5   family_status     21525 non-null  object \n",
      " 6   family_status_id  21525 non-null  int64  \n",
      " 7   gender            21525 non-null  object \n",
      " 8   income_type       21525 non-null  object \n",
      " 9   debt              21525 non-null  int64  \n",
      " 10  total_income      19351 non-null  float64\n",
      " 11  purpose           21525 non-null  object \n",
      "dtypes: float64(2), int64(5), object(5)\n",
      "memory usage: 2.0+ MB\n"
     ]
    }
   ],
   "source": [
    "df.info() # получение общей информации о данных в таблице df"
   ]
  },
  {
   "cell_type": "markdown",
   "id": "0a4ff423",
   "metadata": {},
   "source": [
    "The table has twelve columns. The data types in the columns are different - float64, int64, object.\n",
    "\n",
    "According to the data documentation:\n",
    "\n",
    "* `children` — the number of children in the family;\n",
    "* `days_employed` — total work experience in days;\n",
    "* `dob_years` — client's age in years;\n",
    "* `education` — the level of education of the client;\n",
    "* `education_id` — education level identifier;\n",
    "* `family_status` — marital status;\n",
    "* `family_status_id` — marital status identifier;\n",
    "* `gender` — gender of the client;\n",
    "* `income_type` — employment type;\n",
    "* `debt` — whether he had a debt to repay loans;\n",
    "* `total_income` — monthly income;\n",
    "* `purpose` — the purpose of the loan."
   ]
  },
  {
   "cell_type": "markdown",
   "id": "58645eba",
   "metadata": {},
   "source": [
    "**Conclusions**\n",
    "\n",
    "Each row of the table contains data on borrowers. Some of the columns describe financial data: the presence of debt, monthly income and the purpose of obtaining a loan. The rest of the data tells about the client: the presence of children, work experience, age, education, marital status, gender and type of employment.\n",
    "\n",
    "Preliminarily, it can be argued that the data are sufficient to test the hypotheses. But there are incorrect data (some values of seniority are negative, information about education is written in violation of style) and there are gaps in the data.\n",
    "\n",
    "Problems in the data need to be fixed."
   ]
  },
  {
   "cell_type": "markdown",
   "id": "c7335b08",
   "metadata": {},
   "source": [
    "## Data preprocessing"
   ]
  },
  {
   "cell_type": "markdown",
   "id": "65bcb27b",
   "metadata": {},
   "source": [
    "### Fill in missing values"
   ]
  },
  {
   "cell_type": "markdown",
   "id": "5dbdfe76",
   "metadata": {},
   "source": [
    "First, let's count the number of missing values in the table."
   ]
  },
  {
   "cell_type": "code",
   "execution_count": 40,
   "id": "4825863a",
   "metadata": {},
   "outputs": [
    {
     "data": {
      "text/plain": [
       "children               0\n",
       "days_employed       2174\n",
       "dob_years              0\n",
       "education              0\n",
       "education_id           0\n",
       "family_status          0\n",
       "family_status_id       0\n",
       "gender                 0\n",
       "income_type            0\n",
       "debt                   0\n",
       "total_income        2174\n",
       "purpose                0\n",
       "dtype: int64"
      ]
     },
     "execution_count": 40,
     "metadata": {},
     "output_type": "execute_result"
    }
   ],
   "source": [
    "df.isna().sum() # missing values count"
   ]
  },
  {
   "cell_type": "markdown",
   "id": "2ab6ea47",
   "metadata": {},
   "source": [
    "Missing values were found in the `days_employed` (total days of employment) and `total_income` (monthly income) columns. The reason for the appearance of gaps in the data is most likely that the clients did not want to provide this data for some reason. "
   ]
  },
  {
   "cell_type": "code",
   "execution_count": 41,
   "id": "fc195c0d",
   "metadata": {},
   "outputs": [
    {
     "name": "stdout",
     "output_type": "stream",
     "text": [
      "The proportion of missing values in the data is: 10.1 %\n"
     ]
    }
   ],
   "source": [
    "print('The proportion of missing values in the data is:', round(2174 / 21525 * 100, 2), '%')"
   ]
  },
  {
   "cell_type": "markdown",
   "id": "e2a5bc6b",
   "metadata": {},
   "source": [
    "Since the remaining values in the columns with gaps are presented in a wide range and there is always the possibility of the presence of too large values that affect the distribution of data in the sample, we will replace the gaps with the median value.\n",
    "\n",
    "Let's take into account that both the total length of service in days and the monthly income directly depend on the type of employment. Therefore, we will replace the gaps in the table with median values for the `type of employment` group."
   ]
  },
  {
   "cell_type": "code",
   "execution_count": 42,
   "id": "3906fc33",
   "metadata": {},
   "outputs": [],
   "source": [
    "for income in df['income_type'].unique(): # forming a cycle by unique values of the type of employment\n",
    "    median_1 = df.loc[df['income_type'] == income, 'days_employed'].median() # calculating median for column 'days_employed'\n",
    "    median_2 = df.loc[df['income_type'] == income, 'total_income'].median() # calculating median for column 'total_income'\n",
    "    df.loc[(df['days_employed'].isna()) & (df['income_type'] == income), 'days_employed'] = median_1 # change of missing values\n",
    "    df.loc[(df['total_income'].isna()) & (df['income_type'] == income), 'total_income'] = median_2 # change of missing values"
   ]
  },
  {
   "cell_type": "markdown",
   "id": "a221e64d",
   "metadata": {},
   "source": [
    "Make sure there are no missing values in the table. To do this, once again calculate the missing values."
   ]
  },
  {
   "cell_type": "code",
   "execution_count": 43,
   "id": "de75650a",
   "metadata": {},
   "outputs": [
    {
     "data": {
      "text/plain": [
       "children            0\n",
       "days_employed       0\n",
       "dob_years           0\n",
       "education           0\n",
       "education_id        0\n",
       "family_status       0\n",
       "family_status_id    0\n",
       "gender              0\n",
       "income_type         0\n",
       "debt                0\n",
       "total_income        0\n",
       "purpose             0\n",
       "dtype: int64"
      ]
     },
     "execution_count": 43,
     "metadata": {},
     "output_type": "execute_result"
    }
   ],
   "source": [
    "df.isna().sum() # missing values count"
   ]
  },
  {
   "cell_type": "markdown",
   "id": "5e221d6a",
   "metadata": {},
   "source": [
    "And once again display the first fifteen rows of the table:"
   ]
  },
  {
   "cell_type": "code",
   "execution_count": 44,
   "id": "8fcb4df6",
   "metadata": {
    "scrolled": false
   },
   "outputs": [
    {
     "data": {
      "text/html": [
       "<div>\n",
       "<style scoped>\n",
       "    .dataframe tbody tr th:only-of-type {\n",
       "        vertical-align: middle;\n",
       "    }\n",
       "\n",
       "    .dataframe tbody tr th {\n",
       "        vertical-align: top;\n",
       "    }\n",
       "\n",
       "    .dataframe thead th {\n",
       "        text-align: right;\n",
       "    }\n",
       "</style>\n",
       "<table border=\"1\" class=\"dataframe\">\n",
       "  <thead>\n",
       "    <tr style=\"text-align: right;\">\n",
       "      <th></th>\n",
       "      <th>children</th>\n",
       "      <th>days_employed</th>\n",
       "      <th>dob_years</th>\n",
       "      <th>education</th>\n",
       "      <th>education_id</th>\n",
       "      <th>family_status</th>\n",
       "      <th>family_status_id</th>\n",
       "      <th>gender</th>\n",
       "      <th>income_type</th>\n",
       "      <th>debt</th>\n",
       "      <th>total_income</th>\n",
       "      <th>purpose</th>\n",
       "    </tr>\n",
       "  </thead>\n",
       "  <tbody>\n",
       "    <tr>\n",
       "      <th>0</th>\n",
       "      <td>1</td>\n",
       "      <td>-8437.673028</td>\n",
       "      <td>42</td>\n",
       "      <td>высшее</td>\n",
       "      <td>0</td>\n",
       "      <td>женат / замужем</td>\n",
       "      <td>0</td>\n",
       "      <td>F</td>\n",
       "      <td>сотрудник</td>\n",
       "      <td>0</td>\n",
       "      <td>253875.639453</td>\n",
       "      <td>покупка жилья</td>\n",
       "    </tr>\n",
       "    <tr>\n",
       "      <th>1</th>\n",
       "      <td>1</td>\n",
       "      <td>-4024.803754</td>\n",
       "      <td>36</td>\n",
       "      <td>среднее</td>\n",
       "      <td>1</td>\n",
       "      <td>женат / замужем</td>\n",
       "      <td>0</td>\n",
       "      <td>F</td>\n",
       "      <td>сотрудник</td>\n",
       "      <td>0</td>\n",
       "      <td>112080.014102</td>\n",
       "      <td>приобретение автомобиля</td>\n",
       "    </tr>\n",
       "    <tr>\n",
       "      <th>2</th>\n",
       "      <td>0</td>\n",
       "      <td>-5623.422610</td>\n",
       "      <td>33</td>\n",
       "      <td>Среднее</td>\n",
       "      <td>1</td>\n",
       "      <td>женат / замужем</td>\n",
       "      <td>0</td>\n",
       "      <td>M</td>\n",
       "      <td>сотрудник</td>\n",
       "      <td>0</td>\n",
       "      <td>145885.952297</td>\n",
       "      <td>покупка жилья</td>\n",
       "    </tr>\n",
       "    <tr>\n",
       "      <th>3</th>\n",
       "      <td>3</td>\n",
       "      <td>-4124.747207</td>\n",
       "      <td>32</td>\n",
       "      <td>среднее</td>\n",
       "      <td>1</td>\n",
       "      <td>женат / замужем</td>\n",
       "      <td>0</td>\n",
       "      <td>M</td>\n",
       "      <td>сотрудник</td>\n",
       "      <td>0</td>\n",
       "      <td>267628.550329</td>\n",
       "      <td>дополнительное образование</td>\n",
       "    </tr>\n",
       "    <tr>\n",
       "      <th>4</th>\n",
       "      <td>0</td>\n",
       "      <td>340266.072047</td>\n",
       "      <td>53</td>\n",
       "      <td>среднее</td>\n",
       "      <td>1</td>\n",
       "      <td>гражданский брак</td>\n",
       "      <td>1</td>\n",
       "      <td>F</td>\n",
       "      <td>пенсионер</td>\n",
       "      <td>0</td>\n",
       "      <td>158616.077870</td>\n",
       "      <td>сыграть свадьбу</td>\n",
       "    </tr>\n",
       "    <tr>\n",
       "      <th>5</th>\n",
       "      <td>0</td>\n",
       "      <td>-926.185831</td>\n",
       "      <td>27</td>\n",
       "      <td>высшее</td>\n",
       "      <td>0</td>\n",
       "      <td>гражданский брак</td>\n",
       "      <td>1</td>\n",
       "      <td>M</td>\n",
       "      <td>компаньон</td>\n",
       "      <td>0</td>\n",
       "      <td>255763.565419</td>\n",
       "      <td>покупка жилья</td>\n",
       "    </tr>\n",
       "    <tr>\n",
       "      <th>6</th>\n",
       "      <td>0</td>\n",
       "      <td>-2879.202052</td>\n",
       "      <td>43</td>\n",
       "      <td>высшее</td>\n",
       "      <td>0</td>\n",
       "      <td>женат / замужем</td>\n",
       "      <td>0</td>\n",
       "      <td>F</td>\n",
       "      <td>компаньон</td>\n",
       "      <td>0</td>\n",
       "      <td>240525.971920</td>\n",
       "      <td>операции с жильем</td>\n",
       "    </tr>\n",
       "    <tr>\n",
       "      <th>7</th>\n",
       "      <td>0</td>\n",
       "      <td>-152.779569</td>\n",
       "      <td>50</td>\n",
       "      <td>СРЕДНЕЕ</td>\n",
       "      <td>1</td>\n",
       "      <td>женат / замужем</td>\n",
       "      <td>0</td>\n",
       "      <td>M</td>\n",
       "      <td>сотрудник</td>\n",
       "      <td>0</td>\n",
       "      <td>135823.934197</td>\n",
       "      <td>образование</td>\n",
       "    </tr>\n",
       "    <tr>\n",
       "      <th>8</th>\n",
       "      <td>2</td>\n",
       "      <td>-6929.865299</td>\n",
       "      <td>35</td>\n",
       "      <td>ВЫСШЕЕ</td>\n",
       "      <td>0</td>\n",
       "      <td>гражданский брак</td>\n",
       "      <td>1</td>\n",
       "      <td>F</td>\n",
       "      <td>сотрудник</td>\n",
       "      <td>0</td>\n",
       "      <td>95856.832424</td>\n",
       "      <td>на проведение свадьбы</td>\n",
       "    </tr>\n",
       "    <tr>\n",
       "      <th>9</th>\n",
       "      <td>0</td>\n",
       "      <td>-2188.756445</td>\n",
       "      <td>41</td>\n",
       "      <td>среднее</td>\n",
       "      <td>1</td>\n",
       "      <td>женат / замужем</td>\n",
       "      <td>0</td>\n",
       "      <td>M</td>\n",
       "      <td>сотрудник</td>\n",
       "      <td>0</td>\n",
       "      <td>144425.938277</td>\n",
       "      <td>покупка жилья для семьи</td>\n",
       "    </tr>\n",
       "    <tr>\n",
       "      <th>10</th>\n",
       "      <td>2</td>\n",
       "      <td>-4171.483647</td>\n",
       "      <td>36</td>\n",
       "      <td>высшее</td>\n",
       "      <td>0</td>\n",
       "      <td>женат / замужем</td>\n",
       "      <td>0</td>\n",
       "      <td>M</td>\n",
       "      <td>компаньон</td>\n",
       "      <td>0</td>\n",
       "      <td>113943.491460</td>\n",
       "      <td>покупка недвижимости</td>\n",
       "    </tr>\n",
       "    <tr>\n",
       "      <th>11</th>\n",
       "      <td>0</td>\n",
       "      <td>-792.701887</td>\n",
       "      <td>40</td>\n",
       "      <td>среднее</td>\n",
       "      <td>1</td>\n",
       "      <td>женат / замужем</td>\n",
       "      <td>0</td>\n",
       "      <td>F</td>\n",
       "      <td>сотрудник</td>\n",
       "      <td>0</td>\n",
       "      <td>77069.234271</td>\n",
       "      <td>покупка коммерческой недвижимости</td>\n",
       "    </tr>\n",
       "    <tr>\n",
       "      <th>12</th>\n",
       "      <td>0</td>\n",
       "      <td>365213.306266</td>\n",
       "      <td>65</td>\n",
       "      <td>среднее</td>\n",
       "      <td>1</td>\n",
       "      <td>гражданский брак</td>\n",
       "      <td>1</td>\n",
       "      <td>M</td>\n",
       "      <td>пенсионер</td>\n",
       "      <td>0</td>\n",
       "      <td>118514.486412</td>\n",
       "      <td>сыграть свадьбу</td>\n",
       "    </tr>\n",
       "    <tr>\n",
       "      <th>13</th>\n",
       "      <td>0</td>\n",
       "      <td>-1846.641941</td>\n",
       "      <td>54</td>\n",
       "      <td>неоконченное высшее</td>\n",
       "      <td>2</td>\n",
       "      <td>женат / замужем</td>\n",
       "      <td>0</td>\n",
       "      <td>F</td>\n",
       "      <td>сотрудник</td>\n",
       "      <td>0</td>\n",
       "      <td>130458.228857</td>\n",
       "      <td>приобретение автомобиля</td>\n",
       "    </tr>\n",
       "    <tr>\n",
       "      <th>14</th>\n",
       "      <td>0</td>\n",
       "      <td>-1844.956182</td>\n",
       "      <td>56</td>\n",
       "      <td>высшее</td>\n",
       "      <td>0</td>\n",
       "      <td>гражданский брак</td>\n",
       "      <td>1</td>\n",
       "      <td>F</td>\n",
       "      <td>компаньон</td>\n",
       "      <td>1</td>\n",
       "      <td>165127.911772</td>\n",
       "      <td>покупка жилой недвижимости</td>\n",
       "    </tr>\n",
       "  </tbody>\n",
       "</table>\n",
       "</div>"
      ],
      "text/plain": [
       "    children  days_employed  dob_years            education  education_id  \\\n",
       "0          1   -8437.673028         42               высшее             0   \n",
       "1          1   -4024.803754         36              среднее             1   \n",
       "2          0   -5623.422610         33              Среднее             1   \n",
       "3          3   -4124.747207         32              среднее             1   \n",
       "4          0  340266.072047         53              среднее             1   \n",
       "5          0    -926.185831         27               высшее             0   \n",
       "6          0   -2879.202052         43               высшее             0   \n",
       "7          0    -152.779569         50              СРЕДНЕЕ             1   \n",
       "8          2   -6929.865299         35               ВЫСШЕЕ             0   \n",
       "9          0   -2188.756445         41              среднее             1   \n",
       "10         2   -4171.483647         36               высшее             0   \n",
       "11         0    -792.701887         40              среднее             1   \n",
       "12         0  365213.306266         65              среднее             1   \n",
       "13         0   -1846.641941         54  неоконченное высшее             2   \n",
       "14         0   -1844.956182         56               высшее             0   \n",
       "\n",
       "       family_status  family_status_id gender income_type  debt  \\\n",
       "0    женат / замужем                 0      F   сотрудник     0   \n",
       "1    женат / замужем                 0      F   сотрудник     0   \n",
       "2    женат / замужем                 0      M   сотрудник     0   \n",
       "3    женат / замужем                 0      M   сотрудник     0   \n",
       "4   гражданский брак                 1      F   пенсионер     0   \n",
       "5   гражданский брак                 1      M   компаньон     0   \n",
       "6    женат / замужем                 0      F   компаньон     0   \n",
       "7    женат / замужем                 0      M   сотрудник     0   \n",
       "8   гражданский брак                 1      F   сотрудник     0   \n",
       "9    женат / замужем                 0      M   сотрудник     0   \n",
       "10   женат / замужем                 0      M   компаньон     0   \n",
       "11   женат / замужем                 0      F   сотрудник     0   \n",
       "12  гражданский брак                 1      M   пенсионер     0   \n",
       "13   женат / замужем                 0      F   сотрудник     0   \n",
       "14  гражданский брак                 1      F   компаньон     1   \n",
       "\n",
       "     total_income                            purpose  \n",
       "0   253875.639453                      покупка жилья  \n",
       "1   112080.014102            приобретение автомобиля  \n",
       "2   145885.952297                      покупка жилья  \n",
       "3   267628.550329         дополнительное образование  \n",
       "4   158616.077870                    сыграть свадьбу  \n",
       "5   255763.565419                      покупка жилья  \n",
       "6   240525.971920                  операции с жильем  \n",
       "7   135823.934197                        образование  \n",
       "8    95856.832424              на проведение свадьбы  \n",
       "9   144425.938277            покупка жилья для семьи  \n",
       "10  113943.491460               покупка недвижимости  \n",
       "11   77069.234271  покупка коммерческой недвижимости  \n",
       "12  118514.486412                    сыграть свадьбу  \n",
       "13  130458.228857            приобретение автомобиля  \n",
       "14  165127.911772         покупка жилой недвижимости  "
      ]
     },
     "execution_count": 44,
     "metadata": {},
     "output_type": "execute_result"
    }
   ],
   "source": [
    "df.head(15) # getting the first 15 rows of a df table"
   ]
  },
  {
   "cell_type": "markdown",
   "id": "91e7b79c",
   "metadata": {},
   "source": [
    "### Checking data for anomalies and corrections"
   ]
  },
  {
   "cell_type": "markdown",
   "id": "c144a6e4",
   "metadata": {},
   "source": [
    "For better readability of the table, we will round the values in the `total_income` column to two decimal places."
   ]
  },
  {
   "cell_type": "code",
   "execution_count": 45,
   "id": "e7d0afac",
   "metadata": {
    "scrolled": true
   },
   "outputs": [
    {
     "data": {
      "text/html": [
       "<div>\n",
       "<style scoped>\n",
       "    .dataframe tbody tr th:only-of-type {\n",
       "        vertical-align: middle;\n",
       "    }\n",
       "\n",
       "    .dataframe tbody tr th {\n",
       "        vertical-align: top;\n",
       "    }\n",
       "\n",
       "    .dataframe thead th {\n",
       "        text-align: right;\n",
       "    }\n",
       "</style>\n",
       "<table border=\"1\" class=\"dataframe\">\n",
       "  <thead>\n",
       "    <tr style=\"text-align: right;\">\n",
       "      <th></th>\n",
       "      <th>children</th>\n",
       "      <th>days_employed</th>\n",
       "      <th>dob_years</th>\n",
       "      <th>education</th>\n",
       "      <th>education_id</th>\n",
       "      <th>family_status</th>\n",
       "      <th>family_status_id</th>\n",
       "      <th>gender</th>\n",
       "      <th>income_type</th>\n",
       "      <th>debt</th>\n",
       "      <th>total_income</th>\n",
       "      <th>purpose</th>\n",
       "    </tr>\n",
       "  </thead>\n",
       "  <tbody>\n",
       "    <tr>\n",
       "      <th>0</th>\n",
       "      <td>1</td>\n",
       "      <td>-8437.673028</td>\n",
       "      <td>42</td>\n",
       "      <td>высшее</td>\n",
       "      <td>0</td>\n",
       "      <td>женат / замужем</td>\n",
       "      <td>0</td>\n",
       "      <td>F</td>\n",
       "      <td>сотрудник</td>\n",
       "      <td>0</td>\n",
       "      <td>253875.64</td>\n",
       "      <td>покупка жилья</td>\n",
       "    </tr>\n",
       "    <tr>\n",
       "      <th>1</th>\n",
       "      <td>1</td>\n",
       "      <td>-4024.803754</td>\n",
       "      <td>36</td>\n",
       "      <td>среднее</td>\n",
       "      <td>1</td>\n",
       "      <td>женат / замужем</td>\n",
       "      <td>0</td>\n",
       "      <td>F</td>\n",
       "      <td>сотрудник</td>\n",
       "      <td>0</td>\n",
       "      <td>112080.01</td>\n",
       "      <td>приобретение автомобиля</td>\n",
       "    </tr>\n",
       "    <tr>\n",
       "      <th>2</th>\n",
       "      <td>0</td>\n",
       "      <td>-5623.422610</td>\n",
       "      <td>33</td>\n",
       "      <td>Среднее</td>\n",
       "      <td>1</td>\n",
       "      <td>женат / замужем</td>\n",
       "      <td>0</td>\n",
       "      <td>M</td>\n",
       "      <td>сотрудник</td>\n",
       "      <td>0</td>\n",
       "      <td>145885.95</td>\n",
       "      <td>покупка жилья</td>\n",
       "    </tr>\n",
       "    <tr>\n",
       "      <th>3</th>\n",
       "      <td>3</td>\n",
       "      <td>-4124.747207</td>\n",
       "      <td>32</td>\n",
       "      <td>среднее</td>\n",
       "      <td>1</td>\n",
       "      <td>женат / замужем</td>\n",
       "      <td>0</td>\n",
       "      <td>M</td>\n",
       "      <td>сотрудник</td>\n",
       "      <td>0</td>\n",
       "      <td>267628.55</td>\n",
       "      <td>дополнительное образование</td>\n",
       "    </tr>\n",
       "    <tr>\n",
       "      <th>4</th>\n",
       "      <td>0</td>\n",
       "      <td>340266.072047</td>\n",
       "      <td>53</td>\n",
       "      <td>среднее</td>\n",
       "      <td>1</td>\n",
       "      <td>гражданский брак</td>\n",
       "      <td>1</td>\n",
       "      <td>F</td>\n",
       "      <td>пенсионер</td>\n",
       "      <td>0</td>\n",
       "      <td>158616.08</td>\n",
       "      <td>сыграть свадьбу</td>\n",
       "    </tr>\n",
       "  </tbody>\n",
       "</table>\n",
       "</div>"
      ],
      "text/plain": [
       "   children  days_employed  dob_years education  education_id  \\\n",
       "0         1   -8437.673028         42    высшее             0   \n",
       "1         1   -4024.803754         36   среднее             1   \n",
       "2         0   -5623.422610         33   Среднее             1   \n",
       "3         3   -4124.747207         32   среднее             1   \n",
       "4         0  340266.072047         53   среднее             1   \n",
       "\n",
       "      family_status  family_status_id gender income_type  debt  total_income  \\\n",
       "0   женат / замужем                 0      F   сотрудник     0     253875.64   \n",
       "1   женат / замужем                 0      F   сотрудник     0     112080.01   \n",
       "2   женат / замужем                 0      M   сотрудник     0     145885.95   \n",
       "3   женат / замужем                 0      M   сотрудник     0     267628.55   \n",
       "4  гражданский брак                 1      F   пенсионер     0     158616.08   \n",
       "\n",
       "                      purpose  \n",
       "0               покупка жилья  \n",
       "1     приобретение автомобиля  \n",
       "2               покупка жилья  \n",
       "3  дополнительное образование  \n",
       "4             сыграть свадьбу  "
      ]
     },
     "execution_count": 45,
     "metadata": {},
     "output_type": "execute_result"
    }
   ],
   "source": [
    "df['total_income'] = round(df['total_income'], 2) # rounding values to two decimal places\n",
    "df.head() # check"
   ]
  },
  {
   "cell_type": "markdown",
   "id": "2ebf1f1b",
   "metadata": {},
   "source": [
    "Let's check the `children` column for data anomalies."
   ]
  },
  {
   "cell_type": "code",
   "execution_count": 46,
   "id": "84b379f4",
   "metadata": {},
   "outputs": [
    {
     "data": {
      "text/plain": [
       " 0     14149\n",
       " 1      4818\n",
       " 2      2055\n",
       " 3       330\n",
       " 20       76\n",
       "-1        47\n",
       " 4        41\n",
       " 5         9\n",
       "Name: children, dtype: int64"
      ]
     },
     "execution_count": 46,
     "metadata": {},
     "output_type": "execute_result"
    }
   ],
   "source": [
    "df['children'].value_counts() # checking for data anomalies in the 'children' column"
   ]
  },
  {
   "cell_type": "markdown",
   "id": "56464e72",
   "metadata": {},
   "source": [
    "Two problems are identified here. Negative value, and too large a value. Both errors are most likely caused by banal \"mistakes\". For a negative value (-1), we will overwrite that column's data using a modulo function. For a value that is too large (20), we will replace 20 with 2, since both the mean and median of the list of numbers from 0 to 5 are the same and equal to 2.5."
   ]
  },
  {
   "cell_type": "code",
   "execution_count": 47,
   "id": "fa9e768b",
   "metadata": {},
   "outputs": [
    {
     "data": {
      "text/plain": [
       "0    14149\n",
       "1     4865\n",
       "2     2131\n",
       "3      330\n",
       "4       41\n",
       "5        9\n",
       "Name: children, dtype: int64"
      ]
     },
     "execution_count": 47,
     "metadata": {},
     "output_type": "execute_result"
    }
   ],
   "source": [
    "df['children'] = abs(df['children']) # replacing negative values in 'children' column with module\n",
    "df['children'] = df['children'].replace(20, 2) # replacing value '20' with '2'\n",
    "df['children'].value_counts() # check"
   ]
  },
  {
   "cell_type": "markdown",
   "id": "d7742852",
   "metadata": {},
   "source": [
    "Let's check the `dob_years` column for anomalies."
   ]
  },
  {
   "cell_type": "code",
   "execution_count": 48,
   "id": "1ef24582",
   "metadata": {},
   "outputs": [
    {
     "data": {
      "text/plain": [
       "35    617\n",
       "40    609\n",
       "41    607\n",
       "34    603\n",
       "38    598\n",
       "42    597\n",
       "33    581\n",
       "39    573\n",
       "31    560\n",
       "36    555\n",
       "44    547\n",
       "29    545\n",
       "30    540\n",
       "48    538\n",
       "37    537\n",
       "50    514\n",
       "43    513\n",
       "32    510\n",
       "49    508\n",
       "28    503\n",
       "45    497\n",
       "27    493\n",
       "56    487\n",
       "52    484\n",
       "47    480\n",
       "54    479\n",
       "46    475\n",
       "58    461\n",
       "57    460\n",
       "53    459\n",
       "51    448\n",
       "59    444\n",
       "55    443\n",
       "26    408\n",
       "60    377\n",
       "25    357\n",
       "61    355\n",
       "62    352\n",
       "63    269\n",
       "64    265\n",
       "24    264\n",
       "23    254\n",
       "65    194\n",
       "22    183\n",
       "66    183\n",
       "67    167\n",
       "21    111\n",
       "0     101\n",
       "68     99\n",
       "69     85\n",
       "70     65\n",
       "71     58\n",
       "20     51\n",
       "72     33\n",
       "19     14\n",
       "73      8\n",
       "74      6\n",
       "75      1\n",
       "Name: dob_years, dtype: int64"
      ]
     },
     "execution_count": 48,
     "metadata": {},
     "output_type": "execute_result"
    }
   ],
   "source": [
    "df['dob_years'].value_counts() # data anomaly check in 'dob_years' column"
   ]
  },
  {
   "cell_type": "markdown",
   "id": "77456e4c",
   "metadata": {},
   "source": [
    "It can be seen that 101 clients have 0 in the age column, this can be either a reluctance of clients to indicate their age or a technical error. Let's replace the zeros with the median value."
   ]
  },
  {
   "cell_type": "code",
   "execution_count": 49,
   "id": "d3b6495e",
   "metadata": {},
   "outputs": [
    {
     "data": {
      "text/plain": [
       "42    698\n",
       "35    617\n",
       "40    609\n",
       "41    607\n",
       "34    603\n",
       "38    598\n",
       "33    581\n",
       "39    573\n",
       "31    560\n",
       "36    555\n",
       "44    547\n",
       "29    545\n",
       "30    540\n",
       "48    538\n",
       "37    537\n",
       "50    514\n",
       "43    513\n",
       "32    510\n",
       "49    508\n",
       "28    503\n",
       "45    497\n",
       "27    493\n",
       "56    487\n",
       "52    484\n",
       "47    480\n",
       "54    479\n",
       "46    475\n",
       "58    461\n",
       "57    460\n",
       "53    459\n",
       "51    448\n",
       "59    444\n",
       "55    443\n",
       "26    408\n",
       "60    377\n",
       "25    357\n",
       "61    355\n",
       "62    352\n",
       "63    269\n",
       "64    265\n",
       "24    264\n",
       "23    254\n",
       "65    194\n",
       "22    183\n",
       "66    183\n",
       "67    167\n",
       "21    111\n",
       "68     99\n",
       "69     85\n",
       "70     65\n",
       "71     58\n",
       "20     51\n",
       "72     33\n",
       "19     14\n",
       "73      8\n",
       "74      6\n",
       "75      1\n",
       "Name: dob_years, dtype: int64"
      ]
     },
     "execution_count": 49,
     "metadata": {},
     "output_type": "execute_result"
    }
   ],
   "source": [
    "df['dob_years'] = df['dob_years'].replace(0, df['dob_years'].median()) # replacing zero values with medians\n",
    "df['dob_years'].value_counts() # check"
   ]
  },
  {
   "cell_type": "markdown",
   "id": "918dad85",
   "metadata": {},
   "source": [
    "Let's process the anomalies in the data on seniority, for some clients they are displayed in a negative range. This may be due to incorrect filling of the table either manually, or problems when importing from other sources."
   ]
  },
  {
   "cell_type": "code",
   "execution_count": 50,
   "id": "a79f3c21",
   "metadata": {},
   "outputs": [],
   "source": [
    "df['days_employed'] = abs(df['days_employed']) # replacing negative values in 'days_employed' column with module"
   ]
  },
  {
   "cell_type": "markdown",
   "id": "7982e7fd",
   "metadata": {},
   "source": [
    "Abnormally high data on seniority were also noticed, it is necessary to process them. To begin with, we will determine from what value the length of service will be abnormally large.\n",
    "\n",
    "According to statistics in the Russian Federation over the past 5 years, there were an average of 247 working days a year, taking into account the annual leave of 28 days (per year) required by labor legislation, let's take 220 working days a year. It is also necessary to take into account the limitation of seniority in the form of retirement age. Consider the ideal scenario: a woman who started her career at 18 and worked continuously until she was 60. Considering that men have a later retirement, and the fact that very few people work continuously and do not start at the age of 18, it is possible to obtain an adequate boundary for the maximum possible length of service."
   ]
  },
  {
   "cell_type": "code",
   "execution_count": 51,
   "id": "bb97709b",
   "metadata": {},
   "outputs": [
    {
     "name": "stdout",
     "output_type": "stream",
     "text": [
      "The maximum possible length of seniority is: 9240 дней\n"
     ]
    }
   ],
   "source": [
    "print('The maximum possible length of seniority is:', (60 - 18) * 220, 'дней')"
   ]
  },
  {
   "cell_type": "markdown",
   "id": "4e00a241",
   "metadata": {},
   "source": [
    "Let's replace the abnormally large values of seniority according to the following logic: calculate the median value of seniority for each value of age in the sample of clients whose seniority value is less than or equal to 9240 days and replace them with abnormally long seniority."
   ]
  },
  {
   "cell_type": "code",
   "execution_count": 52,
   "id": "97d7af5a",
   "metadata": {},
   "outputs": [],
   "source": [
    "zf = df[df['days_employed'] <= 9240] # formation of a new dataframe with a selection of clients,\n",
    "# who have experience less than or equal to 9240 days\n",
    "for days in df['dob_years'].unique(): # cycle formation by unique age values\n",
    "    median = zf.loc[df['dob_years'] == days,\n",
    "                    'days_employed'].median() # calculating the median for the 'days_employed' column in the sample\n",
    "    df.loc[(df['days_employed'] > 9240) &\n",
    "           (df['dob_years'] == days), 'days_employed'] = median # replacement of abnormally long experience"
   ]
  },
  {
   "cell_type": "markdown",
   "id": "e4d94a11",
   "metadata": {},
   "source": [
    "Let's check by displaying the first ten rows of the table:"
   ]
  },
  {
   "cell_type": "code",
   "execution_count": 53,
   "id": "58276ddb",
   "metadata": {},
   "outputs": [
    {
     "data": {
      "text/html": [
       "<div>\n",
       "<style scoped>\n",
       "    .dataframe tbody tr th:only-of-type {\n",
       "        vertical-align: middle;\n",
       "    }\n",
       "\n",
       "    .dataframe tbody tr th {\n",
       "        vertical-align: top;\n",
       "    }\n",
       "\n",
       "    .dataframe thead th {\n",
       "        text-align: right;\n",
       "    }\n",
       "</style>\n",
       "<table border=\"1\" class=\"dataframe\">\n",
       "  <thead>\n",
       "    <tr style=\"text-align: right;\">\n",
       "      <th></th>\n",
       "      <th>children</th>\n",
       "      <th>days_employed</th>\n",
       "      <th>dob_years</th>\n",
       "      <th>education</th>\n",
       "      <th>education_id</th>\n",
       "      <th>family_status</th>\n",
       "      <th>family_status_id</th>\n",
       "      <th>gender</th>\n",
       "      <th>income_type</th>\n",
       "      <th>debt</th>\n",
       "      <th>total_income</th>\n",
       "      <th>purpose</th>\n",
       "    </tr>\n",
       "  </thead>\n",
       "  <tbody>\n",
       "    <tr>\n",
       "      <th>0</th>\n",
       "      <td>1</td>\n",
       "      <td>8437.673028</td>\n",
       "      <td>42</td>\n",
       "      <td>высшее</td>\n",
       "      <td>0</td>\n",
       "      <td>женат / замужем</td>\n",
       "      <td>0</td>\n",
       "      <td>F</td>\n",
       "      <td>сотрудник</td>\n",
       "      <td>0</td>\n",
       "      <td>253875.64</td>\n",
       "      <td>покупка жилья</td>\n",
       "    </tr>\n",
       "    <tr>\n",
       "      <th>1</th>\n",
       "      <td>1</td>\n",
       "      <td>4024.803754</td>\n",
       "      <td>36</td>\n",
       "      <td>среднее</td>\n",
       "      <td>1</td>\n",
       "      <td>женат / замужем</td>\n",
       "      <td>0</td>\n",
       "      <td>F</td>\n",
       "      <td>сотрудник</td>\n",
       "      <td>0</td>\n",
       "      <td>112080.01</td>\n",
       "      <td>приобретение автомобиля</td>\n",
       "    </tr>\n",
       "    <tr>\n",
       "      <th>2</th>\n",
       "      <td>0</td>\n",
       "      <td>5623.422610</td>\n",
       "      <td>33</td>\n",
       "      <td>Среднее</td>\n",
       "      <td>1</td>\n",
       "      <td>женат / замужем</td>\n",
       "      <td>0</td>\n",
       "      <td>M</td>\n",
       "      <td>сотрудник</td>\n",
       "      <td>0</td>\n",
       "      <td>145885.95</td>\n",
       "      <td>покупка жилья</td>\n",
       "    </tr>\n",
       "    <tr>\n",
       "      <th>3</th>\n",
       "      <td>3</td>\n",
       "      <td>4124.747207</td>\n",
       "      <td>32</td>\n",
       "      <td>среднее</td>\n",
       "      <td>1</td>\n",
       "      <td>женат / замужем</td>\n",
       "      <td>0</td>\n",
       "      <td>M</td>\n",
       "      <td>сотрудник</td>\n",
       "      <td>0</td>\n",
       "      <td>267628.55</td>\n",
       "      <td>дополнительное образование</td>\n",
       "    </tr>\n",
       "    <tr>\n",
       "      <th>4</th>\n",
       "      <td>0</td>\n",
       "      <td>1816.843492</td>\n",
       "      <td>53</td>\n",
       "      <td>среднее</td>\n",
       "      <td>1</td>\n",
       "      <td>гражданский брак</td>\n",
       "      <td>1</td>\n",
       "      <td>F</td>\n",
       "      <td>пенсионер</td>\n",
       "      <td>0</td>\n",
       "      <td>158616.08</td>\n",
       "      <td>сыграть свадьбу</td>\n",
       "    </tr>\n",
       "    <tr>\n",
       "      <th>5</th>\n",
       "      <td>0</td>\n",
       "      <td>926.185831</td>\n",
       "      <td>27</td>\n",
       "      <td>высшее</td>\n",
       "      <td>0</td>\n",
       "      <td>гражданский брак</td>\n",
       "      <td>1</td>\n",
       "      <td>M</td>\n",
       "      <td>компаньон</td>\n",
       "      <td>0</td>\n",
       "      <td>255763.57</td>\n",
       "      <td>покупка жилья</td>\n",
       "    </tr>\n",
       "    <tr>\n",
       "      <th>6</th>\n",
       "      <td>0</td>\n",
       "      <td>2879.202052</td>\n",
       "      <td>43</td>\n",
       "      <td>высшее</td>\n",
       "      <td>0</td>\n",
       "      <td>женат / замужем</td>\n",
       "      <td>0</td>\n",
       "      <td>F</td>\n",
       "      <td>компаньон</td>\n",
       "      <td>0</td>\n",
       "      <td>240525.97</td>\n",
       "      <td>операции с жильем</td>\n",
       "    </tr>\n",
       "    <tr>\n",
       "      <th>7</th>\n",
       "      <td>0</td>\n",
       "      <td>152.779569</td>\n",
       "      <td>50</td>\n",
       "      <td>СРЕДНЕЕ</td>\n",
       "      <td>1</td>\n",
       "      <td>женат / замужем</td>\n",
       "      <td>0</td>\n",
       "      <td>M</td>\n",
       "      <td>сотрудник</td>\n",
       "      <td>0</td>\n",
       "      <td>135823.93</td>\n",
       "      <td>образование</td>\n",
       "    </tr>\n",
       "    <tr>\n",
       "      <th>8</th>\n",
       "      <td>2</td>\n",
       "      <td>6929.865299</td>\n",
       "      <td>35</td>\n",
       "      <td>ВЫСШЕЕ</td>\n",
       "      <td>0</td>\n",
       "      <td>гражданский брак</td>\n",
       "      <td>1</td>\n",
       "      <td>F</td>\n",
       "      <td>сотрудник</td>\n",
       "      <td>0</td>\n",
       "      <td>95856.83</td>\n",
       "      <td>на проведение свадьбы</td>\n",
       "    </tr>\n",
       "    <tr>\n",
       "      <th>9</th>\n",
       "      <td>0</td>\n",
       "      <td>2188.756445</td>\n",
       "      <td>41</td>\n",
       "      <td>среднее</td>\n",
       "      <td>1</td>\n",
       "      <td>женат / замужем</td>\n",
       "      <td>0</td>\n",
       "      <td>M</td>\n",
       "      <td>сотрудник</td>\n",
       "      <td>0</td>\n",
       "      <td>144425.94</td>\n",
       "      <td>покупка жилья для семьи</td>\n",
       "    </tr>\n",
       "  </tbody>\n",
       "</table>\n",
       "</div>"
      ],
      "text/plain": [
       "   children  days_employed  dob_years education  education_id  \\\n",
       "0         1    8437.673028         42    высшее             0   \n",
       "1         1    4024.803754         36   среднее             1   \n",
       "2         0    5623.422610         33   Среднее             1   \n",
       "3         3    4124.747207         32   среднее             1   \n",
       "4         0    1816.843492         53   среднее             1   \n",
       "5         0     926.185831         27    высшее             0   \n",
       "6         0    2879.202052         43    высшее             0   \n",
       "7         0     152.779569         50   СРЕДНЕЕ             1   \n",
       "8         2    6929.865299         35    ВЫСШЕЕ             0   \n",
       "9         0    2188.756445         41   среднее             1   \n",
       "\n",
       "      family_status  family_status_id gender income_type  debt  total_income  \\\n",
       "0   женат / замужем                 0      F   сотрудник     0     253875.64   \n",
       "1   женат / замужем                 0      F   сотрудник     0     112080.01   \n",
       "2   женат / замужем                 0      M   сотрудник     0     145885.95   \n",
       "3   женат / замужем                 0      M   сотрудник     0     267628.55   \n",
       "4  гражданский брак                 1      F   пенсионер     0     158616.08   \n",
       "5  гражданский брак                 1      M   компаньон     0     255763.57   \n",
       "6   женат / замужем                 0      F   компаньон     0     240525.97   \n",
       "7   женат / замужем                 0      M   сотрудник     0     135823.93   \n",
       "8  гражданский брак                 1      F   сотрудник     0      95856.83   \n",
       "9   женат / замужем                 0      M   сотрудник     0     144425.94   \n",
       "\n",
       "                      purpose  \n",
       "0               покупка жилья  \n",
       "1     приобретение автомобиля  \n",
       "2               покупка жилья  \n",
       "3  дополнительное образование  \n",
       "4             сыграть свадьбу  \n",
       "5               покупка жилья  \n",
       "6           операции с жильем  \n",
       "7                 образование  \n",
       "8       на проведение свадьбы  \n",
       "9     покупка жилья для семьи  "
      ]
     },
     "execution_count": 53,
     "metadata": {},
     "output_type": "execute_result"
    }
   ],
   "source": [
    "df.head(10) # check"
   ]
  },
  {
   "cell_type": "markdown",
   "id": "741dcb9d",
   "metadata": {},
   "source": [
    "### Changing data types"
   ]
  },
  {
   "cell_type": "markdown",
   "id": "e5102abc",
   "metadata": {},
   "source": [
    "Let's change the data type in the `total_income` column from real to integer, this will save the table from visual congestion, and the accuracy of the calculations will not suffer."
   ]
  },
  {
   "cell_type": "code",
   "execution_count": 54,
   "id": "14ccfb0a",
   "metadata": {},
   "outputs": [],
   "source": [
    "df['days_employed'] = df['days_employed'].astype('int') # replacing the float data type in the 'days_employed' column \n",
    "# with an integer"
   ]
  },
  {
   "cell_type": "markdown",
   "id": "b78a8918",
   "metadata": {},
   "source": [
    "Let's check by displaying the first five rows of the table:"
   ]
  },
  {
   "cell_type": "code",
   "execution_count": 55,
   "id": "91d03d4e",
   "metadata": {},
   "outputs": [
    {
     "data": {
      "text/html": [
       "<div>\n",
       "<style scoped>\n",
       "    .dataframe tbody tr th:only-of-type {\n",
       "        vertical-align: middle;\n",
       "    }\n",
       "\n",
       "    .dataframe tbody tr th {\n",
       "        vertical-align: top;\n",
       "    }\n",
       "\n",
       "    .dataframe thead th {\n",
       "        text-align: right;\n",
       "    }\n",
       "</style>\n",
       "<table border=\"1\" class=\"dataframe\">\n",
       "  <thead>\n",
       "    <tr style=\"text-align: right;\">\n",
       "      <th></th>\n",
       "      <th>children</th>\n",
       "      <th>days_employed</th>\n",
       "      <th>dob_years</th>\n",
       "      <th>education</th>\n",
       "      <th>education_id</th>\n",
       "      <th>family_status</th>\n",
       "      <th>family_status_id</th>\n",
       "      <th>gender</th>\n",
       "      <th>income_type</th>\n",
       "      <th>debt</th>\n",
       "      <th>total_income</th>\n",
       "      <th>purpose</th>\n",
       "    </tr>\n",
       "  </thead>\n",
       "  <tbody>\n",
       "    <tr>\n",
       "      <th>0</th>\n",
       "      <td>1</td>\n",
       "      <td>8437</td>\n",
       "      <td>42</td>\n",
       "      <td>высшее</td>\n",
       "      <td>0</td>\n",
       "      <td>женат / замужем</td>\n",
       "      <td>0</td>\n",
       "      <td>F</td>\n",
       "      <td>сотрудник</td>\n",
       "      <td>0</td>\n",
       "      <td>253875.64</td>\n",
       "      <td>покупка жилья</td>\n",
       "    </tr>\n",
       "    <tr>\n",
       "      <th>1</th>\n",
       "      <td>1</td>\n",
       "      <td>4024</td>\n",
       "      <td>36</td>\n",
       "      <td>среднее</td>\n",
       "      <td>1</td>\n",
       "      <td>женат / замужем</td>\n",
       "      <td>0</td>\n",
       "      <td>F</td>\n",
       "      <td>сотрудник</td>\n",
       "      <td>0</td>\n",
       "      <td>112080.01</td>\n",
       "      <td>приобретение автомобиля</td>\n",
       "    </tr>\n",
       "    <tr>\n",
       "      <th>2</th>\n",
       "      <td>0</td>\n",
       "      <td>5623</td>\n",
       "      <td>33</td>\n",
       "      <td>Среднее</td>\n",
       "      <td>1</td>\n",
       "      <td>женат / замужем</td>\n",
       "      <td>0</td>\n",
       "      <td>M</td>\n",
       "      <td>сотрудник</td>\n",
       "      <td>0</td>\n",
       "      <td>145885.95</td>\n",
       "      <td>покупка жилья</td>\n",
       "    </tr>\n",
       "    <tr>\n",
       "      <th>3</th>\n",
       "      <td>3</td>\n",
       "      <td>4124</td>\n",
       "      <td>32</td>\n",
       "      <td>среднее</td>\n",
       "      <td>1</td>\n",
       "      <td>женат / замужем</td>\n",
       "      <td>0</td>\n",
       "      <td>M</td>\n",
       "      <td>сотрудник</td>\n",
       "      <td>0</td>\n",
       "      <td>267628.55</td>\n",
       "      <td>дополнительное образование</td>\n",
       "    </tr>\n",
       "    <tr>\n",
       "      <th>4</th>\n",
       "      <td>0</td>\n",
       "      <td>1816</td>\n",
       "      <td>53</td>\n",
       "      <td>среднее</td>\n",
       "      <td>1</td>\n",
       "      <td>гражданский брак</td>\n",
       "      <td>1</td>\n",
       "      <td>F</td>\n",
       "      <td>пенсионер</td>\n",
       "      <td>0</td>\n",
       "      <td>158616.08</td>\n",
       "      <td>сыграть свадьбу</td>\n",
       "    </tr>\n",
       "  </tbody>\n",
       "</table>\n",
       "</div>"
      ],
      "text/plain": [
       "   children  days_employed  dob_years education  education_id  \\\n",
       "0         1           8437         42    высшее             0   \n",
       "1         1           4024         36   среднее             1   \n",
       "2         0           5623         33   Среднее             1   \n",
       "3         3           4124         32   среднее             1   \n",
       "4         0           1816         53   среднее             1   \n",
       "\n",
       "      family_status  family_status_id gender income_type  debt  total_income  \\\n",
       "0   женат / замужем                 0      F   сотрудник     0     253875.64   \n",
       "1   женат / замужем                 0      F   сотрудник     0     112080.01   \n",
       "2   женат / замужем                 0      M   сотрудник     0     145885.95   \n",
       "3   женат / замужем                 0      M   сотрудник     0     267628.55   \n",
       "4  гражданский брак                 1      F   пенсионер     0     158616.08   \n",
       "\n",
       "                      purpose  \n",
       "0               покупка жилья  \n",
       "1     приобретение автомобиля  \n",
       "2               покупка жилья  \n",
       "3  дополнительное образование  \n",
       "4             сыграть свадьбу  "
      ]
     },
     "execution_count": 55,
     "metadata": {},
     "output_type": "execute_result"
    }
   ],
   "source": [
    "df.head() # getting first 5 rows of df table"
   ]
  },
  {
   "cell_type": "markdown",
   "id": "af205577",
   "metadata": {},
   "source": [
    "### Removing duplicates"
   ]
  },
  {
   "cell_type": "markdown",
   "id": "30a902e8",
   "metadata": {},
   "source": [
    "First, let's determine if there are explicit duplicates in the table. Use the `duplicated()` method in conjunction with `sum()` as we need to see which columns have duplicates in the data."
   ]
  },
  {
   "cell_type": "code",
   "execution_count": 56,
   "id": "a590c75d",
   "metadata": {},
   "outputs": [
    {
     "data": {
      "text/plain": [
       "55"
      ]
     },
     "execution_count": 56,
     "metadata": {},
     "output_type": "execute_result"
    }
   ],
   "source": [
    "df.duplicated().sum() # counting explicit duplicates"
   ]
  },
  {
   "cell_type": "markdown",
   "id": "ddc2e813",
   "metadata": {},
   "source": [
    "Let's display the first few rows of the table with repeated rows for review."
   ]
  },
  {
   "cell_type": "code",
   "execution_count": 57,
   "id": "1ce8a031",
   "metadata": {},
   "outputs": [
    {
     "data": {
      "text/html": [
       "<div>\n",
       "<style scoped>\n",
       "    .dataframe tbody tr th:only-of-type {\n",
       "        vertical-align: middle;\n",
       "    }\n",
       "\n",
       "    .dataframe tbody tr th {\n",
       "        vertical-align: top;\n",
       "    }\n",
       "\n",
       "    .dataframe thead th {\n",
       "        text-align: right;\n",
       "    }\n",
       "</style>\n",
       "<table border=\"1\" class=\"dataframe\">\n",
       "  <thead>\n",
       "    <tr style=\"text-align: right;\">\n",
       "      <th></th>\n",
       "      <th>children</th>\n",
       "      <th>days_employed</th>\n",
       "      <th>dob_years</th>\n",
       "      <th>education</th>\n",
       "      <th>education_id</th>\n",
       "      <th>family_status</th>\n",
       "      <th>family_status_id</th>\n",
       "      <th>gender</th>\n",
       "      <th>income_type</th>\n",
       "      <th>debt</th>\n",
       "      <th>total_income</th>\n",
       "      <th>purpose</th>\n",
       "    </tr>\n",
       "  </thead>\n",
       "  <tbody>\n",
       "    <tr>\n",
       "      <th>2849</th>\n",
       "      <td>0</td>\n",
       "      <td>1574</td>\n",
       "      <td>41</td>\n",
       "      <td>среднее</td>\n",
       "      <td>1</td>\n",
       "      <td>женат / замужем</td>\n",
       "      <td>0</td>\n",
       "      <td>F</td>\n",
       "      <td>сотрудник</td>\n",
       "      <td>0</td>\n",
       "      <td>142594.40</td>\n",
       "      <td>покупка жилья для семьи</td>\n",
       "    </tr>\n",
       "    <tr>\n",
       "      <th>4182</th>\n",
       "      <td>1</td>\n",
       "      <td>1574</td>\n",
       "      <td>34</td>\n",
       "      <td>ВЫСШЕЕ</td>\n",
       "      <td>0</td>\n",
       "      <td>гражданский брак</td>\n",
       "      <td>1</td>\n",
       "      <td>F</td>\n",
       "      <td>сотрудник</td>\n",
       "      <td>0</td>\n",
       "      <td>142594.40</td>\n",
       "      <td>свадьба</td>\n",
       "    </tr>\n",
       "    <tr>\n",
       "      <th>4851</th>\n",
       "      <td>0</td>\n",
       "      <td>2090</td>\n",
       "      <td>60</td>\n",
       "      <td>среднее</td>\n",
       "      <td>1</td>\n",
       "      <td>гражданский брак</td>\n",
       "      <td>1</td>\n",
       "      <td>F</td>\n",
       "      <td>пенсионер</td>\n",
       "      <td>0</td>\n",
       "      <td>118514.49</td>\n",
       "      <td>свадьба</td>\n",
       "    </tr>\n",
       "    <tr>\n",
       "      <th>5557</th>\n",
       "      <td>0</td>\n",
       "      <td>1860</td>\n",
       "      <td>58</td>\n",
       "      <td>среднее</td>\n",
       "      <td>1</td>\n",
       "      <td>гражданский брак</td>\n",
       "      <td>1</td>\n",
       "      <td>F</td>\n",
       "      <td>пенсионер</td>\n",
       "      <td>0</td>\n",
       "      <td>118514.49</td>\n",
       "      <td>сыграть свадьбу</td>\n",
       "    </tr>\n",
       "    <tr>\n",
       "      <th>7808</th>\n",
       "      <td>0</td>\n",
       "      <td>1574</td>\n",
       "      <td>57</td>\n",
       "      <td>среднее</td>\n",
       "      <td>1</td>\n",
       "      <td>гражданский брак</td>\n",
       "      <td>1</td>\n",
       "      <td>F</td>\n",
       "      <td>пенсионер</td>\n",
       "      <td>0</td>\n",
       "      <td>118514.49</td>\n",
       "      <td>на проведение свадьбы</td>\n",
       "    </tr>\n",
       "  </tbody>\n",
       "</table>\n",
       "</div>"
      ],
      "text/plain": [
       "      children  days_employed  dob_years education  education_id  \\\n",
       "2849         0           1574         41   среднее             1   \n",
       "4182         1           1574         34    ВЫСШЕЕ             0   \n",
       "4851         0           2090         60   среднее             1   \n",
       "5557         0           1860         58   среднее             1   \n",
       "7808         0           1574         57   среднее             1   \n",
       "\n",
       "         family_status  family_status_id gender income_type  debt  \\\n",
       "2849   женат / замужем                 0      F   сотрудник     0   \n",
       "4182  гражданский брак                 1      F   сотрудник     0   \n",
       "4851  гражданский брак                 1      F   пенсионер     0   \n",
       "5557  гражданский брак                 1      F   пенсионер     0   \n",
       "7808  гражданский брак                 1      F   пенсионер     0   \n",
       "\n",
       "      total_income                  purpose  \n",
       "2849     142594.40  покупка жилья для семьи  \n",
       "4182     142594.40                  свадьба  \n",
       "4851     118514.49                  свадьба  \n",
       "5557     118514.49          сыграть свадьбу  \n",
       "7808     118514.49    на проведение свадьбы  "
      ]
     },
     "execution_count": 57,
     "metadata": {},
     "output_type": "execute_result"
    }
   ],
   "source": [
    "df[df.duplicated()].head() # getting the first 5 rows of a table with duplicate rows"
   ]
  },
  {
   "cell_type": "markdown",
   "id": "f373f3e8",
   "metadata": {},
   "source": [
    "An analysis of a table with repeating rows allows us to conclude that there are matches mainly in the number of days of work experience and the amount of monthly income. Such duplication of data is possible both due to manual filling and problems when importing data from third-party resources. Let's remove duplicate rows and change the indexing of rows."
   ]
  },
  {
   "cell_type": "code",
   "execution_count": 58,
   "id": "2dbfe80a",
   "metadata": {},
   "outputs": [],
   "source": [
    "df = df.drop_duplicates().reset_index(drop=True) # removal of duplicate rows \n",
    "# (with removal of old indexes and formation of new ones)"
   ]
  },
  {
   "cell_type": "markdown",
   "id": "8fa95f9c",
   "metadata": {},
   "source": [
    "Make sure to get rid of duplicate rows in the table."
   ]
  },
  {
   "cell_type": "code",
   "execution_count": 59,
   "id": "6a3768ef",
   "metadata": {},
   "outputs": [
    {
     "data": {
      "text/plain": [
       "0"
      ]
     },
     "execution_count": 59,
     "metadata": {},
     "output_type": "execute_result"
    }
   ],
   "source": [
    "df.duplicated().sum() # checking for duplicate lines"
   ]
  },
  {
   "cell_type": "markdown",
   "id": "97452d0f",
   "metadata": {},
   "source": [
    "The `education` column contains data written using letters of different case. First, let's parse this column using the `value_counts()` method."
   ]
  },
  {
   "cell_type": "code",
   "execution_count": 60,
   "id": "055e82b4",
   "metadata": {},
   "outputs": [
    {
     "data": {
      "text/plain": [
       "среднее                13704\n",
       "высшее                  4710\n",
       "СРЕДНЕЕ                  772\n",
       "Среднее                  711\n",
       "неоконченное высшее      668\n",
       "ВЫСШЕЕ                   273\n",
       "Высшее                   268\n",
       "начальное                250\n",
       "Неоконченное высшее       47\n",
       "НЕОКОНЧЕННОЕ ВЫСШЕЕ       29\n",
       "НАЧАЛЬНОЕ                 17\n",
       "Начальное                 15\n",
       "ученая степень             4\n",
       "Ученая степень             1\n",
       "УЧЕНАЯ СТЕПЕНЬ             1\n",
       "Name: education, dtype: int64"
      ]
     },
     "execution_count": 60,
     "metadata": {},
     "output_type": "execute_result"
    }
   ],
   "source": [
    "df['education'].value_counts() # counting implicit duplicates"
   ]
  },
  {
   "cell_type": "markdown",
   "id": "dca121fb",
   "metadata": {},
   "source": [
    "<div class=\"alert alert-block alert-info\">\n",
    "<b>Note:</b>\n",
    "    \n",
    "    The 'education' column shows the levels of education in Russian:\n",
    "    \n",
    "    * начальное - Elementary School\n",
    "    * среднее - Middle School\n",
    "    * неоконченное высшее - Some University Courses\n",
    "    * высшее - Master’s Degree\n",
    "    * ученая степень - Doctorate Degree\n",
    "</div>"
   ]
  },
  {
   "cell_type": "markdown",
   "id": "0c794aa3",
   "metadata": {},
   "source": [
    "Let's fix the different spelling of education data, bringing everything to the same register. Such spelling errors are common when entering data manually by different people."
   ]
  },
  {
   "cell_type": "code",
   "execution_count": 61,
   "id": "bb74e8a9",
   "metadata": {},
   "outputs": [
    {
     "data": {
      "text/plain": [
       "среднее                15187\n",
       "высшее                  5251\n",
       "неоконченное высшее      744\n",
       "начальное                282\n",
       "ученая степень             6\n",
       "Name: education, dtype: int64"
      ]
     },
     "execution_count": 61,
     "metadata": {},
     "output_type": "execute_result"
    }
   ],
   "source": [
    "df['education'] = df['education'].str.lower() # converting all characters in the 'education' column to lowercase\n",
    "df['education'].value_counts() # check"
   ]
  },
  {
   "cell_type": "markdown",
   "id": "d7481486",
   "metadata": {},
   "source": [
    "Additionally, we check the dataset by displaying the first ten lines on the screen."
   ]
  },
  {
   "cell_type": "code",
   "execution_count": 62,
   "id": "ce052f20",
   "metadata": {},
   "outputs": [
    {
     "data": {
      "text/html": [
       "<div>\n",
       "<style scoped>\n",
       "    .dataframe tbody tr th:only-of-type {\n",
       "        vertical-align: middle;\n",
       "    }\n",
       "\n",
       "    .dataframe tbody tr th {\n",
       "        vertical-align: top;\n",
       "    }\n",
       "\n",
       "    .dataframe thead th {\n",
       "        text-align: right;\n",
       "    }\n",
       "</style>\n",
       "<table border=\"1\" class=\"dataframe\">\n",
       "  <thead>\n",
       "    <tr style=\"text-align: right;\">\n",
       "      <th></th>\n",
       "      <th>children</th>\n",
       "      <th>days_employed</th>\n",
       "      <th>dob_years</th>\n",
       "      <th>education</th>\n",
       "      <th>education_id</th>\n",
       "      <th>family_status</th>\n",
       "      <th>family_status_id</th>\n",
       "      <th>gender</th>\n",
       "      <th>income_type</th>\n",
       "      <th>debt</th>\n",
       "      <th>total_income</th>\n",
       "      <th>purpose</th>\n",
       "    </tr>\n",
       "  </thead>\n",
       "  <tbody>\n",
       "    <tr>\n",
       "      <th>0</th>\n",
       "      <td>1</td>\n",
       "      <td>8437</td>\n",
       "      <td>42</td>\n",
       "      <td>высшее</td>\n",
       "      <td>0</td>\n",
       "      <td>женат / замужем</td>\n",
       "      <td>0</td>\n",
       "      <td>F</td>\n",
       "      <td>сотрудник</td>\n",
       "      <td>0</td>\n",
       "      <td>253875.64</td>\n",
       "      <td>покупка жилья</td>\n",
       "    </tr>\n",
       "    <tr>\n",
       "      <th>1</th>\n",
       "      <td>1</td>\n",
       "      <td>4024</td>\n",
       "      <td>36</td>\n",
       "      <td>среднее</td>\n",
       "      <td>1</td>\n",
       "      <td>женат / замужем</td>\n",
       "      <td>0</td>\n",
       "      <td>F</td>\n",
       "      <td>сотрудник</td>\n",
       "      <td>0</td>\n",
       "      <td>112080.01</td>\n",
       "      <td>приобретение автомобиля</td>\n",
       "    </tr>\n",
       "    <tr>\n",
       "      <th>2</th>\n",
       "      <td>0</td>\n",
       "      <td>5623</td>\n",
       "      <td>33</td>\n",
       "      <td>среднее</td>\n",
       "      <td>1</td>\n",
       "      <td>женат / замужем</td>\n",
       "      <td>0</td>\n",
       "      <td>M</td>\n",
       "      <td>сотрудник</td>\n",
       "      <td>0</td>\n",
       "      <td>145885.95</td>\n",
       "      <td>покупка жилья</td>\n",
       "    </tr>\n",
       "    <tr>\n",
       "      <th>3</th>\n",
       "      <td>3</td>\n",
       "      <td>4124</td>\n",
       "      <td>32</td>\n",
       "      <td>среднее</td>\n",
       "      <td>1</td>\n",
       "      <td>женат / замужем</td>\n",
       "      <td>0</td>\n",
       "      <td>M</td>\n",
       "      <td>сотрудник</td>\n",
       "      <td>0</td>\n",
       "      <td>267628.55</td>\n",
       "      <td>дополнительное образование</td>\n",
       "    </tr>\n",
       "    <tr>\n",
       "      <th>4</th>\n",
       "      <td>0</td>\n",
       "      <td>1816</td>\n",
       "      <td>53</td>\n",
       "      <td>среднее</td>\n",
       "      <td>1</td>\n",
       "      <td>гражданский брак</td>\n",
       "      <td>1</td>\n",
       "      <td>F</td>\n",
       "      <td>пенсионер</td>\n",
       "      <td>0</td>\n",
       "      <td>158616.08</td>\n",
       "      <td>сыграть свадьбу</td>\n",
       "    </tr>\n",
       "    <tr>\n",
       "      <th>5</th>\n",
       "      <td>0</td>\n",
       "      <td>926</td>\n",
       "      <td>27</td>\n",
       "      <td>высшее</td>\n",
       "      <td>0</td>\n",
       "      <td>гражданский брак</td>\n",
       "      <td>1</td>\n",
       "      <td>M</td>\n",
       "      <td>компаньон</td>\n",
       "      <td>0</td>\n",
       "      <td>255763.57</td>\n",
       "      <td>покупка жилья</td>\n",
       "    </tr>\n",
       "    <tr>\n",
       "      <th>6</th>\n",
       "      <td>0</td>\n",
       "      <td>2879</td>\n",
       "      <td>43</td>\n",
       "      <td>высшее</td>\n",
       "      <td>0</td>\n",
       "      <td>женат / замужем</td>\n",
       "      <td>0</td>\n",
       "      <td>F</td>\n",
       "      <td>компаньон</td>\n",
       "      <td>0</td>\n",
       "      <td>240525.97</td>\n",
       "      <td>операции с жильем</td>\n",
       "    </tr>\n",
       "    <tr>\n",
       "      <th>7</th>\n",
       "      <td>0</td>\n",
       "      <td>152</td>\n",
       "      <td>50</td>\n",
       "      <td>среднее</td>\n",
       "      <td>1</td>\n",
       "      <td>женат / замужем</td>\n",
       "      <td>0</td>\n",
       "      <td>M</td>\n",
       "      <td>сотрудник</td>\n",
       "      <td>0</td>\n",
       "      <td>135823.93</td>\n",
       "      <td>образование</td>\n",
       "    </tr>\n",
       "    <tr>\n",
       "      <th>8</th>\n",
       "      <td>2</td>\n",
       "      <td>6929</td>\n",
       "      <td>35</td>\n",
       "      <td>высшее</td>\n",
       "      <td>0</td>\n",
       "      <td>гражданский брак</td>\n",
       "      <td>1</td>\n",
       "      <td>F</td>\n",
       "      <td>сотрудник</td>\n",
       "      <td>0</td>\n",
       "      <td>95856.83</td>\n",
       "      <td>на проведение свадьбы</td>\n",
       "    </tr>\n",
       "    <tr>\n",
       "      <th>9</th>\n",
       "      <td>0</td>\n",
       "      <td>2188</td>\n",
       "      <td>41</td>\n",
       "      <td>среднее</td>\n",
       "      <td>1</td>\n",
       "      <td>женат / замужем</td>\n",
       "      <td>0</td>\n",
       "      <td>M</td>\n",
       "      <td>сотрудник</td>\n",
       "      <td>0</td>\n",
       "      <td>144425.94</td>\n",
       "      <td>покупка жилья для семьи</td>\n",
       "    </tr>\n",
       "  </tbody>\n",
       "</table>\n",
       "</div>"
      ],
      "text/plain": [
       "   children  days_employed  dob_years education  education_id  \\\n",
       "0         1           8437         42    высшее             0   \n",
       "1         1           4024         36   среднее             1   \n",
       "2         0           5623         33   среднее             1   \n",
       "3         3           4124         32   среднее             1   \n",
       "4         0           1816         53   среднее             1   \n",
       "5         0            926         27    высшее             0   \n",
       "6         0           2879         43    высшее             0   \n",
       "7         0            152         50   среднее             1   \n",
       "8         2           6929         35    высшее             0   \n",
       "9         0           2188         41   среднее             1   \n",
       "\n",
       "      family_status  family_status_id gender income_type  debt  total_income  \\\n",
       "0   женат / замужем                 0      F   сотрудник     0     253875.64   \n",
       "1   женат / замужем                 0      F   сотрудник     0     112080.01   \n",
       "2   женат / замужем                 0      M   сотрудник     0     145885.95   \n",
       "3   женат / замужем                 0      M   сотрудник     0     267628.55   \n",
       "4  гражданский брак                 1      F   пенсионер     0     158616.08   \n",
       "5  гражданский брак                 1      M   компаньон     0     255763.57   \n",
       "6   женат / замужем                 0      F   компаньон     0     240525.97   \n",
       "7   женат / замужем                 0      M   сотрудник     0     135823.93   \n",
       "8  гражданский брак                 1      F   сотрудник     0      95856.83   \n",
       "9   женат / замужем                 0      M   сотрудник     0     144425.94   \n",
       "\n",
       "                      purpose  \n",
       "0               покупка жилья  \n",
       "1     приобретение автомобиля  \n",
       "2               покупка жилья  \n",
       "3  дополнительное образование  \n",
       "4             сыграть свадьбу  \n",
       "5               покупка жилья  \n",
       "6           операции с жильем  \n",
       "7                 образование  \n",
       "8       на проведение свадьбы  \n",
       "9     покупка жилья для семьи  "
      ]
     },
     "execution_count": 62,
     "metadata": {},
     "output_type": "execute_result"
    }
   ],
   "source": [
    "df.head(10) # check"
   ]
  },
  {
   "cell_type": "markdown",
   "id": "51d7b5b4",
   "metadata": {},
   "source": [
    "Let's check the other columns for implicit duplicates."
   ]
  },
  {
   "cell_type": "code",
   "execution_count": 63,
   "id": "8a019ce0",
   "metadata": {},
   "outputs": [
    {
     "data": {
      "text/plain": [
       "женат / замужем          12344\n",
       "гражданский брак          4162\n",
       "Не женат / не замужем     2810\n",
       "в разводе                 1195\n",
       "вдовец / вдова             959\n",
       "Name: family_status, dtype: int64"
      ]
     },
     "execution_count": 63,
     "metadata": {},
     "output_type": "execute_result"
    }
   ],
   "source": [
    "df['family_status'].value_counts() # counting implicit duplicates in the 'family_status' column"
   ]
  },
  {
   "cell_type": "markdown",
   "id": "bfc51cf1",
   "metadata": {},
   "source": [
    "<div class=\"alert alert-block alert-info\">\n",
    "<b>Note:</b>\n",
    "    \n",
    "    The 'family_status' column shows the marital status in Russian:\n",
    "    \n",
    "    * женат / замужем - married\n",
    "    * гражданский брак - civil marriage\n",
    "    * не женат / не замужем - single\n",
    "    * в разводе - divorced\n",
    "    * вдовец / вдова - widower / widow\n",
    "</div>"
   ]
  },
  {
   "cell_type": "markdown",
   "id": "a3b10458",
   "metadata": {},
   "source": [
    "Here you can correct the spelling of the `Не женат / не замужем` (`Single`) category in lowercase letters, in a common style with the rest of the data in this column."
   ]
  },
  {
   "cell_type": "code",
   "execution_count": 64,
   "id": "e92efe40",
   "metadata": {},
   "outputs": [
    {
     "data": {
      "text/plain": [
       "женат / замужем          12344\n",
       "гражданский брак          4162\n",
       "не женат / не замужем     2810\n",
       "в разводе                 1195\n",
       "вдовец / вдова             959\n",
       "Name: family_status, dtype: int64"
      ]
     },
     "execution_count": 64,
     "metadata": {},
     "output_type": "execute_result"
    }
   ],
   "source": [
    "df['family_status'] = df['family_status'].replace('Не женат / не замужем','не женат / не замужем') # fix alternative category\n",
    "# value in 'family_status' column\n",
    "df['family_status'].value_counts() # check"
   ]
  },
  {
   "cell_type": "code",
   "execution_count": 65,
   "id": "4d1d3fb7",
   "metadata": {},
   "outputs": [
    {
     "data": {
      "text/plain": [
       "F      14188\n",
       "M       7281\n",
       "XNA        1\n",
       "Name: gender, dtype: int64"
      ]
     },
     "execution_count": 65,
     "metadata": {},
     "output_type": "execute_result"
    }
   ],
   "source": [
    "df['gender'].value_counts() # count implicit duplicates in 'gender' column"
   ]
  },
  {
   "cell_type": "markdown",
   "id": "1e80c95b",
   "metadata": {},
   "source": [
    "Output the entire string with the value `XNA`."
   ]
  },
  {
   "cell_type": "code",
   "execution_count": 66,
   "id": "270b09cc",
   "metadata": {},
   "outputs": [
    {
     "data": {
      "text/html": [
       "<div>\n",
       "<style scoped>\n",
       "    .dataframe tbody tr th:only-of-type {\n",
       "        vertical-align: middle;\n",
       "    }\n",
       "\n",
       "    .dataframe tbody tr th {\n",
       "        vertical-align: top;\n",
       "    }\n",
       "\n",
       "    .dataframe thead th {\n",
       "        text-align: right;\n",
       "    }\n",
       "</style>\n",
       "<table border=\"1\" class=\"dataframe\">\n",
       "  <thead>\n",
       "    <tr style=\"text-align: right;\">\n",
       "      <th></th>\n",
       "      <th>children</th>\n",
       "      <th>days_employed</th>\n",
       "      <th>dob_years</th>\n",
       "      <th>education</th>\n",
       "      <th>education_id</th>\n",
       "      <th>family_status</th>\n",
       "      <th>family_status_id</th>\n",
       "      <th>gender</th>\n",
       "      <th>income_type</th>\n",
       "      <th>debt</th>\n",
       "      <th>total_income</th>\n",
       "      <th>purpose</th>\n",
       "    </tr>\n",
       "  </thead>\n",
       "  <tbody>\n",
       "    <tr>\n",
       "      <th>10690</th>\n",
       "      <td>0</td>\n",
       "      <td>2358</td>\n",
       "      <td>24</td>\n",
       "      <td>неоконченное высшее</td>\n",
       "      <td>2</td>\n",
       "      <td>гражданский брак</td>\n",
       "      <td>1</td>\n",
       "      <td>XNA</td>\n",
       "      <td>компаньон</td>\n",
       "      <td>0</td>\n",
       "      <td>203905.16</td>\n",
       "      <td>покупка недвижимости</td>\n",
       "    </tr>\n",
       "  </tbody>\n",
       "</table>\n",
       "</div>"
      ],
      "text/plain": [
       "       children  days_employed  dob_years            education  education_id  \\\n",
       "10690         0           2358         24  неоконченное высшее             2   \n",
       "\n",
       "          family_status  family_status_id gender income_type  debt  \\\n",
       "10690  гражданский брак                 1    XNA   компаньон     0   \n",
       "\n",
       "       total_income               purpose  \n",
       "10690     203905.16  покупка недвижимости  "
      ]
     },
     "execution_count": 66,
     "metadata": {},
     "output_type": "execute_result"
    }
   ],
   "source": [
    "df[df['gender'] == 'XNA']"
   ]
  },
  {
   "cell_type": "markdown",
   "id": "2106504f",
   "metadata": {},
   "source": [
    "This did not clarify the situation, let's make a decision to replace `'XNA'` with `'M'`, since this value occurs only once in 21525 values and this will not affect the accuracy of calculations in the future."
   ]
  },
  {
   "cell_type": "code",
   "execution_count": 67,
   "id": "dc94ed95",
   "metadata": {},
   "outputs": [
    {
     "data": {
      "text/plain": [
       "'M'"
      ]
     },
     "execution_count": 67,
     "metadata": {},
     "output_type": "execute_result"
    }
   ],
   "source": [
    "df['gender'] = df['gender'].replace('XNA', 'M') # replacing 'XNA' with 'M'\n",
    "df.loc[10690, 'gender'] # check"
   ]
  },
  {
   "cell_type": "code",
   "execution_count": 68,
   "id": "92cc87ca",
   "metadata": {},
   "outputs": [
    {
     "data": {
      "text/plain": [
       "сотрудник          11090\n",
       "компаньон           5080\n",
       "пенсионер           3837\n",
       "госслужащий         1457\n",
       "безработный            2\n",
       "предприниматель        2\n",
       "студент                1\n",
       "в декрете              1\n",
       "Name: income_type, dtype: int64"
      ]
     },
     "execution_count": 68,
     "metadata": {},
     "output_type": "execute_result"
    }
   ],
   "source": [
    "df['income_type'].value_counts() # count implicit duplicates in 'income_type' column"
   ]
  },
  {
   "cell_type": "markdown",
   "id": "666e4366",
   "metadata": {},
   "source": [
    "<div class=\"alert alert-block alert-info\">\n",
    "<b>Note:</b>\n",
    "    \n",
    "    The 'income_type' column shows the type of employment in Russian:\n",
    "    \n",
    "    * сотрудник - employee\n",
    "    * компаньон - companion\n",
    "    * пенсионер - pensioner\n",
    "    * госслужащий - civil servant\n",
    "    * безработный - unemployed\n",
    "    * предприниматель - entrepreneur\n",
    "    * студент - student\n",
    "    * в декрете - on decree\n",
    "</div>"
   ]
  },
  {
   "cell_type": "markdown",
   "id": "610adb5b",
   "metadata": {},
   "source": [
    "Here the data is in order and does not require any adjustments."
   ]
  },
  {
   "cell_type": "code",
   "execution_count": 69,
   "id": "79df6f6d",
   "metadata": {},
   "outputs": [
    {
     "data": {
      "text/plain": [
       "свадьба                                   793\n",
       "на проведение свадьбы                     772\n",
       "сыграть свадьбу                           769\n",
       "операции с недвижимостью                  675\n",
       "покупка коммерческой недвижимости         662\n",
       "покупка жилья для сдачи                   652\n",
       "операции с жильем                         652\n",
       "операции с коммерческой недвижимостью     650\n",
       "покупка жилья                             646\n",
       "жилье                                     646\n",
       "покупка жилья для семьи                   638\n",
       "строительство собственной недвижимости    635\n",
       "недвижимость                              633\n",
       "операции со своей недвижимостью           627\n",
       "строительство жилой недвижимости          625\n",
       "покупка недвижимости                      621\n",
       "покупка своего жилья                      620\n",
       "строительство недвижимости                619\n",
       "ремонт жилью                              607\n",
       "покупка жилой недвижимости                606\n",
       "на покупку своего автомобиля              505\n",
       "заняться высшим образованием              496\n",
       "автомобиль                                494\n",
       "сделка с подержанным автомобилем          486\n",
       "свой автомобиль                           479\n",
       "на покупку подержанного автомобиля        478\n",
       "автомобили                                478\n",
       "на покупку автомобиля                     472\n",
       "приобретение автомобиля                   461\n",
       "дополнительное образование                460\n",
       "сделка с автомобилем                      455\n",
       "высшее образование                        452\n",
       "образование                               447\n",
       "получение дополнительного образования     447\n",
       "получение образования                     442\n",
       "профильное образование                    436\n",
       "получение высшего образования             426\n",
       "заняться образованием                     408\n",
       "Name: purpose, dtype: int64"
      ]
     },
     "execution_count": 69,
     "metadata": {},
     "output_type": "execute_result"
    }
   ],
   "source": [
    "df['purpose'].value_counts() # count implicit duplicates in 'purpose' column"
   ]
  },
  {
   "cell_type": "markdown",
   "id": "2f207d77",
   "metadata": {},
   "source": [
    "<div class=\"alert alert-block alert-info\">\n",
    "<b>Note:</b>    \n",
    "    The 'purpose' column shows the loan purposes in Russian, a note with the translation will be further in the section \"Categorization of the purposes of the loan.\"\n",
    "</div>"
   ]
  },
  {
   "cell_type": "markdown",
   "id": "cecb4a54",
   "metadata": {},
   "source": [
    "In my opinion, there are also implicit duplicates here. Similar loan purposes are written differently. You can reduce the number of loan purposes by combining similar ones, which I originally did. But the categorization of this type of data is present further in the project, so at this stage nothing needs to be done with this data."
   ]
  },
  {
   "cell_type": "markdown",
   "id": "11f0dfe5",
   "metadata": {},
   "source": [
    "### Creation of additional dataframes of dictionaries, decomposition of the original dataframe"
   ]
  },
  {
   "cell_type": "markdown",
   "id": "19a496a2",
   "metadata": {},
   "source": [
    "Let's create two new dataframes in which:\n",
    "* each unique value from `education` corresponds to a unique value `education_id` - in the first one;\n",
    "* each unique value from `family_status` corresponds to a unique value `family_status_id` - in the second."
   ]
  },
  {
   "cell_type": "code",
   "execution_count": 70,
   "id": "f2ca6de9",
   "metadata": {},
   "outputs": [],
   "source": [
    "education_log = df[['education','education_id']] # creating a dataframe in which each unique value from 'education'\n",
    "# matches the unique value of 'education_id'\n",
    "family_status_log = df[['family_status','family_status_id']] # creation of a dataframe in which each unique value\n",
    "# from 'family_status' matches the unique value of 'family_status_id'"
   ]
  },
  {
   "cell_type": "markdown",
   "id": "4b0854a9",
   "metadata": {},
   "source": [
    "Let's see what happens by displaying the first five lines of each dataframe."
   ]
  },
  {
   "cell_type": "code",
   "execution_count": 71,
   "id": "905085f8",
   "metadata": {},
   "outputs": [
    {
     "data": {
      "text/html": [
       "<div>\n",
       "<style scoped>\n",
       "    .dataframe tbody tr th:only-of-type {\n",
       "        vertical-align: middle;\n",
       "    }\n",
       "\n",
       "    .dataframe tbody tr th {\n",
       "        vertical-align: top;\n",
       "    }\n",
       "\n",
       "    .dataframe thead th {\n",
       "        text-align: right;\n",
       "    }\n",
       "</style>\n",
       "<table border=\"1\" class=\"dataframe\">\n",
       "  <thead>\n",
       "    <tr style=\"text-align: right;\">\n",
       "      <th></th>\n",
       "      <th>education</th>\n",
       "      <th>education_id</th>\n",
       "    </tr>\n",
       "  </thead>\n",
       "  <tbody>\n",
       "    <tr>\n",
       "      <th>0</th>\n",
       "      <td>высшее</td>\n",
       "      <td>0</td>\n",
       "    </tr>\n",
       "    <tr>\n",
       "      <th>1</th>\n",
       "      <td>среднее</td>\n",
       "      <td>1</td>\n",
       "    </tr>\n",
       "    <tr>\n",
       "      <th>2</th>\n",
       "      <td>среднее</td>\n",
       "      <td>1</td>\n",
       "    </tr>\n",
       "    <tr>\n",
       "      <th>3</th>\n",
       "      <td>среднее</td>\n",
       "      <td>1</td>\n",
       "    </tr>\n",
       "    <tr>\n",
       "      <th>4</th>\n",
       "      <td>среднее</td>\n",
       "      <td>1</td>\n",
       "    </tr>\n",
       "  </tbody>\n",
       "</table>\n",
       "</div>"
      ],
      "text/plain": [
       "  education  education_id\n",
       "0    высшее             0\n",
       "1   среднее             1\n",
       "2   среднее             1\n",
       "3   среднее             1\n",
       "4   среднее             1"
      ]
     },
     "execution_count": 71,
     "metadata": {},
     "output_type": "execute_result"
    }
   ],
   "source": [
    "education_log.head() # getting the first 5 rows of the 'education_log' dataframe"
   ]
  },
  {
   "cell_type": "markdown",
   "id": "f99dc531",
   "metadata": {},
   "source": [
    "<div class=\"alert alert-block alert-info\">\n",
    "<b>Note:</b>\n",
    "    \n",
    "    The 'education' column shows the levels of education in Russian:\n",
    "    \n",
    "    * начальное - Elementary School\n",
    "    * среднее - Middle School\n",
    "    * неоконченное высшее - Some University Courses\n",
    "    * высшее - Master’s Degree\n",
    "    * ученая степень - Doctorate Degree\n",
    "</div>"
   ]
  },
  {
   "cell_type": "code",
   "execution_count": 72,
   "id": "65c0795f",
   "metadata": {},
   "outputs": [
    {
     "data": {
      "text/html": [
       "<div>\n",
       "<style scoped>\n",
       "    .dataframe tbody tr th:only-of-type {\n",
       "        vertical-align: middle;\n",
       "    }\n",
       "\n",
       "    .dataframe tbody tr th {\n",
       "        vertical-align: top;\n",
       "    }\n",
       "\n",
       "    .dataframe thead th {\n",
       "        text-align: right;\n",
       "    }\n",
       "</style>\n",
       "<table border=\"1\" class=\"dataframe\">\n",
       "  <thead>\n",
       "    <tr style=\"text-align: right;\">\n",
       "      <th></th>\n",
       "      <th>family_status</th>\n",
       "      <th>family_status_id</th>\n",
       "    </tr>\n",
       "  </thead>\n",
       "  <tbody>\n",
       "    <tr>\n",
       "      <th>0</th>\n",
       "      <td>женат / замужем</td>\n",
       "      <td>0</td>\n",
       "    </tr>\n",
       "    <tr>\n",
       "      <th>1</th>\n",
       "      <td>женат / замужем</td>\n",
       "      <td>0</td>\n",
       "    </tr>\n",
       "    <tr>\n",
       "      <th>2</th>\n",
       "      <td>женат / замужем</td>\n",
       "      <td>0</td>\n",
       "    </tr>\n",
       "    <tr>\n",
       "      <th>3</th>\n",
       "      <td>женат / замужем</td>\n",
       "      <td>0</td>\n",
       "    </tr>\n",
       "    <tr>\n",
       "      <th>4</th>\n",
       "      <td>гражданский брак</td>\n",
       "      <td>1</td>\n",
       "    </tr>\n",
       "  </tbody>\n",
       "</table>\n",
       "</div>"
      ],
      "text/plain": [
       "      family_status  family_status_id\n",
       "0   женат / замужем                 0\n",
       "1   женат / замужем                 0\n",
       "2   женат / замужем                 0\n",
       "3   женат / замужем                 0\n",
       "4  гражданский брак                 1"
      ]
     },
     "execution_count": 72,
     "metadata": {},
     "output_type": "execute_result"
    }
   ],
   "source": [
    "family_status_log.head() # getting the first 5 rows of the 'family_status_log' dataframe"
   ]
  },
  {
   "cell_type": "markdown",
   "id": "971bf7a2",
   "metadata": {},
   "source": [
    "<div class=\"alert alert-block alert-info\">\n",
    "<b>Note:</b>\n",
    "    \n",
    "    The 'family_status' column shows the marital status in Russian:\n",
    "    \n",
    "    * женат / замужем - married\n",
    "    * гражданский брак - civil marriage\n",
    "    * не женат / не замужем - single\n",
    "    * в разводе - divorced\n",
    "    * вдовец / вдова - widower / widow\n",
    "</div>"
   ]
  },
  {
   "cell_type": "markdown",
   "id": "c1e8a657",
   "metadata": {},
   "source": [
    "Let's remove duplicates from the received dataframes."
   ]
  },
  {
   "cell_type": "code",
   "execution_count": 73,
   "id": "446fc9d6",
   "metadata": {},
   "outputs": [
    {
     "data": {
      "text/html": [
       "<div>\n",
       "<style scoped>\n",
       "    .dataframe tbody tr th:only-of-type {\n",
       "        vertical-align: middle;\n",
       "    }\n",
       "\n",
       "    .dataframe tbody tr th {\n",
       "        vertical-align: top;\n",
       "    }\n",
       "\n",
       "    .dataframe thead th {\n",
       "        text-align: right;\n",
       "    }\n",
       "</style>\n",
       "<table border=\"1\" class=\"dataframe\">\n",
       "  <thead>\n",
       "    <tr style=\"text-align: right;\">\n",
       "      <th></th>\n",
       "      <th>education</th>\n",
       "      <th>education_id</th>\n",
       "    </tr>\n",
       "  </thead>\n",
       "  <tbody>\n",
       "    <tr>\n",
       "      <th>0</th>\n",
       "      <td>высшее</td>\n",
       "      <td>0</td>\n",
       "    </tr>\n",
       "    <tr>\n",
       "      <th>1</th>\n",
       "      <td>среднее</td>\n",
       "      <td>1</td>\n",
       "    </tr>\n",
       "    <tr>\n",
       "      <th>2</th>\n",
       "      <td>неоконченное высшее</td>\n",
       "      <td>2</td>\n",
       "    </tr>\n",
       "    <tr>\n",
       "      <th>3</th>\n",
       "      <td>начальное</td>\n",
       "      <td>3</td>\n",
       "    </tr>\n",
       "    <tr>\n",
       "      <th>4</th>\n",
       "      <td>ученая степень</td>\n",
       "      <td>4</td>\n",
       "    </tr>\n",
       "  </tbody>\n",
       "</table>\n",
       "</div>"
      ],
      "text/plain": [
       "             education  education_id\n",
       "0               высшее             0\n",
       "1              среднее             1\n",
       "2  неоконченное высшее             2\n",
       "3            начальное             3\n",
       "4       ученая степень             4"
      ]
     },
     "metadata": {},
     "output_type": "display_data"
    },
    {
     "data": {
      "text/html": [
       "<div>\n",
       "<style scoped>\n",
       "    .dataframe tbody tr th:only-of-type {\n",
       "        vertical-align: middle;\n",
       "    }\n",
       "\n",
       "    .dataframe tbody tr th {\n",
       "        vertical-align: top;\n",
       "    }\n",
       "\n",
       "    .dataframe thead th {\n",
       "        text-align: right;\n",
       "    }\n",
       "</style>\n",
       "<table border=\"1\" class=\"dataframe\">\n",
       "  <thead>\n",
       "    <tr style=\"text-align: right;\">\n",
       "      <th></th>\n",
       "      <th>family_status</th>\n",
       "      <th>family_status_id</th>\n",
       "    </tr>\n",
       "  </thead>\n",
       "  <tbody>\n",
       "    <tr>\n",
       "      <th>0</th>\n",
       "      <td>женат / замужем</td>\n",
       "      <td>0</td>\n",
       "    </tr>\n",
       "    <tr>\n",
       "      <th>1</th>\n",
       "      <td>гражданский брак</td>\n",
       "      <td>1</td>\n",
       "    </tr>\n",
       "    <tr>\n",
       "      <th>2</th>\n",
       "      <td>вдовец / вдова</td>\n",
       "      <td>2</td>\n",
       "    </tr>\n",
       "    <tr>\n",
       "      <th>3</th>\n",
       "      <td>в разводе</td>\n",
       "      <td>3</td>\n",
       "    </tr>\n",
       "    <tr>\n",
       "      <th>4</th>\n",
       "      <td>не женат / не замужем</td>\n",
       "      <td>4</td>\n",
       "    </tr>\n",
       "  </tbody>\n",
       "</table>\n",
       "</div>"
      ],
      "text/plain": [
       "           family_status  family_status_id\n",
       "0        женат / замужем                 0\n",
       "1       гражданский брак                 1\n",
       "2         вдовец / вдова                 2\n",
       "3              в разводе                 3\n",
       "4  не женат / не замужем                 4"
      ]
     },
     "execution_count": 73,
     "metadata": {},
     "output_type": "execute_result"
    }
   ],
   "source": [
    "education_log = education_log.drop_duplicates().reset_index(drop=True) # removing duplicates from 'education log' dataframe\n",
    "family_status_log = family_status_log.drop_duplicates().reset_index(drop=True) # removing duplicates from dataframe 'family_status_log'\n",
    "display(education_log.head()) # check\n",
    "family_status_log.head() # check"
   ]
  },
  {
   "cell_type": "markdown",
   "id": "a03d4118",
   "metadata": {},
   "source": [
    "Let's remove the `education` and `family_status` columns from the original dataframe, leaving only their identifiers: `education_id` and `family_status_id`."
   ]
  },
  {
   "cell_type": "code",
   "execution_count": 74,
   "id": "7e1319cb",
   "metadata": {},
   "outputs": [
    {
     "data": {
      "text/html": [
       "<div>\n",
       "<style scoped>\n",
       "    .dataframe tbody tr th:only-of-type {\n",
       "        vertical-align: middle;\n",
       "    }\n",
       "\n",
       "    .dataframe tbody tr th {\n",
       "        vertical-align: top;\n",
       "    }\n",
       "\n",
       "    .dataframe thead th {\n",
       "        text-align: right;\n",
       "    }\n",
       "</style>\n",
       "<table border=\"1\" class=\"dataframe\">\n",
       "  <thead>\n",
       "    <tr style=\"text-align: right;\">\n",
       "      <th></th>\n",
       "      <th>children</th>\n",
       "      <th>days_employed</th>\n",
       "      <th>dob_years</th>\n",
       "      <th>education_id</th>\n",
       "      <th>family_status_id</th>\n",
       "      <th>gender</th>\n",
       "      <th>income_type</th>\n",
       "      <th>debt</th>\n",
       "      <th>total_income</th>\n",
       "      <th>purpose</th>\n",
       "    </tr>\n",
       "  </thead>\n",
       "  <tbody>\n",
       "    <tr>\n",
       "      <th>0</th>\n",
       "      <td>1</td>\n",
       "      <td>8437</td>\n",
       "      <td>42</td>\n",
       "      <td>0</td>\n",
       "      <td>0</td>\n",
       "      <td>F</td>\n",
       "      <td>сотрудник</td>\n",
       "      <td>0</td>\n",
       "      <td>253875.64</td>\n",
       "      <td>покупка жилья</td>\n",
       "    </tr>\n",
       "    <tr>\n",
       "      <th>1</th>\n",
       "      <td>1</td>\n",
       "      <td>4024</td>\n",
       "      <td>36</td>\n",
       "      <td>1</td>\n",
       "      <td>0</td>\n",
       "      <td>F</td>\n",
       "      <td>сотрудник</td>\n",
       "      <td>0</td>\n",
       "      <td>112080.01</td>\n",
       "      <td>приобретение автомобиля</td>\n",
       "    </tr>\n",
       "    <tr>\n",
       "      <th>2</th>\n",
       "      <td>0</td>\n",
       "      <td>5623</td>\n",
       "      <td>33</td>\n",
       "      <td>1</td>\n",
       "      <td>0</td>\n",
       "      <td>M</td>\n",
       "      <td>сотрудник</td>\n",
       "      <td>0</td>\n",
       "      <td>145885.95</td>\n",
       "      <td>покупка жилья</td>\n",
       "    </tr>\n",
       "    <tr>\n",
       "      <th>3</th>\n",
       "      <td>3</td>\n",
       "      <td>4124</td>\n",
       "      <td>32</td>\n",
       "      <td>1</td>\n",
       "      <td>0</td>\n",
       "      <td>M</td>\n",
       "      <td>сотрудник</td>\n",
       "      <td>0</td>\n",
       "      <td>267628.55</td>\n",
       "      <td>дополнительное образование</td>\n",
       "    </tr>\n",
       "    <tr>\n",
       "      <th>4</th>\n",
       "      <td>0</td>\n",
       "      <td>1816</td>\n",
       "      <td>53</td>\n",
       "      <td>1</td>\n",
       "      <td>1</td>\n",
       "      <td>F</td>\n",
       "      <td>пенсионер</td>\n",
       "      <td>0</td>\n",
       "      <td>158616.08</td>\n",
       "      <td>сыграть свадьбу</td>\n",
       "    </tr>\n",
       "  </tbody>\n",
       "</table>\n",
       "</div>"
      ],
      "text/plain": [
       "   children  days_employed  dob_years  education_id  family_status_id gender  \\\n",
       "0         1           8437         42             0                 0      F   \n",
       "1         1           4024         36             1                 0      F   \n",
       "2         0           5623         33             1                 0      M   \n",
       "3         3           4124         32             1                 0      M   \n",
       "4         0           1816         53             1                 1      F   \n",
       "\n",
       "  income_type  debt  total_income                     purpose  \n",
       "0   сотрудник     0     253875.64               покупка жилья  \n",
       "1   сотрудник     0     112080.01     приобретение автомобиля  \n",
       "2   сотрудник     0     145885.95               покупка жилья  \n",
       "3   сотрудник     0     267628.55  дополнительное образование  \n",
       "4   пенсионер     0     158616.08             сыграть свадьбу  "
      ]
     },
     "execution_count": 74,
     "metadata": {},
     "output_type": "execute_result"
    }
   ],
   "source": [
    "df = df.drop(columns=['education', 'family_status']) # removing columns 'education' and 'family_status'\n",
    "df.head() # check"
   ]
  },
  {
   "cell_type": "markdown",
   "id": "96499626",
   "metadata": {},
   "source": [
    "### Income categorization"
   ]
  },
  {
   "cell_type": "markdown",
   "id": "ab073be5",
   "metadata": {},
   "source": [
    "Let's create a `total_income_category` column, in which we will assign categories depending on the size of the client’s income:\n",
    "* 0–30000 — 'E';\n",
    "* 30001–50000 — 'D';\n",
    "* 50001–200000 — 'C';\n",
    "* 200001–1000000 — 'B';\n",
    "* 1000001 и выше — 'A'.\n",
    "\n",
    "First, let's create a function."
   ]
  },
  {
   "cell_type": "code",
   "execution_count": 75,
   "id": "f713f757",
   "metadata": {},
   "outputs": [],
   "source": [
    "def income_group(income): # returns the corresponding income group\n",
    "    if income <= 30000:\n",
    "        return 'E'\n",
    "    if income <= 50000:\n",
    "        return 'D'\n",
    "    if income <= 200000:\n",
    "        return 'C'\n",
    "    if income <= 1000000:\n",
    "        return 'B'\n",
    "    return 'A'"
   ]
  },
  {
   "cell_type": "markdown",
   "id": "456d439d",
   "metadata": {},
   "source": [
    "Let's create a new column `total_income_category`."
   ]
  },
  {
   "cell_type": "code",
   "execution_count": 76,
   "id": "2e533207",
   "metadata": {},
   "outputs": [
    {
     "data": {
      "text/html": [
       "<div>\n",
       "<style scoped>\n",
       "    .dataframe tbody tr th:only-of-type {\n",
       "        vertical-align: middle;\n",
       "    }\n",
       "\n",
       "    .dataframe tbody tr th {\n",
       "        vertical-align: top;\n",
       "    }\n",
       "\n",
       "    .dataframe thead th {\n",
       "        text-align: right;\n",
       "    }\n",
       "</style>\n",
       "<table border=\"1\" class=\"dataframe\">\n",
       "  <thead>\n",
       "    <tr style=\"text-align: right;\">\n",
       "      <th></th>\n",
       "      <th>children</th>\n",
       "      <th>days_employed</th>\n",
       "      <th>dob_years</th>\n",
       "      <th>education_id</th>\n",
       "      <th>family_status_id</th>\n",
       "      <th>gender</th>\n",
       "      <th>income_type</th>\n",
       "      <th>debt</th>\n",
       "      <th>total_income</th>\n",
       "      <th>purpose</th>\n",
       "      <th>total_income_category</th>\n",
       "    </tr>\n",
       "  </thead>\n",
       "  <tbody>\n",
       "    <tr>\n",
       "      <th>0</th>\n",
       "      <td>1</td>\n",
       "      <td>8437</td>\n",
       "      <td>42</td>\n",
       "      <td>0</td>\n",
       "      <td>0</td>\n",
       "      <td>F</td>\n",
       "      <td>сотрудник</td>\n",
       "      <td>0</td>\n",
       "      <td>253875.64</td>\n",
       "      <td>покупка жилья</td>\n",
       "      <td>B</td>\n",
       "    </tr>\n",
       "    <tr>\n",
       "      <th>1</th>\n",
       "      <td>1</td>\n",
       "      <td>4024</td>\n",
       "      <td>36</td>\n",
       "      <td>1</td>\n",
       "      <td>0</td>\n",
       "      <td>F</td>\n",
       "      <td>сотрудник</td>\n",
       "      <td>0</td>\n",
       "      <td>112080.01</td>\n",
       "      <td>приобретение автомобиля</td>\n",
       "      <td>C</td>\n",
       "    </tr>\n",
       "    <tr>\n",
       "      <th>2</th>\n",
       "      <td>0</td>\n",
       "      <td>5623</td>\n",
       "      <td>33</td>\n",
       "      <td>1</td>\n",
       "      <td>0</td>\n",
       "      <td>M</td>\n",
       "      <td>сотрудник</td>\n",
       "      <td>0</td>\n",
       "      <td>145885.95</td>\n",
       "      <td>покупка жилья</td>\n",
       "      <td>C</td>\n",
       "    </tr>\n",
       "    <tr>\n",
       "      <th>3</th>\n",
       "      <td>3</td>\n",
       "      <td>4124</td>\n",
       "      <td>32</td>\n",
       "      <td>1</td>\n",
       "      <td>0</td>\n",
       "      <td>M</td>\n",
       "      <td>сотрудник</td>\n",
       "      <td>0</td>\n",
       "      <td>267628.55</td>\n",
       "      <td>дополнительное образование</td>\n",
       "      <td>B</td>\n",
       "    </tr>\n",
       "    <tr>\n",
       "      <th>4</th>\n",
       "      <td>0</td>\n",
       "      <td>1816</td>\n",
       "      <td>53</td>\n",
       "      <td>1</td>\n",
       "      <td>1</td>\n",
       "      <td>F</td>\n",
       "      <td>пенсионер</td>\n",
       "      <td>0</td>\n",
       "      <td>158616.08</td>\n",
       "      <td>сыграть свадьбу</td>\n",
       "      <td>C</td>\n",
       "    </tr>\n",
       "  </tbody>\n",
       "</table>\n",
       "</div>"
      ],
      "text/plain": [
       "   children  days_employed  dob_years  education_id  family_status_id gender  \\\n",
       "0         1           8437         42             0                 0      F   \n",
       "1         1           4024         36             1                 0      F   \n",
       "2         0           5623         33             1                 0      M   \n",
       "3         3           4124         32             1                 0      M   \n",
       "4         0           1816         53             1                 1      F   \n",
       "\n",
       "  income_type  debt  total_income                     purpose  \\\n",
       "0   сотрудник     0     253875.64               покупка жилья   \n",
       "1   сотрудник     0     112080.01     приобретение автомобиля   \n",
       "2   сотрудник     0     145885.95               покупка жилья   \n",
       "3   сотрудник     0     267628.55  дополнительное образование   \n",
       "4   пенсионер     0     158616.08             сыграть свадьбу   \n",
       "\n",
       "  total_income_category  \n",
       "0                     B  \n",
       "1                     C  \n",
       "2                     C  \n",
       "3                     B  \n",
       "4                     C  "
      ]
     },
     "execution_count": 76,
     "metadata": {},
     "output_type": "execute_result"
    }
   ],
   "source": [
    "df['total_income_category'] = df['total_income'].apply(income_group) # creating a new column\n",
    "df.head() # check"
   ]
  },
  {
   "cell_type": "markdown",
   "id": "cd6ecad5",
   "metadata": {},
   "source": [
    "### Categorization of loan purposes"
   ]
  },
  {
   "cell_type": "markdown",
   "id": "ae987d93",
   "metadata": {},
   "source": [
    "Let's create a `purpose_category` column, in which we will assign categories depending on the purpose of obtaining a loan **(Russian (English)**:\n",
    "* 'операции с автомобилем' (*'car operations'*);\n",
    "* 'операции с недвижимостью' (*'real estate transactions'*);\n",
    "* 'проведение свадьбы' (*'holding a wedding'*);\n",
    "* 'получение образования' (*'getting an education'*).\n",
    "\n",
    "First, let's create a function."
   ]
  },
  {
   "cell_type": "code",
   "execution_count": 77,
   "id": "3e4aa14c",
   "metadata": {},
   "outputs": [],
   "source": [
    "def purpose_group(purpose): # returns the corresponding income group\n",
    "    if 'свадьб' in purpose:\n",
    "        return 'проведение свадьбы'\n",
    "    if 'образовани' in purpose:\n",
    "        return 'получение образования'\n",
    "    if 'автомобил' in purpose: \n",
    "        return 'операции с автомобилем'\n",
    "    return 'операции с недвижимостью'"
   ]
  },
  {
   "cell_type": "markdown",
   "id": "92949945",
   "metadata": {},
   "source": [
    "Let's create a new column `purpose_category`."
   ]
  },
  {
   "cell_type": "code",
   "execution_count": 78,
   "id": "9b7d764b",
   "metadata": {
    "scrolled": true
   },
   "outputs": [
    {
     "data": {
      "text/html": [
       "<div>\n",
       "<style scoped>\n",
       "    .dataframe tbody tr th:only-of-type {\n",
       "        vertical-align: middle;\n",
       "    }\n",
       "\n",
       "    .dataframe tbody tr th {\n",
       "        vertical-align: top;\n",
       "    }\n",
       "\n",
       "    .dataframe thead th {\n",
       "        text-align: right;\n",
       "    }\n",
       "</style>\n",
       "<table border=\"1\" class=\"dataframe\">\n",
       "  <thead>\n",
       "    <tr style=\"text-align: right;\">\n",
       "      <th></th>\n",
       "      <th>children</th>\n",
       "      <th>days_employed</th>\n",
       "      <th>dob_years</th>\n",
       "      <th>education_id</th>\n",
       "      <th>family_status_id</th>\n",
       "      <th>gender</th>\n",
       "      <th>income_type</th>\n",
       "      <th>debt</th>\n",
       "      <th>total_income</th>\n",
       "      <th>purpose</th>\n",
       "      <th>total_income_category</th>\n",
       "      <th>purpose_category</th>\n",
       "    </tr>\n",
       "  </thead>\n",
       "  <tbody>\n",
       "    <tr>\n",
       "      <th>0</th>\n",
       "      <td>1</td>\n",
       "      <td>8437</td>\n",
       "      <td>42</td>\n",
       "      <td>0</td>\n",
       "      <td>0</td>\n",
       "      <td>F</td>\n",
       "      <td>сотрудник</td>\n",
       "      <td>0</td>\n",
       "      <td>253875.64</td>\n",
       "      <td>покупка жилья</td>\n",
       "      <td>B</td>\n",
       "      <td>операции с недвижимостью</td>\n",
       "    </tr>\n",
       "    <tr>\n",
       "      <th>1</th>\n",
       "      <td>1</td>\n",
       "      <td>4024</td>\n",
       "      <td>36</td>\n",
       "      <td>1</td>\n",
       "      <td>0</td>\n",
       "      <td>F</td>\n",
       "      <td>сотрудник</td>\n",
       "      <td>0</td>\n",
       "      <td>112080.01</td>\n",
       "      <td>приобретение автомобиля</td>\n",
       "      <td>C</td>\n",
       "      <td>операции с автомобилем</td>\n",
       "    </tr>\n",
       "    <tr>\n",
       "      <th>2</th>\n",
       "      <td>0</td>\n",
       "      <td>5623</td>\n",
       "      <td>33</td>\n",
       "      <td>1</td>\n",
       "      <td>0</td>\n",
       "      <td>M</td>\n",
       "      <td>сотрудник</td>\n",
       "      <td>0</td>\n",
       "      <td>145885.95</td>\n",
       "      <td>покупка жилья</td>\n",
       "      <td>C</td>\n",
       "      <td>операции с недвижимостью</td>\n",
       "    </tr>\n",
       "    <tr>\n",
       "      <th>3</th>\n",
       "      <td>3</td>\n",
       "      <td>4124</td>\n",
       "      <td>32</td>\n",
       "      <td>1</td>\n",
       "      <td>0</td>\n",
       "      <td>M</td>\n",
       "      <td>сотрудник</td>\n",
       "      <td>0</td>\n",
       "      <td>267628.55</td>\n",
       "      <td>дополнительное образование</td>\n",
       "      <td>B</td>\n",
       "      <td>получение образования</td>\n",
       "    </tr>\n",
       "    <tr>\n",
       "      <th>4</th>\n",
       "      <td>0</td>\n",
       "      <td>1816</td>\n",
       "      <td>53</td>\n",
       "      <td>1</td>\n",
       "      <td>1</td>\n",
       "      <td>F</td>\n",
       "      <td>пенсионер</td>\n",
       "      <td>0</td>\n",
       "      <td>158616.08</td>\n",
       "      <td>сыграть свадьбу</td>\n",
       "      <td>C</td>\n",
       "      <td>проведение свадьбы</td>\n",
       "    </tr>\n",
       "  </tbody>\n",
       "</table>\n",
       "</div>"
      ],
      "text/plain": [
       "   children  days_employed  dob_years  education_id  family_status_id gender  \\\n",
       "0         1           8437         42             0                 0      F   \n",
       "1         1           4024         36             1                 0      F   \n",
       "2         0           5623         33             1                 0      M   \n",
       "3         3           4124         32             1                 0      M   \n",
       "4         0           1816         53             1                 1      F   \n",
       "\n",
       "  income_type  debt  total_income                     purpose  \\\n",
       "0   сотрудник     0     253875.64               покупка жилья   \n",
       "1   сотрудник     0     112080.01     приобретение автомобиля   \n",
       "2   сотрудник     0     145885.95               покупка жилья   \n",
       "3   сотрудник     0     267628.55  дополнительное образование   \n",
       "4   пенсионер     0     158616.08             сыграть свадьбу   \n",
       "\n",
       "  total_income_category          purpose_category  \n",
       "0                     B  операции с недвижимостью  \n",
       "1                     C    операции с автомобилем  \n",
       "2                     C  операции с недвижимостью  \n",
       "3                     B     получение образования  \n",
       "4                     C        проведение свадьбы  "
      ]
     },
     "execution_count": 78,
     "metadata": {},
     "output_type": "execute_result"
    }
   ],
   "source": [
    "df['purpose_category'] = df['purpose'].apply(purpose_group) # creating a new column\n",
    "df.head() # check"
   ]
  },
  {
   "cell_type": "markdown",
   "id": "7c886db5",
   "metadata": {},
   "source": [
    "Additionally, we will check the result of data categorization by loan purposes."
   ]
  },
  {
   "cell_type": "code",
   "execution_count": 79,
   "id": "e5facaa8",
   "metadata": {},
   "outputs": [
    {
     "data": {
      "text/plain": [
       "операции с недвижимостью    10814\n",
       "операции с автомобилем       4308\n",
       "получение образования        4014\n",
       "проведение свадьбы           2334\n",
       "Name: purpose_category, dtype: int64"
      ]
     },
     "execution_count": 79,
     "metadata": {},
     "output_type": "execute_result"
    }
   ],
   "source": [
    "df['purpose_category'].value_counts() # check"
   ]
  },
  {
   "cell_type": "markdown",
   "id": "69c4999d",
   "metadata": {},
   "source": [
    "<div class=\"alert alert-block alert-info\">\n",
    "<b>Note:</b>\n",
    "    \n",
    "    The 'purpose_category' column shows the loan purpose categories in Russian:\n",
    "    \n",
    "    * операции с автомобилем - car operations\n",
    "    * операции с недвижимостью - real estate transactions\n",
    "    * проведение свадьбы - holding a wedding\n",
    "    * получение образования - getting an education\n",
    "</div>"
   ]
  },
  {
   "cell_type": "markdown",
   "id": "d2b6b3bc",
   "metadata": {},
   "source": [
    "**Conclusions**\n",
    "\n",
    "Preprocessing found several problems in the data:\n",
    "\n",
    "- violations in the display of data (use of letters of different case, the number of decimal places, negative values, abnormally large values),\n",
    "- missing values,\n",
    "- duplicates - explicit and implicit.\n",
    "\n",
    "Having corrected the problems, we simplified the work with the table, which in the future will help to make the study more accurate.\n",
    "\n",
    "Work has also been done on data categorization and dataframe decomposition, which will help simplify hypothesis testing."
   ]
  },
  {
   "cell_type": "markdown",
   "id": "1564a5a8",
   "metadata": {},
   "source": [
    "## Hypothesis testing"
   ]
  },
  {
   "cell_type": "markdown",
   "id": "441efc6d",
   "metadata": {},
   "source": [
    "### Dependence of loan repayment on time on the number of children"
   ]
  },
  {
   "cell_type": "markdown",
   "id": "c91721c8",
   "metadata": {},
   "source": [
    "It is necessary to compare information on the number of children in the family and the presence of debt on loans. To do this, we will form a pivot table according to the following principle - the first column `children` will display the number of children in the family, the second column `children len` will display the number of families with the current number of children, the third column `debt mean` will display the proportion families that are in debt with the current number of children (arithmetic average of the data from the 'debt' column), the fourth column `debt sum` will display the number of families indebted with the current number of children."
   ]
  },
  {
   "cell_type": "code",
   "execution_count": 80,
   "id": "243606c4",
   "metadata": {},
   "outputs": [],
   "source": [
    "import numpy as np # importing the numpy library"
   ]
  },
  {
   "cell_type": "code",
   "execution_count": 81,
   "id": "01102f7b",
   "metadata": {},
   "outputs": [
    {
     "data": {
      "text/html": [
       "<div>\n",
       "<style scoped>\n",
       "    .dataframe tbody tr th:only-of-type {\n",
       "        vertical-align: middle;\n",
       "    }\n",
       "\n",
       "    .dataframe tbody tr th {\n",
       "        vertical-align: top;\n",
       "    }\n",
       "\n",
       "    .dataframe thead tr th {\n",
       "        text-align: left;\n",
       "    }\n",
       "\n",
       "    .dataframe thead tr:last-of-type th {\n",
       "        text-align: right;\n",
       "    }\n",
       "</style>\n",
       "<table border=\"1\" class=\"dataframe\">\n",
       "  <thead>\n",
       "    <tr>\n",
       "      <th></th>\n",
       "      <th>children</th>\n",
       "      <th colspan=\"2\" halign=\"left\">debt</th>\n",
       "    </tr>\n",
       "    <tr>\n",
       "      <th></th>\n",
       "      <th>len</th>\n",
       "      <th>mean</th>\n",
       "      <th>sum</th>\n",
       "    </tr>\n",
       "    <tr>\n",
       "      <th>children</th>\n",
       "      <th></th>\n",
       "      <th></th>\n",
       "      <th></th>\n",
       "    </tr>\n",
       "  </thead>\n",
       "  <tbody>\n",
       "    <tr>\n",
       "      <th>0</th>\n",
       "      <td>14106</td>\n",
       "      <td>0.075358</td>\n",
       "      <td>1063.0</td>\n",
       "    </tr>\n",
       "    <tr>\n",
       "      <th>1</th>\n",
       "      <td>4856</td>\n",
       "      <td>0.091639</td>\n",
       "      <td>445.0</td>\n",
       "    </tr>\n",
       "    <tr>\n",
       "      <th>2</th>\n",
       "      <td>2128</td>\n",
       "      <td>0.094925</td>\n",
       "      <td>202.0</td>\n",
       "    </tr>\n",
       "    <tr>\n",
       "      <th>3</th>\n",
       "      <td>330</td>\n",
       "      <td>0.081818</td>\n",
       "      <td>27.0</td>\n",
       "    </tr>\n",
       "    <tr>\n",
       "      <th>4</th>\n",
       "      <td>41</td>\n",
       "      <td>0.097561</td>\n",
       "      <td>4.0</td>\n",
       "    </tr>\n",
       "    <tr>\n",
       "      <th>5</th>\n",
       "      <td>9</td>\n",
       "      <td>0.000000</td>\n",
       "      <td>0.0</td>\n",
       "    </tr>\n",
       "  </tbody>\n",
       "</table>\n",
       "</div>"
      ],
      "text/plain": [
       "         children      debt        \n",
       "              len      mean     sum\n",
       "children                           \n",
       "0           14106  0.075358  1063.0\n",
       "1            4856  0.091639   445.0\n",
       "2            2128  0.094925   202.0\n",
       "3             330  0.081818    27.0\n",
       "4              41  0.097561     4.0\n",
       "5               9  0.000000     0.0"
      ]
     },
     "execution_count": 81,
     "metadata": {},
     "output_type": "execute_result"
    }
   ],
   "source": [
    "df.pivot_table(index='children', aggfunc={'children': len, 'debt': [np.mean, np.sum]}) # compilation of a pivot table"
   ]
  },
  {
   "cell_type": "markdown",
   "id": "0d15aa6d",
   "metadata": {},
   "source": [
    "### Conclusion on the first hypothesis"
   ]
  },
  {
   "cell_type": "markdown",
   "id": "7f96e862",
   "metadata": {},
   "source": [
    "Based on the results of testing the first hypothesis, we see that with the maximum number of children in the family (5), there are no loan debts. In groups with 1 to 4 children, the percentage of families with loan debt varies from 8.18% to 9.76%. In the absence of children, the percentage of families with loan debts is 7.54% of the group. This allows us to conclude that families with the number of children 0 and 5, as a rule, either do not have debts or try to repay them on time. Families with 1 to 4 children may be in default on loans."
   ]
  },
  {
   "cell_type": "markdown",
   "id": "4eb6dc3b",
   "metadata": {},
   "source": [
    "### Dependence of loan repayment on time on marital status"
   ]
  },
  {
   "cell_type": "markdown",
   "id": "98e27fde",
   "metadata": {},
   "source": [
    "It is necessary to compare information on marital status and the presence of debt on loans. To do this, we will form a pivot table according to the following principle - in the first column `family_status_id` we will display marital status, in the second column `debt mean` we will display the proportion of customers who have debts with the current family status (arithmetic average of the data from the 'debt '), the third column `debt sum` will display the number of clients who have debts with the current family status, the fourth column `family_status_id len` will display the number of clients with the current family status. Keep in mind that in previous iterations, the `family_status` column was removed from the original dataframe."
   ]
  },
  {
   "cell_type": "code",
   "execution_count": 82,
   "id": "b2401c16",
   "metadata": {},
   "outputs": [
    {
     "data": {
      "text/html": [
       "<div>\n",
       "<style scoped>\n",
       "    .dataframe tbody tr th:only-of-type {\n",
       "        vertical-align: middle;\n",
       "    }\n",
       "\n",
       "    .dataframe tbody tr th {\n",
       "        vertical-align: top;\n",
       "    }\n",
       "\n",
       "    .dataframe thead tr th {\n",
       "        text-align: left;\n",
       "    }\n",
       "\n",
       "    .dataframe thead tr:last-of-type th {\n",
       "        text-align: right;\n",
       "    }\n",
       "</style>\n",
       "<table border=\"1\" class=\"dataframe\">\n",
       "  <thead>\n",
       "    <tr>\n",
       "      <th></th>\n",
       "      <th colspan=\"2\" halign=\"left\">debt</th>\n",
       "      <th>family_status_id</th>\n",
       "    </tr>\n",
       "    <tr>\n",
       "      <th></th>\n",
       "      <th>mean</th>\n",
       "      <th>sum</th>\n",
       "      <th>len</th>\n",
       "    </tr>\n",
       "    <tr>\n",
       "      <th>family_status_id</th>\n",
       "      <th></th>\n",
       "      <th></th>\n",
       "      <th></th>\n",
       "    </tr>\n",
       "  </thead>\n",
       "  <tbody>\n",
       "    <tr>\n",
       "      <th>0</th>\n",
       "      <td>0.075421</td>\n",
       "      <td>931.0</td>\n",
       "      <td>12344</td>\n",
       "    </tr>\n",
       "    <tr>\n",
       "      <th>1</th>\n",
       "      <td>0.093224</td>\n",
       "      <td>388.0</td>\n",
       "      <td>4162</td>\n",
       "    </tr>\n",
       "    <tr>\n",
       "      <th>2</th>\n",
       "      <td>0.065693</td>\n",
       "      <td>63.0</td>\n",
       "      <td>959</td>\n",
       "    </tr>\n",
       "    <tr>\n",
       "      <th>3</th>\n",
       "      <td>0.071130</td>\n",
       "      <td>85.0</td>\n",
       "      <td>1195</td>\n",
       "    </tr>\n",
       "    <tr>\n",
       "      <th>4</th>\n",
       "      <td>0.097509</td>\n",
       "      <td>274.0</td>\n",
       "      <td>2810</td>\n",
       "    </tr>\n",
       "  </tbody>\n",
       "</table>\n",
       "</div>"
      ],
      "text/plain": [
       "                      debt        family_status_id\n",
       "                      mean    sum              len\n",
       "family_status_id                                  \n",
       "0                 0.075421  931.0            12344\n",
       "1                 0.093224  388.0             4162\n",
       "2                 0.065693   63.0              959\n",
       "3                 0.071130   85.0             1195\n",
       "4                 0.097509  274.0             2810"
      ]
     },
     "execution_count": 82,
     "metadata": {},
     "output_type": "execute_result"
    }
   ],
   "source": [
    "df.pivot_table(index='family_status_id', aggfunc={'family_status_id': len,\n",
    "                                                  'debt': [np.mean, np.sum]}) # compilation of a pivot table"
   ]
  },
  {
   "cell_type": "code",
   "execution_count": 85,
   "id": "ea0f8ebd",
   "metadata": {},
   "outputs": [
    {
     "data": {
      "text/html": [
       "<div>\n",
       "<style scoped>\n",
       "    .dataframe tbody tr th:only-of-type {\n",
       "        vertical-align: middle;\n",
       "    }\n",
       "\n",
       "    .dataframe tbody tr th {\n",
       "        vertical-align: top;\n",
       "    }\n",
       "\n",
       "    .dataframe thead th {\n",
       "        text-align: right;\n",
       "    }\n",
       "</style>\n",
       "<table border=\"1\" class=\"dataframe\">\n",
       "  <thead>\n",
       "    <tr style=\"text-align: right;\">\n",
       "      <th></th>\n",
       "      <th>family_status</th>\n",
       "      <th>family_status_id</th>\n",
       "    </tr>\n",
       "  </thead>\n",
       "  <tbody>\n",
       "    <tr>\n",
       "      <th>0</th>\n",
       "      <td>женат / замужем</td>\n",
       "      <td>0</td>\n",
       "    </tr>\n",
       "    <tr>\n",
       "      <th>1</th>\n",
       "      <td>гражданский брак</td>\n",
       "      <td>1</td>\n",
       "    </tr>\n",
       "    <tr>\n",
       "      <th>2</th>\n",
       "      <td>вдовец / вдова</td>\n",
       "      <td>2</td>\n",
       "    </tr>\n",
       "    <tr>\n",
       "      <th>3</th>\n",
       "      <td>в разводе</td>\n",
       "      <td>3</td>\n",
       "    </tr>\n",
       "    <tr>\n",
       "      <th>4</th>\n",
       "      <td>не женат / не замужем</td>\n",
       "      <td>4</td>\n",
       "    </tr>\n",
       "  </tbody>\n",
       "</table>\n",
       "</div>"
      ],
      "text/plain": [
       "           family_status  family_status_id\n",
       "0        женат / замужем                 0\n",
       "1       гражданский брак                 1\n",
       "2         вдовец / вдова                 2\n",
       "3              в разводе                 3\n",
       "4  не женат / не замужем                 4"
      ]
     },
     "execution_count": 85,
     "metadata": {},
     "output_type": "execute_result"
    }
   ],
   "source": [
    "family_status_log # cheat sheet"
   ]
  },
  {
   "cell_type": "markdown",
   "id": "54fbe6c4",
   "metadata": {},
   "source": [
    "<div class=\"alert alert-block alert-info\">\n",
    "<b>Note:</b>\n",
    "    \n",
    "    The 'family_status' column shows the marital status in Russian:\n",
    "    \n",
    "    * женат / замужем - married\n",
    "    * гражданский брак - civil marriage\n",
    "    * не женат / не замужем - single\n",
    "    * в разводе - divorced\n",
    "    * вдовец / вдова - widower / widow\n",
    "</div>"
   ]
  },
  {
   "cell_type": "markdown",
   "id": "f16da9b8",
   "metadata": {},
   "source": [
    "### Conclusion on the second hypothesis"
   ]
  },
  {
   "cell_type": "markdown",
   "id": "5adc4e48",
   "metadata": {},
   "source": [
    "Based on the results of testing the second hypothesis, we see that the largest number of debts is owned by unmarried and civil-married clients, 9.75% and 9.32%, respectively. Married and divorced clients average 7.54% and 7.11%. Widowers/widows are the most careful about their debts, they are only 6.57% of the group."
   ]
  },
  {
   "cell_type": "markdown",
   "id": "ae3d8604",
   "metadata": {},
   "source": [
    "### The dependence of the loan repayment on time on the level of income"
   ]
  },
  {
   "cell_type": "markdown",
   "id": "971c0964",
   "metadata": {},
   "source": [
    "It is necessary to compare information on the level of income and the presence of debt on loans. To do this, we will form a pivot table according to the following principle - in the first column `total_income_category` we will display the client's income category, the second column `debt mean` will display the proportion of clients who have debts at the current income category (arithmetic average of the data from the column ' debt'), the third column `debt sum` will display the number of clients who have debts for the current income category, the fourth column `total_income_category len` will display the number of clients from the current income category. At the same time, it should be remembered that in previous iterations, customers were categorized by income level."
   ]
  },
  {
   "cell_type": "code",
   "execution_count": 84,
   "id": "684f9f94",
   "metadata": {},
   "outputs": [
    {
     "data": {
      "text/html": [
       "<div>\n",
       "<style scoped>\n",
       "    .dataframe tbody tr th:only-of-type {\n",
       "        vertical-align: middle;\n",
       "    }\n",
       "\n",
       "    .dataframe tbody tr th {\n",
       "        vertical-align: top;\n",
       "    }\n",
       "\n",
       "    .dataframe thead tr th {\n",
       "        text-align: left;\n",
       "    }\n",
       "\n",
       "    .dataframe thead tr:last-of-type th {\n",
       "        text-align: right;\n",
       "    }\n",
       "</style>\n",
       "<table border=\"1\" class=\"dataframe\">\n",
       "  <thead>\n",
       "    <tr>\n",
       "      <th></th>\n",
       "      <th colspan=\"2\" halign=\"left\">debt</th>\n",
       "      <th>total_income_category</th>\n",
       "    </tr>\n",
       "    <tr>\n",
       "      <th></th>\n",
       "      <th>mean</th>\n",
       "      <th>sum</th>\n",
       "      <th>len</th>\n",
       "    </tr>\n",
       "    <tr>\n",
       "      <th>total_income_category</th>\n",
       "      <th></th>\n",
       "      <th></th>\n",
       "      <th></th>\n",
       "    </tr>\n",
       "  </thead>\n",
       "  <tbody>\n",
       "    <tr>\n",
       "      <th>A</th>\n",
       "      <td>0.080000</td>\n",
       "      <td>2.0</td>\n",
       "      <td>25</td>\n",
       "    </tr>\n",
       "    <tr>\n",
       "      <th>B</th>\n",
       "      <td>0.070607</td>\n",
       "      <td>356.0</td>\n",
       "      <td>5042</td>\n",
       "    </tr>\n",
       "    <tr>\n",
       "      <th>C</th>\n",
       "      <td>0.084836</td>\n",
       "      <td>1360.0</td>\n",
       "      <td>16031</td>\n",
       "    </tr>\n",
       "    <tr>\n",
       "      <th>D</th>\n",
       "      <td>0.060000</td>\n",
       "      <td>21.0</td>\n",
       "      <td>350</td>\n",
       "    </tr>\n",
       "    <tr>\n",
       "      <th>E</th>\n",
       "      <td>0.090909</td>\n",
       "      <td>2.0</td>\n",
       "      <td>22</td>\n",
       "    </tr>\n",
       "  </tbody>\n",
       "</table>\n",
       "</div>"
      ],
      "text/plain": [
       "                           debt         total_income_category\n",
       "                           mean     sum                   len\n",
       "total_income_category                                        \n",
       "A                      0.080000     2.0                    25\n",
       "B                      0.070607   356.0                  5042\n",
       "C                      0.084836  1360.0                 16031\n",
       "D                      0.060000    21.0                   350\n",
       "E                      0.090909     2.0                    22"
      ]
     },
     "execution_count": 84,
     "metadata": {},
     "output_type": "execute_result"
    }
   ],
   "source": [
    "df.pivot_table(index='total_income_category', aggfunc={'total_income_category': len,\n",
    "                                                       'debt': [np.mean, np.sum]}) # compilation of a pivot table"
   ]
  },
  {
   "cell_type": "markdown",
   "id": "2dc0096a",
   "metadata": {},
   "source": [
    "Cheat sheet by income category:\n",
    "* 0–30000 — 'E';\n",
    "* 30001–50000 — 'D';\n",
    "* 50001–200000 — 'C';\n",
    "* 200001–1000000 — 'B';\n",
    "* 1000001 и выше — 'A'."
   ]
  },
  {
   "cell_type": "markdown",
   "id": "cfe86edc",
   "metadata": {},
   "source": [
    "### Conclusion on the third hypothesis"
   ]
  },
  {
   "cell_type": "markdown",
   "id": "fcb38149",
   "metadata": {},
   "source": [
    "According to the results of testing the third hypothesis, we see that the largest number of delays is allowed by customers with a minimum income level (0-30000), they are 9.09% of the group. Clients with maximum (1000001 and above) and average income (50001-200000) have an average of 8.48% and 8.00%. Clients with an income of \"above average\" (200001-1000000) and \"below average\" (30001-50000) are the most accurate in terms of loan repayments on time, their rates are 7.06% and 6.00% respectively."
   ]
  },
  {
   "cell_type": "markdown",
   "id": "db3fdce5",
   "metadata": {},
   "source": [
    "### Influence of different goals on loan repayment on time"
   ]
  },
  {
   "cell_type": "markdown",
   "id": "ee4577f9",
   "metadata": {},
   "source": [
    "It is necessary to compare information on the purpose of the loan and the presence of debt on loans. To do this, a pivot table according to the following principle - in the first column `purpose_category` we will display the purpose of the client's loan, in the second column `debt mean` the proportion of customers who have debts with the current purpose of the loan will be displayed (arithmetic average of the data from the column 'debt '), the third column `debt sum` will display the number of customers who have debts for the current purpose of the loan, the fourth column `purpose_category len` will show the number of customers with the current purpose of the loan. At the same time, it should be remembered that in previous iterations, customers were categorized according to the purpose of the loan."
   ]
  },
  {
   "cell_type": "code",
   "execution_count": 86,
   "id": "9da38d78",
   "metadata": {},
   "outputs": [
    {
     "data": {
      "text/html": [
       "<div>\n",
       "<style scoped>\n",
       "    .dataframe tbody tr th:only-of-type {\n",
       "        vertical-align: middle;\n",
       "    }\n",
       "\n",
       "    .dataframe tbody tr th {\n",
       "        vertical-align: top;\n",
       "    }\n",
       "\n",
       "    .dataframe thead tr th {\n",
       "        text-align: left;\n",
       "    }\n",
       "\n",
       "    .dataframe thead tr:last-of-type th {\n",
       "        text-align: right;\n",
       "    }\n",
       "</style>\n",
       "<table border=\"1\" class=\"dataframe\">\n",
       "  <thead>\n",
       "    <tr>\n",
       "      <th></th>\n",
       "      <th colspan=\"2\" halign=\"left\">debt</th>\n",
       "      <th>purpose_category</th>\n",
       "    </tr>\n",
       "    <tr>\n",
       "      <th></th>\n",
       "      <th>mean</th>\n",
       "      <th>sum</th>\n",
       "      <th>len</th>\n",
       "    </tr>\n",
       "    <tr>\n",
       "      <th>purpose_category</th>\n",
       "      <th></th>\n",
       "      <th></th>\n",
       "      <th></th>\n",
       "    </tr>\n",
       "  </thead>\n",
       "  <tbody>\n",
       "    <tr>\n",
       "      <th>операции с автомобилем</th>\n",
       "      <td>0.093547</td>\n",
       "      <td>403.0</td>\n",
       "      <td>4308</td>\n",
       "    </tr>\n",
       "    <tr>\n",
       "      <th>операции с недвижимостью</th>\n",
       "      <td>0.072314</td>\n",
       "      <td>782.0</td>\n",
       "      <td>10814</td>\n",
       "    </tr>\n",
       "    <tr>\n",
       "      <th>получение образования</th>\n",
       "      <td>0.092177</td>\n",
       "      <td>370.0</td>\n",
       "      <td>4014</td>\n",
       "    </tr>\n",
       "    <tr>\n",
       "      <th>проведение свадьбы</th>\n",
       "      <td>0.079692</td>\n",
       "      <td>186.0</td>\n",
       "      <td>2334</td>\n",
       "    </tr>\n",
       "  </tbody>\n",
       "</table>\n",
       "</div>"
      ],
      "text/plain": [
       "                              debt        purpose_category\n",
       "                              mean    sum              len\n",
       "purpose_category                                          \n",
       "операции с автомобилем    0.093547  403.0             4308\n",
       "операции с недвижимостью  0.072314  782.0            10814\n",
       "получение образования     0.092177  370.0             4014\n",
       "проведение свадьбы        0.079692  186.0             2334"
      ]
     },
     "execution_count": 86,
     "metadata": {},
     "output_type": "execute_result"
    }
   ],
   "source": [
    "df.pivot_table(index='purpose_category', aggfunc={'purpose_category': len,\n",
    "                                                  'debt': [np.mean, np.sum]}) # compilation of a pivot table"
   ]
  },
  {
   "cell_type": "markdown",
   "id": "a86f3918",
   "metadata": {},
   "source": [
    "<div class=\"alert alert-block alert-info\">\n",
    "<b>Note:</b>\n",
    "    \n",
    "    The 'purpose_category' column shows the loan purpose categories in Russian:\n",
    "    \n",
    "    * операции с автомобилем - car operations\n",
    "    * операции с недвижимостью - real estate transactions\n",
    "    * проведение свадьбы - holding a wedding\n",
    "    * получение образования - getting an education\n",
    "</div>"
   ]
  },
  {
   "cell_type": "markdown",
   "id": "d261e9b9",
   "metadata": {},
   "source": [
    "### Conclusion on the fourth hypothesis"
   ]
  },
  {
   "cell_type": "markdown",
   "id": "04e4e4f1",
   "metadata": {},
   "source": [
    "According to the results of testing the fourth hypothesis, we see that the largest number of delinquencies are allowed by customers who plan to take loans for car operations and education, they are 9.35% and 9.22% of the groups. Clients planning to take out a loan for real estate transactions and weddings try to avoid delays, their rates are 7.23% and 7.97%, respectively."
   ]
  },
  {
   "cell_type": "markdown",
   "id": "e3893cbc",
   "metadata": {},
   "source": [
    "## Research results"
   ]
  },
  {
   "cell_type": "markdown",
   "id": "230ed2b9",
   "metadata": {},
   "source": [
    "I tested four hypotheses and found:\n",
    "\n",
    "1. The number of children affects the loan repayment term.\n",
    "2. Marital status affects the loan repayment period.\n",
    "3. The level of income affects the loan repayment period.\n",
    "4. The purpose of the loan affects the repayment term of the loan.\n",
    "\n",
    "All hypotheses were confirmed.\n",
    "However, during the audit it turned out that it is not worth making unambiguous conclusions on the degree of solvency of the client based on the data provided. For example, clients with a large number of children are more responsible for paying off debts, but clients with a high level of income, on the contrary. The study also led to the conclusion that the stereotype regarding the low solvency of clients who take out a loan for the purpose of holding a wedding is untenable.\n",
    "\n",
    "Various customer data allow you to make reasonable forecasts of solvency. In the development of this topic, in the future, you can assign subcategories of clients that take into account the totality of data, on which, in fact, the scoring calculation methods are based."
   ]
  }
 ],
 "metadata": {
  "ExecuteTimeLog": [
   {
    "duration": 688,
    "start_time": "2022-03-04T08:21:10.311Z"
   },
   {
    "duration": 68,
    "start_time": "2022-03-04T08:33:27.933Z"
   },
   {
    "duration": 12,
    "start_time": "2022-03-04T08:36:22.383Z"
   },
   {
    "duration": 14,
    "start_time": "2022-03-04T08:59:17.165Z"
   },
   {
    "duration": 17,
    "start_time": "2022-03-04T08:59:46.377Z"
   },
   {
    "duration": 16,
    "start_time": "2022-03-04T09:00:37.451Z"
   },
   {
    "duration": 63,
    "start_time": "2022-03-04T09:01:10.772Z"
   },
   {
    "duration": 10,
    "start_time": "2022-03-04T09:06:54.025Z"
   },
   {
    "duration": 6,
    "start_time": "2022-03-04T09:57:39.010Z"
   },
   {
    "duration": 6,
    "start_time": "2022-03-04T09:59:30.684Z"
   },
   {
    "duration": 10,
    "start_time": "2022-03-04T11:54:20.262Z"
   },
   {
    "duration": 16,
    "start_time": "2022-03-04T11:56:43.758Z"
   },
   {
    "duration": 4,
    "start_time": "2022-03-04T12:13:42.622Z"
   },
   {
    "duration": 15,
    "start_time": "2022-03-04T12:14:22.658Z"
   },
   {
    "duration": 3,
    "start_time": "2022-03-04T12:21:37.223Z"
   },
   {
    "duration": 14,
    "start_time": "2022-03-04T12:22:18.228Z"
   },
   {
    "duration": 17,
    "start_time": "2022-03-04T12:26:39.760Z"
   },
   {
    "duration": 23,
    "start_time": "2022-03-04T12:27:54.298Z"
   },
   {
    "duration": 41,
    "start_time": "2022-03-04T12:28:13.661Z"
   },
   {
    "duration": 34,
    "start_time": "2022-03-04T12:28:55.789Z"
   },
   {
    "duration": 24,
    "start_time": "2022-03-04T12:29:37.339Z"
   },
   {
    "duration": 33,
    "start_time": "2022-03-04T12:30:49.400Z"
   },
   {
    "duration": 26,
    "start_time": "2022-03-04T12:49:13.425Z"
   },
   {
    "duration": 19,
    "start_time": "2022-03-04T12:51:51.044Z"
   },
   {
    "duration": 22,
    "start_time": "2022-03-04T12:52:58.573Z"
   },
   {
    "duration": 12,
    "start_time": "2022-03-04T12:54:32.544Z"
   },
   {
    "duration": 12,
    "start_time": "2022-03-04T12:55:17.921Z"
   },
   {
    "duration": 80,
    "start_time": "2022-03-04T13:22:26.256Z"
   },
   {
    "duration": 323,
    "start_time": "2022-03-04T13:22:38.436Z"
   },
   {
    "duration": 90,
    "start_time": "2022-03-04T13:23:47.364Z"
   },
   {
    "duration": 257,
    "start_time": "2022-03-04T13:23:53.644Z"
   },
   {
    "duration": 92,
    "start_time": "2022-03-04T13:29:48.721Z"
   },
   {
    "duration": 85,
    "start_time": "2022-03-04T13:30:06.738Z"
   },
   {
    "duration": 8,
    "start_time": "2022-03-04T13:39:47.293Z"
   },
   {
    "duration": 9,
    "start_time": "2022-03-04T13:45:24.081Z"
   },
   {
    "duration": 12,
    "start_time": "2022-03-04T13:45:37.059Z"
   },
   {
    "duration": 19,
    "start_time": "2022-03-04T13:45:59.031Z"
   },
   {
    "duration": 257,
    "start_time": "2022-03-04T13:47:20.647Z"
   },
   {
    "duration": 12,
    "start_time": "2022-03-04T13:47:58.285Z"
   },
   {
    "duration": 13,
    "start_time": "2022-03-04T13:48:03.132Z"
   },
   {
    "duration": 19,
    "start_time": "2022-03-04T13:48:29.772Z"
   },
   {
    "duration": 8,
    "start_time": "2022-03-04T14:47:27.315Z"
   },
   {
    "duration": 9,
    "start_time": "2022-03-04T14:48:42.945Z"
   },
   {
    "duration": 8,
    "start_time": "2022-03-04T14:49:37.862Z"
   },
   {
    "duration": 11,
    "start_time": "2022-03-04T15:03:40.617Z"
   },
   {
    "duration": 9,
    "start_time": "2022-03-04T15:04:51.885Z"
   },
   {
    "duration": 8,
    "start_time": "2022-03-04T15:07:22.549Z"
   },
   {
    "duration": 13,
    "start_time": "2022-03-04T15:09:41.701Z"
   },
   {
    "duration": 88,
    "start_time": "2022-03-04T16:03:27.752Z"
   },
   {
    "duration": 44,
    "start_time": "2022-03-04T16:03:46.981Z"
   },
   {
    "duration": 277,
    "start_time": "2022-03-04T16:17:03.285Z"
   },
   {
    "duration": 16,
    "start_time": "2022-03-04T17:37:04.873Z"
   },
   {
    "duration": 15,
    "start_time": "2022-03-04T17:37:34.072Z"
   },
   {
    "duration": 14,
    "start_time": "2022-03-04T17:40:02.795Z"
   },
   {
    "duration": 12,
    "start_time": "2022-03-04T18:06:35.839Z"
   },
   {
    "duration": 6482,
    "start_time": "2022-03-04T18:07:05.541Z"
   },
   {
    "duration": 7,
    "start_time": "2022-03-04T18:07:38.768Z"
   },
   {
    "duration": 272,
    "start_time": "2022-03-04T18:08:14.625Z"
   },
   {
    "duration": 8,
    "start_time": "2022-03-04T18:08:26.775Z"
   },
   {
    "duration": 6,
    "start_time": "2022-03-04T18:08:59.410Z"
   },
   {
    "duration": 80,
    "start_time": "2022-03-04T18:39:21.996Z"
   },
   {
    "duration": 11,
    "start_time": "2022-03-04T18:39:22.078Z"
   },
   {
    "duration": 12,
    "start_time": "2022-03-04T18:39:22.091Z"
   },
   {
    "duration": 6,
    "start_time": "2022-03-04T18:39:22.105Z"
   },
   {
    "duration": 12,
    "start_time": "2022-03-04T18:39:22.113Z"
   },
   {
    "duration": 17,
    "start_time": "2022-03-04T18:39:22.127Z"
   },
   {
    "duration": 43,
    "start_time": "2022-03-04T18:39:22.147Z"
   },
   {
    "duration": 4,
    "start_time": "2022-03-04T18:39:22.194Z"
   },
   {
    "duration": 16,
    "start_time": "2022-03-04T18:39:22.200Z"
   },
   {
    "duration": 6,
    "start_time": "2022-03-04T18:39:22.218Z"
   },
   {
    "duration": 51,
    "start_time": "2022-03-04T18:39:22.226Z"
   },
   {
    "duration": 18,
    "start_time": "2022-03-04T18:39:22.280Z"
   },
   {
    "duration": 25,
    "start_time": "2022-03-04T18:39:22.300Z"
   },
   {
    "duration": 20,
    "start_time": "2022-03-04T18:39:22.326Z"
   },
   {
    "duration": 43,
    "start_time": "2022-03-04T18:39:22.347Z"
   },
   {
    "duration": 7,
    "start_time": "2022-03-04T18:39:22.392Z"
   },
   {
    "duration": 20,
    "start_time": "2022-03-04T18:39:22.401Z"
   },
   {
    "duration": 8,
    "start_time": "2022-03-04T18:39:22.423Z"
   },
   {
    "duration": 13,
    "start_time": "2022-03-04T18:39:22.432Z"
   },
   {
    "duration": 12,
    "start_time": "2022-03-04T18:39:22.477Z"
   },
   {
    "duration": 15,
    "start_time": "2022-03-04T18:39:22.491Z"
   },
   {
    "duration": 7,
    "start_time": "2022-03-04T18:39:22.508Z"
   },
   {
    "duration": 9,
    "start_time": "2022-03-04T18:39:22.519Z"
   },
   {
    "duration": 16,
    "start_time": "2022-03-04T18:39:22.530Z"
   },
   {
    "duration": 76,
    "start_time": "2022-03-04T18:39:22.548Z"
   },
   {
    "duration": 11,
    "start_time": "2022-03-04T19:16:17.110Z"
   },
   {
    "duration": 8,
    "start_time": "2022-03-04T19:18:59.998Z"
   },
   {
    "duration": 8,
    "start_time": "2022-03-04T19:30:43.676Z"
   },
   {
    "duration": 15,
    "start_time": "2022-03-04T19:32:58.966Z"
   },
   {
    "duration": 3,
    "start_time": "2022-03-04T19:44:35.084Z"
   },
   {
    "duration": 4,
    "start_time": "2022-03-04T19:55:47.341Z"
   },
   {
    "duration": 21,
    "start_time": "2022-03-04T19:55:50.239Z"
   },
   {
    "duration": 91,
    "start_time": "2022-03-04T20:51:39.730Z"
   },
   {
    "duration": 4,
    "start_time": "2022-03-04T20:54:15.989Z"
   },
   {
    "duration": 73,
    "start_time": "2022-03-04T20:59:51.280Z"
   },
   {
    "duration": 11,
    "start_time": "2022-03-04T20:59:51.354Z"
   },
   {
    "duration": 28,
    "start_time": "2022-03-04T20:59:51.367Z"
   },
   {
    "duration": 9,
    "start_time": "2022-03-04T20:59:51.397Z"
   },
   {
    "duration": 33,
    "start_time": "2022-03-04T20:59:51.407Z"
   },
   {
    "duration": 36,
    "start_time": "2022-03-04T20:59:51.441Z"
   },
   {
    "duration": 35,
    "start_time": "2022-03-04T20:59:51.479Z"
   },
   {
    "duration": 5,
    "start_time": "2022-03-04T20:59:51.516Z"
   },
   {
    "duration": 32,
    "start_time": "2022-03-04T20:59:51.523Z"
   },
   {
    "duration": 25,
    "start_time": "2022-03-04T20:59:51.556Z"
   },
   {
    "duration": 18,
    "start_time": "2022-03-04T20:59:51.583Z"
   },
   {
    "duration": 44,
    "start_time": "2022-03-04T20:59:51.603Z"
   },
   {
    "duration": 26,
    "start_time": "2022-03-04T20:59:51.648Z"
   },
   {
    "duration": 19,
    "start_time": "2022-03-04T20:59:51.675Z"
   },
   {
    "duration": 28,
    "start_time": "2022-03-04T20:59:51.696Z"
   },
   {
    "duration": 6,
    "start_time": "2022-03-04T20:59:51.726Z"
   },
   {
    "duration": 48,
    "start_time": "2022-03-04T20:59:51.734Z"
   },
   {
    "duration": 22,
    "start_time": "2022-03-04T20:59:51.783Z"
   },
   {
    "duration": 28,
    "start_time": "2022-03-04T20:59:51.807Z"
   },
   {
    "duration": 25,
    "start_time": "2022-03-04T20:59:51.837Z"
   },
   {
    "duration": 30,
    "start_time": "2022-03-04T20:59:51.864Z"
   },
   {
    "duration": 11,
    "start_time": "2022-03-04T20:59:51.896Z"
   },
   {
    "duration": 26,
    "start_time": "2022-03-04T20:59:51.910Z"
   },
   {
    "duration": 18,
    "start_time": "2022-03-04T20:59:51.937Z"
   },
   {
    "duration": 34,
    "start_time": "2022-03-04T20:59:51.957Z"
   },
   {
    "duration": 25,
    "start_time": "2022-03-04T20:59:51.993Z"
   },
   {
    "duration": 12,
    "start_time": "2022-03-04T20:59:52.020Z"
   },
   {
    "duration": 43,
    "start_time": "2022-03-04T20:59:52.034Z"
   },
   {
    "duration": 17,
    "start_time": "2022-03-04T20:59:52.078Z"
   },
   {
    "duration": 6359,
    "start_time": "2022-03-04T20:59:52.096Z"
   },
   {
    "duration": 1268,
    "start_time": "2022-03-04T21:00:43.294Z"
   },
   {
    "duration": 4,
    "start_time": "2022-03-04T21:04:12.674Z"
   },
   {
    "duration": 25,
    "start_time": "2022-03-04T21:04:16.019Z"
   },
   {
    "duration": 278,
    "start_time": "2022-03-07T13:07:38.772Z"
   },
   {
    "duration": 808,
    "start_time": "2022-03-07T13:10:37.912Z"
   },
   {
    "duration": 15,
    "start_time": "2022-03-07T13:10:38.723Z"
   },
   {
    "duration": 12,
    "start_time": "2022-03-07T13:10:38.742Z"
   },
   {
    "duration": 37,
    "start_time": "2022-03-07T13:10:38.756Z"
   },
   {
    "duration": 15,
    "start_time": "2022-03-07T13:10:38.795Z"
   },
   {
    "duration": 22,
    "start_time": "2022-03-07T13:10:38.813Z"
   },
   {
    "duration": 22,
    "start_time": "2022-03-07T13:10:38.837Z"
   },
   {
    "duration": 5,
    "start_time": "2022-03-07T13:10:38.888Z"
   },
   {
    "duration": 25,
    "start_time": "2022-03-07T13:10:38.896Z"
   },
   {
    "duration": 8,
    "start_time": "2022-03-07T13:10:38.924Z"
   },
   {
    "duration": 22,
    "start_time": "2022-03-07T13:10:38.934Z"
   },
   {
    "duration": 47,
    "start_time": "2022-03-07T13:10:38.959Z"
   },
   {
    "duration": 50,
    "start_time": "2022-03-07T13:10:39.008Z"
   },
   {
    "duration": 42,
    "start_time": "2022-03-07T13:10:39.061Z"
   },
   {
    "duration": 23,
    "start_time": "2022-03-07T13:10:39.106Z"
   },
   {
    "duration": 10,
    "start_time": "2022-03-07T13:10:39.131Z"
   },
   {
    "duration": 64,
    "start_time": "2022-03-07T13:10:39.143Z"
   },
   {
    "duration": 9,
    "start_time": "2022-03-07T13:10:39.209Z"
   },
   {
    "duration": 13,
    "start_time": "2022-03-07T13:10:39.221Z"
   },
   {
    "duration": 12,
    "start_time": "2022-03-07T13:10:39.236Z"
   },
   {
    "duration": 57,
    "start_time": "2022-03-07T13:10:39.250Z"
   },
   {
    "duration": 10,
    "start_time": "2022-03-07T13:10:39.309Z"
   },
   {
    "duration": 12,
    "start_time": "2022-03-07T13:10:39.322Z"
   },
   {
    "duration": 51,
    "start_time": "2022-03-07T13:10:39.336Z"
   },
   {
    "duration": 8,
    "start_time": "2022-03-07T13:10:39.390Z"
   },
   {
    "duration": 28,
    "start_time": "2022-03-07T13:10:39.400Z"
   },
   {
    "duration": 5,
    "start_time": "2022-03-07T13:10:39.432Z"
   },
   {
    "duration": 57,
    "start_time": "2022-03-07T13:10:39.440Z"
   },
   {
    "duration": 5,
    "start_time": "2022-03-07T13:10:39.500Z"
   },
   {
    "duration": 47,
    "start_time": "2022-03-07T13:10:39.508Z"
   },
   {
    "duration": 8,
    "start_time": "2022-03-07T13:29:19.568Z"
   },
   {
    "duration": 25,
    "start_time": "2022-03-07T13:37:17.200Z"
   },
   {
    "duration": 28,
    "start_time": "2022-03-07T13:37:30.176Z"
   },
   {
    "duration": 35,
    "start_time": "2022-03-07T13:38:00.494Z"
   },
   {
    "duration": 10,
    "start_time": "2022-03-07T13:46:49.757Z"
   },
   {
    "duration": 8,
    "start_time": "2022-03-07T13:49:52.214Z"
   },
   {
    "duration": 332,
    "start_time": "2022-03-07T13:56:51.216Z"
   },
   {
    "duration": 223,
    "start_time": "2022-03-07T13:58:26.876Z"
   },
   {
    "duration": 8,
    "start_time": "2022-03-07T14:00:35.006Z"
   },
   {
    "duration": 9,
    "start_time": "2022-03-07T14:02:37.809Z"
   },
   {
    "duration": 9,
    "start_time": "2022-03-07T14:05:26.474Z"
   },
   {
    "duration": 13,
    "start_time": "2022-03-07T14:09:53.953Z"
   },
   {
    "duration": 16,
    "start_time": "2022-03-07T14:10:16.863Z"
   },
   {
    "duration": 11,
    "start_time": "2022-03-07T14:10:31.266Z"
   },
   {
    "duration": 9,
    "start_time": "2022-03-07T14:12:39.216Z"
   },
   {
    "duration": 10,
    "start_time": "2022-03-07T14:38:35.596Z"
   },
   {
    "duration": 79,
    "start_time": "2022-03-07T14:39:59.113Z"
   },
   {
    "duration": 15,
    "start_time": "2022-03-07T14:39:59.194Z"
   },
   {
    "duration": 12,
    "start_time": "2022-03-07T14:39:59.212Z"
   },
   {
    "duration": 8,
    "start_time": "2022-03-07T14:39:59.228Z"
   },
   {
    "duration": 13,
    "start_time": "2022-03-07T14:39:59.238Z"
   },
   {
    "duration": 53,
    "start_time": "2022-03-07T14:39:59.253Z"
   },
   {
    "duration": 20,
    "start_time": "2022-03-07T14:39:59.309Z"
   },
   {
    "duration": 5,
    "start_time": "2022-03-07T14:39:59.332Z"
   },
   {
    "duration": 55,
    "start_time": "2022-03-07T14:39:59.343Z"
   },
   {
    "duration": 12,
    "start_time": "2022-03-07T14:39:59.401Z"
   },
   {
    "duration": 18,
    "start_time": "2022-03-07T14:39:59.415Z"
   },
   {
    "duration": 52,
    "start_time": "2022-03-07T14:39:59.436Z"
   },
   {
    "duration": 33,
    "start_time": "2022-03-07T14:39:59.490Z"
   },
   {
    "duration": 26,
    "start_time": "2022-03-07T14:39:59.526Z"
   },
   {
    "duration": 47,
    "start_time": "2022-03-07T14:39:59.555Z"
   },
   {
    "duration": 10,
    "start_time": "2022-03-07T14:39:59.605Z"
   },
   {
    "duration": 44,
    "start_time": "2022-03-07T14:39:59.618Z"
   },
   {
    "duration": 23,
    "start_time": "2022-03-07T14:39:59.664Z"
   },
   {
    "duration": 11,
    "start_time": "2022-03-07T14:39:59.690Z"
   },
   {
    "duration": 8,
    "start_time": "2022-03-07T14:39:59.703Z"
   },
   {
    "duration": 10,
    "start_time": "2022-03-07T14:39:59.713Z"
   },
   {
    "duration": 9,
    "start_time": "2022-03-07T14:39:59.725Z"
   },
   {
    "duration": 16,
    "start_time": "2022-03-07T14:39:59.788Z"
   },
   {
    "duration": 17,
    "start_time": "2022-03-07T14:39:59.807Z"
   },
   {
    "duration": 20,
    "start_time": "2022-03-07T14:39:59.827Z"
   },
   {
    "duration": 41,
    "start_time": "2022-03-07T14:39:59.850Z"
   },
   {
    "duration": 10,
    "start_time": "2022-03-07T14:39:59.898Z"
   },
   {
    "duration": 13,
    "start_time": "2022-03-07T14:39:59.911Z"
   },
   {
    "duration": 7,
    "start_time": "2022-03-07T14:39:59.927Z"
   },
   {
    "duration": 56,
    "start_time": "2022-03-07T14:39:59.936Z"
   },
   {
    "duration": 34,
    "start_time": "2022-03-07T14:39:59.994Z"
   },
   {
    "duration": 6,
    "start_time": "2022-03-07T14:40:00.031Z"
   },
   {
    "duration": 28,
    "start_time": "2022-03-07T14:40:00.040Z"
   },
   {
    "duration": 18,
    "start_time": "2022-03-07T14:40:00.071Z"
   },
   {
    "duration": 51,
    "start_time": "2022-03-07T14:40:00.093Z"
   },
   {
    "duration": 12,
    "start_time": "2022-03-07T14:40:00.146Z"
   },
   {
    "duration": 229,
    "start_time": "2022-03-07T14:46:27.552Z"
   },
   {
    "duration": 222,
    "start_time": "2022-03-07T14:46:52.518Z"
   },
   {
    "duration": 8,
    "start_time": "2022-03-07T14:47:04.341Z"
   },
   {
    "duration": 7,
    "start_time": "2022-03-07T14:47:46.199Z"
   },
   {
    "duration": 7,
    "start_time": "2022-03-07T14:47:55.111Z"
   },
   {
    "duration": 270,
    "start_time": "2022-03-07T14:56:35.483Z"
   },
   {
    "duration": 286,
    "start_time": "2022-03-07T14:57:20.543Z"
   },
   {
    "duration": 1882,
    "start_time": "2022-03-07T14:58:50.725Z"
   },
   {
    "duration": 214,
    "start_time": "2022-03-07T14:59:29.587Z"
   },
   {
    "duration": 236,
    "start_time": "2022-03-07T15:00:03.038Z"
   },
   {
    "duration": 1583,
    "start_time": "2022-03-07T15:00:23.458Z"
   },
   {
    "duration": 968,
    "start_time": "2022-03-07T15:02:41.839Z"
   },
   {
    "duration": 85,
    "start_time": "2022-03-07T15:06:13.944Z"
   },
   {
    "duration": 27,
    "start_time": "2022-03-07T15:08:36.198Z"
   },
   {
    "duration": 900,
    "start_time": "2022-03-07T15:09:28.161Z"
   },
   {
    "duration": 22,
    "start_time": "2022-03-07T15:12:47.431Z"
   },
   {
    "duration": 24,
    "start_time": "2022-03-07T15:13:08.669Z"
   },
   {
    "duration": 12,
    "start_time": "2022-03-07T15:13:44.106Z"
   },
   {
    "duration": 14,
    "start_time": "2022-03-07T15:14:45.941Z"
   },
   {
    "duration": 10,
    "start_time": "2022-03-07T15:15:22.920Z"
   },
   {
    "duration": 11,
    "start_time": "2022-03-07T15:15:31.282Z"
   },
   {
    "duration": 10,
    "start_time": "2022-03-07T15:15:43.975Z"
   },
   {
    "duration": 9,
    "start_time": "2022-03-07T15:15:50.661Z"
   },
   {
    "duration": 9,
    "start_time": "2022-03-07T15:15:57.807Z"
   },
   {
    "duration": 9,
    "start_time": "2022-03-07T15:16:19.109Z"
   },
   {
    "duration": 12,
    "start_time": "2022-03-07T15:16:52.331Z"
   },
   {
    "duration": 38,
    "start_time": "2022-03-07T15:20:31.063Z"
   },
   {
    "duration": 42,
    "start_time": "2022-03-07T15:26:46.948Z"
   },
   {
    "duration": 40,
    "start_time": "2022-03-07T15:27:48.771Z"
   },
   {
    "duration": 273,
    "start_time": "2022-03-07T15:44:00.816Z"
   },
   {
    "duration": 41,
    "start_time": "2022-03-07T15:44:07.998Z"
   },
   {
    "duration": 40,
    "start_time": "2022-03-07T15:44:19.951Z"
   },
   {
    "duration": 40,
    "start_time": "2022-03-07T15:46:59.600Z"
   },
   {
    "duration": 8,
    "start_time": "2022-03-07T15:55:44.927Z"
   },
   {
    "duration": 5834,
    "start_time": "2022-03-07T15:56:08.589Z"
   },
   {
    "duration": 9,
    "start_time": "2022-03-07T15:57:16.057Z"
   },
   {
    "duration": 37,
    "start_time": "2022-03-07T16:07:19.452Z"
   },
   {
    "duration": 66,
    "start_time": "2022-03-07T16:36:48.832Z"
   },
   {
    "duration": 40,
    "start_time": "2022-03-07T16:56:43.840Z"
   },
   {
    "duration": 42,
    "start_time": "2022-03-07T16:59:29.172Z"
   },
   {
    "duration": 79,
    "start_time": "2022-03-07T17:41:25.167Z"
   },
   {
    "duration": 41,
    "start_time": "2022-03-07T17:41:25.249Z"
   },
   {
    "duration": 13,
    "start_time": "2022-03-07T17:41:25.293Z"
   },
   {
    "duration": 7,
    "start_time": "2022-03-07T17:41:25.309Z"
   },
   {
    "duration": 15,
    "start_time": "2022-03-07T17:41:25.318Z"
   },
   {
    "duration": 59,
    "start_time": "2022-03-07T17:41:25.335Z"
   },
   {
    "duration": 22,
    "start_time": "2022-03-07T17:41:25.396Z"
   },
   {
    "duration": 4,
    "start_time": "2022-03-07T17:41:25.421Z"
   },
   {
    "duration": 22,
    "start_time": "2022-03-07T17:41:25.428Z"
   },
   {
    "duration": 10,
    "start_time": "2022-03-07T17:41:25.452Z"
   },
   {
    "duration": 18,
    "start_time": "2022-03-07T17:41:25.486Z"
   },
   {
    "duration": 26,
    "start_time": "2022-03-07T17:41:25.506Z"
   },
   {
    "duration": 66,
    "start_time": "2022-03-07T17:41:25.534Z"
   },
   {
    "duration": 26,
    "start_time": "2022-03-07T17:41:25.603Z"
   },
   {
    "duration": 22,
    "start_time": "2022-03-07T17:41:25.631Z"
   },
   {
    "duration": 34,
    "start_time": "2022-03-07T17:41:25.655Z"
   },
   {
    "duration": 25,
    "start_time": "2022-03-07T17:41:25.692Z"
   },
   {
    "duration": 14,
    "start_time": "2022-03-07T17:41:25.719Z"
   },
   {
    "duration": 17,
    "start_time": "2022-03-07T17:41:25.735Z"
   },
   {
    "duration": 37,
    "start_time": "2022-03-07T17:41:25.754Z"
   },
   {
    "duration": 11,
    "start_time": "2022-03-07T17:41:25.794Z"
   },
   {
    "duration": 9,
    "start_time": "2022-03-07T17:41:25.807Z"
   },
   {
    "duration": 12,
    "start_time": "2022-03-07T17:41:25.822Z"
   },
   {
    "duration": 54,
    "start_time": "2022-03-07T17:41:25.837Z"
   },
   {
    "duration": 19,
    "start_time": "2022-03-07T17:41:25.894Z"
   },
   {
    "duration": 12,
    "start_time": "2022-03-07T17:41:25.916Z"
   },
   {
    "duration": 11,
    "start_time": "2022-03-07T17:41:25.930Z"
   },
   {
    "duration": 11,
    "start_time": "2022-03-07T17:41:25.943Z"
   },
   {
    "duration": 7,
    "start_time": "2022-03-07T17:41:25.988Z"
   },
   {
    "duration": 26,
    "start_time": "2022-03-07T17:41:25.998Z"
   },
   {
    "duration": 5,
    "start_time": "2022-03-07T17:41:26.026Z"
   },
   {
    "duration": 56,
    "start_time": "2022-03-07T17:41:26.033Z"
   },
   {
    "duration": 7,
    "start_time": "2022-03-07T17:41:26.092Z"
   },
   {
    "duration": 40,
    "start_time": "2022-03-07T17:41:26.102Z"
   },
   {
    "duration": 67,
    "start_time": "2022-03-07T17:41:26.145Z"
   },
   {
    "duration": 39,
    "start_time": "2022-03-07T17:41:26.215Z"
   },
   {
    "duration": 76,
    "start_time": "2022-03-07T17:41:26.256Z"
   },
   {
    "duration": 59,
    "start_time": "2022-03-07T17:41:26.334Z"
   },
   {
    "duration": 635,
    "start_time": "2022-03-15T21:41:31.822Z"
   },
   {
    "duration": 11,
    "start_time": "2022-03-15T21:41:32.459Z"
   },
   {
    "duration": 15,
    "start_time": "2022-03-15T21:41:32.472Z"
   },
   {
    "duration": 6,
    "start_time": "2022-03-15T21:41:32.488Z"
   },
   {
    "duration": 11,
    "start_time": "2022-03-15T21:41:32.496Z"
   },
   {
    "duration": 14,
    "start_time": "2022-03-15T21:41:32.533Z"
   },
   {
    "duration": 14,
    "start_time": "2022-03-15T21:41:32.549Z"
   },
   {
    "duration": 3,
    "start_time": "2022-03-15T21:41:32.565Z"
   },
   {
    "duration": 12,
    "start_time": "2022-03-15T21:41:32.571Z"
   },
   {
    "duration": 8,
    "start_time": "2022-03-15T21:41:32.585Z"
   },
   {
    "duration": 44,
    "start_time": "2022-03-15T21:41:32.595Z"
   },
   {
    "duration": 19,
    "start_time": "2022-03-15T21:41:32.641Z"
   },
   {
    "duration": 22,
    "start_time": "2022-03-15T21:41:32.662Z"
   },
   {
    "duration": 18,
    "start_time": "2022-03-15T21:41:32.686Z"
   },
   {
    "duration": 41,
    "start_time": "2022-03-15T21:41:32.706Z"
   },
   {
    "duration": 9,
    "start_time": "2022-03-15T21:41:32.749Z"
   },
   {
    "duration": 22,
    "start_time": "2022-03-15T21:41:32.759Z"
   },
   {
    "duration": 5,
    "start_time": "2022-03-15T21:41:32.782Z"
   },
   {
    "duration": 8,
    "start_time": "2022-03-15T21:41:32.789Z"
   },
   {
    "duration": 35,
    "start_time": "2022-03-15T21:41:32.799Z"
   },
   {
    "duration": 8,
    "start_time": "2022-03-15T21:41:32.836Z"
   },
   {
    "duration": 13,
    "start_time": "2022-03-15T21:41:32.846Z"
   },
   {
    "duration": 10,
    "start_time": "2022-03-15T21:41:32.861Z"
   },
   {
    "duration": 10,
    "start_time": "2022-03-15T21:41:32.873Z"
   },
   {
    "duration": 16,
    "start_time": "2022-03-15T21:41:32.884Z"
   },
   {
    "duration": 34,
    "start_time": "2022-03-15T21:41:32.902Z"
   },
   {
    "duration": 12,
    "start_time": "2022-03-15T21:41:32.938Z"
   },
   {
    "duration": 12,
    "start_time": "2022-03-15T21:41:32.952Z"
   },
   {
    "duration": 6,
    "start_time": "2022-03-15T21:41:32.965Z"
   },
   {
    "duration": 15,
    "start_time": "2022-03-15T21:41:32.972Z"
   },
   {
    "duration": 4,
    "start_time": "2022-03-15T21:41:32.988Z"
   },
   {
    "duration": 19,
    "start_time": "2022-03-15T21:41:32.993Z"
   },
   {
    "duration": 3,
    "start_time": "2022-03-15T21:41:33.033Z"
   },
   {
    "duration": 26,
    "start_time": "2022-03-15T21:41:33.038Z"
   },
   {
    "duration": 38,
    "start_time": "2022-03-15T21:41:33.066Z"
   },
   {
    "duration": 44,
    "start_time": "2022-03-15T21:41:33.106Z"
   },
   {
    "duration": 31,
    "start_time": "2022-03-15T21:41:33.152Z"
   },
   {
    "duration": 48,
    "start_time": "2022-03-15T21:41:33.185Z"
   },
   {
    "duration": 9,
    "start_time": "2022-03-15T21:44:37.122Z"
   },
   {
    "duration": 16,
    "start_time": "2022-03-15T21:45:54.742Z"
   },
   {
    "duration": 1515,
    "start_time": "2022-03-16T06:46:27.764Z"
   },
   {
    "duration": 92,
    "start_time": "2022-03-16T06:49:15.499Z"
   },
   {
    "duration": 95,
    "start_time": "2022-03-16T06:49:20.305Z"
   },
   {
    "duration": 75,
    "start_time": "2022-03-16T06:51:34.282Z"
   },
   {
    "duration": 87,
    "start_time": "2022-03-16T06:51:46.247Z"
   },
   {
    "duration": 96,
    "start_time": "2022-03-16T06:51:50.815Z"
   },
   {
    "duration": 4,
    "start_time": "2022-03-16T06:52:34.298Z"
   },
   {
    "duration": 5,
    "start_time": "2022-03-16T06:53:19.175Z"
   },
   {
    "duration": 339,
    "start_time": "2022-03-16T07:08:24.484Z"
   },
   {
    "duration": 3,
    "start_time": "2022-03-16T07:08:42.856Z"
   },
   {
    "duration": 77,
    "start_time": "2022-03-16T07:08:42.866Z"
   },
   {
    "duration": 13,
    "start_time": "2022-03-16T07:08:42.946Z"
   },
   {
    "duration": 12,
    "start_time": "2022-03-16T07:08:42.962Z"
   },
   {
    "duration": 7,
    "start_time": "2022-03-16T07:08:42.976Z"
   },
   {
    "duration": 46,
    "start_time": "2022-03-16T07:08:45.499Z"
   },
   {
    "duration": 10,
    "start_time": "2022-03-16T07:08:49.379Z"
   },
   {
    "duration": 85,
    "start_time": "2022-03-16T07:09:57.138Z"
   },
   {
    "duration": 11,
    "start_time": "2022-03-16T07:09:59.819Z"
   },
   {
    "duration": 85,
    "start_time": "2022-03-16T07:15:58.984Z"
   },
   {
    "duration": 16,
    "start_time": "2022-03-16T07:16:03.927Z"
   },
   {
    "duration": 92,
    "start_time": "2022-03-16T07:17:38.277Z"
   },
   {
    "duration": 8,
    "start_time": "2022-03-16T07:26:11.316Z"
   },
   {
    "duration": 5,
    "start_time": "2022-03-16T07:26:16.941Z"
   },
   {
    "duration": 9,
    "start_time": "2022-03-16T07:26:18.498Z"
   },
   {
    "duration": 11,
    "start_time": "2022-03-16T07:30:01.128Z"
   },
   {
    "duration": 350,
    "start_time": "2022-03-16T07:30:34.014Z"
   },
   {
    "duration": 257,
    "start_time": "2022-03-16T07:30:52.599Z"
   },
   {
    "duration": 10,
    "start_time": "2022-03-16T07:31:09.087Z"
   },
   {
    "duration": 9,
    "start_time": "2022-03-16T07:31:45.078Z"
   },
   {
    "duration": 258,
    "start_time": "2022-03-16T07:32:12.152Z"
   },
   {
    "duration": 25,
    "start_time": "2022-03-16T07:32:33.536Z"
   },
   {
    "duration": 242,
    "start_time": "2022-03-16T07:32:54.976Z"
   },
   {
    "duration": 10,
    "start_time": "2022-03-16T07:33:03.337Z"
   },
   {
    "duration": 9,
    "start_time": "2022-03-16T07:34:39.832Z"
   },
   {
    "duration": 14,
    "start_time": "2022-03-16T07:35:08.575Z"
   },
   {
    "duration": 11,
    "start_time": "2022-03-16T07:36:49.103Z"
   },
   {
    "duration": 14,
    "start_time": "2022-03-16T07:37:08.737Z"
   },
   {
    "duration": 4,
    "start_time": "2022-03-16T07:37:57.281Z"
   },
   {
    "duration": 10,
    "start_time": "2022-03-16T07:38:02.058Z"
   },
   {
    "duration": 404,
    "start_time": "2022-03-16T07:39:23.039Z"
   },
   {
    "duration": 5,
    "start_time": "2022-03-16T08:04:43.649Z"
   },
   {
    "duration": 4,
    "start_time": "2022-03-16T08:05:04.880Z"
   },
   {
    "duration": 277,
    "start_time": "2022-03-16T08:07:50.372Z"
   },
   {
    "duration": 269,
    "start_time": "2022-03-16T08:08:10.077Z"
   },
   {
    "duration": 256,
    "start_time": "2022-03-16T08:08:20.453Z"
   },
   {
    "duration": 270,
    "start_time": "2022-03-16T08:08:48.990Z"
   },
   {
    "duration": 23,
    "start_time": "2022-03-16T08:09:06.053Z"
   },
   {
    "duration": 310,
    "start_time": "2022-03-16T08:09:43.781Z"
   },
   {
    "duration": 7,
    "start_time": "2022-03-16T08:25:22.977Z"
   },
   {
    "duration": 9,
    "start_time": "2022-03-16T08:26:07.533Z"
   },
   {
    "duration": 7,
    "start_time": "2022-03-16T08:26:59.689Z"
   },
   {
    "duration": 7,
    "start_time": "2022-03-16T08:27:15.945Z"
   },
   {
    "duration": 10,
    "start_time": "2022-03-16T08:27:30.428Z"
   },
   {
    "duration": 11,
    "start_time": "2022-03-16T08:30:26.641Z"
   },
   {
    "duration": 204,
    "start_time": "2022-03-16T08:31:49.895Z"
   },
   {
    "duration": 14,
    "start_time": "2022-03-16T08:32:01.864Z"
   },
   {
    "duration": 6,
    "start_time": "2022-03-16T08:32:48.438Z"
   },
   {
    "duration": 337,
    "start_time": "2022-03-16T08:32:56.063Z"
   },
   {
    "duration": 198,
    "start_time": "2022-03-16T08:35:09.061Z"
   },
   {
    "duration": 247,
    "start_time": "2022-03-16T08:35:11.756Z"
   },
   {
    "duration": 14,
    "start_time": "2022-03-16T08:35:16.316Z"
   },
   {
    "duration": 88,
    "start_time": "2022-03-16T08:36:41.092Z"
   },
   {
    "duration": 214,
    "start_time": "2022-03-16T08:36:42.716Z"
   },
   {
    "duration": 19,
    "start_time": "2022-03-16T08:36:48.867Z"
   },
   {
    "duration": 169,
    "start_time": "2022-03-16T08:39:23.067Z"
   },
   {
    "duration": 299,
    "start_time": "2022-03-16T08:39:24.066Z"
   },
   {
    "duration": 3,
    "start_time": "2022-03-16T08:44:27.843Z"
   },
   {
    "duration": 94,
    "start_time": "2022-03-16T08:44:27.849Z"
   },
   {
    "duration": 11,
    "start_time": "2022-03-16T08:44:27.945Z"
   },
   {
    "duration": 10,
    "start_time": "2022-03-16T08:44:27.959Z"
   },
   {
    "duration": 4,
    "start_time": "2022-03-16T08:44:27.971Z"
   },
   {
    "duration": 118,
    "start_time": "2022-03-16T08:44:27.977Z"
   },
   {
    "duration": 11,
    "start_time": "2022-03-16T08:44:28.098Z"
   },
   {
    "duration": 35,
    "start_time": "2022-03-16T08:44:28.112Z"
   },
   {
    "duration": 19,
    "start_time": "2022-03-16T08:44:28.149Z"
   },
   {
    "duration": 6,
    "start_time": "2022-03-16T08:44:28.170Z"
   },
   {
    "duration": 16,
    "start_time": "2022-03-16T08:44:28.178Z"
   },
   {
    "duration": 37,
    "start_time": "2022-03-16T08:44:28.196Z"
   },
   {
    "duration": 9,
    "start_time": "2022-03-16T08:44:28.235Z"
   },
   {
    "duration": 4,
    "start_time": "2022-03-16T08:44:28.247Z"
   },
   {
    "duration": 15,
    "start_time": "2022-03-16T08:44:28.253Z"
   },
   {
    "duration": 217,
    "start_time": "2022-03-16T08:44:34.024Z"
   },
   {
    "duration": 219,
    "start_time": "2022-03-16T08:44:35.647Z"
   },
   {
    "duration": 19,
    "start_time": "2022-03-16T08:44:42.374Z"
   },
   {
    "duration": 15,
    "start_time": "2022-03-16T08:52:27.436Z"
   },
   {
    "duration": 185,
    "start_time": "2022-03-16T08:52:41.731Z"
   },
   {
    "duration": 5,
    "start_time": "2022-03-16T08:54:19.339Z"
   },
   {
    "duration": 19,
    "start_time": "2022-03-16T08:54:22.166Z"
   },
   {
    "duration": 17,
    "start_time": "2022-03-16T08:54:35.011Z"
   },
   {
    "duration": 35,
    "start_time": "2022-03-16T08:54:37.820Z"
   },
   {
    "duration": 32,
    "start_time": "2022-03-16T08:55:17.157Z"
   },
   {
    "duration": 22,
    "start_time": "2022-03-16T08:57:23.620Z"
   },
   {
    "duration": 19,
    "start_time": "2022-03-16T08:57:56.875Z"
   },
   {
    "duration": 12,
    "start_time": "2022-03-16T08:58:02.738Z"
   },
   {
    "duration": 21,
    "start_time": "2022-03-16T08:58:07.051Z"
   },
   {
    "duration": 14,
    "start_time": "2022-03-16T08:59:38.633Z"
   },
   {
    "duration": 7,
    "start_time": "2022-03-16T09:00:24.099Z"
   },
   {
    "duration": 9,
    "start_time": "2022-03-16T09:00:27.289Z"
   },
   {
    "duration": 12,
    "start_time": "2022-03-16T09:00:29.257Z"
   },
   {
    "duration": 13,
    "start_time": "2022-03-16T09:00:32.698Z"
   },
   {
    "duration": 8,
    "start_time": "2022-03-16T09:00:35.137Z"
   },
   {
    "duration": 12,
    "start_time": "2022-03-16T09:00:36.561Z"
   },
   {
    "duration": 10,
    "start_time": "2022-03-16T09:00:39.100Z"
   },
   {
    "duration": 7,
    "start_time": "2022-03-16T09:00:43.914Z"
   },
   {
    "duration": 15,
    "start_time": "2022-03-16T09:00:46.987Z"
   },
   {
    "duration": 5,
    "start_time": "2022-03-16T09:21:15.151Z"
   },
   {
    "duration": 7,
    "start_time": "2022-03-16T09:22:25.573Z"
   },
   {
    "duration": 8,
    "start_time": "2022-03-16T09:43:50.411Z"
   },
   {
    "duration": 9,
    "start_time": "2022-03-16T09:44:09.563Z"
   },
   {
    "duration": 270,
    "start_time": "2022-03-16T09:46:32.380Z"
   },
   {
    "duration": 21,
    "start_time": "2022-03-16T09:46:47.801Z"
   },
   {
    "duration": 27,
    "start_time": "2022-03-16T09:47:05.903Z"
   },
   {
    "duration": 21,
    "start_time": "2022-03-16T09:47:28.779Z"
   },
   {
    "duration": 253,
    "start_time": "2022-03-16T09:49:53.379Z"
   },
   {
    "duration": 4,
    "start_time": "2022-03-16T09:50:12.083Z"
   },
   {
    "duration": 93,
    "start_time": "2022-03-16T09:50:12.089Z"
   },
   {
    "duration": 19,
    "start_time": "2022-03-16T09:50:12.184Z"
   },
   {
    "duration": 38,
    "start_time": "2022-03-16T09:50:12.205Z"
   },
   {
    "duration": 13,
    "start_time": "2022-03-16T09:50:12.246Z"
   },
   {
    "duration": 133,
    "start_time": "2022-03-16T09:50:12.264Z"
   },
   {
    "duration": 11,
    "start_time": "2022-03-16T09:50:12.401Z"
   },
   {
    "duration": 40,
    "start_time": "2022-03-16T09:50:12.415Z"
   },
   {
    "duration": 17,
    "start_time": "2022-03-16T09:50:12.457Z"
   },
   {
    "duration": 8,
    "start_time": "2022-03-16T09:50:12.476Z"
   },
   {
    "duration": 12,
    "start_time": "2022-03-16T09:50:12.486Z"
   },
   {
    "duration": 48,
    "start_time": "2022-03-16T09:50:12.500Z"
   },
   {
    "duration": 20,
    "start_time": "2022-03-16T09:50:12.550Z"
   },
   {
    "duration": 4,
    "start_time": "2022-03-16T09:50:12.572Z"
   },
   {
    "duration": 8,
    "start_time": "2022-03-16T09:50:12.579Z"
   },
   {
    "duration": 304,
    "start_time": "2022-03-16T09:50:12.589Z"
   },
   {
    "duration": 15,
    "start_time": "2022-03-16T09:50:12.895Z"
   },
   {
    "duration": 5,
    "start_time": "2022-03-16T09:50:12.912Z"
   },
   {
    "duration": 18,
    "start_time": "2022-03-16T09:50:12.931Z"
   },
   {
    "duration": 35,
    "start_time": "2022-03-16T09:50:12.951Z"
   },
   {
    "duration": 61,
    "start_time": "2022-03-16T09:50:12.988Z"
   },
   {
    "duration": 30,
    "start_time": "2022-03-16T09:50:13.051Z"
   },
   {
    "duration": 27,
    "start_time": "2022-03-16T09:50:13.084Z"
   },
   {
    "duration": 39,
    "start_time": "2022-03-16T09:50:13.114Z"
   },
   {
    "duration": 48,
    "start_time": "2022-03-16T09:50:13.156Z"
   },
   {
    "duration": 31,
    "start_time": "2022-03-16T09:50:13.206Z"
   },
   {
    "duration": 16,
    "start_time": "2022-03-16T09:50:13.240Z"
   },
   {
    "duration": 15,
    "start_time": "2022-03-16T09:50:13.259Z"
   },
   {
    "duration": 18,
    "start_time": "2022-03-16T09:50:13.276Z"
   },
   {
    "duration": 59,
    "start_time": "2022-03-16T09:50:13.296Z"
   },
   {
    "duration": 11,
    "start_time": "2022-03-16T09:50:13.357Z"
   },
   {
    "duration": 8,
    "start_time": "2022-03-16T09:50:13.370Z"
   },
   {
    "duration": 15,
    "start_time": "2022-03-16T09:50:13.381Z"
   },
   {
    "duration": 41,
    "start_time": "2022-03-16T09:50:13.398Z"
   },
   {
    "duration": 10,
    "start_time": "2022-03-16T09:50:13.443Z"
   },
   {
    "duration": 11,
    "start_time": "2022-03-16T09:50:13.455Z"
   },
   {
    "duration": 31,
    "start_time": "2022-03-16T09:50:13.468Z"
   },
   {
    "duration": 18,
    "start_time": "2022-03-16T09:50:19.548Z"
   },
   {
    "duration": 145,
    "start_time": "2022-03-16T09:51:14.807Z"
   },
   {
    "duration": 4,
    "start_time": "2022-03-16T10:55:48.313Z"
   },
   {
    "duration": 21,
    "start_time": "2022-03-16T10:55:53.156Z"
   },
   {
    "duration": 9,
    "start_time": "2022-03-16T10:57:02.469Z"
   },
   {
    "duration": 11,
    "start_time": "2022-03-16T11:01:19.179Z"
   },
   {
    "duration": 266,
    "start_time": "2022-03-16T11:25:11.022Z"
   },
   {
    "duration": 288,
    "start_time": "2022-03-16T11:26:05.798Z"
   },
   {
    "duration": 28,
    "start_time": "2022-03-16T11:26:36.446Z"
   },
   {
    "duration": 28,
    "start_time": "2022-03-16T11:26:53.180Z"
   },
   {
    "duration": 3,
    "start_time": "2022-03-16T11:39:37.980Z"
   },
   {
    "duration": 37,
    "start_time": "2022-03-16T11:39:58.753Z"
   },
   {
    "duration": 36,
    "start_time": "2022-03-16T11:40:13.593Z"
   },
   {
    "duration": 28,
    "start_time": "2022-03-16T11:40:33.903Z"
   },
   {
    "duration": 36,
    "start_time": "2022-03-16T11:45:51.838Z"
   },
   {
    "duration": 27,
    "start_time": "2022-03-16T11:46:04.622Z"
   },
   {
    "duration": 34,
    "start_time": "2022-03-16T11:48:56.446Z"
   },
   {
    "duration": 10,
    "start_time": "2022-03-16T11:49:18.078Z"
   },
   {
    "duration": 267,
    "start_time": "2022-03-16T11:49:43.894Z"
   },
   {
    "duration": 271,
    "start_time": "2022-03-16T11:49:50.758Z"
   },
   {
    "duration": 28,
    "start_time": "2022-03-16T11:50:16.740Z"
   },
   {
    "duration": 43,
    "start_time": "2022-03-16T11:50:50.046Z"
   },
   {
    "duration": 28,
    "start_time": "2022-03-16T11:51:09.255Z"
   },
   {
    "duration": 270,
    "start_time": "2022-03-16T11:55:06.557Z"
   },
   {
    "duration": 314,
    "start_time": "2022-03-16T11:55:13.083Z"
   },
   {
    "duration": 28,
    "start_time": "2022-03-16T11:55:34.617Z"
   },
   {
    "duration": 274,
    "start_time": "2022-03-16T11:57:12.395Z"
   },
   {
    "duration": 246,
    "start_time": "2022-03-16T11:57:37.515Z"
   },
   {
    "duration": 30,
    "start_time": "2022-03-16T11:58:03.603Z"
   },
   {
    "duration": 7,
    "start_time": "2022-03-16T12:04:43.311Z"
   },
   {
    "duration": 288,
    "start_time": "2022-03-16T12:07:31.032Z"
   },
   {
    "duration": 4,
    "start_time": "2022-03-16T12:07:43.350Z"
   },
   {
    "duration": 23,
    "start_time": "2022-03-16T12:07:45.780Z"
   },
   {
    "duration": 30,
    "start_time": "2022-03-16T12:07:54.269Z"
   },
   {
    "duration": 275,
    "start_time": "2022-03-16T12:23:47.323Z"
   },
   {
    "duration": 393,
    "start_time": "2022-03-16T12:24:33.260Z"
   },
   {
    "duration": 34,
    "start_time": "2022-03-16T12:25:04.546Z"
   },
   {
    "duration": 36,
    "start_time": "2022-03-16T12:26:44.988Z"
   },
   {
    "duration": 1334,
    "start_time": "2022-03-16T12:27:24.458Z"
   },
   {
    "duration": 25,
    "start_time": "2022-03-16T12:28:51.647Z"
   },
   {
    "duration": 261,
    "start_time": "2022-03-16T12:30:03.567Z"
   },
   {
    "duration": 289,
    "start_time": "2022-03-16T12:32:35.700Z"
   },
   {
    "duration": 257,
    "start_time": "2022-03-16T12:33:53.460Z"
   },
   {
    "duration": 253,
    "start_time": "2022-03-16T12:39:57.514Z"
   },
   {
    "duration": 3,
    "start_time": "2022-03-16T12:40:13.139Z"
   },
   {
    "duration": 93,
    "start_time": "2022-03-16T12:40:13.144Z"
   },
   {
    "duration": 14,
    "start_time": "2022-03-16T12:40:13.240Z"
   },
   {
    "duration": 18,
    "start_time": "2022-03-16T12:40:13.257Z"
   },
   {
    "duration": 11,
    "start_time": "2022-03-16T12:40:13.277Z"
   },
   {
    "duration": 109,
    "start_time": "2022-03-16T12:40:13.290Z"
   },
   {
    "duration": 11,
    "start_time": "2022-03-16T12:40:13.401Z"
   },
   {
    "duration": 21,
    "start_time": "2022-03-16T12:40:13.414Z"
   },
   {
    "duration": 14,
    "start_time": "2022-03-16T12:40:13.438Z"
   },
   {
    "duration": 6,
    "start_time": "2022-03-16T12:40:13.454Z"
   },
   {
    "duration": 8,
    "start_time": "2022-03-16T12:40:13.462Z"
   },
   {
    "duration": 6,
    "start_time": "2022-03-16T12:40:13.472Z"
   },
   {
    "duration": 13,
    "start_time": "2022-03-16T12:40:13.480Z"
   },
   {
    "duration": 40,
    "start_time": "2022-03-16T12:40:13.495Z"
   },
   {
    "duration": 6,
    "start_time": "2022-03-16T12:40:13.537Z"
   },
   {
    "duration": 225,
    "start_time": "2022-03-16T12:40:13.545Z"
   },
   {
    "duration": 17,
    "start_time": "2022-03-16T12:40:13.771Z"
   },
   {
    "duration": 12,
    "start_time": "2022-03-16T12:40:13.790Z"
   },
   {
    "duration": 29,
    "start_time": "2022-03-16T12:40:13.804Z"
   },
   {
    "duration": 16,
    "start_time": "2022-03-16T12:40:13.835Z"
   },
   {
    "duration": 25,
    "start_time": "2022-03-16T12:40:13.853Z"
   },
   {
    "duration": 20,
    "start_time": "2022-03-16T12:40:13.880Z"
   },
   {
    "duration": 42,
    "start_time": "2022-03-16T12:40:13.901Z"
   },
   {
    "duration": 7,
    "start_time": "2022-03-16T12:40:13.944Z"
   },
   {
    "duration": 24,
    "start_time": "2022-03-16T12:40:13.953Z"
   },
   {
    "duration": 14,
    "start_time": "2022-03-16T12:40:13.979Z"
   },
   {
    "duration": 36,
    "start_time": "2022-03-16T12:40:13.997Z"
   },
   {
    "duration": 9,
    "start_time": "2022-03-16T12:40:14.035Z"
   },
   {
    "duration": 14,
    "start_time": "2022-03-16T12:40:14.046Z"
   },
   {
    "duration": 14,
    "start_time": "2022-03-16T12:40:14.061Z"
   },
   {
    "duration": 6,
    "start_time": "2022-03-16T12:40:14.076Z"
   },
   {
    "duration": 13,
    "start_time": "2022-03-16T12:40:14.084Z"
   },
   {
    "duration": 36,
    "start_time": "2022-03-16T12:40:14.099Z"
   },
   {
    "duration": 6,
    "start_time": "2022-03-16T12:40:16.856Z"
   },
   {
    "duration": 8,
    "start_time": "2022-03-16T12:40:50.835Z"
   },
   {
    "duration": 8,
    "start_time": "2022-03-16T12:40:52.837Z"
   },
   {
    "duration": 258,
    "start_time": "2022-03-16T12:49:06.100Z"
   },
   {
    "duration": 3,
    "start_time": "2022-03-16T12:49:30.600Z"
   },
   {
    "duration": 74,
    "start_time": "2022-03-16T12:49:30.605Z"
   },
   {
    "duration": 13,
    "start_time": "2022-03-16T12:49:30.681Z"
   },
   {
    "duration": 42,
    "start_time": "2022-03-16T12:49:30.696Z"
   },
   {
    "duration": 4,
    "start_time": "2022-03-16T12:49:30.741Z"
   },
   {
    "duration": 113,
    "start_time": "2022-03-16T12:49:30.747Z"
   },
   {
    "duration": 11,
    "start_time": "2022-03-16T12:49:30.862Z"
   },
   {
    "duration": 20,
    "start_time": "2022-03-16T12:49:30.876Z"
   },
   {
    "duration": 38,
    "start_time": "2022-03-16T12:49:30.898Z"
   },
   {
    "duration": 6,
    "start_time": "2022-03-16T12:49:30.938Z"
   },
   {
    "duration": 11,
    "start_time": "2022-03-16T12:49:30.946Z"
   },
   {
    "duration": 19,
    "start_time": "2022-03-16T12:49:30.959Z"
   },
   {
    "duration": 11,
    "start_time": "2022-03-16T12:49:30.980Z"
   },
   {
    "duration": 11,
    "start_time": "2022-03-16T12:49:30.993Z"
   },
   {
    "duration": 7,
    "start_time": "2022-03-16T12:49:31.005Z"
   },
   {
    "duration": 236,
    "start_time": "2022-03-16T12:49:31.014Z"
   },
   {
    "duration": 15,
    "start_time": "2022-03-16T12:49:31.251Z"
   },
   {
    "duration": 13,
    "start_time": "2022-03-16T12:49:31.268Z"
   },
   {
    "duration": 20,
    "start_time": "2022-03-16T12:49:31.284Z"
   },
   {
    "duration": 32,
    "start_time": "2022-03-16T12:49:31.306Z"
   },
   {
    "duration": 27,
    "start_time": "2022-03-16T12:49:31.340Z"
   },
   {
    "duration": 21,
    "start_time": "2022-03-16T12:49:31.369Z"
   },
   {
    "duration": 42,
    "start_time": "2022-03-16T12:49:31.392Z"
   },
   {
    "duration": 9,
    "start_time": "2022-03-16T12:49:31.436Z"
   },
   {
    "duration": 29,
    "start_time": "2022-03-16T12:49:31.447Z"
   },
   {
    "duration": 18,
    "start_time": "2022-03-16T12:49:31.478Z"
   },
   {
    "duration": 11,
    "start_time": "2022-03-16T12:49:31.498Z"
   },
   {
    "duration": 10,
    "start_time": "2022-03-16T12:49:31.532Z"
   },
   {
    "duration": 20,
    "start_time": "2022-03-16T12:49:31.545Z"
   },
   {
    "duration": 23,
    "start_time": "2022-03-16T12:49:31.567Z"
   },
   {
    "duration": 9,
    "start_time": "2022-03-16T12:49:31.592Z"
   },
   {
    "duration": 14,
    "start_time": "2022-03-16T12:49:31.603Z"
   },
   {
    "duration": 26,
    "start_time": "2022-03-16T12:49:31.619Z"
   },
   {
    "duration": 10,
    "start_time": "2022-03-16T12:49:31.647Z"
   },
   {
    "duration": 13,
    "start_time": "2022-03-16T12:49:31.659Z"
   },
   {
    "duration": 11,
    "start_time": "2022-03-16T12:49:31.674Z"
   },
   {
    "duration": 24,
    "start_time": "2022-03-16T12:49:31.687Z"
   },
   {
    "duration": 31,
    "start_time": "2022-03-16T12:49:31.713Z"
   },
   {
    "duration": 12,
    "start_time": "2022-03-16T12:49:31.746Z"
   },
   {
    "duration": 25,
    "start_time": "2022-03-16T12:49:31.760Z"
   },
   {
    "duration": 3,
    "start_time": "2022-03-16T12:49:31.787Z"
   },
   {
    "duration": 46,
    "start_time": "2022-03-16T12:49:31.793Z"
   },
   {
    "duration": 10,
    "start_time": "2022-03-16T12:49:31.851Z"
   },
   {
    "duration": 6,
    "start_time": "2022-03-16T12:49:31.864Z"
   },
   {
    "duration": 36,
    "start_time": "2022-03-16T12:49:31.872Z"
   },
   {
    "duration": 42,
    "start_time": "2022-03-16T12:49:31.910Z"
   },
   {
    "duration": 6,
    "start_time": "2022-03-16T12:49:31.954Z"
   },
   {
    "duration": 33,
    "start_time": "2022-03-16T12:49:31.962Z"
   },
   {
    "duration": 29,
    "start_time": "2022-03-16T12:49:34.505Z"
   },
   {
    "duration": 370,
    "start_time": "2022-03-16T12:52:29.305Z"
   },
   {
    "duration": 263,
    "start_time": "2022-03-16T12:52:47.648Z"
   },
   {
    "duration": 257,
    "start_time": "2022-03-16T12:53:24.810Z"
   },
   {
    "duration": 264,
    "start_time": "2022-03-16T12:53:32.352Z"
   },
   {
    "duration": 7,
    "start_time": "2022-03-16T12:53:51.674Z"
   },
   {
    "duration": 3,
    "start_time": "2022-03-16T13:13:13.860Z"
   },
   {
    "duration": 89,
    "start_time": "2022-03-16T13:13:13.869Z"
   },
   {
    "duration": 12,
    "start_time": "2022-03-16T13:13:13.960Z"
   },
   {
    "duration": 28,
    "start_time": "2022-03-16T13:13:13.974Z"
   },
   {
    "duration": 33,
    "start_time": "2022-03-16T13:13:14.004Z"
   },
   {
    "duration": 115,
    "start_time": "2022-03-16T13:13:14.039Z"
   },
   {
    "duration": 11,
    "start_time": "2022-03-16T13:13:14.156Z"
   },
   {
    "duration": 36,
    "start_time": "2022-03-16T13:13:14.169Z"
   },
   {
    "duration": 45,
    "start_time": "2022-03-16T13:13:14.208Z"
   },
   {
    "duration": 29,
    "start_time": "2022-03-16T13:13:14.255Z"
   },
   {
    "duration": 37,
    "start_time": "2022-03-16T13:13:14.286Z"
   },
   {
    "duration": 31,
    "start_time": "2022-03-16T13:13:14.325Z"
   },
   {
    "duration": 28,
    "start_time": "2022-03-16T13:13:14.358Z"
   },
   {
    "duration": 27,
    "start_time": "2022-03-16T13:13:14.388Z"
   },
   {
    "duration": 40,
    "start_time": "2022-03-16T13:13:14.417Z"
   },
   {
    "duration": 259,
    "start_time": "2022-03-16T13:13:14.460Z"
   },
   {
    "duration": 15,
    "start_time": "2022-03-16T13:13:14.721Z"
   },
   {
    "duration": 26,
    "start_time": "2022-03-16T13:13:14.738Z"
   },
   {
    "duration": 34,
    "start_time": "2022-03-16T13:13:14.766Z"
   },
   {
    "duration": 44,
    "start_time": "2022-03-16T13:13:14.802Z"
   },
   {
    "duration": 37,
    "start_time": "2022-03-16T13:13:14.848Z"
   },
   {
    "duration": 21,
    "start_time": "2022-03-16T13:13:14.887Z"
   },
   {
    "duration": 28,
    "start_time": "2022-03-16T13:13:14.910Z"
   },
   {
    "duration": 7,
    "start_time": "2022-03-16T13:13:14.942Z"
   },
   {
    "duration": 31,
    "start_time": "2022-03-16T13:13:14.952Z"
   },
   {
    "duration": 47,
    "start_time": "2022-03-16T13:13:14.985Z"
   },
   {
    "duration": 49,
    "start_time": "2022-03-16T13:13:15.034Z"
   },
   {
    "duration": 11,
    "start_time": "2022-03-16T13:13:15.085Z"
   },
   {
    "duration": 8,
    "start_time": "2022-03-16T13:13:15.098Z"
   },
   {
    "duration": 17,
    "start_time": "2022-03-16T13:13:15.108Z"
   },
   {
    "duration": 9,
    "start_time": "2022-03-16T13:13:15.127Z"
   },
   {
    "duration": 10,
    "start_time": "2022-03-16T13:13:15.138Z"
   },
   {
    "duration": 22,
    "start_time": "2022-03-16T13:13:15.150Z"
   },
   {
    "duration": 14,
    "start_time": "2022-03-16T13:13:15.173Z"
   },
   {
    "duration": 17,
    "start_time": "2022-03-16T13:13:15.189Z"
   },
   {
    "duration": 27,
    "start_time": "2022-03-16T13:13:15.208Z"
   },
   {
    "duration": 45,
    "start_time": "2022-03-16T13:13:15.238Z"
   },
   {
    "duration": 14,
    "start_time": "2022-03-16T13:13:15.286Z"
   },
   {
    "duration": 5,
    "start_time": "2022-03-16T13:13:15.302Z"
   },
   {
    "duration": 32,
    "start_time": "2022-03-16T13:13:15.332Z"
   },
   {
    "duration": 3,
    "start_time": "2022-03-16T13:13:15.367Z"
   },
   {
    "duration": 26,
    "start_time": "2022-03-16T13:13:15.372Z"
   },
   {
    "duration": 9,
    "start_time": "2022-03-16T13:13:15.400Z"
   },
   {
    "duration": 26,
    "start_time": "2022-03-16T13:13:15.411Z"
   },
   {
    "duration": 47,
    "start_time": "2022-03-16T13:13:15.439Z"
   },
   {
    "duration": 27,
    "start_time": "2022-03-16T13:13:15.488Z"
   },
   {
    "duration": 16,
    "start_time": "2022-03-16T13:13:15.517Z"
   },
   {
    "duration": 27,
    "start_time": "2022-03-16T13:13:15.535Z"
   },
   {
    "duration": 28,
    "start_time": "2022-03-16T13:13:15.564Z"
   }
  ],
  "kernelspec": {
   "display_name": "Python 3 (ipykernel)",
   "language": "python",
   "name": "python3"
  },
  "language_info": {
   "codemirror_mode": {
    "name": "ipython",
    "version": 3
   },
   "file_extension": ".py",
   "mimetype": "text/x-python",
   "name": "python",
   "nbconvert_exporter": "python",
   "pygments_lexer": "ipython3",
   "version": "3.9.7"
  },
  "toc": {
   "base_numbering": 1,
   "nav_menu": {
    "height": "158px",
    "width": "534px"
   },
   "number_sections": true,
   "sideBar": true,
   "skip_h1_title": true,
   "title_cell": "Table of Contents",
   "title_sidebar": "Contents",
   "toc_cell": false,
   "toc_position": {
    "height": "calc(100% - 180px)",
    "left": "10px",
    "top": "150px",
    "width": "289.6px"
   },
   "toc_section_display": true,
   "toc_window_display": true
  }
 },
 "nbformat": 4,
 "nbformat_minor": 5
}
